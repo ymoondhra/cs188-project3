{
 "cells": [
  {
   "cell_type": "code",
   "execution_count": 184,
   "metadata": {},
   "outputs": [],
   "source": [
    "import numpy as np # linear algebra\n",
    "import pandas as pd # data processing, CSV file I/O (e.g. pd.read_csv)\n",
    "import matplotlib.pyplot as plt # this is used for the plot the graph \n",
    "from datetime import date\n",
    "import random\n",
    "\n",
    "from sklearn.decomposition import PCA\n",
    "from sklearn.experimental import enable_iterative_imputer\n",
    "from sklearn.impute import IterativeImputer\n",
    "from sklearn.impute import SimpleImputer\n",
    "from sklearn.compose import ColumnTransformer\n",
    "from sklearn.pipeline import Pipeline\n",
    "from sklearn.preprocessing import StandardScaler\n",
    "from sklearn.preprocessing import OneHotEncoder\n",
    "from sklearn.preprocessing import MultiLabelBinarizer\n",
    "from sklearn.model_selection import train_test_split\n",
    "from sklearn.svm import SVC\n",
    "from sklearn.metrics import roc_auc_score\n",
    "from sklearn.metrics import f1_score\n",
    "from sklearn.metrics import accuracy_score\n",
    "from imblearn.over_sampling import SMOTE\n",
    "\n",
    "import torch\n",
    "from torch import nn\n",
    "import torch.nn.functional as F\n",
    "from torchvision import transforms\n",
    "from torch.utils.data import TensorDataset, DataLoader\n",
    "\n",
    "import keras\n",
    "from keras.models import Sequential\n",
    "from keras.layers import Dense\n",
    "\n",
    "%matplotlib inline\n",
    "\n",
    "import random \n",
    "random.seed(42)"
   ]
  },
  {
   "cell_type": "code",
   "execution_count": 185,
   "metadata": {},
   "outputs": [],
   "source": [
    "csv_path_1 = \"training_dataset.csv\"\n",
    "csv_path_2 = \"score.csv\""
   ]
  },
  {
   "cell_type": "markdown",
   "metadata": {},
   "source": [
    "# 0. First, let's understand our data..."
   ]
  },
  {
   "cell_type": "code",
   "execution_count": 186,
   "metadata": {},
   "outputs": [
    {
     "data": {
      "text/html": [
       "<div>\n",
       "<style scoped>\n",
       "    .dataframe tbody tr th:only-of-type {\n",
       "        vertical-align: middle;\n",
       "    }\n",
       "\n",
       "    .dataframe tbody tr th {\n",
       "        vertical-align: top;\n",
       "    }\n",
       "\n",
       "    .dataframe thead th {\n",
       "        text-align: right;\n",
       "    }\n",
       "</style>\n",
       "<table border=\"1\" class=\"dataframe\">\n",
       "  <thead>\n",
       "    <tr style=\"text-align: right;\">\n",
       "      <th></th>\n",
       "      <th>dt</th>\n",
       "      <th>weekday</th>\n",
       "      <th>year</th>\n",
       "      <th>id_driver</th>\n",
       "      <th>id_carrier_number</th>\n",
       "      <th>dim_carrier_type</th>\n",
       "      <th>dim_carrier_company_name</th>\n",
       "      <th>home_base_city</th>\n",
       "      <th>home_base_state</th>\n",
       "      <th>carrier_trucks</th>\n",
       "      <th>...</th>\n",
       "      <th>most_recent_load_date</th>\n",
       "      <th>load_day</th>\n",
       "      <th>loads</th>\n",
       "      <th>marketplace_loads_otr</th>\n",
       "      <th>marketplace_loads_atlas</th>\n",
       "      <th>marketplace_loads</th>\n",
       "      <th>brokerage_loads_otr</th>\n",
       "      <th>brokerage_loads_atlas</th>\n",
       "      <th>brokerage_loads</th>\n",
       "      <th>total_loads</th>\n",
       "    </tr>\n",
       "  </thead>\n",
       "  <tbody>\n",
       "    <tr>\n",
       "      <th>0</th>\n",
       "      <td>2019-12-16</td>\n",
       "      <td>Monday</td>\n",
       "      <td>2019</td>\n",
       "      <td>21350</td>\n",
       "      <td>U0109015</td>\n",
       "      <td>Owner Operator</td>\n",
       "      <td>CA&amp;F TRUCKING</td>\n",
       "      <td>Maywood</td>\n",
       "      <td>CA</td>\n",
       "      <td>[\"poweronly\"]</td>\n",
       "      <td>...</td>\n",
       "      <td>2021-02-17</td>\n",
       "      <td>2019-12-16</td>\n",
       "      <td>2</td>\n",
       "      <td>0</td>\n",
       "      <td>438</td>\n",
       "      <td>438</td>\n",
       "      <td>0</td>\n",
       "      <td>45</td>\n",
       "      <td>45</td>\n",
       "      <td>483</td>\n",
       "    </tr>\n",
       "    <tr>\n",
       "      <th>1</th>\n",
       "      <td>2021-01-15</td>\n",
       "      <td>Friday</td>\n",
       "      <td>2021</td>\n",
       "      <td>36437</td>\n",
       "      <td>C0097727</td>\n",
       "      <td>Fleet</td>\n",
       "      <td>New opportunities inc</td>\n",
       "      <td>Los Angeles</td>\n",
       "      <td>CA</td>\n",
       "      <td>[\"poweronly\", \"boxtruck\"]</td>\n",
       "      <td>...</td>\n",
       "      <td>2021-02-03</td>\n",
       "      <td>2021-01-15</td>\n",
       "      <td>1</td>\n",
       "      <td>2</td>\n",
       "      <td>72</td>\n",
       "      <td>74</td>\n",
       "      <td>0</td>\n",
       "      <td>1</td>\n",
       "      <td>1</td>\n",
       "      <td>75</td>\n",
       "    </tr>\n",
       "    <tr>\n",
       "      <th>2</th>\n",
       "      <td>2019-12-26</td>\n",
       "      <td>Thursday</td>\n",
       "      <td>2019</td>\n",
       "      <td>19323</td>\n",
       "      <td>U0107081</td>\n",
       "      <td>Owner Operator</td>\n",
       "      <td>RAS</td>\n",
       "      <td>Compton</td>\n",
       "      <td>CA</td>\n",
       "      <td>[\"poweronly\"]</td>\n",
       "      <td>...</td>\n",
       "      <td>2020-09-25</td>\n",
       "      <td>2019-12-26</td>\n",
       "      <td>1</td>\n",
       "      <td>0</td>\n",
       "      <td>180</td>\n",
       "      <td>180</td>\n",
       "      <td>0</td>\n",
       "      <td>2</td>\n",
       "      <td>2</td>\n",
       "      <td>182</td>\n",
       "    </tr>\n",
       "    <tr>\n",
       "      <th>3</th>\n",
       "      <td>2021-02-10</td>\n",
       "      <td>Wednesday</td>\n",
       "      <td>2021</td>\n",
       "      <td>34809</td>\n",
       "      <td>C0094651</td>\n",
       "      <td>Fleet</td>\n",
       "      <td>NFS asset Drayage</td>\n",
       "      <td>Lynwood</td>\n",
       "      <td>CA</td>\n",
       "      <td>[\"poweronly\", \"dryvan\"]</td>\n",
       "      <td>...</td>\n",
       "      <td>2021-02-17</td>\n",
       "      <td>2021-02-10</td>\n",
       "      <td>3</td>\n",
       "      <td>0</td>\n",
       "      <td>0</td>\n",
       "      <td>0</td>\n",
       "      <td>0</td>\n",
       "      <td>0</td>\n",
       "      <td>0</td>\n",
       "      <td>62</td>\n",
       "    </tr>\n",
       "    <tr>\n",
       "      <th>4</th>\n",
       "      <td>2017-07-24</td>\n",
       "      <td>Monday</td>\n",
       "      <td>2017</td>\n",
       "      <td>4728</td>\n",
       "      <td>U0094376</td>\n",
       "      <td>Owner Operator</td>\n",
       "      <td>joes transportation</td>\n",
       "      <td>Norco</td>\n",
       "      <td>CA</td>\n",
       "      <td>[\"dryvan\"]</td>\n",
       "      <td>...</td>\n",
       "      <td>2017-10-11</td>\n",
       "      <td>2017-07-24</td>\n",
       "      <td>2</td>\n",
       "      <td>57</td>\n",
       "      <td>0</td>\n",
       "      <td>57</td>\n",
       "      <td>314</td>\n",
       "      <td>0</td>\n",
       "      <td>314</td>\n",
       "      <td>371</td>\n",
       "    </tr>\n",
       "  </tbody>\n",
       "</table>\n",
       "<p>5 rows × 30 columns</p>\n",
       "</div>"
      ],
      "text/plain": [
       "           dt    weekday  year  id_driver id_carrier_number dim_carrier_type  \\\n",
       "0  2019-12-16     Monday  2019      21350          U0109015   Owner Operator   \n",
       "1  2021-01-15     Friday  2021      36437          C0097727            Fleet   \n",
       "2  2019-12-26   Thursday  2019      19323          U0107081   Owner Operator   \n",
       "3  2021-02-10  Wednesday  2021      34809          C0094651            Fleet   \n",
       "4  2017-07-24     Monday  2017       4728          U0094376   Owner Operator   \n",
       "\n",
       "  dim_carrier_company_name home_base_city home_base_state  \\\n",
       "0            CA&F TRUCKING        Maywood              CA   \n",
       "1   New opportunities inc     Los Angeles              CA   \n",
       "2                      RAS        Compton              CA   \n",
       "3        NFS asset Drayage        Lynwood              CA   \n",
       "4      joes transportation          Norco              CA   \n",
       "\n",
       "              carrier_trucks  ...  most_recent_load_date    load_day loads  \\\n",
       "0              [\"poweronly\"]  ...             2021-02-17  2019-12-16     2   \n",
       "1  [\"poweronly\", \"boxtruck\"]  ...             2021-02-03  2021-01-15     1   \n",
       "2              [\"poweronly\"]  ...             2020-09-25  2019-12-26     1   \n",
       "3    [\"poweronly\", \"dryvan\"]  ...             2021-02-17  2021-02-10     3   \n",
       "4                 [\"dryvan\"]  ...             2017-10-11  2017-07-24     2   \n",
       "\n",
       "  marketplace_loads_otr marketplace_loads_atlas marketplace_loads  \\\n",
       "0                     0                     438               438   \n",
       "1                     2                      72                74   \n",
       "2                     0                     180               180   \n",
       "3                     0                       0                 0   \n",
       "4                    57                       0                57   \n",
       "\n",
       "   brokerage_loads_otr brokerage_loads_atlas brokerage_loads total_loads  \n",
       "0                    0                    45              45         483  \n",
       "1                    0                     1               1          75  \n",
       "2                    0                     2               2         182  \n",
       "3                    0                     0               0          62  \n",
       "4                  314                     0             314         371  \n",
       "\n",
       "[5 rows x 30 columns]"
      ]
     },
     "metadata": {},
     "output_type": "display_data"
    }
   ],
   "source": [
    "df = pd.read_csv(csv_path_1) # load the pandas dataframe\n",
    "df_score = pd.read_csv(csv_path_2)\n",
    "initial_cols_to_drop = [\"Unnamed: 0\",\"Unnamed: 0.1\", \"period\", \"test\", \"recent_date\", \"date\"] \n",
    "for col_name in initial_cols_to_drop: # drops columns that aren't supposed to be in dataset\n",
    "    try:\n",
    "        df = df.drop(columns=[col_name])\n",
    "        df_score = df_score.drop(columns=[col_name])\n",
    "    except:\n",
    "        continue\n",
    "#df = df.rename(columns={\"Unnamed: 0.1\": \"TODO_FIND_COLUMN_NAME_2\"})\n",
    "display(df.head())"
   ]
  },
  {
   "cell_type": "code",
   "execution_count": 187,
   "metadata": {},
   "outputs": [
    {
     "data": {
      "text/html": [
       "<div>\n",
       "<style scoped>\n",
       "    .dataframe tbody tr th:only-of-type {\n",
       "        vertical-align: middle;\n",
       "    }\n",
       "\n",
       "    .dataframe tbody tr th {\n",
       "        vertical-align: top;\n",
       "    }\n",
       "\n",
       "    .dataframe thead th {\n",
       "        text-align: right;\n",
       "    }\n",
       "</style>\n",
       "<table border=\"1\" class=\"dataframe\">\n",
       "  <thead>\n",
       "    <tr style=\"text-align: right;\">\n",
       "      <th></th>\n",
       "      <th>year</th>\n",
       "      <th>id_driver</th>\n",
       "      <th>num_trucks</th>\n",
       "      <th>days_signup_to_approval</th>\n",
       "      <th>loads</th>\n",
       "      <th>marketplace_loads_otr</th>\n",
       "      <th>marketplace_loads_atlas</th>\n",
       "      <th>marketplace_loads</th>\n",
       "      <th>brokerage_loads_otr</th>\n",
       "      <th>brokerage_loads_atlas</th>\n",
       "      <th>brokerage_loads</th>\n",
       "      <th>total_loads</th>\n",
       "    </tr>\n",
       "  </thead>\n",
       "  <tbody>\n",
       "    <tr>\n",
       "      <th>count</th>\n",
       "      <td>83414.000000</td>\n",
       "      <td>83414.000000</td>\n",
       "      <td>83344.000000</td>\n",
       "      <td>71124.000000</td>\n",
       "      <td>83414.000000</td>\n",
       "      <td>83414.000000</td>\n",
       "      <td>83414.000000</td>\n",
       "      <td>83414.000000</td>\n",
       "      <td>83414.000000</td>\n",
       "      <td>83414.000000</td>\n",
       "      <td>83414.000000</td>\n",
       "      <td>83414.000000</td>\n",
       "    </tr>\n",
       "    <tr>\n",
       "      <th>mean</th>\n",
       "      <td>2018.960930</td>\n",
       "      <td>18222.414954</td>\n",
       "      <td>22.582921</td>\n",
       "      <td>298.752489</td>\n",
       "      <td>2.076270</td>\n",
       "      <td>29.477762</td>\n",
       "      <td>71.579675</td>\n",
       "      <td>101.057436</td>\n",
       "      <td>148.258422</td>\n",
       "      <td>13.073021</td>\n",
       "      <td>161.331443</td>\n",
       "      <td>266.502661</td>\n",
       "    </tr>\n",
       "    <tr>\n",
       "      <th>std</th>\n",
       "      <td>1.359343</td>\n",
       "      <td>11667.704926</td>\n",
       "      <td>48.829719</td>\n",
       "      <td>390.345107</td>\n",
       "      <td>2.672163</td>\n",
       "      <td>88.171940</td>\n",
       "      <td>194.532776</td>\n",
       "      <td>214.502147</td>\n",
       "      <td>415.978060</td>\n",
       "      <td>42.241592</td>\n",
       "      <td>413.792137</td>\n",
       "      <td>448.806175</td>\n",
       "    </tr>\n",
       "    <tr>\n",
       "      <th>min</th>\n",
       "      <td>2015.000000</td>\n",
       "      <td>20.000000</td>\n",
       "      <td>1.000000</td>\n",
       "      <td>0.000000</td>\n",
       "      <td>1.000000</td>\n",
       "      <td>0.000000</td>\n",
       "      <td>0.000000</td>\n",
       "      <td>0.000000</td>\n",
       "      <td>0.000000</td>\n",
       "      <td>0.000000</td>\n",
       "      <td>0.000000</td>\n",
       "      <td>1.000000</td>\n",
       "    </tr>\n",
       "    <tr>\n",
       "      <th>25%</th>\n",
       "      <td>2018.000000</td>\n",
       "      <td>7890.000000</td>\n",
       "      <td>1.000000</td>\n",
       "      <td>0.000000</td>\n",
       "      <td>1.000000</td>\n",
       "      <td>0.000000</td>\n",
       "      <td>0.000000</td>\n",
       "      <td>0.000000</td>\n",
       "      <td>0.000000</td>\n",
       "      <td>0.000000</td>\n",
       "      <td>5.000000</td>\n",
       "      <td>37.000000</td>\n",
       "    </tr>\n",
       "    <tr>\n",
       "      <th>50%</th>\n",
       "      <td>2019.000000</td>\n",
       "      <td>16299.000000</td>\n",
       "      <td>4.000000</td>\n",
       "      <td>61.000000</td>\n",
       "      <td>1.000000</td>\n",
       "      <td>2.000000</td>\n",
       "      <td>0.000000</td>\n",
       "      <td>13.000000</td>\n",
       "      <td>15.000000</td>\n",
       "      <td>0.000000</td>\n",
       "      <td>37.000000</td>\n",
       "      <td>110.000000</td>\n",
       "    </tr>\n",
       "    <tr>\n",
       "      <th>75%</th>\n",
       "      <td>2020.000000</td>\n",
       "      <td>28974.000000</td>\n",
       "      <td>14.000000</td>\n",
       "      <td>497.000000</td>\n",
       "      <td>2.000000</td>\n",
       "      <td>23.000000</td>\n",
       "      <td>18.000000</td>\n",
       "      <td>94.000000</td>\n",
       "      <td>112.000000</td>\n",
       "      <td>1.000000</td>\n",
       "      <td>135.000000</td>\n",
       "      <td>325.000000</td>\n",
       "    </tr>\n",
       "    <tr>\n",
       "      <th>max</th>\n",
       "      <td>2021.000000</td>\n",
       "      <td>38125.000000</td>\n",
       "      <td>195.000000</td>\n",
       "      <td>1653.000000</td>\n",
       "      <td>129.000000</td>\n",
       "      <td>902.000000</td>\n",
       "      <td>1324.000000</td>\n",
       "      <td>1348.000000</td>\n",
       "      <td>4266.000000</td>\n",
       "      <td>371.000000</td>\n",
       "      <td>4266.000000</td>\n",
       "      <td>4266.000000</td>\n",
       "    </tr>\n",
       "  </tbody>\n",
       "</table>\n",
       "</div>"
      ],
      "text/plain": [
       "               year     id_driver    num_trucks  days_signup_to_approval  \\\n",
       "count  83414.000000  83414.000000  83344.000000             71124.000000   \n",
       "mean    2018.960930  18222.414954     22.582921               298.752489   \n",
       "std        1.359343  11667.704926     48.829719               390.345107   \n",
       "min     2015.000000     20.000000      1.000000                 0.000000   \n",
       "25%     2018.000000   7890.000000      1.000000                 0.000000   \n",
       "50%     2019.000000  16299.000000      4.000000                61.000000   \n",
       "75%     2020.000000  28974.000000     14.000000               497.000000   \n",
       "max     2021.000000  38125.000000    195.000000              1653.000000   \n",
       "\n",
       "              loads  marketplace_loads_otr  marketplace_loads_atlas  \\\n",
       "count  83414.000000           83414.000000             83414.000000   \n",
       "mean       2.076270              29.477762                71.579675   \n",
       "std        2.672163              88.171940               194.532776   \n",
       "min        1.000000               0.000000                 0.000000   \n",
       "25%        1.000000               0.000000                 0.000000   \n",
       "50%        1.000000               2.000000                 0.000000   \n",
       "75%        2.000000              23.000000                18.000000   \n",
       "max      129.000000             902.000000              1324.000000   \n",
       "\n",
       "       marketplace_loads  brokerage_loads_otr  brokerage_loads_atlas  \\\n",
       "count       83414.000000         83414.000000           83414.000000   \n",
       "mean          101.057436           148.258422              13.073021   \n",
       "std           214.502147           415.978060              42.241592   \n",
       "min             0.000000             0.000000               0.000000   \n",
       "25%             0.000000             0.000000               0.000000   \n",
       "50%            13.000000            15.000000               0.000000   \n",
       "75%            94.000000           112.000000               1.000000   \n",
       "max          1348.000000          4266.000000             371.000000   \n",
       "\n",
       "       brokerage_loads   total_loads  \n",
       "count     83414.000000  83414.000000  \n",
       "mean        161.331443    266.502661  \n",
       "std         413.792137    448.806175  \n",
       "min           0.000000      1.000000  \n",
       "25%           5.000000     37.000000  \n",
       "50%          37.000000    110.000000  \n",
       "75%         135.000000    325.000000  \n",
       "max        4266.000000   4266.000000  "
      ]
     },
     "execution_count": 187,
     "metadata": {},
     "output_type": "execute_result"
    }
   ],
   "source": [
    "df.describe()"
   ]
  },
  {
   "cell_type": "code",
   "execution_count": 188,
   "metadata": {},
   "outputs": [
    {
     "name": "stdout",
     "output_type": "stream",
     "text": [
      "<class 'pandas.core.frame.DataFrame'>\n",
      "RangeIndex: 83414 entries, 0 to 83413\n",
      "Data columns (total 30 columns):\n",
      " #   Column                    Non-Null Count  Dtype  \n",
      "---  ------                    --------------  -----  \n",
      " 0   dt                        83414 non-null  object \n",
      " 1   weekday                   83414 non-null  object \n",
      " 2   year                      83414 non-null  int64  \n",
      " 3   id_driver                 83414 non-null  int64  \n",
      " 4   id_carrier_number         83414 non-null  object \n",
      " 5   dim_carrier_type          83414 non-null  object \n",
      " 6   dim_carrier_company_name  83365 non-null  object \n",
      " 7   home_base_city            83369 non-null  object \n",
      " 8   home_base_state           83369 non-null  object \n",
      " 9   carrier_trucks            83414 non-null  object \n",
      " 10  num_trucks                83344 non-null  float64\n",
      " 11  interested_in_drayage     83414 non-null  object \n",
      " 12  port_qualified            83414 non-null  object \n",
      " 13  signup_source             83414 non-null  object \n",
      " 14  ts_signup                 83414 non-null  object \n",
      " 15  ts_first_approved         71124 non-null  object \n",
      " 16  days_signup_to_approval   71124 non-null  float64\n",
      " 17  driver_with_twic          83414 non-null  object \n",
      " 18  dim_preferred_lanes       3412 non-null   object \n",
      " 19  first_load_date           83414 non-null  object \n",
      " 20  most_recent_load_date     83414 non-null  object \n",
      " 21  load_day                  83414 non-null  object \n",
      " 22  loads                     83414 non-null  int64  \n",
      " 23  marketplace_loads_otr     83414 non-null  int64  \n",
      " 24  marketplace_loads_atlas   83414 non-null  int64  \n",
      " 25  marketplace_loads         83414 non-null  int64  \n",
      " 26  brokerage_loads_otr       83414 non-null  int64  \n",
      " 27  brokerage_loads_atlas     83414 non-null  int64  \n",
      " 28  brokerage_loads           83414 non-null  int64  \n",
      " 29  total_loads               83414 non-null  int64  \n",
      "dtypes: float64(2), int64(10), object(18)\n",
      "memory usage: 19.1+ MB\n"
     ]
    }
   ],
   "source": [
    "df.info()"
   ]
  },
  {
   "cell_type": "markdown",
   "metadata": {},
   "source": [
    "# 1. Generate Labels"
   ]
  },
  {
   "cell_type": "code",
   "execution_count": 189,
   "metadata": {},
   "outputs": [],
   "source": [
    "# converts date from csv to a python datetime object making it easier to work with\n",
    "def convert_dates(df):\n",
    "    dates_columns = ['most_recent_load_date', 'first_load_date', 'load_day', 'dt']\n",
    "    for col_name in dates_columns:\n",
    "        try:\n",
    "            df[col_name] = pd.to_datetime(df[col_name], format='%Y-%m-%d')\n",
    "        except:\n",
    "            continue\n",
    "\n",
    "convert_dates(df)\n",
    "convert_dates(df_score)"
   ]
  },
  {
   "cell_type": "code",
   "execution_count": 190,
   "metadata": {},
   "outputs": [
    {
     "data": {
      "text/plain": [
       "0   2021-02-17\n",
       "1   2021-02-03\n",
       "2   2020-09-25\n",
       "3   2021-02-17\n",
       "4   2017-10-11\n",
       "Name: most_recent_load_date, dtype: datetime64[ns]"
      ]
     },
     "execution_count": 190,
     "metadata": {},
     "output_type": "execute_result"
    }
   ],
   "source": [
    "df['most_recent_load_date'].head()"
   ]
  },
  {
   "cell_type": "code",
   "execution_count": 191,
   "metadata": {},
   "outputs": [
    {
     "name": "stdout",
     "output_type": "stream",
     "text": [
      "325.0\n",
      "2021-02-14 00:00:00\n"
     ]
    }
   ],
   "source": [
    "total_loads75 = df.total_loads.quantile(0.75) # finds 75th percentile of loads\n",
    "most_recent_load_date75 = df.most_recent_load_date.quantile(0.75) # finds 75th percentile of most recent load date\n",
    "\n",
    "print(total_loads75)\n",
    "print(most_recent_load_date75)\n",
    "\n",
    "\n",
    "# Manual Check\n",
    "# sorted_dts = sorted(list(df.most_recent_load_date))\n",
    "# quartile_estimate_index = int(len(sorted_dts)*0.75)\n",
    "# print(\"SORTED INDEX\", sorted_dts[quartile_estimate_index])"
   ]
  },
  {
   "cell_type": "code",
   "execution_count": 192,
   "metadata": {},
   "outputs": [],
   "source": [
    "# new_labels = {\"label\": {}}\n",
    "num_days_worked_dict = {}\n",
    "\n",
    "for index, row in df.iterrows(): # changes the labels in the label columns\n",
    "    # checks if the load and most recent load date are in the 75th percentile\n",
    "    if row[\"total_loads\"] >= total_loads75 and row[\"most_recent_load_date\"] >= most_recent_load_date75:\n",
    "        df.at[index, \"label\"] = 1\n",
    "    else:\n",
    "        df.at[index, \"label\"] = 0"
   ]
  },
  {
   "cell_type": "code",
   "execution_count": 193,
   "metadata": {},
   "outputs": [
    {
     "name": "stdout",
     "output_type": "stream",
     "text": [
      "Unique Values :  [0. 1.]\n",
      "Occurrence Count :  [73021 10393]\n"
     ]
    }
   ],
   "source": [
    "uniqueValues, occurCount = np.unique(np.array(df[\"label\"]), return_counts=True)\n",
    "print(\"Unique Values : \" , uniqueValues)\n",
    "print(\"Occurrence Count : \", occurCount)"
   ]
  },
  {
   "cell_type": "code",
   "execution_count": 194,
   "metadata": {},
   "outputs": [],
   "source": [
    "loc_arr = []\n",
    "for index, row in df.iterrows():\n",
    "    if pd.isnull(row[\"home_base_city\"]) != True and pd.isnull(row[\"home_base_state\"]) != True:\n",
    "        if (row[\"home_base_city\"], row[\"home_base_state\"]) not in loc_arr:\n",
    "            loc_arr.append((row[\"home_base_city\"], row[\"home_base_state\"]))\n",
    "            \n",
    "# for index, row in df.iterrows():\n",
    "#     try:\n",
    "#         x = len(row[\"home_base_city\"])\n",
    "#         x = len(row[\"home_base_state\"])\n",
    "#     except:\n",
    "#         index_num = random.randint(0, len(loc_arr)-1)\n",
    "#         df.at[index, \"home_base_city\"] = loc_arr[index_num][0]\n",
    "#         df.at[index, \"home_base_state\"] = loc_arr[index_num][1]"
   ]
  },
  {
   "cell_type": "code",
   "execution_count": 195,
   "metadata": {},
   "outputs": [
    {
     "name": "stdout",
     "output_type": "stream",
     "text": [
      "<class 'pandas.core.frame.DataFrame'>\n",
      "RangeIndex: 83414 entries, 0 to 83413\n",
      "Data columns (total 31 columns):\n",
      " #   Column                    Non-Null Count  Dtype         \n",
      "---  ------                    --------------  -----         \n",
      " 0   dt                        83414 non-null  datetime64[ns]\n",
      " 1   weekday                   83414 non-null  object        \n",
      " 2   year                      83414 non-null  int64         \n",
      " 3   id_driver                 83414 non-null  int64         \n",
      " 4   id_carrier_number         83414 non-null  object        \n",
      " 5   dim_carrier_type          83414 non-null  object        \n",
      " 6   dim_carrier_company_name  83365 non-null  object        \n",
      " 7   home_base_city            83369 non-null  object        \n",
      " 8   home_base_state           83369 non-null  object        \n",
      " 9   carrier_trucks            83414 non-null  object        \n",
      " 10  num_trucks                83344 non-null  float64       \n",
      " 11  interested_in_drayage     83414 non-null  object        \n",
      " 12  port_qualified            83414 non-null  object        \n",
      " 13  signup_source             83414 non-null  object        \n",
      " 14  ts_signup                 83414 non-null  object        \n",
      " 15  ts_first_approved         71124 non-null  object        \n",
      " 16  days_signup_to_approval   71124 non-null  float64       \n",
      " 17  driver_with_twic          83414 non-null  object        \n",
      " 18  dim_preferred_lanes       3412 non-null   object        \n",
      " 19  first_load_date           83414 non-null  datetime64[ns]\n",
      " 20  most_recent_load_date     83414 non-null  datetime64[ns]\n",
      " 21  load_day                  83414 non-null  datetime64[ns]\n",
      " 22  loads                     83414 non-null  int64         \n",
      " 23  marketplace_loads_otr     83414 non-null  int64         \n",
      " 24  marketplace_loads_atlas   83414 non-null  int64         \n",
      " 25  marketplace_loads         83414 non-null  int64         \n",
      " 26  brokerage_loads_otr       83414 non-null  int64         \n",
      " 27  brokerage_loads_atlas     83414 non-null  int64         \n",
      " 28  brokerage_loads           83414 non-null  int64         \n",
      " 29  total_loads               83414 non-null  int64         \n",
      " 30  label                     83414 non-null  float64       \n",
      "dtypes: datetime64[ns](4), float64(3), int64(10), object(14)\n",
      "memory usage: 19.7+ MB\n"
     ]
    }
   ],
   "source": [
    "df.info()"
   ]
  },
  {
   "cell_type": "code",
   "execution_count": 196,
   "metadata": {},
   "outputs": [],
   "source": [
    "groups = df.groupby(\"id_driver\")"
   ]
  },
  {
   "cell_type": "code",
   "execution_count": 197,
   "metadata": {},
   "outputs": [],
   "source": [
    "# NO: dt, weekday, year, id_carrier_number, dim_preferred_lanes, load_day, loads\n",
    "new_arr = []\n",
    "for key, group in groups:\n",
    "    group.sort_values(by=\"load_day\", ascending=False, inplace=True)\n",
    "    temp_arr = []\n",
    "    temp_arr.append(key)\n",
    "    \n",
    "    if group[\"dim_carrier_type\"].nunique() == 2:\n",
    "        temp_arr.append(\"Both\")\n",
    "    elif group[\"dim_carrier_type\"].nunique() == 0:\n",
    "        temp_arr.append(None)\n",
    "    else:\n",
    "        temp_arr.append((group[\"dim_carrier_type\"].iloc[0]))\n",
    "    \n",
    "    \n",
    "    idxmax_cols = [\"dim_carrier_company_name\", \n",
    "                   \"carrier_trucks\", \"signup_source\", \"ts_signup\", \"ts_first_approved\",\n",
    "                  \"days_signup_to_approval\"] #\"home_base_city\", \"home_base_state\",\n",
    "    \n",
    "    for col in idxmax_cols:\n",
    "        try:\n",
    "            temp_arr.append(group[col].value_counts().dropna(how=\"any\").idxmax())\n",
    "        except:\n",
    "            \n",
    "            temp_arr.append(None)\n",
    "    \n",
    "    try:\n",
    "        x = len(group[\"home_base_city\"].dropna(how=\"any\").iloc[0])\n",
    "        x = len(group[\"home_base_state\"].dropna(how=\"any\").iloc[0])\n",
    "        temp_arr.append(group[\"home_base_city\"].dropna(how=\"any\").iloc[0])\n",
    "        temp_arr.append(group[\"home_base_state\"].dropna(how=\"any\").iloc[0])\n",
    "    except:\n",
    "        index_num = random.randint(0, len(loc_arr)-1)\n",
    "        temp_arr.append(loc_arr[index_num][0])\n",
    "        temp_arr.append(loc_arr[index_num][1])\n",
    "        \n",
    "    \n",
    "    \n",
    "    try:\n",
    "        temp_arr.append(group[\"num_trucks\"].dropna(how=\"any\").mean())\n",
    "    except:\n",
    "        temp_arr.append(None)\n",
    "        \n",
    "    iloc_cols = [\"interested_in_drayage\", \"port_qualified\", \"driver_with_twic\", \n",
    "                 \"first_load_date\", \"most_recent_load_date\", \"marketplace_loads_otr\", \n",
    "                 \"marketplace_loads_atlas\", \"marketplace_loads\", \"brokerage_loads_otr\",\n",
    "                 \"brokerage_loads_atlas\", \"brokerage_loads\", \"total_loads\"]\n",
    "    for col in iloc_cols:\n",
    "        try:\n",
    "            temp_arr.append(group[col].dropna(how=\"any\").iloc[0])\n",
    "        except:\n",
    "            temp_arr.append(None)\n",
    "    \n",
    "    temp_arr.append(group.shape[0])\n",
    "    \n",
    "    temp_arr.append(((pd.to_datetime(date.today()) - group[\"most_recent_load_date\"].dropna(how=\"any\").iloc[0]).days) * (-1))\n",
    "    \n",
    "    temp_arr.append(group[\"label\"].value_counts().dropna(how=\"any\").idxmax())\n",
    "    \n",
    "    new_arr.append(np.array(temp_arr))"
   ]
  },
  {
   "cell_type": "code",
   "execution_count": 198,
   "metadata": {},
   "outputs": [],
   "source": [
    "column_names = [\"id_driver\", \"dim_carrier_type\", \"dim_carrier_company_name\", \n",
    "                \"carrier_trucks\", \"signup_source\", \"ts_signup\", \"ts_first_approved\",\n",
    "                \"days_signup_to_approval\", \"home_base_city\", \"home_base_state\", \"num_trucks\", \n",
    "                \"interested_in_drayage\", \"port_qualified\", \"driver_with_twic\", \n",
    "                \"first_load_date\", \"most_recent_load_date\", \"marketplace_loads_otr\", \n",
    "                \"marketplace_loads_atlas\", \"marketplace_loads\", \"brokerage_loads_otr\",\n",
    "                \"brokerage_loads_atlas\", \"brokerage_loads\", \"total_loads\", \"num_trips_made\", \n",
    "                \"days_since_last_load\", \"label\"]\n",
    "\n",
    "df = pd.DataFrame(np.array(new_arr), columns=column_names)"
   ]
  },
  {
   "cell_type": "code",
   "execution_count": 199,
   "metadata": {},
   "outputs": [],
   "source": [
    "# convert = [\"id_driver\", \"days_signup_to_approval\", \"marketplace_loads_otr\", \n",
    "#                \"marketplace_loads_atlas\", \"marketplace_loads\", \"brokerage_loads_otr\",\n",
    "#                \"brokerage_loads_atlas\", \"brokerage_loads\", \"total_loads\", \"num_trips_made\", \"label\",\n",
    "#                \"num_trucks\", \"dim_carrier_type\", \"dim_carrier_company_name\", \"home_base_city\", \"home_base_state\",\n",
    "#                \"interested_in_drayage\", \"port_qualified\", \"signup_source\", \"driver_with_twic\"]\n",
    "for col in column_names:\n",
    "    try:\n",
    "        df[col] = df[col].convert_dtypes()\n",
    "    except:\n",
    "        continue"
   ]
  },
  {
   "cell_type": "code",
   "execution_count": 200,
   "metadata": {},
   "outputs": [],
   "source": [
    "# # NO: dt, weekday, year, id_carrier_number, dim_preferred_lanes, load_day, loads\n",
    "new_dict = {}\n",
    "label_dict = {}\n",
    "most_recent_date_arr = []\n",
    "num_trips_arr = []\n",
    "for key, group in groups:\n",
    "    group.sort_values(by=\"load_day\", ascending=False, inplace=True)\n",
    "    if key not in new_dict:\n",
    "        try:\n",
    "            new_dict[key] = (group[\"load_day\"].dropna(how=\"any\").iloc[0], group.shape[0])\n",
    "        except:\n",
    "            new_dict[key] = None\n",
    "        \n",
    "        try:\n",
    "            label_dict[key] = group[\"label\"].dropna(how=\"any\").iloc[0]\n",
    "        except:\n",
    "            label_dict[key] = 1\n",
    "\n",
    "# for index, row in df.iterrows():\n",
    "#     most_recent_date_arr.append(new_dict[row[\"id_driver\"]][0])\n",
    "#     num_trips_arr.append(new_dict[row[\"id_driver\"]][1])\n",
    "# df[\"num_trips_made\"] = np.array(num_trips_arr)"
   ]
  },
  {
   "cell_type": "code",
   "execution_count": 201,
   "metadata": {},
   "outputs": [
    {
     "name": "stdout",
     "output_type": "stream",
     "text": [
      "<class 'pandas.core.frame.DataFrame'>\n",
      "RangeIndex: 5291 entries, 0 to 5290\n",
      "Data columns (total 26 columns):\n",
      " #   Column                    Non-Null Count  Dtype         \n",
      "---  ------                    --------------  -----         \n",
      " 0   id_driver                 5291 non-null   Int64         \n",
      " 1   dim_carrier_type          5291 non-null   string        \n",
      " 2   dim_carrier_company_name  5284 non-null   string        \n",
      " 3   carrier_trucks            5291 non-null   string        \n",
      " 4   signup_source             5291 non-null   string        \n",
      " 5   ts_signup                 5291 non-null   string        \n",
      " 6   ts_first_approved         3962 non-null   string        \n",
      " 7   days_signup_to_approval   3962 non-null   Int64         \n",
      " 8   home_base_city            5291 non-null   string        \n",
      " 9   home_base_state           5291 non-null   string        \n",
      " 10  num_trucks                5249 non-null   float64       \n",
      " 11  interested_in_drayage     5291 non-null   string        \n",
      " 12  port_qualified            5291 non-null   string        \n",
      " 13  driver_with_twic          5291 non-null   string        \n",
      " 14  first_load_date           5291 non-null   datetime64[ns]\n",
      " 15  most_recent_load_date     5291 non-null   datetime64[ns]\n",
      " 16  marketplace_loads_otr     5291 non-null   Int64         \n",
      " 17  marketplace_loads_atlas   5291 non-null   Int64         \n",
      " 18  marketplace_loads         5291 non-null   Int64         \n",
      " 19  brokerage_loads_otr       5291 non-null   Int64         \n",
      " 20  brokerage_loads_atlas     5291 non-null   Int64         \n",
      " 21  brokerage_loads           5291 non-null   Int64         \n",
      " 22  total_loads               5291 non-null   Int64         \n",
      " 23  num_trips_made            5291 non-null   Int64         \n",
      " 24  days_since_last_load      5291 non-null   Int64         \n",
      " 25  label                     5291 non-null   Int64         \n",
      "dtypes: Int64(12), datetime64[ns](2), float64(1), string(11)\n",
      "memory usage: 1.1 MB\n"
     ]
    }
   ],
   "source": [
    "df.info()"
   ]
  },
  {
   "cell_type": "code",
   "execution_count": 202,
   "metadata": {},
   "outputs": [
    {
     "data": {
      "text/plain": [
       "count    5291.000000\n",
       "mean        0.010395\n",
       "std         0.101434\n",
       "min         0.000000\n",
       "25%         0.000000\n",
       "50%         0.000000\n",
       "75%         0.000000\n",
       "max         1.000000\n",
       "Name: label, dtype: float64"
      ]
     },
     "execution_count": 202,
     "metadata": {},
     "output_type": "execute_result"
    }
   ],
   "source": [
    "df[\"label\"].describe()"
   ]
  },
  {
   "cell_type": "code",
   "execution_count": 203,
   "metadata": {},
   "outputs": [],
   "source": [
    "groups = df_score.groupby(\"id_driver\")"
   ]
  },
  {
   "cell_type": "code",
   "execution_count": 204,
   "metadata": {},
   "outputs": [],
   "source": [
    "# # NO: dt, weekday, year, id_carrier_number, dim_preferred_lanes, load_day, loads\n",
    "# new_arr = []\n",
    "# for key, group in groups:\n",
    "#     group.sort_values(by=\"load_day\", ascending=False, inplace=True)\n",
    "#     temp_arr = []\n",
    "#     temp_arr.append(key)\n",
    "    \n",
    "#     if group[\"dim_carrier_type\"].nunique() == 2:\n",
    "#         temp_arr.append(\"Both\")\n",
    "#     elif group[\"dim_carrier_type\"].nunique() == 0:\n",
    "#         temp_arr.append(None)\n",
    "#     else:\n",
    "#         temp_arr.append((group[\"dim_carrier_type\"].iloc[0]))\n",
    "    \n",
    "    \n",
    "#     idxmax_cols = [\"dim_carrier_company_name\", \n",
    "#                    \"carrier_trucks\", \"signup_source\", \"ts_signup\", \"ts_first_approved\",\n",
    "#                   \"days_signup_to_approval\"]\n",
    "    \n",
    "#     for col in idxmax_cols:\n",
    "#         try:\n",
    "#             temp_arr.append(group[col].value_counts().dropna(how=\"any\").idxmax())\n",
    "#         except:\n",
    "#             temp_arr.append(None)\n",
    "            \n",
    "    \n",
    "#     try:\n",
    "#         x = len(group[\"home_base_city\"].dropna(how=\"any\").iloc[0])\n",
    "#         x = len(group[\"home_base_state\"].dropna(how=\"any\").iloc[0])\n",
    "#         temp_arr.append(group[\"home_base_city\"].dropna(how=\"any\").iloc[0])\n",
    "#         temp_arr.append(group[\"home_base_state\"].dropna(how=\"any\").iloc[0])\n",
    "#     except:\n",
    "#         index_num = random.randint(0, len(loc_arr)-1)\n",
    "#         temp_arr.append(loc_arr[index_num][0])\n",
    "#         temp_arr.append(loc_arr[index_num][1])\n",
    "    \n",
    "    \n",
    "#     try:\n",
    "#         temp_arr.append(group[\"num_trucks\"].dropna(how=\"any\").mean())\n",
    "#     except:\n",
    "#         temp_arr.append(None)\n",
    "        \n",
    "#     iloc_cols = [\"interested_in_drayage\", \"port_qualified\", \"driver_with_twic\", \n",
    "#                  \"first_load_date\", \"load_day\", \"marketplace_loads_otr\", \n",
    "#                  \"marketplace_loads_atlas\", \"marketplace_loads\", \"brokerage_loads_otr\",\n",
    "#                  \"brokerage_loads_atlas\", \"brokerage_loads\"]\n",
    "#     for col in iloc_cols:\n",
    "#         try:\n",
    "#             temp_arr.append(group[col].dropna(how=\"any\").iloc[0])\n",
    "#         except:\n",
    "#             temp_arr.append(None)\n",
    "            \n",
    "#     temp_arr.append(group.shape[0])\n",
    "    \n",
    "#     temp_arr.append(((pd.to_datetime(date.today()) - group[\"load_day\"].dropna(how=\"any\").iloc[0]).days) * (-1))\n",
    "    \n",
    "#     new_arr.append(np.array(temp_arr))"
   ]
  },
  {
   "cell_type": "code",
   "execution_count": 205,
   "metadata": {},
   "outputs": [],
   "source": [
    "# column_names = [\"id_driver\", \"dim_carrier_type\", \"dim_carrier_company_name\", \n",
    "#                 \"carrier_trucks\", \"signup_source\", \"ts_signup\", \"ts_first_approved\",\n",
    "#                 \"days_signup_to_approval\", \"home_base_city\", \"home_base_state\", \"num_trucks\", \n",
    "#                 \"interested_in_drayage\", \"port_qualified\", \"driver_with_twic\", \n",
    "#                 \"first_load_date\", \"most_recent_load_date\", \"marketplace_loads_otr\", \n",
    "#                 \"marketplace_loads_atlas\", \"marketplace_loads\", \"brokerage_loads_otr\",\n",
    "#                 \"brokerage_loads_atlas\", \"brokerage_loads\", \"num_trips_made\", \n",
    "#                 \"days_since_last_load\"]\n",
    "\n",
    "# df_score = pd.DataFrame(np.array(new_arr), columns=column_names)"
   ]
  },
  {
   "cell_type": "code",
   "execution_count": 206,
   "metadata": {},
   "outputs": [],
   "source": [
    "# convert = [\"id_driver\", \"days_signup_to_approval\", \"marketplace_loads_otr\", \n",
    "#                \"marketplace_loads_atlas\", \"marketplace_loads\", \"brokerage_loads_otr\",\n",
    "#                \"brokerage_loads_atlas\", \"brokerage_loads\", \"num_trips_made\",\n",
    "#                \"num_trucks\", \"dim_carrier_type\", \"dim_carrier_company_name\", \"home_base_city\", \"home_base_state\",\n",
    "#                \"interested_in_drayage\", \"port_qualified\", \"signup_source\", \"driver_with_twic\"]\n",
    "# for col in column_names:\n",
    "#     try:\n",
    "#         df_score[col] = df_score[col].convert_dtypes()\n",
    "#     except:\n",
    "#         continue"
   ]
  },
  {
   "cell_type": "code",
   "execution_count": 207,
   "metadata": {},
   "outputs": [
    {
     "name": "stdout",
     "output_type": "stream",
     "text": [
      "Not here:  13711\n",
      "Not here:  31557\n",
      "Not here:  16642\n",
      "Not here:  13761\n",
      "Not here:  8205\n",
      "Not here:  35572\n",
      "Not here:  7623\n",
      "Not here:  31873\n",
      "Not here:  12429\n",
      "Not here:  1288\n",
      "Not here:  29653\n",
      "Not here:  20357\n",
      "Not here:  15073\n",
      "Not here:  29070\n",
      "Not here:  10359\n",
      "Not here:  11514\n",
      "Not here:  35563\n",
      "Not here:  7594\n",
      "Not here:  26545\n"
     ]
    }
   ],
   "source": [
    "# # NO: dt, weekday, year, id_carrier_number, dim_preferred_lanes, load_day, loads\n",
    "new_dict = {}\n",
    "most_recent_date_arr = []\n",
    "num_trips_arr = []\n",
    "score_labels = []\n",
    "days_since_last_work_arr = []\n",
    "trips_dict = {}\n",
    "for key, group in groups:\n",
    "    group.sort_values(by=\"load_day\", ascending=False, inplace=True)\n",
    "    if key not in new_dict:\n",
    "        try:\n",
    "            new_dict[key] = (group[\"load_day\"].dropna(how=\"any\").iloc[0], group.shape[0])\n",
    "        except:\n",
    "            new_dict[key] = None\n",
    "    if key not in trips_dict:\n",
    "        trips_dict[key] = group.shape[0]\n",
    "\n",
    "for index, row in df_score.iterrows():\n",
    "    most_recent_date_arr.append(new_dict[row[\"id_driver\"]][0])\n",
    "    num_trips_arr.append(new_dict[row[\"id_driver\"]][1])\n",
    "    if row[\"id_driver\"] in label_dict:\n",
    "        score_labels.append(label_dict[row[\"id_driver\"]])\n",
    "    else:\n",
    "        print(\"Not here: \", row[\"id_driver\"])\n",
    "        rand_num = random.randint(0, 1000)\n",
    "        if rand_num <= 125:\n",
    "            score_labels.append(1)\n",
    "            label_dict[row[\"id_driver\"]] = 1\n",
    "        else:\n",
    "            score_labels.append(0)\n",
    "            label_dict[row[\"id_driver\"]] = 0\n",
    "            \n",
    "    try:\n",
    "        x = len(row[\"home_base_city\"])\n",
    "        x = len(row[\"home_base_state\"])\n",
    "    except:\n",
    "        index_num = random.randint(0, len(loc_arr)-1)\n",
    "        df_score.at[index, \"home_base_city\"] = loc_arr[index_num][0]\n",
    "        df_score.at[index, \"home_base_state\"] = loc_arr[index_num][1]\n",
    "        \n",
    "    days_since_last_work_arr.append(((pd.to_datetime(date.today()) - row[\"load_day\"]).days) * (-1))\n",
    "\n",
    "score_labels = np.array(score_labels)\n",
    "df_score[\"most_recent_load_date\"] = np.array(most_recent_date_arr)\n",
    "df_score[\"num_trips_made\"] = np.array(num_trips_arr)\n",
    "df_score[\"days_since_last_load\"] = np.array(days_since_last_work_arr)"
   ]
  },
  {
   "cell_type": "code",
   "execution_count": 208,
   "metadata": {},
   "outputs": [
    {
     "name": "stdout",
     "output_type": "stream",
     "text": [
      "<class 'pandas.core.frame.DataFrame'>\n",
      "RangeIndex: 1000 entries, 0 to 999\n",
      "Data columns (total 24 columns):\n",
      " #   Column                    Non-Null Count  Dtype         \n",
      "---  ------                    --------------  -----         \n",
      " 0   id_driver                 1000 non-null   int64         \n",
      " 1   dim_carrier_type          1000 non-null   object        \n",
      " 2   dim_carrier_company_name  1000 non-null   object        \n",
      " 3   home_base_city            1000 non-null   object        \n",
      " 4   home_base_state           1000 non-null   object        \n",
      " 5   carrier_trucks            1000 non-null   object        \n",
      " 6   num_trucks                1000 non-null   float64       \n",
      " 7   interested_in_drayage     1000 non-null   object        \n",
      " 8   port_qualified            1000 non-null   object        \n",
      " 9   signup_source             1000 non-null   object        \n",
      " 10  ts_signup                 1000 non-null   object        \n",
      " 11  ts_first_approved         854 non-null    object        \n",
      " 12  days_signup_to_approval   854 non-null    float64       \n",
      " 13  driver_with_twic          1000 non-null   object        \n",
      " 14  first_load_date           1000 non-null   datetime64[ns]\n",
      " 15  marketplace_loads_otr     1000 non-null   int64         \n",
      " 16  marketplace_loads_atlas   1000 non-null   int64         \n",
      " 17  marketplace_loads         1000 non-null   int64         \n",
      " 18  brokerage_loads_otr       1000 non-null   int64         \n",
      " 19  brokerage_loads_atlas     1000 non-null   int64         \n",
      " 20  brokerage_loads           1000 non-null   int64         \n",
      " 21  most_recent_load_date     1000 non-null   datetime64[ns]\n",
      " 22  num_trips_made            1000 non-null   int64         \n",
      " 23  days_since_last_load      1000 non-null   int64         \n",
      "dtypes: datetime64[ns](2), float64(2), int64(9), object(11)\n",
      "memory usage: 187.6+ KB\n"
     ]
    }
   ],
   "source": [
    "column_names = [\"id_driver\", \"dim_carrier_type\", \"dim_carrier_company_name\", \n",
    "                \"carrier_trucks\", \"signup_source\", \"ts_signup\", \"ts_first_approved\",\n",
    "                \"days_signup_to_approval\", \"home_base_city\", \"home_base_state\", \"num_trucks\", \n",
    "                \"interested_in_drayage\", \"port_qualified\", \"driver_with_twic\", \n",
    "                \"first_load_date\", \"most_recent_load_date\", \"marketplace_loads_otr\", \n",
    "                \"marketplace_loads_atlas\", \"marketplace_loads\", \"brokerage_loads_otr\",\n",
    "                \"brokerage_loads_atlas\", \"brokerage_loads\", \"num_trips_made\", \n",
    "                \"days_since_last_load\"]\n",
    "\n",
    "df_temp = df_score.drop(columns = column_names)\n",
    "to_drop = list(df_temp.columns.values)\n",
    "df_score = df_score.drop(columns=to_drop)\n",
    "df_score.info()"
   ]
  },
  {
   "cell_type": "code",
   "execution_count": 209,
   "metadata": {},
   "outputs": [],
   "source": [
    "for col in column_names:\n",
    "    try:\n",
    "        df_score[col] = df_score[col].convert_dtypes()\n",
    "    except:\n",
    "        continue"
   ]
  },
  {
   "cell_type": "code",
   "execution_count": 210,
   "metadata": {},
   "outputs": [
    {
     "data": {
      "text/plain": [
       "0      4\n",
       "1      1\n",
       "2      1\n",
       "3      3\n",
       "4      1\n",
       "      ..\n",
       "995    1\n",
       "996    3\n",
       "997    1\n",
       "998    1\n",
       "999    1\n",
       "Name: num_trips_made, Length: 1000, dtype: Int64"
      ]
     },
     "metadata": {},
     "output_type": "display_data"
    }
   ],
   "source": [
    "display(df_score[\"num_trips_made\"])"
   ]
  },
  {
   "cell_type": "code",
   "execution_count": 211,
   "metadata": {},
   "outputs": [
    {
     "name": "stdout",
     "output_type": "stream",
     "text": [
      "<class 'pandas.core.frame.DataFrame'>\n",
      "RangeIndex: 1000 entries, 0 to 999\n",
      "Data columns (total 24 columns):\n",
      " #   Column                    Non-Null Count  Dtype         \n",
      "---  ------                    --------------  -----         \n",
      " 0   id_driver                 1000 non-null   Int64         \n",
      " 1   dim_carrier_type          1000 non-null   string        \n",
      " 2   dim_carrier_company_name  1000 non-null   string        \n",
      " 3   home_base_city            1000 non-null   string        \n",
      " 4   home_base_state           1000 non-null   string        \n",
      " 5   carrier_trucks            1000 non-null   string        \n",
      " 6   num_trucks                1000 non-null   Int64         \n",
      " 7   interested_in_drayage     1000 non-null   string        \n",
      " 8   port_qualified            1000 non-null   string        \n",
      " 9   signup_source             1000 non-null   string        \n",
      " 10  ts_signup                 1000 non-null   string        \n",
      " 11  ts_first_approved         854 non-null    string        \n",
      " 12  days_signup_to_approval   854 non-null    Int64         \n",
      " 13  driver_with_twic          1000 non-null   string        \n",
      " 14  first_load_date           1000 non-null   datetime64[ns]\n",
      " 15  marketplace_loads_otr     1000 non-null   Int64         \n",
      " 16  marketplace_loads_atlas   1000 non-null   Int64         \n",
      " 17  marketplace_loads         1000 non-null   Int64         \n",
      " 18  brokerage_loads_otr       1000 non-null   Int64         \n",
      " 19  brokerage_loads_atlas     1000 non-null   Int64         \n",
      " 20  brokerage_loads           1000 non-null   Int64         \n",
      " 21  most_recent_load_date     1000 non-null   datetime64[ns]\n",
      " 22  num_trips_made            1000 non-null   Int64         \n",
      " 23  days_since_last_load      1000 non-null   Int64         \n",
      "dtypes: Int64(11), datetime64[ns](2), string(11)\n",
      "memory usage: 198.4 KB\n"
     ]
    }
   ],
   "source": [
    "df_score.info()"
   ]
  },
  {
   "cell_type": "code",
   "execution_count": 212,
   "metadata": {},
   "outputs": [],
   "source": [
    "# # NO: dt, weekday, year, id_carrier_number, dim_preferred_lanes, load_day, loads\n",
    "\n",
    "\n",
    "\n",
    "# [\"id_driver\", \"dim_carrier_type\", \"dim_carrier_company_name\", \"home_base_city\", \"home_base_state\", \n",
    "#                 \"carrier_trucks\", \"signup_source\", \"ts_signup\", \"ts_first_approved\",\n",
    "#                 \"days_signup_to_approval\", \"num_trucks\", \"interested_in_drayage\", \n",
    "#                 \"port_qualified\", \"driver_with_twic\", \n",
    "#                 \"first_load_date\", \"most_recent_load_date\", \"marketplace_loads_otr\", \n",
    "#                 \"marketplace_loads_atlas\", \"marketplace_loads\", \"brokerage_loads_otr\",\n",
    "#                 \"brokerage_loads_atlas\", \"brokerage_loads\", \"total_loads\", \"num_trips_made\", \"label\"]\n",
    "\n",
    "drop_cols = [\"dt\", \"weekday\", \"year\", \"id_carrier_number\", \"dim_preferred_lanes\", \"load_day\", \"loads\"]\n",
    "for col in drop_cols:\n",
    "    try:\n",
    "        df_score = df_score.drop(columns=[col])\n",
    "    except:\n",
    "        continue\n",
    "\n",
    "for col in drop_cols:\n",
    "    try:\n",
    "        df = df.drop(columns=[col])\n",
    "    except:\n",
    "        continue"
   ]
  },
  {
   "cell_type": "code",
   "execution_count": 213,
   "metadata": {},
   "outputs": [
    {
     "name": "stdout",
     "output_type": "stream",
     "text": [
      "<class 'pandas.core.frame.DataFrame'>\n",
      "RangeIndex: 1000 entries, 0 to 999\n",
      "Data columns (total 24 columns):\n",
      " #   Column                    Non-Null Count  Dtype         \n",
      "---  ------                    --------------  -----         \n",
      " 0   id_driver                 1000 non-null   Int64         \n",
      " 1   dim_carrier_type          1000 non-null   string        \n",
      " 2   dim_carrier_company_name  1000 non-null   string        \n",
      " 3   home_base_city            1000 non-null   string        \n",
      " 4   home_base_state           1000 non-null   string        \n",
      " 5   carrier_trucks            1000 non-null   string        \n",
      " 6   num_trucks                1000 non-null   Int64         \n",
      " 7   interested_in_drayage     1000 non-null   string        \n",
      " 8   port_qualified            1000 non-null   string        \n",
      " 9   signup_source             1000 non-null   string        \n",
      " 10  ts_signup                 1000 non-null   string        \n",
      " 11  ts_first_approved         854 non-null    string        \n",
      " 12  days_signup_to_approval   854 non-null    Int64         \n",
      " 13  driver_with_twic          1000 non-null   string        \n",
      " 14  first_load_date           1000 non-null   datetime64[ns]\n",
      " 15  marketplace_loads_otr     1000 non-null   Int64         \n",
      " 16  marketplace_loads_atlas   1000 non-null   Int64         \n",
      " 17  marketplace_loads         1000 non-null   Int64         \n",
      " 18  brokerage_loads_otr       1000 non-null   Int64         \n",
      " 19  brokerage_loads_atlas     1000 non-null   Int64         \n",
      " 20  brokerage_loads           1000 non-null   Int64         \n",
      " 21  most_recent_load_date     1000 non-null   datetime64[ns]\n",
      " 22  num_trips_made            1000 non-null   Int64         \n",
      " 23  days_since_last_load      1000 non-null   Int64         \n",
      "dtypes: Int64(11), datetime64[ns](2), string(11)\n",
      "memory usage: 198.4 KB\n"
     ]
    }
   ],
   "source": [
    "df_score.info()"
   ]
  },
  {
   "cell_type": "markdown",
   "metadata": {},
   "source": [
    "# 3. Basic Statistics"
   ]
  },
  {
   "cell_type": "code",
   "execution_count": 214,
   "metadata": {},
   "outputs": [
    {
     "name": "stdout",
     "output_type": "stream",
     "text": [
      "id_driver\n"
     ]
    },
    {
     "data": {
      "text/plain": [
       "id_driver                  1.000000\n",
       "days_since_last_load       0.839446\n",
       "num_trucks                 0.169567\n",
       "brokerage_loads_atlas      0.145307\n",
       "marketplace_loads_atlas    0.138116\n",
       "marketplace_loads          0.123344\n",
       "label                      0.075683\n",
       "total_loads                0.052722\n",
       "num_trips_made             0.018007\n",
       "marketplace_loads_otr     -0.012441\n",
       "brokerage_loads           -0.037352\n",
       "brokerage_loads_otr       -0.063795\n",
       "days_signup_to_approval   -0.734778\n",
       "Name: id_driver, dtype: float64"
      ]
     },
     "metadata": {},
     "output_type": "display_data"
    },
    {
     "name": "stdout",
     "output_type": "stream",
     "text": [
      "---------------------------------------------------------------------\n",
      "dim_carrier_type\n",
      "dim_carrier_type is not of type integer\n",
      "---------------------------------------------------------------------\n",
      "dim_carrier_company_name\n",
      "dim_carrier_company_name is not of type integer\n",
      "---------------------------------------------------------------------\n",
      "carrier_trucks\n",
      "carrier_trucks is not of type integer\n",
      "---------------------------------------------------------------------\n",
      "signup_source\n",
      "signup_source is not of type integer\n",
      "---------------------------------------------------------------------\n",
      "ts_signup\n",
      "ts_signup is not of type integer\n",
      "---------------------------------------------------------------------\n",
      "ts_first_approved\n",
      "ts_first_approved is not of type integer\n",
      "---------------------------------------------------------------------\n",
      "days_signup_to_approval\n"
     ]
    },
    {
     "data": {
      "text/plain": [
       "days_signup_to_approval    1.000000\n",
       "brokerage_loads_otr        0.048116\n",
       "brokerage_loads            0.027929\n",
       "num_trips_made             0.010462\n",
       "marketplace_loads_otr      0.007436\n",
       "total_loads               -0.043765\n",
       "num_trucks                -0.053498\n",
       "label                     -0.064084\n",
       "marketplace_loads         -0.089268\n",
       "brokerage_loads_atlas     -0.092088\n",
       "marketplace_loads_atlas   -0.099058\n",
       "days_since_last_load      -0.628732\n",
       "id_driver                 -0.734778\n",
       "Name: days_signup_to_approval, dtype: float64"
      ]
     },
     "metadata": {},
     "output_type": "display_data"
    },
    {
     "name": "stdout",
     "output_type": "stream",
     "text": [
      "---------------------------------------------------------------------\n",
      "home_base_city\n",
      "home_base_city is not of type integer\n",
      "---------------------------------------------------------------------\n",
      "home_base_state\n",
      "home_base_state is not of type integer\n",
      "---------------------------------------------------------------------\n",
      "num_trucks\n"
     ]
    },
    {
     "data": {
      "text/plain": [
       "num_trucks                 1.000000\n",
       "id_driver                  0.169567\n",
       "days_since_last_load       0.163449\n",
       "num_trips_made             0.059784\n",
       "total_loads                0.017664\n",
       "brokerage_loads_otr        0.001285\n",
       "brokerage_loads           -0.006155\n",
       "label                     -0.035292\n",
       "brokerage_loads_atlas     -0.042167\n",
       "marketplace_loads_atlas   -0.050920\n",
       "days_signup_to_approval   -0.053498\n",
       "marketplace_loads_otr     -0.058752\n",
       "marketplace_loads         -0.065660\n",
       "Name: num_trucks, dtype: float64"
      ]
     },
     "metadata": {},
     "output_type": "display_data"
    },
    {
     "name": "stdout",
     "output_type": "stream",
     "text": [
      "---------------------------------------------------------------------\n",
      "interested_in_drayage\n",
      "interested_in_drayage is not of type integer\n",
      "---------------------------------------------------------------------\n",
      "port_qualified\n",
      "port_qualified is not of type integer\n",
      "---------------------------------------------------------------------\n",
      "driver_with_twic\n",
      "driver_with_twic is not of type integer\n",
      "---------------------------------------------------------------------\n",
      "first_load_date\n",
      "first_load_date is not of type integer\n",
      "---------------------------------------------------------------------\n",
      "most_recent_load_date\n",
      "most_recent_load_date is not of type integer\n",
      "---------------------------------------------------------------------\n",
      "marketplace_loads_otr\n"
     ]
    },
    {
     "data": {
      "text/plain": [
       "marketplace_loads_otr      1.000000\n",
       "num_trips_made             0.511867\n",
       "marketplace_loads          0.395290\n",
       "total_loads                0.268972\n",
       "label                      0.163324\n",
       "days_since_last_load       0.157085\n",
       "marketplace_loads_atlas    0.083147\n",
       "brokerage_loads_otr        0.080873\n",
       "brokerage_loads            0.080687\n",
       "days_signup_to_approval    0.007436\n",
       "brokerage_loads_atlas      0.005160\n",
       "id_driver                 -0.012441\n",
       "num_trucks                -0.058752\n",
       "Name: marketplace_loads_otr, dtype: float64"
      ]
     },
     "metadata": {},
     "output_type": "display_data"
    },
    {
     "name": "stdout",
     "output_type": "stream",
     "text": [
      "---------------------------------------------------------------------\n",
      "marketplace_loads_atlas\n"
     ]
    },
    {
     "data": {
      "text/plain": [
       "marketplace_loads_atlas    1.000000\n",
       "marketplace_loads          0.948243\n",
       "label                      0.577596\n",
       "total_loads                0.541759\n",
       "num_trips_made             0.445315\n",
       "brokerage_loads_atlas      0.410271\n",
       "days_since_last_load       0.202243\n",
       "id_driver                  0.138116\n",
       "marketplace_loads_otr      0.083147\n",
       "brokerage_loads            0.059796\n",
       "brokerage_loads_otr       -0.012599\n",
       "num_trucks                -0.050920\n",
       "days_signup_to_approval   -0.099058\n",
       "Name: marketplace_loads_atlas, dtype: float64"
      ]
     },
     "metadata": {},
     "output_type": "display_data"
    },
    {
     "name": "stdout",
     "output_type": "stream",
     "text": [
      "---------------------------------------------------------------------\n",
      "marketplace_loads\n"
     ]
    },
    {
     "data": {
      "text/plain": [
       "marketplace_loads          1.000000\n",
       "marketplace_loads_atlas    0.948243\n",
       "total_loads                0.585073\n",
       "label                      0.584442\n",
       "num_trips_made             0.573574\n",
       "marketplace_loads_otr      0.395290\n",
       "brokerage_loads_atlas      0.379811\n",
       "days_since_last_load       0.236472\n",
       "id_driver                  0.123344\n",
       "brokerage_loads            0.080827\n",
       "brokerage_loads_otr        0.014158\n",
       "num_trucks                -0.065660\n",
       "days_signup_to_approval   -0.089268\n",
       "Name: marketplace_loads, dtype: float64"
      ]
     },
     "metadata": {},
     "output_type": "display_data"
    },
    {
     "name": "stdout",
     "output_type": "stream",
     "text": [
      "---------------------------------------------------------------------\n",
      "brokerage_loads_otr\n"
     ]
    },
    {
     "data": {
      "text/plain": [
       "brokerage_loads_otr        1.000000\n",
       "brokerage_loads            0.984385\n",
       "total_loads                0.803391\n",
       "num_trips_made             0.572785\n",
       "label                      0.239032\n",
       "marketplace_loads_otr      0.080873\n",
       "days_since_last_load       0.061265\n",
       "days_signup_to_approval    0.048116\n",
       "marketplace_loads          0.014158\n",
       "num_trucks                 0.001285\n",
       "brokerage_loads_atlas     -0.011804\n",
       "marketplace_loads_atlas   -0.012599\n",
       "id_driver                 -0.063795\n",
       "Name: brokerage_loads_otr, dtype: float64"
      ]
     },
     "metadata": {},
     "output_type": "display_data"
    },
    {
     "name": "stdout",
     "output_type": "stream",
     "text": [
      "---------------------------------------------------------------------\n",
      "brokerage_loads_atlas\n"
     ]
    },
    {
     "data": {
      "text/plain": [
       "brokerage_loads_atlas      1.000000\n",
       "marketplace_loads_atlas    0.410271\n",
       "marketplace_loads          0.379811\n",
       "total_loads                0.329874\n",
       "label                      0.327819\n",
       "num_trips_made             0.257713\n",
       "days_since_last_load       0.179735\n",
       "brokerage_loads            0.164395\n",
       "id_driver                  0.145307\n",
       "marketplace_loads_otr      0.005160\n",
       "brokerage_loads_otr       -0.011804\n",
       "num_trucks                -0.042167\n",
       "days_signup_to_approval   -0.092088\n",
       "Name: brokerage_loads_atlas, dtype: float64"
      ]
     },
     "metadata": {},
     "output_type": "display_data"
    },
    {
     "name": "stdout",
     "output_type": "stream",
     "text": [
      "---------------------------------------------------------------------\n",
      "brokerage_loads\n"
     ]
    },
    {
     "data": {
      "text/plain": [
       "brokerage_loads            1.000000\n",
       "brokerage_loads_otr        0.984385\n",
       "total_loads                0.850586\n",
       "num_trips_made             0.610399\n",
       "label                      0.293505\n",
       "brokerage_loads_atlas      0.164395\n",
       "days_since_last_load       0.092076\n",
       "marketplace_loads          0.080827\n",
       "marketplace_loads_otr      0.080687\n",
       "marketplace_loads_atlas    0.059796\n",
       "days_signup_to_approval    0.027929\n",
       "num_trucks                -0.006155\n",
       "id_driver                 -0.037352\n",
       "Name: brokerage_loads, dtype: float64"
      ]
     },
     "metadata": {},
     "output_type": "display_data"
    },
    {
     "name": "stdout",
     "output_type": "stream",
     "text": [
      "---------------------------------------------------------------------\n",
      "total_loads\n"
     ]
    },
    {
     "data": {
      "text/plain": [
       "total_loads                1.000000\n",
       "brokerage_loads            0.850586\n",
       "brokerage_loads_otr        0.803391\n",
       "num_trips_made             0.802860\n",
       "marketplace_loads          0.585073\n",
       "label                      0.541811\n",
       "marketplace_loads_atlas    0.541759\n",
       "brokerage_loads_atlas      0.329874\n",
       "marketplace_loads_otr      0.268972\n",
       "days_since_last_load       0.216076\n",
       "id_driver                  0.052722\n",
       "num_trucks                 0.017664\n",
       "days_signup_to_approval   -0.043765\n",
       "Name: total_loads, dtype: float64"
      ]
     },
     "metadata": {},
     "output_type": "display_data"
    },
    {
     "name": "stdout",
     "output_type": "stream",
     "text": [
      "---------------------------------------------------------------------\n",
      "num_trips_made\n"
     ]
    },
    {
     "data": {
      "text/plain": [
       "num_trips_made             1.000000\n",
       "total_loads                0.802860\n",
       "brokerage_loads            0.610399\n",
       "marketplace_loads          0.573574\n",
       "brokerage_loads_otr        0.572785\n",
       "marketplace_loads_otr      0.511867\n",
       "label                      0.481593\n",
       "marketplace_loads_atlas    0.445315\n",
       "days_since_last_load       0.284921\n",
       "brokerage_loads_atlas      0.257713\n",
       "num_trucks                 0.059784\n",
       "id_driver                  0.018007\n",
       "days_signup_to_approval    0.010462\n",
       "Name: num_trips_made, dtype: float64"
      ]
     },
     "metadata": {},
     "output_type": "display_data"
    },
    {
     "name": "stdout",
     "output_type": "stream",
     "text": [
      "---------------------------------------------------------------------\n",
      "days_since_last_load\n"
     ]
    },
    {
     "data": {
      "text/plain": [
       "days_since_last_load       1.000000\n",
       "id_driver                  0.839446\n",
       "num_trips_made             0.284921\n",
       "marketplace_loads          0.236472\n",
       "total_loads                0.216076\n",
       "marketplace_loads_atlas    0.202243\n",
       "brokerage_loads_atlas      0.179735\n",
       "num_trucks                 0.163449\n",
       "marketplace_loads_otr      0.157085\n",
       "label                      0.142288\n",
       "brokerage_loads            0.092076\n",
       "brokerage_loads_otr        0.061265\n",
       "days_signup_to_approval   -0.628732\n",
       "Name: days_since_last_load, dtype: float64"
      ]
     },
     "metadata": {},
     "output_type": "display_data"
    },
    {
     "name": "stdout",
     "output_type": "stream",
     "text": [
      "---------------------------------------------------------------------\n",
      "label\n"
     ]
    },
    {
     "data": {
      "text/plain": [
       "label                      1.000000\n",
       "marketplace_loads          0.584442\n",
       "marketplace_loads_atlas    0.577596\n",
       "total_loads                0.541811\n",
       "num_trips_made             0.481593\n",
       "brokerage_loads_atlas      0.327819\n",
       "brokerage_loads            0.293505\n",
       "brokerage_loads_otr        0.239032\n",
       "marketplace_loads_otr      0.163324\n",
       "days_since_last_load       0.142288\n",
       "id_driver                  0.075683\n",
       "num_trucks                -0.035292\n",
       "days_signup_to_approval   -0.064084\n",
       "Name: label, dtype: float64"
      ]
     },
     "metadata": {},
     "output_type": "display_data"
    },
    {
     "name": "stdout",
     "output_type": "stream",
     "text": [
      "---------------------------------------------------------------------\n"
     ]
    }
   ],
   "source": [
    "corr_matrix = df.corr()\n",
    "for col_name in (list(df.columns.values)): # prints all the correlation matrices corresponding to each feature\n",
    "    try:\n",
    "        print(col_name)\n",
    "        display(corr_matrix[col_name].sort_values(ascending=False))\n",
    "        print('---------------------------------------------------------------------')\n",
    "    except:\n",
    "        print(\"{} is not of type integer\".format(col_name))\n",
    "        print('---------------------------------------------------------------------')"
   ]
  },
  {
   "cell_type": "markdown",
   "metadata": {},
   "source": [
    " Also year and TODO_FIND_COLUMN_NAME_2 and year are highly correlated and have a similar impact on label, so we could drop one? \n",
    "\n",
    "Is there really a need for brokerage_loads when it is so highly correlated to brokerage_loads_otr due to the vast majority of shipments being delivered over-the-road as compared to via ATLAS? \n",
    "\n",
    "I have the same question about total_loads due to the vast majority of loads being brokerage loads...\n",
    "\n",
    "What's the point of having both year and date?\n",
    "\n",
    "We can remove the id_carrier_number column from this dataset as it is not relevant to predicting a label of 0 or 1 (When trying to find high performing drivers, we need to know their carrier number, so we can extract the id_carrier_number column for now...)\n",
    "\n",
    "We could one-hot-encode sign-up source and see its effect on labels.\n",
    "\n",
    "We can remove the ts_first_approved column because the date of approval shouldn't matter that much but instead the days_signup_to_approval matter.\n",
    "\n",
    "dim_preferred_lanes only has a few values so we can either remove the column or impute values.\n",
    "\n",
    "Also first_load_date, most_recent_load_date and load_day shouldn't matter much. Instead we can have values such as: number of days doing the job = most_recent_load_date - first_load_date\n",
    "AND\n",
    "days_from_last_load_to_today = todays_date - most_recent_load_date\n",
    "\n",
    "There are also a couple other features we need to impute.\n",
    "\n",
    "Also, only people that are port qualified can provide drayage services, so we should create a field called qualified_and_interest_in_drayage which is only 1 (yes) when interested_in_drayage = \"yes\" and port_qualified = \"yes\". We can also cross these features..."
   ]
  },
  {
   "cell_type": "markdown",
   "metadata": {},
   "source": [
    "# 4. Data Feature Extraction Plan and Pipeline"
   ]
  },
  {
   "cell_type": "code",
   "execution_count": 215,
   "metadata": {},
   "outputs": [],
   "source": [
    "# df[\"location\"] = list(zip(df[\"home_base_city\"], df[\"home_base_state\"]))# feature cross to get (city, state) tuple\n",
    "# # feature cross for interested in drayage and port qualified\n",
    "# df[\"drayage_interested_port_qualified\"] = list(zip(df[\"interested_in_drayage\"], df[\"port_qualified\"]))\n",
    "# display(df[\"location\"])\n",
    "# display(df[\"drayage_interested_port_qualified\"])"
   ]
  },
  {
   "cell_type": "code",
   "execution_count": 216,
   "metadata": {},
   "outputs": [
    {
     "data": {
      "text/plain": [
       "0       100000\n",
       "1       100000\n",
       "2       100000\n",
       "3       100000\n",
       "4       100000\n",
       "         ...  \n",
       "5286    100000\n",
       "5287    000001\n",
       "5288    000001\n",
       "5289    000001\n",
       "5290    000001\n",
       "Name: drayage_interested_port_qualified, Length: 5291, dtype: object"
      ]
     },
     "metadata": {},
     "output_type": "display_data"
    },
    {
     "data": {
      "text/plain": [
       "0      100000\n",
       "1      000010\n",
       "2      100000\n",
       "3      000010\n",
       "4      000010\n",
       "        ...  \n",
       "995    100000\n",
       "996    100000\n",
       "997    100000\n",
       "998    100000\n",
       "999    000010\n",
       "Name: drayage_interested_port_qualified, Length: 1000, dtype: object"
      ]
     },
     "metadata": {},
     "output_type": "display_data"
    }
   ],
   "source": [
    "def drayage_feature_cross(df):\n",
    "    loc_cross = list(zip(df[\"home_base_city\"], df[\"home_base_state\"]))# feature cross to get (city, state) tuple\n",
    "    # feature cross for interested in drayage and port qualified\n",
    "    drayage_cross = list(zip(df[\"interested_in_drayage\"], df[\"port_qualified\"]))\n",
    "\n",
    "    drayage_arr = []\n",
    "    for list_item in drayage_cross:\n",
    "        if list_item[0] == \"yes\" and list_item[1] == \"yes\":\n",
    "            drayage_arr.append(\"000001\")\n",
    "        if list_item[0] == \"yes\" and list_item[1] == \"no\":\n",
    "            drayage_arr.append(\"000010\")\n",
    "        if list_item[0] == \"no\" and list_item[1] == \"yes\":\n",
    "            drayage_arr.append(\"000100\")\n",
    "        if list_item[0] == \"no\" and list_item[1] == \"no\":\n",
    "            drayage_arr.append(\"001000\")\n",
    "        if list_item[0] == \"not specified\" and list_item[1] == \"yes\":\n",
    "            drayage_arr.append(\"010000\")\n",
    "        if list_item[0] == \"not specified\" and list_item[1] == \"no\":\n",
    "            drayage_arr.append(\"100000\")\n",
    "\n",
    "    df[\"drayage_interested_port_qualified\"] = np.array(drayage_arr)\n",
    "    display(df[\"drayage_interested_port_qualified\"])\n",
    "\n",
    "drayage_feature_cross(df)\n",
    "drayage_feature_cross(df_score)"
   ]
  },
  {
   "cell_type": "code",
   "execution_count": 217,
   "metadata": {},
   "outputs": [],
   "source": [
    "id_driver_number_col = np.array(df[\"id_driver\"]) # extract id_driver column\n",
    "id_driver_number_col_score = np.array(df_score[\"id_driver\"]) # extract id_driver column\n",
    "\n",
    "drop_cols = [\"id_driver\", \"interested_in_drayage\", \"port_qualified\", \n",
    "             \"ts_signup\", \"ts_first_approved\"] #\"home_base_city\",\"home_base_state\",\n",
    "for col in drop_cols:\n",
    "    try:\n",
    "        df_score = df_score.drop(columns=[col])\n",
    "    except:\n",
    "        continue\n",
    "\n",
    "for col in drop_cols:\n",
    "    try:\n",
    "        df = df.drop(columns=[col])\n",
    "    except:\n",
    "        continue"
   ]
  },
  {
   "cell_type": "code",
   "execution_count": 218,
   "metadata": {},
   "outputs": [
    {
     "name": "stdout",
     "output_type": "stream",
     "text": [
      "<class 'pandas.core.frame.DataFrame'>\n",
      "RangeIndex: 5291 entries, 0 to 5290\n",
      "Data columns (total 22 columns):\n",
      " #   Column                             Non-Null Count  Dtype         \n",
      "---  ------                             --------------  -----         \n",
      " 0   dim_carrier_type                   5291 non-null   string        \n",
      " 1   dim_carrier_company_name           5284 non-null   string        \n",
      " 2   carrier_trucks                     5291 non-null   string        \n",
      " 3   signup_source                      5291 non-null   string        \n",
      " 4   days_signup_to_approval            3962 non-null   Int64         \n",
      " 5   home_base_city                     5291 non-null   string        \n",
      " 6   home_base_state                    5291 non-null   string        \n",
      " 7   num_trucks                         5249 non-null   float64       \n",
      " 8   driver_with_twic                   5291 non-null   string        \n",
      " 9   first_load_date                    5291 non-null   datetime64[ns]\n",
      " 10  most_recent_load_date              5291 non-null   datetime64[ns]\n",
      " 11  marketplace_loads_otr              5291 non-null   Int64         \n",
      " 12  marketplace_loads_atlas            5291 non-null   Int64         \n",
      " 13  marketplace_loads                  5291 non-null   Int64         \n",
      " 14  brokerage_loads_otr                5291 non-null   Int64         \n",
      " 15  brokerage_loads_atlas              5291 non-null   Int64         \n",
      " 16  brokerage_loads                    5291 non-null   Int64         \n",
      " 17  total_loads                        5291 non-null   Int64         \n",
      " 18  num_trips_made                     5291 non-null   Int64         \n",
      " 19  days_since_last_load               5291 non-null   Int64         \n",
      " 20  label                              5291 non-null   Int64         \n",
      " 21  drayage_interested_port_qualified  5291 non-null   object        \n",
      "dtypes: Int64(11), datetime64[ns](2), float64(1), object(1), string(7)\n",
      "memory usage: 966.4+ KB\n"
     ]
    }
   ],
   "source": [
    "df.info()"
   ]
  },
  {
   "cell_type": "code",
   "execution_count": 219,
   "metadata": {},
   "outputs": [],
   "source": [
    "names = {}\n",
    "for index, row in df.iterrows():\n",
    "    names[row[\"dim_carrier_company_name\"]] = int(names.get(row[\"dim_carrier_company_name\"], 0) + 1)\n",
    "listo = list(names.items())\n",
    "listo.sort(reverse=True, key=lambda x: int(x[1]))\n",
    "#listo[:50]"
   ]
  },
  {
   "cell_type": "code",
   "execution_count": 220,
   "metadata": {},
   "outputs": [
    {
     "name": "stdout",
     "output_type": "stream",
     "text": [
      "# 50:  1290\n",
      "Percentage 50:  0.5176565008025682\n",
      "['NFS asset Drayage', 'MC Express Trucking LLC', 'Roadrunner Transportation', 'Dong Fang Marketing Inc', 'ROADMOND LOGISTICS INC.', 'Consistent Trucking Inc', 'BLUE FREIGHT TRANSPORT INC', 'Convoy Express', 'Mega Fleet', 'iDC Drayage', 'Cross World Logistics', 'USA Diamonds Trucking', 'pointdirect', 'Chaidez Trucking', 'Saia LTL Freight', 'American Better Choice Corporation', 'American Freightways Lp.', 'Fastrucking', 'MERIDIAN LOGISTICS INC', 'Carlos Flores', 'J&G Transportation Group Inc', 'KLF transport inc', 'Star Rain LLC', 'Starco Logistics Inc.', '664 Transport', 'FTS EXPRESS INC', 'IDC OTR', \"Luna's Transportation group\", 'AGRAMONT TRANSPORT INC', 'BGood VirtueT Inc', 'Geber Freight', 'R&Y Castellanos Trucking Inc.', 'JC Transport', 'Great Qin Transportation LLC', 'JM Express Inc', 'MT Brothers Groups', 'cbt trucking', 'Road Eagle Logistics Corp', 'O.A. EXPRESS INC', 'AMPAK Logistics INC.', 'Kuang Trucking Inc.', 'nolan transportation group', '360 new way inc', 'Innovative Transportation, LLC', 'freight advisor corp', 'one USA group', 'Blue Horizon', 'STS TRUCKING', 'AL JR TRUCKING', 'MG Trucking']\n"
     ]
    }
   ],
   "source": [
    "listo = listo[:50]\n",
    "count_50 = sum([x[1] for x in listo])\n",
    "print(\"# 50: \", count_50)\n",
    "print(\"Percentage 50: \", count_50/len(names))\n",
    "\n",
    "names_arr = [tuples[0] for tuples in listo]\n",
    "print(names_arr)"
   ]
  },
  {
   "cell_type": "code",
   "execution_count": 221,
   "metadata": {},
   "outputs": [],
   "source": [
    "def bucketize(df):\n",
    "    days_worked = []\n",
    "    for index, row in df.iterrows(): # bucketize the most frequent dim_carrier_company names, \n",
    "                                     # put less frequent names in a single bucket\n",
    "        try:\n",
    "            if row[\"dim_carrier_company_name\"] not in names_arr:\n",
    "                df.at[index, \"dim_carrier_company_name\"] = \"Other\"\n",
    "        except:\n",
    "            df.at[index, \"dim_carrier_company_name\"] = \"Other\"\n",
    "\n",
    "        # find number of days driver has worked\n",
    "        if row[\"most_recent_load_date\"] != np.nan and row[\"first_load_date\"] != np.nan:\n",
    "            days_worked.append((row[\"most_recent_load_date\"] - row[\"first_load_date\"]).days)\n",
    "        else:\n",
    "            days_worked.append(None)\n",
    "    df[\"days_tenured\"] = np.array(days_worked)\n",
    "\n",
    "bucketize(df)\n",
    "bucketize(df_score)"
   ]
  },
  {
   "cell_type": "code",
   "execution_count": 222,
   "metadata": {},
   "outputs": [],
   "source": [
    "# # Get total_loads for df_score in order to find labels\n",
    "# total_loads = []\n",
    "# for index, row in df_score.iterrows():\n",
    "#     total_loads.append(row[\"marketplace_loads\"] + row[\"brokerage_loads\"])\n",
    "# df_score[\"total_loads\"] = np.array(total_loads)"
   ]
  },
  {
   "cell_type": "code",
   "execution_count": 223,
   "metadata": {},
   "outputs": [],
   "source": [
    "# total_loads_score_75 = df_score.total_loads.quantile(0.75) # finds 75th percentile of loads\n",
    "# most_recent_load_date_score_75 = df_score.most_recent_load_date.quantile(0.75) # finds 75th percentile of most recent load date\n",
    "\n",
    "# print(total_loads_score_75)\n",
    "# print(most_recent_load_date_score_75)"
   ]
  },
  {
   "cell_type": "code",
   "execution_count": 224,
   "metadata": {},
   "outputs": [],
   "source": [
    "# score_labels = []\n",
    "# for index, row in df_score.iterrows(): # changes the labels in the label columns\n",
    "#     # checks if the load and most recent load date are in the 75th percentile\n",
    "#     if row[\"total_loads\"] >= total_loads_score_75 and row[\"most_recent_load_date\"] >= most_recent_load_date_score_75:\n",
    "#         score_labels.append(1)\n",
    "#     else:\n",
    "#         score_labels.append(0)\n",
    "# print(len(score_labels))\n",
    "# print(score_labels)"
   ]
  },
  {
   "cell_type": "code",
   "execution_count": 225,
   "metadata": {},
   "outputs": [],
   "source": [
    "drop_cols = [\"most_recent_load_date\", \"first_load_date\", \"weekday\", \"load_day\", \"total_loads\"]\n",
    "for col in drop_cols:\n",
    "    try:\n",
    "        df_score = df_score.drop(columns=[col])\n",
    "    except:\n",
    "        continue\n",
    "\n",
    "for col in drop_cols:\n",
    "    try:\n",
    "        df = df.drop(columns=[col])\n",
    "    except:\n",
    "        continue"
   ]
  },
  {
   "cell_type": "code",
   "execution_count": 226,
   "metadata": {},
   "outputs": [],
   "source": [
    "df_unlabeled = df.drop(columns=[\"label\"])\n",
    "labels = df[\"label\"].copy()"
   ]
  },
  {
   "cell_type": "code",
   "execution_count": 227,
   "metadata": {},
   "outputs": [
    {
     "name": "stdout",
     "output_type": "stream",
     "text": [
      "Unique Values :  [0 1]\n",
      "Occurrence Count :  [5236   55]\n"
     ]
    }
   ],
   "source": [
    "uniqueValues, occurCount = np.unique(labels, return_counts=True)\n",
    "print(\"Unique Values : \" , uniqueValues)\n",
    "print(\"Occurrence Count : \", occurCount)"
   ]
  },
  {
   "cell_type": "code",
   "execution_count": 228,
   "metadata": {},
   "outputs": [
    {
     "name": "stdout",
     "output_type": "stream",
     "text": [
      "<class 'pandas.core.frame.DataFrame'>\n",
      "RangeIndex: 5291 entries, 0 to 5290\n",
      "Data columns (total 19 columns):\n",
      " #   Column                             Non-Null Count  Dtype  \n",
      "---  ------                             --------------  -----  \n",
      " 0   dim_carrier_type                   5291 non-null   string \n",
      " 1   dim_carrier_company_name           5291 non-null   string \n",
      " 2   carrier_trucks                     5291 non-null   string \n",
      " 3   signup_source                      5291 non-null   string \n",
      " 4   days_signup_to_approval            3962 non-null   Int64  \n",
      " 5   home_base_city                     5291 non-null   string \n",
      " 6   home_base_state                    5291 non-null   string \n",
      " 7   num_trucks                         5249 non-null   float64\n",
      " 8   driver_with_twic                   5291 non-null   string \n",
      " 9   marketplace_loads_otr              5291 non-null   Int64  \n",
      " 10  marketplace_loads_atlas            5291 non-null   Int64  \n",
      " 11  marketplace_loads                  5291 non-null   Int64  \n",
      " 12  brokerage_loads_otr                5291 non-null   Int64  \n",
      " 13  brokerage_loads_atlas              5291 non-null   Int64  \n",
      " 14  brokerage_loads                    5291 non-null   Int64  \n",
      " 15  num_trips_made                     5291 non-null   Int64  \n",
      " 16  days_since_last_load               5291 non-null   Int64  \n",
      " 17  drayage_interested_port_qualified  5291 non-null   object \n",
      " 18  days_tenured                       5291 non-null   int64  \n",
      "dtypes: Int64(9), float64(1), int64(1), object(1), string(7)\n",
      "memory usage: 832.0+ KB\n"
     ]
    }
   ],
   "source": [
    "df_unlabeled.info()"
   ]
  },
  {
   "cell_type": "code",
   "execution_count": 229,
   "metadata": {},
   "outputs": [
    {
     "name": "stdout",
     "output_type": "stream",
     "text": [
      "<class 'pandas.core.frame.DataFrame'>\n",
      "RangeIndex: 1000 entries, 0 to 999\n",
      "Data columns (total 19 columns):\n",
      " #   Column                             Non-Null Count  Dtype \n",
      "---  ------                             --------------  ----- \n",
      " 0   dim_carrier_type                   1000 non-null   string\n",
      " 1   dim_carrier_company_name           1000 non-null   string\n",
      " 2   home_base_city                     1000 non-null   string\n",
      " 3   home_base_state                    1000 non-null   string\n",
      " 4   carrier_trucks                     1000 non-null   string\n",
      " 5   num_trucks                         1000 non-null   Int64 \n",
      " 6   signup_source                      1000 non-null   string\n",
      " 7   days_signup_to_approval            854 non-null    Int64 \n",
      " 8   driver_with_twic                   1000 non-null   string\n",
      " 9   marketplace_loads_otr              1000 non-null   Int64 \n",
      " 10  marketplace_loads_atlas            1000 non-null   Int64 \n",
      " 11  marketplace_loads                  1000 non-null   Int64 \n",
      " 12  brokerage_loads_otr                1000 non-null   Int64 \n",
      " 13  brokerage_loads_atlas              1000 non-null   Int64 \n",
      " 14  brokerage_loads                    1000 non-null   Int64 \n",
      " 15  num_trips_made                     1000 non-null   Int64 \n",
      " 16  days_since_last_load               1000 non-null   Int64 \n",
      " 17  drayage_interested_port_qualified  1000 non-null   object\n",
      " 18  days_tenured                       1000 non-null   int64 \n",
      "dtypes: Int64(10), int64(1), object(1), string(7)\n",
      "memory usage: 158.3+ KB\n"
     ]
    }
   ],
   "source": [
    "df_score.info()"
   ]
  },
  {
   "cell_type": "code",
   "execution_count": 230,
   "metadata": {},
   "outputs": [
    {
     "name": "stdout",
     "output_type": "stream",
     "text": [
      "['dim_carrier_type', 'dim_carrier_company_name', 'carrier_trucks', 'signup_source', 'days_signup_to_approval', 'home_base_city', 'home_base_state', 'num_trucks', 'driver_with_twic', 'marketplace_loads_otr', 'marketplace_loads_atlas', 'marketplace_loads', 'brokerage_loads_otr', 'brokerage_loads_atlas', 'brokerage_loads', 'num_trips_made', 'days_since_last_load', 'drayage_interested_port_qualified', 'days_tenured']\n"
     ]
    }
   ],
   "source": [
    "cols = list(df_unlabeled.columns.values)\n",
    "print(cols)"
   ]
  },
  {
   "cell_type": "code",
   "execution_count": 231,
   "metadata": {},
   "outputs": [],
   "source": [
    "df_score = df_score[cols]\n",
    "\n",
    "df_score['num_trucks'] = pd.to_numeric(df_score['num_trucks'], errors='coerce')\n",
    "df_score['days_signup_to_approval'] = pd.to_numeric(df_score['days_signup_to_approval'], errors='coerce')\n",
    "\n",
    "df_unlabeled['num_trucks'] = pd.to_numeric(df_unlabeled['num_trucks'], errors='coerce')\n",
    "df_unlabeled['days_signup_to_approval'] = pd.to_numeric(df_unlabeled['days_signup_to_approval'], errors='coerce')\n",
    "\n",
    "# df_unlabeled['home_base_city'].astype(str) #= to_string(df_unlabeled['home_base_city'], errors='coerce')\n",
    "# df_unlabeled['home_base_state'].astype(str) #= pd.to_string(df_unlabeled['home_base_state'], errors='coerce')\n",
    "\n",
    "convert = [\"id_driver\", \"days_signup_to_approval\", \"marketplace_loads_otr\", \n",
    "               \"marketplace_loads_atlas\", \"marketplace_loads\", \"brokerage_loads_otr\",\n",
    "               \"brokerage_loads_atlas\", \"brokerage_loads\", \"num_trips_made\",\n",
    "               \"num_trucks\", \"dim_carrier_type\", \"dim_carrier_company_name\",\n",
    "               \"interested_in_drayage\", \"port_qualified\", \"signup_source\", \"driver_with_twic\",\n",
    "          \"home_base_city\",\"home_base_state\"] #\"home_base_city\",\"home_base_state\"\n",
    "for col in convert:\n",
    "    try:\n",
    "        df_score[col] = df_score[col].convert_dtypes()\n",
    "    except:\n",
    "        continue\n",
    "\n",
    "for col in convert:\n",
    "    try:\n",
    "        df_unlabeled[col] = df_unlabeled[col].convert_dtypes()\n",
    "    except:\n",
    "        continue"
   ]
  },
  {
   "cell_type": "code",
   "execution_count": 232,
   "metadata": {},
   "outputs": [
    {
     "name": "stdout",
     "output_type": "stream",
     "text": [
      "<class 'pandas.core.frame.DataFrame'>\n",
      "RangeIndex: 6291 entries, 0 to 6290\n",
      "Data columns (total 19 columns):\n",
      " #   Column                             Non-Null Count  Dtype \n",
      "---  ------                             --------------  ----- \n",
      " 0   dim_carrier_type                   6291 non-null   string\n",
      " 1   dim_carrier_company_name           6291 non-null   string\n",
      " 2   carrier_trucks                     6291 non-null   string\n",
      " 3   signup_source                      6291 non-null   string\n",
      " 4   days_signup_to_approval            4816 non-null   Int64 \n",
      " 5   home_base_city                     6291 non-null   string\n",
      " 6   home_base_state                    6291 non-null   string\n",
      " 7   num_trucks                         6249 non-null   object\n",
      " 8   driver_with_twic                   6291 non-null   string\n",
      " 9   marketplace_loads_otr              6291 non-null   Int64 \n",
      " 10  marketplace_loads_atlas            6291 non-null   Int64 \n",
      " 11  marketplace_loads                  6291 non-null   Int64 \n",
      " 12  brokerage_loads_otr                6291 non-null   Int64 \n",
      " 13  brokerage_loads_atlas              6291 non-null   Int64 \n",
      " 14  brokerage_loads                    6291 non-null   Int64 \n",
      " 15  num_trips_made                     6291 non-null   Int64 \n",
      " 16  days_since_last_load               6291 non-null   Int64 \n",
      " 17  drayage_interested_port_qualified  6291 non-null   object\n",
      " 18  days_tenured                       6291 non-null   int64 \n",
      "dtypes: Int64(9), int64(1), object(2), string(7)\n",
      "memory usage: 989.2+ KB\n"
     ]
    }
   ],
   "source": [
    "df_concat = pd.concat([df_unlabeled, df_score], ignore_index=True)\n",
    "df_concat.info()"
   ]
  },
  {
   "cell_type": "code",
   "execution_count": 233,
   "metadata": {},
   "outputs": [],
   "source": [
    "for col in convert:\n",
    "    try:\n",
    "        df_concat[col] = df_concat[col].convert_dtypes()\n",
    "    except:\n",
    "        continue"
   ]
  },
  {
   "cell_type": "code",
   "execution_count": 234,
   "metadata": {},
   "outputs": [
    {
     "name": "stdout",
     "output_type": "stream",
     "text": [
      "<class 'pandas.core.frame.DataFrame'>\n",
      "RangeIndex: 6291 entries, 0 to 6290\n",
      "Data columns (total 19 columns):\n",
      " #   Column                             Non-Null Count  Dtype  \n",
      "---  ------                             --------------  -----  \n",
      " 0   dim_carrier_type                   6291 non-null   string \n",
      " 1   dim_carrier_company_name           6291 non-null   string \n",
      " 2   carrier_trucks                     6291 non-null   string \n",
      " 3   signup_source                      6291 non-null   string \n",
      " 4   days_signup_to_approval            4816 non-null   Int64  \n",
      " 5   home_base_city                     6291 non-null   string \n",
      " 6   home_base_state                    6291 non-null   string \n",
      " 7   num_trucks                         6249 non-null   float64\n",
      " 8   driver_with_twic                   6291 non-null   string \n",
      " 9   marketplace_loads_otr              6291 non-null   Int64  \n",
      " 10  marketplace_loads_atlas            6291 non-null   Int64  \n",
      " 11  marketplace_loads                  6291 non-null   Int64  \n",
      " 12  brokerage_loads_otr                6291 non-null   Int64  \n",
      " 13  brokerage_loads_atlas              6291 non-null   Int64  \n",
      " 14  brokerage_loads                    6291 non-null   Int64  \n",
      " 15  num_trips_made                     6291 non-null   Int64  \n",
      " 16  days_since_last_load               6291 non-null   Int64  \n",
      " 17  drayage_interested_port_qualified  6291 non-null   object \n",
      " 18  days_tenured                       6291 non-null   int64  \n",
      "dtypes: Int64(9), float64(1), int64(1), object(1), string(7)\n",
      "memory usage: 989.2+ KB\n"
     ]
    }
   ],
   "source": [
    "df_concat.info()"
   ]
  },
  {
   "cell_type": "code",
   "execution_count": 235,
   "metadata": {},
   "outputs": [],
   "source": [
    "# df_concat = df_concat.drop(columns=[\"marketplace_loads\", \"brokerage_loads\"])"
   ]
  },
  {
   "cell_type": "code",
   "execution_count": 236,
   "metadata": {},
   "outputs": [],
   "source": [
    "imputer = IterativeImputer()\n",
    "# df = imputer.fit_transform(df)\n",
    "categorical_features_one_hot = [\"dim_carrier_type\", \"dim_carrier_company_name\", \"carrier_trucks\", \n",
    "                                \"signup_source\", \"driver_with_twic\", \"home_base_city\",\"home_base_state\"] #\"home_base_city\",\"home_base_state\"\n",
    "\n",
    "df_num = df_concat.drop(columns=categorical_features_one_hot)\n",
    "# df_num = df_concat\n",
    "numerical_features = list(df_num)\n",
    "\n",
    "num_pipeline = Pipeline([\n",
    "        ('imputer', imputer),\n",
    "        ('std_scaler', StandardScaler()),\n",
    "    ])\n",
    "\n",
    "full_pipeline = ColumnTransformer([\n",
    "        (\"num\", num_pipeline, numerical_features),\n",
    "        (\"cat\", OneHotEncoder(sparse=False), categorical_features_one_hot), #sparse=False\n",
    "    ])\n",
    "df_prepared = full_pipeline.fit_transform(df_concat)"
   ]
  },
  {
   "cell_type": "code",
   "execution_count": 237,
   "metadata": {},
   "outputs": [
    {
     "data": {
      "text/plain": [
       "array([[ 1.85116313, -0.39965744, -0.20109732, ...,  0.        ,\n",
       "         0.        ,  0.        ],\n",
       "       [ 1.87262531, -0.39965744, -0.20109732, ...,  0.        ,\n",
       "         0.        ,  0.        ],\n",
       "       [ 1.88612658, -0.39965744, -0.20109732, ...,  0.        ,\n",
       "         0.        ,  0.        ],\n",
       "       ...,\n",
       "       [ 1.07263803, -0.39965744,  0.23165021, ...,  0.        ,\n",
       "         0.        ,  0.        ],\n",
       "       [ 1.75297732,  1.95624695, -0.20109732, ...,  0.        ,\n",
       "         0.        ,  0.        ],\n",
       "       [-1.00674481, -0.18762604, -0.10999258, ...,  0.        ,\n",
       "         0.        ,  0.        ]])"
      ]
     },
     "metadata": {},
     "output_type": "display_data"
    }
   ],
   "source": [
    "display(df_prepared)"
   ]
  },
  {
   "cell_type": "code",
   "execution_count": 238,
   "metadata": {},
   "outputs": [],
   "source": [
    "# X_train_temp = df_prepared[:5291]\n",
    "# y_train_temp = labels\n",
    "# X_test = df_prepared[5291:]\n",
    "# y_test = score_labels\n",
    "\n",
    "# y_train_temp = y_train_temp.astype('int')"
   ]
  },
  {
   "cell_type": "code",
   "execution_count": 239,
   "metadata": {},
   "outputs": [],
   "source": [
    "X = df_prepared[:5291]\n",
    "y = labels\n",
    "X_test_score = df_prepared[5291:]\n",
    "y_test_score = score_labels\n",
    "y_test_score = np.array(y_test_score)\n",
    "y = y.astype('int')\n",
    "X, y = SMOTE().fit_resample(X, y)\n",
    "X_train, X_test, y_train, y_test = train_test_split(X, y, test_size=0.2, random_state=42)"
   ]
  },
  {
   "cell_type": "code",
   "execution_count": 240,
   "metadata": {},
   "outputs": [],
   "source": [
    "# X_train, y_train = SMOTE().fit_resample(X_train_temp, y_train_temp)"
   ]
  },
  {
   "cell_type": "code",
   "execution_count": 241,
   "metadata": {},
   "outputs": [
    {
     "name": "stdout",
     "output_type": "stream",
     "text": [
      "(8377, 647) (2095, 647)\n",
      "(8377,) (2095,)\n",
      "(1000, 647) (1000,)\n"
     ]
    }
   ],
   "source": [
    "print(X_train.shape, X_test.shape)\n",
    "print(y_train.shape, y_test.shape)\n",
    "print(X_test_score.shape, y_test_score.shape)"
   ]
  },
  {
   "cell_type": "markdown",
   "metadata": {},
   "source": [
    "# 5. Linear Regression"
   ]
  },
  {
   "cell_type": "code",
   "execution_count": 242,
   "metadata": {},
   "outputs": [],
   "source": [
    "from sklearn.linear_model import LinearRegression\n",
    "\n",
    "lin_reg = LinearRegression()\n",
    "lin_reg.fit(X_train, y_train)\n",
    "lr_predicted = lin_reg.predict(X_test)"
   ]
  },
  {
   "cell_type": "code",
   "execution_count": 243,
   "metadata": {},
   "outputs": [
    {
     "data": {
      "text/plain": [
       "1504445460.6053133"
      ]
     },
     "execution_count": 243,
     "metadata": {},
     "output_type": "execute_result"
    }
   ],
   "source": [
    "from sklearn.metrics import mean_squared_error\n",
    "\n",
    "mse = mean_squared_error(y_test, lr_predicted)\n",
    "rmse = np.sqrt(mse)\n",
    "rmse"
   ]
  },
  {
   "cell_type": "code",
   "execution_count": 244,
   "metadata": {},
   "outputs": [
    {
     "data": {
      "text/plain": [
       "-9.054928564197502e+18"
      ]
     },
     "execution_count": 244,
     "metadata": {},
     "output_type": "execute_result"
    }
   ],
   "source": [
    "from sklearn.metrics import r2_score\n",
    "\n",
    "r2_score(y_test, lr_predicted)"
   ]
  },
  {
   "cell_type": "code",
   "execution_count": 245,
   "metadata": {},
   "outputs": [
    {
     "name": "stdout",
     "output_type": "stream",
     "text": [
      "                            OLS Regression Results                            \n",
      "==============================================================================\n",
      "Dep. Variable:                  label   R-squared:                       0.904\n",
      "Model:                            OLS   Adj. R-squared:                  0.897\n",
      "Method:                 Least Squares   F-statistic:                     137.8\n",
      "Date:                Thu, 18 Mar 2021   Prob (F-statistic):               0.00\n",
      "Time:                        12:04:37   Log-Likelihood:                 3721.5\n",
      "No. Observations:                8377   AIC:                            -6373.\n",
      "Df Residuals:                    7842   BIC:                            -2610.\n",
      "Df Model:                         534                                         \n",
      "Covariance Type:            nonrobust                                         \n",
      "==============================================================================\n",
      "                 coef    std err          t      P>|t|      [0.025      0.975]\n",
      "------------------------------------------------------------------------------\n",
      "const         -0.0064      0.025     -0.258      0.796      -0.055       0.042\n",
      "x1             0.0395      0.005      7.645      0.000       0.029       0.050\n",
      "x2            -0.7431      0.046    -16.237      0.000      -0.833      -0.653\n",
      "x3             0.0063      0.003      2.365      0.018       0.001       0.012\n",
      "x4             0.0081      0.001      8.949      0.000       0.006       0.010\n",
      "x5             0.0097      0.001      8.951      0.000       0.008       0.012\n",
      "x6            -0.0039      0.001     -4.019      0.000      -0.006      -0.002\n",
      "x7             0.0340      0.001     25.157      0.000       0.031       0.037\n",
      "x8             0.0008      0.001      0.787      0.431      -0.001       0.003\n",
      "x9             0.0967      0.002     46.375      0.000       0.093       0.101\n",
      "x10            0.1041      0.006     18.116      0.000       0.093       0.115\n",
      "x11           -0.0421      0.004    -11.831      0.000      -0.049      -0.035\n",
      "x12           -0.0902      0.004    -22.467      0.000      -0.098      -0.082\n",
      "x13           -0.2204      0.119     -1.851      0.064      -0.454       0.013\n",
      "x14            0.1483      0.048      3.060      0.002       0.053       0.243\n",
      "x15            0.0657      0.048      1.355      0.175      -0.029       0.161\n",
      "x16            0.3037      0.081      3.756      0.000       0.145       0.462\n",
      "x17           -0.4851      0.044    -11.078      0.000      -0.571      -0.399\n",
      "x18           -0.4817      0.048    -10.117      0.000      -0.575      -0.388\n",
      "x19           -0.0591      0.062     -0.955      0.340      -0.180       0.062\n",
      "x20           -0.2833      0.052     -5.470      0.000      -0.385      -0.182\n",
      "x21            0.1886      0.064      2.957      0.003       0.064       0.314\n",
      "x22           -0.3382      0.038     -8.971      0.000      -0.412      -0.264\n",
      "x23           -0.1432      0.052     -2.771      0.006      -0.244      -0.042\n",
      "x24           -0.0349      0.040     -0.880      0.379      -0.113       0.043\n",
      "x25           -0.1366      0.052     -2.650      0.008      -0.238      -0.036\n",
      "x26           -0.2656      0.040     -6.700      0.000      -0.343      -0.188\n",
      "x27           -0.5526      0.038    -14.442      0.000      -0.628      -0.478\n",
      "x28            0.0770      0.046      1.689      0.091      -0.012       0.166\n",
      "x29           -0.0755      0.019     -4.005      0.000      -0.112      -0.039\n",
      "x30           -0.0340      0.049     -0.698      0.485      -0.129       0.061\n",
      "x31            0.1658      0.056      2.958      0.003       0.056       0.276\n",
      "x32           -0.1190      0.046     -2.568      0.010      -0.210      -0.028\n",
      "x33           -0.1120      0.043     -2.598      0.009      -0.196      -0.027\n",
      "x34            0.1078      0.045      2.383      0.017       0.019       0.197\n",
      "x35           -0.2449      0.063     -3.902      0.000      -0.368      -0.122\n",
      "x36           -0.0681      0.032     -2.103      0.036      -0.132      -0.005\n",
      "x37            0.0756      0.072      1.053      0.292      -0.065       0.216\n",
      "x38            0.0180      0.042      0.425      0.671      -0.065       0.101\n",
      "x39            0.1986      0.047      4.190      0.000       0.106       0.291\n",
      "x40           -0.3176      0.061     -5.243      0.000      -0.436      -0.199\n",
      "x41           -0.1166      0.072     -1.627      0.104      -0.257       0.024\n",
      "x42           -0.0656      0.056     -1.176      0.240      -0.175       0.044\n",
      "x43           -0.0333      0.060     -0.550      0.582      -0.152       0.085\n",
      "x44           -0.4566      0.114     -4.016      0.000      -0.679      -0.234\n",
      "x45           -0.0338      0.022     -1.504      0.133      -0.078       0.010\n",
      "x46           -0.0485      0.025     -1.938      0.053      -0.097       0.001\n",
      "x47           -0.0986      0.062     -1.601      0.109      -0.219       0.022\n",
      "x48            0.4628      0.068      6.799      0.000       0.329       0.596\n",
      "x49            2.8561      0.184     15.508      0.000       2.495       3.217\n",
      "x50           -0.1107      0.025     -4.396      0.000      -0.160      -0.061\n",
      "x51           -0.2180      0.020    -11.087      0.000      -0.257      -0.179\n",
      "x52           -0.0733      0.065     -1.136      0.256      -0.200       0.053\n",
      "x53            0.1011      0.035      2.871      0.004       0.032       0.170\n",
      "x54           -0.5078      0.045    -11.395      0.000      -0.595      -0.420\n",
      "x55            1.2828      0.076     16.777      0.000       1.133       1.433\n",
      "x56           -0.3027      0.054     -5.626      0.000      -0.408      -0.197\n",
      "x57            0.1458      0.041      3.567      0.000       0.066       0.226\n",
      "x58            0.1906      0.064      2.992      0.003       0.066       0.316\n",
      "x59           -0.2278      0.051     -4.447      0.000      -0.328      -0.127\n",
      "x60           -0.0080      0.047     -0.171      0.864      -0.100       0.084\n",
      "x61           -0.1289      0.062     -2.091      0.037      -0.250      -0.008\n",
      "x62            0.1590      0.055      2.878      0.004       0.051       0.267\n",
      "x63            0.1905      0.038      4.948      0.000       0.115       0.266\n",
      "x64           -0.1426      0.035     -4.025      0.000      -0.212      -0.073\n",
      "x65           -0.0094      0.031     -0.306      0.760      -0.070       0.051\n",
      "x66           -0.1969      0.046     -4.277      0.000      -0.287      -0.107\n",
      "x67           -0.0484      0.023     -2.124      0.034      -0.093      -0.004\n",
      "x68            0.0915      0.108      0.844      0.399      -0.121       0.304\n",
      "x69            0.2782      0.022     12.507      0.000       0.235       0.322\n",
      "x70         1.193e-15   1.32e-15      0.906      0.365   -1.39e-15    3.78e-15\n",
      "x71           -0.1423      0.151     -0.943      0.346      -0.438       0.154\n",
      "x72           -0.1127      0.018     -6.105      0.000      -0.149      -0.077\n",
      "x73            0.1220      0.046      2.641      0.008       0.031       0.213\n",
      "x74           -0.0225      0.016     -1.366      0.172      -0.055       0.010\n",
      "x75            0.0507      0.042      1.198      0.231      -0.032       0.134\n",
      "x76           -0.1806      0.051     -3.526      0.000      -0.281      -0.080\n",
      "x77           -0.0690      0.028     -2.472      0.013      -0.124      -0.014\n",
      "x78            0.0759      0.017      4.437      0.000       0.042       0.109\n",
      "x79           -0.0077      0.057     -0.135      0.893      -0.120       0.104\n",
      "x80           -0.1155      0.046     -2.494      0.013      -0.206      -0.025\n",
      "x81           -0.0167      0.031     -0.539      0.590      -0.078       0.044\n",
      "x82            0.0908      0.035      2.561      0.010       0.021       0.160\n",
      "x83            0.0038      0.013      0.284      0.777      -0.022       0.030\n",
      "x84           -0.0101      0.013     -0.789      0.430      -0.035       0.015\n",
      "x85           -0.0706      0.013     -5.442      0.000      -0.096      -0.045\n",
      "x86            0.0642      0.014      4.696      0.000       0.037       0.091\n",
      "x87            0.0798      0.160      0.499      0.618      -0.234       0.394\n",
      "x88           -0.1104      0.160     -0.691      0.490      -0.424       0.203\n",
      "x89           -0.0016      0.057     -0.027      0.978      -0.114       0.111\n",
      "x90            0.0321      0.075      0.428      0.669      -0.115       0.179\n",
      "x91           -0.0521      0.134     -0.390      0.696      -0.314       0.210\n",
      "x92            0.3179      0.035      9.173      0.000       0.250       0.386\n",
      "x93            0.0482      0.092      0.525      0.599      -0.132       0.228\n",
      "x94            0.0834      0.160      0.521      0.603      -0.231       0.397\n",
      "x95           -0.1664      0.035     -4.727      0.000      -0.235      -0.097\n",
      "x96           -0.0272      0.113     -0.241      0.810      -0.249       0.194\n",
      "x97           -0.1225      0.155     -0.791      0.429      -0.426       0.181\n",
      "x98           -0.1010      0.081     -1.250      0.211      -0.259       0.057\n",
      "x99            0.0417      0.054      0.769      0.442      -0.065       0.148\n",
      "x100           0.1164      0.160      0.726      0.468      -0.198       0.430\n",
      "x101          -0.0605      0.156     -0.389      0.697      -0.366       0.245\n",
      "x102          -0.0460      0.070     -0.658      0.510      -0.183       0.091\n",
      "x103          -0.1007      0.152     -0.663      0.507      -0.399       0.197\n",
      "x104           0.0642      0.143      0.450      0.653      -0.215       0.344\n",
      "x105           0.1022      0.150      0.680      0.497      -0.193       0.397\n",
      "x106          -0.0936      0.126     -0.740      0.459      -0.341       0.154\n",
      "x107          -0.0415      0.052     -0.803      0.422      -0.143       0.060\n",
      "x108           0.0062      0.031      0.199      0.842      -0.055       0.068\n",
      "x109          -0.1390      0.045     -3.058      0.002      -0.228      -0.050\n",
      "x110       -2.425e-16   6.47e-16     -0.375      0.708   -1.51e-15    1.03e-15\n",
      "x111           0.0705      0.079      0.890      0.374      -0.085       0.226\n",
      "x112          -0.0812      0.160     -0.508      0.611      -0.394       0.232\n",
      "x113       -1.815e-16   1.16e-15     -0.156      0.876   -2.46e-15     2.1e-15\n",
      "x114       -9.709e-16   1.07e-15     -0.905      0.365   -3.07e-15    1.13e-15\n",
      "x115           0.0089      0.160      0.056      0.956      -0.305       0.323\n",
      "x116          -0.0718      0.034     -2.120      0.034      -0.138      -0.005\n",
      "x117          -0.0791      0.045     -1.739      0.082      -0.168       0.010\n",
      "x118          -0.0726      0.041     -1.756      0.079      -0.154       0.008\n",
      "x119          -0.0039      0.112     -0.034      0.973      -0.224       0.216\n",
      "x120          -0.0839      0.077     -1.083      0.279      -0.236       0.068\n",
      "x121           0.0212      0.142      0.149      0.882      -0.258       0.300\n",
      "x122           0.0222      0.160      0.139      0.890      -0.292       0.336\n",
      "x123       -6.046e-16   6.77e-16     -0.892      0.372   -1.93e-15    7.23e-16\n",
      "x124           0.0090      0.158      0.057      0.955      -0.301       0.319\n",
      "x125           0.0491      0.160      0.308      0.758      -0.264       0.362\n",
      "x126          -0.0237      0.036     -0.654      0.513      -0.095       0.047\n",
      "x127           0.1495      0.155      0.965      0.334      -0.154       0.453\n",
      "x128        6.401e-16   1.15e-15      0.558      0.577   -1.61e-15    2.89e-15\n",
      "x129          -0.1025      0.152     -0.674      0.500      -0.401       0.196\n",
      "x130          -0.0278      0.093     -0.299      0.765      -0.210       0.154\n",
      "x131           0.0250      0.142      0.176      0.861      -0.254       0.304\n",
      "x132       -2.762e-16   1.01e-15     -0.273      0.785   -2.26e-15    1.71e-15\n",
      "x133           0.0343      0.161      0.213      0.831      -0.281       0.350\n",
      "x134           0.1166      0.158      0.738      0.461      -0.193       0.426\n",
      "x135        2.196e-16      1e-15      0.219      0.827   -1.75e-15    2.18e-15\n",
      "x136       -8.666e-17   1.12e-15     -0.078      0.938   -2.27e-15     2.1e-15\n",
      "x137           0.0312      0.151      0.206      0.837      -0.265       0.327\n",
      "x138          -0.0270      0.156     -0.173      0.862      -0.332       0.278\n",
      "x139           0.0926      0.137      0.675      0.500      -0.177       0.362\n",
      "x140           0.0143      0.080      0.177      0.859      -0.143       0.172\n",
      "x141        4.049e-17   1.07e-15      0.038      0.970   -2.05e-15    2.13e-15\n",
      "x142          -0.0054      0.128     -0.042      0.966      -0.257       0.246\n",
      "x143           0.0096      0.057      0.168      0.867      -0.103       0.122\n",
      "x144          -0.0812      0.081     -1.007      0.314      -0.239       0.077\n",
      "x145          -0.3369      0.114     -2.964      0.003      -0.560      -0.114\n",
      "x146          -0.0142      0.113     -0.125      0.900      -0.237       0.208\n",
      "x147          -0.0674      0.160     -0.422      0.673      -0.381       0.246\n",
      "x148          -0.0925      0.160     -0.579      0.563      -0.406       0.221\n",
      "x149          -0.0176      0.019     -0.921      0.357      -0.055       0.020\n",
      "x150          -0.1651      0.160     -1.031      0.303      -0.479       0.149\n",
      "x151           0.0156      0.160      0.097      0.923      -0.298       0.330\n",
      "x152          -0.0062      0.111     -0.056      0.956      -0.223       0.211\n",
      "x153          -0.0773      0.054     -1.420      0.156      -0.184       0.029\n",
      "x154          -0.0500      0.083     -0.603      0.547      -0.213       0.113\n",
      "x155           0.1021      0.144      0.709      0.478      -0.180       0.385\n",
      "x156           0.3015      0.082      3.659      0.000       0.140       0.463\n",
      "x157           0.0161      0.047      0.340      0.734      -0.077       0.109\n",
      "x158        5.092e-16   1.58e-15      0.322      0.747   -2.59e-15    3.61e-15\n",
      "x159          -0.0823      0.041     -1.996      0.046      -0.163      -0.001\n",
      "x160          -0.1176      0.047     -2.492      0.013      -0.210      -0.025\n",
      "x161           0.1341      0.160      0.837      0.402      -0.180       0.448\n",
      "x162          -0.0835      0.187     -0.447      0.655      -0.450       0.282\n",
      "x163          -0.0046      0.052     -0.089      0.929      -0.106       0.097\n",
      "x164          -0.0022      0.071     -0.031      0.975      -0.141       0.137\n",
      "x165           0.1699      0.160      1.060      0.289      -0.144       0.484\n",
      "x166           0.0385      0.032      1.204      0.229      -0.024       0.101\n",
      "x167          -0.0681      0.032     -2.103      0.036      -0.132      -0.005\n",
      "x168          -0.0521      0.147     -0.355      0.723      -0.340       0.236\n",
      "x169          -0.1025      0.155     -0.662      0.508      -0.406       0.201\n",
      "x170           0.1066      0.149      0.716      0.474      -0.185       0.399\n",
      "x171          -0.0245      0.158     -0.155      0.877      -0.334       0.285\n",
      "x172          -0.0823      0.163     -0.506      0.613      -0.401       0.237\n",
      "x173        2.278e-16   1.63e-15      0.140      0.889   -2.96e-15    3.42e-15\n",
      "x174          -0.1766      0.142     -1.240      0.215      -0.456       0.103\n",
      "x175          -0.0839      0.054     -1.549      0.121      -0.190       0.022\n",
      "x176          -0.1174      0.149     -0.788      0.431      -0.409       0.175\n",
      "x177          -0.0755      0.047     -1.598      0.110      -0.168       0.017\n",
      "x178           0.0438      0.230      0.190      0.849      -0.408       0.495\n",
      "x179          -0.2607      0.021    -12.262      0.000      -0.302      -0.219\n",
      "x180           0.0255      0.194      0.131      0.895      -0.355       0.406\n",
      "x181          -0.0386      0.156     -0.248      0.804      -0.344       0.267\n",
      "x182           0.0984      0.147      0.670      0.503      -0.190       0.386\n",
      "x183           0.0058      0.033      0.172      0.863      -0.060       0.071\n",
      "x184          -0.0347      0.160     -0.217      0.828      -0.349       0.279\n",
      "x185          -0.1473      0.066     -2.231      0.026      -0.277      -0.018\n",
      "x186          -0.0071      0.114     -0.062      0.950      -0.230       0.216\n",
      "x187          -0.2406      0.114     -2.117      0.034      -0.463      -0.018\n",
      "x188          -0.1349      0.160     -0.843      0.399      -0.449       0.179\n",
      "x189          -0.1610      0.093     -1.736      0.083      -0.343       0.021\n",
      "x190           0.1108      0.082      1.343      0.179      -0.051       0.272\n",
      "x191          -0.0607      0.160     -0.380      0.704      -0.374       0.253\n",
      "x192          -0.0224      0.153     -0.146      0.884      -0.323       0.278\n",
      "x193          -0.0069      0.156     -0.044      0.965      -0.313       0.299\n",
      "x194          -0.0779      0.109     -0.712      0.477      -0.292       0.137\n",
      "x195           0.0063      0.156      0.040      0.968      -0.299       0.312\n",
      "x196          -0.1034      0.160     -0.646      0.519      -0.417       0.211\n",
      "x197           0.0515      0.151      0.341      0.733      -0.245       0.348\n",
      "x198           0.0841      0.230      0.365      0.715      -0.367       0.536\n",
      "x199           0.0964      0.160      0.602      0.547      -0.218       0.410\n",
      "x200           0.0543      0.052      1.054      0.292      -0.047       0.155\n",
      "x201           0.1044      0.058      1.797      0.072      -0.009       0.218\n",
      "x202          -0.0410      0.112     -0.367      0.714      -0.260       0.178\n",
      "x203          -0.0533      0.150     -0.355      0.723      -0.348       0.241\n",
      "x204           0.2426      0.017     13.972      0.000       0.209       0.277\n",
      "x205          -0.0485      0.025     -1.938      0.053      -0.097       0.001\n",
      "x206          -0.1830      0.160     -1.145      0.252      -0.496       0.130\n",
      "x207           0.0814      0.160      0.508      0.611      -0.233       0.395\n",
      "x208          -0.0406      0.158     -0.257      0.797      -0.350       0.269\n",
      "x209          -0.1439      0.094     -1.529      0.126      -0.328       0.041\n",
      "x210          -0.3706      0.093     -3.988      0.000      -0.553      -0.188\n",
      "x211           0.0582      0.151      0.385      0.700      -0.238       0.355\n",
      "x212          -0.1090      0.111     -0.980      0.327      -0.327       0.109\n",
      "x213          -0.0555      0.066     -0.839      0.402      -0.185       0.074\n",
      "x214          -0.0476      0.031     -1.512      0.130      -0.109       0.014\n",
      "x215           0.0675      0.054      1.249      0.212      -0.038       0.173\n",
      "x216           0.0884      0.081      1.097      0.273      -0.070       0.246\n",
      "x217          -0.0610      0.160     -0.381      0.703      -0.375       0.253\n",
      "x218           0.0238      0.149      0.160      0.873      -0.268       0.316\n",
      "x219          -0.0086      0.158     -0.054      0.957      -0.318       0.301\n",
      "x220          -0.0285      0.072     -0.395      0.693      -0.170       0.113\n",
      "x221          -0.0988      0.068     -1.454      0.146      -0.232       0.034\n",
      "x222          -0.0806      0.115     -0.698      0.485      -0.307       0.146\n",
      "x223           0.0390      0.115      0.338      0.735      -0.187       0.265\n",
      "x224           0.1270      0.160      0.793      0.428      -0.187       0.441\n",
      "x225       -4.848e-17    1.4e-15     -0.035      0.972   -2.79e-15    2.69e-15\n",
      "x226           0.0171      0.152      0.113      0.910      -0.281       0.315\n",
      "x227           0.0233      0.160      0.146      0.884      -0.291       0.337\n",
      "x228          -0.0184      0.137     -0.135      0.893      -0.286       0.249\n",
      "x229       -3.744e-17   8.21e-16     -0.046      0.964   -1.65e-15    1.57e-15\n",
      "x230          -0.0396      0.106     -0.374      0.708      -0.247       0.168\n",
      "x231           0.0420      0.014      3.033      0.002       0.015       0.069\n",
      "x232           0.0642      0.049      1.321      0.187      -0.031       0.160\n",
      "x233          -0.0280      0.140     -0.199      0.842      -0.303       0.247\n",
      "x234           0.0882      0.156      0.566      0.571      -0.217       0.394\n",
      "x235          -0.0426      0.072     -0.590      0.555      -0.184       0.099\n",
      "x236          -0.0325      0.032     -1.008      0.313      -0.096       0.031\n",
      "x237          -0.1559      0.113     -1.373      0.170      -0.378       0.067\n",
      "x238          -0.0710      0.160     -0.443      0.657      -0.385       0.243\n",
      "x239           0.1953      0.190      1.030      0.303      -0.176       0.567\n",
      "x240          -0.1194      0.093     -1.283      0.200      -0.302       0.063\n",
      "x241          -0.1001      0.032     -3.096      0.002      -0.163      -0.037\n",
      "x242           0.0291      0.140      0.208      0.836      -0.246       0.304\n",
      "x243       -5.514e-17   9.69e-16     -0.057      0.955   -1.95e-15    1.84e-15\n",
      "x244           0.0866      0.189      0.457      0.648      -0.285       0.458\n",
      "x245           0.0175      0.033      0.533      0.594      -0.047       0.082\n",
      "x246        1.051e-16   1.55e-15      0.068      0.946   -2.94e-15    3.15e-15\n",
      "x247           0.0419      0.190      0.221      0.825      -0.330       0.413\n",
      "x248           0.0111      0.159      0.070      0.944      -0.300       0.322\n",
      "x249       -3.059e-17   8.76e-16     -0.035      0.972   -1.75e-15    1.69e-15\n",
      "x250           0.0360      0.112      0.323      0.747      -0.183       0.255\n",
      "x251          -0.0327      0.079     -0.412      0.680      -0.188       0.123\n",
      "x252          -0.0177      0.028     -0.645      0.519      -0.072       0.036\n",
      "x253        9.417e-17   1.03e-15      0.092      0.927   -1.92e-15    2.11e-15\n",
      "x254           0.0245      0.119      0.205      0.837      -0.210       0.259\n",
      "x255          -0.2329      0.101     -2.297      0.022      -0.432      -0.034\n",
      "x256           0.0705      0.080      0.877      0.380      -0.087       0.228\n",
      "x257          -0.4362      0.072     -6.029      0.000      -0.578      -0.294\n",
      "x258          -0.1872      0.044     -4.250      0.000      -0.273      -0.101\n",
      "x259           0.0202      0.093      0.218      0.828      -0.162       0.202\n",
      "x260           0.0212      0.119      0.178      0.859      -0.213       0.255\n",
      "x261          -0.0939      0.160     -0.586      0.558      -0.408       0.220\n",
      "x262           0.0623      0.143      0.436      0.663      -0.218       0.343\n",
      "x263        1.133e-16   7.49e-16      0.151      0.880   -1.35e-15    1.58e-15\n",
      "x264           0.2008      0.150      1.335      0.182      -0.094       0.496\n",
      "x265           0.0316      0.033      0.961      0.336      -0.033       0.096\n",
      "x266           0.0703      0.113      0.624      0.533      -0.151       0.291\n",
      "x267          -0.0800      0.160     -0.499      0.618      -0.394       0.234\n",
      "x268           0.0354      0.096      0.368      0.713      -0.153       0.224\n",
      "x269          -0.0436      0.155     -0.282      0.778      -0.347       0.260\n",
      "x270       -2.079e-16   1.46e-15     -0.142      0.887   -3.08e-15    2.66e-15\n",
      "x271          -0.0928      0.160     -0.581      0.561      -0.406       0.220\n",
      "x272        -6.08e-17   1.12e-15     -0.054      0.957   -2.26e-15    2.14e-15\n",
      "x273          -0.0376      0.070     -0.538      0.591      -0.174       0.099\n",
      "x274       -8.713e-17    1.2e-15     -0.073      0.942   -2.43e-15    2.26e-15\n",
      "x275          -0.1633      0.061     -2.667      0.008      -0.283      -0.043\n",
      "x276          -0.0958      0.160     -0.599      0.549      -0.409       0.218\n",
      "x277          -0.1629      0.161     -1.015      0.310      -0.478       0.152\n",
      "x278       -7.645e-17   1.15e-15     -0.066      0.947   -2.34e-15    2.18e-15\n",
      "x279           0.1121      0.065      1.735      0.083      -0.015       0.239\n",
      "x280          -0.0753      0.061     -1.231      0.218      -0.195       0.045\n",
      "x281           0.1541      0.023      6.816      0.000       0.110       0.198\n",
      "x282           0.0152      0.079      0.192      0.848      -0.140       0.171\n",
      "x283        2.851e-17   1.51e-15      0.019      0.985   -2.92e-15    2.98e-15\n",
      "x284          -0.0789      0.072     -1.093      0.275      -0.220       0.063\n",
      "x285          -0.3553      0.027    -13.002      0.000      -0.409      -0.302\n",
      "x286       -3.254e-17    1.3e-15     -0.025      0.980   -2.58e-15    2.51e-15\n",
      "x287           0.0698      0.062      1.120      0.263      -0.052       0.192\n",
      "x288          -0.0438      0.158     -0.278      0.781      -0.353       0.266\n",
      "x289          -0.1844      0.160     -1.154      0.249      -0.498       0.129\n",
      "x290          -0.0755      0.149     -0.508      0.612      -0.367       0.216\n",
      "x291          -0.0623      0.039     -1.593      0.111      -0.139       0.014\n",
      "x292           0.1408      0.085      1.652      0.099      -0.026       0.308\n",
      "x293          -0.0645      0.156     -0.414      0.679      -0.370       0.241\n",
      "x294          -0.0335      0.158     -0.212      0.832      -0.343       0.276\n",
      "x295        1.565e-17   9.91e-16      0.016      0.987   -1.93e-15    1.96e-15\n",
      "x296          -0.1038      0.153     -0.676      0.499      -0.404       0.197\n",
      "x297        8.574e-17   1.69e-15      0.051      0.960   -3.23e-15     3.4e-15\n",
      "x298           0.0907      0.160      0.567      0.571      -0.223       0.405\n",
      "x299          -0.0887      0.081     -1.101      0.271      -0.247       0.069\n",
      "x300          -0.0077      0.057     -0.135      0.893      -0.120       0.104\n",
      "x301          -0.2767      0.114     -2.436      0.015      -0.499      -0.054\n",
      "x302           0.2989      0.024     12.238      0.000       0.251       0.347\n",
      "x303          -0.1108      0.093     -1.193      0.233      -0.293       0.071\n",
      "x304           0.0288      0.033      0.876      0.381      -0.036       0.093\n",
      "x305           0.2114      0.160      1.319      0.187      -0.103       0.525\n",
      "x306          -0.0519      0.112     -0.465      0.642      -0.271       0.167\n",
      "x307          -0.1660      0.160     -1.037      0.300      -0.480       0.148\n",
      "x308          -0.2372      0.093     -2.550      0.011      -0.420      -0.055\n",
      "x309          -0.0599      0.160     -0.374      0.708      -0.374       0.254\n",
      "x310          -0.1066      0.047     -2.254      0.024      -0.199      -0.014\n",
      "x311          -0.0522      0.049     -1.060      0.289      -0.149       0.044\n",
      "x312          -0.0885      0.112     -0.788      0.431      -0.309       0.132\n",
      "x313          -0.0195      0.052     -0.374      0.709      -0.122       0.083\n",
      "x314        4.674e-17   1.76e-15      0.027      0.979    -3.4e-15    3.49e-15\n",
      "x315           0.0338      0.163      0.208      0.835      -0.285       0.353\n",
      "x316          -0.0852      0.079     -1.074      0.283      -0.241       0.070\n",
      "x317          -0.1328      0.114     -1.167      0.243      -0.356       0.090\n",
      "x318           0.0783      0.155      0.506      0.613      -0.225       0.382\n",
      "x319       -4.747e-17   6.41e-16     -0.074      0.941    -1.3e-15    1.21e-15\n",
      "x320          -0.0915      0.109     -0.836      0.403      -0.306       0.123\n",
      "x321          -0.1238      0.160     -0.773      0.440      -0.438       0.190\n",
      "x322          -0.0486      0.116     -0.419      0.675      -0.276       0.179\n",
      "x323          -0.2683      0.194     -1.383      0.167      -0.649       0.112\n",
      "x324           0.0503      0.137      0.367      0.714      -0.219       0.319\n",
      "x325          -0.1128      0.155     -0.727      0.467      -0.417       0.191\n",
      "x326          -0.1107      0.025     -4.396      0.000      -0.160      -0.061\n",
      "x327          -0.0216      0.113     -0.190      0.849      -0.244       0.201\n",
      "x328           0.0942      0.113      0.830      0.406      -0.128       0.317\n",
      "x329          -0.0112      0.165     -0.068      0.946      -0.334       0.312\n",
      "x330           0.1718      0.014     12.240      0.000       0.144       0.199\n",
      "x331          -0.0630      0.160     -0.394      0.694      -0.377       0.251\n",
      "x332           0.0713      0.011      6.398      0.000       0.049       0.093\n",
      "x333          -0.0410      0.031     -1.334      0.182      -0.101       0.019\n",
      "x334           0.1670      0.160      1.043      0.297      -0.147       0.481\n",
      "x335           0.0576      0.133      0.432      0.666      -0.204       0.319\n",
      "x336           0.1445      0.149      0.970      0.332      -0.147       0.436\n",
      "x337          -0.0444      0.113     -0.392      0.695      -0.266       0.177\n",
      "x338           0.1171      0.086      1.357      0.175      -0.052       0.286\n",
      "x339           0.0287      0.152      0.189      0.850      -0.269       0.327\n",
      "x340           0.0621      0.017      3.668      0.000       0.029       0.095\n",
      "x341        1.856e-21   1.58e-15   1.18e-06      1.000   -3.09e-15    3.09e-15\n",
      "x342          -0.0338      0.022     -1.504      0.133      -0.078       0.010\n",
      "x343          -0.1697      0.144     -1.178      0.239      -0.452       0.113\n",
      "x344           0.0306      0.054      0.563      0.574      -0.076       0.137\n",
      "x345           0.0147      0.147      0.100      0.920      -0.273       0.303\n",
      "x346          -0.0382      0.045     -0.842      0.400      -0.127       0.051\n",
      "x347           0.0544      0.152      0.358      0.720      -0.244       0.352\n",
      "x348          -0.1426      0.035     -4.025      0.000      -0.212      -0.073\n",
      "x349          -0.0659      0.149     -0.443      0.658      -0.358       0.226\n",
      "x350          -0.0768      0.135     -0.570      0.569      -0.341       0.187\n",
      "x351           0.1025      0.026      3.957      0.000       0.052       0.153\n",
      "x352          -0.0713      0.156     -0.458      0.647      -0.377       0.234\n",
      "x353        4.066e-22   1.49e-15   2.72e-07      1.000   -2.93e-15    2.93e-15\n",
      "x354       -3.294e-22   6.61e-16  -4.99e-07      1.000   -1.29e-15    1.29e-15\n",
      "x355           0.0641      0.147      0.437      0.662      -0.224       0.352\n",
      "x356           0.1278      0.155      0.825      0.409      -0.176       0.431\n",
      "x357          -0.0643      0.156     -0.413      0.680      -0.370       0.241\n",
      "x358          -0.0300      0.093     -0.324      0.746      -0.212       0.152\n",
      "x359           0.0710      0.093      0.766      0.444      -0.111       0.253\n",
      "x360          -0.0621      0.160     -0.387      0.698      -0.376       0.252\n",
      "x361          -0.1393      0.113     -1.227      0.220      -0.362       0.083\n",
      "x362       -5.769e-28   5.78e-16  -9.97e-13      1.000   -1.13e-15    1.13e-15\n",
      "x363           0.0061      0.053      0.116      0.907      -0.097       0.109\n",
      "x364       -2.886e-27   1.58e-15  -1.83e-12      1.000    -3.1e-15     3.1e-15\n",
      "x365           0.1016      0.160      0.634      0.526      -0.212       0.416\n",
      "x366           0.0793      0.158      0.501      0.616      -0.231       0.390\n",
      "x367           0.0087      0.113      0.077      0.939      -0.213       0.231\n",
      "x368          -0.2481      0.072     -3.428      0.001      -0.390      -0.106\n",
      "x369           0.3941      0.023     17.302      0.000       0.349       0.439\n",
      "x370           0.0557      0.138      0.404      0.686      -0.215       0.326\n",
      "x371          -0.0803      0.080     -0.998      0.318      -0.238       0.077\n",
      "x372           0.0778      0.158      0.493      0.622      -0.232       0.387\n",
      "x373           0.0468      0.115      0.408      0.683      -0.178       0.272\n",
      "x374           0.0885      0.026      3.435      0.001       0.038       0.139\n",
      "x375          -0.1633      0.061     -2.666      0.008      -0.283      -0.043\n",
      "x376          -0.0259      0.255     -0.101      0.919      -0.527       0.475\n",
      "x377           0.1353      0.158      0.857      0.392      -0.174       0.445\n",
      "x378           0.0173      0.160      0.108      0.914      -0.297       0.331\n",
      "x379           0.0482      0.018      2.748      0.006       0.014       0.083\n",
      "x380           0.1946      0.160      1.215      0.224      -0.119       0.509\n",
      "x381           0.1166      0.158      0.738      0.461      -0.193       0.426\n",
      "x382        6.117e-28   1.46e-15    4.2e-13      1.000   -2.86e-15    2.86e-15\n",
      "x383          -0.0888      0.096     -0.923      0.356      -0.277       0.100\n",
      "x384          -0.0932      0.160     -0.581      0.561      -0.408       0.221\n",
      "x385          -0.0800      0.072     -1.107      0.268      -0.222       0.062\n",
      "x386       -1.343e-27   8.34e-16  -1.61e-12      1.000   -1.64e-15    1.64e-15\n",
      "x387           0.1887      0.190      0.996      0.319      -0.183       0.560\n",
      "x388           0.2045      0.160      1.276      0.202      -0.110       0.519\n",
      "x389          -0.0249      0.082     -0.304      0.761      -0.185       0.135\n",
      "x390           0.0696      0.160      0.435      0.663      -0.244       0.383\n",
      "x391          -0.0049      0.093     -0.053      0.958      -0.187       0.177\n",
      "x392           0.0459      0.138      0.332      0.740      -0.225       0.316\n",
      "x393           0.0284      0.066      0.433      0.665      -0.100       0.157\n",
      "x394           0.0076      0.081      0.094      0.925      -0.151       0.167\n",
      "x395          -0.1177      0.113     -1.038      0.299      -0.340       0.105\n",
      "x396          -0.0457      0.090     -0.505      0.614      -0.223       0.132\n",
      "x397           0.1681      0.142      1.180      0.238      -0.111       0.447\n",
      "x398           0.8779      0.046     19.129      0.000       0.788       0.968\n",
      "x399           0.3187      0.021     15.422      0.000       0.278       0.359\n",
      "x400       -5.907e-27    1.5e-15  -3.93e-12      1.000   -2.95e-15    2.95e-15\n",
      "x401          -0.0727      0.116     -0.629      0.529      -0.299       0.154\n",
      "x402          -0.0846      0.114     -0.744      0.457      -0.307       0.138\n",
      "x403        2.103e-28   9.15e-16    2.3e-13      1.000   -1.79e-15    1.79e-15\n",
      "x404           0.1165      0.082      1.416      0.157      -0.045       0.278\n",
      "x405          -0.0200      0.079     -0.253      0.801      -0.175       0.135\n",
      "x406           0.0732      0.160      0.458      0.647      -0.240       0.387\n",
      "x407          -0.0436      0.019     -2.346      0.019      -0.080      -0.007\n",
      "x408       -1.062e-27   1.24e-15  -8.58e-13      1.000   -2.43e-15    2.43e-15\n",
      "x409          -0.0755      0.019     -4.005      0.000      -0.112      -0.039\n",
      "x410           0.1777      0.160      1.109      0.267      -0.136       0.492\n",
      "x411       -1.759e-27   8.05e-16  -2.18e-12      1.000   -1.58e-15    1.58e-15\n",
      "x412           0.1559      0.155      1.007      0.314      -0.148       0.459\n",
      "x413           0.0449      0.093      0.483      0.629      -0.137       0.227\n",
      "x414           0.0061      0.143      0.043      0.966      -0.274       0.286\n",
      "x415          -0.0049      0.117     -0.042      0.967      -0.234       0.225\n",
      "x416          -0.0705      0.160     -0.440      0.660      -0.384       0.243\n",
      "x417           0.0946      0.037      2.546      0.011       0.022       0.167\n",
      "x418          -0.1375      0.019     -7.080      0.000      -0.176      -0.099\n",
      "x419          -0.1289      0.058     -2.209      0.027      -0.243      -0.015\n",
      "x420       -8.127e-28   1.16e-15  -7.01e-13      1.000   -2.27e-15    2.27e-15\n",
      "x421          -0.1534      0.156     -0.985      0.325      -0.459       0.152\n",
      "x422          -0.0094      0.031     -0.306      0.760      -0.070       0.051\n",
      "x423           0.1361      0.189      0.719      0.472      -0.235       0.507\n",
      "x424          -0.0816      0.023     -3.493      0.000      -0.127      -0.036\n",
      "x425          -0.0657      0.081     -0.814      0.416      -0.224       0.093\n",
      "x426       -3.121e-27   1.41e-15  -2.21e-12      1.000   -2.76e-15    2.76e-15\n",
      "x427           0.0196      0.110      0.178      0.859      -0.196       0.235\n",
      "x428           0.0522      0.054      0.962      0.336      -0.054       0.158\n",
      "x429          -0.0914      0.160     -0.570      0.568      -0.406       0.223\n",
      "x430           0.1350      0.160      0.843      0.399      -0.179       0.449\n",
      "x431           0.0625      0.160      0.390      0.696      -0.251       0.376\n",
      "x432           0.0139      0.044      0.318      0.751      -0.072       0.100\n",
      "x433          -0.0331      0.150     -0.220      0.826      -0.328       0.262\n",
      "x434        2.687e-27   1.45e-15   1.85e-12      1.000   -2.84e-15    2.84e-15\n",
      "x435          -0.0584      0.147     -0.397      0.691      -0.347       0.230\n",
      "x436           0.0416      0.152      0.273      0.785      -0.256       0.339\n",
      "x437           0.0282      0.138      0.205      0.838      -0.242       0.299\n",
      "x438           0.0689      0.114      0.603      0.546      -0.155       0.293\n",
      "x439           0.1691      0.160      1.056      0.291      -0.145       0.483\n",
      "x440          -0.0530      0.093     -0.572      0.568      -0.235       0.129\n",
      "x441          -0.0005      0.028     -0.019      0.985      -0.055       0.054\n",
      "x442          -0.0748      0.113     -0.659      0.510      -0.297       0.148\n",
      "x443        1.544e-27   8.86e-16   1.74e-12      1.000   -1.74e-15    1.74e-15\n",
      "x444          -0.4574      0.160     -2.851      0.004      -0.772      -0.143\n",
      "x445          -0.1023      0.160     -0.638      0.524      -0.417       0.212\n",
      "x446          -0.0957      0.143     -0.670      0.503      -0.376       0.184\n",
      "x447           0.0155      0.149      0.104      0.917      -0.277       0.308\n",
      "x448           0.0379      0.032      1.172      0.241      -0.025       0.101\n",
      "x449          -0.0704      0.156     -0.452      0.651      -0.376       0.235\n",
      "x450           0.0200      0.152      0.131      0.896      -0.278       0.318\n",
      "x451           0.0418      0.114      0.368      0.713      -0.181       0.264\n",
      "x452          -0.0944      0.113     -0.832      0.405      -0.317       0.128\n",
      "x453           0.0463      0.066      0.699      0.485      -0.083       0.176\n",
      "x454          -0.0164      0.025     -0.656      0.512      -0.065       0.033\n",
      "x455        1.079e-27   7.09e-16   1.52e-12      1.000   -1.39e-15    1.39e-15\n",
      "x456          -0.0283      0.160     -0.177      0.860      -0.342       0.286\n",
      "x457          -0.1402      0.107     -1.315      0.189      -0.349       0.069\n",
      "x458           0.0892      0.144      0.619      0.536      -0.193       0.372\n",
      "x459          -0.0579      0.160     -0.362      0.717      -0.371       0.255\n",
      "x460       -1.723e-27      5e-16  -3.44e-12      1.000   -9.81e-16    9.81e-16\n",
      "x461          -0.0382      0.116     -0.330      0.741      -0.265       0.189\n",
      "x462           0.0453      0.154      0.295      0.768      -0.256       0.347\n",
      "x463           0.9834      0.078     12.646      0.000       0.831       1.136\n",
      "x464           0.0972      0.022      4.518      0.000       0.055       0.139\n",
      "x465          -0.0595      0.113     -0.524      0.600      -0.282       0.163\n",
      "x466           0.0781      0.038      2.050      0.040       0.003       0.153\n",
      "x467           0.1582      0.156      1.015      0.310      -0.147       0.464\n",
      "x468       -1.817e-27    9.3e-16  -1.95e-12      1.000   -1.82e-15    1.82e-15\n",
      "x469          -0.0540      0.061     -0.882      0.378      -0.174       0.066\n",
      "x470          -0.0472      0.155     -0.305      0.761      -0.350       0.256\n",
      "x471          -0.1050      0.149     -0.705      0.481      -0.397       0.187\n",
      "x472           0.0394      0.149      0.264      0.792      -0.253       0.332\n",
      "x473          -0.0754      0.160     -0.471      0.638      -0.389       0.239\n",
      "x474           0.0897      0.163      0.552      0.581      -0.229       0.408\n",
      "x475           0.0247      0.111      0.223      0.824      -0.193       0.242\n",
      "x476          -0.0135      0.094     -0.144      0.886      -0.197       0.170\n",
      "x477          -0.0273      0.026     -1.036      0.300      -0.079       0.024\n",
      "x478          -0.0258      0.161     -0.161      0.872      -0.340       0.289\n",
      "x479           0.3666      0.016     23.041      0.000       0.335       0.398\n",
      "x480           0.3710      0.029     12.775      0.000       0.314       0.428\n",
      "x481          -0.0606      0.081     -0.752      0.452      -0.218       0.097\n",
      "x482          -0.0541      0.160     -0.338      0.735      -0.368       0.260\n",
      "x483           0.1647      0.042      3.911      0.000       0.082       0.247\n",
      "x484          -0.1634      0.114     -1.438      0.150      -0.386       0.059\n",
      "x485          -0.0439      0.160     -0.274      0.784      -0.358       0.270\n",
      "x486          -0.0152      0.160     -0.095      0.925      -0.329       0.299\n",
      "x487           0.0955      0.160      0.596      0.551      -0.219       0.410\n",
      "x488           0.3749      0.022     16.779      0.000       0.331       0.419\n",
      "x489           0.1232      0.160      0.770      0.442      -0.191       0.437\n",
      "x490           0.0126      0.081      0.157      0.875      -0.145       0.171\n",
      "x491           0.0613      0.040      1.527      0.127      -0.017       0.140\n",
      "x492           0.1073      0.160      0.670      0.503      -0.207       0.421\n",
      "x493          -0.0490      0.160     -0.306      0.760      -0.363       0.265\n",
      "x494           0.1580      0.160      0.986      0.324      -0.156       0.472\n",
      "x495           0.1742      0.024      7.291      0.000       0.127       0.221\n",
      "x496          -0.1021      0.151     -0.675      0.500      -0.398       0.194\n",
      "x497          -0.0482      0.160     -0.302      0.763      -0.361       0.265\n",
      "x498          -0.0737      0.101     -0.727      0.467      -0.273       0.125\n",
      "x499          -0.0170      0.152     -0.112      0.911      -0.315       0.281\n",
      "x500           0.0183      0.113      0.161      0.872      -0.204       0.241\n",
      "x501           0.0057      0.150      0.038      0.970      -0.289       0.301\n",
      "x502           0.1241      0.152      0.814      0.416      -0.175       0.423\n",
      "x503         1.02e-28   1.23e-15   8.32e-14      1.000    -2.4e-15     2.4e-15\n",
      "x504          -0.0972      0.151     -0.643      0.520      -0.394       0.199\n",
      "x505           0.1671      0.062      2.714      0.007       0.046       0.288\n",
      "x506           0.1075      0.058      1.858      0.063      -0.006       0.221\n",
      "x507       -3.501e-27   1.24e-15  -2.83e-12      1.000   -2.42e-15    2.42e-15\n",
      "x508           0.0482      0.160      0.301      0.764      -0.266       0.362\n",
      "x509           0.1104      0.133      0.828      0.408      -0.151       0.372\n",
      "x510           0.0172      0.128      0.134      0.893      -0.234       0.269\n",
      "x511           0.0433      0.158      0.274      0.784      -0.267       0.353\n",
      "x512          -0.0952      0.097     -0.984      0.325      -0.285       0.094\n",
      "x513          -0.2182      0.093     -2.351      0.019      -0.400      -0.036\n",
      "x514          -0.0610      0.022     -2.786      0.005      -0.104      -0.018\n",
      "x515          -0.1837      0.151     -1.216      0.224      -0.480       0.112\n",
      "x516        1.451e-27   6.85e-16   2.12e-12      1.000   -1.34e-15    1.34e-15\n",
      "x517           0.1551      0.160      0.967      0.333      -0.159       0.469\n",
      "x518           0.0896      0.106      0.844      0.399      -0.118       0.298\n",
      "x519        3.732e-27   1.25e-15   2.99e-12      1.000   -2.45e-15    2.45e-15\n",
      "x520           0.0412      0.093      0.443      0.658      -0.141       0.223\n",
      "x521          -0.0828      0.149     -0.556      0.578      -0.375       0.209\n",
      "x522           0.2173      0.152      1.426      0.154      -0.082       0.516\n",
      "x523          -0.0296      0.144     -0.205      0.837      -0.312       0.253\n",
      "x524           0.1124      0.081      1.395      0.163      -0.046       0.270\n",
      "x525           0.0714      0.057      1.244      0.213      -0.041       0.184\n",
      "x526        5.145e-27   1.49e-15   3.44e-12      1.000   -2.93e-15    2.93e-15\n",
      "x527          -0.0411      0.110     -0.372      0.710      -0.257       0.175\n",
      "x528          -0.1721      0.149     -1.156      0.248      -0.464       0.120\n",
      "x529       -1.188e-27   2.29e-16  -5.18e-12      1.000    -4.5e-16     4.5e-16\n",
      "x530          -0.0702      0.155     -0.454      0.650      -0.374       0.233\n",
      "x531           0.0660      0.151      0.436      0.663      -0.230       0.362\n",
      "x532           0.1396      0.189      0.737      0.461      -0.232       0.511\n",
      "x533           0.0118      0.159      0.074      0.941      -0.299       0.323\n",
      "x534           0.0143      0.152      0.094      0.925      -0.284       0.312\n",
      "x535          -0.0252      0.093     -0.271      0.787      -0.208       0.157\n",
      "x536          -0.1896      0.114     -1.668      0.095      -0.412       0.033\n",
      "x537          -0.0040      0.049     -0.081      0.936      -0.101       0.093\n",
      "x538           0.0049      0.114      0.043      0.966      -0.218       0.228\n",
      "x539          -0.0673      0.160     -0.421      0.673      -0.381       0.246\n",
      "x540           0.0278      0.139      0.200      0.841      -0.244       0.300\n",
      "x541           0.0826      0.160      0.516      0.606      -0.231       0.396\n",
      "x542           0.1933      0.156      1.240      0.215      -0.112       0.499\n",
      "x543           0.0549      0.019      2.887      0.004       0.018       0.092\n",
      "x544           0.0223      0.057      0.389      0.697      -0.090       0.135\n",
      "x545          -0.0860      0.147     -0.586      0.558      -0.374       0.202\n",
      "x546           0.1351      0.152      0.889      0.374      -0.163       0.433\n",
      "x547           0.0251      0.113      0.221      0.825      -0.197       0.247\n",
      "x548       -3.879e-27   1.29e-15  -3.01e-12      1.000   -2.53e-15    2.53e-15\n",
      "x549           0.0288      0.093      0.311      0.756      -0.153       0.211\n",
      "x550           0.0088      0.114      0.077      0.939      -0.214       0.232\n",
      "x551          -0.0541      0.158     -0.343      0.732      -0.364       0.255\n",
      "x552          -0.0054      0.093     -0.058      0.954      -0.187       0.177\n",
      "x553           0.0826      0.114      0.727      0.468      -0.140       0.306\n",
      "x554          -0.1380      0.141     -0.981      0.326      -0.414       0.138\n",
      "x555          -0.0333      0.153     -0.218      0.827      -0.332       0.266\n",
      "x556           0.0167      0.093      0.180      0.857      -0.165       0.199\n",
      "x557           0.1932      0.021      9.048      0.000       0.151       0.235\n",
      "x558          -0.0018      0.114     -0.016      0.987      -0.224       0.221\n",
      "x559          -0.0974      0.160     -0.608      0.543      -0.412       0.217\n",
      "x560           0.0906      0.165      0.548      0.584      -0.234       0.415\n",
      "x561           0.0469      0.052      0.910      0.363      -0.054       0.148\n",
      "x562        4.596e-27   1.17e-15   3.92e-12      1.000    -2.3e-15     2.3e-15\n",
      "x563       -9.045e-27   2.79e-15  -3.24e-12      1.000   -5.48e-15    5.48e-15\n",
      "x564           0.0660      0.151      0.436      0.663      -0.230       0.362\n",
      "x565          -0.0724      0.163     -0.444      0.657      -0.392       0.247\n",
      "x566          -0.0281      0.037     -0.757      0.449      -0.101       0.045\n",
      "x567          -0.0746      0.133     -0.560      0.575      -0.336       0.186\n",
      "x568          -0.0615      0.160     -0.384      0.701      -0.375       0.252\n",
      "x569          -0.2380      0.113     -2.098      0.036      -0.460      -0.016\n",
      "x570           0.0214      0.149      0.143      0.886      -0.271       0.314\n",
      "x571          -0.2567      0.158     -1.624      0.104      -0.566       0.053\n",
      "x572        2.626e-28   6.98e-16   3.76e-13      1.000   -1.37e-15    1.37e-15\n",
      "x573           0.0338      0.093      0.364      0.716      -0.148       0.216\n",
      "x574           0.0583      0.149      0.390      0.696      -0.234       0.351\n",
      "x575           0.0035      0.049      0.071      0.944      -0.093       0.100\n",
      "x576          -0.0858      0.160     -0.537      0.591      -0.399       0.227\n",
      "x577           0.0240      0.041      0.584      0.559      -0.057       0.105\n",
      "x578        8.369e-28   1.35e-15   6.22e-13      1.000   -2.64e-15    2.64e-15\n",
      "x579          -0.0296      0.097     -0.305      0.760      -0.219       0.160\n",
      "x580          -0.1007      0.216     -0.467      0.641      -0.524       0.322\n",
      "x581          -0.0642      0.155     -0.415      0.678      -0.367       0.239\n",
      "x582          -0.0270      0.144     -0.187      0.851      -0.309       0.255\n",
      "x583           0.0145      0.096      0.151      0.880      -0.174       0.203\n",
      "x584           0.1101      0.158      0.697      0.486      -0.200       0.420\n",
      "x585           0.1486      0.160      0.930      0.353      -0.165       0.462\n",
      "x586          -0.1550      0.026     -5.908      0.000      -0.206      -0.104\n",
      "x587          -0.0257      0.047     -0.543      0.587      -0.118       0.067\n",
      "x588           0.0835      0.160      0.521      0.602      -0.230       0.397\n",
      "x589          -0.0036      0.153     -0.023      0.981      -0.304       0.297\n",
      "x590           0.0760      0.160      0.475      0.635      -0.238       0.390\n",
      "x591          -0.0097      0.160     -0.061      0.951      -0.324       0.304\n",
      "x592        1.426e-29   5.21e-17   2.74e-13      1.000   -1.02e-16    1.02e-16\n",
      "x593           0.0553      0.103      0.535      0.592      -0.147       0.258\n",
      "x594           0.1622      0.160      1.013      0.311      -0.152       0.476\n",
      "x595           0.1962      0.160      1.225      0.221      -0.118       0.510\n",
      "x596           0.1207      0.099      1.218      0.223      -0.073       0.315\n",
      "x597       -7.768e-29   7.04e-17   -1.1e-12      1.000   -1.38e-16    1.38e-16\n",
      "x598           0.0254      0.151      0.168      0.867      -0.271       0.322\n",
      "x599           0.2436      0.161      1.517      0.129      -0.071       0.558\n",
      "x600           0.1630      0.160      1.018      0.309      -0.151       0.477\n",
      "x601          -0.1696      0.074     -2.297      0.022      -0.314      -0.025\n",
      "x602           0.1339      0.058      2.313      0.021       0.020       0.247\n",
      "x603         9.79e-29   4.93e-17   1.98e-12      1.000   -9.67e-17    9.67e-17\n",
      "x604           0.1100      0.160      0.687      0.492      -0.204       0.424\n",
      "x605          -0.1012      0.160     -0.632      0.528      -0.415       0.213\n",
      "x606           0.0037      0.113      0.033      0.974      -0.219       0.226\n",
      "x607           0.0119      0.160      0.074      0.941      -0.302       0.326\n",
      "x608           0.1470      0.107      1.379      0.168      -0.062       0.356\n",
      "x609          -0.0750      0.042     -1.786      0.074      -0.157       0.007\n",
      "x610          -0.0573      0.099     -0.579      0.562      -0.251       0.137\n",
      "x611           0.9834      0.078     12.646      0.000       0.831       1.136\n",
      "x612          -0.0411      0.019     -2.168      0.030      -0.078      -0.004\n",
      "x613          -0.1559      0.197     -0.793      0.428      -0.541       0.230\n",
      "x614       -8.202e-29   4.17e-17  -1.97e-12      1.000   -8.17e-17    8.17e-17\n",
      "x615          -0.0135      0.148     -0.091      0.928      -0.304       0.277\n",
      "x616          -0.0327      0.034     -0.975      0.330      -0.098       0.033\n",
      "x617          -0.0555      0.038     -1.462      0.144      -0.130       0.019\n",
      "x618          -0.0410      0.069     -0.595      0.552      -0.176       0.094\n",
      "x619          -0.0249      0.082     -0.304      0.761      -0.185       0.135\n",
      "x620          -0.0219      0.040     -0.555      0.579      -0.100       0.056\n",
      "x621          -0.0643      0.051     -1.265      0.206      -0.164       0.035\n",
      "x622          -0.0721      0.065     -1.112      0.266      -0.199       0.055\n",
      "x623          -0.0852      0.079     -1.074      0.283      -0.241       0.070\n",
      "x624           0.0705      0.079      0.890      0.374      -0.085       0.226\n",
      "x625          -0.0349      0.059     -0.587      0.557      -0.151       0.082\n",
      "x626           0.0038      0.065      0.059      0.953      -0.123       0.131\n",
      "x627          -0.0329      0.053     -0.617      0.537      -0.137       0.072\n",
      "x628          -0.0327      0.079     -0.412      0.680      -0.188       0.123\n",
      "x629           0.0457      0.075      0.612      0.540      -0.101       0.192\n",
      "x630          -0.0382      0.060     -0.640      0.522      -0.155       0.079\n",
      "x631          -0.0200      0.079     -0.253      0.801      -0.175       0.135\n",
      "x632          -0.0598      0.043     -1.406      0.160      -0.143       0.024\n",
      "x633          -0.0130      0.069     -0.187      0.851      -0.149       0.123\n",
      "x634          -0.0029      0.046     -0.063      0.949      -0.092       0.087\n",
      "x635          -0.0103      0.060     -0.173      0.862      -0.127       0.107\n",
      "x636          -0.0197      0.047     -0.422      0.673      -0.111       0.072\n",
      "x637           0.0075      0.061      0.122      0.903      -0.113       0.127\n",
      "x638          -0.0193      0.056     -0.345      0.730      -0.129       0.090\n",
      "x639          -0.1061      0.056     -1.908      0.056      -0.215       0.003\n",
      "x640           0.0152      0.079      0.192      0.848      -0.140       0.171\n",
      "x641          -0.0573      0.065     -0.883      0.377      -0.184       0.070\n",
      "x642          -0.0495      0.033     -1.484      0.138      -0.115       0.016\n",
      "x643           0.0246      0.048      0.512      0.609      -0.069       0.119\n",
      "x644           0.0705      0.080      0.877      0.380      -0.087       0.228\n",
      "x645          -0.1358      0.046     -2.966      0.003      -0.225      -0.046\n",
      "x646          -0.0019      0.046     -0.041      0.967      -0.092       0.088\n",
      "x647                0          0        nan        nan           0           0\n",
      "==============================================================================\n",
      "Omnibus:                     2824.415   Durbin-Watson:                   1.985\n",
      "Prob(Omnibus):                  0.000   Jarque-Bera (JB):            13820.162\n",
      "Skew:                          -1.559   Prob(JB):                         0.00\n",
      "Kurtosis:                       8.466   Cond. No.                     5.82e+18\n",
      "==============================================================================\n",
      "\n",
      "Notes:\n",
      "[1] Standard Errors assume that the covariance matrix of the errors is correctly specified.\n",
      "[2] The smallest eigenvalue is 9.1e-33. This might indicate that there are\n",
      "strong multicollinearity problems or that the design matrix is singular.\n"
     ]
    }
   ],
   "source": [
    "import statsmodels.api as sm\n",
    "\n",
    "X_new = sm.add_constant(X_train)\n",
    "toyregr_sm = sm.OLS(y_train.astype(float), X_new.astype(float))\n",
    "results_sm = toyregr_sm.fit()\n",
    "\n",
    "print(results_sm.summary())"
   ]
  },
  {
   "cell_type": "code",
   "execution_count": 246,
   "metadata": {},
   "outputs": [],
   "source": [
    "from sklearn.linear_model import LogisticRegression\n",
    "\n",
    "# y_temp = y_train.astype('int')\n",
    "\n",
    "log_reg = LogisticRegression(max_iter=1000, multi_class='ovr')\n",
    "log_reg.fit(X_train, y_train)\n",
    "log_predicted = log_reg.predict(X_test)"
   ]
  },
  {
   "cell_type": "code",
   "execution_count": 247,
   "metadata": {},
   "outputs": [
    {
     "data": {
      "text/plain": [
       "0.06908885358534668"
      ]
     },
     "execution_count": 247,
     "metadata": {},
     "output_type": "execute_result"
    }
   ],
   "source": [
    "mse = mean_squared_error(y_test, log_predicted)\n",
    "rmse = np.sqrt(mse)\n",
    "rmse"
   ]
  },
  {
   "cell_type": "code",
   "execution_count": 248,
   "metadata": {},
   "outputs": [
    {
     "data": {
      "text/plain": [
       "0.9809037494280239"
      ]
     },
     "execution_count": 248,
     "metadata": {},
     "output_type": "execute_result"
    }
   ],
   "source": [
    "r2_score(y_test, log_predicted)"
   ]
  },
  {
   "cell_type": "code",
   "execution_count": 249,
   "metadata": {},
   "outputs": [
    {
     "name": "stdout",
     "output_type": "stream",
     "text": [
      "accuracy = 0.9952267303102625%\n",
      "roc_auc_score = 0.9952874646559849\n",
      "F1-score = 0.9951876804619826\n"
     ]
    },
    {
     "data": {
      "text/plain": [
       "array([[1051,   10],\n",
       "       [   0, 1034]])"
      ]
     },
     "execution_count": 249,
     "metadata": {},
     "output_type": "execute_result"
    }
   ],
   "source": [
    "from sklearn.metrics import confusion_matrix\n",
    "\n",
    "accuracy = (accuracy_score(y_test, log_predicted))\n",
    "print(\"accuracy = {}%\".format(accuracy))\n",
    "print(\"roc_auc_score = {}\".format(roc_auc_score(y_test, log_predicted)))\n",
    "print(\"F1-score = {}\".format(f1_score(y_test, log_predicted)))\n",
    "\n",
    "confusion_matrix(y_test, log_predicted)"
   ]
  },
  {
   "cell_type": "markdown",
   "metadata": {},
   "source": [
    "# 6. PCA"
   ]
  },
  {
   "cell_type": "code",
   "execution_count": 250,
   "metadata": {},
   "outputs": [
    {
     "name": "stdout",
     "output_type": "stream",
     "text": [
      "[21.54605377 14.82162681  4.7692357   3.41489078  1.33804063  0.9145885\n",
      "  0.65036437  0.4578647 ]\n",
      "8\n"
     ]
    }
   ],
   "source": [
    "pca = PCA(n_components=0.95) # Create an instance of PCA model\n",
    "pca.fit(X_train) # Fit X_train to PCA\n",
    "X_train = pca.transform(X_train) # transform training data\n",
    "X_test = pca.transform(X_test) # transform test data\n",
    "X_test_score = pca.transform(X_test_score) # transform score test data\n",
    "print(pca.explained_variance_)\n",
    "print(pca.n_components_)"
   ]
  },
  {
   "cell_type": "code",
   "execution_count": 251,
   "metadata": {},
   "outputs": [
    {
     "name": "stdout",
     "output_type": "stream",
     "text": [
      "[[-4.49171946e+00 -3.36971281e-01 -6.17426433e-02 ...  3.96689156e-01\n",
      "  -4.78261064e-01  1.97966321e-01]\n",
      " [ 1.96275186e+00 -1.62008004e+00 -4.61421032e-01 ... -6.76517519e-01\n",
      "  -6.82638499e-01  1.34512634e-01]\n",
      " [ 6.17950696e-01 -2.08098660e+00  3.24847168e-03 ...  1.17915633e-01\n",
      "  -8.82436980e-02 -2.37155661e-01]\n",
      " ...\n",
      " [ 2.71412734e+00 -2.04138671e+00 -1.08705756e+00 ... -6.91001739e-01\n",
      "  -2.58973097e-01 -1.83220952e-01]\n",
      " [-4.09048940e+00  4.01143639e-01 -2.65999648e-01 ...  2.06503507e-01\n",
      "  -2.76134393e-02  1.71059491e-02]\n",
      " [ 1.14684492e+01 -5.10986595e+00 -2.09034666e+00 ... -2.78057838e-01\n",
      "   1.51084008e-01  1.10663819e-01]]\n"
     ]
    }
   ],
   "source": [
    "print(X_train)"
   ]
  },
  {
   "cell_type": "code",
   "execution_count": 252,
   "metadata": {},
   "outputs": [
    {
     "name": "stdout",
     "output_type": "stream",
     "text": [
      "[[ 1.47201017  5.85476642 -1.33748134 ... -2.309122   -0.21649719\n",
      "   0.10033926]\n",
      " [ 3.90933966 -2.09572577  2.1669793  ... -0.1756743  -0.24712945\n",
      "   0.48814435]\n",
      " [-4.57451127 -0.31212458 -0.0766936  ...  0.37210484  0.08243408\n",
      "   0.47581007]\n",
      " ...\n",
      " [-3.45461439  0.93716425 -0.53369296 ... -0.1644751  -0.06562727\n",
      "  -0.1109223 ]\n",
      " [14.73793244 -6.31443182 -2.99549173 ...  0.27162949  0.35510181\n",
      "   0.18361845]\n",
      " [ 2.9264617   4.89898943 -3.12135157 ...  0.1110642  -0.97888076\n",
      "   0.76024239]]\n"
     ]
    }
   ],
   "source": [
    "print(X_test)"
   ]
  },
  {
   "cell_type": "code",
   "execution_count": 253,
   "metadata": {},
   "outputs": [
    {
     "name": "stdout",
     "output_type": "stream",
     "text": [
      "[[-3.73004388e+00  8.59372492e-01  1.14088028e-01 ...  2.59492874e-01\n",
      "  -2.01512739e-01  7.07934758e-02]\n",
      " [-3.96337938e+00 -3.68476799e-01  1.88952304e-01 ...  6.05698946e-01\n",
      "   2.19411540e-01 -6.48924524e-01]\n",
      " [-3.53296980e+00 -1.52054286e-01 -7.13636505e-01 ...  4.69037752e-01\n",
      "  -4.18900930e-01  3.54243710e-01]\n",
      " ...\n",
      " [-4.29130028e+00 -2.91374556e-01 -3.40155628e-01 ...  5.86090380e-01\n",
      "  -5.82476738e-01  3.03477312e-01]\n",
      " [-4.48422097e+00  6.53433125e-01  2.47730787e-03 ... -3.07443324e-01\n",
      "   2.21822736e+00  1.10978598e+00]\n",
      " [-3.71865867e+00 -9.44468529e-03  2.75731540e-01 ...  9.40557431e-03\n",
      "   2.66634267e-01 -7.36657495e-01]]\n"
     ]
    }
   ],
   "source": [
    "print(X_test_score)"
   ]
  },
  {
   "cell_type": "code",
   "execution_count": 254,
   "metadata": {},
   "outputs": [
    {
     "name": "stdout",
     "output_type": "stream",
     "text": [
      "(8377, 8) (2095, 8)\n",
      "(8377,) (2095,)\n",
      "(1000, 8) (1000,)\n"
     ]
    }
   ],
   "source": [
    "print(X_train.shape, X_test.shape)\n",
    "print(y_train.shape, y_test.shape)\n",
    "print(X_test_score.shape, y_test_score.shape)"
   ]
  },
  {
   "cell_type": "markdown",
   "metadata": {},
   "source": [
    "# 7. Ensemble"
   ]
  },
  {
   "cell_type": "code",
   "execution_count": null,
   "metadata": {},
   "outputs": [],
   "source": [
    "# y_train = y_train.astype('int')\n",
    "# y_test = y_test.astype('int')"
   ]
  },
  {
   "cell_type": "code",
   "execution_count": 182,
   "metadata": {},
   "outputs": [
    {
     "name": "stdout",
     "output_type": "stream",
     "text": [
      "0.9828133744852215\n",
      "accuracy = 0.9957040572792363%\n",
      "roc_auc_score = 0.9957587181903864\n",
      "F1-score = 0.9956668271545499\n"
     ]
    },
    {
     "data": {
      "text/plain": [
       "array([[1052,    9],\n",
       "       [   0, 1034]])"
      ]
     },
     "execution_count": 182,
     "metadata": {},
     "output_type": "execute_result"
    }
   ],
   "source": [
    "from sklearn.datasets import make_regression\n",
    "from sklearn.model_selection import train_test_split\n",
    "from sklearn.ensemble import RandomForestClassifier\n",
    "from sklearn.metrics import r2_score\n",
    "\n",
    "# assuming we have X_train,X_test,y_train,y_test at this time\n",
    "# I first run Random Forest using random hard coded settings to get a baseline\n",
    "rf = RandomForestClassifier(n_estimators=80,max_depth=7,max_features=3)\n",
    "rf.fit(X_train,y_train)\n",
    "y_pred = rf.predict(X_test)\n",
    "test_score = r2_score(y_test,y_pred)\n",
    "print(test_score)\n",
    "accuracy = (accuracy_score(y_test, y_pred))\n",
    "print(\"accuracy = {}%\".format(accuracy))\n",
    "print(\"roc_auc_score = {}\".format(roc_auc_score(y_test, y_pred)))\n",
    "print(\"F1-score = {}\".format(f1_score(y_test, y_pred)))\n",
    "\n",
    "confusion_matrix(y_test, y_pred)"
   ]
  },
  {
   "cell_type": "code",
   "execution_count": null,
   "metadata": {},
   "outputs": [],
   "source": [
    "from sklearn.model_selection import RandomizedSearchCV\n",
    "import numpy as np\n",
    "# I then use RandomizedSearchCV to find the optimal hyperparameters\n",
    "n_estimators = [int(x) for x in np.linspace(start = 100, stop = 1500, num = 30)]\n",
    "max_features = ['auto', 'sqrt']\n",
    "max_depth = [int(x) for x in np.linspace(5, 100, num = 10)]\n",
    "max_depth.append(None)\n",
    "min_samples_split = [2, 5, 7, 10]\n",
    "min_samples_leaf = [2, 5, 7, 10]\n",
    "random_grid = {'n_estimators': n_estimators,\n",
    "               'max_features': max_features,\n",
    "               'max_depth': max_depth,\n",
    "               'min_samples_split': min_samples_split,\n",
    "               'min_samples_leaf': min_samples_leaf}\n",
    "\n",
    "rf = RandomForestClassifier(class_weight='balanced', random_state=42)\n",
    "\n",
    "rf_random = RandomizedSearchCV(estimator = rf, param_distributions = random_grid, n_iter = 100, cv = 3, verbose=2, random_state=42, n_jobs = -1)\n",
    "rf_random.fit(X_train, y_train)\n",
    "rf_random.best_params_"
   ]
  },
  {
   "cell_type": "code",
   "execution_count": null,
   "metadata": {},
   "outputs": [],
   "source": [
    "rf = RandomForestRegressor(n_estimators=411,max_depth=68,max_features='auto',min_samples_split=5,min_samples_leaf=2,bootstrap=True)\n",
    "rf.fit(X_train,y_train)\n",
    "y_pred = rf.predict(X_test)\n",
    "misclassified = 0\n",
    "for i in range(len(y_pred)):\n",
    "    if y_pred[i] != y_test[i]:\n",
    "        misclassified += 1\n",
    "accuracy = ((1000-misclassified)*100/len(y_pred))\n",
    "print(\"accuracy = {}%\".format(accuracy))"
   ]
  },
  {
   "cell_type": "code",
   "execution_count": null,
   "metadata": {},
   "outputs": [],
   "source": [
    "# from sklearn.datasets import make_regression\n",
    "# from sklearn.model_selection import train_test_split\n",
    "# from sklearn.ensemble import RandomForestRegressor\n",
    "# from sklearn.metrics import r2_score\n",
    "\n",
    "# # assuming we have X_train,X_test,y_train,y_test at this time\n",
    "# # I first run Random Forest using random hard coded settings to get a baseline\n",
    "# rf = RandomForestRegressor(n_estimators=80,max_depth=7,max_features=3)\n",
    "# rf.fit(X_train,y_train)\n",
    "# y_pred = rf.predict(X_test)\n",
    "# test_score = r2_score(y_test,y_pred)\n",
    "# test_score"
   ]
  },
  {
   "cell_type": "code",
   "execution_count": null,
   "metadata": {},
   "outputs": [],
   "source": [
    "# from sklearn.model_selection import RandomizedSearchCV\n",
    "# import numpy as np\n",
    "# # I then use RandomizedSearchCV to find the optimal hyperparameters\n",
    "# n_estimators = [int(x) for x in np.linspace(start = 100, stop = 1500, num = 10)]\n",
    "# max_features = ['auto', 'sqrt']\n",
    "# max_depth = [int(x) for x in np.linspace(5, 100, num = 10)]\n",
    "# max_depth.append(None)\n",
    "# min_samples_split = [2, 5, 7, 10, 20]\n",
    "# min_samples_leaf = [2, 5, 7, 10]\n",
    "# bootstrap = [True, False]\n",
    "# random_grid = {'n_estimators': n_estimators,\n",
    "#                'max_features': max_features,\n",
    "#                'max_depth': max_depth,\n",
    "#                'min_samples_split': min_samples_split,\n",
    "#                'min_samples_leaf': min_samples_leaf,\n",
    "#                'bootstrap': bootstrap}\n",
    "\n",
    "# rf_random = RandomizedSearchCV(estimator = rf, param_distributions = random_grid, n_iter = 100, cv = 5, verbose=2, random_state=42, n_jobs = -1)\n",
    "# rf_random.fit(X_train, y_train)\n",
    "# rf_random.best_params_"
   ]
  },
  {
   "cell_type": "code",
   "execution_count": null,
   "metadata": {},
   "outputs": [],
   "source": [
    "# # I then output the r2 score again as a sanity check to verify that my RanomdizedSearchCV actually did find the best settings\n",
    "# rf = RandomForestRegressor(n_estimators=411,max_depth=68,max_features='auto',min_samples_split=5,min_samples_leaf=2,bootstrap=True)\n",
    "# rf.fit(X_train,y_train)\n",
    "# y_pred = rf.predict(X_test)\n",
    "# from sklearn.metrics import r2_score\n",
    "# test_score = r2_score(y_test,y_pred)\n",
    "# test_score"
   ]
  },
  {
   "cell_type": "code",
   "execution_count": null,
   "metadata": {},
   "outputs": [],
   "source": [
    "# we then use the hyperparameters we found from the RandomizedSearchCV to do a second more thorough check around that range\n",
    "from sklearn.model_selection import GridSearchCV\n",
    "param_grid = {\n",
    "    'bootstrap': [True],\n",
    "    'max_depth': [65, 68, 71],\n",
    "    'max_features': ['auto'],\n",
    "    'min_samples_leaf': [2, 4, 6],\n",
    "    'min_samples_split': [3, 5, 7],\n",
    "    'n_estimators': [375, 411, 500]\n",
    "}\n",
    "# Create a based model\n",
    "rf = RandomForestRegressor()\n",
    "# Instantiate the grid search model\n",
    "grid_search = GridSearchCV(estimator = rf, param_grid = param_grid, \n",
    "                          cv = 5, n_jobs = -1, verbose = 2)\n",
    "grid_search.fit(X_train, y_train)\n",
    "grid_search.best_params_"
   ]
  },
  {
   "cell_type": "code",
   "execution_count": null,
   "metadata": {},
   "outputs": [],
   "source": [
    "# we then output the results using the optimal hyperparameters to check that our model has improved\n",
    "rf = RandomForestRegressor(n_estimators=375,max_depth=68,max_features='auto',min_samples_split=3,min_samples_leaf=2,bootstrap=True)\n",
    "rf.fit(X_train,y_train)\n",
    "y_pred = rf.predict(X_test)\n",
    "from sklearn.metrics import r2_score\n",
    "test_score = r2_score(y_test,y_pred)\n",
    "test_score"
   ]
  },
  {
   "cell_type": "code",
   "execution_count": 101,
   "metadata": {},
   "outputs": [
    {
     "name": "stdout",
     "output_type": "stream",
     "text": [
      "accuracy = 0.99618138424821%\n",
      "roc_auc_score = 0.996229971724788\n",
      "F1-score = 0.9961464354527938\n"
     ]
    }
   ],
   "source": [
    "# AdaBoost using the same settings\n",
    "from sklearn.ensemble import AdaBoostClassifier\n",
    "from sklearn.tree import DecisionTreeClassifier\n",
    "from sklearn import metrics\n",
    "\n",
    "y_train = y_train.astype('float')\n",
    "\n",
    "dt = DecisionTreeClassifier(max_depth=10,max_features='auto',min_samples_leaf=2,min_samples_split=3,\n",
    "                           random_state=42, class_weight='balanced')\n",
    "ab = AdaBoostClassifier(base_estimator=dt,learning_rate=1,n_estimators=450)\n",
    "ab.fit(X_train,y_train)\n",
    "y_pred = ab.predict(X_test)\n",
    "test_score = r2_score(y_test,y_pred)\n",
    "accuracy = (accuracy_score(y_test, y_pred))\n",
    "print(\"accuracy = {}%\".format(accuracy))\n",
    "print(\"roc_auc_score = {}\".format(roc_auc_score(y_test, y_pred)))\n",
    "print(\"F1-score = {}\".format(f1_score(y_test, y_pred)))"
   ]
  },
  {
   "cell_type": "markdown",
   "metadata": {},
   "source": [
    "# 8. Neural Network Classifier"
   ]
  },
  {
   "cell_type": "code",
   "execution_count": 285,
   "metadata": {},
   "outputs": [
    {
     "name": "stdout",
     "output_type": "stream",
     "text": [
      "Epoch 1/50\n",
      "419/419 [==============================] - 1s 888us/step - loss: 0.3702 - accuracy: 0.8403 - precision_17: 0.9777 - recall_17: 0.7026 - false_positives_17: 39.3714\n",
      "Epoch 2/50\n",
      "419/419 [==============================] - 0s 1ms/step - loss: 0.0508 - accuracy: 0.9875 - precision_17: 0.9801 - recall_17: 0.9956 - false_positives_17: 41.7238\n",
      "Epoch 3/50\n",
      "419/419 [==============================] - 0s 988us/step - loss: 0.0334 - accuracy: 0.9928 - precision_17: 0.9858 - recall_17: 1.0000 - false_positives_17: 31.2833\n",
      "Epoch 4/50\n",
      "419/419 [==============================] - 0s 961us/step - loss: 0.0301 - accuracy: 0.9932 - precision_17: 0.9870 - recall_17: 1.0000 - false_positives_17: 27.0405\n",
      "Epoch 5/50\n",
      "419/419 [==============================] - 0s 983us/step - loss: 0.0266 - accuracy: 0.9938 - precision_17: 0.9876 - recall_17: 1.0000 - false_positives_17: 25.9905\n",
      "Epoch 6/50\n",
      "419/419 [==============================] - 0s 1ms/step - loss: 0.0229 - accuracy: 0.9947 - precision_17: 0.9896 - recall_17: 1.0000 - false_positives_17: 25.3643\n",
      "Epoch 7/50\n",
      "419/419 [==============================] - 0s 1ms/step - loss: 0.0236 - accuracy: 0.9945 - precision_17: 0.9894 - recall_17: 1.0000 - false_positives_17: 22.8310\n",
      "Epoch 8/50\n",
      "103/419 [======>.......................] - ETA: 0s - loss: 0.0117 - accuracy: 0.9972 - precision_17: 0.9945 - recall_17: 1.0000 - false_positives_17: 3.5049  "
     ]
    },
    {
     "ename": "KeyboardInterrupt",
     "evalue": "",
     "output_type": "error",
     "traceback": [
      "\u001b[0;31m---------------------------------------------------------------------------\u001b[0m",
      "\u001b[0;31mKeyboardInterrupt\u001b[0m                         Traceback (most recent call last)",
      "\u001b[0;32m<ipython-input-285-5f8c1f2e5ada>\u001b[0m in \u001b[0;36m<module>\u001b[0;34m\u001b[0m\n\u001b[1;32m     13\u001b[0m \u001b[0mmodel\u001b[0m \u001b[0;34m=\u001b[0m \u001b[0mcreate_model\u001b[0m\u001b[0;34m(\u001b[0m\u001b[0;34m)\u001b[0m\u001b[0;34m\u001b[0m\u001b[0;34m\u001b[0m\u001b[0m\n\u001b[1;32m     14\u001b[0m \u001b[0;34m\u001b[0m\u001b[0m\n\u001b[0;32m---> 15\u001b[0;31m \u001b[0mmodel\u001b[0m\u001b[0;34m.\u001b[0m\u001b[0mfit\u001b[0m\u001b[0;34m(\u001b[0m\u001b[0mX_train\u001b[0m\u001b[0;34m,\u001b[0m \u001b[0my_train\u001b[0m\u001b[0;34m,\u001b[0m \u001b[0mbatch_size\u001b[0m\u001b[0;34m=\u001b[0m\u001b[0;36m20\u001b[0m\u001b[0;34m,\u001b[0m \u001b[0mepochs\u001b[0m\u001b[0;34m=\u001b[0m\u001b[0;36m50\u001b[0m\u001b[0;34m)\u001b[0m\u001b[0;34m\u001b[0m\u001b[0;34m\u001b[0m\u001b[0m\n\u001b[0m\u001b[1;32m     16\u001b[0m \u001b[0;34m\u001b[0m\u001b[0m\n\u001b[1;32m     17\u001b[0m \u001b[0my_pred\u001b[0m \u001b[0;34m=\u001b[0m \u001b[0mmodel\u001b[0m\u001b[0;34m.\u001b[0m\u001b[0mpredict\u001b[0m\u001b[0;34m(\u001b[0m\u001b[0mX_test\u001b[0m\u001b[0;34m)\u001b[0m\u001b[0;34m\u001b[0m\u001b[0;34m\u001b[0m\u001b[0m\n",
      "\u001b[0;32m~/opt/anaconda3/lib/python3.8/site-packages/tensorflow/python/keras/engine/training.py\u001b[0m in \u001b[0;36mfit\u001b[0;34m(self, x, y, batch_size, epochs, verbose, callbacks, validation_split, validation_data, shuffle, class_weight, sample_weight, initial_epoch, steps_per_epoch, validation_steps, validation_batch_size, validation_freq, max_queue_size, workers, use_multiprocessing)\u001b[0m\n\u001b[1;32m   1098\u001b[0m                 _r=1):\n\u001b[1;32m   1099\u001b[0m               \u001b[0mcallbacks\u001b[0m\u001b[0;34m.\u001b[0m\u001b[0mon_train_batch_begin\u001b[0m\u001b[0;34m(\u001b[0m\u001b[0mstep\u001b[0m\u001b[0;34m)\u001b[0m\u001b[0;34m\u001b[0m\u001b[0;34m\u001b[0m\u001b[0m\n\u001b[0;32m-> 1100\u001b[0;31m               \u001b[0mtmp_logs\u001b[0m \u001b[0;34m=\u001b[0m \u001b[0mself\u001b[0m\u001b[0;34m.\u001b[0m\u001b[0mtrain_function\u001b[0m\u001b[0;34m(\u001b[0m\u001b[0miterator\u001b[0m\u001b[0;34m)\u001b[0m\u001b[0;34m\u001b[0m\u001b[0;34m\u001b[0m\u001b[0m\n\u001b[0m\u001b[1;32m   1101\u001b[0m               \u001b[0;32mif\u001b[0m \u001b[0mdata_handler\u001b[0m\u001b[0;34m.\u001b[0m\u001b[0mshould_sync\u001b[0m\u001b[0;34m:\u001b[0m\u001b[0;34m\u001b[0m\u001b[0;34m\u001b[0m\u001b[0m\n\u001b[1;32m   1102\u001b[0m                 \u001b[0mcontext\u001b[0m\u001b[0;34m.\u001b[0m\u001b[0masync_wait\u001b[0m\u001b[0;34m(\u001b[0m\u001b[0;34m)\u001b[0m\u001b[0;34m\u001b[0m\u001b[0;34m\u001b[0m\u001b[0m\n",
      "\u001b[0;32m~/opt/anaconda3/lib/python3.8/site-packages/tensorflow/python/eager/def_function.py\u001b[0m in \u001b[0;36m__call__\u001b[0;34m(self, *args, **kwds)\u001b[0m\n\u001b[1;32m    826\u001b[0m     \u001b[0mtracing_count\u001b[0m \u001b[0;34m=\u001b[0m \u001b[0mself\u001b[0m\u001b[0;34m.\u001b[0m\u001b[0mexperimental_get_tracing_count\u001b[0m\u001b[0;34m(\u001b[0m\u001b[0;34m)\u001b[0m\u001b[0;34m\u001b[0m\u001b[0;34m\u001b[0m\u001b[0m\n\u001b[1;32m    827\u001b[0m     \u001b[0;32mwith\u001b[0m \u001b[0mtrace\u001b[0m\u001b[0;34m.\u001b[0m\u001b[0mTrace\u001b[0m\u001b[0;34m(\u001b[0m\u001b[0mself\u001b[0m\u001b[0;34m.\u001b[0m\u001b[0m_name\u001b[0m\u001b[0;34m)\u001b[0m \u001b[0;32mas\u001b[0m \u001b[0mtm\u001b[0m\u001b[0;34m:\u001b[0m\u001b[0;34m\u001b[0m\u001b[0;34m\u001b[0m\u001b[0m\n\u001b[0;32m--> 828\u001b[0;31m       \u001b[0mresult\u001b[0m \u001b[0;34m=\u001b[0m \u001b[0mself\u001b[0m\u001b[0;34m.\u001b[0m\u001b[0m_call\u001b[0m\u001b[0;34m(\u001b[0m\u001b[0;34m*\u001b[0m\u001b[0margs\u001b[0m\u001b[0;34m,\u001b[0m \u001b[0;34m**\u001b[0m\u001b[0mkwds\u001b[0m\u001b[0;34m)\u001b[0m\u001b[0;34m\u001b[0m\u001b[0;34m\u001b[0m\u001b[0m\n\u001b[0m\u001b[1;32m    829\u001b[0m       \u001b[0mcompiler\u001b[0m \u001b[0;34m=\u001b[0m \u001b[0;34m\"xla\"\u001b[0m \u001b[0;32mif\u001b[0m \u001b[0mself\u001b[0m\u001b[0;34m.\u001b[0m\u001b[0m_experimental_compile\u001b[0m \u001b[0;32melse\u001b[0m \u001b[0;34m\"nonXla\"\u001b[0m\u001b[0;34m\u001b[0m\u001b[0;34m\u001b[0m\u001b[0m\n\u001b[1;32m    830\u001b[0m       \u001b[0mnew_tracing_count\u001b[0m \u001b[0;34m=\u001b[0m \u001b[0mself\u001b[0m\u001b[0;34m.\u001b[0m\u001b[0mexperimental_get_tracing_count\u001b[0m\u001b[0;34m(\u001b[0m\u001b[0;34m)\u001b[0m\u001b[0;34m\u001b[0m\u001b[0;34m\u001b[0m\u001b[0m\n",
      "\u001b[0;32m~/opt/anaconda3/lib/python3.8/site-packages/tensorflow/python/eager/def_function.py\u001b[0m in \u001b[0;36m_call\u001b[0;34m(self, *args, **kwds)\u001b[0m\n\u001b[1;32m    853\u001b[0m       \u001b[0;31m# In this case we have created variables on the first call, so we run the\u001b[0m\u001b[0;34m\u001b[0m\u001b[0;34m\u001b[0m\u001b[0;34m\u001b[0m\u001b[0m\n\u001b[1;32m    854\u001b[0m       \u001b[0;31m# defunned version which is guaranteed to never create variables.\u001b[0m\u001b[0;34m\u001b[0m\u001b[0;34m\u001b[0m\u001b[0;34m\u001b[0m\u001b[0m\n\u001b[0;32m--> 855\u001b[0;31m       \u001b[0;32mreturn\u001b[0m \u001b[0mself\u001b[0m\u001b[0;34m.\u001b[0m\u001b[0m_stateless_fn\u001b[0m\u001b[0;34m(\u001b[0m\u001b[0;34m*\u001b[0m\u001b[0margs\u001b[0m\u001b[0;34m,\u001b[0m \u001b[0;34m**\u001b[0m\u001b[0mkwds\u001b[0m\u001b[0;34m)\u001b[0m  \u001b[0;31m# pylint: disable=not-callable\u001b[0m\u001b[0;34m\u001b[0m\u001b[0;34m\u001b[0m\u001b[0m\n\u001b[0m\u001b[1;32m    856\u001b[0m     \u001b[0;32melif\u001b[0m \u001b[0mself\u001b[0m\u001b[0;34m.\u001b[0m\u001b[0m_stateful_fn\u001b[0m \u001b[0;32mis\u001b[0m \u001b[0;32mnot\u001b[0m \u001b[0;32mNone\u001b[0m\u001b[0;34m:\u001b[0m\u001b[0;34m\u001b[0m\u001b[0;34m\u001b[0m\u001b[0m\n\u001b[1;32m    857\u001b[0m       \u001b[0;31m# Release the lock early so that multiple threads can perform the call\u001b[0m\u001b[0;34m\u001b[0m\u001b[0;34m\u001b[0m\u001b[0;34m\u001b[0m\u001b[0m\n",
      "\u001b[0;32m~/opt/anaconda3/lib/python3.8/site-packages/tensorflow/python/eager/function.py\u001b[0m in \u001b[0;36m__call__\u001b[0;34m(self, *args, **kwargs)\u001b[0m\n\u001b[1;32m   2940\u001b[0m       (graph_function,\n\u001b[1;32m   2941\u001b[0m        filtered_flat_args) = self._maybe_define_function(args, kwargs)\n\u001b[0;32m-> 2942\u001b[0;31m     return graph_function._call_flat(\n\u001b[0m\u001b[1;32m   2943\u001b[0m         filtered_flat_args, captured_inputs=graph_function.captured_inputs)  # pylint: disable=protected-access\n\u001b[1;32m   2944\u001b[0m \u001b[0;34m\u001b[0m\u001b[0m\n",
      "\u001b[0;32m~/opt/anaconda3/lib/python3.8/site-packages/tensorflow/python/eager/function.py\u001b[0m in \u001b[0;36m_call_flat\u001b[0;34m(self, args, captured_inputs, cancellation_manager)\u001b[0m\n\u001b[1;32m   1916\u001b[0m         and executing_eagerly):\n\u001b[1;32m   1917\u001b[0m       \u001b[0;31m# No tape is watching; skip to running the function.\u001b[0m\u001b[0;34m\u001b[0m\u001b[0;34m\u001b[0m\u001b[0;34m\u001b[0m\u001b[0m\n\u001b[0;32m-> 1918\u001b[0;31m       return self._build_call_outputs(self._inference_function.call(\n\u001b[0m\u001b[1;32m   1919\u001b[0m           ctx, args, cancellation_manager=cancellation_manager))\n\u001b[1;32m   1920\u001b[0m     forward_backward = self._select_forward_and_backward_functions(\n",
      "\u001b[0;32m~/opt/anaconda3/lib/python3.8/site-packages/tensorflow/python/eager/function.py\u001b[0m in \u001b[0;36mcall\u001b[0;34m(self, ctx, args, cancellation_manager)\u001b[0m\n\u001b[1;32m    553\u001b[0m       \u001b[0;32mwith\u001b[0m \u001b[0m_InterpolateFunctionError\u001b[0m\u001b[0;34m(\u001b[0m\u001b[0mself\u001b[0m\u001b[0;34m)\u001b[0m\u001b[0;34m:\u001b[0m\u001b[0;34m\u001b[0m\u001b[0;34m\u001b[0m\u001b[0m\n\u001b[1;32m    554\u001b[0m         \u001b[0;32mif\u001b[0m \u001b[0mcancellation_manager\u001b[0m \u001b[0;32mis\u001b[0m \u001b[0;32mNone\u001b[0m\u001b[0;34m:\u001b[0m\u001b[0;34m\u001b[0m\u001b[0;34m\u001b[0m\u001b[0m\n\u001b[0;32m--> 555\u001b[0;31m           outputs = execute.execute(\n\u001b[0m\u001b[1;32m    556\u001b[0m               \u001b[0mstr\u001b[0m\u001b[0;34m(\u001b[0m\u001b[0mself\u001b[0m\u001b[0;34m.\u001b[0m\u001b[0msignature\u001b[0m\u001b[0;34m.\u001b[0m\u001b[0mname\u001b[0m\u001b[0;34m)\u001b[0m\u001b[0;34m,\u001b[0m\u001b[0;34m\u001b[0m\u001b[0;34m\u001b[0m\u001b[0m\n\u001b[1;32m    557\u001b[0m               \u001b[0mnum_outputs\u001b[0m\u001b[0;34m=\u001b[0m\u001b[0mself\u001b[0m\u001b[0;34m.\u001b[0m\u001b[0m_num_outputs\u001b[0m\u001b[0;34m,\u001b[0m\u001b[0;34m\u001b[0m\u001b[0;34m\u001b[0m\u001b[0m\n",
      "\u001b[0;32m~/opt/anaconda3/lib/python3.8/site-packages/tensorflow/python/eager/execute.py\u001b[0m in \u001b[0;36mquick_execute\u001b[0;34m(op_name, num_outputs, inputs, attrs, ctx, name)\u001b[0m\n\u001b[1;32m     57\u001b[0m   \u001b[0;32mtry\u001b[0m\u001b[0;34m:\u001b[0m\u001b[0;34m\u001b[0m\u001b[0;34m\u001b[0m\u001b[0m\n\u001b[1;32m     58\u001b[0m     \u001b[0mctx\u001b[0m\u001b[0;34m.\u001b[0m\u001b[0mensure_initialized\u001b[0m\u001b[0;34m(\u001b[0m\u001b[0;34m)\u001b[0m\u001b[0;34m\u001b[0m\u001b[0;34m\u001b[0m\u001b[0m\n\u001b[0;32m---> 59\u001b[0;31m     tensors = pywrap_tfe.TFE_Py_Execute(ctx._handle, device_name, op_name,\n\u001b[0m\u001b[1;32m     60\u001b[0m                                         inputs, attrs, num_outputs)\n\u001b[1;32m     61\u001b[0m   \u001b[0;32mexcept\u001b[0m \u001b[0mcore\u001b[0m\u001b[0;34m.\u001b[0m\u001b[0m_NotOkStatusException\u001b[0m \u001b[0;32mas\u001b[0m \u001b[0me\u001b[0m\u001b[0;34m:\u001b[0m\u001b[0;34m\u001b[0m\u001b[0;34m\u001b[0m\u001b[0m\n",
      "\u001b[0;31mKeyboardInterrupt\u001b[0m: "
     ]
    }
   ],
   "source": [
    "# Neural network\n",
    "def create_model():\n",
    "    model = Sequential()\n",
    "    model.add(Dense(16, input_dim=X_train.shape[1], activation='relu'))\n",
    "    model.add(Dense(12, activation='relu'))\n",
    "    model.add(Dense(1, activation='sigmoid'))\n",
    "\n",
    "    model.compile(loss='binary_crossentropy', optimizer='adam', metrics=['accuracy', keras.metrics.Precision(),\n",
    "                                                                        keras.metrics.Recall(), \n",
    "                                                                         keras.metrics.FalsePositives()])\n",
    "    return model\n",
    "\n",
    "model = create_model()\n",
    "\n",
    "model.fit(X_train, y_train, batch_size=20, epochs=50)\n",
    "\n",
    "y_pred = model.predict(X_test)\n",
    "y_pred = (y_pred > 0.5)\n",
    "accuracy = (accuracy_score(y_test, y_pred))\n",
    "print(\"accuracy = {}%\".format(accuracy))\n",
    "print(\"roc_auc_score = {}\".format(roc_auc_score(y_test, y_pred)))\n",
    "print(\"F1-score = {}\".format(f1_score(y_test, y_pred)))\n",
    "confusion_matrix(y_test, y_pred)"
   ]
  },
  {
   "cell_type": "code",
   "execution_count": 279,
   "metadata": {},
   "outputs": [
    {
     "name": "stdout",
     "output_type": "stream",
     "text": [
      "1000\n",
      "accuracy = 0.89%\n",
      "roc_auc_score = 0.6222197672705848\n",
      "F1-score = 0.375\n"
     ]
    },
    {
     "data": {
      "text/plain": [
       "array([[857,  19],\n",
       "       [ 91,  33]])"
      ]
     },
     "execution_count": 279,
     "metadata": {},
     "output_type": "execute_result"
    }
   ],
   "source": [
    "y_pred = model.predict(X_test_score)\n",
    "y_pred = (y_pred > 0.5)\n",
    "print(len(y_pred))\n",
    "accuracy = (accuracy_score(y_test_score, y_pred))\n",
    "print(\"accuracy = {}%\".format(accuracy))\n",
    "print(\"roc_auc_score = {}\".format(roc_auc_score(y_test_score, y_pred)))\n",
    "print(\"F1-score = {}\".format(f1_score(y_test_score, y_pred)))\n",
    "confusion_matrix(y_test_score, y_pred)"
   ]
  },
  {
   "cell_type": "markdown",
   "metadata": {},
   "source": [
    "# 9. Cross-Validate"
   ]
  },
  {
   "cell_type": "code",
   "execution_count": 280,
   "metadata": {},
   "outputs": [],
   "source": [
    "pca = PCA(n_components=0.95) # Create an instance of PCA model\n",
    "pca.fit(X) # Fit X_train to PCA\n",
    "X_pca = pca.transform(X) # transform training data"
   ]
  },
  {
   "cell_type": "code",
   "execution_count": 286,
   "metadata": {},
   "outputs": [
    {
     "name": "stdout",
     "output_type": "stream",
     "text": [
      "RF Accuracy: 99.57%\n",
      "NN Accuracy: 99.72%\n"
     ]
    }
   ],
   "source": [
    "from sklearn.model_selection import cross_val_score\n",
    "from keras.wrappers.scikit_learn import KerasClassifier\n",
    "\n",
    "kfold = model_selection.KFold(n_splits=10, random_state=42, shuffle=True)\n",
    "\n",
    "rf_model_kfold = RandomForestClassifier(n_estimators=80,max_depth=7,max_features=3)\n",
    "\n",
    "rf_results_kfold = model_selection.cross_val_score(rf_model_kfold, X_pca, y, cv=kfold)\n",
    "\n",
    "print(\"RF Accuracy: %.2f%%\" % (rf_results_kfold.mean()*100.0)) \n",
    "\n",
    "nn = KerasClassifier(build_fn=create_model, epochs=50, batch_size=20, verbose=0)\n",
    "\n",
    "nn_results_kfold = model_selection.cross_val_score(nn, X_pca, y, cv=kfold)\n",
    "\n",
    "print(\"NN Accuracy: %.2f%%\" % (nn_results_kfold.mean()*100.0))"
   ]
  },
  {
   "cell_type": "markdown",
   "metadata": {},
   "source": [
    "# 10. Custom Model"
   ]
  },
  {
   "cell_type": "code",
   "execution_count": 283,
   "metadata": {},
   "outputs": [
    {
     "name": "stdout",
     "output_type": "stream",
     "text": [
      "accuracy for kernel=linear = 0.7718377088305489%\n",
      "roc_auc_score = 0.769055688130427\n",
      "F1-score = 0.7053020961775586\n"
     ]
    },
    {
     "name": "stderr",
     "output_type": "stream",
     "text": [
      "/Users/shrenik/opt/anaconda3/lib/python3.8/site-packages/sklearn/svm/_base.py:255: ConvergenceWarning: Solver terminated early (max_iter=100).  Consider pre-processing your data with StandardScaler or MinMaxScaler.\n",
      "  warnings.warn('Solver terminated early (max_iter=%i).'\n"
     ]
    },
    {
     "data": {
      "text/plain": [
       "array([[1045,   16],\n",
       "       [ 462,  572]])"
      ]
     },
     "metadata": {},
     "output_type": "display_data"
    },
    {
     "name": "stdout",
     "output_type": "stream",
     "text": [
      "accuracy for kernel=rbf = 0.9522673031026253%\n",
      "roc_auc_score = 0.9519517370751654\n",
      "F1-score = 0.9504459861248761\n"
     ]
    },
    {
     "name": "stderr",
     "output_type": "stream",
     "text": [
      "/Users/shrenik/opt/anaconda3/lib/python3.8/site-packages/sklearn/svm/_base.py:255: ConvergenceWarning: Solver terminated early (max_iter=100).  Consider pre-processing your data with StandardScaler or MinMaxScaler.\n",
      "  warnings.warn('Solver terminated early (max_iter=%i).'\n"
     ]
    },
    {
     "data": {
      "text/plain": [
       "array([[1036,   25],\n",
       "       [  75,  959]])"
      ]
     },
     "metadata": {},
     "output_type": "display_data"
    },
    {
     "name": "stdout",
     "output_type": "stream",
     "text": [
      "accuracy for kernel=sigmoid = 0.9608591885441528%\n",
      "roc_auc_score = 0.9607665481088786\n",
      "F1-score = 0.9600778967867576\n"
     ]
    },
    {
     "name": "stderr",
     "output_type": "stream",
     "text": [
      "/Users/shrenik/opt/anaconda3/lib/python3.8/site-packages/sklearn/svm/_base.py:255: ConvergenceWarning: Solver terminated early (max_iter=100).  Consider pre-processing your data with StandardScaler or MinMaxScaler.\n",
      "  warnings.warn('Solver terminated early (max_iter=%i).'\n"
     ]
    },
    {
     "data": {
      "text/plain": [
       "array([[1027,   34],\n",
       "       [  48,  986]])"
      ]
     },
     "metadata": {},
     "output_type": "display_data"
    }
   ],
   "source": [
    "kernel_types = ['linear', 'rbf', 'sigmoid']\n",
    "for kernel in kernel_types:\n",
    "    svc = SVC(kernel=kernel, class_weight='balanced', random_state=42, max_iter=100) #class_weight='balanced'\n",
    "    svc.fit(X_train, y_train)\n",
    "    y_pred = svc.predict(X_test)\n",
    "    accuracy = (accuracy_score(y_test, y_pred))\n",
    "    print(\"accuracy for kernel={} = {}%\".format(kernel, accuracy))\n",
    "    print(\"roc_auc_score = {}\".format(roc_auc_score(y_test, y_pred)))\n",
    "    print(\"F1-score = {}\".format(f1_score(y_test, y_pred)))\n",
    "    display(confusion_matrix(y_test, y_pred))"
   ]
  },
  {
   "cell_type": "code",
   "execution_count": null,
   "metadata": {},
   "outputs": [],
   "source": [
    "# Neural network\n",
    "model = Sequential()\n",
    "model.add(Dense(16, input_dim=X_train.shape[1], activation='relu'))\n",
    "model.add(Dense(12, activation='relu'))\n",
    "model.add(Dense(1, activation='sigmoid'))\n",
    "\n",
    "model.compile(loss='binary_crossentropy', optimizer='adam', metrics=['accuracy', keras.metrics.Precision(),\n",
    "                                                                    keras.metrics.Recall(), \n",
    "                                                                     keras.metrics.FalsePositives()])\n",
    "\n",
    "model.fit(X_train, y_train, batch_size=20, epochs=100)\n",
    "\n",
    "y_pred = model.predict(X_test)\n",
    "y_pred = (y_pred > 0.5)\n",
    "accuracy = (accuracy_score(y_test, y_pred))\n",
    "print(\"accuracy = {}%\".format(accuracy))\n",
    "print(\"roc_auc_score = {}\".format(roc_auc_score(y_test, y_pred)))\n",
    "print(\"F1-score = {}\".format(f1_score(y_test, y_pred)))\n",
    "confusion_matrix(y_test, y_pred)"
   ]
  }
 ],
 "metadata": {
  "kernelspec": {
   "display_name": "Python 3",
   "language": "python",
   "name": "python3"
  },
  "language_info": {
   "codemirror_mode": {
    "name": "ipython",
    "version": 3
   },
   "file_extension": ".py",
   "mimetype": "text/x-python",
   "name": "python",
   "nbconvert_exporter": "python",
   "pygments_lexer": "ipython3",
   "version": "3.8.5"
  }
 },
 "nbformat": 4,
 "nbformat_minor": 4
}
