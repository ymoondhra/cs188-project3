{
 "cells": [
  {
   "cell_type": "code",
   "execution_count": 206,
   "metadata": {},
   "outputs": [],
   "source": [
    "import numpy as np # linear algebra\n",
    "import pandas as pd # data processing, CSV file I/O (e.g. pd.read_csv)\n",
    "import matplotlib.pyplot as plt # this is used for the plot the graph \n",
    "from datetime import date\n",
    "import random\n",
    "\n",
    "from sklearn.decomposition import PCA\n",
    "from sklearn.experimental import enable_iterative_imputer\n",
    "from sklearn.impute import IterativeImputer\n",
    "from sklearn.impute import SimpleImputer\n",
    "from sklearn.compose import ColumnTransformer\n",
    "from sklearn.pipeline import Pipeline\n",
    "from sklearn.preprocessing import StandardScaler\n",
    "from sklearn.preprocessing import OneHotEncoder\n",
    "from sklearn.preprocessing import MultiLabelBinarizer\n",
    "from sklearn.model_selection import train_test_split\n",
    "from sklearn.svm import SVC\n",
    "from sklearn.metrics import roc_auc_score\n",
    "from sklearn.metrics import f1_score\n",
    "from sklearn.metrics import accuracy_score\n",
    "from imblearn.over_sampling import SMOTE\n",
    "\n",
    "import torch\n",
    "from torch import nn\n",
    "import torch.nn.functional as F\n",
    "from torchvision import transforms\n",
    "from torch.utils.data import TensorDataset, DataLoader\n",
    "\n",
    "%matplotlib inline\n",
    "\n",
    "import random \n",
    "random.seed(42)"
   ]
  },
  {
   "cell_type": "code",
   "execution_count": 126,
   "metadata": {},
   "outputs": [],
   "source": [
    "csv_path_1 = \"training_dataset.csv\"\n",
    "csv_path_2 = \"score.csv\""
   ]
  },
  {
   "cell_type": "markdown",
   "metadata": {},
   "source": [
    "# 0. First, let's understand our data..."
   ]
  },
  {
   "cell_type": "code",
   "execution_count": 127,
   "metadata": {},
   "outputs": [
    {
     "data": {
      "text/html": [
       "<div>\n",
       "<style scoped>\n",
       "    .dataframe tbody tr th:only-of-type {\n",
       "        vertical-align: middle;\n",
       "    }\n",
       "\n",
       "    .dataframe tbody tr th {\n",
       "        vertical-align: top;\n",
       "    }\n",
       "\n",
       "    .dataframe thead th {\n",
       "        text-align: right;\n",
       "    }\n",
       "</style>\n",
       "<table border=\"1\" class=\"dataframe\">\n",
       "  <thead>\n",
       "    <tr style=\"text-align: right;\">\n",
       "      <th></th>\n",
       "      <th>dt</th>\n",
       "      <th>weekday</th>\n",
       "      <th>year</th>\n",
       "      <th>id_driver</th>\n",
       "      <th>id_carrier_number</th>\n",
       "      <th>dim_carrier_type</th>\n",
       "      <th>dim_carrier_company_name</th>\n",
       "      <th>home_base_city</th>\n",
       "      <th>home_base_state</th>\n",
       "      <th>carrier_trucks</th>\n",
       "      <th>...</th>\n",
       "      <th>most_recent_load_date</th>\n",
       "      <th>load_day</th>\n",
       "      <th>loads</th>\n",
       "      <th>marketplace_loads_otr</th>\n",
       "      <th>marketplace_loads_atlas</th>\n",
       "      <th>marketplace_loads</th>\n",
       "      <th>brokerage_loads_otr</th>\n",
       "      <th>brokerage_loads_atlas</th>\n",
       "      <th>brokerage_loads</th>\n",
       "      <th>total_loads</th>\n",
       "    </tr>\n",
       "  </thead>\n",
       "  <tbody>\n",
       "    <tr>\n",
       "      <th>0</th>\n",
       "      <td>2019-12-16</td>\n",
       "      <td>Monday</td>\n",
       "      <td>2019</td>\n",
       "      <td>21350</td>\n",
       "      <td>U0109015</td>\n",
       "      <td>Owner Operator</td>\n",
       "      <td>CA&amp;F TRUCKING</td>\n",
       "      <td>Maywood</td>\n",
       "      <td>CA</td>\n",
       "      <td>[\"poweronly\"]</td>\n",
       "      <td>...</td>\n",
       "      <td>2021-02-17</td>\n",
       "      <td>2019-12-16</td>\n",
       "      <td>2</td>\n",
       "      <td>0</td>\n",
       "      <td>438</td>\n",
       "      <td>438</td>\n",
       "      <td>0</td>\n",
       "      <td>45</td>\n",
       "      <td>45</td>\n",
       "      <td>483</td>\n",
       "    </tr>\n",
       "    <tr>\n",
       "      <th>1</th>\n",
       "      <td>2021-01-15</td>\n",
       "      <td>Friday</td>\n",
       "      <td>2021</td>\n",
       "      <td>36437</td>\n",
       "      <td>C0097727</td>\n",
       "      <td>Fleet</td>\n",
       "      <td>New opportunities inc</td>\n",
       "      <td>Los Angeles</td>\n",
       "      <td>CA</td>\n",
       "      <td>[\"poweronly\", \"boxtruck\"]</td>\n",
       "      <td>...</td>\n",
       "      <td>2021-02-03</td>\n",
       "      <td>2021-01-15</td>\n",
       "      <td>1</td>\n",
       "      <td>2</td>\n",
       "      <td>72</td>\n",
       "      <td>74</td>\n",
       "      <td>0</td>\n",
       "      <td>1</td>\n",
       "      <td>1</td>\n",
       "      <td>75</td>\n",
       "    </tr>\n",
       "    <tr>\n",
       "      <th>2</th>\n",
       "      <td>2019-12-26</td>\n",
       "      <td>Thursday</td>\n",
       "      <td>2019</td>\n",
       "      <td>19323</td>\n",
       "      <td>U0107081</td>\n",
       "      <td>Owner Operator</td>\n",
       "      <td>RAS</td>\n",
       "      <td>Compton</td>\n",
       "      <td>CA</td>\n",
       "      <td>[\"poweronly\"]</td>\n",
       "      <td>...</td>\n",
       "      <td>2020-09-25</td>\n",
       "      <td>2019-12-26</td>\n",
       "      <td>1</td>\n",
       "      <td>0</td>\n",
       "      <td>180</td>\n",
       "      <td>180</td>\n",
       "      <td>0</td>\n",
       "      <td>2</td>\n",
       "      <td>2</td>\n",
       "      <td>182</td>\n",
       "    </tr>\n",
       "    <tr>\n",
       "      <th>3</th>\n",
       "      <td>2021-02-10</td>\n",
       "      <td>Wednesday</td>\n",
       "      <td>2021</td>\n",
       "      <td>34809</td>\n",
       "      <td>C0094651</td>\n",
       "      <td>Fleet</td>\n",
       "      <td>NFS asset Drayage</td>\n",
       "      <td>Lynwood</td>\n",
       "      <td>CA</td>\n",
       "      <td>[\"poweronly\", \"dryvan\"]</td>\n",
       "      <td>...</td>\n",
       "      <td>2021-02-17</td>\n",
       "      <td>2021-02-10</td>\n",
       "      <td>3</td>\n",
       "      <td>0</td>\n",
       "      <td>0</td>\n",
       "      <td>0</td>\n",
       "      <td>0</td>\n",
       "      <td>0</td>\n",
       "      <td>0</td>\n",
       "      <td>62</td>\n",
       "    </tr>\n",
       "    <tr>\n",
       "      <th>4</th>\n",
       "      <td>2017-07-24</td>\n",
       "      <td>Monday</td>\n",
       "      <td>2017</td>\n",
       "      <td>4728</td>\n",
       "      <td>U0094376</td>\n",
       "      <td>Owner Operator</td>\n",
       "      <td>joes transportation</td>\n",
       "      <td>Norco</td>\n",
       "      <td>CA</td>\n",
       "      <td>[\"dryvan\"]</td>\n",
       "      <td>...</td>\n",
       "      <td>2017-10-11</td>\n",
       "      <td>2017-07-24</td>\n",
       "      <td>2</td>\n",
       "      <td>57</td>\n",
       "      <td>0</td>\n",
       "      <td>57</td>\n",
       "      <td>314</td>\n",
       "      <td>0</td>\n",
       "      <td>314</td>\n",
       "      <td>371</td>\n",
       "    </tr>\n",
       "  </tbody>\n",
       "</table>\n",
       "<p>5 rows × 30 columns</p>\n",
       "</div>"
      ],
      "text/plain": [
       "           dt    weekday  year  id_driver id_carrier_number dim_carrier_type  \\\n",
       "0  2019-12-16     Monday  2019      21350          U0109015   Owner Operator   \n",
       "1  2021-01-15     Friday  2021      36437          C0097727            Fleet   \n",
       "2  2019-12-26   Thursday  2019      19323          U0107081   Owner Operator   \n",
       "3  2021-02-10  Wednesday  2021      34809          C0094651            Fleet   \n",
       "4  2017-07-24     Monday  2017       4728          U0094376   Owner Operator   \n",
       "\n",
       "  dim_carrier_company_name home_base_city home_base_state  \\\n",
       "0            CA&F TRUCKING        Maywood              CA   \n",
       "1   New opportunities inc     Los Angeles              CA   \n",
       "2                      RAS        Compton              CA   \n",
       "3        NFS asset Drayage        Lynwood              CA   \n",
       "4      joes transportation          Norco              CA   \n",
       "\n",
       "              carrier_trucks  ...  most_recent_load_date    load_day loads  \\\n",
       "0              [\"poweronly\"]  ...             2021-02-17  2019-12-16     2   \n",
       "1  [\"poweronly\", \"boxtruck\"]  ...             2021-02-03  2021-01-15     1   \n",
       "2              [\"poweronly\"]  ...             2020-09-25  2019-12-26     1   \n",
       "3    [\"poweronly\", \"dryvan\"]  ...             2021-02-17  2021-02-10     3   \n",
       "4                 [\"dryvan\"]  ...             2017-10-11  2017-07-24     2   \n",
       "\n",
       "  marketplace_loads_otr marketplace_loads_atlas marketplace_loads  \\\n",
       "0                     0                     438               438   \n",
       "1                     2                      72                74   \n",
       "2                     0                     180               180   \n",
       "3                     0                       0                 0   \n",
       "4                    57                       0                57   \n",
       "\n",
       "   brokerage_loads_otr brokerage_loads_atlas brokerage_loads total_loads  \n",
       "0                    0                    45              45         483  \n",
       "1                    0                     1               1          75  \n",
       "2                    0                     2               2         182  \n",
       "3                    0                     0               0          62  \n",
       "4                  314                     0             314         371  \n",
       "\n",
       "[5 rows x 30 columns]"
      ]
     },
     "metadata": {},
     "output_type": "display_data"
    }
   ],
   "source": [
    "df = pd.read_csv(csv_path_1) # load the pandas dataframe\n",
    "df_score = pd.read_csv(csv_path_2)\n",
    "initial_cols_to_drop = [\"Unnamed: 0\",\"Unnamed: 0.1\", \"period\", \"test\", \"recent_date\", \"date\"] \n",
    "for col_name in initial_cols_to_drop: # drops columns that aren't supposed to be in dataset\n",
    "    try:\n",
    "        df = df.drop(columns=[col_name])\n",
    "        df_score = df_score.drop(columns=[col_name])\n",
    "    except:\n",
    "        continue\n",
    "#df = df.rename(columns={\"Unnamed: 0.1\": \"TODO_FIND_COLUMN_NAME_2\"})\n",
    "display(df.head())"
   ]
  },
  {
   "cell_type": "code",
   "execution_count": 128,
   "metadata": {},
   "outputs": [
    {
     "data": {
      "text/html": [
       "<div>\n",
       "<style scoped>\n",
       "    .dataframe tbody tr th:only-of-type {\n",
       "        vertical-align: middle;\n",
       "    }\n",
       "\n",
       "    .dataframe tbody tr th {\n",
       "        vertical-align: top;\n",
       "    }\n",
       "\n",
       "    .dataframe thead th {\n",
       "        text-align: right;\n",
       "    }\n",
       "</style>\n",
       "<table border=\"1\" class=\"dataframe\">\n",
       "  <thead>\n",
       "    <tr style=\"text-align: right;\">\n",
       "      <th></th>\n",
       "      <th>year</th>\n",
       "      <th>id_driver</th>\n",
       "      <th>num_trucks</th>\n",
       "      <th>days_signup_to_approval</th>\n",
       "      <th>loads</th>\n",
       "      <th>marketplace_loads_otr</th>\n",
       "      <th>marketplace_loads_atlas</th>\n",
       "      <th>marketplace_loads</th>\n",
       "      <th>brokerage_loads_otr</th>\n",
       "      <th>brokerage_loads_atlas</th>\n",
       "      <th>brokerage_loads</th>\n",
       "      <th>total_loads</th>\n",
       "    </tr>\n",
       "  </thead>\n",
       "  <tbody>\n",
       "    <tr>\n",
       "      <th>count</th>\n",
       "      <td>83414.000000</td>\n",
       "      <td>83414.000000</td>\n",
       "      <td>83344.000000</td>\n",
       "      <td>71124.000000</td>\n",
       "      <td>83414.000000</td>\n",
       "      <td>83414.000000</td>\n",
       "      <td>83414.000000</td>\n",
       "      <td>83414.000000</td>\n",
       "      <td>83414.000000</td>\n",
       "      <td>83414.000000</td>\n",
       "      <td>83414.000000</td>\n",
       "      <td>83414.000000</td>\n",
       "    </tr>\n",
       "    <tr>\n",
       "      <th>mean</th>\n",
       "      <td>2018.960930</td>\n",
       "      <td>18222.414954</td>\n",
       "      <td>22.582921</td>\n",
       "      <td>298.752489</td>\n",
       "      <td>2.076270</td>\n",
       "      <td>29.477762</td>\n",
       "      <td>71.579675</td>\n",
       "      <td>101.057436</td>\n",
       "      <td>148.258422</td>\n",
       "      <td>13.073021</td>\n",
       "      <td>161.331443</td>\n",
       "      <td>266.502661</td>\n",
       "    </tr>\n",
       "    <tr>\n",
       "      <th>std</th>\n",
       "      <td>1.359343</td>\n",
       "      <td>11667.704926</td>\n",
       "      <td>48.829719</td>\n",
       "      <td>390.345107</td>\n",
       "      <td>2.672163</td>\n",
       "      <td>88.171940</td>\n",
       "      <td>194.532776</td>\n",
       "      <td>214.502147</td>\n",
       "      <td>415.978060</td>\n",
       "      <td>42.241592</td>\n",
       "      <td>413.792137</td>\n",
       "      <td>448.806175</td>\n",
       "    </tr>\n",
       "    <tr>\n",
       "      <th>min</th>\n",
       "      <td>2015.000000</td>\n",
       "      <td>20.000000</td>\n",
       "      <td>1.000000</td>\n",
       "      <td>0.000000</td>\n",
       "      <td>1.000000</td>\n",
       "      <td>0.000000</td>\n",
       "      <td>0.000000</td>\n",
       "      <td>0.000000</td>\n",
       "      <td>0.000000</td>\n",
       "      <td>0.000000</td>\n",
       "      <td>0.000000</td>\n",
       "      <td>1.000000</td>\n",
       "    </tr>\n",
       "    <tr>\n",
       "      <th>25%</th>\n",
       "      <td>2018.000000</td>\n",
       "      <td>7890.000000</td>\n",
       "      <td>1.000000</td>\n",
       "      <td>0.000000</td>\n",
       "      <td>1.000000</td>\n",
       "      <td>0.000000</td>\n",
       "      <td>0.000000</td>\n",
       "      <td>0.000000</td>\n",
       "      <td>0.000000</td>\n",
       "      <td>0.000000</td>\n",
       "      <td>5.000000</td>\n",
       "      <td>37.000000</td>\n",
       "    </tr>\n",
       "    <tr>\n",
       "      <th>50%</th>\n",
       "      <td>2019.000000</td>\n",
       "      <td>16299.000000</td>\n",
       "      <td>4.000000</td>\n",
       "      <td>61.000000</td>\n",
       "      <td>1.000000</td>\n",
       "      <td>2.000000</td>\n",
       "      <td>0.000000</td>\n",
       "      <td>13.000000</td>\n",
       "      <td>15.000000</td>\n",
       "      <td>0.000000</td>\n",
       "      <td>37.000000</td>\n",
       "      <td>110.000000</td>\n",
       "    </tr>\n",
       "    <tr>\n",
       "      <th>75%</th>\n",
       "      <td>2020.000000</td>\n",
       "      <td>28974.000000</td>\n",
       "      <td>14.000000</td>\n",
       "      <td>497.000000</td>\n",
       "      <td>2.000000</td>\n",
       "      <td>23.000000</td>\n",
       "      <td>18.000000</td>\n",
       "      <td>94.000000</td>\n",
       "      <td>112.000000</td>\n",
       "      <td>1.000000</td>\n",
       "      <td>135.000000</td>\n",
       "      <td>325.000000</td>\n",
       "    </tr>\n",
       "    <tr>\n",
       "      <th>max</th>\n",
       "      <td>2021.000000</td>\n",
       "      <td>38125.000000</td>\n",
       "      <td>195.000000</td>\n",
       "      <td>1653.000000</td>\n",
       "      <td>129.000000</td>\n",
       "      <td>902.000000</td>\n",
       "      <td>1324.000000</td>\n",
       "      <td>1348.000000</td>\n",
       "      <td>4266.000000</td>\n",
       "      <td>371.000000</td>\n",
       "      <td>4266.000000</td>\n",
       "      <td>4266.000000</td>\n",
       "    </tr>\n",
       "  </tbody>\n",
       "</table>\n",
       "</div>"
      ],
      "text/plain": [
       "               year     id_driver    num_trucks  days_signup_to_approval  \\\n",
       "count  83414.000000  83414.000000  83344.000000             71124.000000   \n",
       "mean    2018.960930  18222.414954     22.582921               298.752489   \n",
       "std        1.359343  11667.704926     48.829719               390.345107   \n",
       "min     2015.000000     20.000000      1.000000                 0.000000   \n",
       "25%     2018.000000   7890.000000      1.000000                 0.000000   \n",
       "50%     2019.000000  16299.000000      4.000000                61.000000   \n",
       "75%     2020.000000  28974.000000     14.000000               497.000000   \n",
       "max     2021.000000  38125.000000    195.000000              1653.000000   \n",
       "\n",
       "              loads  marketplace_loads_otr  marketplace_loads_atlas  \\\n",
       "count  83414.000000           83414.000000             83414.000000   \n",
       "mean       2.076270              29.477762                71.579675   \n",
       "std        2.672163              88.171940               194.532776   \n",
       "min        1.000000               0.000000                 0.000000   \n",
       "25%        1.000000               0.000000                 0.000000   \n",
       "50%        1.000000               2.000000                 0.000000   \n",
       "75%        2.000000              23.000000                18.000000   \n",
       "max      129.000000             902.000000              1324.000000   \n",
       "\n",
       "       marketplace_loads  brokerage_loads_otr  brokerage_loads_atlas  \\\n",
       "count       83414.000000         83414.000000           83414.000000   \n",
       "mean          101.057436           148.258422              13.073021   \n",
       "std           214.502147           415.978060              42.241592   \n",
       "min             0.000000             0.000000               0.000000   \n",
       "25%             0.000000             0.000000               0.000000   \n",
       "50%            13.000000            15.000000               0.000000   \n",
       "75%            94.000000           112.000000               1.000000   \n",
       "max          1348.000000          4266.000000             371.000000   \n",
       "\n",
       "       brokerage_loads   total_loads  \n",
       "count     83414.000000  83414.000000  \n",
       "mean        161.331443    266.502661  \n",
       "std         413.792137    448.806175  \n",
       "min           0.000000      1.000000  \n",
       "25%           5.000000     37.000000  \n",
       "50%          37.000000    110.000000  \n",
       "75%         135.000000    325.000000  \n",
       "max        4266.000000   4266.000000  "
      ]
     },
     "execution_count": 128,
     "metadata": {},
     "output_type": "execute_result"
    }
   ],
   "source": [
    "df.describe()"
   ]
  },
  {
   "cell_type": "code",
   "execution_count": 129,
   "metadata": {},
   "outputs": [
    {
     "name": "stdout",
     "output_type": "stream",
     "text": [
      "<class 'pandas.core.frame.DataFrame'>\n",
      "RangeIndex: 83414 entries, 0 to 83413\n",
      "Data columns (total 30 columns):\n",
      " #   Column                    Non-Null Count  Dtype  \n",
      "---  ------                    --------------  -----  \n",
      " 0   dt                        83414 non-null  object \n",
      " 1   weekday                   83414 non-null  object \n",
      " 2   year                      83414 non-null  int64  \n",
      " 3   id_driver                 83414 non-null  int64  \n",
      " 4   id_carrier_number         83414 non-null  object \n",
      " 5   dim_carrier_type          83414 non-null  object \n",
      " 6   dim_carrier_company_name  83365 non-null  object \n",
      " 7   home_base_city            83369 non-null  object \n",
      " 8   home_base_state           83369 non-null  object \n",
      " 9   carrier_trucks            83414 non-null  object \n",
      " 10  num_trucks                83344 non-null  float64\n",
      " 11  interested_in_drayage     83414 non-null  object \n",
      " 12  port_qualified            83414 non-null  object \n",
      " 13  signup_source             83414 non-null  object \n",
      " 14  ts_signup                 83414 non-null  object \n",
      " 15  ts_first_approved         71124 non-null  object \n",
      " 16  days_signup_to_approval   71124 non-null  float64\n",
      " 17  driver_with_twic          83414 non-null  object \n",
      " 18  dim_preferred_lanes       3412 non-null   object \n",
      " 19  first_load_date           83414 non-null  object \n",
      " 20  most_recent_load_date     83414 non-null  object \n",
      " 21  load_day                  83414 non-null  object \n",
      " 22  loads                     83414 non-null  int64  \n",
      " 23  marketplace_loads_otr     83414 non-null  int64  \n",
      " 24  marketplace_loads_atlas   83414 non-null  int64  \n",
      " 25  marketplace_loads         83414 non-null  int64  \n",
      " 26  brokerage_loads_otr       83414 non-null  int64  \n",
      " 27  brokerage_loads_atlas     83414 non-null  int64  \n",
      " 28  brokerage_loads           83414 non-null  int64  \n",
      " 29  total_loads               83414 non-null  int64  \n",
      "dtypes: float64(2), int64(10), object(18)\n",
      "memory usage: 19.1+ MB\n"
     ]
    }
   ],
   "source": [
    "df.info()"
   ]
  },
  {
   "cell_type": "markdown",
   "metadata": {},
   "source": [
    "# 1. Generate Labels"
   ]
  },
  {
   "cell_type": "code",
   "execution_count": 130,
   "metadata": {},
   "outputs": [],
   "source": [
    "# converts date from csv to a python datetime object making it easier to work with\n",
    "def convert_dates(df):\n",
    "    dates_columns = ['most_recent_load_date', 'first_load_date', 'load_day', 'dt']\n",
    "    for col_name in dates_columns:\n",
    "        try:\n",
    "            df[col_name] = pd.to_datetime(df[col_name], format='%Y-%m-%d')\n",
    "        except:\n",
    "            continue\n",
    "\n",
    "convert_dates(df)\n",
    "convert_dates(df_score)"
   ]
  },
  {
   "cell_type": "code",
   "execution_count": 131,
   "metadata": {},
   "outputs": [
    {
     "data": {
      "text/plain": [
       "0   2021-02-17\n",
       "1   2021-02-03\n",
       "2   2020-09-25\n",
       "3   2021-02-17\n",
       "4   2017-10-11\n",
       "Name: most_recent_load_date, dtype: datetime64[ns]"
      ]
     },
     "execution_count": 131,
     "metadata": {},
     "output_type": "execute_result"
    }
   ],
   "source": [
    "df['most_recent_load_date'].head()"
   ]
  },
  {
   "cell_type": "code",
   "execution_count": 132,
   "metadata": {},
   "outputs": [
    {
     "name": "stdout",
     "output_type": "stream",
     "text": [
      "325.0\n",
      "2021-02-14 00:00:00\n"
     ]
    }
   ],
   "source": [
    "total_loads75 = df.total_loads.quantile(0.75) # finds 75th percentile of loads\n",
    "most_recent_load_date75 = df.most_recent_load_date.quantile(0.75) # finds 75th percentile of most recent load date\n",
    "\n",
    "print(total_loads75)\n",
    "print(most_recent_load_date75)\n",
    "\n",
    "\n",
    "# Manual Check\n",
    "# sorted_dts = sorted(list(df.most_recent_load_date))\n",
    "# quartile_estimate_index = int(len(sorted_dts)*0.75)\n",
    "# print(\"SORTED INDEX\", sorted_dts[quartile_estimate_index])"
   ]
  },
  {
   "cell_type": "code",
   "execution_count": 133,
   "metadata": {},
   "outputs": [],
   "source": [
    "# new_labels = {\"label\": {}}\n",
    "num_days_worked_dict = {}\n",
    "\n",
    "for index, row in df.iterrows(): # changes the labels in the label columns\n",
    "    # checks if the load and most recent load date are in the 75th percentile\n",
    "    if row[\"total_loads\"] >= total_loads75 and row[\"most_recent_load_date\"] >= most_recent_load_date75:\n",
    "        df.at[index, \"label\"] = 1\n",
    "    else:\n",
    "        df.at[index, \"label\"] = 0"
   ]
  },
  {
   "cell_type": "code",
   "execution_count": 134,
   "metadata": {},
   "outputs": [
    {
     "name": "stdout",
     "output_type": "stream",
     "text": [
      "Unique Values :  [0. 1.]\n",
      "Occurrence Count :  [73021 10393]\n"
     ]
    }
   ],
   "source": [
    "uniqueValues, occurCount = np.unique(np.array(df[\"label\"]), return_counts=True)\n",
    "print(\"Unique Values : \" , uniqueValues)\n",
    "print(\"Occurrence Count : \", occurCount)"
   ]
  },
  {
   "cell_type": "code",
   "execution_count": 135,
   "metadata": {},
   "outputs": [],
   "source": [
    "loc_arr = []\n",
    "for index, row in df.iterrows():\n",
    "    if pd.isnull(row[\"home_base_city\"]) != True and pd.isnull(row[\"home_base_state\"]) != True:\n",
    "        if (row[\"home_base_city\"], row[\"home_base_state\"]) not in loc_arr:\n",
    "            loc_arr.append((row[\"home_base_city\"], row[\"home_base_state\"]))\n",
    "            \n",
    "# for index, row in df.iterrows():\n",
    "#     try:\n",
    "#         x = len(row[\"home_base_city\"])\n",
    "#         x = len(row[\"home_base_state\"])\n",
    "#     except:\n",
    "#         index_num = random.randint(0, len(loc_arr)-1)\n",
    "#         df.at[index, \"home_base_city\"] = loc_arr[index_num][0]\n",
    "#         df.at[index, \"home_base_state\"] = loc_arr[index_num][1]"
   ]
  },
  {
   "cell_type": "code",
   "execution_count": 136,
   "metadata": {},
   "outputs": [
    {
     "name": "stdout",
     "output_type": "stream",
     "text": [
      "<class 'pandas.core.frame.DataFrame'>\n",
      "RangeIndex: 83414 entries, 0 to 83413\n",
      "Data columns (total 31 columns):\n",
      " #   Column                    Non-Null Count  Dtype         \n",
      "---  ------                    --------------  -----         \n",
      " 0   dt                        83414 non-null  datetime64[ns]\n",
      " 1   weekday                   83414 non-null  object        \n",
      " 2   year                      83414 non-null  int64         \n",
      " 3   id_driver                 83414 non-null  int64         \n",
      " 4   id_carrier_number         83414 non-null  object        \n",
      " 5   dim_carrier_type          83414 non-null  object        \n",
      " 6   dim_carrier_company_name  83365 non-null  object        \n",
      " 7   home_base_city            83369 non-null  object        \n",
      " 8   home_base_state           83369 non-null  object        \n",
      " 9   carrier_trucks            83414 non-null  object        \n",
      " 10  num_trucks                83344 non-null  float64       \n",
      " 11  interested_in_drayage     83414 non-null  object        \n",
      " 12  port_qualified            83414 non-null  object        \n",
      " 13  signup_source             83414 non-null  object        \n",
      " 14  ts_signup                 83414 non-null  object        \n",
      " 15  ts_first_approved         71124 non-null  object        \n",
      " 16  days_signup_to_approval   71124 non-null  float64       \n",
      " 17  driver_with_twic          83414 non-null  object        \n",
      " 18  dim_preferred_lanes       3412 non-null   object        \n",
      " 19  first_load_date           83414 non-null  datetime64[ns]\n",
      " 20  most_recent_load_date     83414 non-null  datetime64[ns]\n",
      " 21  load_day                  83414 non-null  datetime64[ns]\n",
      " 22  loads                     83414 non-null  int64         \n",
      " 23  marketplace_loads_otr     83414 non-null  int64         \n",
      " 24  marketplace_loads_atlas   83414 non-null  int64         \n",
      " 25  marketplace_loads         83414 non-null  int64         \n",
      " 26  brokerage_loads_otr       83414 non-null  int64         \n",
      " 27  brokerage_loads_atlas     83414 non-null  int64         \n",
      " 28  brokerage_loads           83414 non-null  int64         \n",
      " 29  total_loads               83414 non-null  int64         \n",
      " 30  label                     83414 non-null  float64       \n",
      "dtypes: datetime64[ns](4), float64(3), int64(10), object(14)\n",
      "memory usage: 19.7+ MB\n"
     ]
    }
   ],
   "source": [
    "df.info()"
   ]
  },
  {
   "cell_type": "code",
   "execution_count": 137,
   "metadata": {},
   "outputs": [],
   "source": [
    "groups = df.groupby(\"id_driver\")"
   ]
  },
  {
   "cell_type": "code",
   "execution_count": 138,
   "metadata": {},
   "outputs": [],
   "source": [
    "# NO: dt, weekday, year, id_carrier_number, dim_preferred_lanes, load_day, loads\n",
    "new_arr = []\n",
    "for key, group in groups:\n",
    "    group.sort_values(by=\"load_day\", ascending=False, inplace=True)\n",
    "    temp_arr = []\n",
    "    temp_arr.append(key)\n",
    "    \n",
    "    if group[\"dim_carrier_type\"].nunique() == 2:\n",
    "        temp_arr.append(\"Both\")\n",
    "    elif group[\"dim_carrier_type\"].nunique() == 0:\n",
    "        temp_arr.append(None)\n",
    "    else:\n",
    "        temp_arr.append((group[\"dim_carrier_type\"].iloc[0]))\n",
    "    \n",
    "    \n",
    "    idxmax_cols = [\"dim_carrier_company_name\", \n",
    "                   \"carrier_trucks\", \"signup_source\", \"ts_signup\", \"ts_first_approved\",\n",
    "                  \"days_signup_to_approval\"] #\"home_base_city\", \"home_base_state\",\n",
    "    \n",
    "    for col in idxmax_cols:\n",
    "        try:\n",
    "            temp_arr.append(group[col].value_counts().dropna(how=\"any\").idxmax())\n",
    "        except:\n",
    "            \n",
    "            temp_arr.append(None)\n",
    "    \n",
    "    try:\n",
    "        x = len(group[\"home_base_city\"].dropna(how=\"any\").iloc[0])\n",
    "        x = len(group[\"home_base_state\"].dropna(how=\"any\").iloc[0])\n",
    "        temp_arr.append(group[\"home_base_city\"].dropna(how=\"any\").iloc[0])\n",
    "        temp_arr.append(group[\"home_base_state\"].dropna(how=\"any\").iloc[0])\n",
    "    except:\n",
    "        index_num = random.randint(0, len(loc_arr)-1)\n",
    "        temp_arr.append(loc_arr[index_num][0])\n",
    "        temp_arr.append(loc_arr[index_num][1])\n",
    "        \n",
    "    \n",
    "    \n",
    "    try:\n",
    "        temp_arr.append(group[\"num_trucks\"].dropna(how=\"any\").mean())\n",
    "    except:\n",
    "        temp_arr.append(None)\n",
    "        \n",
    "    iloc_cols = [\"interested_in_drayage\", \"port_qualified\", \"driver_with_twic\", \n",
    "                 \"first_load_date\", \"most_recent_load_date\", \"marketplace_loads_otr\", \n",
    "                 \"marketplace_loads_atlas\", \"marketplace_loads\", \"brokerage_loads_otr\",\n",
    "                 \"brokerage_loads_atlas\", \"brokerage_loads\", \"total_loads\"]\n",
    "    for col in iloc_cols:\n",
    "        try:\n",
    "            temp_arr.append(group[col].dropna(how=\"any\").iloc[0])\n",
    "        except:\n",
    "            temp_arr.append(None)\n",
    "    \n",
    "    temp_arr.append(group.shape[0])\n",
    "    \n",
    "    temp_arr.append(((pd.to_datetime(date.today()) - group[\"most_recent_load_date\"].dropna(how=\"any\").iloc[0]).days) * (-1))\n",
    "    \n",
    "    temp_arr.append(group[\"label\"].value_counts().dropna(how=\"any\").idxmax())\n",
    "    \n",
    "    new_arr.append(np.array(temp_arr))"
   ]
  },
  {
   "cell_type": "code",
   "execution_count": 139,
   "metadata": {},
   "outputs": [],
   "source": [
    "column_names = [\"id_driver\", \"dim_carrier_type\", \"dim_carrier_company_name\", \n",
    "                \"carrier_trucks\", \"signup_source\", \"ts_signup\", \"ts_first_approved\",\n",
    "                \"days_signup_to_approval\", \"home_base_city\", \"home_base_state\", \"num_trucks\", \n",
    "                \"interested_in_drayage\", \"port_qualified\", \"driver_with_twic\", \n",
    "                \"first_load_date\", \"most_recent_load_date\", \"marketplace_loads_otr\", \n",
    "                \"marketplace_loads_atlas\", \"marketplace_loads\", \"brokerage_loads_otr\",\n",
    "                \"brokerage_loads_atlas\", \"brokerage_loads\", \"total_loads\", \"num_trips_made\", \n",
    "                \"days_since_last_load\", \"label\"]\n",
    "\n",
    "df = pd.DataFrame(np.array(new_arr), columns=column_names)"
   ]
  },
  {
   "cell_type": "code",
   "execution_count": 140,
   "metadata": {},
   "outputs": [],
   "source": [
    "# convert = [\"id_driver\", \"days_signup_to_approval\", \"marketplace_loads_otr\", \n",
    "#                \"marketplace_loads_atlas\", \"marketplace_loads\", \"brokerage_loads_otr\",\n",
    "#                \"brokerage_loads_atlas\", \"brokerage_loads\", \"total_loads\", \"num_trips_made\", \"label\",\n",
    "#                \"num_trucks\", \"dim_carrier_type\", \"dim_carrier_company_name\", \"home_base_city\", \"home_base_state\",\n",
    "#                \"interested_in_drayage\", \"port_qualified\", \"signup_source\", \"driver_with_twic\"]\n",
    "for col in column_names:\n",
    "    try:\n",
    "        df[col] = df[col].convert_dtypes()\n",
    "    except:\n",
    "        continue"
   ]
  },
  {
   "cell_type": "code",
   "execution_count": 141,
   "metadata": {},
   "outputs": [],
   "source": [
    "# # NO: dt, weekday, year, id_carrier_number, dim_preferred_lanes, load_day, loads\n",
    "new_dict = {}\n",
    "label_dict = {}\n",
    "most_recent_date_arr = []\n",
    "num_trips_arr = []\n",
    "for key, group in groups:\n",
    "    group.sort_values(by=\"load_day\", ascending=False, inplace=True)\n",
    "    if key not in new_dict:\n",
    "        try:\n",
    "            new_dict[key] = (group[\"load_day\"].dropna(how=\"any\").iloc[0], group.shape[0])\n",
    "        except:\n",
    "            new_dict[key] = None\n",
    "        \n",
    "        try:\n",
    "            label_dict[key] = group[\"label\"].dropna(how=\"any\").iloc[0]\n",
    "        except:\n",
    "            label_dict[key] = 1\n",
    "\n",
    "# for index, row in df.iterrows():\n",
    "#     most_recent_date_arr.append(new_dict[row[\"id_driver\"]][0])\n",
    "#     num_trips_arr.append(new_dict[row[\"id_driver\"]][1])\n",
    "# df[\"num_trips_made\"] = np.array(num_trips_arr)"
   ]
  },
  {
   "cell_type": "code",
   "execution_count": 142,
   "metadata": {},
   "outputs": [
    {
     "name": "stdout",
     "output_type": "stream",
     "text": [
      "<class 'pandas.core.frame.DataFrame'>\n",
      "RangeIndex: 5291 entries, 0 to 5290\n",
      "Data columns (total 26 columns):\n",
      " #   Column                    Non-Null Count  Dtype         \n",
      "---  ------                    --------------  -----         \n",
      " 0   id_driver                 5291 non-null   Int64         \n",
      " 1   dim_carrier_type          5291 non-null   string        \n",
      " 2   dim_carrier_company_name  5284 non-null   string        \n",
      " 3   carrier_trucks            5291 non-null   string        \n",
      " 4   signup_source             5291 non-null   string        \n",
      " 5   ts_signup                 5291 non-null   string        \n",
      " 6   ts_first_approved         3962 non-null   string        \n",
      " 7   days_signup_to_approval   3962 non-null   Int64         \n",
      " 8   home_base_city            5291 non-null   string        \n",
      " 9   home_base_state           5291 non-null   string        \n",
      " 10  num_trucks                5249 non-null   float64       \n",
      " 11  interested_in_drayage     5291 non-null   string        \n",
      " 12  port_qualified            5291 non-null   string        \n",
      " 13  driver_with_twic          5291 non-null   string        \n",
      " 14  first_load_date           5291 non-null   datetime64[ns]\n",
      " 15  most_recent_load_date     5291 non-null   datetime64[ns]\n",
      " 16  marketplace_loads_otr     5291 non-null   Int64         \n",
      " 17  marketplace_loads_atlas   5291 non-null   Int64         \n",
      " 18  marketplace_loads         5291 non-null   Int64         \n",
      " 19  brokerage_loads_otr       5291 non-null   Int64         \n",
      " 20  brokerage_loads_atlas     5291 non-null   Int64         \n",
      " 21  brokerage_loads           5291 non-null   Int64         \n",
      " 22  total_loads               5291 non-null   Int64         \n",
      " 23  num_trips_made            5291 non-null   Int64         \n",
      " 24  days_since_last_load      5291 non-null   Int64         \n",
      " 25  label                     5291 non-null   Int64         \n",
      "dtypes: Int64(12), datetime64[ns](2), float64(1), string(11)\n",
      "memory usage: 1.1 MB\n"
     ]
    }
   ],
   "source": [
    "df.info()"
   ]
  },
  {
   "cell_type": "code",
   "execution_count": 143,
   "metadata": {},
   "outputs": [
    {
     "data": {
      "text/plain": [
       "count    5291.000000\n",
       "mean        0.010395\n",
       "std         0.101434\n",
       "min         0.000000\n",
       "25%         0.000000\n",
       "50%         0.000000\n",
       "75%         0.000000\n",
       "max         1.000000\n",
       "Name: label, dtype: float64"
      ]
     },
     "execution_count": 143,
     "metadata": {},
     "output_type": "execute_result"
    }
   ],
   "source": [
    "df[\"label\"].describe()"
   ]
  },
  {
   "cell_type": "code",
   "execution_count": 144,
   "metadata": {},
   "outputs": [],
   "source": [
    "groups = df_score.groupby(\"id_driver\")"
   ]
  },
  {
   "cell_type": "code",
   "execution_count": 145,
   "metadata": {},
   "outputs": [],
   "source": [
    "# NO: dt, weekday, year, id_carrier_number, dim_preferred_lanes, load_day, loads\n",
    "new_arr = []\n",
    "for key, group in groups:\n",
    "    group.sort_values(by=\"load_day\", ascending=False, inplace=True)\n",
    "    temp_arr = []\n",
    "    temp_arr.append(key)\n",
    "    \n",
    "    if group[\"dim_carrier_type\"].nunique() == 2:\n",
    "        temp_arr.append(\"Both\")\n",
    "    elif group[\"dim_carrier_type\"].nunique() == 0:\n",
    "        temp_arr.append(None)\n",
    "    else:\n",
    "        temp_arr.append((group[\"dim_carrier_type\"].iloc[0]))\n",
    "    \n",
    "    \n",
    "    idxmax_cols = [\"dim_carrier_company_name\", \n",
    "                   \"carrier_trucks\", \"signup_source\", \"ts_signup\", \"ts_first_approved\",\n",
    "                  \"days_signup_to_approval\"]\n",
    "    \n",
    "    for col in idxmax_cols:\n",
    "        try:\n",
    "            temp_arr.append(group[col].value_counts().dropna(how=\"any\").idxmax())\n",
    "        except:\n",
    "            temp_arr.append(None)\n",
    "            \n",
    "    \n",
    "    try:\n",
    "        x = len(group[\"home_base_city\"].dropna(how=\"any\").iloc[0])\n",
    "        x = len(group[\"home_base_state\"].dropna(how=\"any\").iloc[0])\n",
    "        temp_arr.append(group[\"home_base_city\"].dropna(how=\"any\").iloc[0])\n",
    "        temp_arr.append(group[\"home_base_state\"].dropna(how=\"any\").iloc[0])\n",
    "    except:\n",
    "        index_num = random.randint(0, len(loc_arr)-1)\n",
    "        temp_arr.append(loc_arr[index_num][0])\n",
    "        temp_arr.append(loc_arr[index_num][1])\n",
    "    \n",
    "    \n",
    "    try:\n",
    "        temp_arr.append(group[\"num_trucks\"].dropna(how=\"any\").mean())\n",
    "    except:\n",
    "        temp_arr.append(None)\n",
    "        \n",
    "    iloc_cols = [\"interested_in_drayage\", \"port_qualified\", \"driver_with_twic\", \n",
    "                 \"first_load_date\", \"load_day\", \"marketplace_loads_otr\", \n",
    "                 \"marketplace_loads_atlas\", \"marketplace_loads\", \"brokerage_loads_otr\",\n",
    "                 \"brokerage_loads_atlas\", \"brokerage_loads\"]\n",
    "    for col in iloc_cols:\n",
    "        try:\n",
    "            temp_arr.append(group[col].dropna(how=\"any\").iloc[0])\n",
    "        except:\n",
    "            temp_arr.append(None)\n",
    "            \n",
    "    temp_arr.append(group.shape[0])\n",
    "    \n",
    "    temp_arr.append(((pd.to_datetime(date.today()) - group[\"load_day\"].dropna(how=\"any\").iloc[0]).days) * (-1))\n",
    "    \n",
    "    new_arr.append(np.array(temp_arr))"
   ]
  },
  {
   "cell_type": "code",
   "execution_count": 146,
   "metadata": {},
   "outputs": [],
   "source": [
    "column_names = [\"id_driver\", \"dim_carrier_type\", \"dim_carrier_company_name\", \n",
    "                \"carrier_trucks\", \"signup_source\", \"ts_signup\", \"ts_first_approved\",\n",
    "                \"days_signup_to_approval\", \"home_base_city\", \"home_base_state\", \"num_trucks\", \n",
    "                \"interested_in_drayage\", \"port_qualified\", \"driver_with_twic\", \n",
    "                \"first_load_date\", \"most_recent_load_date\", \"marketplace_loads_otr\", \n",
    "                \"marketplace_loads_atlas\", \"marketplace_loads\", \"brokerage_loads_otr\",\n",
    "                \"brokerage_loads_atlas\", \"brokerage_loads\", \"num_trips_made\", \n",
    "                \"days_since_last_load\"]\n",
    "\n",
    "df_score = pd.DataFrame(np.array(new_arr), columns=column_names)"
   ]
  },
  {
   "cell_type": "code",
   "execution_count": 147,
   "metadata": {},
   "outputs": [],
   "source": [
    "# convert = [\"id_driver\", \"days_signup_to_approval\", \"marketplace_loads_otr\", \n",
    "#                \"marketplace_loads_atlas\", \"marketplace_loads\", \"brokerage_loads_otr\",\n",
    "#                \"brokerage_loads_atlas\", \"brokerage_loads\", \"num_trips_made\",\n",
    "#                \"num_trucks\", \"dim_carrier_type\", \"dim_carrier_company_name\", \"home_base_city\", \"home_base_state\",\n",
    "#                \"interested_in_drayage\", \"port_qualified\", \"signup_source\", \"driver_with_twic\"]\n",
    "for col in column_names:\n",
    "    try:\n",
    "        df_score[col] = df_score[col].convert_dtypes()\n",
    "    except:\n",
    "        continue"
   ]
  },
  {
   "cell_type": "code",
   "execution_count": 148,
   "metadata": {},
   "outputs": [
    {
     "name": "stdout",
     "output_type": "stream",
     "text": [
      "Not here:  1288\n",
      "Not here:  7594\n",
      "Not here:  7623\n",
      "Not here:  8205\n",
      "Not here:  10359\n",
      "Not here:  11514\n",
      "Not here:  12429\n",
      "Not here:  13711\n",
      "Not here:  13761\n",
      "Not here:  15073\n",
      "Not here:  16642\n",
      "Not here:  20357\n",
      "Not here:  26545\n",
      "Not here:  29070\n",
      "Not here:  29653\n",
      "Not here:  31557\n",
      "Not here:  31873\n",
      "Not here:  35563\n",
      "Not here:  35572\n"
     ]
    }
   ],
   "source": [
    "# # NO: dt, weekday, year, id_carrier_number, dim_preferred_lanes, load_day, loads\n",
    "new_dict = {}\n",
    "most_recent_date_arr = []\n",
    "num_trips_arr = []\n",
    "score_labels = []\n",
    "for key, group in groups:\n",
    "    group.sort_values(by=\"load_day\", ascending=False, inplace=True)\n",
    "    if key not in new_dict:\n",
    "        try:\n",
    "            new_dict[key] = (group[\"load_day\"].dropna(how=\"any\").iloc[0], group.shape[0])\n",
    "        except:\n",
    "            new_dict[key] = None\n",
    "\n",
    "for index, row in df_score.iterrows():\n",
    "    most_recent_date_arr.append(new_dict[row[\"id_driver\"]][0])\n",
    "    num_trips_arr.append(new_dict[row[\"id_driver\"]][1])\n",
    "    if row[\"id_driver\"] in label_dict:\n",
    "        score_labels.append(label_dict[row[\"id_driver\"]])\n",
    "    else:\n",
    "        print(\"Not here: \", row[\"id_driver\"])\n",
    "        rand_num = random.randint(0, 1000)\n",
    "        if rand_num <= 125:\n",
    "            score_labels.append(1)\n",
    "            label_dict[row[\"id_driver\"]] = 1\n",
    "        else:\n",
    "            score_labels.append(0)\n",
    "            label_dict[row[\"id_driver\"]] = 0\n",
    "\n",
    "score_labels = np.array(score_labels)\n",
    "# df_score[\"most_recent_load_date\"] = np.array(most_recent_date_arr)\n",
    "# df_score[\"num_trips_made\"] = np.array(num_trips_arr)"
   ]
  },
  {
   "cell_type": "code",
   "execution_count": 149,
   "metadata": {},
   "outputs": [
    {
     "data": {
      "text/plain": [
       "0      3\n",
       "1      3\n",
       "2      1\n",
       "3      1\n",
       "4      1\n",
       "      ..\n",
       "663    1\n",
       "664    1\n",
       "665    1\n",
       "666    1\n",
       "667    1\n",
       "Name: num_trips_made, Length: 668, dtype: Int64"
      ]
     },
     "metadata": {},
     "output_type": "display_data"
    }
   ],
   "source": [
    "display(df_score[\"num_trips_made\"])"
   ]
  },
  {
   "cell_type": "code",
   "execution_count": 150,
   "metadata": {},
   "outputs": [
    {
     "name": "stdout",
     "output_type": "stream",
     "text": [
      "<class 'pandas.core.frame.DataFrame'>\n",
      "RangeIndex: 668 entries, 0 to 667\n",
      "Data columns (total 24 columns):\n",
      " #   Column                    Non-Null Count  Dtype         \n",
      "---  ------                    --------------  -----         \n",
      " 0   id_driver                 668 non-null    Int64         \n",
      " 1   dim_carrier_type          668 non-null    string        \n",
      " 2   dim_carrier_company_name  668 non-null    string        \n",
      " 3   carrier_trucks            668 non-null    string        \n",
      " 4   signup_source             668 non-null    string        \n",
      " 5   ts_signup                 668 non-null    string        \n",
      " 6   ts_first_approved         572 non-null    string        \n",
      " 7   days_signup_to_approval   572 non-null    Int64         \n",
      " 8   home_base_city            668 non-null    string        \n",
      " 9   home_base_state           668 non-null    string        \n",
      " 10  num_trucks                668 non-null    float64       \n",
      " 11  interested_in_drayage     668 non-null    string        \n",
      " 12  port_qualified            668 non-null    string        \n",
      " 13  driver_with_twic          668 non-null    string        \n",
      " 14  first_load_date           668 non-null    datetime64[ns]\n",
      " 15  most_recent_load_date     668 non-null    datetime64[ns]\n",
      " 16  marketplace_loads_otr     668 non-null    Int64         \n",
      " 17  marketplace_loads_atlas   668 non-null    Int64         \n",
      " 18  marketplace_loads         668 non-null    Int64         \n",
      " 19  brokerage_loads_otr       668 non-null    Int64         \n",
      " 20  brokerage_loads_atlas     668 non-null    Int64         \n",
      " 21  brokerage_loads           668 non-null    Int64         \n",
      " 22  num_trips_made            668 non-null    Int64         \n",
      " 23  days_since_last_load      668 non-null    Int64         \n",
      "dtypes: Int64(10), datetime64[ns](2), float64(1), string(11)\n",
      "memory usage: 131.9 KB\n"
     ]
    }
   ],
   "source": [
    "df_score.info()"
   ]
  },
  {
   "cell_type": "code",
   "execution_count": 151,
   "metadata": {},
   "outputs": [],
   "source": [
    "# # NO: dt, weekday, year, id_carrier_number, dim_preferred_lanes, load_day, loads\n",
    "\n",
    "\n",
    "\n",
    "# [\"id_driver\", \"dim_carrier_type\", \"dim_carrier_company_name\", \"home_base_city\", \"home_base_state\", \n",
    "#                 \"carrier_trucks\", \"signup_source\", \"ts_signup\", \"ts_first_approved\",\n",
    "#                 \"days_signup_to_approval\", \"num_trucks\", \"interested_in_drayage\", \n",
    "#                 \"port_qualified\", \"driver_with_twic\", \n",
    "#                 \"first_load_date\", \"most_recent_load_date\", \"marketplace_loads_otr\", \n",
    "#                 \"marketplace_loads_atlas\", \"marketplace_loads\", \"brokerage_loads_otr\",\n",
    "#                 \"brokerage_loads_atlas\", \"brokerage_loads\", \"total_loads\", \"num_trips_made\", \"label\"]\n",
    "\n",
    "drop_cols = [\"dt\", \"weekday\", \"year\", \"id_carrier_number\", \"dim_preferred_lanes\", \"load_day\", \"loads\"]\n",
    "for col in drop_cols:\n",
    "    try:\n",
    "        df_score = df_score.drop(columns=[col])\n",
    "    except:\n",
    "        continue\n",
    "\n",
    "for col in drop_cols:\n",
    "    try:\n",
    "        df = df.drop(columns=[col])\n",
    "    except:\n",
    "        continue"
   ]
  },
  {
   "cell_type": "code",
   "execution_count": 152,
   "metadata": {},
   "outputs": [
    {
     "name": "stdout",
     "output_type": "stream",
     "text": [
      "<class 'pandas.core.frame.DataFrame'>\n",
      "RangeIndex: 668 entries, 0 to 667\n",
      "Data columns (total 24 columns):\n",
      " #   Column                    Non-Null Count  Dtype         \n",
      "---  ------                    --------------  -----         \n",
      " 0   id_driver                 668 non-null    Int64         \n",
      " 1   dim_carrier_type          668 non-null    string        \n",
      " 2   dim_carrier_company_name  668 non-null    string        \n",
      " 3   carrier_trucks            668 non-null    string        \n",
      " 4   signup_source             668 non-null    string        \n",
      " 5   ts_signup                 668 non-null    string        \n",
      " 6   ts_first_approved         572 non-null    string        \n",
      " 7   days_signup_to_approval   572 non-null    Int64         \n",
      " 8   home_base_city            668 non-null    string        \n",
      " 9   home_base_state           668 non-null    string        \n",
      " 10  num_trucks                668 non-null    float64       \n",
      " 11  interested_in_drayage     668 non-null    string        \n",
      " 12  port_qualified            668 non-null    string        \n",
      " 13  driver_with_twic          668 non-null    string        \n",
      " 14  first_load_date           668 non-null    datetime64[ns]\n",
      " 15  most_recent_load_date     668 non-null    datetime64[ns]\n",
      " 16  marketplace_loads_otr     668 non-null    Int64         \n",
      " 17  marketplace_loads_atlas   668 non-null    Int64         \n",
      " 18  marketplace_loads         668 non-null    Int64         \n",
      " 19  brokerage_loads_otr       668 non-null    Int64         \n",
      " 20  brokerage_loads_atlas     668 non-null    Int64         \n",
      " 21  brokerage_loads           668 non-null    Int64         \n",
      " 22  num_trips_made            668 non-null    Int64         \n",
      " 23  days_since_last_load      668 non-null    Int64         \n",
      "dtypes: Int64(10), datetime64[ns](2), float64(1), string(11)\n",
      "memory usage: 131.9 KB\n"
     ]
    }
   ],
   "source": [
    "df_score.info()"
   ]
  },
  {
   "cell_type": "markdown",
   "metadata": {},
   "source": [
    "# 3. Basic Statistics"
   ]
  },
  {
   "cell_type": "code",
   "execution_count": 153,
   "metadata": {},
   "outputs": [
    {
     "name": "stdout",
     "output_type": "stream",
     "text": [
      "id_driver\n"
     ]
    },
    {
     "data": {
      "text/plain": [
       "id_driver                  1.000000\n",
       "days_since_last_load       0.839446\n",
       "num_trucks                 0.169567\n",
       "brokerage_loads_atlas      0.145307\n",
       "marketplace_loads_atlas    0.138116\n",
       "marketplace_loads          0.123344\n",
       "label                      0.075683\n",
       "total_loads                0.052722\n",
       "num_trips_made             0.018007\n",
       "marketplace_loads_otr     -0.012441\n",
       "brokerage_loads           -0.037352\n",
       "brokerage_loads_otr       -0.063795\n",
       "days_signup_to_approval   -0.734778\n",
       "Name: id_driver, dtype: float64"
      ]
     },
     "metadata": {},
     "output_type": "display_data"
    },
    {
     "name": "stdout",
     "output_type": "stream",
     "text": [
      "---------------------------------------------------------------------\n",
      "dim_carrier_type\n",
      "dim_carrier_type is not of type integer\n",
      "---------------------------------------------------------------------\n",
      "dim_carrier_company_name\n",
      "dim_carrier_company_name is not of type integer\n",
      "---------------------------------------------------------------------\n",
      "carrier_trucks\n",
      "carrier_trucks is not of type integer\n",
      "---------------------------------------------------------------------\n",
      "signup_source\n",
      "signup_source is not of type integer\n",
      "---------------------------------------------------------------------\n",
      "ts_signup\n",
      "ts_signup is not of type integer\n",
      "---------------------------------------------------------------------\n",
      "ts_first_approved\n",
      "ts_first_approved is not of type integer\n",
      "---------------------------------------------------------------------\n",
      "days_signup_to_approval\n"
     ]
    },
    {
     "data": {
      "text/plain": [
       "days_signup_to_approval    1.000000\n",
       "brokerage_loads_otr        0.048116\n",
       "brokerage_loads            0.027929\n",
       "num_trips_made             0.010462\n",
       "marketplace_loads_otr      0.007436\n",
       "total_loads               -0.043765\n",
       "num_trucks                -0.053498\n",
       "label                     -0.064084\n",
       "marketplace_loads         -0.089268\n",
       "brokerage_loads_atlas     -0.092088\n",
       "marketplace_loads_atlas   -0.099058\n",
       "days_since_last_load      -0.628732\n",
       "id_driver                 -0.734778\n",
       "Name: days_signup_to_approval, dtype: float64"
      ]
     },
     "metadata": {},
     "output_type": "display_data"
    },
    {
     "name": "stdout",
     "output_type": "stream",
     "text": [
      "---------------------------------------------------------------------\n",
      "home_base_city\n",
      "home_base_city is not of type integer\n",
      "---------------------------------------------------------------------\n",
      "home_base_state\n",
      "home_base_state is not of type integer\n",
      "---------------------------------------------------------------------\n",
      "num_trucks\n"
     ]
    },
    {
     "data": {
      "text/plain": [
       "num_trucks                 1.000000\n",
       "id_driver                  0.169567\n",
       "days_since_last_load       0.163449\n",
       "num_trips_made             0.059784\n",
       "total_loads                0.017664\n",
       "brokerage_loads_otr        0.001285\n",
       "brokerage_loads           -0.006155\n",
       "label                     -0.035292\n",
       "brokerage_loads_atlas     -0.042167\n",
       "marketplace_loads_atlas   -0.050920\n",
       "days_signup_to_approval   -0.053498\n",
       "marketplace_loads_otr     -0.058752\n",
       "marketplace_loads         -0.065660\n",
       "Name: num_trucks, dtype: float64"
      ]
     },
     "metadata": {},
     "output_type": "display_data"
    },
    {
     "name": "stdout",
     "output_type": "stream",
     "text": [
      "---------------------------------------------------------------------\n",
      "interested_in_drayage\n",
      "interested_in_drayage is not of type integer\n",
      "---------------------------------------------------------------------\n",
      "port_qualified\n",
      "port_qualified is not of type integer\n",
      "---------------------------------------------------------------------\n",
      "driver_with_twic\n",
      "driver_with_twic is not of type integer\n",
      "---------------------------------------------------------------------\n",
      "first_load_date\n",
      "first_load_date is not of type integer\n",
      "---------------------------------------------------------------------\n",
      "most_recent_load_date\n",
      "most_recent_load_date is not of type integer\n",
      "---------------------------------------------------------------------\n",
      "marketplace_loads_otr\n"
     ]
    },
    {
     "data": {
      "text/plain": [
       "marketplace_loads_otr      1.000000\n",
       "num_trips_made             0.511867\n",
       "marketplace_loads          0.395290\n",
       "total_loads                0.268972\n",
       "label                      0.163324\n",
       "days_since_last_load       0.157085\n",
       "marketplace_loads_atlas    0.083147\n",
       "brokerage_loads_otr        0.080873\n",
       "brokerage_loads            0.080687\n",
       "days_signup_to_approval    0.007436\n",
       "brokerage_loads_atlas      0.005160\n",
       "id_driver                 -0.012441\n",
       "num_trucks                -0.058752\n",
       "Name: marketplace_loads_otr, dtype: float64"
      ]
     },
     "metadata": {},
     "output_type": "display_data"
    },
    {
     "name": "stdout",
     "output_type": "stream",
     "text": [
      "---------------------------------------------------------------------\n",
      "marketplace_loads_atlas\n"
     ]
    },
    {
     "data": {
      "text/plain": [
       "marketplace_loads_atlas    1.000000\n",
       "marketplace_loads          0.948243\n",
       "label                      0.577596\n",
       "total_loads                0.541759\n",
       "num_trips_made             0.445315\n",
       "brokerage_loads_atlas      0.410271\n",
       "days_since_last_load       0.202243\n",
       "id_driver                  0.138116\n",
       "marketplace_loads_otr      0.083147\n",
       "brokerage_loads            0.059796\n",
       "brokerage_loads_otr       -0.012599\n",
       "num_trucks                -0.050920\n",
       "days_signup_to_approval   -0.099058\n",
       "Name: marketplace_loads_atlas, dtype: float64"
      ]
     },
     "metadata": {},
     "output_type": "display_data"
    },
    {
     "name": "stdout",
     "output_type": "stream",
     "text": [
      "---------------------------------------------------------------------\n",
      "marketplace_loads\n"
     ]
    },
    {
     "data": {
      "text/plain": [
       "marketplace_loads          1.000000\n",
       "marketplace_loads_atlas    0.948243\n",
       "total_loads                0.585073\n",
       "label                      0.584442\n",
       "num_trips_made             0.573574\n",
       "marketplace_loads_otr      0.395290\n",
       "brokerage_loads_atlas      0.379811\n",
       "days_since_last_load       0.236472\n",
       "id_driver                  0.123344\n",
       "brokerage_loads            0.080827\n",
       "brokerage_loads_otr        0.014158\n",
       "num_trucks                -0.065660\n",
       "days_signup_to_approval   -0.089268\n",
       "Name: marketplace_loads, dtype: float64"
      ]
     },
     "metadata": {},
     "output_type": "display_data"
    },
    {
     "name": "stdout",
     "output_type": "stream",
     "text": [
      "---------------------------------------------------------------------\n",
      "brokerage_loads_otr\n"
     ]
    },
    {
     "data": {
      "text/plain": [
       "brokerage_loads_otr        1.000000\n",
       "brokerage_loads            0.984385\n",
       "total_loads                0.803391\n",
       "num_trips_made             0.572785\n",
       "label                      0.239032\n",
       "marketplace_loads_otr      0.080873\n",
       "days_since_last_load       0.061265\n",
       "days_signup_to_approval    0.048116\n",
       "marketplace_loads          0.014158\n",
       "num_trucks                 0.001285\n",
       "brokerage_loads_atlas     -0.011804\n",
       "marketplace_loads_atlas   -0.012599\n",
       "id_driver                 -0.063795\n",
       "Name: brokerage_loads_otr, dtype: float64"
      ]
     },
     "metadata": {},
     "output_type": "display_data"
    },
    {
     "name": "stdout",
     "output_type": "stream",
     "text": [
      "---------------------------------------------------------------------\n",
      "brokerage_loads_atlas\n"
     ]
    },
    {
     "data": {
      "text/plain": [
       "brokerage_loads_atlas      1.000000\n",
       "marketplace_loads_atlas    0.410271\n",
       "marketplace_loads          0.379811\n",
       "total_loads                0.329874\n",
       "label                      0.327819\n",
       "num_trips_made             0.257713\n",
       "days_since_last_load       0.179735\n",
       "brokerage_loads            0.164395\n",
       "id_driver                  0.145307\n",
       "marketplace_loads_otr      0.005160\n",
       "brokerage_loads_otr       -0.011804\n",
       "num_trucks                -0.042167\n",
       "days_signup_to_approval   -0.092088\n",
       "Name: brokerage_loads_atlas, dtype: float64"
      ]
     },
     "metadata": {},
     "output_type": "display_data"
    },
    {
     "name": "stdout",
     "output_type": "stream",
     "text": [
      "---------------------------------------------------------------------\n",
      "brokerage_loads\n"
     ]
    },
    {
     "data": {
      "text/plain": [
       "brokerage_loads            1.000000\n",
       "brokerage_loads_otr        0.984385\n",
       "total_loads                0.850586\n",
       "num_trips_made             0.610399\n",
       "label                      0.293505\n",
       "brokerage_loads_atlas      0.164395\n",
       "days_since_last_load       0.092076\n",
       "marketplace_loads          0.080827\n",
       "marketplace_loads_otr      0.080687\n",
       "marketplace_loads_atlas    0.059796\n",
       "days_signup_to_approval    0.027929\n",
       "num_trucks                -0.006155\n",
       "id_driver                 -0.037352\n",
       "Name: brokerage_loads, dtype: float64"
      ]
     },
     "metadata": {},
     "output_type": "display_data"
    },
    {
     "name": "stdout",
     "output_type": "stream",
     "text": [
      "---------------------------------------------------------------------\n",
      "total_loads\n"
     ]
    },
    {
     "data": {
      "text/plain": [
       "total_loads                1.000000\n",
       "brokerage_loads            0.850586\n",
       "brokerage_loads_otr        0.803391\n",
       "num_trips_made             0.802860\n",
       "marketplace_loads          0.585073\n",
       "label                      0.541811\n",
       "marketplace_loads_atlas    0.541759\n",
       "brokerage_loads_atlas      0.329874\n",
       "marketplace_loads_otr      0.268972\n",
       "days_since_last_load       0.216076\n",
       "id_driver                  0.052722\n",
       "num_trucks                 0.017664\n",
       "days_signup_to_approval   -0.043765\n",
       "Name: total_loads, dtype: float64"
      ]
     },
     "metadata": {},
     "output_type": "display_data"
    },
    {
     "name": "stdout",
     "output_type": "stream",
     "text": [
      "---------------------------------------------------------------------\n",
      "num_trips_made\n"
     ]
    },
    {
     "data": {
      "text/plain": [
       "num_trips_made             1.000000\n",
       "total_loads                0.802860\n",
       "brokerage_loads            0.610399\n",
       "marketplace_loads          0.573574\n",
       "brokerage_loads_otr        0.572785\n",
       "marketplace_loads_otr      0.511867\n",
       "label                      0.481593\n",
       "marketplace_loads_atlas    0.445315\n",
       "days_since_last_load       0.284921\n",
       "brokerage_loads_atlas      0.257713\n",
       "num_trucks                 0.059784\n",
       "id_driver                  0.018007\n",
       "days_signup_to_approval    0.010462\n",
       "Name: num_trips_made, dtype: float64"
      ]
     },
     "metadata": {},
     "output_type": "display_data"
    },
    {
     "name": "stdout",
     "output_type": "stream",
     "text": [
      "---------------------------------------------------------------------\n",
      "days_since_last_load\n"
     ]
    },
    {
     "data": {
      "text/plain": [
       "days_since_last_load       1.000000\n",
       "id_driver                  0.839446\n",
       "num_trips_made             0.284921\n",
       "marketplace_loads          0.236472\n",
       "total_loads                0.216076\n",
       "marketplace_loads_atlas    0.202243\n",
       "brokerage_loads_atlas      0.179735\n",
       "num_trucks                 0.163449\n",
       "marketplace_loads_otr      0.157085\n",
       "label                      0.142288\n",
       "brokerage_loads            0.092076\n",
       "brokerage_loads_otr        0.061265\n",
       "days_signup_to_approval   -0.628732\n",
       "Name: days_since_last_load, dtype: float64"
      ]
     },
     "metadata": {},
     "output_type": "display_data"
    },
    {
     "name": "stdout",
     "output_type": "stream",
     "text": [
      "---------------------------------------------------------------------\n",
      "label\n"
     ]
    },
    {
     "data": {
      "text/plain": [
       "label                      1.000000\n",
       "marketplace_loads          0.584442\n",
       "marketplace_loads_atlas    0.577596\n",
       "total_loads                0.541811\n",
       "num_trips_made             0.481593\n",
       "brokerage_loads_atlas      0.327819\n",
       "brokerage_loads            0.293505\n",
       "brokerage_loads_otr        0.239032\n",
       "marketplace_loads_otr      0.163324\n",
       "days_since_last_load       0.142288\n",
       "id_driver                  0.075683\n",
       "num_trucks                -0.035292\n",
       "days_signup_to_approval   -0.064084\n",
       "Name: label, dtype: float64"
      ]
     },
     "metadata": {},
     "output_type": "display_data"
    },
    {
     "name": "stdout",
     "output_type": "stream",
     "text": [
      "---------------------------------------------------------------------\n"
     ]
    }
   ],
   "source": [
    "corr_matrix = df.corr()\n",
    "for col_name in (list(df.columns.values)): # prints all the correlation matrices corresponding to each feature\n",
    "    try:\n",
    "        print(col_name)\n",
    "        display(corr_matrix[col_name].sort_values(ascending=False))\n",
    "        print('---------------------------------------------------------------------')\n",
    "    except:\n",
    "        print(\"{} is not of type integer\".format(col_name))\n",
    "        print('---------------------------------------------------------------------')"
   ]
  },
  {
   "cell_type": "markdown",
   "metadata": {},
   "source": [
    " Also year and TODO_FIND_COLUMN_NAME_2 and year are highly correlated and have a similar impact on label, so we could drop one? \n",
    "\n",
    "Is there really a need for brokerage_loads when it is so highly correlated to brokerage_loads_otr due to the vast majority of shipments being delivered over-the-road as compared to via ATLAS? \n",
    "\n",
    "I have the same question about total_loads due to the vast majority of loads being brokerage loads...\n",
    "\n",
    "What's the point of having both year and date?\n",
    "\n",
    "We can remove the id_carrier_number column from this dataset as it is not relevant to predicting a label of 0 or 1 (When trying to find high performing drivers, we need to know their carrier number, so we can extract the id_carrier_number column for now...)\n",
    "\n",
    "We could one-hot-encode sign-up source and see its effect on labels.\n",
    "\n",
    "We can remove the ts_first_approved column because the date of approval shouldn't matter that much but instead the days_signup_to_approval matter.\n",
    "\n",
    "dim_preferred_lanes only has a few values so we can either remove the column or impute values.\n",
    "\n",
    "Also first_load_date, most_recent_load_date and load_day shouldn't matter much. Instead we can have values such as: number of days doing the job = most_recent_load_date - first_load_date\n",
    "AND\n",
    "days_from_last_load_to_today = todays_date - most_recent_load_date\n",
    "\n",
    "There are also a couple other features we need to impute.\n",
    "\n",
    "Also, only people that are port qualified can provide drayage services, so we should create a field called qualified_and_interest_in_drayage which is only 1 (yes) when interested_in_drayage = \"yes\" and port_qualified = \"yes\". We can also cross these features..."
   ]
  },
  {
   "cell_type": "markdown",
   "metadata": {},
   "source": [
    "# 4. Data Feature Extraction Plan and Pipeline"
   ]
  },
  {
   "cell_type": "code",
   "execution_count": 154,
   "metadata": {},
   "outputs": [],
   "source": [
    "# df[\"location\"] = list(zip(df[\"home_base_city\"], df[\"home_base_state\"]))# feature cross to get (city, state) tuple\n",
    "# # feature cross for interested in drayage and port qualified\n",
    "# df[\"drayage_interested_port_qualified\"] = list(zip(df[\"interested_in_drayage\"], df[\"port_qualified\"]))\n",
    "# display(df[\"location\"])\n",
    "# display(df[\"drayage_interested_port_qualified\"])"
   ]
  },
  {
   "cell_type": "code",
   "execution_count": 155,
   "metadata": {},
   "outputs": [
    {
     "data": {
      "text/plain": [
       "0       100000\n",
       "1       100000\n",
       "2       100000\n",
       "3       100000\n",
       "4       100000\n",
       "         ...  \n",
       "5286    100000\n",
       "5287    000001\n",
       "5288    000001\n",
       "5289    000001\n",
       "5290    000001\n",
       "Name: drayage_interested_port_qualified, Length: 5291, dtype: object"
      ]
     },
     "metadata": {},
     "output_type": "display_data"
    },
    {
     "data": {
      "text/plain": [
       "0      100000\n",
       "1      100000\n",
       "2      100000\n",
       "3      100000\n",
       "4      100000\n",
       "        ...  \n",
       "663    100000\n",
       "664    000001\n",
       "665    000010\n",
       "666    000010\n",
       "667    010000\n",
       "Name: drayage_interested_port_qualified, Length: 668, dtype: object"
      ]
     },
     "metadata": {},
     "output_type": "display_data"
    }
   ],
   "source": [
    "def drayage_feature_cross(df):\n",
    "    loc_cross = list(zip(df[\"home_base_city\"], df[\"home_base_state\"]))# feature cross to get (city, state) tuple\n",
    "    # feature cross for interested in drayage and port qualified\n",
    "    drayage_cross = list(zip(df[\"interested_in_drayage\"], df[\"port_qualified\"]))\n",
    "\n",
    "    drayage_arr = []\n",
    "    for list_item in drayage_cross:\n",
    "        if list_item[0] == \"yes\" and list_item[1] == \"yes\":\n",
    "            drayage_arr.append(\"000001\")\n",
    "        if list_item[0] == \"yes\" and list_item[1] == \"no\":\n",
    "            drayage_arr.append(\"000010\")\n",
    "        if list_item[0] == \"no\" and list_item[1] == \"yes\":\n",
    "            drayage_arr.append(\"000100\")\n",
    "        if list_item[0] == \"no\" and list_item[1] == \"no\":\n",
    "            drayage_arr.append(\"001000\")\n",
    "        if list_item[0] == \"not specified\" and list_item[1] == \"yes\":\n",
    "            drayage_arr.append(\"010000\")\n",
    "        if list_item[0] == \"not specified\" and list_item[1] == \"no\":\n",
    "            drayage_arr.append(\"100000\")\n",
    "\n",
    "    df[\"drayage_interested_port_qualified\"] = np.array(drayage_arr)\n",
    "    display(df[\"drayage_interested_port_qualified\"])\n",
    "\n",
    "drayage_feature_cross(df)\n",
    "drayage_feature_cross(df_score)"
   ]
  },
  {
   "cell_type": "code",
   "execution_count": 156,
   "metadata": {},
   "outputs": [],
   "source": [
    "id_driver_number_col = np.array(df[\"id_driver\"]) # extract id_driver column\n",
    "id_driver_number_col_score = np.array(df_score[\"id_driver\"]) # extract id_driver column\n",
    "\n",
    "drop_cols = [\"id_driver\", \"interested_in_drayage\", \"port_qualified\", \n",
    "             \"ts_signup\", \"ts_first_approved\"] #\"home_base_city\",\"home_base_state\",\n",
    "for col in drop_cols:\n",
    "    try:\n",
    "        df_score = df_score.drop(columns=[col])\n",
    "    except:\n",
    "        continue\n",
    "\n",
    "for col in drop_cols:\n",
    "    try:\n",
    "        df = df.drop(columns=[col])\n",
    "    except:\n",
    "        continue"
   ]
  },
  {
   "cell_type": "code",
   "execution_count": 157,
   "metadata": {},
   "outputs": [
    {
     "name": "stdout",
     "output_type": "stream",
     "text": [
      "<class 'pandas.core.frame.DataFrame'>\n",
      "RangeIndex: 5291 entries, 0 to 5290\n",
      "Data columns (total 22 columns):\n",
      " #   Column                             Non-Null Count  Dtype         \n",
      "---  ------                             --------------  -----         \n",
      " 0   dim_carrier_type                   5291 non-null   string        \n",
      " 1   dim_carrier_company_name           5284 non-null   string        \n",
      " 2   carrier_trucks                     5291 non-null   string        \n",
      " 3   signup_source                      5291 non-null   string        \n",
      " 4   days_signup_to_approval            3962 non-null   Int64         \n",
      " 5   home_base_city                     5291 non-null   string        \n",
      " 6   home_base_state                    5291 non-null   string        \n",
      " 7   num_trucks                         5249 non-null   float64       \n",
      " 8   driver_with_twic                   5291 non-null   string        \n",
      " 9   first_load_date                    5291 non-null   datetime64[ns]\n",
      " 10  most_recent_load_date              5291 non-null   datetime64[ns]\n",
      " 11  marketplace_loads_otr              5291 non-null   Int64         \n",
      " 12  marketplace_loads_atlas            5291 non-null   Int64         \n",
      " 13  marketplace_loads                  5291 non-null   Int64         \n",
      " 14  brokerage_loads_otr                5291 non-null   Int64         \n",
      " 15  brokerage_loads_atlas              5291 non-null   Int64         \n",
      " 16  brokerage_loads                    5291 non-null   Int64         \n",
      " 17  total_loads                        5291 non-null   Int64         \n",
      " 18  num_trips_made                     5291 non-null   Int64         \n",
      " 19  days_since_last_load               5291 non-null   Int64         \n",
      " 20  label                              5291 non-null   Int64         \n",
      " 21  drayage_interested_port_qualified  5291 non-null   object        \n",
      "dtypes: Int64(11), datetime64[ns](2), float64(1), object(1), string(7)\n",
      "memory usage: 966.4+ KB\n"
     ]
    }
   ],
   "source": [
    "df.info()"
   ]
  },
  {
   "cell_type": "code",
   "execution_count": 158,
   "metadata": {},
   "outputs": [],
   "source": [
    "names = {}\n",
    "for index, row in df.iterrows():\n",
    "    names[row[\"dim_carrier_company_name\"]] = int(names.get(row[\"dim_carrier_company_name\"], 0) + 1)\n",
    "listo = list(names.items())\n",
    "listo.sort(reverse=True, key=lambda x: int(x[1]))\n",
    "#listo[:50]"
   ]
  },
  {
   "cell_type": "code",
   "execution_count": 159,
   "metadata": {},
   "outputs": [
    {
     "name": "stdout",
     "output_type": "stream",
     "text": [
      "# 50:  1290\n",
      "Percentage 50:  0.5176565008025682\n",
      "['NFS asset Drayage', 'MC Express Trucking LLC', 'Roadrunner Transportation', 'Dong Fang Marketing Inc', 'ROADMOND LOGISTICS INC.', 'Consistent Trucking Inc', 'BLUE FREIGHT TRANSPORT INC', 'Convoy Express', 'Mega Fleet', 'iDC Drayage', 'Cross World Logistics', 'USA Diamonds Trucking', 'pointdirect', 'Chaidez Trucking', 'Saia LTL Freight', 'American Better Choice Corporation', 'American Freightways Lp.', 'Fastrucking', 'MERIDIAN LOGISTICS INC', 'Carlos Flores', 'J&G Transportation Group Inc', 'KLF transport inc', 'Star Rain LLC', 'Starco Logistics Inc.', '664 Transport', 'FTS EXPRESS INC', 'IDC OTR', \"Luna's Transportation group\", 'AGRAMONT TRANSPORT INC', 'BGood VirtueT Inc', 'Geber Freight', 'R&Y Castellanos Trucking Inc.', 'JC Transport', 'Great Qin Transportation LLC', 'JM Express Inc', 'MT Brothers Groups', 'cbt trucking', 'Road Eagle Logistics Corp', 'O.A. EXPRESS INC', 'AMPAK Logistics INC.', 'Kuang Trucking Inc.', 'nolan transportation group', '360 new way inc', 'Innovative Transportation, LLC', 'freight advisor corp', 'one USA group', 'Blue Horizon', 'STS TRUCKING', 'AL JR TRUCKING', 'MG Trucking']\n"
     ]
    }
   ],
   "source": [
    "listo = listo[:50]\n",
    "count_50 = sum([x[1] for x in listo])\n",
    "print(\"# 50: \", count_50)\n",
    "print(\"Percentage 50: \", count_50/len(names))\n",
    "\n",
    "names_arr = [tuples[0] for tuples in listo]\n",
    "print(names_arr)"
   ]
  },
  {
   "cell_type": "code",
   "execution_count": 160,
   "metadata": {},
   "outputs": [],
   "source": [
    "def bucketize(df):\n",
    "    days_worked = []\n",
    "    for index, row in df.iterrows(): # bucketize the most frequent dim_carrier_company names, \n",
    "                                     # put less frequent names in a single bucket\n",
    "        try:\n",
    "            if row[\"dim_carrier_company_name\"] not in names_arr:\n",
    "                df.at[index, \"dim_carrier_company_name\"] = \"Other\"\n",
    "        except:\n",
    "            df.at[index, \"dim_carrier_company_name\"] = \"Other\"\n",
    "\n",
    "        # find number of days driver has worked\n",
    "        if row[\"most_recent_load_date\"] != np.nan and row[\"first_load_date\"] != np.nan:\n",
    "            days_worked.append((row[\"most_recent_load_date\"] - row[\"first_load_date\"]).days)\n",
    "        else:\n",
    "            days_worked.append(None)\n",
    "    df[\"days_tenured\"] = np.array(days_worked)\n",
    "\n",
    "bucketize(df)\n",
    "bucketize(df_score)"
   ]
  },
  {
   "cell_type": "code",
   "execution_count": 161,
   "metadata": {},
   "outputs": [],
   "source": [
    "# # Get total_loads for df_score in order to find labels\n",
    "# total_loads = []\n",
    "# for index, row in df_score.iterrows():\n",
    "#     total_loads.append(row[\"marketplace_loads\"] + row[\"brokerage_loads\"])\n",
    "# df_score[\"total_loads\"] = np.array(total_loads)"
   ]
  },
  {
   "cell_type": "code",
   "execution_count": 162,
   "metadata": {},
   "outputs": [],
   "source": [
    "# total_loads_score_75 = df_score.total_loads.quantile(0.75) # finds 75th percentile of loads\n",
    "# most_recent_load_date_score_75 = df_score.most_recent_load_date.quantile(0.75) # finds 75th percentile of most recent load date\n",
    "\n",
    "# print(total_loads_score_75)\n",
    "# print(most_recent_load_date_score_75)"
   ]
  },
  {
   "cell_type": "code",
   "execution_count": 163,
   "metadata": {},
   "outputs": [],
   "source": [
    "# score_labels = []\n",
    "# for index, row in df_score.iterrows(): # changes the labels in the label columns\n",
    "#     # checks if the load and most recent load date are in the 75th percentile\n",
    "#     if row[\"total_loads\"] >= total_loads_score_75 and row[\"most_recent_load_date\"] >= most_recent_load_date_score_75:\n",
    "#         score_labels.append(1)\n",
    "#     else:\n",
    "#         score_labels.append(0)\n",
    "# print(len(score_labels))\n",
    "# print(score_labels)"
   ]
  },
  {
   "cell_type": "code",
   "execution_count": 164,
   "metadata": {},
   "outputs": [],
   "source": [
    "drop_cols = [\"most_recent_load_date\", \"first_load_date\", \"weekday\", \"load_day\", \"total_loads\"]\n",
    "for col in drop_cols:\n",
    "    try:\n",
    "        df_score = df_score.drop(columns=[col])\n",
    "    except:\n",
    "        continue\n",
    "\n",
    "for col in drop_cols:\n",
    "    try:\n",
    "        df = df.drop(columns=[col])\n",
    "    except:\n",
    "        continue"
   ]
  },
  {
   "cell_type": "code",
   "execution_count": 165,
   "metadata": {},
   "outputs": [],
   "source": [
    "df_unlabeled = df.drop(columns=[\"label\"])\n",
    "labels = df[\"label\"].copy()"
   ]
  },
  {
   "cell_type": "code",
   "execution_count": 166,
   "metadata": {},
   "outputs": [
    {
     "name": "stdout",
     "output_type": "stream",
     "text": [
      "Unique Values :  [0 1]\n",
      "Occurrence Count :  [5236   55]\n"
     ]
    }
   ],
   "source": [
    "uniqueValues, occurCount = np.unique(labels, return_counts=True)\n",
    "print(\"Unique Values : \" , uniqueValues)\n",
    "print(\"Occurrence Count : \", occurCount)"
   ]
  },
  {
   "cell_type": "code",
   "execution_count": 167,
   "metadata": {},
   "outputs": [
    {
     "name": "stdout",
     "output_type": "stream",
     "text": [
      "<class 'pandas.core.frame.DataFrame'>\n",
      "RangeIndex: 5291 entries, 0 to 5290\n",
      "Data columns (total 19 columns):\n",
      " #   Column                             Non-Null Count  Dtype  \n",
      "---  ------                             --------------  -----  \n",
      " 0   dim_carrier_type                   5291 non-null   string \n",
      " 1   dim_carrier_company_name           5291 non-null   string \n",
      " 2   carrier_trucks                     5291 non-null   string \n",
      " 3   signup_source                      5291 non-null   string \n",
      " 4   days_signup_to_approval            3962 non-null   Int64  \n",
      " 5   home_base_city                     5291 non-null   string \n",
      " 6   home_base_state                    5291 non-null   string \n",
      " 7   num_trucks                         5249 non-null   float64\n",
      " 8   driver_with_twic                   5291 non-null   string \n",
      " 9   marketplace_loads_otr              5291 non-null   Int64  \n",
      " 10  marketplace_loads_atlas            5291 non-null   Int64  \n",
      " 11  marketplace_loads                  5291 non-null   Int64  \n",
      " 12  brokerage_loads_otr                5291 non-null   Int64  \n",
      " 13  brokerage_loads_atlas              5291 non-null   Int64  \n",
      " 14  brokerage_loads                    5291 non-null   Int64  \n",
      " 15  num_trips_made                     5291 non-null   Int64  \n",
      " 16  days_since_last_load               5291 non-null   Int64  \n",
      " 17  drayage_interested_port_qualified  5291 non-null   object \n",
      " 18  days_tenured                       5291 non-null   int64  \n",
      "dtypes: Int64(9), float64(1), int64(1), object(1), string(7)\n",
      "memory usage: 832.0+ KB\n"
     ]
    }
   ],
   "source": [
    "df_unlabeled.info()"
   ]
  },
  {
   "cell_type": "code",
   "execution_count": 168,
   "metadata": {},
   "outputs": [
    {
     "name": "stdout",
     "output_type": "stream",
     "text": [
      "<class 'pandas.core.frame.DataFrame'>\n",
      "RangeIndex: 668 entries, 0 to 667\n",
      "Data columns (total 19 columns):\n",
      " #   Column                             Non-Null Count  Dtype  \n",
      "---  ------                             --------------  -----  \n",
      " 0   dim_carrier_type                   668 non-null    string \n",
      " 1   dim_carrier_company_name           668 non-null    string \n",
      " 2   carrier_trucks                     668 non-null    string \n",
      " 3   signup_source                      668 non-null    string \n",
      " 4   days_signup_to_approval            572 non-null    Int64  \n",
      " 5   home_base_city                     668 non-null    string \n",
      " 6   home_base_state                    668 non-null    string \n",
      " 7   num_trucks                         668 non-null    float64\n",
      " 8   driver_with_twic                   668 non-null    string \n",
      " 9   marketplace_loads_otr              668 non-null    Int64  \n",
      " 10  marketplace_loads_atlas            668 non-null    Int64  \n",
      " 11  marketplace_loads                  668 non-null    Int64  \n",
      " 12  brokerage_loads_otr                668 non-null    Int64  \n",
      " 13  brokerage_loads_atlas              668 non-null    Int64  \n",
      " 14  brokerage_loads                    668 non-null    Int64  \n",
      " 15  num_trips_made                     668 non-null    Int64  \n",
      " 16  days_since_last_load               668 non-null    Int64  \n",
      " 17  drayage_interested_port_qualified  668 non-null    object \n",
      " 18  days_tenured                       668 non-null    int64  \n",
      "dtypes: Int64(9), float64(1), int64(1), object(1), string(7)\n",
      "memory usage: 105.2+ KB\n"
     ]
    }
   ],
   "source": [
    "df_score.info()"
   ]
  },
  {
   "cell_type": "code",
   "execution_count": 169,
   "metadata": {},
   "outputs": [
    {
     "name": "stdout",
     "output_type": "stream",
     "text": [
      "['dim_carrier_type', 'dim_carrier_company_name', 'carrier_trucks', 'signup_source', 'days_signup_to_approval', 'home_base_city', 'home_base_state', 'num_trucks', 'driver_with_twic', 'marketplace_loads_otr', 'marketplace_loads_atlas', 'marketplace_loads', 'brokerage_loads_otr', 'brokerage_loads_atlas', 'brokerage_loads', 'num_trips_made', 'days_since_last_load', 'drayage_interested_port_qualified', 'days_tenured']\n"
     ]
    }
   ],
   "source": [
    "cols = list(df_unlabeled.columns.values)\n",
    "print(cols)"
   ]
  },
  {
   "cell_type": "code",
   "execution_count": 170,
   "metadata": {},
   "outputs": [],
   "source": [
    "df_score = df_score[cols]\n",
    "\n",
    "df_score['num_trucks'] = pd.to_numeric(df_score['num_trucks'], errors='coerce')\n",
    "df_score['days_signup_to_approval'] = pd.to_numeric(df_score['days_signup_to_approval'], errors='coerce')\n",
    "\n",
    "df_unlabeled['num_trucks'] = pd.to_numeric(df_unlabeled['num_trucks'], errors='coerce')\n",
    "df_unlabeled['days_signup_to_approval'] = pd.to_numeric(df_unlabeled['days_signup_to_approval'], errors='coerce')\n",
    "\n",
    "# df_unlabeled['home_base_city'].astype(str) #= to_string(df_unlabeled['home_base_city'], errors='coerce')\n",
    "# df_unlabeled['home_base_state'].astype(str) #= pd.to_string(df_unlabeled['home_base_state'], errors='coerce')\n",
    "\n",
    "convert = [\"id_driver\", \"days_signup_to_approval\", \"marketplace_loads_otr\", \n",
    "               \"marketplace_loads_atlas\", \"marketplace_loads\", \"brokerage_loads_otr\",\n",
    "               \"brokerage_loads_atlas\", \"brokerage_loads\", \"num_trips_made\",\n",
    "               \"num_trucks\", \"dim_carrier_type\", \"dim_carrier_company_name\",\n",
    "               \"interested_in_drayage\", \"port_qualified\", \"signup_source\", \"driver_with_twic\",\n",
    "          \"home_base_city\",\"home_base_state\"] #\"home_base_city\",\"home_base_state\"\n",
    "for col in convert:\n",
    "    try:\n",
    "        df_score[col] = df_score[col].convert_dtypes()\n",
    "    except:\n",
    "        continue\n",
    "\n",
    "for col in convert:\n",
    "    try:\n",
    "        df_unlabeled[col] = df_unlabeled[col].convert_dtypes()\n",
    "    except:\n",
    "        continue"
   ]
  },
  {
   "cell_type": "code",
   "execution_count": 171,
   "metadata": {},
   "outputs": [
    {
     "name": "stdout",
     "output_type": "stream",
     "text": [
      "<class 'pandas.core.frame.DataFrame'>\n",
      "RangeIndex: 5959 entries, 0 to 5958\n",
      "Data columns (total 19 columns):\n",
      " #   Column                             Non-Null Count  Dtype  \n",
      "---  ------                             --------------  -----  \n",
      " 0   dim_carrier_type                   5959 non-null   string \n",
      " 1   dim_carrier_company_name           5959 non-null   string \n",
      " 2   carrier_trucks                     5959 non-null   string \n",
      " 3   signup_source                      5959 non-null   string \n",
      " 4   days_signup_to_approval            4534 non-null   Int64  \n",
      " 5   home_base_city                     5959 non-null   string \n",
      " 6   home_base_state                    5959 non-null   string \n",
      " 7   num_trucks                         5917 non-null   float64\n",
      " 8   driver_with_twic                   5959 non-null   string \n",
      " 9   marketplace_loads_otr              5959 non-null   Int64  \n",
      " 10  marketplace_loads_atlas            5959 non-null   Int64  \n",
      " 11  marketplace_loads                  5959 non-null   Int64  \n",
      " 12  brokerage_loads_otr                5959 non-null   Int64  \n",
      " 13  brokerage_loads_atlas              5959 non-null   Int64  \n",
      " 14  brokerage_loads                    5959 non-null   Int64  \n",
      " 15  num_trips_made                     5959 non-null   Int64  \n",
      " 16  days_since_last_load               5959 non-null   Int64  \n",
      " 17  drayage_interested_port_qualified  5959 non-null   object \n",
      " 18  days_tenured                       5959 non-null   int64  \n",
      "dtypes: Int64(9), float64(1), int64(1), object(1), string(7)\n",
      "memory usage: 937.0+ KB\n"
     ]
    }
   ],
   "source": [
    "df_concat = pd.concat([df_unlabeled, df_score], ignore_index=True)\n",
    "df_concat.info()"
   ]
  },
  {
   "cell_type": "code",
   "execution_count": 172,
   "metadata": {},
   "outputs": [],
   "source": [
    "for col in convert:\n",
    "    try:\n",
    "        df_concat[col] = df_concat[col].convert_dtypes()\n",
    "    except:\n",
    "        continue"
   ]
  },
  {
   "cell_type": "code",
   "execution_count": 173,
   "metadata": {},
   "outputs": [
    {
     "name": "stdout",
     "output_type": "stream",
     "text": [
      "<class 'pandas.core.frame.DataFrame'>\n",
      "RangeIndex: 5959 entries, 0 to 5958\n",
      "Data columns (total 19 columns):\n",
      " #   Column                             Non-Null Count  Dtype  \n",
      "---  ------                             --------------  -----  \n",
      " 0   dim_carrier_type                   5959 non-null   string \n",
      " 1   dim_carrier_company_name           5959 non-null   string \n",
      " 2   carrier_trucks                     5959 non-null   string \n",
      " 3   signup_source                      5959 non-null   string \n",
      " 4   days_signup_to_approval            4534 non-null   Int64  \n",
      " 5   home_base_city                     5959 non-null   string \n",
      " 6   home_base_state                    5959 non-null   string \n",
      " 7   num_trucks                         5917 non-null   float64\n",
      " 8   driver_with_twic                   5959 non-null   string \n",
      " 9   marketplace_loads_otr              5959 non-null   Int64  \n",
      " 10  marketplace_loads_atlas            5959 non-null   Int64  \n",
      " 11  marketplace_loads                  5959 non-null   Int64  \n",
      " 12  brokerage_loads_otr                5959 non-null   Int64  \n",
      " 13  brokerage_loads_atlas              5959 non-null   Int64  \n",
      " 14  brokerage_loads                    5959 non-null   Int64  \n",
      " 15  num_trips_made                     5959 non-null   Int64  \n",
      " 16  days_since_last_load               5959 non-null   Int64  \n",
      " 17  drayage_interested_port_qualified  5959 non-null   object \n",
      " 18  days_tenured                       5959 non-null   int64  \n",
      "dtypes: Int64(9), float64(1), int64(1), object(1), string(7)\n",
      "memory usage: 937.0+ KB\n"
     ]
    }
   ],
   "source": [
    "df_concat.info()"
   ]
  },
  {
   "cell_type": "code",
   "execution_count": 174,
   "metadata": {},
   "outputs": [],
   "source": [
    "imputer = IterativeImputer()\n",
    "# df = imputer.fit_transform(df)\n",
    "categorical_features_one_hot = [\"dim_carrier_type\", \"dim_carrier_company_name\", \"carrier_trucks\", \n",
    "                                \"signup_source\", \"driver_with_twic\", \"home_base_city\",\"home_base_state\"] #\"home_base_city\",\"home_base_state\"\n",
    "\n",
    "df_num = df_concat.drop(columns=categorical_features_one_hot)\n",
    "# df_num = df_concat\n",
    "numerical_features = list(df_num)\n",
    "\n",
    "num_pipeline = Pipeline([\n",
    "        ('imputer', imputer),\n",
    "        ('std_scaler', StandardScaler()),\n",
    "    ])\n",
    "\n",
    "full_pipeline = ColumnTransformer([\n",
    "        (\"num\", num_pipeline, numerical_features),\n",
    "        (\"cat\", OneHotEncoder(sparse=False), categorical_features_one_hot), #sparse=False\n",
    "    ])\n",
    "df_prepared = full_pipeline.fit_transform(df_concat)"
   ]
  },
  {
   "cell_type": "code",
   "execution_count": 175,
   "metadata": {},
   "outputs": [
    {
     "data": {
      "text/plain": [
       "array([[ 1.89676035, -0.39804762, -0.23261086, ...,  0.        ,\n",
       "         0.        ,  0.        ],\n",
       "       [ 1.90882444, -0.39804762, -0.23261086, ...,  0.        ,\n",
       "         0.        ,  0.        ],\n",
       "       [ 1.92261463, -0.39804762, -0.23261086, ...,  0.        ,\n",
       "         0.        ,  0.        ],\n",
       "       ...,\n",
       "       [-1.01120964, -0.39804762, -0.23261086, ...,  0.        ,\n",
       "         0.        ,  0.        ],\n",
       "       [-1.01120964, -0.37456332, -0.15643114, ...,  0.        ,\n",
       "         0.        ,  0.        ],\n",
       "       [-1.01120964, -0.39804762, -0.23261086, ...,  0.        ,\n",
       "         0.        ,  0.        ]])"
      ]
     },
     "metadata": {},
     "output_type": "display_data"
    }
   ],
   "source": [
    "display(df_prepared)"
   ]
  },
  {
   "cell_type": "code",
   "execution_count": 176,
   "metadata": {},
   "outputs": [],
   "source": [
    "# X_train_temp = df_prepared[:5291]\n",
    "# y_train_temp = labels\n",
    "# X_test = df_prepared[5291:]\n",
    "# y_test = score_labels\n",
    "\n",
    "# y_train_temp = y_train_temp.astype('int')"
   ]
  },
  {
   "cell_type": "code",
   "execution_count": 208,
   "metadata": {},
   "outputs": [],
   "source": [
    "X = df_prepared[:5291]\n",
    "y = labels\n",
    "X_test_score = df_prepared[5291:]\n",
    "y_test_score = score_labels\n",
    "\n",
    "y = y.astype('int')\n",
    "X_train_temp, X_test, y_train_temp, y_test = train_test_split(X, y, test_size=0.2, random_state=42)"
   ]
  },
  {
   "cell_type": "code",
   "execution_count": 209,
   "metadata": {},
   "outputs": [],
   "source": [
    "X_train, y_train = SMOTE().fit_resample(X_train_temp, y_train_temp)"
   ]
  },
  {
   "cell_type": "code",
   "execution_count": 210,
   "metadata": {},
   "outputs": [
    {
     "name": "stdout",
     "output_type": "stream",
     "text": [
      "(8374, 647) (1059, 647)\n",
      "(8374,) (1059,)\n"
     ]
    }
   ],
   "source": [
    "print(X_train.shape, X_test.shape)\n",
    "print(y_train.shape, y_test.shape)"
   ]
  },
  {
   "cell_type": "markdown",
   "metadata": {},
   "source": [
    "# 5. Linear Regression"
   ]
  },
  {
   "cell_type": "code",
   "execution_count": 211,
   "metadata": {},
   "outputs": [],
   "source": [
    "from sklearn.linear_model import LinearRegression\n",
    "\n",
    "lin_reg = LinearRegression()\n",
    "lin_reg.fit(X_train, y_train)\n",
    "lr_predicted = lin_reg.predict(X_test)"
   ]
  },
  {
   "cell_type": "code",
   "execution_count": 212,
   "metadata": {},
   "outputs": [
    {
     "data": {
      "text/plain": [
       "294667777.6756903"
      ]
     },
     "execution_count": 212,
     "metadata": {},
     "output_type": "execute_result"
    }
   ],
   "source": [
    "from sklearn.metrics import mean_squared_error\n",
    "\n",
    "mse = mean_squared_error(y_test, lr_predicted)\n",
    "rmse = np.sqrt(mse)\n",
    "rmse"
   ]
  },
  {
   "cell_type": "code",
   "execution_count": 213,
   "metadata": {},
   "outputs": [
    {
     "data": {
      "text/plain": [
       "-9.282858436633491e+18"
      ]
     },
     "execution_count": 213,
     "metadata": {},
     "output_type": "execute_result"
    }
   ],
   "source": [
    "from sklearn.metrics import r2_score\n",
    "\n",
    "r2_score(y_test, lr_predicted)"
   ]
  },
  {
   "cell_type": "code",
   "execution_count": 214,
   "metadata": {},
   "outputs": [
    {
     "name": "stdout",
     "output_type": "stream",
     "text": [
      "                            OLS Regression Results                            \n",
      "==============================================================================\n",
      "Dep. Variable:                  label   R-squared:                       0.911\n",
      "Model:                            OLS   Adj. R-squared:                  0.905\n",
      "Method:                 Least Squares   F-statistic:                     147.9\n",
      "Date:                Thu, 18 Mar 2021   Prob (F-statistic):               0.00\n",
      "Time:                        02:50:28   Log-Likelihood:                 4037.3\n",
      "No. Observations:                8374   AIC:                            -6993.\n",
      "Df Residuals:                    7833   BIC:                            -3188.\n",
      "Df Model:                         540                                         \n",
      "Covariance Type:            nonrobust                                         \n",
      "==============================================================================\n",
      "                 coef    std err          t      P>|t|      [0.025      0.975]\n",
      "------------------------------------------------------------------------------\n",
      "const          0.0403      0.009      4.500      0.000       0.023       0.058\n",
      "x1             0.0449      0.005      9.065      0.000       0.035       0.055\n",
      "x2            -0.6762      0.043    -15.866      0.000      -0.760      -0.593\n",
      "x3             0.0047      0.002      2.279      0.023       0.001       0.009\n",
      "x4             0.0052      0.001      7.838      0.000       0.004       0.007\n",
      "x5             0.0063      0.001      8.659      0.000       0.005       0.008\n",
      "x6            -0.0061      0.001     -9.209      0.000      -0.007      -0.005\n",
      "x7             0.0324      0.001     30.061      0.000       0.030       0.035\n",
      "x8            -0.0002      0.001     -0.360      0.719      -0.002       0.001\n",
      "x9             0.1049      0.002     48.883      0.000       0.101       0.109\n",
      "x10            0.0959      0.006     17.261      0.000       0.085       0.107\n",
      "x11           -0.0352      0.003    -10.078      0.000      -0.042      -0.028\n",
      "x12           -0.0900      0.004    -24.191      0.000      -0.097      -0.083\n",
      "x13         1.013e-15   2.15e-15      0.472      0.637   -3.19e-15    5.22e-15\n",
      "x14            0.0620      0.006     10.610      0.000       0.051       0.073\n",
      "x15           -0.0217      0.006     -3.774      0.000      -0.033      -0.010\n",
      "x16            0.2243      0.075      2.979      0.003       0.077       0.372\n",
      "x17           -0.4559      0.044    -10.443      0.000      -0.542      -0.370\n",
      "x18           -0.3861      0.043     -8.962      0.000      -0.471      -0.302\n",
      "x19           -0.0778      0.057     -1.378      0.168      -0.189       0.033\n",
      "x20            0.0248      0.054      0.456      0.648      -0.082       0.131\n",
      "x21            0.1390      0.068      2.042      0.041       0.006       0.272\n",
      "x22           -0.2523      0.040     -6.316      0.000      -0.331      -0.174\n",
      "x23           -0.1990      0.051     -3.937      0.000      -0.298      -0.100\n",
      "x24           -0.0247      0.037     -0.665      0.506      -0.097       0.048\n",
      "x25           -0.1348      0.047     -2.840      0.005      -0.228      -0.042\n",
      "x26           -0.2475      0.041     -6.096      0.000      -0.327      -0.168\n",
      "x27           -0.5571      0.036    -15.483      0.000      -0.628      -0.487\n",
      "x28            0.0880      0.043      2.056      0.040       0.004       0.172\n",
      "x29           -0.0912      0.018     -5.161      0.000      -0.126      -0.057\n",
      "x30           -0.0067      0.045     -0.149      0.882      -0.094       0.081\n",
      "x31            0.1228      0.049      2.531      0.011       0.028       0.218\n",
      "x32           -0.1569      0.042     -3.742      0.000      -0.239      -0.075\n",
      "x33           -0.0784      0.043     -1.839      0.066      -0.162       0.005\n",
      "x34            0.0638      0.047      1.354      0.176      -0.029       0.156\n",
      "x35           -0.2030      0.060     -3.360      0.001      -0.321      -0.085\n",
      "x36           -0.0618      0.030     -2.034      0.042      -0.121      -0.002\n",
      "x37            0.0977      0.075      1.301      0.193      -0.049       0.245\n",
      "x38           -0.0044      0.042     -0.106      0.916      -0.087       0.078\n",
      "x39            0.1628      0.047      3.456      0.001       0.070       0.255\n",
      "x40           -0.2588      0.058     -4.430      0.000      -0.373      -0.144\n",
      "x41           -0.1303      0.064     -2.041      0.041      -0.255      -0.005\n",
      "x42           -0.0500      0.057     -0.880      0.379      -0.161       0.061\n",
      "x43           -0.0648      0.055     -1.188      0.235      -0.172       0.042\n",
      "x44           -0.3677      0.109     -3.360      0.001      -0.582      -0.153\n",
      "x45           -0.0594      0.022     -2.732      0.006      -0.102      -0.017\n",
      "x46           -0.0469      0.028     -1.677      0.094      -0.102       0.008\n",
      "x47           -0.0678      0.055     -1.233      0.218      -0.176       0.040\n",
      "x48            0.3910      0.062      6.275      0.000       0.269       0.513\n",
      "x49            2.5905      0.171     15.143      0.000       2.255       2.926\n",
      "x50           -0.1040      0.024     -4.274      0.000      -0.152      -0.056\n",
      "x51           -0.2115      0.018    -11.599      0.000      -0.247      -0.176\n",
      "x52           -0.0951      0.064     -1.485      0.138      -0.221       0.030\n",
      "x53            0.2383      0.038      6.293      0.000       0.164       0.313\n",
      "x54           -0.4210      0.045     -9.442      0.000      -0.508      -0.334\n",
      "x55            1.1278      0.072     15.756      0.000       0.987       1.268\n",
      "x56           -0.2988      0.052     -5.785      0.000      -0.400      -0.198\n",
      "x57            0.1057      0.038      2.762      0.006       0.031       0.181\n",
      "x58            0.1433      0.054      2.658      0.008       0.038       0.249\n",
      "x59           -0.1821      0.049     -3.680      0.000      -0.279      -0.085\n",
      "x60           -0.0777      0.042     -1.860      0.063      -0.160       0.004\n",
      "x61           -0.0218      0.055     -0.396      0.692      -0.130       0.086\n",
      "x62            0.1371      0.055      2.470      0.014       0.028       0.246\n",
      "x63            0.1010      0.035      2.865      0.004       0.032       0.170\n",
      "x64           -0.1339      0.035     -3.789      0.000      -0.203      -0.065\n",
      "x65           -0.0057      0.028     -0.204      0.838      -0.061       0.049\n",
      "x66           -0.1825      0.046     -3.973      0.000      -0.273      -0.092\n",
      "x67           -0.0442      0.022     -1.993      0.046      -0.088      -0.001\n",
      "x68            0.0988      0.105      0.943      0.346      -0.107       0.304\n",
      "x69            0.3183      0.024     13.215      0.000       0.271       0.365\n",
      "x70           -0.0468      0.075     -0.625      0.532      -0.193       0.100\n",
      "x71           -0.1618      0.146     -1.110      0.267      -0.447       0.124\n",
      "x72           -0.0556      0.018     -3.044      0.002      -0.091      -0.020\n",
      "x73            0.1149      0.044      2.631      0.009       0.029       0.200\n",
      "x74           -0.0098      0.016     -0.609      0.543      -0.042       0.022\n",
      "x75            0.0489      0.045      1.093      0.274      -0.039       0.137\n",
      "x76           -0.2175      0.047     -4.581      0.000      -0.311      -0.124\n",
      "x77           -0.0767      0.026     -2.903      0.004      -0.129      -0.025\n",
      "x78            0.0941      0.017      5.614      0.000       0.061       0.127\n",
      "x79           -0.0054      0.055     -0.099      0.921      -0.113       0.103\n",
      "x80           -0.1003      0.043     -2.317      0.021      -0.185      -0.015\n",
      "x81           -0.0090      0.030     -0.304      0.761      -0.067       0.049\n",
      "x82            0.0925      0.034      2.682      0.007       0.025       0.160\n",
      "x83            0.0453      0.006      7.178      0.000       0.033       0.058\n",
      "x84           -0.0050      0.006     -0.871      0.384      -0.016       0.006\n",
      "x85           -0.0407      0.006     -6.734      0.000      -0.052      -0.029\n",
      "x86            0.0810      0.007     11.203      0.000       0.067       0.095\n",
      "x87            0.1028      0.154      0.666      0.505      -0.200       0.405\n",
      "x88           -0.1011      0.153     -0.659      0.510      -0.402       0.200\n",
      "x89            0.0323      0.047      0.681      0.496      -0.061       0.125\n",
      "x90            0.0258      0.069      0.376      0.707      -0.109       0.161\n",
      "x91           -0.0442      0.129     -0.344      0.731      -0.296       0.208\n",
      "x92            0.3395      0.028     11.915      0.000       0.284       0.395\n",
      "x93            0.0670      0.107      0.628      0.530      -0.142       0.276\n",
      "x94            0.0949      0.154      0.615      0.539      -0.208       0.397\n",
      "x95           -0.1515      0.033     -4.614      0.000      -0.216      -0.087\n",
      "x96           -0.0234      0.109     -0.215      0.830      -0.237       0.190\n",
      "x97           -0.0801      0.149     -0.537      0.591      -0.373       0.212\n",
      "x98           -0.0802      0.070     -1.148      0.251      -0.217       0.057\n",
      "x99            0.0063      0.059      0.107      0.914      -0.109       0.122\n",
      "x100           0.1056      0.154      0.684      0.494      -0.197       0.408\n",
      "x101          -0.0848      0.108     -0.784      0.433      -0.297       0.127\n",
      "x102          -0.0518      0.072     -0.715      0.475      -0.194       0.090\n",
      "x103       -1.626e-15   2.38e-15     -0.682      0.495    -6.3e-15    3.05e-15\n",
      "x104           0.0385      0.137      0.281      0.778      -0.230       0.307\n",
      "x105           0.0903      0.147      0.616      0.538      -0.197       0.378\n",
      "x106          -0.0788      0.144     -0.549      0.583      -0.361       0.203\n",
      "x107          -0.0681      0.044     -1.540      0.124      -0.155       0.019\n",
      "x108           0.0187      0.029      0.646      0.518      -0.038       0.075\n",
      "x109          -0.0993      0.040     -2.491      0.013      -0.177      -0.021\n",
      "x110       -1.348e-15   1.77e-15     -0.762      0.446   -4.82e-15    2.12e-15\n",
      "x111           0.0608      0.076      0.796      0.426      -0.089       0.211\n",
      "x112          -0.0765      0.153     -0.499      0.618      -0.377       0.224\n",
      "x113           0.0947      0.108      0.874      0.382      -0.118       0.307\n",
      "x114          -0.0468      0.075     -0.625      0.532      -0.193       0.100\n",
      "x115           0.0269      0.154      0.175      0.861      -0.276       0.329\n",
      "x116          -0.0744      0.037     -2.000      0.046      -0.147      -0.001\n",
      "x117          -0.0669      0.048     -1.407      0.159      -0.160       0.026\n",
      "x118          -0.0855      0.041     -2.078      0.038      -0.166      -0.005\n",
      "x119          -0.0159      0.148     -0.108      0.914      -0.306       0.274\n",
      "x120          -0.0764      0.074     -1.037      0.300      -0.221       0.068\n",
      "x121           0.0373      0.143      0.261      0.794      -0.243       0.318\n",
      "x122        8.159e-16    2.3e-15      0.355      0.722   -3.69e-15    5.32e-15\n",
      "x123          -0.0362      0.076     -0.475      0.635      -0.186       0.113\n",
      "x124       -2.356e-16   2.59e-15     -0.091      0.927   -5.31e-15    4.84e-15\n",
      "x125          -0.0321      0.111     -0.290      0.772      -0.249       0.185\n",
      "x126          -0.0246      0.037     -0.666      0.506      -0.097       0.048\n",
      "x127           0.1445      0.149      0.967      0.333      -0.148       0.437\n",
      "x128           0.0564      0.154      0.368      0.713      -0.245       0.357\n",
      "x129          -0.1226      0.148     -0.829      0.407      -0.413       0.168\n",
      "x130          -0.0673      0.099     -0.679      0.497      -0.261       0.127\n",
      "x131           0.0315      0.143      0.220      0.826      -0.249       0.312\n",
      "x132          -0.0619      0.125     -0.494      0.621      -0.307       0.183\n",
      "x133           0.0242      0.155      0.156      0.876      -0.280       0.328\n",
      "x134           0.1128      0.152      0.743      0.457      -0.185       0.410\n",
      "x135          -0.0488      0.076     -0.639      0.523      -0.198       0.101\n",
      "x136          -0.0453      0.143     -0.318      0.751      -0.325       0.234\n",
      "x137           0.0115      0.144      0.080      0.936      -0.272       0.295\n",
      "x138          -0.0208      0.150     -0.138      0.890      -0.315       0.274\n",
      "x139           0.0815      0.200      0.407      0.684      -0.311       0.473\n",
      "x140          -0.0867      0.059     -1.469      0.142      -0.202       0.029\n",
      "x141          -0.0269      0.115     -0.234      0.815      -0.252       0.199\n",
      "x142          -0.0055      0.125     -0.044      0.965      -0.251       0.240\n",
      "x143           0.0343      0.055      0.620      0.535      -0.074       0.143\n",
      "x144          -0.0279      0.090     -0.312      0.755      -0.204       0.148\n",
      "x145          -0.3415      0.110     -3.118      0.002      -0.556      -0.127\n",
      "x146           0.0152      0.090      0.170      0.865      -0.160       0.191\n",
      "x147          -0.0619      0.111     -0.560      0.575      -0.279       0.155\n",
      "x148          -0.0890      0.153     -0.580      0.562      -0.390       0.212\n",
      "x149           0.0749      0.019      3.957      0.000       0.038       0.112\n",
      "x150       -2.232e-16   2.15e-15     -0.104      0.917   -4.44e-15    3.99e-15\n",
      "x151           0.0174      0.154      0.113      0.910      -0.285       0.320\n",
      "x152          -0.0150      0.107     -0.141      0.888      -0.225       0.195\n",
      "x153          -0.1230      0.053     -2.328      0.020      -0.227      -0.019\n",
      "x154          -0.0526      0.099     -0.533      0.594      -0.246       0.141\n",
      "x155           0.0785      0.139      0.566      0.572      -0.194       0.351\n",
      "x156           0.3403      0.079      4.303      0.000       0.185       0.495\n",
      "x157          -0.0095      0.044     -0.213      0.831      -0.097       0.078\n",
      "x158          -0.1856      0.155     -1.196      0.232      -0.490       0.119\n",
      "x159          -0.0438      0.035     -1.247      0.212      -0.113       0.025\n",
      "x160          -0.1312      0.050     -2.632      0.009      -0.229      -0.033\n",
      "x161         3.15e-16   1.52e-15      0.207      0.836   -2.66e-15    3.29e-15\n",
      "x162          -0.1032      0.177     -0.584      0.559      -0.450       0.243\n",
      "x163           0.0044      0.052      0.084      0.933      -0.098       0.107\n",
      "x164           0.0067      0.068      0.099      0.921      -0.127       0.141\n",
      "x165           0.1478      0.154      0.957      0.338      -0.155       0.450\n",
      "x166           0.0111      0.028      0.403      0.687      -0.043       0.065\n",
      "x167          -0.0618      0.030     -2.034      0.042      -0.121      -0.002\n",
      "x168          -0.0443      0.141     -0.315      0.753      -0.320       0.231\n",
      "x169          -0.0710      0.149     -0.476      0.634      -0.363       0.221\n",
      "x170           0.0910      0.143      0.634      0.526      -0.190       0.372\n",
      "x171         2.67e-16   2.39e-15      0.112      0.911   -4.41e-15    4.94e-15\n",
      "x172          -0.0786      0.157     -0.502      0.616      -0.386       0.228\n",
      "x173       -2.784e-17   1.93e-15     -0.014      0.989   -3.81e-15    3.76e-15\n",
      "x174          -0.1523      0.143     -1.063      0.288      -0.433       0.129\n",
      "x175          -0.1412      0.055     -2.549      0.011      -0.250      -0.033\n",
      "x176          -0.0909      0.143     -0.633      0.526      -0.372       0.190\n",
      "x177          -0.0820      0.050     -1.648      0.099      -0.179       0.016\n",
      "x178           0.0629      0.199      0.316      0.752      -0.327       0.453\n",
      "x179          -0.2401      0.021    -11.376      0.000      -0.282      -0.199\n",
      "x180          -0.0135      0.190     -0.071      0.944      -0.386       0.359\n",
      "x181        2.948e-17   2.23e-15      0.013      0.989   -4.34e-15     4.4e-15\n",
      "x182           0.0757      0.141      0.538      0.590      -0.200       0.351\n",
      "x183           0.0029      0.032      0.090      0.929      -0.060       0.065\n",
      "x184       -1.573e-16   2.32e-15     -0.068      0.946    -4.7e-15    4.38e-15\n",
      "x185          -0.0487      0.064     -0.764      0.445      -0.174       0.076\n",
      "x186          -0.0024      0.154     -0.015      0.988      -0.305       0.300\n",
      "x187          -0.2143      0.110     -1.957      0.050      -0.429       0.000\n",
      "x188          -0.1091      0.154     -0.707      0.480      -0.412       0.193\n",
      "x189          -0.1356      0.089     -1.516      0.129      -0.311       0.040\n",
      "x190           0.1461      0.090      1.624      0.104      -0.030       0.322\n",
      "x191       -6.756e-17   1.87e-15     -0.036      0.971   -3.73e-15     3.6e-15\n",
      "x192          -0.0298      0.149     -0.200      0.842      -0.321       0.262\n",
      "x193           0.0206      0.150      0.137      0.891      -0.274       0.315\n",
      "x194          -0.0632      0.107     -0.593      0.553      -0.272       0.146\n",
      "x195        4.983e-16   1.77e-15      0.281      0.779   -2.98e-15    3.97e-15\n",
      "x196          -0.0912      0.154     -0.591      0.555      -0.394       0.211\n",
      "x197           0.0270      0.144      0.187      0.852      -0.256       0.310\n",
      "x198           0.1084      0.199      0.545      0.586      -0.282       0.498\n",
      "x199           0.1251      0.154      0.811      0.418      -0.177       0.428\n",
      "x200           0.0316      0.059      0.535      0.593      -0.084       0.147\n",
      "x201           0.1108      0.056      1.977      0.048       0.001       0.221\n",
      "x202          -0.0215      0.149     -0.144      0.885      -0.314       0.271\n",
      "x203          -0.0494      0.147     -0.337      0.736      -0.337       0.238\n",
      "x204           0.2552      0.017     15.259      0.000       0.222       0.288\n",
      "x205          -0.0469      0.028     -1.677      0.094      -0.102       0.008\n",
      "x206          -0.1603      0.154     -1.044      0.297      -0.461       0.141\n",
      "x207           0.1050      0.154      0.681      0.496      -0.197       0.408\n",
      "x208          -0.0297      0.152     -0.196      0.845      -0.327       0.268\n",
      "x209          -0.1883      0.143     -1.313      0.189      -0.469       0.093\n",
      "x210          -0.1023      0.109     -0.935      0.350      -0.317       0.112\n",
      "x211           0.0395      0.144      0.274      0.784      -0.244       0.323\n",
      "x212         2.03e-16   2.02e-15      0.100      0.920   -3.76e-15    4.16e-15\n",
      "x213          -0.0265      0.064     -0.415      0.678      -0.152       0.099\n",
      "x214          -0.0431      0.030     -1.419      0.156      -0.103       0.016\n",
      "x215           0.0672      0.060      1.124      0.261      -0.050       0.184\n",
      "x216           0.0686      0.109      0.628      0.530      -0.146       0.283\n",
      "x217          -0.0493      0.154     -0.319      0.749      -0.352       0.253\n",
      "x218           0.0163      0.143      0.113      0.910      -0.265       0.297\n",
      "x219          -0.0040      0.094     -0.043      0.966      -0.188       0.180\n",
      "x220           0.0052      0.070      0.074      0.941      -0.132       0.142\n",
      "x221          -0.0871      0.068     -1.274      0.203      -0.221       0.047\n",
      "x222          -0.0714      0.111     -0.646      0.518      -0.288       0.145\n",
      "x223           0.0182      0.111      0.165      0.869      -0.199       0.235\n",
      "x224          -0.0068      0.109     -0.062      0.950      -0.221       0.207\n",
      "x225        1.112e-16   1.68e-15      0.066      0.947   -3.17e-15     3.4e-15\n",
      "x226           0.0153      0.148      0.103      0.918      -0.274       0.305\n",
      "x227       -2.562e-17   2.05e-15     -0.012      0.990   -4.05e-15       4e-15\n",
      "x228          -0.0140      0.132     -0.106      0.916      -0.273       0.245\n",
      "x229           0.0070      0.148      0.047      0.962      -0.283       0.297\n",
      "x230          -0.0264      0.102     -0.259      0.796      -0.226       0.174\n",
      "x231           0.0499      0.014      3.596      0.000       0.023       0.077\n",
      "x232           0.0477      0.049      0.978      0.328      -0.048       0.143\n",
      "x233          -0.0223      0.135     -0.165      0.869      -0.288       0.243\n",
      "x234           0.0725      0.150      0.483      0.629      -0.222       0.367\n",
      "x235          -0.0212      0.070     -0.305      0.761      -0.158       0.115\n",
      "x236          -0.0353      0.034     -1.051      0.293      -0.101       0.031\n",
      "x237          -0.1190      0.109     -1.089      0.276      -0.333       0.095\n",
      "x238          -0.0582      0.154     -0.377      0.706      -0.361       0.244\n",
      "x239       -1.012e-16   2.14e-15     -0.047      0.962    -4.3e-15     4.1e-15\n",
      "x240          -0.1680      0.110     -1.529      0.126      -0.383       0.047\n",
      "x241          -0.1676      0.034     -4.970      0.000      -0.234      -0.101\n",
      "x242           0.0242      0.135      0.179      0.858      -0.241       0.289\n",
      "x243           0.0242      0.150      0.161      0.872      -0.270       0.318\n",
      "x244           0.0613      0.200      0.307      0.759      -0.331       0.453\n",
      "x245           0.0361      0.034      1.064      0.288      -0.030       0.103\n",
      "x246           0.2304      0.154      1.493      0.136      -0.072       0.533\n",
      "x247           0.0307      0.200      0.153      0.878      -0.361       0.423\n",
      "x248           0.0053      0.109      0.049      0.961      -0.209       0.219\n",
      "x249          -0.0082      0.154     -0.053      0.958      -0.311       0.294\n",
      "x250           0.0209      0.107      0.195      0.845      -0.189       0.231\n",
      "x251          -0.0248      0.054     -0.458      0.647      -0.131       0.082\n",
      "x252           0.0033      0.025      0.132      0.895      -0.045       0.052\n",
      "x253           0.1361      0.128      1.065      0.287      -0.114       0.387\n",
      "x254           0.0167      0.115      0.145      0.884      -0.209       0.242\n",
      "x255          -0.1007      0.133     -0.756      0.450      -0.362       0.160\n",
      "x256           0.0642      0.077      0.829      0.407      -0.088       0.216\n",
      "x257          -0.3928      0.064     -6.151      0.000      -0.518      -0.268\n",
      "x258          -0.1781      0.044     -4.046      0.000      -0.264      -0.092\n",
      "x259          -0.0259      0.109     -0.237      0.813      -0.240       0.189\n",
      "x260           0.0170      0.115      0.148      0.883      -0.208       0.242\n",
      "x261       -8.925e-17   2.21e-15     -0.040      0.968   -4.41e-15    4.24e-15\n",
      "x262           0.1389      0.084      1.658      0.097      -0.025       0.303\n",
      "x263          -0.0780      0.143     -0.547      0.585      -0.358       0.202\n",
      "x264           0.1698      0.147      1.157      0.247      -0.118       0.458\n",
      "x265           0.0185      0.031      0.602      0.547      -0.042       0.079\n",
      "x266           0.0734      0.109      0.676      0.499      -0.139       0.286\n",
      "x267          -0.0814      0.154     -0.527      0.598      -0.384       0.221\n",
      "x268           0.0149      0.092      0.162      0.871      -0.165       0.195\n",
      "x269          -0.0230      0.149     -0.154      0.877      -0.315       0.269\n",
      "x270          -0.0235      0.155     -0.152      0.879      -0.327       0.279\n",
      "x271          -0.0885      0.153     -0.577      0.564      -0.389       0.212\n",
      "x272          -0.0943      0.153     -0.615      0.539      -0.395       0.207\n",
      "x273          -0.0566      0.108     -0.522      0.601      -0.269       0.156\n",
      "x274       -3.654e-18   2.76e-15     -0.001      0.999   -5.41e-15    5.41e-15\n",
      "x275          -0.1376      0.055     -2.485      0.013      -0.246      -0.029\n",
      "x276          -0.0802      0.153     -0.523      0.601      -0.381       0.221\n",
      "x277          -0.1644      0.155     -1.063      0.288      -0.468       0.139\n",
      "x278          -0.0899      0.154     -0.582      0.560      -0.392       0.213\n",
      "x279           0.0922      0.063      1.453      0.146      -0.032       0.217\n",
      "x280          -0.0311      0.059     -0.527      0.598      -0.147       0.085\n",
      "x281           0.0486      0.070      0.698      0.485      -0.088       0.185\n",
      "x282       -2.731e-16   1.65e-15     -0.166      0.868    -3.5e-15    2.96e-15\n",
      "x283          -0.0049      0.143     -0.034      0.973      -0.286       0.276\n",
      "x284          -0.0468      0.070     -0.672      0.502      -0.183       0.090\n",
      "x285          -0.3246      0.027    -12.170      0.000      -0.377      -0.272\n",
      "x286           0.0079      0.115      0.068      0.946      -0.218       0.233\n",
      "x287           0.1009      0.055      1.846      0.065      -0.006       0.208\n",
      "x288           0.0288      0.111      0.259      0.796      -0.189       0.247\n",
      "x289          -0.1616      0.154     -1.053      0.293      -0.463       0.139\n",
      "x290          -0.0695      0.143     -0.485      0.628      -0.350       0.211\n",
      "x291          -0.0430      0.035     -1.227      0.220      -0.112       0.026\n",
      "x292           0.1071      0.081      1.318      0.187      -0.052       0.266\n",
      "x293          -0.0489      0.150     -0.326      0.745      -0.343       0.245\n",
      "x294        3.214e-17   1.84e-15      0.018      0.986   -3.57e-15    3.63e-15\n",
      "x295           0.0454      0.147      0.309      0.757      -0.243       0.333\n",
      "x296          -0.0852      0.147     -0.582      0.561      -0.372       0.202\n",
      "x297           0.0203      0.148      0.138      0.891      -0.269       0.310\n",
      "x298           0.0931      0.154      0.604      0.546      -0.209       0.395\n",
      "x299          -0.0471      0.109     -0.431      0.667      -0.261       0.167\n",
      "x300          -0.0054      0.055     -0.099      0.921      -0.113       0.103\n",
      "x301          -0.2625      0.109     -2.398      0.016      -0.477      -0.048\n",
      "x302           0.3326      0.022     14.950      0.000       0.289       0.376\n",
      "x303          -0.1130      0.089     -1.263      0.207      -0.288       0.062\n",
      "x304           0.0112      0.031      0.356      0.722      -0.050       0.073\n",
      "x305           0.1891      0.154      1.225      0.221      -0.114       0.492\n",
      "x306          -0.0222      0.107     -0.207      0.836      -0.233       0.188\n",
      "x307          -0.1335      0.154     -0.865      0.387      -0.436       0.169\n",
      "x308          -0.1627      0.078     -2.090      0.037      -0.315      -0.010\n",
      "x309          -0.0439      0.154     -0.284      0.776      -0.346       0.259\n",
      "x310          -0.1011      0.042     -2.381      0.017      -0.184      -0.018\n",
      "x311          -0.0310      0.052     -0.592      0.554      -0.134       0.072\n",
      "x312          -0.1010      0.150     -0.672      0.502      -0.396       0.194\n",
      "x313          -0.0634      0.046     -1.380      0.168      -0.153       0.027\n",
      "x314        9.292e-17   1.69e-15      0.055      0.956   -3.23e-15    3.41e-15\n",
      "x315        9.281e-17   2.25e-15      0.041      0.967   -4.32e-15     4.5e-15\n",
      "x316          -0.0664      0.076     -0.869      0.385      -0.216       0.083\n",
      "x317           0.0979      0.155      0.631      0.528      -0.206       0.402\n",
      "x318        -4.58e-17   2.64e-15     -0.017      0.986   -5.22e-15    5.13e-15\n",
      "x319           0.0494      0.153      0.322      0.748      -0.251       0.350\n",
      "x320          -0.0762      0.107     -0.715      0.475      -0.285       0.133\n",
      "x321          -0.0555      0.109     -0.508      0.612      -0.270       0.159\n",
      "x322           0.0041      0.154      0.027      0.979      -0.298       0.306\n",
      "x323          -0.2601      0.190     -1.367      0.172      -0.633       0.113\n",
      "x324           0.0223      0.133      0.167      0.867      -0.239       0.283\n",
      "x325          -0.0728      0.108     -0.675      0.500      -0.284       0.139\n",
      "x326          -0.1040      0.024     -4.274      0.000      -0.152      -0.056\n",
      "x327           0.0085      0.154      0.055      0.956      -0.294       0.311\n",
      "x328           0.0237      0.154      0.154      0.878      -0.279       0.326\n",
      "x329          -0.0220      0.159     -0.138      0.890      -0.334       0.290\n",
      "x330           0.1824      0.014     12.787      0.000       0.154       0.210\n",
      "x331          -0.0473      0.154     -0.307      0.759      -0.350       0.255\n",
      "x332           0.0787      0.011      6.976      0.000       0.057       0.101\n",
      "x333          -0.0427      0.028     -1.512      0.131      -0.098       0.013\n",
      "x334           0.1518      0.154      0.984      0.325      -0.151       0.454\n",
      "x335           0.0489      0.129      0.380      0.704      -0.203       0.301\n",
      "x336           0.1300      0.143      0.907      0.365      -0.151       0.411\n",
      "x337          -0.0847      0.125     -0.675      0.499      -0.331       0.161\n",
      "x338           0.0692      0.077      0.905      0.366      -0.081       0.219\n",
      "x339           0.0063      0.148      0.043      0.966      -0.283       0.296\n",
      "x340           0.0846      0.016      5.265      0.000       0.053       0.116\n",
      "x341         1.35e-23   2.53e-15   5.35e-09      1.000   -4.95e-15    4.95e-15\n",
      "x342          -0.0594      0.022     -2.732      0.006      -0.102      -0.017\n",
      "x343          -0.1570      0.139     -1.131      0.258      -0.429       0.115\n",
      "x344           0.0355      0.064      0.556      0.578      -0.090       0.160\n",
      "x345          -0.0060      0.141     -0.043      0.966      -0.282       0.270\n",
      "x346          -0.0440      0.047     -0.928      0.354      -0.137       0.049\n",
      "x347           0.1422      0.200      0.711      0.477      -0.250       0.534\n",
      "x348          -0.1339      0.035     -3.789      0.000      -0.203      -0.065\n",
      "x349          -0.0549      0.143     -0.383      0.702      -0.336       0.226\n",
      "x350          -0.0517      0.136     -0.379      0.705      -0.319       0.216\n",
      "x351           0.1450      0.024      5.923      0.000       0.097       0.193\n",
      "x352          -0.0573      0.150     -0.382      0.703      -0.352       0.237\n",
      "x353           0.1506      0.154      0.976      0.329      -0.152       0.453\n",
      "x354          -0.0018      0.143     -0.012      0.990      -0.283       0.279\n",
      "x355           0.0489      0.141      0.348      0.728      -0.227       0.324\n",
      "x356           0.0427      0.107      0.398      0.691      -0.168       0.253\n",
      "x357        1.039e-27   2.35e-15   4.43e-13      1.000    -4.6e-15     4.6e-15\n",
      "x358          -0.0262      0.089     -0.293      0.769      -0.201       0.149\n",
      "x359           0.0859      0.109      0.786      0.432      -0.128       0.300\n",
      "x360          -0.0447      0.154     -0.290      0.772      -0.347       0.258\n",
      "x361          -0.1434      0.109     -1.311      0.190      -0.358       0.071\n",
      "x362        4.304e-27    2.5e-15   1.72e-12      1.000   -4.91e-15    4.91e-15\n",
      "x363          -0.0032      0.048     -0.067      0.947      -0.096       0.090\n",
      "x364        3.572e-27   2.22e-15   1.61e-12      1.000   -4.35e-15    4.35e-15\n",
      "x365           0.1117      0.154      0.724      0.469      -0.191       0.414\n",
      "x366           0.0443      0.152      0.291      0.771      -0.254       0.342\n",
      "x367           0.0424      0.125      0.338      0.735      -0.203       0.288\n",
      "x368          -0.2268      0.090     -2.531      0.011      -0.402      -0.051\n",
      "x369           0.0217      0.053      0.409      0.682      -0.082       0.126\n",
      "x370           0.0991      0.143      0.695      0.487      -0.181       0.379\n",
      "x371          -0.0629      0.078     -0.810      0.418      -0.215       0.089\n",
      "x372        6.102e-27   1.79e-15   3.41e-12      1.000   -3.51e-15    3.51e-15\n",
      "x373        1.627e-26   3.18e-15   5.11e-12      1.000   -6.24e-15    6.24e-15\n",
      "x374           0.0950      0.028      3.431      0.001       0.041       0.149\n",
      "x375          -0.0555      0.064     -0.872      0.383      -0.180       0.069\n",
      "x376           0.0103      0.226      0.045      0.964      -0.432       0.452\n",
      "x377           0.1215      0.152      0.800      0.424      -0.176       0.419\n",
      "x378           0.0356      0.154      0.230      0.818      -0.267       0.338\n",
      "x379           0.0898      0.016      5.552      0.000       0.058       0.121\n",
      "x380           0.1766      0.154      1.145      0.252      -0.126       0.479\n",
      "x381           0.0893      0.152      0.588      0.557      -0.209       0.387\n",
      "x382          -0.0095      0.147     -0.065      0.948      -0.297       0.278\n",
      "x383          -0.0834      0.092     -0.907      0.364      -0.264       0.097\n",
      "x384          -0.1110      0.155     -0.718      0.472      -0.414       0.192\n",
      "x385          -0.0423      0.059     -0.716      0.474      -0.158       0.074\n",
      "x386           0.0540      0.154      0.350      0.726      -0.248       0.356\n",
      "x387           0.1388      0.200      0.694      0.488      -0.253       0.531\n",
      "x388           0.1855      0.154      1.201      0.230      -0.117       0.488\n",
      "x389        5.906e-28    1.5e-15   3.93e-13      1.000   -2.95e-15    2.95e-15\n",
      "x390           0.0447      0.153      0.292      0.771      -0.256       0.346\n",
      "x391           0.0067      0.099      0.068      0.946      -0.187       0.200\n",
      "x392           0.0948      0.143      0.664      0.507      -0.185       0.375\n",
      "x393          -0.0059      0.064     -0.093      0.926      -0.130       0.119\n",
      "x394          -0.0158      0.090     -0.176      0.860      -0.192       0.161\n",
      "x395          -0.1251      0.109     -1.144      0.252      -0.339       0.089\n",
      "x396          -0.0454      0.098     -0.464      0.642      -0.237       0.146\n",
      "x397           0.1473      0.143      1.027      0.304      -0.134       0.428\n",
      "x398           0.9531      0.041     23.065      0.000       0.872       1.034\n",
      "x399           0.3762      0.020     18.954      0.000       0.337       0.415\n",
      "x400           0.0504      0.139      0.363      0.716      -0.222       0.322\n",
      "x401          -0.0336      0.111     -0.304      0.761      -0.250       0.183\n",
      "x402          -0.1611      0.090     -1.800      0.072      -0.337       0.014\n",
      "x403           0.0667      0.110      0.607      0.544      -0.149       0.282\n",
      "x404           0.1036      0.079      1.310      0.190      -0.051       0.259\n",
      "x405          -0.0179      0.076     -0.235      0.814      -0.168       0.132\n",
      "x406           0.0463      0.153      0.302      0.763      -0.255       0.347\n",
      "x407          -0.0479      0.018     -2.590      0.010      -0.084      -0.012\n",
      "x408          -0.0609      0.149     -0.408      0.683      -0.353       0.231\n",
      "x409          -0.0912      0.018     -5.161      0.000      -0.126      -0.057\n",
      "x410           0.1604      0.154      1.040      0.299      -0.142       0.463\n",
      "x411          -0.0341      0.154     -0.221      0.825      -0.337       0.269\n",
      "x412           0.1145      0.107      1.065      0.287      -0.096       0.325\n",
      "x413           0.0535      0.089      0.598      0.550      -0.122       0.229\n",
      "x414          -0.0159      0.132     -0.120      0.905      -0.275       0.243\n",
      "x415          -0.0069      0.112     -0.061      0.951      -0.227       0.213\n",
      "x416          -0.0457      0.154     -0.296      0.767      -0.348       0.257\n",
      "x417           0.0853      0.040      2.141      0.032       0.007       0.163\n",
      "x418          -0.1341      0.018     -7.494      0.000      -0.169      -0.099\n",
      "x419          -0.1112      0.053     -2.079      0.038      -0.216      -0.006\n",
      "x420           0.0631      0.152      0.415      0.678      -0.235       0.361\n",
      "x421          -0.1215      0.150     -0.809      0.418      -0.416       0.173\n",
      "x422          -0.0057      0.028     -0.204      0.838      -0.061       0.049\n",
      "x423           0.1310      0.200      0.655      0.512      -0.261       0.523\n",
      "x424          -0.1079      0.022     -4.840      0.000      -0.152      -0.064\n",
      "x425          -0.0096      0.078     -0.124      0.902      -0.162       0.143\n",
      "x426           0.0227      0.143      0.158      0.874      -0.258       0.303\n",
      "x427           0.0055      0.133      0.042      0.967      -0.255       0.266\n",
      "x428           0.0458      0.048      0.963      0.336      -0.047       0.139\n",
      "x429          -0.1038      0.154     -0.672      0.502      -0.407       0.199\n",
      "x430           0.1259      0.154      0.816      0.414      -0.176       0.428\n",
      "x431           0.0732      0.154      0.475      0.635      -0.229       0.376\n",
      "x432           0.0575      0.044      1.313      0.189      -0.028       0.143\n",
      "x433          -0.0373      0.147     -0.255      0.799      -0.325       0.250\n",
      "x434          -0.0830      0.149     -0.555      0.579      -0.376       0.210\n",
      "x435          -0.0331      0.106     -0.312      0.755      -0.241       0.175\n",
      "x436           0.0168      0.148      0.113      0.910      -0.273       0.306\n",
      "x437         1.05e-26   1.97e-15   5.33e-12      1.000   -3.86e-15    3.86e-15\n",
      "x438       -1.723e-26   3.09e-15  -5.58e-12      1.000   -6.05e-15    6.05e-15\n",
      "x439           0.1549      0.154      1.004      0.315      -0.148       0.457\n",
      "x440          -0.0398      0.089     -0.445      0.656      -0.215       0.136\n",
      "x441           0.0140      0.027      0.515      0.606      -0.039       0.067\n",
      "x442           0.0418      0.154      0.271      0.787      -0.261       0.344\n",
      "x443        1.485e-27   2.94e-15   5.06e-13      1.000   -5.76e-15    5.76e-15\n",
      "x444          -0.4435      0.155     -2.870      0.004      -0.747      -0.141\n",
      "x445          -0.0767      0.155     -0.497      0.619      -0.380       0.226\n",
      "x446        2.661e-27   2.69e-15    9.9e-13      1.000   -5.27e-15    5.27e-15\n",
      "x447           0.0096      0.144      0.067      0.947      -0.272       0.291\n",
      "x448           0.0002      0.031      0.007      0.994      -0.061       0.062\n",
      "x449          -0.0522      0.150     -0.347      0.728      -0.346       0.242\n",
      "x450       -1.021e-27   2.28e-15  -4.48e-13      1.000   -4.47e-15    4.47e-15\n",
      "x451           0.0486      0.109      0.444      0.657      -0.166       0.263\n",
      "x452          -0.0987      0.109     -0.903      0.367      -0.313       0.116\n",
      "x453           0.0598      0.078      0.767      0.443      -0.093       0.212\n",
      "x454          -0.0207      0.024     -0.856      0.392      -0.068       0.027\n",
      "x455          -0.0188      0.157     -0.120      0.905      -0.326       0.288\n",
      "x456       -1.019e-27    1.7e-15     -6e-13      1.000   -3.33e-15    3.33e-15\n",
      "x457          -0.0727      0.107     -0.681      0.496      -0.282       0.137\n",
      "x458           0.0478      0.139      0.344      0.731      -0.224       0.320\n",
      "x459          -0.0604      0.153     -0.394      0.694      -0.361       0.240\n",
      "x460        1.191e-26   3.47e-15   3.44e-12      1.000   -6.79e-15    6.79e-15\n",
      "x461          -0.0345      0.111     -0.312      0.755      -0.252       0.183\n",
      "x462           0.0411      0.148      0.278      0.781      -0.249       0.331\n",
      "x463           0.8640      0.074     11.704      0.000       0.719       1.009\n",
      "x464           0.1097      0.020      5.565      0.000       0.071       0.148\n",
      "x465          -0.0521      0.109     -0.477      0.633      -0.266       0.162\n",
      "x466           0.0329      0.035      0.938      0.348      -0.036       0.102\n",
      "x467           0.1513      0.150      1.008      0.314      -0.143       0.446\n",
      "x468          -0.1364      0.150     -0.908      0.364      -0.431       0.158\n",
      "x469           0.0035      0.055      0.063      0.950      -0.105       0.112\n",
      "x470       -1.598e-26   2.32e-15   -6.9e-12      1.000   -4.54e-15    4.54e-15\n",
      "x471          -0.0849      0.143     -0.593      0.554      -0.366       0.196\n",
      "x472        7.297e-27      2e-15   3.66e-12      1.000   -3.91e-15    3.91e-15\n",
      "x473          -0.0610      0.154     -0.395      0.693      -0.363       0.241\n",
      "x474           0.0698      0.112      0.621      0.535      -0.151       0.290\n",
      "x475           0.0614      0.143      0.430      0.667      -0.219       0.341\n",
      "x476          -0.0757      0.091     -0.831      0.406      -0.254       0.103\n",
      "x477          -0.0149      0.025     -0.598      0.550      -0.064       0.034\n",
      "x478          -0.0512      0.090     -0.567      0.571      -0.228       0.126\n",
      "x479           0.2838      0.016     17.602      0.000       0.252       0.315\n",
      "x480           0.4157      0.026     15.743      0.000       0.364       0.467\n",
      "x481          -0.0768      0.070     -1.100      0.272      -0.214       0.060\n",
      "x482          -0.0204      0.154     -0.132      0.895      -0.323       0.282\n",
      "x483           0.1337      0.041      3.282      0.001       0.054       0.214\n",
      "x484          -0.1554      0.110     -1.419      0.156      -0.370       0.059\n",
      "x485          -0.0292      0.154     -0.189      0.850      -0.332       0.273\n",
      "x486        1.271e-27   1.95e-15   6.53e-13      1.000   -3.82e-15    3.82e-15\n",
      "x487       -2.591e-27   2.57e-15  -1.01e-12      1.000   -5.04e-15    5.04e-15\n",
      "x488           0.4095      0.021     19.690      0.000       0.369       0.450\n",
      "x489           0.1133      0.154      0.734      0.463      -0.189       0.416\n",
      "x490          -0.0324      0.064     -0.509      0.611      -0.157       0.092\n",
      "x491           0.0595      0.037      1.613      0.107      -0.013       0.132\n",
      "x492           0.1162      0.154      0.753      0.451      -0.186       0.419\n",
      "x493          -0.0290      0.154     -0.188      0.851      -0.332       0.273\n",
      "x494           0.1917      0.154      1.241      0.215      -0.111       0.495\n",
      "x495           0.2166      0.025      8.773      0.000       0.168       0.265\n",
      "x496          -0.0927      0.145     -0.641      0.521      -0.376       0.191\n",
      "x497        6.384e-27    2.4e-15   2.66e-12      1.000    -4.7e-15     4.7e-15\n",
      "x498          -0.0828      0.099     -0.836      0.403      -0.277       0.111\n",
      "x499          -0.0682      0.148     -0.461      0.645      -0.358       0.222\n",
      "x500           0.0428      0.109      0.392      0.695      -0.171       0.257\n",
      "x501          -0.0187      0.147     -0.128      0.898      -0.307       0.269\n",
      "x502           0.1276      0.147      0.871      0.384      -0.160       0.415\n",
      "x503           0.1730      0.157      1.105      0.269      -0.134       0.480\n",
      "x504       -1.536e-26   2.65e-15  -5.79e-12      1.000    -5.2e-15     5.2e-15\n",
      "x505           0.1633      0.053      3.099      0.002       0.060       0.267\n",
      "x506           0.0618      0.064      0.964      0.335      -0.064       0.187\n",
      "x507          -0.0720      0.154     -0.467      0.641      -0.374       0.230\n",
      "x508           0.0557      0.154      0.361      0.718      -0.247       0.358\n",
      "x509           0.1128      0.135      0.836      0.403      -0.152       0.377\n",
      "x510           0.0206      0.125      0.165      0.869      -0.225       0.266\n",
      "x511           0.0244      0.152      0.160      0.873      -0.273       0.322\n",
      "x512          -0.0843      0.111     -0.757      0.449      -0.302       0.134\n",
      "x513          -0.2794      0.109     -2.552      0.011      -0.494      -0.065\n",
      "x514          -0.0543      0.021     -2.600      0.009      -0.095      -0.013\n",
      "x515          -0.1299      0.144     -0.900      0.368      -0.413       0.153\n",
      "x516          -0.0369      0.154     -0.239      0.811      -0.339       0.266\n",
      "x517           0.1487      0.154      0.963      0.336      -0.154       0.451\n",
      "x518           0.0274      0.098      0.280      0.779      -0.164       0.219\n",
      "x519          -0.0485      0.143     -0.340      0.734      -0.328       0.231\n",
      "x520           0.0493      0.109      0.451      0.652      -0.165       0.264\n",
      "x521          -0.0822      0.143     -0.573      0.567      -0.363       0.199\n",
      "x522           0.1851      0.147      1.263      0.207      -0.102       0.472\n",
      "x523       -1.614e-26   2.45e-15  -6.58e-12      1.000   -4.81e-15    4.81e-15\n",
      "x524           0.0991      0.078      1.275      0.202      -0.053       0.251\n",
      "x525           0.0614      0.050      1.236      0.217      -0.036       0.159\n",
      "x526       -6.164e-27   2.11e-15  -2.93e-12      1.000   -4.13e-15    4.13e-15\n",
      "x527          -0.0422      0.106     -0.397      0.691      -0.251       0.166\n",
      "x528          -0.1464      0.143     -1.021      0.307      -0.428       0.135\n",
      "x529           0.0114      0.148      0.077      0.938      -0.278       0.301\n",
      "x530          -0.0445      0.149     -0.298      0.766      -0.337       0.248\n",
      "x531           0.0433      0.144      0.300      0.764      -0.240       0.326\n",
      "x532           0.0939      0.168      0.560      0.576      -0.235       0.423\n",
      "x533          -0.0030      0.153     -0.020      0.984      -0.303       0.297\n",
      "x534          -0.0053      0.148     -0.036      0.972      -0.295       0.284\n",
      "x535           0.0464      0.089      0.519      0.604      -0.129       0.222\n",
      "x536          -0.1803      0.154     -1.168      0.243      -0.483       0.122\n",
      "x537           0.0176      0.048      0.366      0.714      -0.077       0.112\n",
      "x538           0.0190      0.110      0.173      0.862      -0.196       0.234\n",
      "x539          -0.0604      0.153     -0.394      0.694      -0.361       0.240\n",
      "x540          -0.0127      0.144     -0.088      0.930      -0.295       0.269\n",
      "x541           0.0860      0.154      0.558      0.577      -0.216       0.388\n",
      "x542           0.1781      0.150      1.185      0.236      -0.116       0.473\n",
      "x543          -0.2658      0.022    -11.854      0.000      -0.310      -0.222\n",
      "x544           0.0185      0.046      0.404      0.687      -0.071       0.108\n",
      "x545          -0.0592      0.141     -0.421      0.673      -0.335       0.216\n",
      "x546           0.1267      0.168      0.755      0.450      -0.202       0.456\n",
      "x547           0.0639      0.109      0.585      0.558      -0.150       0.278\n",
      "x548          -0.1073      0.107     -1.003      0.316      -0.317       0.102\n",
      "x549           0.0118      0.109      0.108      0.914      -0.202       0.226\n",
      "x550           0.0139      0.110      0.127      0.899      -0.201       0.229\n",
      "x551          -0.0445      0.152     -0.293      0.770      -0.342       0.253\n",
      "x552           0.0273      0.089      0.305      0.760      -0.148       0.203\n",
      "x553           0.0702      0.110      0.641      0.522      -0.145       0.285\n",
      "x554          -0.1264      0.135     -0.933      0.351      -0.392       0.139\n",
      "x555          -0.0590      0.148     -0.398      0.691      -0.350       0.232\n",
      "x556           0.0588      0.078      0.757      0.449      -0.093       0.211\n",
      "x557          -0.0130      0.028     -0.461      0.645      -0.068       0.042\n",
      "x558           0.0130      0.109      0.118      0.906      -0.202       0.227\n",
      "x559          -0.1136      0.154     -0.736      0.462      -0.416       0.189\n",
      "x560           0.0905      0.160      0.564      0.573      -0.224       0.405\n",
      "x561           0.0415      0.050      0.835      0.404      -0.056       0.139\n",
      "x562       -1.232e-26   1.93e-15  -6.39e-12      1.000   -3.78e-15    3.78e-15\n",
      "x563          -0.0533      0.135     -0.395      0.693      -0.318       0.211\n",
      "x564           0.0433      0.144      0.300      0.764      -0.240       0.326\n",
      "x565          -0.0613      0.157     -0.391      0.696      -0.369       0.246\n",
      "x566          -0.0324      0.041     -0.788      0.431      -0.113       0.048\n",
      "x567          -0.0539      0.135     -0.400      0.689      -0.318       0.210\n",
      "x568          -0.0479      0.154     -0.311      0.756      -0.350       0.255\n",
      "x569          -0.3319      0.070     -4.762      0.000      -0.469      -0.195\n",
      "x570           0.0057      0.143      0.040      0.968      -0.274       0.286\n",
      "x571          -0.2344      0.152     -1.543      0.123      -0.532       0.063\n",
      "x572          -0.0452      0.149     -0.303      0.762      -0.338       0.247\n",
      "x573           0.0418      0.089      0.467      0.640      -0.134       0.217\n",
      "x574           0.0524      0.143      0.367      0.714      -0.228       0.332\n",
      "x575           0.0011      0.046      0.024      0.981      -0.088       0.090\n",
      "x576          -0.1039      0.111     -0.940      0.347      -0.321       0.113\n",
      "x577           0.0222      0.042      0.525      0.599      -0.061       0.105\n",
      "x578           0.0920      0.150      0.613      0.540      -0.202       0.386\n",
      "x579          -0.0240      0.092     -0.259      0.796      -0.205       0.157\n",
      "x580          -0.1183      0.205     -0.578      0.563      -0.519       0.283\n",
      "x581          -0.0344      0.149     -0.230      0.818      -0.327       0.258\n",
      "x582          -0.0331      0.139     -0.238      0.812      -0.305       0.239\n",
      "x583          -0.0005      0.081     -0.006      0.995      -0.159       0.158\n",
      "x584           0.1037      0.152      0.683      0.495      -0.194       0.401\n",
      "x585        5.224e-27   2.44e-15   2.14e-12      1.000   -4.79e-15    4.79e-15\n",
      "x586          -0.0935      0.022     -4.194      0.000      -0.137      -0.050\n",
      "x587          -0.0304      0.048     -0.639      0.523      -0.124       0.063\n",
      "x588        2.225e-27   4.09e-15   5.44e-13      1.000   -8.02e-15    8.02e-15\n",
      "x589         1.29e-26    3.5e-15   3.69e-12      1.000   -6.86e-15    6.86e-15\n",
      "x590           0.0610      0.154      0.396      0.692      -0.241       0.363\n",
      "x591          -0.0133      0.154     -0.086      0.931      -0.316       0.289\n",
      "x592        1.046e-26   3.85e-15   2.72e-12      1.000   -7.54e-15    7.54e-15\n",
      "x593           0.0495      0.082      0.606      0.544      -0.111       0.210\n",
      "x594       -6.418e-27   3.64e-15  -1.76e-12      1.000   -7.14e-15    7.14e-15\n",
      "x595        1.297e-26   2.47e-15   5.25e-12      1.000   -4.84e-15    4.84e-15\n",
      "x596           0.0631      0.122      0.518      0.604      -0.176       0.302\n",
      "x597       -7.371e-27    3.6e-15  -2.05e-12      1.000   -7.07e-15    7.07e-15\n",
      "x598           0.0094      0.145      0.065      0.948      -0.274       0.293\n",
      "x599           0.2577      0.155      1.666      0.096      -0.046       0.561\n",
      "x600           0.1486      0.154      0.963      0.335      -0.154       0.451\n",
      "x601          -0.1954      0.079     -2.464      0.014      -0.351      -0.040\n",
      "x602           0.1349      0.059      2.267      0.023       0.018       0.251\n",
      "x603           0.0503      0.154      0.326      0.745      -0.252       0.353\n",
      "x604           0.1276      0.154      0.827      0.408      -0.175       0.430\n",
      "x605          -0.0871      0.154     -0.564      0.572      -0.390       0.215\n",
      "x606           0.0082      0.109      0.075      0.940      -0.206       0.223\n",
      "x607           0.0300      0.154      0.194      0.846      -0.273       0.333\n",
      "x608           0.1658      0.108      1.535      0.125      -0.046       0.378\n",
      "x609          -0.0443      0.043     -1.020      0.308      -0.129       0.041\n",
      "x610          -0.0253      0.124     -0.205      0.838      -0.267       0.217\n",
      "x611           0.8640      0.074     11.704      0.000       0.719       1.009\n",
      "x612          -0.0395      0.019     -2.092      0.036      -0.076      -0.002\n",
      "x613          -0.1599      0.164     -0.976      0.329      -0.481       0.161\n",
      "x614          -0.0488      0.076     -0.639      0.523      -0.198       0.101\n",
      "x615           0.0202      0.140      0.144      0.885      -0.254       0.294\n",
      "x616          -0.0451      0.031     -1.467      0.142      -0.105       0.015\n",
      "x617          -0.0418      0.036     -1.170      0.242      -0.112       0.028\n",
      "x618          -0.0461      0.061     -0.750      0.453      -0.166       0.074\n",
      "x619          -0.0362      0.076     -0.475      0.635      -0.186       0.113\n",
      "x620          -0.0106      0.035     -0.303      0.762      -0.079       0.058\n",
      "x621          -0.0587      0.049     -1.198      0.231      -0.155       0.037\n",
      "x622          -0.0159      0.061     -0.261      0.794      -0.135       0.104\n",
      "x623          -0.0664      0.076     -0.869      0.385      -0.216       0.083\n",
      "x624           0.0608      0.076      0.796      0.426      -0.089       0.211\n",
      "x625          -0.0135      0.057     -0.235      0.814      -0.126       0.099\n",
      "x626          -0.0127      0.061     -0.210      0.833      -0.131       0.106\n",
      "x627          -0.0244      0.051     -0.477      0.633      -0.125       0.076\n",
      "x628          -0.0248      0.054     -0.458      0.647      -0.131       0.082\n",
      "x629           0.0337      0.072      0.468      0.639      -0.107       0.175\n",
      "x630          -0.0375      0.061     -0.619      0.536      -0.156       0.081\n",
      "x631          -0.0179      0.076     -0.235      0.814      -0.168       0.132\n",
      "x632          -0.0524      0.044     -1.196      0.232      -0.138       0.034\n",
      "x633          -0.0093      0.067     -0.139      0.889      -0.141       0.122\n",
      "x634           0.0417      0.040      1.033      0.302      -0.037       0.121\n",
      "x635          -0.0554      0.049     -1.121      0.262      -0.152       0.041\n",
      "x636          -0.0101      0.045     -0.224      0.822      -0.098       0.078\n",
      "x637          -0.0037      0.059     -0.063      0.950      -0.119       0.112\n",
      "x638          -0.0181      0.052     -0.350      0.727      -0.120       0.083\n",
      "x639          -0.1035      0.051     -2.021      0.043      -0.204      -0.003\n",
      "x640                0          0        nan        nan           0           0\n",
      "x641          -0.0496      0.062     -0.794      0.427      -0.172       0.073\n",
      "x642          -0.0475      0.031     -1.512      0.131      -0.109       0.014\n",
      "x643           0.0251      0.050      0.504      0.614      -0.073       0.123\n",
      "x644           0.0642      0.077      0.829      0.407      -0.088       0.216\n",
      "x645          -0.0993      0.041     -2.407      0.016      -0.180      -0.018\n",
      "x646           0.0022      0.046      0.048      0.962      -0.087       0.092\n",
      "x647          -0.0191      0.072     -0.265      0.791      -0.160       0.122\n",
      "==============================================================================\n",
      "Omnibus:                     3266.105   Durbin-Watson:                   1.838\n",
      "Prob(Omnibus):                  0.000   Jarque-Bera (JB):            30085.458\n",
      "Skew:                          -1.613   Prob(JB):                         0.00\n",
      "Kurtosis:                      11.707   Cond. No.                     6.94e+18\n",
      "==============================================================================\n",
      "\n",
      "Notes:\n",
      "[1] Standard Errors assume that the covariance matrix of the errors is correctly specified.\n",
      "[2] The smallest eigenvalue is 9.93e-33. This might indicate that there are\n",
      "strong multicollinearity problems or that the design matrix is singular.\n"
     ]
    }
   ],
   "source": [
    "import statsmodels.api as sm\n",
    "\n",
    "X_new = sm.add_constant(X_train)\n",
    "toyregr_sm = sm.OLS(y_train.astype(float), X_new.astype(float))\n",
    "results_sm = toyregr_sm.fit()\n",
    "\n",
    "print(results_sm.summary())"
   ]
  },
  {
   "cell_type": "code",
   "execution_count": 215,
   "metadata": {},
   "outputs": [],
   "source": [
    "from sklearn.linear_model import LogisticRegression\n",
    "\n",
    "y_temp = y_train.astype('int')\n",
    "\n",
    "log_reg = LogisticRegression(max_iter=1000, multi_class='ovr')\n",
    "log_reg.fit(X_train, y_temp)\n",
    "log_predicted = log_reg.predict(X_test)"
   ]
  },
  {
   "cell_type": "code",
   "execution_count": 216,
   "metadata": {},
   "outputs": [
    {
     "data": {
      "text/plain": [
       "0.1064492590824699"
      ]
     },
     "execution_count": 216,
     "metadata": {},
     "output_type": "execute_result"
    }
   ],
   "source": [
    "mse = mean_squared_error(y_test, log_predicted)\n",
    "rmse = np.sqrt(mse)\n",
    "rmse"
   ]
  },
  {
   "cell_type": "code",
   "execution_count": 217,
   "metadata": {},
   "outputs": [
    {
     "data": {
      "text/plain": [
       "-0.21143946615824594"
      ]
     },
     "execution_count": 217,
     "metadata": {},
     "output_type": "execute_result"
    }
   ],
   "source": [
    "r2_score(y_test, log_predicted)"
   ]
  },
  {
   "cell_type": "code",
   "execution_count": 218,
   "metadata": {},
   "outputs": [
    {
     "name": "stdout",
     "output_type": "stream",
     "text": [
      "accuracy = 0.9886685552407932%\n",
      "roc_auc_score = 0.994280266920877\n",
      "F1-score = 0.625\n"
     ]
    }
   ],
   "source": [
    "accuracy = (accuracy_score(y_test, log_predicted))\n",
    "print(\"accuracy = {}%\".format(accuracy))\n",
    "print(\"roc_auc_score = {}\".format(roc_auc_score(y_test, log_predicted)))\n",
    "print(\"F1-score = {}\".format(f1_score(y_test, log_predicted)))"
   ]
  },
  {
   "cell_type": "markdown",
   "metadata": {},
   "source": [
    "# 6. PCA"
   ]
  },
  {
   "cell_type": "code",
   "execution_count": 219,
   "metadata": {},
   "outputs": [
    {
     "name": "stdout",
     "output_type": "stream",
     "text": [
      "[35.52613598 30.52934619  6.7222188   3.8818686   1.3606588   1.32032989]\n",
      "6\n"
     ]
    }
   ],
   "source": [
    "pca = PCA(n_components=0.95) # Create an instance of PCA model\n",
    "pca.fit(X_train) # Fit X_train to PCA\n",
    "X_train = pca.transform(X_train) # transform training data\n",
    "X_test = pca.transform(X_test) # transform test data\n",
    "print(pca.explained_variance_)\n",
    "print(pca.n_components_)"
   ]
  },
  {
   "cell_type": "code",
   "execution_count": 220,
   "metadata": {},
   "outputs": [
    {
     "name": "stdout",
     "output_type": "stream",
     "text": [
      "[[-3.87320299 -1.63360314 -1.02941636  0.83444497 -0.36030468  1.71501823]\n",
      " [-4.1430277  -2.4140799   0.04275821 -0.78489977  1.36622729 -1.24442034]\n",
      " [-4.24327697 -2.0921594  -0.67651334 -0.12336708  0.26108134  1.24673239]\n",
      " ...\n",
      " [19.13086715 -0.23106214 -5.40819249 -1.48894115 -0.42373005  0.88548112]\n",
      " [ 6.34595162 -0.05757893  9.96182115  1.72733095 -0.45550872  1.20243083]\n",
      " [-2.73678844  7.26685418 -0.82424373  1.77636817 -1.11934945 -1.35478083]]\n"
     ]
    }
   ],
   "source": [
    "print(X_train)"
   ]
  },
  {
   "cell_type": "code",
   "execution_count": 221,
   "metadata": {},
   "outputs": [
    {
     "name": "stdout",
     "output_type": "stream",
     "text": [
      "[[-4.92228915 -2.4908769  -0.54466133 -1.14976827 -1.51749068  2.08461436]\n",
      " [-4.63600142 -2.40993292 -0.52573366 -0.73827486 -0.84772528  1.57207674]\n",
      " [-4.9407654  -2.50070167 -0.52851711 -1.19354067 -1.15177872  1.6575278 ]\n",
      " ...\n",
      " [-4.51381109 -2.46410533 -0.2326742  -1.00715291  0.45151603  0.09787329]\n",
      " [-4.59921061 -2.4795135  -0.27687645 -1.11036168 -0.02900953  0.43898091]\n",
      " [-4.91255806 -2.49893103 -0.52150667 -1.16306334 -1.28959169  1.86178245]]\n"
     ]
    }
   ],
   "source": [
    "print(X_test)"
   ]
  },
  {
   "cell_type": "code",
   "execution_count": 222,
   "metadata": {},
   "outputs": [
    {
     "name": "stdout",
     "output_type": "stream",
     "text": [
      "(8374, 6) (1059, 6)\n",
      "(8374,) (1059,)\n"
     ]
    }
   ],
   "source": [
    "print(X_train.shape, X_test.shape)\n",
    "print(y_train.shape, y_test.shape)"
   ]
  },
  {
   "cell_type": "markdown",
   "metadata": {},
   "source": [
    "# 7. Ensemble"
   ]
  },
  {
   "cell_type": "code",
   "execution_count": null,
   "metadata": {},
   "outputs": [],
   "source": [
    "# y_train = y_train.astype('int')\n",
    "# y_test = y_test.astype('int')"
   ]
  },
  {
   "cell_type": "code",
   "execution_count": 235,
   "metadata": {},
   "outputs": [
    {
     "name": "stdout",
     "output_type": "stream",
     "text": [
      "-0.6152526215443281\n",
      "accuracy = 0.9848914069877243%\n",
      "roc_auc_score = 0.9428503336510962\n",
      "F1-score = 0.5294117647058825\n"
     ]
    }
   ],
   "source": [
    "from sklearn.datasets import make_regression\n",
    "from sklearn.model_selection import train_test_split\n",
    "from sklearn.ensemble import RandomForestClassifier\n",
    "from sklearn.metrics import r2_score\n",
    "\n",
    "# assuming we have X_train,X_test,y_train,y_test at this time\n",
    "# I first run Random Forest using random hard coded settings to get a baseline\n",
    "rf = RandomForestClassifier(n_estimators=80,max_depth=7,max_features=3)\n",
    "rf.fit(X_train,y_train)\n",
    "y_pred = rf.predict(X_test)\n",
    "test_score = r2_score(y_test,y_pred)\n",
    "print(test_score)\n",
    "accuracy = (accuracy_score(y_test, y_pred))\n",
    "print(\"accuracy = {}%\".format(accuracy))\n",
    "print(\"roc_auc_score = {}\".format(roc_auc_score(y_test, y_pred)))\n",
    "print(\"F1-score = {}\".format(f1_score(y_test, y_pred)))"
   ]
  },
  {
   "cell_type": "code",
   "execution_count": null,
   "metadata": {},
   "outputs": [],
   "source": [
    "from sklearn.model_selection import RandomizedSearchCV\n",
    "import numpy as np\n",
    "# I then use RandomizedSearchCV to find the optimal hyperparameters\n",
    "n_estimators = [int(x) for x in np.linspace(start = 100, stop = 1500, num = 30)]\n",
    "max_features = ['auto', 'sqrt']\n",
    "max_depth = [int(x) for x in np.linspace(5, 100, num = 10)]\n",
    "max_depth.append(None)\n",
    "min_samples_split = [2, 5, 7, 10]\n",
    "min_samples_leaf = [2, 5, 7, 10]\n",
    "random_grid = {'n_estimators': n_estimators,\n",
    "               'max_features': max_features,\n",
    "               'max_depth': max_depth,\n",
    "               'min_samples_split': min_samples_split,\n",
    "               'min_samples_leaf': min_samples_leaf}\n",
    "\n",
    "rf = RandomForestClassifier(class_weight='balanced', random_state=42)\n",
    "\n",
    "rf_random = RandomizedSearchCV(estimator = rf, param_distributions = random_grid, n_iter = 100, cv = 3, verbose=2, random_state=42, n_jobs = -1)\n",
    "rf_random.fit(X_train, y_train)\n",
    "rf_random.best_params_"
   ]
  },
  {
   "cell_type": "code",
   "execution_count": null,
   "metadata": {},
   "outputs": [],
   "source": [
    "rf = RandomForestRegressor(n_estimators=411,max_depth=68,max_features='auto',min_samples_split=5,min_samples_leaf=2,bootstrap=True)\n",
    "rf.fit(X_train,y_train)\n",
    "y_pred = rf.predict(X_test)\n",
    "misclassified = 0\n",
    "for i in range(len(y_pred)):\n",
    "    if y_pred[i] != y_test[i]:\n",
    "        misclassified += 1\n",
    "accuracy = ((1000-misclassified)*100/len(y_pred))\n",
    "print(\"accuracy = {}%\".format(accuracy))"
   ]
  },
  {
   "cell_type": "code",
   "execution_count": null,
   "metadata": {},
   "outputs": [],
   "source": [
    "# from sklearn.datasets import make_regression\n",
    "# from sklearn.model_selection import train_test_split\n",
    "# from sklearn.ensemble import RandomForestRegressor\n",
    "# from sklearn.metrics import r2_score\n",
    "\n",
    "# # assuming we have X_train,X_test,y_train,y_test at this time\n",
    "# # I first run Random Forest using random hard coded settings to get a baseline\n",
    "# rf = RandomForestRegressor(n_estimators=80,max_depth=7,max_features=3)\n",
    "# rf.fit(X_train,y_train)\n",
    "# y_pred = rf.predict(X_test)\n",
    "# test_score = r2_score(y_test,y_pred)\n",
    "# test_score"
   ]
  },
  {
   "cell_type": "code",
   "execution_count": null,
   "metadata": {},
   "outputs": [],
   "source": [
    "# from sklearn.model_selection import RandomizedSearchCV\n",
    "# import numpy as np\n",
    "# # I then use RandomizedSearchCV to find the optimal hyperparameters\n",
    "# n_estimators = [int(x) for x in np.linspace(start = 100, stop = 1500, num = 10)]\n",
    "# max_features = ['auto', 'sqrt']\n",
    "# max_depth = [int(x) for x in np.linspace(5, 100, num = 10)]\n",
    "# max_depth.append(None)\n",
    "# min_samples_split = [2, 5, 7, 10, 20]\n",
    "# min_samples_leaf = [2, 5, 7, 10]\n",
    "# bootstrap = [True, False]\n",
    "# random_grid = {'n_estimators': n_estimators,\n",
    "#                'max_features': max_features,\n",
    "#                'max_depth': max_depth,\n",
    "#                'min_samples_split': min_samples_split,\n",
    "#                'min_samples_leaf': min_samples_leaf,\n",
    "#                'bootstrap': bootstrap}\n",
    "\n",
    "# rf_random = RandomizedSearchCV(estimator = rf, param_distributions = random_grid, n_iter = 100, cv = 5, verbose=2, random_state=42, n_jobs = -1)\n",
    "# rf_random.fit(X_train, y_train)\n",
    "# rf_random.best_params_"
   ]
  },
  {
   "cell_type": "code",
   "execution_count": null,
   "metadata": {},
   "outputs": [],
   "source": [
    "# # I then output the r2 score again as a sanity check to verify that my RanomdizedSearchCV actually did find the best settings\n",
    "# rf = RandomForestRegressor(n_estimators=411,max_depth=68,max_features='auto',min_samples_split=5,min_samples_leaf=2,bootstrap=True)\n",
    "# rf.fit(X_train,y_train)\n",
    "# y_pred = rf.predict(X_test)\n",
    "# from sklearn.metrics import r2_score\n",
    "# test_score = r2_score(y_test,y_pred)\n",
    "# test_score"
   ]
  },
  {
   "cell_type": "code",
   "execution_count": null,
   "metadata": {},
   "outputs": [],
   "source": [
    "# we then use the hyperparameters we found from the RandomizedSearchCV to do a second more thorough check around that range\n",
    "from sklearn.model_selection import GridSearchCV\n",
    "param_grid = {\n",
    "    'bootstrap': [True],\n",
    "    'max_depth': [65, 68, 71],\n",
    "    'max_features': ['auto'],\n",
    "    'min_samples_leaf': [2, 4, 6],\n",
    "    'min_samples_split': [3, 5, 7],\n",
    "    'n_estimators': [375, 411, 500]\n",
    "}\n",
    "# Create a based model\n",
    "rf = RandomForestRegressor()\n",
    "# Instantiate the grid search model\n",
    "grid_search = GridSearchCV(estimator = rf, param_grid = param_grid, \n",
    "                          cv = 5, n_jobs = -1, verbose = 2)\n",
    "grid_search.fit(X_train, y_train)\n",
    "grid_search.best_params_"
   ]
  },
  {
   "cell_type": "code",
   "execution_count": null,
   "metadata": {},
   "outputs": [],
   "source": [
    "# we then output the results using the optimal hyperparameters to check that our model has improved\n",
    "rf = RandomForestRegressor(n_estimators=375,max_depth=68,max_features='auto',min_samples_split=3,min_samples_leaf=2,bootstrap=True)\n",
    "rf.fit(X_train,y_train)\n",
    "y_pred = rf.predict(X_test)\n",
    "from sklearn.metrics import r2_score\n",
    "test_score = r2_score(y_test,y_pred)\n",
    "test_score"
   ]
  },
  {
   "cell_type": "code",
   "execution_count": null,
   "metadata": {},
   "outputs": [],
   "source": [
    "# AdaBoost using the same settings\n",
    "from sklearn.ensemble import AdaBoostRegressor\n",
    "from sklearn.tree import DecisionTreeRegressor\n",
    "from sklearn import metrics\n",
    "\n",
    "dt = DecisionTreeRegressor(max_depth=80,max_features='auto',min_samples_leaf=2,min_samples_split=3)\n",
    "ab = AdaBoostRegressor(base_estimator=dt,learning_rate=1,n_estimators=450)\n",
    "ab.fit(X_train,y_train)\n",
    "y_pred = ab.predict(X_test)\n",
    "test_score = r2_score(y_test,y_pred)\n",
    "test_score"
   ]
  },
  {
   "cell_type": "markdown",
   "metadata": {},
   "source": [
    "# 8. Neural Network Classifier"
   ]
  },
  {
   "cell_type": "code",
   "execution_count": null,
   "metadata": {},
   "outputs": [],
   "source": [
    "# # Define a transform to normalize the data\n",
    "# transform = transforms.Compose([transforms.ToTensor(),\n",
    "#                                 transforms.Normalize((0.5,), (0.5,)),\n",
    "#                               ])\n",
    "# Download and load the training data\n",
    "NN_X_train = torch.tensor(df.drop([\"label\"], axis=1).values)\n",
    "NN_y_train = torch.tensor(df[\"label\"].values)\n",
    "trainset = TensorDataset(NN_X_train, NN_y_train)\n",
    "trainloader = DataLoader(trainset, batch_size=64, shuffle=True)"
   ]
  },
  {
   "cell_type": "code",
   "execution_count": null,
   "metadata": {},
   "outputs": [],
   "source": [
    "NUM_FEATURES = 20\n",
    "NUM_HIDDEN1_NODES = 400\n",
    "NUM_EPOCHS = 30\n",
    "\n",
    "model = nn.Sequential(nn.Linear(NUM_FEATURES, NUM_HIDDEN1_NODES),\n",
    "                      nn.Sigmoid(),\n",
    "                      nn.Linear(NUM_HIDDEN1_NODES, 1)\n",
    "                     )\n",
    "\n",
    "criterion = nn.CrossEntropyLoss()\n",
    "optimizer = optim.SGD(model.parameters(), lr=0.003)\n",
    "\n",
    "for e in range(NUM_EPOCHS):\n",
    "    running_loss = 0\n",
    "    for data, labels in trainloader:\n",
    "        optimizer.zero_grad()\n",
    "        output = model(data)\n",
    "        loss = criterion(output, labels)\n",
    "        loss.backward()\n",
    "        optimizer.step()\n",
    "        running_loss += loss.item()\n",
    "    print(f\"Training loss: {running_loss/len(trainloader)}\")\n",
    "    \n",
    "# class NeuralNet(nn.Module):\n",
    "#     def __init__(self):\n",
    "#         super(NeuralNet, self).__init__()\n",
    "        \n",
    "#         # Inputs to hidden layer linear transformation\n",
    "#         self.hidden1 = nn.Linear(NUM_FEATURES, NUM_HIDDEN1_NODES)\n",
    "#         self.output = nn.Linear(NUM_HIDDEN1_NODES, 1)\n",
    "        \n",
    "#         self.sigmoid = nn.Sigmoid()\n",
    "        \n",
    "#     def forward(self, x):\n",
    "#         x = self.hidden1(x)\n",
    "#         x = self.sigmoid(x)\n",
    "#         x = self.output(x)\n",
    "#         x = self.softmax(x)\n",
    "#         return x"
   ]
  },
  {
   "cell_type": "code",
   "execution_count": null,
   "metadata": {},
   "outputs": [],
   "source": [
    "# model = Network()\n",
    "# model"
   ]
  },
  {
   "cell_type": "markdown",
   "metadata": {},
   "source": [
    "# 9. Cross-Validate"
   ]
  },
  {
   "cell_type": "code",
   "execution_count": null,
   "metadata": {},
   "outputs": [],
   "source": [
    "from sklearn import model_selection\n",
    "\n",
    "kfold = model_selection.KFold(n_splits=10, random_state=42, shuffle=True)\n",
    "\n",
    "sample_model_kfold = sample()\n",
    "\n",
    "sample_results_kfold = model_selection.cross_val_score(sample_model_kfold, df_prepared, df_labels, cv=kfold)"
   ]
  },
  {
   "cell_type": "markdown",
   "metadata": {},
   "source": [
    "# 10. Custom Model"
   ]
  },
  {
   "cell_type": "code",
   "execution_count": 233,
   "metadata": {},
   "outputs": [
    {
     "name": "stdout",
     "output_type": "stream",
     "text": [
      "accuracy for kernel=linear = 0.947119924457035%\n",
      "roc_auc_score = 0.8247378455672069\n",
      "F1-score = 0.2\n",
      "accuracy for kernel=rbf = 0.9886685552407932%\n",
      "roc_auc_score = 0.994280266920877\n",
      "F1-score = 0.625\n",
      "accuracy for kernel=sigmoid = 0.9612842304060434%\n",
      "roc_auc_score = 0.9804575786463298\n",
      "F1-score = 0.3278688524590164\n"
     ]
    },
    {
     "name": "stderr",
     "output_type": "stream",
     "text": [
      "/Users/shrenik/opt/anaconda3/lib/python3.8/site-packages/sklearn/svm/_base.py:255: ConvergenceWarning: Solver terminated early (max_iter=100).  Consider pre-processing your data with StandardScaler or MinMaxScaler.\n",
      "  warnings.warn('Solver terminated early (max_iter=%i).'\n",
      "/Users/shrenik/opt/anaconda3/lib/python3.8/site-packages/sklearn/svm/_base.py:255: ConvergenceWarning: Solver terminated early (max_iter=100).  Consider pre-processing your data with StandardScaler or MinMaxScaler.\n",
      "  warnings.warn('Solver terminated early (max_iter=%i).'\n",
      "/Users/shrenik/opt/anaconda3/lib/python3.8/site-packages/sklearn/svm/_base.py:255: ConvergenceWarning: Solver terminated early (max_iter=100).  Consider pre-processing your data with StandardScaler or MinMaxScaler.\n",
      "  warnings.warn('Solver terminated early (max_iter=%i).'\n"
     ]
    }
   ],
   "source": [
    "kernel_types = ['linear', 'rbf', 'sigmoid']\n",
    "for kernel in kernel_types:\n",
    "    svc = SVC(kernel=kernel, class_weight='balanced', random_state=42, max_iter=100) #class_weight='balanced'\n",
    "    svc.fit(X_train, y_train)\n",
    "    y_pred = svc.predict(X_test)\n",
    "    accuracy = (accuracy_score(y_test, y_pred))\n",
    "    print(\"accuracy for kernel={} = {}%\".format(kernel, accuracy))\n",
    "    print(\"roc_auc_score = {}\".format(roc_auc_score(y_test, y_pred)))\n",
    "    print(\"F1-score = {}\".format(f1_score(y_test, y_pred)))"
   ]
  },
  {
   "cell_type": "code",
   "execution_count": null,
   "metadata": {},
   "outputs": [],
   "source": []
  }
 ],
 "metadata": {
  "kernelspec": {
   "display_name": "Python 3",
   "language": "python",
   "name": "python3"
  },
  "language_info": {
   "codemirror_mode": {
    "name": "ipython",
    "version": 3
   },
   "file_extension": ".py",
   "mimetype": "text/x-python",
   "name": "python",
   "nbconvert_exporter": "python",
   "pygments_lexer": "ipython3",
   "version": "3.8.5"
  }
 },
 "nbformat": 4,
 "nbformat_minor": 4
}
