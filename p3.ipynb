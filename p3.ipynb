{
 "cells": [
  {
   "cell_type": "code",
   "execution_count": 322,
   "metadata": {},
   "outputs": [],
   "source": [
    "import numpy as np # linear algebra\n",
    "import pandas as pd # data processing, CSV file I/O (e.g. pd.read_csv)\n",
    "import matplotlib.pyplot as plt # this is used for the plot the graph \n",
    "from datetime import date\n",
    "import random\n",
    "\n",
    "from sklearn.decomposition import PCA\n",
    "from sklearn.experimental import enable_iterative_imputer\n",
    "from sklearn.impute import IterativeImputer\n",
    "from sklearn.impute import SimpleImputer\n",
    "from sklearn.compose import ColumnTransformer\n",
    "from sklearn.pipeline import Pipeline\n",
    "from sklearn.preprocessing import StandardScaler\n",
    "from sklearn.preprocessing import OneHotEncoder\n",
    "from sklearn.preprocessing import MultiLabelBinarizer\n",
    "from sklearn.model_selection import train_test_split\n",
    "from sklearn.svm import SVC\n",
    "from sklearn.metrics import roc_auc_score\n",
    "from sklearn.metrics import f1_score\n",
    "from sklearn.metrics import precision_score\n",
    "from sklearn.metrics import recall_score\n",
    "from sklearn.metrics import accuracy_score\n",
    "from imblearn.over_sampling import SMOTE\n",
    "\n",
    "import torch\n",
    "from torch import nn\n",
    "import torch.nn.functional as F\n",
    "from torchvision import transforms\n",
    "from torch.utils.data import TensorDataset, DataLoader\n",
    "\n",
    "%matplotlib inline\n",
    "\n",
    "import random \n",
    "random.seed(42)"
   ]
  },
  {
   "cell_type": "code",
   "execution_count": 323,
   "metadata": {},
   "outputs": [],
   "source": [
    "csv_path_1 = \"training_dataset.csv\"\n",
    "csv_path_2 = \"score.csv\""
   ]
  },
  {
   "cell_type": "markdown",
   "metadata": {},
   "source": [
    "# 0. First, let's understand our data..."
   ]
  },
  {
   "cell_type": "code",
   "execution_count": 324,
   "metadata": {},
   "outputs": [
    {
     "data": {
      "text/html": [
       "<div>\n",
       "<style scoped>\n",
       "    .dataframe tbody tr th:only-of-type {\n",
       "        vertical-align: middle;\n",
       "    }\n",
       "\n",
       "    .dataframe tbody tr th {\n",
       "        vertical-align: top;\n",
       "    }\n",
       "\n",
       "    .dataframe thead th {\n",
       "        text-align: right;\n",
       "    }\n",
       "</style>\n",
       "<table border=\"1\" class=\"dataframe\">\n",
       "  <thead>\n",
       "    <tr style=\"text-align: right;\">\n",
       "      <th></th>\n",
       "      <th>dt</th>\n",
       "      <th>weekday</th>\n",
       "      <th>year</th>\n",
       "      <th>id_driver</th>\n",
       "      <th>id_carrier_number</th>\n",
       "      <th>dim_carrier_type</th>\n",
       "      <th>dim_carrier_company_name</th>\n",
       "      <th>home_base_city</th>\n",
       "      <th>home_base_state</th>\n",
       "      <th>carrier_trucks</th>\n",
       "      <th>...</th>\n",
       "      <th>most_recent_load_date</th>\n",
       "      <th>load_day</th>\n",
       "      <th>loads</th>\n",
       "      <th>marketplace_loads_otr</th>\n",
       "      <th>marketplace_loads_atlas</th>\n",
       "      <th>marketplace_loads</th>\n",
       "      <th>brokerage_loads_otr</th>\n",
       "      <th>brokerage_loads_atlas</th>\n",
       "      <th>brokerage_loads</th>\n",
       "      <th>total_loads</th>\n",
       "    </tr>\n",
       "  </thead>\n",
       "  <tbody>\n",
       "    <tr>\n",
       "      <th>0</th>\n",
       "      <td>2019-12-16</td>\n",
       "      <td>Monday</td>\n",
       "      <td>2019</td>\n",
       "      <td>21350</td>\n",
       "      <td>U0109015</td>\n",
       "      <td>Owner Operator</td>\n",
       "      <td>CA&amp;F TRUCKING</td>\n",
       "      <td>Maywood</td>\n",
       "      <td>CA</td>\n",
       "      <td>[\"poweronly\"]</td>\n",
       "      <td>...</td>\n",
       "      <td>2021-02-17</td>\n",
       "      <td>2019-12-16</td>\n",
       "      <td>2</td>\n",
       "      <td>0</td>\n",
       "      <td>438</td>\n",
       "      <td>438</td>\n",
       "      <td>0</td>\n",
       "      <td>45</td>\n",
       "      <td>45</td>\n",
       "      <td>483</td>\n",
       "    </tr>\n",
       "    <tr>\n",
       "      <th>1</th>\n",
       "      <td>2021-01-15</td>\n",
       "      <td>Friday</td>\n",
       "      <td>2021</td>\n",
       "      <td>36437</td>\n",
       "      <td>C0097727</td>\n",
       "      <td>Fleet</td>\n",
       "      <td>New opportunities inc</td>\n",
       "      <td>Los Angeles</td>\n",
       "      <td>CA</td>\n",
       "      <td>[\"poweronly\", \"boxtruck\"]</td>\n",
       "      <td>...</td>\n",
       "      <td>2021-02-03</td>\n",
       "      <td>2021-01-15</td>\n",
       "      <td>1</td>\n",
       "      <td>2</td>\n",
       "      <td>72</td>\n",
       "      <td>74</td>\n",
       "      <td>0</td>\n",
       "      <td>1</td>\n",
       "      <td>1</td>\n",
       "      <td>75</td>\n",
       "    </tr>\n",
       "    <tr>\n",
       "      <th>2</th>\n",
       "      <td>2019-12-26</td>\n",
       "      <td>Thursday</td>\n",
       "      <td>2019</td>\n",
       "      <td>19323</td>\n",
       "      <td>U0107081</td>\n",
       "      <td>Owner Operator</td>\n",
       "      <td>RAS</td>\n",
       "      <td>Compton</td>\n",
       "      <td>CA</td>\n",
       "      <td>[\"poweronly\"]</td>\n",
       "      <td>...</td>\n",
       "      <td>2020-09-25</td>\n",
       "      <td>2019-12-26</td>\n",
       "      <td>1</td>\n",
       "      <td>0</td>\n",
       "      <td>180</td>\n",
       "      <td>180</td>\n",
       "      <td>0</td>\n",
       "      <td>2</td>\n",
       "      <td>2</td>\n",
       "      <td>182</td>\n",
       "    </tr>\n",
       "    <tr>\n",
       "      <th>3</th>\n",
       "      <td>2021-02-10</td>\n",
       "      <td>Wednesday</td>\n",
       "      <td>2021</td>\n",
       "      <td>34809</td>\n",
       "      <td>C0094651</td>\n",
       "      <td>Fleet</td>\n",
       "      <td>NFS asset Drayage</td>\n",
       "      <td>Lynwood</td>\n",
       "      <td>CA</td>\n",
       "      <td>[\"poweronly\", \"dryvan\"]</td>\n",
       "      <td>...</td>\n",
       "      <td>2021-02-17</td>\n",
       "      <td>2021-02-10</td>\n",
       "      <td>3</td>\n",
       "      <td>0</td>\n",
       "      <td>0</td>\n",
       "      <td>0</td>\n",
       "      <td>0</td>\n",
       "      <td>0</td>\n",
       "      <td>0</td>\n",
       "      <td>62</td>\n",
       "    </tr>\n",
       "    <tr>\n",
       "      <th>4</th>\n",
       "      <td>2017-07-24</td>\n",
       "      <td>Monday</td>\n",
       "      <td>2017</td>\n",
       "      <td>4728</td>\n",
       "      <td>U0094376</td>\n",
       "      <td>Owner Operator</td>\n",
       "      <td>joes transportation</td>\n",
       "      <td>Norco</td>\n",
       "      <td>CA</td>\n",
       "      <td>[\"dryvan\"]</td>\n",
       "      <td>...</td>\n",
       "      <td>2017-10-11</td>\n",
       "      <td>2017-07-24</td>\n",
       "      <td>2</td>\n",
       "      <td>57</td>\n",
       "      <td>0</td>\n",
       "      <td>57</td>\n",
       "      <td>314</td>\n",
       "      <td>0</td>\n",
       "      <td>314</td>\n",
       "      <td>371</td>\n",
       "    </tr>\n",
       "  </tbody>\n",
       "</table>\n",
       "<p>5 rows × 30 columns</p>\n",
       "</div>"
      ],
      "text/plain": [
       "           dt    weekday  year  id_driver id_carrier_number dim_carrier_type  \\\n",
       "0  2019-12-16     Monday  2019      21350          U0109015   Owner Operator   \n",
       "1  2021-01-15     Friday  2021      36437          C0097727            Fleet   \n",
       "2  2019-12-26   Thursday  2019      19323          U0107081   Owner Operator   \n",
       "3  2021-02-10  Wednesday  2021      34809          C0094651            Fleet   \n",
       "4  2017-07-24     Monday  2017       4728          U0094376   Owner Operator   \n",
       "\n",
       "  dim_carrier_company_name home_base_city home_base_state  \\\n",
       "0            CA&F TRUCKING        Maywood              CA   \n",
       "1   New opportunities inc     Los Angeles              CA   \n",
       "2                      RAS        Compton              CA   \n",
       "3        NFS asset Drayage        Lynwood              CA   \n",
       "4      joes transportation          Norco              CA   \n",
       "\n",
       "              carrier_trucks  ...  most_recent_load_date    load_day loads  \\\n",
       "0              [\"poweronly\"]  ...             2021-02-17  2019-12-16     2   \n",
       "1  [\"poweronly\", \"boxtruck\"]  ...             2021-02-03  2021-01-15     1   \n",
       "2              [\"poweronly\"]  ...             2020-09-25  2019-12-26     1   \n",
       "3    [\"poweronly\", \"dryvan\"]  ...             2021-02-17  2021-02-10     3   \n",
       "4                 [\"dryvan\"]  ...             2017-10-11  2017-07-24     2   \n",
       "\n",
       "  marketplace_loads_otr marketplace_loads_atlas marketplace_loads  \\\n",
       "0                     0                     438               438   \n",
       "1                     2                      72                74   \n",
       "2                     0                     180               180   \n",
       "3                     0                       0                 0   \n",
       "4                    57                       0                57   \n",
       "\n",
       "   brokerage_loads_otr brokerage_loads_atlas brokerage_loads total_loads  \n",
       "0                    0                    45              45         483  \n",
       "1                    0                     1               1          75  \n",
       "2                    0                     2               2         182  \n",
       "3                    0                     0               0          62  \n",
       "4                  314                     0             314         371  \n",
       "\n",
       "[5 rows x 30 columns]"
      ]
     },
     "metadata": {},
     "output_type": "display_data"
    }
   ],
   "source": [
    "df = pd.read_csv(csv_path_1) # load the pandas dataframe\n",
    "df_score = pd.read_csv(csv_path_2)\n",
    "initial_cols_to_drop = [\"Unnamed: 0\",\"Unnamed: 0.1\", \"period\", \"test\", \"recent_date\", \"date\"] \n",
    "for col_name in initial_cols_to_drop: # drops columns that aren't supposed to be in dataset\n",
    "    try:\n",
    "        df = df.drop(columns=[col_name])\n",
    "        df_score = df_score.drop(columns=[col_name])\n",
    "    except:\n",
    "        continue\n",
    "#df = df.rename(columns={\"Unnamed: 0.1\": \"TODO_FIND_COLUMN_NAME_2\"})\n",
    "display(df.head())"
   ]
  },
  {
   "cell_type": "code",
   "execution_count": 325,
   "metadata": {},
   "outputs": [
    {
     "data": {
      "text/html": [
       "<div>\n",
       "<style scoped>\n",
       "    .dataframe tbody tr th:only-of-type {\n",
       "        vertical-align: middle;\n",
       "    }\n",
       "\n",
       "    .dataframe tbody tr th {\n",
       "        vertical-align: top;\n",
       "    }\n",
       "\n",
       "    .dataframe thead th {\n",
       "        text-align: right;\n",
       "    }\n",
       "</style>\n",
       "<table border=\"1\" class=\"dataframe\">\n",
       "  <thead>\n",
       "    <tr style=\"text-align: right;\">\n",
       "      <th></th>\n",
       "      <th>year</th>\n",
       "      <th>id_driver</th>\n",
       "      <th>num_trucks</th>\n",
       "      <th>days_signup_to_approval</th>\n",
       "      <th>loads</th>\n",
       "      <th>marketplace_loads_otr</th>\n",
       "      <th>marketplace_loads_atlas</th>\n",
       "      <th>marketplace_loads</th>\n",
       "      <th>brokerage_loads_otr</th>\n",
       "      <th>brokerage_loads_atlas</th>\n",
       "      <th>brokerage_loads</th>\n",
       "      <th>total_loads</th>\n",
       "    </tr>\n",
       "  </thead>\n",
       "  <tbody>\n",
       "    <tr>\n",
       "      <th>count</th>\n",
       "      <td>83414.000000</td>\n",
       "      <td>83414.000000</td>\n",
       "      <td>83344.000000</td>\n",
       "      <td>71124.000000</td>\n",
       "      <td>83414.000000</td>\n",
       "      <td>83414.000000</td>\n",
       "      <td>83414.000000</td>\n",
       "      <td>83414.000000</td>\n",
       "      <td>83414.000000</td>\n",
       "      <td>83414.000000</td>\n",
       "      <td>83414.000000</td>\n",
       "      <td>83414.000000</td>\n",
       "    </tr>\n",
       "    <tr>\n",
       "      <th>mean</th>\n",
       "      <td>2018.960930</td>\n",
       "      <td>18222.414954</td>\n",
       "      <td>22.582921</td>\n",
       "      <td>298.752489</td>\n",
       "      <td>2.076270</td>\n",
       "      <td>29.477762</td>\n",
       "      <td>71.579675</td>\n",
       "      <td>101.057436</td>\n",
       "      <td>148.258422</td>\n",
       "      <td>13.073021</td>\n",
       "      <td>161.331443</td>\n",
       "      <td>266.502661</td>\n",
       "    </tr>\n",
       "    <tr>\n",
       "      <th>std</th>\n",
       "      <td>1.359343</td>\n",
       "      <td>11667.704926</td>\n",
       "      <td>48.829719</td>\n",
       "      <td>390.345107</td>\n",
       "      <td>2.672163</td>\n",
       "      <td>88.171940</td>\n",
       "      <td>194.532776</td>\n",
       "      <td>214.502147</td>\n",
       "      <td>415.978060</td>\n",
       "      <td>42.241592</td>\n",
       "      <td>413.792137</td>\n",
       "      <td>448.806175</td>\n",
       "    </tr>\n",
       "    <tr>\n",
       "      <th>min</th>\n",
       "      <td>2015.000000</td>\n",
       "      <td>20.000000</td>\n",
       "      <td>1.000000</td>\n",
       "      <td>0.000000</td>\n",
       "      <td>1.000000</td>\n",
       "      <td>0.000000</td>\n",
       "      <td>0.000000</td>\n",
       "      <td>0.000000</td>\n",
       "      <td>0.000000</td>\n",
       "      <td>0.000000</td>\n",
       "      <td>0.000000</td>\n",
       "      <td>1.000000</td>\n",
       "    </tr>\n",
       "    <tr>\n",
       "      <th>25%</th>\n",
       "      <td>2018.000000</td>\n",
       "      <td>7890.000000</td>\n",
       "      <td>1.000000</td>\n",
       "      <td>0.000000</td>\n",
       "      <td>1.000000</td>\n",
       "      <td>0.000000</td>\n",
       "      <td>0.000000</td>\n",
       "      <td>0.000000</td>\n",
       "      <td>0.000000</td>\n",
       "      <td>0.000000</td>\n",
       "      <td>5.000000</td>\n",
       "      <td>37.000000</td>\n",
       "    </tr>\n",
       "    <tr>\n",
       "      <th>50%</th>\n",
       "      <td>2019.000000</td>\n",
       "      <td>16299.000000</td>\n",
       "      <td>4.000000</td>\n",
       "      <td>61.000000</td>\n",
       "      <td>1.000000</td>\n",
       "      <td>2.000000</td>\n",
       "      <td>0.000000</td>\n",
       "      <td>13.000000</td>\n",
       "      <td>15.000000</td>\n",
       "      <td>0.000000</td>\n",
       "      <td>37.000000</td>\n",
       "      <td>110.000000</td>\n",
       "    </tr>\n",
       "    <tr>\n",
       "      <th>75%</th>\n",
       "      <td>2020.000000</td>\n",
       "      <td>28974.000000</td>\n",
       "      <td>14.000000</td>\n",
       "      <td>497.000000</td>\n",
       "      <td>2.000000</td>\n",
       "      <td>23.000000</td>\n",
       "      <td>18.000000</td>\n",
       "      <td>94.000000</td>\n",
       "      <td>112.000000</td>\n",
       "      <td>1.000000</td>\n",
       "      <td>135.000000</td>\n",
       "      <td>325.000000</td>\n",
       "    </tr>\n",
       "    <tr>\n",
       "      <th>max</th>\n",
       "      <td>2021.000000</td>\n",
       "      <td>38125.000000</td>\n",
       "      <td>195.000000</td>\n",
       "      <td>1653.000000</td>\n",
       "      <td>129.000000</td>\n",
       "      <td>902.000000</td>\n",
       "      <td>1324.000000</td>\n",
       "      <td>1348.000000</td>\n",
       "      <td>4266.000000</td>\n",
       "      <td>371.000000</td>\n",
       "      <td>4266.000000</td>\n",
       "      <td>4266.000000</td>\n",
       "    </tr>\n",
       "  </tbody>\n",
       "</table>\n",
       "</div>"
      ],
      "text/plain": [
       "               year     id_driver    num_trucks  days_signup_to_approval  \\\n",
       "count  83414.000000  83414.000000  83344.000000             71124.000000   \n",
       "mean    2018.960930  18222.414954     22.582921               298.752489   \n",
       "std        1.359343  11667.704926     48.829719               390.345107   \n",
       "min     2015.000000     20.000000      1.000000                 0.000000   \n",
       "25%     2018.000000   7890.000000      1.000000                 0.000000   \n",
       "50%     2019.000000  16299.000000      4.000000                61.000000   \n",
       "75%     2020.000000  28974.000000     14.000000               497.000000   \n",
       "max     2021.000000  38125.000000    195.000000              1653.000000   \n",
       "\n",
       "              loads  marketplace_loads_otr  marketplace_loads_atlas  \\\n",
       "count  83414.000000           83414.000000             83414.000000   \n",
       "mean       2.076270              29.477762                71.579675   \n",
       "std        2.672163              88.171940               194.532776   \n",
       "min        1.000000               0.000000                 0.000000   \n",
       "25%        1.000000               0.000000                 0.000000   \n",
       "50%        1.000000               2.000000                 0.000000   \n",
       "75%        2.000000              23.000000                18.000000   \n",
       "max      129.000000             902.000000              1324.000000   \n",
       "\n",
       "       marketplace_loads  brokerage_loads_otr  brokerage_loads_atlas  \\\n",
       "count       83414.000000         83414.000000           83414.000000   \n",
       "mean          101.057436           148.258422              13.073021   \n",
       "std           214.502147           415.978060              42.241592   \n",
       "min             0.000000             0.000000               0.000000   \n",
       "25%             0.000000             0.000000               0.000000   \n",
       "50%            13.000000            15.000000               0.000000   \n",
       "75%            94.000000           112.000000               1.000000   \n",
       "max          1348.000000          4266.000000             371.000000   \n",
       "\n",
       "       brokerage_loads   total_loads  \n",
       "count     83414.000000  83414.000000  \n",
       "mean        161.331443    266.502661  \n",
       "std         413.792137    448.806175  \n",
       "min           0.000000      1.000000  \n",
       "25%           5.000000     37.000000  \n",
       "50%          37.000000    110.000000  \n",
       "75%         135.000000    325.000000  \n",
       "max        4266.000000   4266.000000  "
      ]
     },
     "execution_count": 325,
     "metadata": {},
     "output_type": "execute_result"
    }
   ],
   "source": [
    "df.describe()"
   ]
  },
  {
   "cell_type": "code",
   "execution_count": 326,
   "metadata": {},
   "outputs": [
    {
     "name": "stdout",
     "output_type": "stream",
     "text": [
      "<class 'pandas.core.frame.DataFrame'>\n",
      "RangeIndex: 83414 entries, 0 to 83413\n",
      "Data columns (total 30 columns):\n",
      " #   Column                    Non-Null Count  Dtype  \n",
      "---  ------                    --------------  -----  \n",
      " 0   dt                        83414 non-null  object \n",
      " 1   weekday                   83414 non-null  object \n",
      " 2   year                      83414 non-null  int64  \n",
      " 3   id_driver                 83414 non-null  int64  \n",
      " 4   id_carrier_number         83414 non-null  object \n",
      " 5   dim_carrier_type          83414 non-null  object \n",
      " 6   dim_carrier_company_name  83365 non-null  object \n",
      " 7   home_base_city            83369 non-null  object \n",
      " 8   home_base_state           83369 non-null  object \n",
      " 9   carrier_trucks            83414 non-null  object \n",
      " 10  num_trucks                83344 non-null  float64\n",
      " 11  interested_in_drayage     83414 non-null  object \n",
      " 12  port_qualified            83414 non-null  object \n",
      " 13  signup_source             83414 non-null  object \n",
      " 14  ts_signup                 83414 non-null  object \n",
      " 15  ts_first_approved         71124 non-null  object \n",
      " 16  days_signup_to_approval   71124 non-null  float64\n",
      " 17  driver_with_twic          83414 non-null  object \n",
      " 18  dim_preferred_lanes       3412 non-null   object \n",
      " 19  first_load_date           83414 non-null  object \n",
      " 20  most_recent_load_date     83414 non-null  object \n",
      " 21  load_day                  83414 non-null  object \n",
      " 22  loads                     83414 non-null  int64  \n",
      " 23  marketplace_loads_otr     83414 non-null  int64  \n",
      " 24  marketplace_loads_atlas   83414 non-null  int64  \n",
      " 25  marketplace_loads         83414 non-null  int64  \n",
      " 26  brokerage_loads_otr       83414 non-null  int64  \n",
      " 27  brokerage_loads_atlas     83414 non-null  int64  \n",
      " 28  brokerage_loads           83414 non-null  int64  \n",
      " 29  total_loads               83414 non-null  int64  \n",
      "dtypes: float64(2), int64(10), object(18)\n",
      "memory usage: 19.1+ MB\n"
     ]
    }
   ],
   "source": [
    "df.info()"
   ]
  },
  {
   "cell_type": "markdown",
   "metadata": {},
   "source": [
    "# 1. Generate Labels"
   ]
  },
  {
   "cell_type": "code",
   "execution_count": 327,
   "metadata": {},
   "outputs": [],
   "source": [
    "# converts date from csv to a python datetime object making it easier to work with\n",
    "def convert_dates(df):\n",
    "    dates_columns = ['most_recent_load_date', 'first_load_date', 'load_day', 'dt']\n",
    "    for col_name in dates_columns:\n",
    "        try:\n",
    "            df[col_name] = pd.to_datetime(df[col_name], format='%Y-%m-%d')\n",
    "        except:\n",
    "            continue\n",
    "\n",
    "convert_dates(df)\n",
    "convert_dates(df_score)"
   ]
  },
  {
   "cell_type": "code",
   "execution_count": 328,
   "metadata": {},
   "outputs": [
    {
     "data": {
      "text/plain": [
       "0   2021-02-17\n",
       "1   2021-02-03\n",
       "2   2020-09-25\n",
       "3   2021-02-17\n",
       "4   2017-10-11\n",
       "Name: most_recent_load_date, dtype: datetime64[ns]"
      ]
     },
     "execution_count": 328,
     "metadata": {},
     "output_type": "execute_result"
    }
   ],
   "source": [
    "df['most_recent_load_date'].head()"
   ]
  },
  {
   "cell_type": "code",
   "execution_count": 329,
   "metadata": {},
   "outputs": [
    {
     "name": "stdout",
     "output_type": "stream",
     "text": [
      "325.0\n",
      "2021-02-14 00:00:00\n"
     ]
    }
   ],
   "source": [
    "total_loads75 = df.total_loads.quantile(0.75) # finds 75th percentile of loads\n",
    "most_recent_load_date75 = df.most_recent_load_date.quantile(0.75) # finds 75th percentile of most recent load date\n",
    "\n",
    "print(total_loads75)\n",
    "print(most_recent_load_date75)\n",
    "\n",
    "\n",
    "# Manual Check\n",
    "# sorted_dts = sorted(list(df.most_recent_load_date))\n",
    "# quartile_estimate_index = int(len(sorted_dts)*0.75)\n",
    "# print(\"SORTED INDEX\", sorted_dts[quartile_estimate_index])"
   ]
  },
  {
   "cell_type": "code",
   "execution_count": 330,
   "metadata": {},
   "outputs": [],
   "source": [
    "# new_labels = {\"label\": {}}\n",
    "num_days_worked_dict = {}\n",
    "\n",
    "for index, row in df.iterrows(): # changes the labels in the label columns\n",
    "    # checks if the load and most recent load date are in the 75th percentile\n",
    "    if row[\"total_loads\"] >= total_loads75 and row[\"most_recent_load_date\"] >= most_recent_load_date75:\n",
    "        df.at[index, \"label\"] = 1\n",
    "    else:\n",
    "        df.at[index, \"label\"] = 0"
   ]
  },
  {
   "cell_type": "code",
   "execution_count": 331,
   "metadata": {},
   "outputs": [
    {
     "name": "stdout",
     "output_type": "stream",
     "text": [
      "Unique Values :  [0. 1.]\n",
      "Occurrence Count :  [73021 10393]\n"
     ]
    }
   ],
   "source": [
    "uniqueValues, occurCount = np.unique(np.array(df[\"label\"]), return_counts=True)\n",
    "print(\"Unique Values : \" , uniqueValues)\n",
    "print(\"Occurrence Count : \", occurCount)"
   ]
  },
  {
   "cell_type": "code",
   "execution_count": 332,
   "metadata": {},
   "outputs": [],
   "source": [
    "loc_arr = []\n",
    "for index, row in df.iterrows():\n",
    "    if pd.isnull(row[\"home_base_city\"]) != True and pd.isnull(row[\"home_base_state\"]) != True:\n",
    "        if (row[\"home_base_city\"], row[\"home_base_state\"]) not in loc_arr:\n",
    "            loc_arr.append((row[\"home_base_city\"], row[\"home_base_state\"]))\n",
    "            \n",
    "# for index, row in df.iterrows():\n",
    "#     try:\n",
    "#         x = len(row[\"home_base_city\"])\n",
    "#         x = len(row[\"home_base_state\"])\n",
    "#     except:\n",
    "#         index_num = random.randint(0, len(loc_arr)-1)\n",
    "#         df.at[index, \"home_base_city\"] = loc_arr[index_num][0]\n",
    "#         df.at[index, \"home_base_state\"] = loc_arr[index_num][1]"
   ]
  },
  {
   "cell_type": "code",
   "execution_count": 333,
   "metadata": {},
   "outputs": [
    {
     "name": "stdout",
     "output_type": "stream",
     "text": [
      "<class 'pandas.core.frame.DataFrame'>\n",
      "RangeIndex: 83414 entries, 0 to 83413\n",
      "Data columns (total 31 columns):\n",
      " #   Column                    Non-Null Count  Dtype         \n",
      "---  ------                    --------------  -----         \n",
      " 0   dt                        83414 non-null  datetime64[ns]\n",
      " 1   weekday                   83414 non-null  object        \n",
      " 2   year                      83414 non-null  int64         \n",
      " 3   id_driver                 83414 non-null  int64         \n",
      " 4   id_carrier_number         83414 non-null  object        \n",
      " 5   dim_carrier_type          83414 non-null  object        \n",
      " 6   dim_carrier_company_name  83365 non-null  object        \n",
      " 7   home_base_city            83369 non-null  object        \n",
      " 8   home_base_state           83369 non-null  object        \n",
      " 9   carrier_trucks            83414 non-null  object        \n",
      " 10  num_trucks                83344 non-null  float64       \n",
      " 11  interested_in_drayage     83414 non-null  object        \n",
      " 12  port_qualified            83414 non-null  object        \n",
      " 13  signup_source             83414 non-null  object        \n",
      " 14  ts_signup                 83414 non-null  object        \n",
      " 15  ts_first_approved         71124 non-null  object        \n",
      " 16  days_signup_to_approval   71124 non-null  float64       \n",
      " 17  driver_with_twic          83414 non-null  object        \n",
      " 18  dim_preferred_lanes       3412 non-null   object        \n",
      " 19  first_load_date           83414 non-null  datetime64[ns]\n",
      " 20  most_recent_load_date     83414 non-null  datetime64[ns]\n",
      " 21  load_day                  83414 non-null  datetime64[ns]\n",
      " 22  loads                     83414 non-null  int64         \n",
      " 23  marketplace_loads_otr     83414 non-null  int64         \n",
      " 24  marketplace_loads_atlas   83414 non-null  int64         \n",
      " 25  marketplace_loads         83414 non-null  int64         \n",
      " 26  brokerage_loads_otr       83414 non-null  int64         \n",
      " 27  brokerage_loads_atlas     83414 non-null  int64         \n",
      " 28  brokerage_loads           83414 non-null  int64         \n",
      " 29  total_loads               83414 non-null  int64         \n",
      " 30  label                     83414 non-null  float64       \n",
      "dtypes: datetime64[ns](4), float64(3), int64(10), object(14)\n",
      "memory usage: 19.7+ MB\n"
     ]
    }
   ],
   "source": [
    "df.info()"
   ]
  },
  {
   "cell_type": "code",
   "execution_count": 334,
   "metadata": {},
   "outputs": [],
   "source": [
    "groups = df.groupby(\"id_driver\")"
   ]
  },
  {
   "cell_type": "code",
   "execution_count": 335,
   "metadata": {},
   "outputs": [],
   "source": [
    "# NO: dt, weekday, year, id_carrier_number, dim_preferred_lanes, load_day, loads\n",
    "new_arr = []\n",
    "for key, group in groups:\n",
    "    group.sort_values(by=\"load_day\", ascending=False, inplace=True)\n",
    "    temp_arr = []\n",
    "    temp_arr.append(key)\n",
    "    \n",
    "    if group[\"dim_carrier_type\"].nunique() == 2:\n",
    "        temp_arr.append(\"Both\")\n",
    "    elif group[\"dim_carrier_type\"].nunique() == 0:\n",
    "        temp_arr.append(None)\n",
    "    else:\n",
    "        temp_arr.append((group[\"dim_carrier_type\"].iloc[0]))\n",
    "    \n",
    "    \n",
    "    idxmax_cols = [\"dim_carrier_company_name\", \n",
    "                   \"carrier_trucks\", \"signup_source\", \"ts_signup\", \"ts_first_approved\",\n",
    "                  \"days_signup_to_approval\"] #\"home_base_city\", \"home_base_state\",\n",
    "    \n",
    "    for col in idxmax_cols:\n",
    "        try:\n",
    "            temp_arr.append(group[col].value_counts().dropna(how=\"any\").idxmax())\n",
    "        except:\n",
    "            \n",
    "            temp_arr.append(None)\n",
    "    \n",
    "    try:\n",
    "        x = len(group[\"home_base_city\"].dropna(how=\"any\").iloc[0])\n",
    "        x = len(group[\"home_base_state\"].dropna(how=\"any\").iloc[0])\n",
    "        temp_arr.append(group[\"home_base_city\"].dropna(how=\"any\").iloc[0])\n",
    "        temp_arr.append(group[\"home_base_state\"].dropna(how=\"any\").iloc[0])\n",
    "    except:\n",
    "        index_num = random.randint(0, len(loc_arr)-1)\n",
    "        temp_arr.append(loc_arr[index_num][0])\n",
    "        temp_arr.append(loc_arr[index_num][1])\n",
    "        \n",
    "    \n",
    "    \n",
    "    try:\n",
    "        temp_arr.append(group[\"num_trucks\"].dropna(how=\"any\").mean())\n",
    "    except:\n",
    "        temp_arr.append(None)\n",
    "        \n",
    "    iloc_cols = [\"interested_in_drayage\", \"port_qualified\", \"driver_with_twic\", \n",
    "                 \"first_load_date\", \"most_recent_load_date\", \"marketplace_loads_otr\", \n",
    "                 \"marketplace_loads_atlas\", \"marketplace_loads\", \"brokerage_loads_otr\",\n",
    "                 \"brokerage_loads_atlas\", \"brokerage_loads\", \"total_loads\"]\n",
    "    for col in iloc_cols:\n",
    "        try:\n",
    "            temp_arr.append(group[col].dropna(how=\"any\").iloc[0])\n",
    "        except:\n",
    "            temp_arr.append(None)\n",
    "    \n",
    "    temp_arr.append(group.shape[0])\n",
    "    \n",
    "    temp_arr.append(((pd.to_datetime(date.today()) - group[\"most_recent_load_date\"].dropna(how=\"any\").iloc[0]).days) * (-1))\n",
    "    \n",
    "    temp_arr.append(group[\"label\"].value_counts().dropna(how=\"any\").idxmax())\n",
    "    \n",
    "    new_arr.append(np.array(temp_arr))"
   ]
  },
  {
   "cell_type": "code",
   "execution_count": 336,
   "metadata": {},
   "outputs": [],
   "source": [
    "column_names = [\"id_driver\", \"dim_carrier_type\", \"dim_carrier_company_name\", \n",
    "                \"carrier_trucks\", \"signup_source\", \"ts_signup\", \"ts_first_approved\",\n",
    "                \"days_signup_to_approval\", \"home_base_city\", \"home_base_state\", \"num_trucks\", \n",
    "                \"interested_in_drayage\", \"port_qualified\", \"driver_with_twic\", \n",
    "                \"first_load_date\", \"most_recent_load_date\", \"marketplace_loads_otr\", \n",
    "                \"marketplace_loads_atlas\", \"marketplace_loads\", \"brokerage_loads_otr\",\n",
    "                \"brokerage_loads_atlas\", \"brokerage_loads\", \"total_loads\", \"num_trips_made\", \n",
    "                \"days_since_last_load\", \"label\"]\n",
    "\n",
    "df = pd.DataFrame(np.array(new_arr), columns=column_names)"
   ]
  },
  {
   "cell_type": "code",
   "execution_count": 337,
   "metadata": {},
   "outputs": [],
   "source": [
    "# convert = [\"id_driver\", \"days_signup_to_approval\", \"marketplace_loads_otr\", \n",
    "#                \"marketplace_loads_atlas\", \"marketplace_loads\", \"brokerage_loads_otr\",\n",
    "#                \"brokerage_loads_atlas\", \"brokerage_loads\", \"total_loads\", \"num_trips_made\", \"label\",\n",
    "#                \"num_trucks\", \"dim_carrier_type\", \"dim_carrier_company_name\", \"home_base_city\", \"home_base_state\",\n",
    "#                \"interested_in_drayage\", \"port_qualified\", \"signup_source\", \"driver_with_twic\"]\n",
    "for col in column_names:\n",
    "    try:\n",
    "        df[col] = df[col].convert_dtypes()\n",
    "    except:\n",
    "        continue"
   ]
  },
  {
   "cell_type": "code",
   "execution_count": 338,
   "metadata": {},
   "outputs": [],
   "source": [
    "# # NO: dt, weekday, year, id_carrier_number, dim_preferred_lanes, load_day, loads\n",
    "new_dict = {}\n",
    "label_dict = {}\n",
    "most_recent_date_arr = []\n",
    "num_trips_arr = []\n",
    "for key, group in groups:\n",
    "    group.sort_values(by=\"load_day\", ascending=False, inplace=True)\n",
    "    if key not in new_dict:\n",
    "        try:\n",
    "            new_dict[key] = (group[\"load_day\"].dropna(how=\"any\").iloc[0], group.shape[0])\n",
    "        except:\n",
    "            new_dict[key] = None\n",
    "        \n",
    "        try:\n",
    "            label_dict[key] = group[\"label\"].dropna(how=\"any\").iloc[0]\n",
    "        except:\n",
    "            label_dict[key] = 1\n",
    "\n",
    "# for index, row in df.iterrows():\n",
    "#     most_recent_date_arr.append(new_dict[row[\"id_driver\"]][0])\n",
    "#     num_trips_arr.append(new_dict[row[\"id_driver\"]][1])\n",
    "# df[\"num_trips_made\"] = np.array(num_trips_arr)"
   ]
  },
  {
   "cell_type": "code",
   "execution_count": 339,
   "metadata": {},
   "outputs": [
    {
     "name": "stdout",
     "output_type": "stream",
     "text": [
      "<class 'pandas.core.frame.DataFrame'>\n",
      "RangeIndex: 5291 entries, 0 to 5290\n",
      "Data columns (total 26 columns):\n",
      " #   Column                    Non-Null Count  Dtype         \n",
      "---  ------                    --------------  -----         \n",
      " 0   id_driver                 5291 non-null   Int64         \n",
      " 1   dim_carrier_type          5291 non-null   string        \n",
      " 2   dim_carrier_company_name  5284 non-null   string        \n",
      " 3   carrier_trucks            5291 non-null   string        \n",
      " 4   signup_source             5291 non-null   string        \n",
      " 5   ts_signup                 5291 non-null   string        \n",
      " 6   ts_first_approved         3962 non-null   string        \n",
      " 7   days_signup_to_approval   3962 non-null   Int64         \n",
      " 8   home_base_city            5291 non-null   string        \n",
      " 9   home_base_state           5291 non-null   string        \n",
      " 10  num_trucks                5249 non-null   float64       \n",
      " 11  interested_in_drayage     5291 non-null   string        \n",
      " 12  port_qualified            5291 non-null   string        \n",
      " 13  driver_with_twic          5291 non-null   string        \n",
      " 14  first_load_date           5291 non-null   datetime64[ns]\n",
      " 15  most_recent_load_date     5291 non-null   datetime64[ns]\n",
      " 16  marketplace_loads_otr     5291 non-null   Int64         \n",
      " 17  marketplace_loads_atlas   5291 non-null   Int64         \n",
      " 18  marketplace_loads         5291 non-null   Int64         \n",
      " 19  brokerage_loads_otr       5291 non-null   Int64         \n",
      " 20  brokerage_loads_atlas     5291 non-null   Int64         \n",
      " 21  brokerage_loads           5291 non-null   Int64         \n",
      " 22  total_loads               5291 non-null   Int64         \n",
      " 23  num_trips_made            5291 non-null   Int64         \n",
      " 24  days_since_last_load      5291 non-null   Int64         \n",
      " 25  label                     5291 non-null   Int64         \n",
      "dtypes: Int64(12), datetime64[ns](2), float64(1), string(11)\n",
      "memory usage: 1.1 MB\n"
     ]
    }
   ],
   "source": [
    "df.info()"
   ]
  },
  {
   "cell_type": "code",
   "execution_count": 340,
   "metadata": {},
   "outputs": [
    {
     "data": {
      "text/plain": [
       "count    5291.000000\n",
       "mean        0.010395\n",
       "std         0.101434\n",
       "min         0.000000\n",
       "25%         0.000000\n",
       "50%         0.000000\n",
       "75%         0.000000\n",
       "max         1.000000\n",
       "Name: label, dtype: float64"
      ]
     },
     "execution_count": 340,
     "metadata": {},
     "output_type": "execute_result"
    }
   ],
   "source": [
    "df[\"label\"].describe()"
   ]
  },
  {
   "cell_type": "code",
   "execution_count": 341,
   "metadata": {},
   "outputs": [],
   "source": [
    "groups = df_score.groupby(\"id_driver\")"
   ]
  },
  {
   "cell_type": "code",
   "execution_count": 342,
   "metadata": {},
   "outputs": [],
   "source": [
    "# NO: dt, weekday, year, id_carrier_number, dim_preferred_lanes, load_day, loads\n",
    "new_arr = []\n",
    "for key, group in groups:\n",
    "    group.sort_values(by=\"load_day\", ascending=False, inplace=True)\n",
    "    temp_arr = []\n",
    "    temp_arr.append(key)\n",
    "    \n",
    "    if group[\"dim_carrier_type\"].nunique() == 2:\n",
    "        temp_arr.append(\"Both\")\n",
    "    elif group[\"dim_carrier_type\"].nunique() == 0:\n",
    "        temp_arr.append(None)\n",
    "    else:\n",
    "        temp_arr.append((group[\"dim_carrier_type\"].iloc[0]))\n",
    "    \n",
    "    \n",
    "    idxmax_cols = [\"dim_carrier_company_name\", \n",
    "                   \"carrier_trucks\", \"signup_source\", \"ts_signup\", \"ts_first_approved\",\n",
    "                  \"days_signup_to_approval\"]\n",
    "    \n",
    "    for col in idxmax_cols:\n",
    "        try:\n",
    "            temp_arr.append(group[col].value_counts().dropna(how=\"any\").idxmax())\n",
    "        except:\n",
    "            temp_arr.append(None)\n",
    "            \n",
    "    \n",
    "    try:\n",
    "        x = len(group[\"home_base_city\"].dropna(how=\"any\").iloc[0])\n",
    "        x = len(group[\"home_base_state\"].dropna(how=\"any\").iloc[0])\n",
    "        temp_arr.append(group[\"home_base_city\"].dropna(how=\"any\").iloc[0])\n",
    "        temp_arr.append(group[\"home_base_state\"].dropna(how=\"any\").iloc[0])\n",
    "    except:\n",
    "        index_num = random.randint(0, len(loc_arr)-1)\n",
    "        temp_arr.append(loc_arr[index_num][0])\n",
    "        temp_arr.append(loc_arr[index_num][1])\n",
    "    \n",
    "    \n",
    "    try:\n",
    "        temp_arr.append(group[\"num_trucks\"].dropna(how=\"any\").mean())\n",
    "    except:\n",
    "        temp_arr.append(None)\n",
    "        \n",
    "    iloc_cols = [\"interested_in_drayage\", \"port_qualified\", \"driver_with_twic\", \n",
    "                 \"first_load_date\", \"load_day\", \"marketplace_loads_otr\", \n",
    "                 \"marketplace_loads_atlas\", \"marketplace_loads\", \"brokerage_loads_otr\",\n",
    "                 \"brokerage_loads_atlas\", \"brokerage_loads\"]\n",
    "    for col in iloc_cols:\n",
    "        try:\n",
    "            temp_arr.append(group[col].dropna(how=\"any\").iloc[0])\n",
    "        except:\n",
    "            temp_arr.append(None)\n",
    "            \n",
    "    temp_arr.append(group.shape[0])\n",
    "    \n",
    "    temp_arr.append(((pd.to_datetime(date.today()) - group[\"load_day\"].dropna(how=\"any\").iloc[0]).days) * (-1))\n",
    "    \n",
    "    new_arr.append(np.array(temp_arr))"
   ]
  },
  {
   "cell_type": "code",
   "execution_count": 343,
   "metadata": {},
   "outputs": [],
   "source": [
    "column_names = [\"id_driver\", \"dim_carrier_type\", \"dim_carrier_company_name\", \n",
    "                \"carrier_trucks\", \"signup_source\", \"ts_signup\", \"ts_first_approved\",\n",
    "                \"days_signup_to_approval\", \"home_base_city\", \"home_base_state\", \"num_trucks\", \n",
    "                \"interested_in_drayage\", \"port_qualified\", \"driver_with_twic\", \n",
    "                \"first_load_date\", \"most_recent_load_date\", \"marketplace_loads_otr\", \n",
    "                \"marketplace_loads_atlas\", \"marketplace_loads\", \"brokerage_loads_otr\",\n",
    "                \"brokerage_loads_atlas\", \"brokerage_loads\", \"num_trips_made\", \n",
    "                \"days_since_last_load\"]\n",
    "\n",
    "df_score = pd.DataFrame(np.array(new_arr), columns=column_names)"
   ]
  },
  {
   "cell_type": "code",
   "execution_count": 344,
   "metadata": {},
   "outputs": [],
   "source": [
    "# convert = [\"id_driver\", \"days_signup_to_approval\", \"marketplace_loads_otr\", \n",
    "#                \"marketplace_loads_atlas\", \"marketplace_loads\", \"brokerage_loads_otr\",\n",
    "#                \"brokerage_loads_atlas\", \"brokerage_loads\", \"num_trips_made\",\n",
    "#                \"num_trucks\", \"dim_carrier_type\", \"dim_carrier_company_name\", \"home_base_city\", \"home_base_state\",\n",
    "#                \"interested_in_drayage\", \"port_qualified\", \"signup_source\", \"driver_with_twic\"]\n",
    "for col in column_names:\n",
    "    try:\n",
    "        df_score[col] = df_score[col].convert_dtypes()\n",
    "    except:\n",
    "        continue"
   ]
  },
  {
   "cell_type": "code",
   "execution_count": 345,
   "metadata": {},
   "outputs": [
    {
     "name": "stdout",
     "output_type": "stream",
     "text": [
      "Not here:  1288\n",
      "Not here:  7594\n",
      "Not here:  7623\n",
      "Not here:  8205\n",
      "Not here:  10359\n",
      "Not here:  11514\n",
      "Not here:  12429\n",
      "Not here:  13711\n",
      "Not here:  13761\n",
      "Not here:  15073\n",
      "Not here:  16642\n",
      "Not here:  20357\n",
      "Not here:  26545\n",
      "Not here:  29070\n",
      "Not here:  29653\n",
      "Not here:  31557\n",
      "Not here:  31873\n",
      "Not here:  35563\n",
      "Not here:  35572\n"
     ]
    }
   ],
   "source": [
    "# # NO: dt, weekday, year, id_carrier_number, dim_preferred_lanes, load_day, loads\n",
    "new_dict = {}\n",
    "most_recent_date_arr = []\n",
    "num_trips_arr = []\n",
    "score_labels = []\n",
    "for key, group in groups:\n",
    "    group.sort_values(by=\"load_day\", ascending=False, inplace=True)\n",
    "    if key not in new_dict:\n",
    "        try:\n",
    "            new_dict[key] = (group[\"load_day\"].dropna(how=\"any\").iloc[0], group.shape[0])\n",
    "        except:\n",
    "            new_dict[key] = None\n",
    "\n",
    "for index, row in df_score.iterrows():\n",
    "    most_recent_date_arr.append(new_dict[row[\"id_driver\"]][0])\n",
    "    num_trips_arr.append(new_dict[row[\"id_driver\"]][1])\n",
    "    if row[\"id_driver\"] in label_dict:\n",
    "        score_labels.append(label_dict[row[\"id_driver\"]])\n",
    "    else:\n",
    "        print(\"Not here: \", row[\"id_driver\"])\n",
    "        rand_num = random.randint(0, 1000)\n",
    "        if rand_num <= 125:\n",
    "            score_labels.append(1)\n",
    "            label_dict[row[\"id_driver\"]] = 1\n",
    "        else:\n",
    "            score_labels.append(0)\n",
    "            label_dict[row[\"id_driver\"]] = 0\n",
    "\n",
    "score_labels = np.array(score_labels)\n",
    "# df_score[\"most_recent_load_date\"] = np.array(most_recent_date_arr)\n",
    "# df_score[\"num_trips_made\"] = np.array(num_trips_arr)"
   ]
  },
  {
   "cell_type": "code",
   "execution_count": 346,
   "metadata": {},
   "outputs": [
    {
     "data": {
      "text/plain": [
       "0      3\n",
       "1      3\n",
       "2      1\n",
       "3      1\n",
       "4      1\n",
       "      ..\n",
       "663    1\n",
       "664    1\n",
       "665    1\n",
       "666    1\n",
       "667    1\n",
       "Name: num_trips_made, Length: 668, dtype: Int64"
      ]
     },
     "metadata": {},
     "output_type": "display_data"
    }
   ],
   "source": [
    "display(df_score[\"num_trips_made\"])"
   ]
  },
  {
   "cell_type": "code",
   "execution_count": 347,
   "metadata": {},
   "outputs": [
    {
     "name": "stdout",
     "output_type": "stream",
     "text": [
      "<class 'pandas.core.frame.DataFrame'>\n",
      "RangeIndex: 668 entries, 0 to 667\n",
      "Data columns (total 24 columns):\n",
      " #   Column                    Non-Null Count  Dtype         \n",
      "---  ------                    --------------  -----         \n",
      " 0   id_driver                 668 non-null    Int64         \n",
      " 1   dim_carrier_type          668 non-null    string        \n",
      " 2   dim_carrier_company_name  668 non-null    string        \n",
      " 3   carrier_trucks            668 non-null    string        \n",
      " 4   signup_source             668 non-null    string        \n",
      " 5   ts_signup                 668 non-null    string        \n",
      " 6   ts_first_approved         572 non-null    string        \n",
      " 7   days_signup_to_approval   572 non-null    Int64         \n",
      " 8   home_base_city            668 non-null    string        \n",
      " 9   home_base_state           668 non-null    string        \n",
      " 10  num_trucks                668 non-null    float64       \n",
      " 11  interested_in_drayage     668 non-null    string        \n",
      " 12  port_qualified            668 non-null    string        \n",
      " 13  driver_with_twic          668 non-null    string        \n",
      " 14  first_load_date           668 non-null    datetime64[ns]\n",
      " 15  most_recent_load_date     668 non-null    datetime64[ns]\n",
      " 16  marketplace_loads_otr     668 non-null    Int64         \n",
      " 17  marketplace_loads_atlas   668 non-null    Int64         \n",
      " 18  marketplace_loads         668 non-null    Int64         \n",
      " 19  brokerage_loads_otr       668 non-null    Int64         \n",
      " 20  brokerage_loads_atlas     668 non-null    Int64         \n",
      " 21  brokerage_loads           668 non-null    Int64         \n",
      " 22  num_trips_made            668 non-null    Int64         \n",
      " 23  days_since_last_load      668 non-null    Int64         \n",
      "dtypes: Int64(10), datetime64[ns](2), float64(1), string(11)\n",
      "memory usage: 131.9 KB\n"
     ]
    }
   ],
   "source": [
    "df_score.info()"
   ]
  },
  {
   "cell_type": "code",
   "execution_count": 348,
   "metadata": {},
   "outputs": [],
   "source": [
    "# # NO: dt, weekday, year, id_carrier_number, dim_preferred_lanes, load_day, loads\n",
    "\n",
    "\n",
    "\n",
    "# [\"id_driver\", \"dim_carrier_type\", \"dim_carrier_company_name\", \"home_base_city\", \"home_base_state\", \n",
    "#                 \"carrier_trucks\", \"signup_source\", \"ts_signup\", \"ts_first_approved\",\n",
    "#                 \"days_signup_to_approval\", \"num_trucks\", \"interested_in_drayage\", \n",
    "#                 \"port_qualified\", \"driver_with_twic\", \n",
    "#                 \"first_load_date\", \"most_recent_load_date\", \"marketplace_loads_otr\", \n",
    "#                 \"marketplace_loads_atlas\", \"marketplace_loads\", \"brokerage_loads_otr\",\n",
    "#                 \"brokerage_loads_atlas\", \"brokerage_loads\", \"total_loads\", \"num_trips_made\", \"label\"]\n",
    "\n",
    "drop_cols = [\"dt\", \"weekday\", \"year\", \"id_carrier_number\", \"dim_preferred_lanes\", \"load_day\", \"loads\"]\n",
    "for col in drop_cols:\n",
    "    try:\n",
    "        df_score = df_score.drop(columns=[col])\n",
    "    except:\n",
    "        continue\n",
    "\n",
    "for col in drop_cols:\n",
    "    try:\n",
    "        df = df.drop(columns=[col])\n",
    "    except:\n",
    "        continue"
   ]
  },
  {
   "cell_type": "code",
   "execution_count": 349,
   "metadata": {},
   "outputs": [
    {
     "name": "stdout",
     "output_type": "stream",
     "text": [
      "<class 'pandas.core.frame.DataFrame'>\n",
      "RangeIndex: 668 entries, 0 to 667\n",
      "Data columns (total 24 columns):\n",
      " #   Column                    Non-Null Count  Dtype         \n",
      "---  ------                    --------------  -----         \n",
      " 0   id_driver                 668 non-null    Int64         \n",
      " 1   dim_carrier_type          668 non-null    string        \n",
      " 2   dim_carrier_company_name  668 non-null    string        \n",
      " 3   carrier_trucks            668 non-null    string        \n",
      " 4   signup_source             668 non-null    string        \n",
      " 5   ts_signup                 668 non-null    string        \n",
      " 6   ts_first_approved         572 non-null    string        \n",
      " 7   days_signup_to_approval   572 non-null    Int64         \n",
      " 8   home_base_city            668 non-null    string        \n",
      " 9   home_base_state           668 non-null    string        \n",
      " 10  num_trucks                668 non-null    float64       \n",
      " 11  interested_in_drayage     668 non-null    string        \n",
      " 12  port_qualified            668 non-null    string        \n",
      " 13  driver_with_twic          668 non-null    string        \n",
      " 14  first_load_date           668 non-null    datetime64[ns]\n",
      " 15  most_recent_load_date     668 non-null    datetime64[ns]\n",
      " 16  marketplace_loads_otr     668 non-null    Int64         \n",
      " 17  marketplace_loads_atlas   668 non-null    Int64         \n",
      " 18  marketplace_loads         668 non-null    Int64         \n",
      " 19  brokerage_loads_otr       668 non-null    Int64         \n",
      " 20  brokerage_loads_atlas     668 non-null    Int64         \n",
      " 21  brokerage_loads           668 non-null    Int64         \n",
      " 22  num_trips_made            668 non-null    Int64         \n",
      " 23  days_since_last_load      668 non-null    Int64         \n",
      "dtypes: Int64(10), datetime64[ns](2), float64(1), string(11)\n",
      "memory usage: 131.9 KB\n"
     ]
    }
   ],
   "source": [
    "df_score.info()"
   ]
  },
  {
   "cell_type": "markdown",
   "metadata": {},
   "source": [
    "# 3. Basic Statistics"
   ]
  },
  {
   "cell_type": "code",
   "execution_count": 350,
   "metadata": {},
   "outputs": [
    {
     "name": "stdout",
     "output_type": "stream",
     "text": [
      "id_driver\n"
     ]
    },
    {
     "data": {
      "text/plain": [
       "id_driver                  1.000000\n",
       "days_since_last_load       0.839446\n",
       "num_trucks                 0.169567\n",
       "brokerage_loads_atlas      0.145307\n",
       "marketplace_loads_atlas    0.138116\n",
       "marketplace_loads          0.123344\n",
       "label                      0.075683\n",
       "total_loads                0.052722\n",
       "num_trips_made             0.018007\n",
       "marketplace_loads_otr     -0.012441\n",
       "brokerage_loads           -0.037352\n",
       "brokerage_loads_otr       -0.063795\n",
       "days_signup_to_approval   -0.734778\n",
       "Name: id_driver, dtype: float64"
      ]
     },
     "metadata": {},
     "output_type": "display_data"
    },
    {
     "name": "stdout",
     "output_type": "stream",
     "text": [
      "---------------------------------------------------------------------\n",
      "dim_carrier_type\n",
      "dim_carrier_type is not of type integer\n",
      "---------------------------------------------------------------------\n",
      "dim_carrier_company_name\n",
      "dim_carrier_company_name is not of type integer\n",
      "---------------------------------------------------------------------\n",
      "carrier_trucks\n",
      "carrier_trucks is not of type integer\n",
      "---------------------------------------------------------------------\n",
      "signup_source\n",
      "signup_source is not of type integer\n",
      "---------------------------------------------------------------------\n",
      "ts_signup\n",
      "ts_signup is not of type integer\n",
      "---------------------------------------------------------------------\n",
      "ts_first_approved\n",
      "ts_first_approved is not of type integer\n",
      "---------------------------------------------------------------------\n",
      "days_signup_to_approval\n"
     ]
    },
    {
     "data": {
      "text/plain": [
       "days_signup_to_approval    1.000000\n",
       "brokerage_loads_otr        0.048116\n",
       "brokerage_loads            0.027929\n",
       "num_trips_made             0.010462\n",
       "marketplace_loads_otr      0.007436\n",
       "total_loads               -0.043765\n",
       "num_trucks                -0.053498\n",
       "label                     -0.064084\n",
       "marketplace_loads         -0.089268\n",
       "brokerage_loads_atlas     -0.092088\n",
       "marketplace_loads_atlas   -0.099058\n",
       "days_since_last_load      -0.628732\n",
       "id_driver                 -0.734778\n",
       "Name: days_signup_to_approval, dtype: float64"
      ]
     },
     "metadata": {},
     "output_type": "display_data"
    },
    {
     "name": "stdout",
     "output_type": "stream",
     "text": [
      "---------------------------------------------------------------------\n",
      "home_base_city\n",
      "home_base_city is not of type integer\n",
      "---------------------------------------------------------------------\n",
      "home_base_state\n",
      "home_base_state is not of type integer\n",
      "---------------------------------------------------------------------\n",
      "num_trucks\n"
     ]
    },
    {
     "data": {
      "text/plain": [
       "num_trucks                 1.000000\n",
       "id_driver                  0.169567\n",
       "days_since_last_load       0.163449\n",
       "num_trips_made             0.059784\n",
       "total_loads                0.017664\n",
       "brokerage_loads_otr        0.001285\n",
       "brokerage_loads           -0.006155\n",
       "label                     -0.035292\n",
       "brokerage_loads_atlas     -0.042167\n",
       "marketplace_loads_atlas   -0.050920\n",
       "days_signup_to_approval   -0.053498\n",
       "marketplace_loads_otr     -0.058752\n",
       "marketplace_loads         -0.065660\n",
       "Name: num_trucks, dtype: float64"
      ]
     },
     "metadata": {},
     "output_type": "display_data"
    },
    {
     "name": "stdout",
     "output_type": "stream",
     "text": [
      "---------------------------------------------------------------------\n",
      "interested_in_drayage\n",
      "interested_in_drayage is not of type integer\n",
      "---------------------------------------------------------------------\n",
      "port_qualified\n",
      "port_qualified is not of type integer\n",
      "---------------------------------------------------------------------\n",
      "driver_with_twic\n",
      "driver_with_twic is not of type integer\n",
      "---------------------------------------------------------------------\n",
      "first_load_date\n",
      "first_load_date is not of type integer\n",
      "---------------------------------------------------------------------\n",
      "most_recent_load_date\n",
      "most_recent_load_date is not of type integer\n",
      "---------------------------------------------------------------------\n",
      "marketplace_loads_otr\n"
     ]
    },
    {
     "data": {
      "text/plain": [
       "marketplace_loads_otr      1.000000\n",
       "num_trips_made             0.511867\n",
       "marketplace_loads          0.395290\n",
       "total_loads                0.268972\n",
       "label                      0.163324\n",
       "days_since_last_load       0.157085\n",
       "marketplace_loads_atlas    0.083147\n",
       "brokerage_loads_otr        0.080873\n",
       "brokerage_loads            0.080687\n",
       "days_signup_to_approval    0.007436\n",
       "brokerage_loads_atlas      0.005160\n",
       "id_driver                 -0.012441\n",
       "num_trucks                -0.058752\n",
       "Name: marketplace_loads_otr, dtype: float64"
      ]
     },
     "metadata": {},
     "output_type": "display_data"
    },
    {
     "name": "stdout",
     "output_type": "stream",
     "text": [
      "---------------------------------------------------------------------\n",
      "marketplace_loads_atlas\n"
     ]
    },
    {
     "data": {
      "text/plain": [
       "marketplace_loads_atlas    1.000000\n",
       "marketplace_loads          0.948243\n",
       "label                      0.577596\n",
       "total_loads                0.541759\n",
       "num_trips_made             0.445315\n",
       "brokerage_loads_atlas      0.410271\n",
       "days_since_last_load       0.202243\n",
       "id_driver                  0.138116\n",
       "marketplace_loads_otr      0.083147\n",
       "brokerage_loads            0.059796\n",
       "brokerage_loads_otr       -0.012599\n",
       "num_trucks                -0.050920\n",
       "days_signup_to_approval   -0.099058\n",
       "Name: marketplace_loads_atlas, dtype: float64"
      ]
     },
     "metadata": {},
     "output_type": "display_data"
    },
    {
     "name": "stdout",
     "output_type": "stream",
     "text": [
      "---------------------------------------------------------------------\n",
      "marketplace_loads\n"
     ]
    },
    {
     "data": {
      "text/plain": [
       "marketplace_loads          1.000000\n",
       "marketplace_loads_atlas    0.948243\n",
       "total_loads                0.585073\n",
       "label                      0.584442\n",
       "num_trips_made             0.573574\n",
       "marketplace_loads_otr      0.395290\n",
       "brokerage_loads_atlas      0.379811\n",
       "days_since_last_load       0.236472\n",
       "id_driver                  0.123344\n",
       "brokerage_loads            0.080827\n",
       "brokerage_loads_otr        0.014158\n",
       "num_trucks                -0.065660\n",
       "days_signup_to_approval   -0.089268\n",
       "Name: marketplace_loads, dtype: float64"
      ]
     },
     "metadata": {},
     "output_type": "display_data"
    },
    {
     "name": "stdout",
     "output_type": "stream",
     "text": [
      "---------------------------------------------------------------------\n",
      "brokerage_loads_otr\n"
     ]
    },
    {
     "data": {
      "text/plain": [
       "brokerage_loads_otr        1.000000\n",
       "brokerage_loads            0.984385\n",
       "total_loads                0.803391\n",
       "num_trips_made             0.572785\n",
       "label                      0.239032\n",
       "marketplace_loads_otr      0.080873\n",
       "days_since_last_load       0.061265\n",
       "days_signup_to_approval    0.048116\n",
       "marketplace_loads          0.014158\n",
       "num_trucks                 0.001285\n",
       "brokerage_loads_atlas     -0.011804\n",
       "marketplace_loads_atlas   -0.012599\n",
       "id_driver                 -0.063795\n",
       "Name: brokerage_loads_otr, dtype: float64"
      ]
     },
     "metadata": {},
     "output_type": "display_data"
    },
    {
     "name": "stdout",
     "output_type": "stream",
     "text": [
      "---------------------------------------------------------------------\n",
      "brokerage_loads_atlas\n"
     ]
    },
    {
     "data": {
      "text/plain": [
       "brokerage_loads_atlas      1.000000\n",
       "marketplace_loads_atlas    0.410271\n",
       "marketplace_loads          0.379811\n",
       "total_loads                0.329874\n",
       "label                      0.327819\n",
       "num_trips_made             0.257713\n",
       "days_since_last_load       0.179735\n",
       "brokerage_loads            0.164395\n",
       "id_driver                  0.145307\n",
       "marketplace_loads_otr      0.005160\n",
       "brokerage_loads_otr       -0.011804\n",
       "num_trucks                -0.042167\n",
       "days_signup_to_approval   -0.092088\n",
       "Name: brokerage_loads_atlas, dtype: float64"
      ]
     },
     "metadata": {},
     "output_type": "display_data"
    },
    {
     "name": "stdout",
     "output_type": "stream",
     "text": [
      "---------------------------------------------------------------------\n",
      "brokerage_loads\n"
     ]
    },
    {
     "data": {
      "text/plain": [
       "brokerage_loads            1.000000\n",
       "brokerage_loads_otr        0.984385\n",
       "total_loads                0.850586\n",
       "num_trips_made             0.610399\n",
       "label                      0.293505\n",
       "brokerage_loads_atlas      0.164395\n",
       "days_since_last_load       0.092076\n",
       "marketplace_loads          0.080827\n",
       "marketplace_loads_otr      0.080687\n",
       "marketplace_loads_atlas    0.059796\n",
       "days_signup_to_approval    0.027929\n",
       "num_trucks                -0.006155\n",
       "id_driver                 -0.037352\n",
       "Name: brokerage_loads, dtype: float64"
      ]
     },
     "metadata": {},
     "output_type": "display_data"
    },
    {
     "name": "stdout",
     "output_type": "stream",
     "text": [
      "---------------------------------------------------------------------\n",
      "total_loads\n"
     ]
    },
    {
     "data": {
      "text/plain": [
       "total_loads                1.000000\n",
       "brokerage_loads            0.850586\n",
       "brokerage_loads_otr        0.803391\n",
       "num_trips_made             0.802860\n",
       "marketplace_loads          0.585073\n",
       "label                      0.541811\n",
       "marketplace_loads_atlas    0.541759\n",
       "brokerage_loads_atlas      0.329874\n",
       "marketplace_loads_otr      0.268972\n",
       "days_since_last_load       0.216076\n",
       "id_driver                  0.052722\n",
       "num_trucks                 0.017664\n",
       "days_signup_to_approval   -0.043765\n",
       "Name: total_loads, dtype: float64"
      ]
     },
     "metadata": {},
     "output_type": "display_data"
    },
    {
     "name": "stdout",
     "output_type": "stream",
     "text": [
      "---------------------------------------------------------------------\n",
      "num_trips_made\n"
     ]
    },
    {
     "data": {
      "text/plain": [
       "num_trips_made             1.000000\n",
       "total_loads                0.802860\n",
       "brokerage_loads            0.610399\n",
       "marketplace_loads          0.573574\n",
       "brokerage_loads_otr        0.572785\n",
       "marketplace_loads_otr      0.511867\n",
       "label                      0.481593\n",
       "marketplace_loads_atlas    0.445315\n",
       "days_since_last_load       0.284921\n",
       "brokerage_loads_atlas      0.257713\n",
       "num_trucks                 0.059784\n",
       "id_driver                  0.018007\n",
       "days_signup_to_approval    0.010462\n",
       "Name: num_trips_made, dtype: float64"
      ]
     },
     "metadata": {},
     "output_type": "display_data"
    },
    {
     "name": "stdout",
     "output_type": "stream",
     "text": [
      "---------------------------------------------------------------------\n",
      "days_since_last_load\n"
     ]
    },
    {
     "data": {
      "text/plain": [
       "days_since_last_load       1.000000\n",
       "id_driver                  0.839446\n",
       "num_trips_made             0.284921\n",
       "marketplace_loads          0.236472\n",
       "total_loads                0.216076\n",
       "marketplace_loads_atlas    0.202243\n",
       "brokerage_loads_atlas      0.179735\n",
       "num_trucks                 0.163449\n",
       "marketplace_loads_otr      0.157085\n",
       "label                      0.142288\n",
       "brokerage_loads            0.092076\n",
       "brokerage_loads_otr        0.061265\n",
       "days_signup_to_approval   -0.628732\n",
       "Name: days_since_last_load, dtype: float64"
      ]
     },
     "metadata": {},
     "output_type": "display_data"
    },
    {
     "name": "stdout",
     "output_type": "stream",
     "text": [
      "---------------------------------------------------------------------\n",
      "label\n"
     ]
    },
    {
     "data": {
      "text/plain": [
       "label                      1.000000\n",
       "marketplace_loads          0.584442\n",
       "marketplace_loads_atlas    0.577596\n",
       "total_loads                0.541811\n",
       "num_trips_made             0.481593\n",
       "brokerage_loads_atlas      0.327819\n",
       "brokerage_loads            0.293505\n",
       "brokerage_loads_otr        0.239032\n",
       "marketplace_loads_otr      0.163324\n",
       "days_since_last_load       0.142288\n",
       "id_driver                  0.075683\n",
       "num_trucks                -0.035292\n",
       "days_signup_to_approval   -0.064084\n",
       "Name: label, dtype: float64"
      ]
     },
     "metadata": {},
     "output_type": "display_data"
    },
    {
     "name": "stdout",
     "output_type": "stream",
     "text": [
      "---------------------------------------------------------------------\n"
     ]
    }
   ],
   "source": [
    "corr_matrix = df.corr()\n",
    "for col_name in (list(df.columns.values)): # prints all the correlation matrices corresponding to each feature\n",
    "    try:\n",
    "        print(col_name)\n",
    "        display(corr_matrix[col_name].sort_values(ascending=False))\n",
    "        print('---------------------------------------------------------------------')\n",
    "    except:\n",
    "        print(\"{} is not of type integer\".format(col_name))\n",
    "        print('---------------------------------------------------------------------')"
   ]
  },
  {
   "cell_type": "markdown",
   "metadata": {},
   "source": [
    " Also year and TODO_FIND_COLUMN_NAME_2 and year are highly correlated and have a similar impact on label, so we could drop one? \n",
    "\n",
    "Is there really a need for brokerage_loads when it is so highly correlated to brokerage_loads_otr due to the vast majority of shipments being delivered over-the-road as compared to via ATLAS? \n",
    "\n",
    "I have the same question about total_loads due to the vast majority of loads being brokerage loads...\n",
    "\n",
    "What's the point of having both year and date?\n",
    "\n",
    "We can remove the id_carrier_number column from this dataset as it is not relevant to predicting a label of 0 or 1 (When trying to find high performing drivers, we need to know their carrier number, so we can extract the id_carrier_number column for now...)\n",
    "\n",
    "We could one-hot-encode sign-up source and see its effect on labels.\n",
    "\n",
    "We can remove the ts_first_approved column because the date of approval shouldn't matter that much but instead the days_signup_to_approval matter.\n",
    "\n",
    "dim_preferred_lanes only has a few values so we can either remove the column or impute values.\n",
    "\n",
    "Also first_load_date, most_recent_load_date and load_day shouldn't matter much. Instead we can have values such as: number of days doing the job = most_recent_load_date - first_load_date\n",
    "AND\n",
    "days_from_last_load_to_today = todays_date - most_recent_load_date\n",
    "\n",
    "There are also a couple other features we need to impute.\n",
    "\n",
    "Also, only people that are port qualified can provide drayage services, so we should create a field called qualified_and_interest_in_drayage which is only 1 (yes) when interested_in_drayage = \"yes\" and port_qualified = \"yes\". We can also cross these features..."
   ]
  },
  {
   "cell_type": "markdown",
   "metadata": {},
   "source": [
    "# 4. Data Feature Extraction Plan and Pipeline"
   ]
  },
  {
   "cell_type": "code",
   "execution_count": 351,
   "metadata": {},
   "outputs": [],
   "source": [
    "# df[\"location\"] = list(zip(df[\"home_base_city\"], df[\"home_base_state\"]))# feature cross to get (city, state) tuple\n",
    "# # feature cross for interested in drayage and port qualified\n",
    "# df[\"drayage_interested_port_qualified\"] = list(zip(df[\"interested_in_drayage\"], df[\"port_qualified\"]))\n",
    "# display(df[\"location\"])\n",
    "# display(df[\"drayage_interested_port_qualified\"])"
   ]
  },
  {
   "cell_type": "code",
   "execution_count": 352,
   "metadata": {},
   "outputs": [
    {
     "data": {
      "text/plain": [
       "0       100000\n",
       "1       100000\n",
       "2       100000\n",
       "3       100000\n",
       "4       100000\n",
       "         ...  \n",
       "5286    100000\n",
       "5287    000001\n",
       "5288    000001\n",
       "5289    000001\n",
       "5290    000001\n",
       "Name: drayage_interested_port_qualified, Length: 5291, dtype: object"
      ]
     },
     "metadata": {},
     "output_type": "display_data"
    },
    {
     "data": {
      "text/plain": [
       "0      100000\n",
       "1      100000\n",
       "2      100000\n",
       "3      100000\n",
       "4      100000\n",
       "        ...  \n",
       "663    100000\n",
       "664    000001\n",
       "665    000010\n",
       "666    000010\n",
       "667    010000\n",
       "Name: drayage_interested_port_qualified, Length: 668, dtype: object"
      ]
     },
     "metadata": {},
     "output_type": "display_data"
    }
   ],
   "source": [
    "def drayage_feature_cross(df):\n",
    "    loc_cross = list(zip(df[\"home_base_city\"], df[\"home_base_state\"]))# feature cross to get (city, state) tuple\n",
    "    # feature cross for interested in drayage and port qualified\n",
    "    drayage_cross = list(zip(df[\"interested_in_drayage\"], df[\"port_qualified\"]))\n",
    "\n",
    "    drayage_arr = []\n",
    "    for list_item in drayage_cross:\n",
    "        if list_item[0] == \"yes\" and list_item[1] == \"yes\":\n",
    "            drayage_arr.append(\"000001\")\n",
    "        if list_item[0] == \"yes\" and list_item[1] == \"no\":\n",
    "            drayage_arr.append(\"000010\")\n",
    "        if list_item[0] == \"no\" and list_item[1] == \"yes\":\n",
    "            drayage_arr.append(\"000100\")\n",
    "        if list_item[0] == \"no\" and list_item[1] == \"no\":\n",
    "            drayage_arr.append(\"001000\")\n",
    "        if list_item[0] == \"not specified\" and list_item[1] == \"yes\":\n",
    "            drayage_arr.append(\"010000\")\n",
    "        if list_item[0] == \"not specified\" and list_item[1] == \"no\":\n",
    "            drayage_arr.append(\"100000\")\n",
    "\n",
    "    df[\"drayage_interested_port_qualified\"] = np.array(drayage_arr)\n",
    "    display(df[\"drayage_interested_port_qualified\"])\n",
    "\n",
    "drayage_feature_cross(df)\n",
    "drayage_feature_cross(df_score)"
   ]
  },
  {
   "cell_type": "code",
   "execution_count": 353,
   "metadata": {},
   "outputs": [],
   "source": [
    "id_driver_number_col = np.array(df[\"id_driver\"]) # extract id_driver column\n",
    "id_driver_number_col_score = np.array(df_score[\"id_driver\"]) # extract id_driver column\n",
    "\n",
    "drop_cols = [\"id_driver\", \"interested_in_drayage\", \"port_qualified\", \n",
    "             \"ts_signup\", \"ts_first_approved\"] #\"home_base_city\",\"home_base_state\",\n",
    "for col in drop_cols:\n",
    "    try:\n",
    "        df_score = df_score.drop(columns=[col])\n",
    "    except:\n",
    "        continue\n",
    "\n",
    "for col in drop_cols:\n",
    "    try:\n",
    "        df = df.drop(columns=[col])\n",
    "    except:\n",
    "        continue"
   ]
  },
  {
   "cell_type": "code",
   "execution_count": 354,
   "metadata": {},
   "outputs": [
    {
     "name": "stdout",
     "output_type": "stream",
     "text": [
      "<class 'pandas.core.frame.DataFrame'>\n",
      "RangeIndex: 5291 entries, 0 to 5290\n",
      "Data columns (total 22 columns):\n",
      " #   Column                             Non-Null Count  Dtype         \n",
      "---  ------                             --------------  -----         \n",
      " 0   dim_carrier_type                   5291 non-null   string        \n",
      " 1   dim_carrier_company_name           5284 non-null   string        \n",
      " 2   carrier_trucks                     5291 non-null   string        \n",
      " 3   signup_source                      5291 non-null   string        \n",
      " 4   days_signup_to_approval            3962 non-null   Int64         \n",
      " 5   home_base_city                     5291 non-null   string        \n",
      " 6   home_base_state                    5291 non-null   string        \n",
      " 7   num_trucks                         5249 non-null   float64       \n",
      " 8   driver_with_twic                   5291 non-null   string        \n",
      " 9   first_load_date                    5291 non-null   datetime64[ns]\n",
      " 10  most_recent_load_date              5291 non-null   datetime64[ns]\n",
      " 11  marketplace_loads_otr              5291 non-null   Int64         \n",
      " 12  marketplace_loads_atlas            5291 non-null   Int64         \n",
      " 13  marketplace_loads                  5291 non-null   Int64         \n",
      " 14  brokerage_loads_otr                5291 non-null   Int64         \n",
      " 15  brokerage_loads_atlas              5291 non-null   Int64         \n",
      " 16  brokerage_loads                    5291 non-null   Int64         \n",
      " 17  total_loads                        5291 non-null   Int64         \n",
      " 18  num_trips_made                     5291 non-null   Int64         \n",
      " 19  days_since_last_load               5291 non-null   Int64         \n",
      " 20  label                              5291 non-null   Int64         \n",
      " 21  drayage_interested_port_qualified  5291 non-null   object        \n",
      "dtypes: Int64(11), datetime64[ns](2), float64(1), object(1), string(7)\n",
      "memory usage: 966.4+ KB\n"
     ]
    }
   ],
   "source": [
    "df.info()"
   ]
  },
  {
   "cell_type": "code",
   "execution_count": 355,
   "metadata": {},
   "outputs": [],
   "source": [
    "names = {}\n",
    "for index, row in df.iterrows():\n",
    "    names[row[\"dim_carrier_company_name\"]] = int(names.get(row[\"dim_carrier_company_name\"], 0) + 1)\n",
    "listo = list(names.items())\n",
    "listo.sort(reverse=True, key=lambda x: int(x[1]))\n",
    "#listo[:50]"
   ]
  },
  {
   "cell_type": "code",
   "execution_count": 356,
   "metadata": {},
   "outputs": [
    {
     "name": "stdout",
     "output_type": "stream",
     "text": [
      "# 50:  1290\n",
      "Percentage 50:  0.5176565008025682\n",
      "['NFS asset Drayage', 'MC Express Trucking LLC', 'Roadrunner Transportation', 'Dong Fang Marketing Inc', 'ROADMOND LOGISTICS INC.', 'Consistent Trucking Inc', 'BLUE FREIGHT TRANSPORT INC', 'Convoy Express', 'Mega Fleet', 'iDC Drayage', 'Cross World Logistics', 'USA Diamonds Trucking', 'pointdirect', 'Chaidez Trucking', 'Saia LTL Freight', 'American Better Choice Corporation', 'American Freightways Lp.', 'Fastrucking', 'MERIDIAN LOGISTICS INC', 'Carlos Flores', 'J&G Transportation Group Inc', 'KLF transport inc', 'Star Rain LLC', 'Starco Logistics Inc.', '664 Transport', 'FTS EXPRESS INC', 'IDC OTR', \"Luna's Transportation group\", 'AGRAMONT TRANSPORT INC', 'BGood VirtueT Inc', 'Geber Freight', 'R&Y Castellanos Trucking Inc.', 'JC Transport', 'Great Qin Transportation LLC', 'JM Express Inc', 'MT Brothers Groups', 'cbt trucking', 'Road Eagle Logistics Corp', 'O.A. EXPRESS INC', 'AMPAK Logistics INC.', 'Kuang Trucking Inc.', 'nolan transportation group', '360 new way inc', 'Innovative Transportation, LLC', 'freight advisor corp', 'one USA group', 'Blue Horizon', 'STS TRUCKING', 'AL JR TRUCKING', 'MG Trucking']\n"
     ]
    }
   ],
   "source": [
    "listo = listo[:50]\n",
    "count_50 = sum([x[1] for x in listo])\n",
    "print(\"# 50: \", count_50)\n",
    "print(\"Percentage 50: \", count_50/len(names))\n",
    "\n",
    "names_arr = [tuples[0] for tuples in listo]\n",
    "print(names_arr)"
   ]
  },
  {
   "cell_type": "code",
   "execution_count": 357,
   "metadata": {},
   "outputs": [],
   "source": [
    "def bucketize(df):\n",
    "    days_worked = []\n",
    "    for index, row in df.iterrows(): # bucketize the most frequent dim_carrier_company names, \n",
    "                                     # put less frequent names in a single bucket\n",
    "        try:\n",
    "            if row[\"dim_carrier_company_name\"] not in names_arr:\n",
    "                df.at[index, \"dim_carrier_company_name\"] = \"Other\"\n",
    "        except:\n",
    "            df.at[index, \"dim_carrier_company_name\"] = \"Other\"\n",
    "\n",
    "        # find number of days driver has worked\n",
    "        if row[\"most_recent_load_date\"] != np.nan and row[\"first_load_date\"] != np.nan:\n",
    "            days_worked.append((row[\"most_recent_load_date\"] - row[\"first_load_date\"]).days)\n",
    "        else:\n",
    "            days_worked.append(None)\n",
    "    df[\"days_tenured\"] = np.array(days_worked)\n",
    "\n",
    "bucketize(df)\n",
    "bucketize(df_score)"
   ]
  },
  {
   "cell_type": "code",
   "execution_count": 358,
   "metadata": {},
   "outputs": [],
   "source": [
    "# # Get total_loads for df_score in order to find labels\n",
    "# total_loads = []\n",
    "# for index, row in df_score.iterrows():\n",
    "#     total_loads.append(row[\"marketplace_loads\"] + row[\"brokerage_loads\"])\n",
    "# df_score[\"total_loads\"] = np.array(total_loads)"
   ]
  },
  {
   "cell_type": "code",
   "execution_count": 359,
   "metadata": {},
   "outputs": [],
   "source": [
    "# total_loads_score_75 = df_score.total_loads.quantile(0.75) # finds 75th percentile of loads\n",
    "# most_recent_load_date_score_75 = df_score.most_recent_load_date.quantile(0.75) # finds 75th percentile of most recent load date\n",
    "\n",
    "# print(total_loads_score_75)\n",
    "# print(most_recent_load_date_score_75)"
   ]
  },
  {
   "cell_type": "code",
   "execution_count": 360,
   "metadata": {},
   "outputs": [],
   "source": [
    "# score_labels = []\n",
    "# for index, row in df_score.iterrows(): # changes the labels in the label columns\n",
    "#     # checks if the load and most recent load date are in the 75th percentile\n",
    "#     if row[\"total_loads\"] >= total_loads_score_75 and row[\"most_recent_load_date\"] >= most_recent_load_date_score_75:\n",
    "#         score_labels.append(1)\n",
    "#     else:\n",
    "#         score_labels.append(0)\n",
    "# print(len(score_labels))\n",
    "# print(score_labels)"
   ]
  },
  {
   "cell_type": "code",
   "execution_count": 361,
   "metadata": {},
   "outputs": [],
   "source": [
    "drop_cols = [\"most_recent_load_date\", \"first_load_date\", \"weekday\", \"load_day\", \"total_loads\"]\n",
    "for col in drop_cols:\n",
    "    try:\n",
    "        df_score = df_score.drop(columns=[col])\n",
    "    except:\n",
    "        continue\n",
    "\n",
    "for col in drop_cols:\n",
    "    try:\n",
    "        df = df.drop(columns=[col])\n",
    "    except:\n",
    "        continue"
   ]
  },
  {
   "cell_type": "code",
   "execution_count": 362,
   "metadata": {},
   "outputs": [],
   "source": [
    "df_unlabeled = df.drop(columns=[\"label\"])\n",
    "labels = df[\"label\"].copy()"
   ]
  },
  {
   "cell_type": "code",
   "execution_count": 363,
   "metadata": {},
   "outputs": [
    {
     "name": "stdout",
     "output_type": "stream",
     "text": [
      "Unique Values :  [0 1]\n",
      "Occurrence Count :  [5236   55]\n"
     ]
    }
   ],
   "source": [
    "uniqueValues, occurCount = np.unique(labels, return_counts=True)\n",
    "print(\"Unique Values : \" , uniqueValues)\n",
    "print(\"Occurrence Count : \", occurCount)"
   ]
  },
  {
   "cell_type": "code",
   "execution_count": 364,
   "metadata": {},
   "outputs": [
    {
     "name": "stdout",
     "output_type": "stream",
     "text": [
      "<class 'pandas.core.frame.DataFrame'>\n",
      "RangeIndex: 5291 entries, 0 to 5290\n",
      "Data columns (total 19 columns):\n",
      " #   Column                             Non-Null Count  Dtype  \n",
      "---  ------                             --------------  -----  \n",
      " 0   dim_carrier_type                   5291 non-null   string \n",
      " 1   dim_carrier_company_name           5291 non-null   string \n",
      " 2   carrier_trucks                     5291 non-null   string \n",
      " 3   signup_source                      5291 non-null   string \n",
      " 4   days_signup_to_approval            3962 non-null   Int64  \n",
      " 5   home_base_city                     5291 non-null   string \n",
      " 6   home_base_state                    5291 non-null   string \n",
      " 7   num_trucks                         5249 non-null   float64\n",
      " 8   driver_with_twic                   5291 non-null   string \n",
      " 9   marketplace_loads_otr              5291 non-null   Int64  \n",
      " 10  marketplace_loads_atlas            5291 non-null   Int64  \n",
      " 11  marketplace_loads                  5291 non-null   Int64  \n",
      " 12  brokerage_loads_otr                5291 non-null   Int64  \n",
      " 13  brokerage_loads_atlas              5291 non-null   Int64  \n",
      " 14  brokerage_loads                    5291 non-null   Int64  \n",
      " 15  num_trips_made                     5291 non-null   Int64  \n",
      " 16  days_since_last_load               5291 non-null   Int64  \n",
      " 17  drayage_interested_port_qualified  5291 non-null   object \n",
      " 18  days_tenured                       5291 non-null   int32  \n",
      "dtypes: Int64(9), float64(1), int32(1), object(1), string(7)\n",
      "memory usage: 811.3+ KB\n"
     ]
    }
   ],
   "source": [
    "df_unlabeled.info()"
   ]
  },
  {
   "cell_type": "code",
   "execution_count": 365,
   "metadata": {},
   "outputs": [
    {
     "name": "stdout",
     "output_type": "stream",
     "text": [
      "<class 'pandas.core.frame.DataFrame'>\n",
      "RangeIndex: 668 entries, 0 to 667\n",
      "Data columns (total 19 columns):\n",
      " #   Column                             Non-Null Count  Dtype  \n",
      "---  ------                             --------------  -----  \n",
      " 0   dim_carrier_type                   668 non-null    string \n",
      " 1   dim_carrier_company_name           668 non-null    string \n",
      " 2   carrier_trucks                     668 non-null    string \n",
      " 3   signup_source                      668 non-null    string \n",
      " 4   days_signup_to_approval            572 non-null    Int64  \n",
      " 5   home_base_city                     668 non-null    string \n",
      " 6   home_base_state                    668 non-null    string \n",
      " 7   num_trucks                         668 non-null    float64\n",
      " 8   driver_with_twic                   668 non-null    string \n",
      " 9   marketplace_loads_otr              668 non-null    Int64  \n",
      " 10  marketplace_loads_atlas            668 non-null    Int64  \n",
      " 11  marketplace_loads                  668 non-null    Int64  \n",
      " 12  brokerage_loads_otr                668 non-null    Int64  \n",
      " 13  brokerage_loads_atlas              668 non-null    Int64  \n",
      " 14  brokerage_loads                    668 non-null    Int64  \n",
      " 15  num_trips_made                     668 non-null    Int64  \n",
      " 16  days_since_last_load               668 non-null    Int64  \n",
      " 17  drayage_interested_port_qualified  668 non-null    object \n",
      " 18  days_tenured                       668 non-null    int32  \n",
      "dtypes: Int64(9), float64(1), int32(1), object(1), string(7)\n",
      "memory usage: 102.5+ KB\n"
     ]
    }
   ],
   "source": [
    "df_score.info()"
   ]
  },
  {
   "cell_type": "code",
   "execution_count": 366,
   "metadata": {},
   "outputs": [
    {
     "name": "stdout",
     "output_type": "stream",
     "text": [
      "['dim_carrier_type', 'dim_carrier_company_name', 'carrier_trucks', 'signup_source', 'days_signup_to_approval', 'home_base_city', 'home_base_state', 'num_trucks', 'driver_with_twic', 'marketplace_loads_otr', 'marketplace_loads_atlas', 'marketplace_loads', 'brokerage_loads_otr', 'brokerage_loads_atlas', 'brokerage_loads', 'num_trips_made', 'days_since_last_load', 'drayage_interested_port_qualified', 'days_tenured']\n"
     ]
    }
   ],
   "source": [
    "cols = list(df_unlabeled.columns.values)\n",
    "print(cols)"
   ]
  },
  {
   "cell_type": "code",
   "execution_count": 367,
   "metadata": {},
   "outputs": [],
   "source": [
    "df_score = df_score[cols]\n",
    "\n",
    "df_score['num_trucks'] = pd.to_numeric(df_score['num_trucks'], errors='coerce')\n",
    "df_score['days_signup_to_approval'] = pd.to_numeric(df_score['days_signup_to_approval'], errors='coerce')\n",
    "\n",
    "df_unlabeled['num_trucks'] = pd.to_numeric(df_unlabeled['num_trucks'], errors='coerce')\n",
    "df_unlabeled['days_signup_to_approval'] = pd.to_numeric(df_unlabeled['days_signup_to_approval'], errors='coerce')\n",
    "\n",
    "# df_unlabeled['home_base_city'].astype(str) #= to_string(df_unlabeled['home_base_city'], errors='coerce')\n",
    "# df_unlabeled['home_base_state'].astype(str) #= pd.to_string(df_unlabeled['home_base_state'], errors='coerce')\n",
    "\n",
    "convert = [\"id_driver\", \"days_signup_to_approval\", \"marketplace_loads_otr\", \n",
    "               \"marketplace_loads_atlas\", \"marketplace_loads\", \"brokerage_loads_otr\",\n",
    "               \"brokerage_loads_atlas\", \"brokerage_loads\", \"num_trips_made\",\n",
    "               \"num_trucks\", \"dim_carrier_type\", \"dim_carrier_company_name\",\n",
    "               \"interested_in_drayage\", \"port_qualified\", \"signup_source\", \"driver_with_twic\",\n",
    "          \"home_base_city\",\"home_base_state\"] #\"home_base_city\",\"home_base_state\"\n",
    "for col in convert:\n",
    "    try:\n",
    "        df_score[col] = df_score[col].convert_dtypes()\n",
    "    except:\n",
    "        continue\n",
    "\n",
    "for col in convert:\n",
    "    try:\n",
    "        df_unlabeled[col] = df_unlabeled[col].convert_dtypes()\n",
    "    except:\n",
    "        continue"
   ]
  },
  {
   "cell_type": "code",
   "execution_count": 368,
   "metadata": {},
   "outputs": [
    {
     "name": "stdout",
     "output_type": "stream",
     "text": [
      "<class 'pandas.core.frame.DataFrame'>\n",
      "RangeIndex: 5959 entries, 0 to 5958\n",
      "Data columns (total 19 columns):\n",
      " #   Column                             Non-Null Count  Dtype  \n",
      "---  ------                             --------------  -----  \n",
      " 0   dim_carrier_type                   5959 non-null   string \n",
      " 1   dim_carrier_company_name           5959 non-null   string \n",
      " 2   carrier_trucks                     5959 non-null   string \n",
      " 3   signup_source                      5959 non-null   string \n",
      " 4   days_signup_to_approval            4534 non-null   Int64  \n",
      " 5   home_base_city                     5959 non-null   string \n",
      " 6   home_base_state                    5959 non-null   string \n",
      " 7   num_trucks                         5917 non-null   float64\n",
      " 8   driver_with_twic                   5959 non-null   string \n",
      " 9   marketplace_loads_otr              5959 non-null   Int64  \n",
      " 10  marketplace_loads_atlas            5959 non-null   Int64  \n",
      " 11  marketplace_loads                  5959 non-null   Int64  \n",
      " 12  brokerage_loads_otr                5959 non-null   Int64  \n",
      " 13  brokerage_loads_atlas              5959 non-null   Int64  \n",
      " 14  brokerage_loads                    5959 non-null   Int64  \n",
      " 15  num_trips_made                     5959 non-null   Int64  \n",
      " 16  days_since_last_load               5959 non-null   Int64  \n",
      " 17  drayage_interested_port_qualified  5959 non-null   object \n",
      " 18  days_tenured                       5959 non-null   int32  \n",
      "dtypes: Int64(9), float64(1), int32(1), object(1), string(7)\n",
      "memory usage: 913.8+ KB\n"
     ]
    }
   ],
   "source": [
    "df_concat = pd.concat([df_unlabeled, df_score], ignore_index=True)\n",
    "df_concat.info()"
   ]
  },
  {
   "cell_type": "code",
   "execution_count": 369,
   "metadata": {},
   "outputs": [],
   "source": [
    "for col in convert:\n",
    "    try:\n",
    "        df_concat[col] = df_concat[col].convert_dtypes()\n",
    "    except:\n",
    "        continue"
   ]
  },
  {
   "cell_type": "code",
   "execution_count": 370,
   "metadata": {},
   "outputs": [
    {
     "name": "stdout",
     "output_type": "stream",
     "text": [
      "<class 'pandas.core.frame.DataFrame'>\n",
      "RangeIndex: 5959 entries, 0 to 5958\n",
      "Data columns (total 19 columns):\n",
      " #   Column                             Non-Null Count  Dtype  \n",
      "---  ------                             --------------  -----  \n",
      " 0   dim_carrier_type                   5959 non-null   string \n",
      " 1   dim_carrier_company_name           5959 non-null   string \n",
      " 2   carrier_trucks                     5959 non-null   string \n",
      " 3   signup_source                      5959 non-null   string \n",
      " 4   days_signup_to_approval            4534 non-null   Int64  \n",
      " 5   home_base_city                     5959 non-null   string \n",
      " 6   home_base_state                    5959 non-null   string \n",
      " 7   num_trucks                         5917 non-null   float64\n",
      " 8   driver_with_twic                   5959 non-null   string \n",
      " 9   marketplace_loads_otr              5959 non-null   Int64  \n",
      " 10  marketplace_loads_atlas            5959 non-null   Int64  \n",
      " 11  marketplace_loads                  5959 non-null   Int64  \n",
      " 12  brokerage_loads_otr                5959 non-null   Int64  \n",
      " 13  brokerage_loads_atlas              5959 non-null   Int64  \n",
      " 14  brokerage_loads                    5959 non-null   Int64  \n",
      " 15  num_trips_made                     5959 non-null   Int64  \n",
      " 16  days_since_last_load               5959 non-null   Int64  \n",
      " 17  drayage_interested_port_qualified  5959 non-null   object \n",
      " 18  days_tenured                       5959 non-null   int32  \n",
      "dtypes: Int64(9), float64(1), int32(1), object(1), string(7)\n",
      "memory usage: 913.8+ KB\n"
     ]
    }
   ],
   "source": [
    "df_concat.info()"
   ]
  },
  {
   "cell_type": "code",
   "execution_count": 371,
   "metadata": {},
   "outputs": [],
   "source": [
    "imputer = IterativeImputer()\n",
    "# df = imputer.fit_transform(df)\n",
    "categorical_features_one_hot = [\"dim_carrier_type\", \"dim_carrier_company_name\", \"carrier_trucks\", \n",
    "                                \"signup_source\", \"driver_with_twic\", \"home_base_city\",\"home_base_state\"] #\"home_base_city\",\"home_base_state\"\n",
    "\n",
    "df_num = df_concat.drop(columns=categorical_features_one_hot)\n",
    "# df_num = df_concat\n",
    "numerical_features = list(df_num)\n",
    "\n",
    "num_pipeline = Pipeline([\n",
    "        ('imputer', imputer),\n",
    "        ('std_scaler', StandardScaler()),\n",
    "    ])\n",
    "\n",
    "full_pipeline = ColumnTransformer([\n",
    "        (\"num\", num_pipeline, numerical_features),\n",
    "        (\"cat\", OneHotEncoder(sparse=False), categorical_features_one_hot), #sparse=False\n",
    "    ])\n",
    "df_prepared = full_pipeline.fit_transform(df_concat)"
   ]
  },
  {
   "cell_type": "code",
   "execution_count": 372,
   "metadata": {},
   "outputs": [
    {
     "data": {
      "text/plain": [
       "array([[ 1.89676035, -0.39804762, -0.23261086, ...,  0.        ,\n",
       "         0.        ,  0.        ],\n",
       "       [ 1.90882444, -0.39804762, -0.23261086, ...,  0.        ,\n",
       "         0.        ,  0.        ],\n",
       "       [ 1.92261463, -0.39804762, -0.23261086, ...,  0.        ,\n",
       "         0.        ,  0.        ],\n",
       "       ...,\n",
       "       [-1.01120964, -0.39804762, -0.23261086, ...,  0.        ,\n",
       "         0.        ,  0.        ],\n",
       "       [-1.01120964, -0.37456332, -0.15643114, ...,  0.        ,\n",
       "         0.        ,  0.        ],\n",
       "       [-1.01120964, -0.39804762, -0.23261086, ...,  0.        ,\n",
       "         0.        ,  0.        ]])"
      ]
     },
     "metadata": {},
     "output_type": "display_data"
    }
   ],
   "source": [
    "display(df_prepared)"
   ]
  },
  {
   "cell_type": "code",
   "execution_count": 373,
   "metadata": {},
   "outputs": [],
   "source": [
    "# X_train_temp = df_prepared[:5291]\n",
    "# y_train_temp = labels\n",
    "# X_test = df_prepared[5291:]\n",
    "# y_test = score_labels\n",
    "\n",
    "# y_train_temp = y_train_temp.astype('int')"
   ]
  },
  {
   "cell_type": "code",
   "execution_count": 374,
   "metadata": {},
   "outputs": [],
   "source": [
    "X = df_prepared[:5291]\n",
    "y = labels\n",
    "X_test_score = df_prepared[5291:]\n",
    "y_test_score = score_labels\n",
    "y = y.astype('int')\n",
    "X, y = SMOTE().fit_resample(X, y)\n",
    "X_train, X_test, y_train, y_test = train_test_split(X, y, test_size=0.2, random_state=42)"
   ]
  },
  {
   "cell_type": "code",
   "execution_count": 375,
   "metadata": {},
   "outputs": [],
   "source": [
    "#X_train, y_train = SMOTE().fit_resample(X_train_temp, y_train_temp)"
   ]
  },
  {
   "cell_type": "code",
   "execution_count": 376,
   "metadata": {},
   "outputs": [
    {
     "name": "stdout",
     "output_type": "stream",
     "text": [
      "(8377, 647) (2095, 647)\n",
      "(8377,) (2095,)\n"
     ]
    }
   ],
   "source": [
    "print(X_train.shape, X_test.shape)\n",
    "print(y_train.shape, y_test.shape)"
   ]
  },
  {
   "cell_type": "markdown",
   "metadata": {},
   "source": [
    "# 5. Linear Regression"
   ]
  },
  {
   "cell_type": "code",
   "execution_count": 377,
   "metadata": {},
   "outputs": [],
   "source": [
    "from sklearn.linear_model import LinearRegression\n",
    "\n",
    "lin_reg = LinearRegression()\n",
    "lin_reg.fit(X_train, y_train)\n",
    "lr_predicted = lin_reg.predict(X_test)"
   ]
  },
  {
   "cell_type": "code",
   "execution_count": 378,
   "metadata": {},
   "outputs": [
    {
     "data": {
      "text/plain": [
       "413768570.15586746"
      ]
     },
     "execution_count": 378,
     "metadata": {},
     "output_type": "execute_result"
    }
   ],
   "source": [
    "from sklearn.metrics import mean_squared_error\n",
    "\n",
    "mse = mean_squared_error(y_test, lr_predicted)\n",
    "rmse = np.sqrt(mse)\n",
    "rmse"
   ]
  },
  {
   "cell_type": "code",
   "execution_count": 379,
   "metadata": {},
   "outputs": [
    {
     "data": {
      "text/plain": [
       "-6.849314830535228e+17"
      ]
     },
     "execution_count": 379,
     "metadata": {},
     "output_type": "execute_result"
    }
   ],
   "source": [
    "from sklearn.metrics import r2_score\n",
    "\n",
    "r2_score(y_test, lr_predicted)"
   ]
  },
  {
   "cell_type": "code",
   "execution_count": 380,
   "metadata": {},
   "outputs": [
    {
     "name": "stdout",
     "output_type": "stream",
     "text": [
      "                            OLS Regression Results                            \n",
      "==============================================================================\n",
      "Dep. Variable:                  label   R-squared:                       0.904\n",
      "Model:                            OLS   Adj. R-squared:                  0.897\n",
      "Method:                 Least Squares   F-statistic:                     137.7\n",
      "Date:                Wed, 17 Mar 2021   Prob (F-statistic):               0.00\n",
      "Time:                        15:08:11   Log-Likelihood:                 3719.7\n",
      "No. Observations:                8377   AIC:                            -6369.\n",
      "Df Residuals:                    7842   BIC:                            -2607.\n",
      "Df Model:                         534                                         \n",
      "Covariance Type:            nonrobust                                         \n",
      "==============================================================================\n",
      "                 coef    std err          t      P>|t|      [0.025      0.975]\n",
      "------------------------------------------------------------------------------\n",
      "const         -0.0037      0.025     -0.152      0.879      -0.052       0.045\n",
      "x1             0.0443      0.005      8.647      0.000       0.034       0.054\n",
      "x2            -0.7438      0.046    -16.270      0.000      -0.833      -0.654\n",
      "x3             0.0044      0.002      2.648      0.008       0.001       0.008\n",
      "x4             0.0059      0.001      9.270      0.000       0.005       0.007\n",
      "x5             0.0069      0.001      9.241      0.000       0.005       0.008\n",
      "x6            -0.0045      0.001     -6.484      0.000      -0.006      -0.003\n",
      "x7             0.0316      0.001     27.203      0.000       0.029       0.034\n",
      "x8             0.0012      0.001      1.808      0.071      -0.000       0.003\n",
      "x9             0.0976      0.002     44.619      0.000       0.093       0.102\n",
      "x10            0.1075      0.006     18.613      0.000       0.096       0.119\n",
      "x11           -0.0458      0.004    -12.899      0.000      -0.053      -0.039\n",
      "x12           -0.0841      0.004    -22.429      0.000      -0.091      -0.077\n",
      "x13           -0.2185      0.119     -1.835      0.067      -0.452       0.015\n",
      "x14            0.1447      0.048      2.984      0.003       0.050       0.240\n",
      "x15            0.0701      0.048      1.446      0.148      -0.025       0.165\n",
      "x16            0.3055      0.081      3.778      0.000       0.147       0.464\n",
      "x17           -0.4838      0.044    -11.052      0.000      -0.570      -0.398\n",
      "x18           -0.5034      0.048    -10.586      0.000      -0.597      -0.410\n",
      "x19           -0.0513      0.062     -0.830      0.407      -0.173       0.070\n",
      "x20           -0.1878      0.052     -3.614      0.000      -0.290      -0.086\n",
      "x21            0.1880      0.064      2.947      0.003       0.063       0.313\n",
      "x22           -0.3513      0.038     -9.334      0.000      -0.425      -0.278\n",
      "x23           -0.1242      0.051     -2.425      0.015      -0.225      -0.024\n",
      "x24           -0.0248      0.040     -0.624      0.533      -0.103       0.053\n",
      "x25           -0.1396      0.052     -2.708      0.007      -0.241      -0.039\n",
      "x26           -0.2625      0.040     -6.622      0.000      -0.340      -0.185\n",
      "x27           -0.5243      0.039    -13.593      0.000      -0.600      -0.449\n",
      "x28            0.0782      0.046      1.715      0.086      -0.011       0.168\n",
      "x29           -0.0781      0.019     -4.149      0.000      -0.115      -0.041\n",
      "x30           -0.0430      0.049     -0.884      0.377      -0.138       0.052\n",
      "x31            0.1720      0.056      3.068      0.002       0.062       0.282\n",
      "x32           -0.1197      0.046     -2.583      0.010      -0.211      -0.029\n",
      "x33           -0.1292      0.043     -3.000      0.003      -0.214      -0.045\n",
      "x34            0.1064      0.045      2.351      0.019       0.018       0.195\n",
      "x35           -0.2460      0.063     -3.921      0.000      -0.369      -0.123\n",
      "x36           -0.0636      0.032     -1.962      0.050      -0.127    -6.1e-05\n",
      "x37            0.0831      0.072      1.158      0.247      -0.058       0.224\n",
      "x38            0.0187      0.042      0.443      0.658      -0.064       0.102\n",
      "x39            0.1756      0.048      3.683      0.000       0.082       0.269\n",
      "x40           -0.3208      0.061     -5.297      0.000      -0.439      -0.202\n",
      "x41           -0.1109      0.072     -1.548      0.122      -0.251       0.030\n",
      "x42           -0.0660      0.056     -1.183      0.237      -0.175       0.043\n",
      "x43           -0.0361      0.060     -0.597      0.550      -0.155       0.082\n",
      "x44           -0.4760      0.114     -4.188      0.000      -0.699      -0.253\n",
      "x45           -0.0354      0.022     -1.577      0.115      -0.079       0.009\n",
      "x46           -0.0479      0.025     -1.915      0.056      -0.097       0.001\n",
      "x47           -0.0990      0.062     -1.606      0.108      -0.220       0.022\n",
      "x48            0.4571      0.068      6.714      0.000       0.324       0.591\n",
      "x49            2.8430      0.183     15.514      0.000       2.484       3.202\n",
      "x50           -0.1054      0.025     -4.185      0.000      -0.155      -0.056\n",
      "x51           -0.2139      0.020    -10.913      0.000      -0.252      -0.175\n",
      "x52           -0.0538      0.065     -0.833      0.405      -0.180       0.073\n",
      "x53            0.0724      0.035      2.060      0.039       0.003       0.141\n",
      "x54           -0.5303      0.044    -11.921      0.000      -0.617      -0.443\n",
      "x55            1.2814      0.076     16.813      0.000       1.132       1.431\n",
      "x56           -0.3006      0.054     -5.589      0.000      -0.406      -0.195\n",
      "x57            0.1472      0.041      3.601      0.000       0.067       0.227\n",
      "x58            0.1957      0.064      3.071      0.002       0.071       0.321\n",
      "x59           -0.2290      0.051     -4.469      0.000      -0.329      -0.129\n",
      "x60           -0.0094      0.046     -0.205      0.838      -0.099       0.080\n",
      "x61           -0.1326      0.062     -2.151      0.032      -0.253      -0.012\n",
      "x62            0.1355      0.055      2.441      0.015       0.027       0.244\n",
      "x63            0.1821      0.039      4.728      0.000       0.107       0.258\n",
      "x64           -0.1418      0.035     -4.002      0.000      -0.211      -0.072\n",
      "x65           -0.0061      0.031     -0.199      0.842      -0.066       0.054\n",
      "x66           -0.1981      0.046     -4.304      0.000      -0.288      -0.108\n",
      "x67           -0.0430      0.023     -1.872      0.061      -0.088       0.002\n",
      "x68            0.0790      0.109      0.728      0.467      -0.134       0.292\n",
      "x69            0.2708      0.022     12.093      0.000       0.227       0.315\n",
      "x70         2.057e-15   1.32e-15      1.558      0.119   -5.31e-16    4.64e-15\n",
      "x71           -0.1172      0.151     -0.776      0.438      -0.413       0.179\n",
      "x72           -0.1106      0.018     -5.996      0.000      -0.147      -0.074\n",
      "x73            0.1230      0.046      2.662      0.008       0.032       0.214\n",
      "x74           -0.0204      0.016     -1.237      0.216      -0.053       0.012\n",
      "x75            0.0485      0.042      1.146      0.252      -0.035       0.132\n",
      "x76           -0.1921      0.051     -3.748      0.000      -0.293      -0.092\n",
      "x77           -0.0663      0.028     -2.375      0.018      -0.121      -0.012\n",
      "x78            0.0705      0.017      4.117      0.000       0.037       0.104\n",
      "x79           -0.0049      0.057     -0.086      0.931      -0.117       0.107\n",
      "x80           -0.1166      0.046     -2.518      0.012      -0.207      -0.026\n",
      "x81           -0.0180      0.031     -0.580      0.562      -0.079       0.043\n",
      "x82            0.0935      0.035      2.639      0.008       0.024       0.163\n",
      "x83            0.0082      0.013      0.615      0.538      -0.018       0.034\n",
      "x84           -0.0119      0.013     -0.928      0.354      -0.037       0.013\n",
      "x85           -0.0706      0.013     -5.440      0.000      -0.096      -0.045\n",
      "x86            0.0668      0.014      4.885      0.000       0.040       0.094\n",
      "x87            0.0774      0.160      0.483      0.629      -0.237       0.391\n",
      "x88           -0.1127      0.160     -0.706      0.480      -0.426       0.201\n",
      "x89           -0.0019      0.057     -0.032      0.974      -0.114       0.111\n",
      "x90            0.0373      0.075      0.497      0.619      -0.110       0.184\n",
      "x91           -0.0516      0.134     -0.386      0.699      -0.313       0.210\n",
      "x92            0.3167      0.034      9.320      0.000       0.250       0.383\n",
      "x93            0.0501      0.092      0.546      0.585      -0.130       0.230\n",
      "x94            0.0846      0.160      0.528      0.597      -0.229       0.399\n",
      "x95           -0.1632      0.035     -4.634      0.000      -0.232      -0.094\n",
      "x96           -0.0282      0.113     -0.249      0.803      -0.250       0.194\n",
      "x97           -0.1202      0.155     -0.776      0.438      -0.424       0.183\n",
      "x98           -0.0957      0.081     -1.185      0.236      -0.254       0.063\n",
      "x99            0.0441      0.054      0.815      0.415      -0.062       0.150\n",
      "x100           0.1192      0.160      0.744      0.457      -0.195       0.433\n",
      "x101          -0.0629      0.156     -0.404      0.687      -0.368       0.243\n",
      "x102          -0.0467      0.070     -0.668      0.504      -0.184       0.090\n",
      "x103          -0.1020      0.152     -0.671      0.502      -0.400       0.196\n",
      "x104           0.0656      0.143      0.460      0.645      -0.214       0.345\n",
      "x105           0.0993      0.150      0.660      0.509      -0.196       0.394\n",
      "x106          -0.0896      0.126     -0.709      0.479      -0.338       0.158\n",
      "x107          -0.0364      0.052     -0.703      0.482      -0.138       0.065\n",
      "x108           0.0083      0.031      0.267      0.790      -0.053       0.070\n",
      "x109          -0.1383      0.045     -3.041      0.002      -0.227      -0.049\n",
      "x110        8.674e-16    1.7e-15      0.511      0.609   -2.46e-15    4.19e-15\n",
      "x111           0.0673      0.079      0.848      0.396      -0.088       0.223\n",
      "x112          -0.0836      0.160     -0.523      0.601      -0.397       0.230\n",
      "x113       -2.385e-16   9.91e-16     -0.241      0.810   -2.18e-15     1.7e-15\n",
      "x114       -1.148e-16   1.66e-15     -0.069      0.945   -3.36e-15    3.13e-15\n",
      "x115           0.0063      0.160      0.039      0.969      -0.308       0.320\n",
      "x116          -0.0675      0.034     -1.990      0.047      -0.134      -0.001\n",
      "x117          -0.0773      0.045     -1.700      0.089      -0.166       0.012\n",
      "x118          -0.0715      0.041     -1.731      0.084      -0.153       0.009\n",
      "x119          -0.0023      0.112     -0.021      0.984      -0.222       0.218\n",
      "x120          -0.0871      0.078     -1.124      0.261      -0.239       0.065\n",
      "x121           0.0203      0.142      0.142      0.887      -0.259       0.299\n",
      "x122           0.0223      0.160      0.139      0.889      -0.292       0.336\n",
      "x123       -4.083e-16   1.79e-15     -0.228      0.820   -3.92e-15    3.11e-15\n",
      "x124           0.0096      0.158      0.061      0.952      -0.300       0.320\n",
      "x125           0.0510      0.160      0.319      0.750      -0.262       0.364\n",
      "x126          -0.0191      0.036     -0.527      0.598      -0.090       0.052\n",
      "x127           0.1436      0.155      0.927      0.354      -0.160       0.447\n",
      "x128        1.862e-16   1.84e-15      0.101      0.919   -3.42e-15     3.8e-15\n",
      "x129          -0.0882      0.152     -0.580      0.562      -0.386       0.210\n",
      "x130          -0.0276      0.093     -0.298      0.766      -0.209       0.154\n",
      "x131           0.0195      0.142      0.137      0.891      -0.260       0.298\n",
      "x132        2.016e-16   1.55e-15      0.130      0.897   -2.84e-15    3.24e-15\n",
      "x133           0.0251      0.161      0.156      0.876      -0.291       0.341\n",
      "x134           0.1163      0.158      0.736      0.462      -0.193       0.426\n",
      "x135       -2.609e-16   2.37e-15     -0.110      0.912   -4.91e-15    4.39e-15\n",
      "x136       -2.456e-16   1.17e-15     -0.210      0.833   -2.53e-15    2.04e-15\n",
      "x137           0.0317      0.151      0.210      0.834      -0.265       0.328\n",
      "x138          -0.0301      0.156     -0.193      0.847      -0.336       0.275\n",
      "x139           0.0998      0.137      0.727      0.467      -0.169       0.369\n",
      "x140           0.0121      0.080      0.150      0.881      -0.146       0.170\n",
      "x141        6.124e-17   2.24e-15      0.027      0.978   -4.32e-15    4.44e-15\n",
      "x142          -0.0039      0.128     -0.030      0.976      -0.255       0.248\n",
      "x143           0.0095      0.057      0.166      0.868      -0.103       0.122\n",
      "x144          -0.0804      0.081     -0.997      0.319      -0.238       0.078\n",
      "x145          -0.3430      0.114     -3.017      0.003      -0.566      -0.120\n",
      "x146          -0.0133      0.113     -0.117      0.907      -0.236       0.209\n",
      "x147          -0.0692      0.160     -0.433      0.665      -0.382       0.244\n",
      "x148          -0.0961      0.160     -0.602      0.547      -0.409       0.217\n",
      "x149          -0.0034      0.019     -0.184      0.854      -0.040       0.033\n",
      "x150          -0.1652      0.160     -1.031      0.303      -0.479       0.149\n",
      "x151           0.0078      0.160      0.049      0.961      -0.306       0.322\n",
      "x152          -0.0034      0.111     -0.031      0.975      -0.221       0.214\n",
      "x153          -0.0770      0.054     -1.414      0.157      -0.184       0.030\n",
      "x154          -0.0536      0.083     -0.646      0.519      -0.216       0.109\n",
      "x155           0.0956      0.144      0.664      0.507      -0.187       0.378\n",
      "x156           0.2898      0.082      3.523      0.000       0.129       0.451\n",
      "x157           0.0151      0.047      0.320      0.749      -0.078       0.108\n",
      "x158       -2.963e-16   1.94e-15     -0.152      0.879   -4.11e-15    3.52e-15\n",
      "x159          -0.0859      0.041     -2.084      0.037      -0.167      -0.005\n",
      "x160          -0.1149      0.047     -2.434      0.015      -0.207      -0.022\n",
      "x161           0.1319      0.160      0.823      0.410      -0.182       0.446\n",
      "x162          -0.0943      0.187     -0.505      0.614      -0.460       0.272\n",
      "x163          -0.0037      0.052     -0.071      0.944      -0.105       0.098\n",
      "x164          -0.0009      0.071     -0.012      0.990      -0.140       0.138\n",
      "x165           0.1639      0.160      1.023      0.306      -0.150       0.478\n",
      "x166           0.0392      0.032      1.224      0.221      -0.024       0.102\n",
      "x167          -0.0636      0.032     -1.962      0.050      -0.127    -6.1e-05\n",
      "x168          -0.0541      0.147     -0.369      0.712      -0.342       0.234\n",
      "x169          -0.1036      0.155     -0.670      0.503      -0.407       0.200\n",
      "x170           0.1017      0.149      0.683      0.495      -0.190       0.394\n",
      "x171          -0.0271      0.158     -0.171      0.864      -0.337       0.283\n",
      "x172          -0.0794      0.163     -0.488      0.626      -0.398       0.240\n",
      "x173       -7.278e-17   9.24e-16     -0.079      0.937   -1.88e-15    1.74e-15\n",
      "x174          -0.1706      0.142     -1.198      0.231      -0.450       0.109\n",
      "x175          -0.0783      0.054     -1.446      0.148      -0.185       0.028\n",
      "x176          -0.1180      0.149     -0.792      0.428      -0.410       0.174\n",
      "x177          -0.0737      0.047     -1.559      0.119      -0.166       0.019\n",
      "x178           0.0421      0.230      0.183      0.855      -0.410       0.494\n",
      "x179          -0.2368      0.022    -10.796      0.000      -0.280      -0.194\n",
      "x180           0.0383      0.194      0.197      0.844      -0.342       0.419\n",
      "x181          -0.0374      0.156     -0.240      0.810      -0.343       0.268\n",
      "x182           0.1015      0.147      0.691      0.490      -0.187       0.389\n",
      "x183           0.0076      0.033      0.226      0.821      -0.058       0.073\n",
      "x184          -0.0363      0.160     -0.227      0.821      -0.351       0.278\n",
      "x185          -0.1508      0.066     -2.283      0.022      -0.280      -0.021\n",
      "x186          -0.0105      0.114     -0.093      0.926      -0.233       0.212\n",
      "x187          -0.2351      0.114     -2.068      0.039      -0.458      -0.012\n",
      "x188          -0.1360      0.160     -0.849      0.396      -0.450       0.178\n",
      "x189          -0.1607      0.093     -1.732      0.083      -0.343       0.021\n",
      "x190           0.1109      0.082      1.345      0.179      -0.051       0.273\n",
      "x191          -0.0601      0.160     -0.376      0.707      -0.373       0.253\n",
      "x192          -0.0155      0.153     -0.101      0.919      -0.316       0.285\n",
      "x193          -0.0128      0.156     -0.082      0.935      -0.319       0.293\n",
      "x194          -0.0759      0.109     -0.693      0.488      -0.291       0.139\n",
      "x195           0.0097      0.156      0.063      0.950      -0.296       0.315\n",
      "x196          -0.0965      0.160     -0.602      0.547      -0.411       0.218\n",
      "x197           0.0514      0.151      0.340      0.734      -0.245       0.348\n",
      "x198           0.0846      0.230      0.367      0.714      -0.367       0.536\n",
      "x199           0.0945      0.160      0.590      0.556      -0.220       0.409\n",
      "x200           0.0565      0.052      1.095      0.273      -0.045       0.158\n",
      "x201           0.1010      0.058      1.737      0.082      -0.013       0.215\n",
      "x202          -0.0354      0.112     -0.317      0.751      -0.255       0.184\n",
      "x203          -0.0536      0.150     -0.357      0.721      -0.348       0.241\n",
      "x204           0.2216      0.018     12.331      0.000       0.186       0.257\n",
      "x205          -0.0479      0.025     -1.915      0.056      -0.097       0.001\n",
      "x206          -0.1844      0.160     -1.153      0.249      -0.498       0.129\n",
      "x207           0.0813      0.160      0.508      0.612      -0.233       0.395\n",
      "x208          -0.0308      0.158     -0.195      0.846      -0.341       0.279\n",
      "x209          -0.1419      0.094     -1.507      0.132      -0.326       0.043\n",
      "x210          -0.3783      0.093     -4.071      0.000      -0.560      -0.196\n",
      "x211           0.0609      0.151      0.403      0.687      -0.235       0.357\n",
      "x212          -0.1114      0.111     -1.001      0.317      -0.330       0.107\n",
      "x213          -0.0564      0.066     -0.852      0.394      -0.186       0.073\n",
      "x214          -0.0476      0.031     -1.513      0.130      -0.109       0.014\n",
      "x215           0.0697      0.054      1.290      0.197      -0.036       0.176\n",
      "x216           0.0849      0.081      1.053      0.292      -0.073       0.243\n",
      "x217          -0.0645      0.160     -0.403      0.687      -0.379       0.250\n",
      "x218           0.0308      0.149      0.207      0.836      -0.261       0.323\n",
      "x219          -0.0091      0.158     -0.058      0.954      -0.319       0.300\n",
      "x220          -0.0271      0.072     -0.375      0.708      -0.169       0.115\n",
      "x221          -0.1003      0.068     -1.476      0.140      -0.233       0.033\n",
      "x222          -0.0811      0.115     -0.702      0.482      -0.308       0.145\n",
      "x223           0.0411      0.116      0.356      0.722      -0.185       0.267\n",
      "x224           0.1236      0.160      0.772      0.440      -0.190       0.438\n",
      "x225        1.216e-16   1.74e-15      0.070      0.944   -3.29e-15    3.54e-15\n",
      "x226           0.0172      0.152      0.113      0.910      -0.281       0.315\n",
      "x227           0.0298      0.160      0.186      0.852      -0.284       0.344\n",
      "x228          -0.0163      0.137     -0.119      0.905      -0.284       0.252\n",
      "x229        2.877e-16   1.91e-15      0.151      0.880   -3.45e-15    4.03e-15\n",
      "x230          -0.0356      0.106     -0.336      0.737      -0.243       0.172\n",
      "x231           0.0305      0.014      2.188      0.029       0.003       0.058\n",
      "x232           0.0971      0.048      2.018      0.044       0.003       0.191\n",
      "x233          -0.0347      0.140     -0.247      0.805      -0.310       0.241\n",
      "x234           0.0915      0.156      0.587      0.557      -0.214       0.397\n",
      "x235          -0.0439      0.072     -0.609      0.543      -0.185       0.098\n",
      "x236          -0.0294      0.032     -0.910      0.363      -0.093       0.034\n",
      "x237          -0.1576      0.114     -1.389      0.165      -0.380       0.065\n",
      "x238          -0.0737      0.160     -0.460      0.646      -0.388       0.240\n",
      "x239           0.1921      0.190      1.013      0.311      -0.180       0.564\n",
      "x240          -0.1107      0.093     -1.188      0.235      -0.293       0.072\n",
      "x241          -0.0984      0.032     -3.042      0.002      -0.162      -0.035\n",
      "x242           0.0302      0.140      0.215      0.829      -0.245       0.306\n",
      "x243        5.399e-17    1.4e-15      0.038      0.969    -2.7e-15    2.81e-15\n",
      "x244           0.0874      0.189      0.461      0.645      -0.284       0.459\n",
      "x245           0.0211      0.033      0.642      0.521      -0.043       0.085\n",
      "x246       -5.927e-17   1.58e-15     -0.038      0.970   -3.15e-15    3.03e-15\n",
      "x247           0.0450      0.190      0.237      0.813      -0.327       0.417\n",
      "x248           0.0081      0.159      0.051      0.959      -0.303       0.319\n",
      "x249       -6.637e-17    1.4e-15     -0.047      0.962   -2.81e-15    2.68e-15\n",
      "x250           0.0377      0.112      0.338      0.735      -0.181       0.256\n",
      "x251          -0.0283      0.079     -0.357      0.721      -0.184       0.127\n",
      "x252          -0.0296      0.027     -1.114      0.265      -0.082       0.022\n",
      "x253        8.506e-17   1.68e-15      0.051      0.960    -3.2e-15    3.37e-15\n",
      "x254           0.0249      0.119      0.208      0.835      -0.209       0.259\n",
      "x255          -0.2377      0.101     -2.344      0.019      -0.436      -0.039\n",
      "x256           0.0691      0.080      0.859      0.391      -0.089       0.227\n",
      "x257          -0.4367      0.072     -6.035      0.000      -0.579      -0.295\n",
      "x258          -0.1870      0.044     -4.247      0.000      -0.273      -0.101\n",
      "x259           0.0239      0.093      0.258      0.797      -0.158       0.206\n",
      "x260           0.0222      0.119      0.185      0.853      -0.212       0.256\n",
      "x261          -0.0962      0.160     -0.601      0.548      -0.410       0.218\n",
      "x262           0.0636      0.143      0.445      0.656      -0.217       0.344\n",
      "x263       -5.479e-17   1.58e-15     -0.035      0.972   -3.15e-15    3.04e-15\n",
      "x264           0.1955      0.150      1.299      0.194      -0.099       0.490\n",
      "x265           0.0334      0.033      1.016      0.310      -0.031       0.098\n",
      "x266           0.0665      0.113      0.589      0.556      -0.155       0.288\n",
      "x267          -0.0789      0.160     -0.492      0.623      -0.393       0.235\n",
      "x268           0.0410      0.096      0.426      0.670      -0.148       0.230\n",
      "x269          -0.0462      0.155     -0.299      0.765      -0.350       0.257\n",
      "x270         1.09e-17   1.42e-15      0.008      0.994   -2.77e-15    2.79e-15\n",
      "x271          -0.0967      0.160     -0.605      0.545      -0.410       0.217\n",
      "x272        7.511e-17   1.57e-15      0.048      0.962      -3e-15    3.15e-15\n",
      "x273          -0.0340      0.070     -0.487      0.626      -0.171       0.103\n",
      "x274       -8.232e-18    1.9e-15     -0.004      0.997   -3.73e-15    3.71e-15\n",
      "x275          -0.1617      0.061     -2.642      0.008      -0.282      -0.042\n",
      "x276          -0.0946      0.160     -0.592      0.554      -0.408       0.219\n",
      "x277          -0.1728      0.161     -1.076      0.282      -0.488       0.142\n",
      "x278        9.838e-17   8.73e-16      0.113      0.910   -1.61e-15    1.81e-15\n",
      "x279           0.1117      0.065      1.728      0.084      -0.015       0.238\n",
      "x280          -0.0783      0.061     -1.279      0.201      -0.198       0.042\n",
      "x281           0.1436      0.023      6.364      0.000       0.099       0.188\n",
      "x282           0.0173      0.079      0.218      0.828      -0.138       0.173\n",
      "x283       -4.301e-17   1.51e-15     -0.028      0.977   -3.01e-15    2.92e-15\n",
      "x284          -0.0793      0.072     -1.097      0.273      -0.221       0.062\n",
      "x285          -0.3752      0.029    -12.728      0.000      -0.433      -0.317\n",
      "x286        3.897e-17   1.19e-15      0.033      0.974   -2.29e-15    2.37e-15\n",
      "x287           0.0726      0.062      1.164      0.244      -0.050       0.195\n",
      "x288          -0.0444      0.158     -0.281      0.779      -0.354       0.265\n",
      "x289          -0.1859      0.160     -1.162      0.245      -0.499       0.128\n",
      "x290          -0.0774      0.149     -0.520      0.603      -0.369       0.214\n",
      "x291          -0.0607      0.039     -1.553      0.120      -0.137       0.016\n",
      "x292           0.1419      0.085      1.664      0.096      -0.025       0.309\n",
      "x293          -0.0572      0.156     -0.367      0.714      -0.363       0.248\n",
      "x294          -0.0308      0.158     -0.195      0.845      -0.340       0.279\n",
      "x295        -2.74e-17   1.57e-15     -0.017      0.986   -3.11e-15    3.05e-15\n",
      "x296          -0.1022      0.153     -0.666      0.505      -0.403       0.199\n",
      "x297       -2.553e-17   9.77e-16     -0.026      0.979   -1.94e-15    1.89e-15\n",
      "x298           0.0886      0.160      0.553      0.580      -0.225       0.403\n",
      "x299          -0.0903      0.081     -1.120      0.263      -0.248       0.068\n",
      "x300          -0.0049      0.057     -0.086      0.931      -0.117       0.107\n",
      "x301          -0.2830      0.114     -2.491      0.013      -0.506      -0.060\n",
      "x302           0.3046      0.025     12.416      0.000       0.257       0.353\n",
      "x303          -0.1087      0.093     -1.170      0.242      -0.291       0.073\n",
      "x304           0.0285      0.033      0.868      0.385      -0.036       0.093\n",
      "x305           0.2047      0.160      1.277      0.202      -0.109       0.519\n",
      "x306          -0.0539      0.112     -0.483      0.629      -0.273       0.165\n",
      "x307          -0.1667      0.160     -1.040      0.298      -0.481       0.147\n",
      "x308          -0.2414      0.093     -2.593      0.010      -0.424      -0.059\n",
      "x309          -0.0602      0.160     -0.376      0.707      -0.374       0.254\n",
      "x310          -0.1031      0.047     -2.180      0.029      -0.196      -0.010\n",
      "x311          -0.0488      0.049     -0.991      0.322      -0.145       0.048\n",
      "x312          -0.0838      0.112     -0.745      0.456      -0.304       0.137\n",
      "x313          -0.0181      0.052     -0.347      0.728      -0.120       0.084\n",
      "x314        3.071e-17   1.18e-15      0.026      0.979   -2.28e-15    2.35e-15\n",
      "x315           0.0460      0.163      0.283      0.778      -0.273       0.365\n",
      "x316          -0.0855      0.079     -1.078      0.281      -0.241       0.070\n",
      "x317          -0.1409      0.114     -1.237      0.216      -0.364       0.082\n",
      "x318           0.0819      0.155      0.529      0.597      -0.222       0.385\n",
      "x319        1.611e-17   2.17e-15      0.007      0.994   -4.25e-15    4.28e-15\n",
      "x320          -0.0905      0.110     -0.826      0.409      -0.305       0.124\n",
      "x321          -0.1257      0.160     -0.785      0.433      -0.440       0.188\n",
      "x322          -0.0480      0.116     -0.414      0.679      -0.275       0.179\n",
      "x323          -0.2467      0.194     -1.272      0.204      -0.627       0.134\n",
      "x324           0.0482      0.137      0.351      0.725      -0.221       0.317\n",
      "x325          -0.1089      0.155     -0.702      0.483      -0.413       0.195\n",
      "x326          -0.1054      0.025     -4.185      0.000      -0.155      -0.056\n",
      "x327          -0.0142      0.114     -0.125      0.900      -0.237       0.208\n",
      "x328           0.0966      0.113      0.851      0.395      -0.126       0.319\n",
      "x329          -0.0054      0.165     -0.033      0.974      -0.328       0.318\n",
      "x330           0.1685      0.014     11.988      0.000       0.141       0.196\n",
      "x331          -0.0652      0.160     -0.407      0.684      -0.379       0.249\n",
      "x332           0.0764      0.011      6.856      0.000       0.055       0.098\n",
      "x333          -0.0392      0.031     -1.273      0.203      -0.099       0.021\n",
      "x334           0.1617      0.160      1.009      0.313      -0.152       0.476\n",
      "x335           0.0529      0.133      0.396      0.692      -0.209       0.315\n",
      "x336           0.1430      0.149      0.960      0.337      -0.149       0.435\n",
      "x337          -0.0459      0.113     -0.406      0.685      -0.268       0.176\n",
      "x338           0.1084      0.086      1.256      0.209      -0.061       0.277\n",
      "x339           0.0256      0.152      0.168      0.866      -0.272       0.324\n",
      "x340           0.0690      0.017      4.070      0.000       0.036       0.102\n",
      "x341       -4.556e-22   1.66e-15  -2.74e-07      1.000   -3.26e-15    3.26e-15\n",
      "x342          -0.0354      0.022     -1.577      0.115      -0.079       0.009\n",
      "x343          -0.1723      0.144     -1.195      0.232      -0.455       0.110\n",
      "x344           0.0275      0.054      0.505      0.613      -0.079       0.134\n",
      "x345           0.0106      0.147      0.072      0.942      -0.277       0.299\n",
      "x346          -0.0343      0.045     -0.756      0.450      -0.123       0.055\n",
      "x347           0.0529      0.152      0.348      0.728      -0.245       0.351\n",
      "x348          -0.1418      0.035     -4.002      0.000      -0.211      -0.072\n",
      "x349          -0.0644      0.149     -0.433      0.665      -0.356       0.227\n",
      "x350          -0.0747      0.135     -0.554      0.579      -0.339       0.189\n",
      "x351           0.1129      0.024      4.640      0.000       0.065       0.161\n",
      "x352          -0.0731      0.156     -0.469      0.639      -0.378       0.232\n",
      "x353       -3.448e-23   2.39e-15  -1.44e-08      1.000   -4.68e-15    4.68e-15\n",
      "x354       -1.844e-23   1.96e-15   -9.4e-09      1.000   -3.85e-15    3.85e-15\n",
      "x355           0.0692      0.147      0.471      0.637      -0.219       0.357\n",
      "x356           0.1241      0.155      0.801      0.423      -0.179       0.428\n",
      "x357          -0.0666      0.156     -0.427      0.669      -0.372       0.239\n",
      "x358          -0.0315      0.093     -0.339      0.735      -0.213       0.150\n",
      "x359           0.0666      0.093      0.718      0.473      -0.115       0.249\n",
      "x360          -0.0539      0.160     -0.336      0.737      -0.368       0.260\n",
      "x361          -0.1335      0.114     -1.176      0.240      -0.356       0.089\n",
      "x362       -1.278e-25   1.18e-15  -1.08e-10      1.000   -2.32e-15    2.32e-15\n",
      "x363           0.0076      0.053      0.144      0.885      -0.096       0.111\n",
      "x364        -3.23e-25   1.26e-15  -2.56e-10      1.000   -2.48e-15    2.48e-15\n",
      "x365           0.1034      0.160      0.645      0.519      -0.211       0.417\n",
      "x366           0.0893      0.158      0.564      0.573      -0.221       0.400\n",
      "x367           0.0078      0.113      0.069      0.945      -0.214       0.230\n",
      "x368          -0.2465      0.072     -3.405      0.001      -0.388      -0.105\n",
      "x369           0.3913      0.022     17.719      0.000       0.348       0.435\n",
      "x370           0.0617      0.138      0.447      0.655      -0.209       0.332\n",
      "x371          -0.0812      0.081     -1.008      0.313      -0.239       0.077\n",
      "x372           0.0827      0.158      0.524      0.601      -0.227       0.392\n",
      "x373           0.0520      0.115      0.453      0.651      -0.173       0.277\n",
      "x374           0.0952      0.026      3.713      0.000       0.045       0.146\n",
      "x375          -0.1662      0.061     -2.712      0.007      -0.286      -0.046\n",
      "x376          -0.0246      0.255     -0.096      0.923      -0.525       0.476\n",
      "x377           0.1323      0.158      0.837      0.403      -0.177       0.442\n",
      "x378           0.0174      0.160      0.109      0.914      -0.297       0.332\n",
      "x379           0.0637      0.017      3.649      0.000       0.029       0.098\n",
      "x380           0.1883      0.160      1.175      0.240      -0.126       0.502\n",
      "x381           0.1203      0.158      0.761      0.447      -0.190       0.430\n",
      "x382        5.735e-27   1.71e-15   3.35e-12      1.000   -3.35e-15    3.35e-15\n",
      "x383          -0.0918      0.096     -0.954      0.340      -0.280       0.097\n",
      "x384          -0.0917      0.160     -0.572      0.567      -0.406       0.223\n",
      "x385          -0.0843      0.072     -1.167      0.243      -0.226       0.057\n",
      "x386        3.751e-27   1.23e-15   3.06e-12      1.000    -2.4e-15     2.4e-15\n",
      "x387           0.1861      0.190      0.982      0.326      -0.186       0.558\n",
      "x388           0.1981      0.160      1.236      0.217      -0.116       0.512\n",
      "x389          -0.0212      0.082     -0.259      0.796      -0.181       0.139\n",
      "x390           0.0707      0.160      0.442      0.659      -0.243       0.384\n",
      "x391          -0.0025      0.093     -0.027      0.979      -0.185       0.180\n",
      "x392           0.0410      0.138      0.297      0.766      -0.229       0.312\n",
      "x393           0.0273      0.066      0.416      0.677      -0.101       0.156\n",
      "x394           0.0089      0.081      0.110      0.912      -0.150       0.168\n",
      "x395          -0.1127      0.113     -0.993      0.321      -0.335       0.110\n",
      "x396          -0.0444      0.090     -0.491      0.623      -0.222       0.133\n",
      "x397           0.1682      0.142      1.181      0.238      -0.111       0.447\n",
      "x398           0.8904      0.046     19.474      0.000       0.801       0.980\n",
      "x399           0.3032      0.022     13.879      0.000       0.260       0.346\n",
      "x400        2.023e-27   2.06e-15   9.84e-13      1.000   -4.03e-15    4.03e-15\n",
      "x401          -0.0780      0.116     -0.675      0.500      -0.305       0.149\n",
      "x402          -0.0900      0.114     -0.792      0.428      -0.313       0.133\n",
      "x403         1.22e-27   1.73e-15   7.05e-13      1.000   -3.39e-15    3.39e-15\n",
      "x404           0.1185      0.082      1.440      0.150      -0.043       0.280\n",
      "x405          -0.0220      0.079     -0.278      0.781      -0.177       0.133\n",
      "x406           0.0755      0.160      0.472      0.637      -0.238       0.389\n",
      "x407          -0.0416      0.019     -2.239      0.025      -0.078      -0.005\n",
      "x408        5.664e-28   2.12e-15   2.67e-13      1.000   -4.17e-15    4.17e-15\n",
      "x409          -0.0781      0.019     -4.149      0.000      -0.115      -0.041\n",
      "x410           0.1721      0.160      1.074      0.283      -0.142       0.486\n",
      "x411        1.897e-27   1.41e-15   1.34e-12      1.000   -2.77e-15    2.77e-15\n",
      "x412           0.1554      0.155      1.004      0.316      -0.148       0.459\n",
      "x413           0.0489      0.093      0.526      0.599      -0.133       0.231\n",
      "x414           0.0023      0.143      0.016      0.987      -0.278       0.283\n",
      "x415          -0.0071      0.117     -0.061      0.952      -0.237       0.222\n",
      "x416          -0.0678      0.160     -0.423      0.672      -0.382       0.246\n",
      "x417           0.0943      0.037      2.538      0.011       0.021       0.167\n",
      "x418          -0.1515      0.019     -8.044      0.000      -0.188      -0.115\n",
      "x419          -0.1192      0.058     -2.041      0.041      -0.234      -0.005\n",
      "x420        4.281e-27   1.74e-15   2.46e-12      1.000   -3.41e-15    3.41e-15\n",
      "x421          -0.1530      0.156     -0.982      0.326      -0.458       0.152\n",
      "x422          -0.0061      0.031     -0.199      0.842      -0.066       0.054\n",
      "x423           0.1339      0.189      0.707      0.480      -0.238       0.505\n",
      "x424          -0.1042      0.024     -4.320      0.000      -0.151      -0.057\n",
      "x425          -0.0719      0.081     -0.890      0.374      -0.230       0.087\n",
      "x426        2.505e-27   1.51e-15   1.65e-12      1.000   -2.97e-15    2.97e-15\n",
      "x427           0.0254      0.110      0.231      0.817      -0.190       0.241\n",
      "x428           0.0504      0.054      0.929      0.353      -0.056       0.157\n",
      "x429          -0.0921      0.160     -0.574      0.566      -0.406       0.222\n",
      "x430           0.1304      0.160      0.814      0.416      -0.184       0.444\n",
      "x431           0.0568      0.160      0.355      0.723      -0.257       0.371\n",
      "x432           0.0144      0.044      0.329      0.742      -0.071       0.100\n",
      "x433          -0.0355      0.150     -0.236      0.813      -0.330       0.259\n",
      "x434       -1.208e-27   1.26e-15  -9.56e-13      1.000   -2.48e-15    2.48e-15\n",
      "x435          -0.0591      0.147     -0.402      0.688      -0.347       0.229\n",
      "x436           0.0382      0.152      0.251      0.802      -0.260       0.336\n",
      "x437           0.0276      0.138      0.200      0.842      -0.243       0.298\n",
      "x438           0.0689      0.114      0.603      0.546      -0.155       0.293\n",
      "x439           0.1651      0.160      1.030      0.303      -0.149       0.479\n",
      "x440          -0.0498      0.093     -0.536      0.592      -0.232       0.132\n",
      "x441           0.0020      0.028      0.071      0.943      -0.053       0.057\n",
      "x442          -0.0812      0.114     -0.715      0.475      -0.304       0.141\n",
      "x443        2.038e-27   1.54e-15   1.32e-12      1.000   -3.02e-15    3.02e-15\n",
      "x444          -0.4715      0.160     -2.939      0.003      -0.786      -0.157\n",
      "x445          -0.0983      0.160     -0.613      0.540      -0.413       0.216\n",
      "x446          -0.0956      0.143     -0.669      0.504      -0.376       0.185\n",
      "x447           0.0085      0.149      0.057      0.954      -0.284       0.301\n",
      "x448           0.0364      0.032      1.127      0.260      -0.027       0.100\n",
      "x449          -0.0624      0.156     -0.400      0.689      -0.368       0.243\n",
      "x450           0.0273      0.152      0.179      0.858      -0.271       0.326\n",
      "x451           0.0417      0.114      0.367      0.714      -0.181       0.264\n",
      "x452          -0.0941      0.113     -0.829      0.407      -0.317       0.128\n",
      "x453           0.0437      0.066      0.661      0.509      -0.086       0.174\n",
      "x454          -0.0156      0.025     -0.625      0.532      -0.065       0.033\n",
      "x455        1.433e-27   1.07e-15   1.34e-12      1.000    -2.1e-15     2.1e-15\n",
      "x456          -0.0297      0.160     -0.185      0.853      -0.344       0.285\n",
      "x457          -0.1394      0.107     -1.308      0.191      -0.348       0.070\n",
      "x458           0.0886      0.144      0.614      0.539      -0.194       0.371\n",
      "x459          -0.0627      0.160     -0.392      0.695      -0.376       0.251\n",
      "x460       -1.518e-28   1.43e-15  -1.06e-13      1.000   -2.81e-15    2.81e-15\n",
      "x461          -0.0312      0.116     -0.270      0.787      -0.258       0.196\n",
      "x462           0.0432      0.154      0.281      0.779      -0.258       0.345\n",
      "x463           0.9927      0.078     12.796      0.000       0.841       1.145\n",
      "x464           0.0895      0.021      4.360      0.000       0.049       0.130\n",
      "x465          -0.0583      0.113     -0.514      0.608      -0.281       0.164\n",
      "x466           0.0818      0.038      2.148      0.032       0.007       0.156\n",
      "x467           0.1565      0.156      1.004      0.315      -0.149       0.462\n",
      "x468        2.969e-28   1.17e-15   2.53e-13      1.000    -2.3e-15     2.3e-15\n",
      "x469          -0.0537      0.061     -0.876      0.381      -0.174       0.066\n",
      "x470          -0.0497      0.155     -0.321      0.748      -0.353       0.254\n",
      "x471          -0.1022      0.149     -0.687      0.492      -0.394       0.190\n",
      "x472           0.0406      0.149      0.272      0.786      -0.252       0.333\n",
      "x473          -0.0779      0.160     -0.486      0.627      -0.392       0.236\n",
      "x474           0.0953      0.163      0.586      0.558      -0.223       0.414\n",
      "x475           0.0250      0.111      0.225      0.822      -0.192       0.242\n",
      "x476          -0.0158      0.094     -0.168      0.866      -0.200       0.168\n",
      "x477          -0.0280      0.026     -1.064      0.287      -0.080       0.024\n",
      "x478          -0.0202      0.161     -0.126      0.900      -0.335       0.294\n",
      "x479           0.3886      0.016     24.770      0.000       0.358       0.419\n",
      "x480           0.3696      0.027     13.683      0.000       0.317       0.422\n",
      "x481          -0.0576      0.081     -0.715      0.475      -0.215       0.100\n",
      "x482          -0.0618      0.160     -0.385      0.700      -0.376       0.252\n",
      "x483           0.1687      0.042      4.007      0.000       0.086       0.251\n",
      "x484          -0.1646      0.114     -1.448      0.148      -0.387       0.058\n",
      "x485          -0.0441      0.160     -0.276      0.783      -0.358       0.270\n",
      "x486          -0.0062      0.160     -0.039      0.969      -0.320       0.308\n",
      "x487           0.0978      0.160      0.610      0.542      -0.216       0.412\n",
      "x488           0.4143      0.023     18.276      0.000       0.370       0.459\n",
      "x489           0.1181      0.160      0.737      0.461      -0.196       0.432\n",
      "x490           0.0154      0.081      0.192      0.848      -0.143       0.173\n",
      "x491           0.0616      0.040      1.534      0.125      -0.017       0.140\n",
      "x492           0.1089      0.160      0.680      0.497      -0.205       0.423\n",
      "x493          -0.0478      0.160     -0.299      0.765      -0.362       0.266\n",
      "x494           0.1531      0.160      0.955      0.340      -0.161       0.467\n",
      "x495           0.1751      0.027      6.386      0.000       0.121       0.229\n",
      "x496          -0.1066      0.151     -0.705      0.481      -0.403       0.190\n",
      "x497          -0.0532      0.160     -0.333      0.739      -0.367       0.260\n",
      "x498          -0.0834      0.101     -0.822      0.411      -0.282       0.115\n",
      "x499          -0.0165      0.152     -0.108      0.914      -0.315       0.282\n",
      "x500           0.0174      0.113      0.154      0.878      -0.205       0.240\n",
      "x501           0.0054      0.150      0.036      0.972      -0.290       0.300\n",
      "x502           0.1307      0.153      0.857      0.391      -0.168       0.430\n",
      "x503       -1.315e-29   1.23e-15  -1.07e-14      1.000   -2.42e-15    2.42e-15\n",
      "x504          -0.1018      0.151     -0.673      0.501      -0.398       0.195\n",
      "x505           0.1612      0.062      2.618      0.009       0.041       0.282\n",
      "x506           0.1025      0.058      1.771      0.077      -0.011       0.216\n",
      "x507       -1.019e-27    1.1e-15  -9.25e-13      1.000   -2.16e-15    2.16e-15\n",
      "x508           0.0365      0.160      0.228      0.820      -0.278       0.351\n",
      "x509           0.1077      0.133      0.808      0.419      -0.154       0.369\n",
      "x510           0.0216      0.128      0.168      0.866      -0.230       0.273\n",
      "x511           0.0382      0.158      0.242      0.809      -0.272       0.348\n",
      "x512          -0.0945      0.097     -0.977      0.328      -0.284       0.095\n",
      "x513          -0.2185      0.093     -2.353      0.019      -0.400      -0.037\n",
      "x514          -0.0725      0.023     -3.215      0.001      -0.117      -0.028\n",
      "x515          -0.1860      0.151     -1.231      0.218      -0.482       0.110\n",
      "x516       -4.782e-27   2.28e-15   -2.1e-12      1.000   -4.46e-15    4.46e-15\n",
      "x517           0.1538      0.160      0.959      0.338      -0.161       0.468\n",
      "x518           0.0900      0.106      0.848      0.397      -0.118       0.298\n",
      "x519        3.709e-28   5.83e-16   6.36e-13      1.000   -1.14e-15    1.14e-15\n",
      "x520           0.0507      0.093      0.545      0.586      -0.132       0.233\n",
      "x521          -0.0868      0.149     -0.583      0.560      -0.379       0.205\n",
      "x522           0.2073      0.152      1.360      0.174      -0.092       0.506\n",
      "x523          -0.0240      0.144     -0.166      0.868      -0.306       0.258\n",
      "x524           0.1134      0.081      1.407      0.160      -0.045       0.271\n",
      "x525           0.0692      0.057      1.206      0.228      -0.043       0.182\n",
      "x526        1.777e-27   8.42e-16   2.11e-12      1.000   -1.65e-15    1.65e-15\n",
      "x527          -0.0394      0.110     -0.357      0.721      -0.256       0.177\n",
      "x528          -0.1713      0.149     -1.150      0.250      -0.463       0.121\n",
      "x529       -9.707e-28   6.12e-16  -1.59e-12      1.000    -1.2e-15     1.2e-15\n",
      "x530          -0.0722      0.155     -0.466      0.641      -0.376       0.231\n",
      "x531           0.0666      0.151      0.440      0.660      -0.230       0.363\n",
      "x532           0.1452      0.189      0.766      0.443      -0.226       0.517\n",
      "x533           0.0056      0.159      0.035      0.972      -0.306       0.317\n",
      "x534           0.0116      0.152      0.076      0.939      -0.286       0.310\n",
      "x535          -0.0261      0.093     -0.280      0.779      -0.209       0.156\n",
      "x536          -0.1837      0.114     -1.616      0.106      -0.407       0.039\n",
      "x537          -0.0003      0.049     -0.005      0.996      -0.097       0.097\n",
      "x538           0.0085      0.114      0.075      0.941      -0.215       0.232\n",
      "x539          -0.0679      0.160     -0.425      0.671      -0.381       0.245\n",
      "x540           0.0372      0.139      0.268      0.789      -0.235       0.309\n",
      "x541           0.0804      0.160      0.502      0.616      -0.233       0.394\n",
      "x542           0.1865      0.156      1.196      0.232      -0.119       0.492\n",
      "x543          -0.0368      0.019     -1.900      0.058      -0.075       0.001\n",
      "x544           0.0263      0.057      0.458      0.647      -0.086       0.139\n",
      "x545          -0.0890      0.147     -0.606      0.544      -0.377       0.199\n",
      "x546           0.1322      0.152      0.869      0.385      -0.166       0.430\n",
      "x547           0.0302      0.113      0.266      0.790      -0.192       0.253\n",
      "x548         2.49e-27   1.49e-15   1.67e-12      1.000   -2.92e-15    2.92e-15\n",
      "x549           0.0299      0.093      0.322      0.748      -0.152       0.212\n",
      "x550           0.0129      0.114      0.114      0.910      -0.210       0.236\n",
      "x551          -0.0539      0.158     -0.342      0.733      -0.363       0.256\n",
      "x552          -0.0006      0.093     -0.006      0.995      -0.183       0.181\n",
      "x553           0.0803      0.114      0.706      0.480      -0.143       0.303\n",
      "x554          -0.1329      0.141     -0.945      0.345      -0.409       0.143\n",
      "x555          -0.0468      0.153     -0.307      0.759      -0.346       0.252\n",
      "x556           0.0161      0.093      0.173      0.863      -0.166       0.198\n",
      "x557           0.2009      0.021      9.569      0.000       0.160       0.242\n",
      "x558          -0.0046      0.114     -0.041      0.967      -0.227       0.218\n",
      "x559          -0.0974      0.160     -0.607      0.544      -0.412       0.217\n",
      "x560           0.0897      0.165      0.542      0.588      -0.235       0.414\n",
      "x561           0.0484      0.052      0.940      0.347      -0.053       0.149\n",
      "x562        1.326e-27   7.83e-16   1.69e-12      1.000   -1.54e-15    1.54e-15\n",
      "x563        1.743e-27   1.42e-15   1.22e-12      1.000   -2.79e-15    2.79e-15\n",
      "x564           0.0666      0.151      0.440      0.660      -0.230       0.363\n",
      "x565          -0.0617      0.163     -0.378      0.705      -0.382       0.258\n",
      "x566          -0.0271      0.037     -0.731      0.465      -0.100       0.046\n",
      "x567          -0.0759      0.133     -0.570      0.569      -0.337       0.185\n",
      "x568          -0.0629      0.160     -0.393      0.695      -0.377       0.251\n",
      "x569          -0.2309      0.113     -2.034      0.042      -0.453      -0.008\n",
      "x570           0.0231      0.149      0.154      0.877      -0.270       0.316\n",
      "x571          -0.2481      0.158     -1.569      0.117      -0.558       0.062\n",
      "x572       -9.852e-28    4.8e-16  -2.05e-12      1.000   -9.41e-16    9.41e-16\n",
      "x573           0.0359      0.093      0.387      0.699      -0.146       0.218\n",
      "x574           0.0529      0.149      0.354      0.723      -0.240       0.346\n",
      "x575           0.0024      0.049      0.049      0.961      -0.094       0.099\n",
      "x576          -0.0876      0.160     -0.548      0.584      -0.401       0.226\n",
      "x577           0.0247      0.041      0.600      0.549      -0.056       0.105\n",
      "x578        6.463e-29   4.35e-16   1.48e-13      1.000   -8.54e-16    8.54e-16\n",
      "x579          -0.0298      0.097     -0.308      0.758      -0.220       0.160\n",
      "x580          -0.1106      0.216     -0.513      0.608      -0.534       0.312\n",
      "x581          -0.0634      0.155     -0.410      0.682      -0.367       0.240\n",
      "x582          -0.0208      0.144     -0.144      0.885      -0.303       0.262\n",
      "x583           0.0108      0.096      0.112      0.911      -0.178       0.199\n",
      "x584           0.1081      0.158      0.684      0.494      -0.202       0.418\n",
      "x585           0.1452      0.160      0.908      0.364      -0.168       0.459\n",
      "x586          -0.1379      0.027     -5.085      0.000      -0.191      -0.085\n",
      "x587          -0.0239      0.047     -0.505      0.613      -0.117       0.069\n",
      "x588           0.0802      0.160      0.501      0.617      -0.234       0.394\n",
      "x589           0.0047      0.154      0.030      0.976      -0.296       0.306\n",
      "x590           0.0789      0.160      0.493      0.622      -0.235       0.393\n",
      "x591          -0.0139      0.160     -0.087      0.931      -0.328       0.300\n",
      "x592       -1.901e-29   4.83e-17  -3.93e-13      1.000   -9.48e-17    9.48e-17\n",
      "x593           0.0584      0.103      0.565      0.572      -0.144       0.261\n",
      "x594           0.1570      0.160      0.980      0.327      -0.157       0.471\n",
      "x595           0.1901      0.160      1.186      0.236      -0.124       0.504\n",
      "x596           0.1209      0.099      1.220      0.223      -0.073       0.315\n",
      "x597        -7.63e-29   8.86e-17  -8.61e-13      1.000   -1.74e-16    1.74e-16\n",
      "x598           0.0297      0.151      0.196      0.845      -0.267       0.327\n",
      "x599           0.2301      0.161      1.434      0.152      -0.085       0.545\n",
      "x600           0.1578      0.160      0.985      0.325      -0.156       0.472\n",
      "x601          -0.1774      0.074     -2.403      0.016      -0.322      -0.033\n",
      "x602           0.1392      0.058      2.404      0.016       0.026       0.253\n",
      "x603        6.777e-29    5.2e-17    1.3e-12      1.000   -1.02e-16    1.02e-16\n",
      "x604           0.1078      0.160      0.673      0.501      -0.206       0.422\n",
      "x605          -0.0942      0.160     -0.588      0.557      -0.408       0.220\n",
      "x606           0.0085      0.113      0.075      0.940      -0.214       0.231\n",
      "x607           0.0118      0.160      0.074      0.941      -0.302       0.326\n",
      "x608           0.1268      0.107      1.190      0.234      -0.082       0.336\n",
      "x609          -0.0674      0.042     -1.607      0.108      -0.150       0.015\n",
      "x610          -0.0606      0.099     -0.613      0.540      -0.254       0.133\n",
      "x611           0.9927      0.078     12.796      0.000       0.841       1.145\n",
      "x612          -0.0416      0.019     -2.193      0.028      -0.079      -0.004\n",
      "x613          -0.1570      0.197     -0.798      0.425      -0.543       0.229\n",
      "x614       -4.502e-29   2.13e-17  -2.12e-12      1.000   -4.17e-17    4.17e-17\n",
      "x615          -0.0058      0.148     -0.039      0.969      -0.296       0.285\n",
      "x616          -0.0341      0.034     -1.016      0.310      -0.100       0.032\n",
      "x617          -0.0565      0.038     -1.488      0.137      -0.131       0.018\n",
      "x618          -0.0428      0.069     -0.621      0.534      -0.178       0.092\n",
      "x619          -0.0212      0.082     -0.259      0.796      -0.181       0.139\n",
      "x620          -0.0211      0.040     -0.532      0.594      -0.099       0.057\n",
      "x621          -0.0612      0.051     -1.203      0.229      -0.161       0.038\n",
      "x622          -0.0736      0.065     -1.134      0.257      -0.201       0.054\n",
      "x623          -0.0855      0.079     -1.078      0.281      -0.241       0.070\n",
      "x624           0.0673      0.079      0.848      0.396      -0.088       0.223\n",
      "x625          -0.0328      0.059     -0.551      0.582      -0.149       0.084\n",
      "x626           0.0053      0.065      0.081      0.935      -0.122       0.132\n",
      "x627          -0.0342      0.053     -0.642      0.521      -0.139       0.070\n",
      "x628          -0.0283      0.079     -0.357      0.721      -0.184       0.127\n",
      "x629           0.0470      0.075      0.629      0.529      -0.099       0.194\n",
      "x630          -0.0359      0.060     -0.601      0.548      -0.153       0.081\n",
      "x631          -0.0220      0.079     -0.278      0.781      -0.177       0.133\n",
      "x632          -0.0618      0.043     -1.453      0.146      -0.145       0.022\n",
      "x633          -0.0150      0.069     -0.216      0.829      -0.151       0.121\n",
      "x634          -0.0023      0.046     -0.050      0.960      -0.092       0.087\n",
      "x635          -0.0092      0.060     -0.153      0.878      -0.126       0.108\n",
      "x636          -0.0197      0.047     -0.421      0.674      -0.111       0.072\n",
      "x637           0.0071      0.061      0.116      0.908      -0.113       0.127\n",
      "x638          -0.0210      0.056     -0.374      0.708      -0.131       0.089\n",
      "x639          -0.1045      0.056     -1.878      0.060      -0.214       0.005\n",
      "x640           0.0173      0.079      0.218      0.828      -0.138       0.173\n",
      "x641          -0.0597      0.065     -0.920      0.358      -0.187       0.067\n",
      "x642          -0.0503      0.033     -1.510      0.131      -0.116       0.015\n",
      "x643           0.0251      0.048      0.523      0.601      -0.069       0.119\n",
      "x644           0.0691      0.080      0.859      0.391      -0.089       0.227\n",
      "x645          -0.1359      0.046     -2.969      0.003      -0.226      -0.046\n",
      "x646          -0.0007      0.046     -0.016      0.988      -0.091       0.089\n",
      "x647                0          0        nan        nan           0           0\n",
      "==============================================================================\n",
      "Omnibus:                     2809.320   Durbin-Watson:                   1.958\n",
      "Prob(Omnibus):                  0.000   Jarque-Bera (JB):            13829.282\n",
      "Skew:                          -1.547   Prob(JB):                         0.00\n",
      "Kurtosis:                       8.481   Cond. No.                     6.58e+18\n",
      "==============================================================================\n",
      "\n",
      "Notes:\n",
      "[1] Standard Errors assume that the covariance matrix of the errors is correctly specified.\n",
      "[2] The smallest eigenvalue is 9.92e-33. This might indicate that there are\n",
      "strong multicollinearity problems or that the design matrix is singular.\n"
     ]
    }
   ],
   "source": [
    "import statsmodels.api as sm\n",
    "\n",
    "X_new = sm.add_constant(X_train)\n",
    "toyregr_sm = sm.OLS(y_train.astype(float), X_new.astype(float))\n",
    "results_sm = toyregr_sm.fit()\n",
    "\n",
    "print(results_sm.summary())"
   ]
  },
  {
   "cell_type": "code",
   "execution_count": 381,
   "metadata": {},
   "outputs": [],
   "source": [
    "from sklearn.linear_model import LogisticRegression\n",
    "\n",
    "y_temp = y_train.astype('int')\n",
    "\n",
    "log_reg = LogisticRegression(max_iter=1000, multi_class='ovr')\n",
    "log_reg.fit(X_train, y_temp)\n",
    "log_predicted = log_reg.predict(X_test)"
   ]
  },
  {
   "cell_type": "code",
   "execution_count": 382,
   "metadata": {},
   "outputs": [
    {
     "data": {
      "text/plain": [
       "0.06908885358534668"
      ]
     },
     "execution_count": 382,
     "metadata": {},
     "output_type": "execute_result"
    }
   ],
   "source": [
    "mse = mean_squared_error(y_test, log_predicted)\n",
    "rmse = np.sqrt(mse)\n",
    "rmse"
   ]
  },
  {
   "cell_type": "code",
   "execution_count": 383,
   "metadata": {},
   "outputs": [
    {
     "data": {
      "text/plain": [
       "0.9809037494280239"
      ]
     },
     "execution_count": 383,
     "metadata": {},
     "output_type": "execute_result"
    }
   ],
   "source": [
    "r2_score(y_test, log_predicted)"
   ]
  },
  {
   "cell_type": "code",
   "execution_count": 385,
   "metadata": {},
   "outputs": [
    {
     "name": "stdout",
     "output_type": "stream",
     "text": [
      "accuracy = 0.9952267303102625%\n",
      "roc_auc_score = 0.9952874646559849\n",
      "precision-score = 0.9904214559386973\n",
      "recall-score = 1.0\n",
      "F1-score = 0.9951876804619826\n"
     ]
    },
    {
     "data": {
      "text/plain": [
       "array([[1051,   10],\n",
       "       [   0, 1034]], dtype=int64)"
      ]
     },
     "execution_count": 385,
     "metadata": {},
     "output_type": "execute_result"
    }
   ],
   "source": [
    "from sklearn.metrics import confusion_matrix\n",
    "\n",
    "accuracy = (accuracy_score(y_test, log_predicted))\n",
    "print(\"accuracy = {}%\".format(accuracy))\n",
    "print(\"roc_auc_score = {}\".format(roc_auc_score(y_test, log_predicted)))\n",
    "print(\"precision-score = {}\".format(precision_score(y_test, log_predicted)))\n",
    "print(\"recall-score = {}\".format(recall_score(y_test, log_predicted)))\n",
    "print(\"F1-score = {}\".format(f1_score(y_test, log_predicted)))\n",
    "\n",
    "confusion_matrix(y_test, log_predicted)"
   ]
  },
  {
   "cell_type": "markdown",
   "metadata": {},
   "source": [
    "# 6. PCA"
   ]
  },
  {
   "cell_type": "code",
   "execution_count": 219,
   "metadata": {},
   "outputs": [
    {
     "name": "stdout",
     "output_type": "stream",
     "text": [
      "[35.52613598 30.52934619  6.7222188   3.8818686   1.3606588   1.32032989]\n",
      "6\n"
     ]
    }
   ],
   "source": [
    "pca = PCA(n_components=0.95) # Create an instance of PCA model\n",
    "pca.fit(X_train) # Fit X_train to PCA\n",
    "X_train = pca.transform(X_train) # transform training data\n",
    "X_test = pca.transform(X_test) # transform test data\n",
    "print(pca.explained_variance_)\n",
    "print(pca.n_components_)"
   ]
  },
  {
   "cell_type": "code",
   "execution_count": 220,
   "metadata": {},
   "outputs": [
    {
     "name": "stdout",
     "output_type": "stream",
     "text": [
      "[[-3.87320299 -1.63360314 -1.02941636  0.83444497 -0.36030468  1.71501823]\n",
      " [-4.1430277  -2.4140799   0.04275821 -0.78489977  1.36622729 -1.24442034]\n",
      " [-4.24327697 -2.0921594  -0.67651334 -0.12336708  0.26108134  1.24673239]\n",
      " ...\n",
      " [19.13086715 -0.23106214 -5.40819249 -1.48894115 -0.42373005  0.88548112]\n",
      " [ 6.34595162 -0.05757893  9.96182115  1.72733095 -0.45550872  1.20243083]\n",
      " [-2.73678844  7.26685418 -0.82424373  1.77636817 -1.11934945 -1.35478083]]\n"
     ]
    }
   ],
   "source": [
    "print(X_train)"
   ]
  },
  {
   "cell_type": "code",
   "execution_count": 221,
   "metadata": {},
   "outputs": [
    {
     "name": "stdout",
     "output_type": "stream",
     "text": [
      "[[-4.92228915 -2.4908769  -0.54466133 -1.14976827 -1.51749068  2.08461436]\n",
      " [-4.63600142 -2.40993292 -0.52573366 -0.73827486 -0.84772528  1.57207674]\n",
      " [-4.9407654  -2.50070167 -0.52851711 -1.19354067 -1.15177872  1.6575278 ]\n",
      " ...\n",
      " [-4.51381109 -2.46410533 -0.2326742  -1.00715291  0.45151603  0.09787329]\n",
      " [-4.59921061 -2.4795135  -0.27687645 -1.11036168 -0.02900953  0.43898091]\n",
      " [-4.91255806 -2.49893103 -0.52150667 -1.16306334 -1.28959169  1.86178245]]\n"
     ]
    }
   ],
   "source": [
    "print(X_test)"
   ]
  },
  {
   "cell_type": "code",
   "execution_count": 222,
   "metadata": {},
   "outputs": [
    {
     "name": "stdout",
     "output_type": "stream",
     "text": [
      "(8374, 6) (1059, 6)\n",
      "(8374,) (1059,)\n"
     ]
    }
   ],
   "source": [
    "print(X_train.shape, X_test.shape)\n",
    "print(y_train.shape, y_test.shape)"
   ]
  },
  {
   "cell_type": "markdown",
   "metadata": {},
   "source": [
    "# 7. Ensemble"
   ]
  },
  {
   "cell_type": "code",
   "execution_count": null,
   "metadata": {},
   "outputs": [],
   "source": [
    "# y_train = y_train.astype('int')\n",
    "# y_test = y_test.astype('int')"
   ]
  },
  {
   "cell_type": "code",
   "execution_count": 386,
   "metadata": {},
   "outputs": [
    {
     "name": "stdout",
     "output_type": "stream",
     "text": [
      "0.8968802469113296\n",
      "accuracy = 0.9742243436754177%\n",
      "roc_auc_score = 0.9742815890268112\n",
      "F1-score = 0.9740134744947063\n"
     ]
    }
   ],
   "source": [
    "from sklearn.datasets import make_regression\n",
    "from sklearn.model_selection import train_test_split\n",
    "from sklearn.ensemble import RandomForestClassifier\n",
    "from sklearn.metrics import r2_score\n",
    "\n",
    "# assuming we have X_train,X_test,y_train,y_test at this time\n",
    "# I first run Random Forest using random hard coded settings to get a baseline\n",
    "rf = RandomForestClassifier(n_estimators=80,max_depth=7,max_features=3)\n",
    "rf.fit(X_train,y_train)\n",
    "y_pred = rf.predict(X_test)\n",
    "test_score = r2_score(y_test,y_pred)\n",
    "print(test_score)\n",
    "accuracy = (accuracy_score(y_test, y_pred))\n",
    "print(\"accuracy = {}%\".format(accuracy))\n",
    "print(\"roc_auc_score = {}\".format(roc_auc_score(y_test, y_pred)))\n",
    "print(\"F1-score = {}\".format(f1_score(y_test, y_pred)))"
   ]
  },
  {
   "cell_type": "code",
   "execution_count": null,
   "metadata": {},
   "outputs": [],
   "source": [
    "from sklearn.model_selection import RandomizedSearchCV\n",
    "import numpy as np\n",
    "# I then use RandomizedSearchCV to find the optimal hyperparameters\n",
    "n_estimators = [int(x) for x in np.linspace(start = 100, stop = 1500, num = 30)]\n",
    "max_features = ['auto', 'sqrt']\n",
    "max_depth = [int(x) for x in np.linspace(5, 100, num = 10)]\n",
    "max_depth.append(None)\n",
    "min_samples_split = [2, 5, 7, 10]\n",
    "min_samples_leaf = [2, 5, 7, 10]\n",
    "random_grid = {'n_estimators': n_estimators,\n",
    "               'max_features': max_features,\n",
    "               'max_depth': max_depth,\n",
    "               'min_samples_split': min_samples_split,\n",
    "               'min_samples_leaf': min_samples_leaf}\n",
    "\n",
    "rf = RandomForestClassifier(class_weight='balanced', random_state=42)\n",
    "\n",
    "rf_random = RandomizedSearchCV(estimator = rf, param_distributions = random_grid, n_iter = 100, cv = 3, verbose=2, random_state=42, n_jobs = -1)\n",
    "rf_random.fit(X_train, y_train)\n",
    "rf_random.best_params_"
   ]
  },
  {
   "cell_type": "code",
   "execution_count": null,
   "metadata": {},
   "outputs": [],
   "source": [
    "rf = RandomForestRegressor(n_estimators=411,max_depth=68,max_features='auto',min_samples_split=5,min_samples_leaf=2,bootstrap=True)\n",
    "rf.fit(X_train,y_train)\n",
    "y_pred = rf.predict(X_test)\n",
    "misclassified = 0\n",
    "for i in range(len(y_pred)):\n",
    "    if y_pred[i] != y_test[i]:\n",
    "        misclassified += 1\n",
    "accuracy = ((1000-misclassified)*100/len(y_pred))\n",
    "print(\"accuracy = {}%\".format(accuracy))"
   ]
  },
  {
   "cell_type": "code",
   "execution_count": null,
   "metadata": {},
   "outputs": [],
   "source": [
    "# from sklearn.datasets import make_regression\n",
    "# from sklearn.model_selection import train_test_split\n",
    "# from sklearn.ensemble import RandomForestRegressor\n",
    "# from sklearn.metrics import r2_score\n",
    "\n",
    "# # assuming we have X_train,X_test,y_train,y_test at this time\n",
    "# # I first run Random Forest using random hard coded settings to get a baseline\n",
    "# rf = RandomForestRegressor(n_estimators=80,max_depth=7,max_features=3)\n",
    "# rf.fit(X_train,y_train)\n",
    "# y_pred = rf.predict(X_test)\n",
    "# test_score = r2_score(y_test,y_pred)\n",
    "# test_score"
   ]
  },
  {
   "cell_type": "code",
   "execution_count": null,
   "metadata": {},
   "outputs": [],
   "source": [
    "# from sklearn.model_selection import RandomizedSearchCV\n",
    "# import numpy as np\n",
    "# # I then use RandomizedSearchCV to find the optimal hyperparameters\n",
    "# n_estimators = [int(x) for x in np.linspace(start = 100, stop = 1500, num = 10)]\n",
    "# max_features = ['auto', 'sqrt']\n",
    "# max_depth = [int(x) for x in np.linspace(5, 100, num = 10)]\n",
    "# max_depth.append(None)\n",
    "# min_samples_split = [2, 5, 7, 10, 20]\n",
    "# min_samples_leaf = [2, 5, 7, 10]\n",
    "# bootstrap = [True, False]\n",
    "# random_grid = {'n_estimators': n_estimators,\n",
    "#                'max_features': max_features,\n",
    "#                'max_depth': max_depth,\n",
    "#                'min_samples_split': min_samples_split,\n",
    "#                'min_samples_leaf': min_samples_leaf,\n",
    "#                'bootstrap': bootstrap}\n",
    "\n",
    "# rf_random = RandomizedSearchCV(estimator = rf, param_distributions = random_grid, n_iter = 100, cv = 5, verbose=2, random_state=42, n_jobs = -1)\n",
    "# rf_random.fit(X_train, y_train)\n",
    "# rf_random.best_params_"
   ]
  },
  {
   "cell_type": "code",
   "execution_count": null,
   "metadata": {},
   "outputs": [],
   "source": [
    "# # I then output the r2 score again as a sanity check to verify that my RanomdizedSearchCV actually did find the best settings\n",
    "# rf = RandomForestRegressor(n_estimators=411,max_depth=68,max_features='auto',min_samples_split=5,min_samples_leaf=2,bootstrap=True)\n",
    "# rf.fit(X_train,y_train)\n",
    "# y_pred = rf.predict(X_test)\n",
    "# from sklearn.metrics import r2_score\n",
    "# test_score = r2_score(y_test,y_pred)\n",
    "# test_score"
   ]
  },
  {
   "cell_type": "code",
   "execution_count": null,
   "metadata": {},
   "outputs": [],
   "source": [
    "# we then use the hyperparameters we found from the RandomizedSearchCV to do a second more thorough check around that range\n",
    "from sklearn.model_selection import GridSearchCV\n",
    "param_grid = {\n",
    "    'bootstrap': [True],\n",
    "    'max_depth': [65, 68, 71],\n",
    "    'max_features': ['auto'],\n",
    "    'min_samples_leaf': [2, 4, 6],\n",
    "    'min_samples_split': [3, 5, 7],\n",
    "    'n_estimators': [375, 411, 500]\n",
    "}\n",
    "# Create a based model\n",
    "rf = RandomForestRegressor()\n",
    "# Instantiate the grid search model\n",
    "grid_search = GridSearchCV(estimator = rf, param_grid = param_grid, \n",
    "                          cv = 5, n_jobs = -1, verbose = 2)\n",
    "grid_search.fit(X_train, y_train)\n",
    "grid_search.best_params_"
   ]
  },
  {
   "cell_type": "code",
   "execution_count": null,
   "metadata": {},
   "outputs": [],
   "source": [
    "# we then output the results using the optimal hyperparameters to check that our model has improved\n",
    "rf = RandomForestRegressor(n_estimators=375,max_depth=68,max_features='auto',min_samples_split=3,min_samples_leaf=2,bootstrap=True)\n",
    "rf.fit(X_train,y_train)\n",
    "y_pred = rf.predict(X_test)\n",
    "from sklearn.metrics import r2_score\n",
    "test_score = r2_score(y_test,y_pred)\n",
    "test_score"
   ]
  },
  {
   "cell_type": "code",
   "execution_count": null,
   "metadata": {},
   "outputs": [],
   "source": [
    "# AdaBoost using the same settings\n",
    "from sklearn.ensemble import AdaBoostRegressor\n",
    "from sklearn.tree import DecisionTreeRegressor\n",
    "from sklearn import metrics\n",
    "\n",
    "dt = DecisionTreeRegressor(max_depth=80,max_features='auto',min_samples_leaf=2,min_samples_split=3)\n",
    "ab = AdaBoostRegressor(base_estimator=dt,learning_rate=1,n_estimators=450)\n",
    "ab.fit(X_train,y_train)\n",
    "y_pred = ab.predict(X_test)\n",
    "test_score = r2_score(y_test,y_pred)\n",
    "test_score"
   ]
  },
  {
   "cell_type": "markdown",
   "metadata": {},
   "source": [
    "# 8. Neural Network Classifier"
   ]
  },
  {
   "cell_type": "code",
   "execution_count": null,
   "metadata": {},
   "outputs": [],
   "source": [
    "# # Define a transform to normalize the data\n",
    "# transform = transforms.Compose([transforms.ToTensor(),\n",
    "#                                 transforms.Normalize((0.5,), (0.5,)),\n",
    "#                               ])\n",
    "# Download and load the training data\n",
    "NN_X_train = torch.tensor(df.drop([\"label\"], axis=1).values)\n",
    "NN_y_train = torch.tensor(df[\"label\"].values)\n",
    "trainset = TensorDataset(NN_X_train, NN_y_train)\n",
    "trainloader = DataLoader(trainset, batch_size=64, shuffle=True)"
   ]
  },
  {
   "cell_type": "code",
   "execution_count": null,
   "metadata": {},
   "outputs": [],
   "source": [
    "NUM_FEATURES = 20\n",
    "NUM_HIDDEN1_NODES = 400\n",
    "NUM_EPOCHS = 30\n",
    "\n",
    "model = nn.Sequential(nn.Linear(NUM_FEATURES, NUM_HIDDEN1_NODES),\n",
    "                      nn.Sigmoid(),\n",
    "                      nn.Linear(NUM_HIDDEN1_NODES, 1)\n",
    "                     )\n",
    "\n",
    "criterion = nn.CrossEntropyLoss()\n",
    "optimizer = optim.SGD(model.parameters(), lr=0.003)\n",
    "\n",
    "for e in range(NUM_EPOCHS):\n",
    "    running_loss = 0\n",
    "    for data, labels in trainloader:\n",
    "        optimizer.zero_grad()\n",
    "        output = model(data)\n",
    "        loss = criterion(output, labels)\n",
    "        loss.backward()\n",
    "        optimizer.step()\n",
    "        running_loss += loss.item()\n",
    "    print(f\"Training loss: {running_loss/len(trainloader)}\")\n",
    "    \n",
    "# class NeuralNet(nn.Module):\n",
    "#     def __init__(self):\n",
    "#         super(NeuralNet, self).__init__()\n",
    "        \n",
    "#         # Inputs to hidden layer linear transformation\n",
    "#         self.hidden1 = nn.Linear(NUM_FEATURES, NUM_HIDDEN1_NODES)\n",
    "#         self.output = nn.Linear(NUM_HIDDEN1_NODES, 1)\n",
    "        \n",
    "#         self.sigmoid = nn.Sigmoid()\n",
    "        \n",
    "#     def forward(self, x):\n",
    "#         x = self.hidden1(x)\n",
    "#         x = self.sigmoid(x)\n",
    "#         x = self.output(x)\n",
    "#         x = self.softmax(x)\n",
    "#         return x"
   ]
  },
  {
   "cell_type": "code",
   "execution_count": null,
   "metadata": {},
   "outputs": [],
   "source": [
    "# model = Network()\n",
    "# model"
   ]
  },
  {
   "cell_type": "markdown",
   "metadata": {},
   "source": [
    "# 9. Cross-Validate"
   ]
  },
  {
   "cell_type": "code",
   "execution_count": null,
   "metadata": {},
   "outputs": [],
   "source": [
    "from sklearn import model_selection\n",
    "\n",
    "kfold = model_selection.KFold(n_splits=10, random_state=42, shuffle=True)\n",
    "\n",
    "rf_model_kfold = RandomForestClassifier(n_estimators=80,max_depth=7,max_features=3)\n",
    "\n",
    "rf_results_kfold = model_selection.cross_val_score(rf_model_kfold, df_prepared[:5291], labels, cv=kfold)\n",
    "\n",
    "print(\"RF Accuracy: %.2f%%\" % (rf_results_kfold.mean()*100.0)) "
   ]
  },
  {
   "cell_type": "code",
   "execution_count": null,
   "metadata": {},
   "outputs": [],
   "source": [
    "nn = KerasClassifier(build_fn=create_network, epochs=10, batch_size=100, verbose=0)\n",
    "\n",
    "nn_results_kfold = model_selection.cross_val_score(nn, df_prepared[:5291], labels, cv=kfold)\n",
    "\n",
    "print(\"NN Accuracy: %.2f%%\" % (rf_results_kfold.mean()*100.0)) "
   ]
  },
  {
   "cell_type": "markdown",
   "metadata": {},
   "source": [
    "# 10. Custom Model"
   ]
  },
  {
   "cell_type": "code",
   "execution_count": 233,
   "metadata": {},
   "outputs": [
    {
     "name": "stdout",
     "output_type": "stream",
     "text": [
      "accuracy for kernel=linear = 0.947119924457035%\n",
      "roc_auc_score = 0.8247378455672069\n",
      "F1-score = 0.2\n",
      "accuracy for kernel=rbf = 0.9886685552407932%\n",
      "roc_auc_score = 0.994280266920877\n",
      "F1-score = 0.625\n",
      "accuracy for kernel=sigmoid = 0.9612842304060434%\n",
      "roc_auc_score = 0.9804575786463298\n",
      "F1-score = 0.3278688524590164\n"
     ]
    },
    {
     "name": "stderr",
     "output_type": "stream",
     "text": [
      "/Users/shrenik/opt/anaconda3/lib/python3.8/site-packages/sklearn/svm/_base.py:255: ConvergenceWarning: Solver terminated early (max_iter=100).  Consider pre-processing your data with StandardScaler or MinMaxScaler.\n",
      "  warnings.warn('Solver terminated early (max_iter=%i).'\n",
      "/Users/shrenik/opt/anaconda3/lib/python3.8/site-packages/sklearn/svm/_base.py:255: ConvergenceWarning: Solver terminated early (max_iter=100).  Consider pre-processing your data with StandardScaler or MinMaxScaler.\n",
      "  warnings.warn('Solver terminated early (max_iter=%i).'\n",
      "/Users/shrenik/opt/anaconda3/lib/python3.8/site-packages/sklearn/svm/_base.py:255: ConvergenceWarning: Solver terminated early (max_iter=100).  Consider pre-processing your data with StandardScaler or MinMaxScaler.\n",
      "  warnings.warn('Solver terminated early (max_iter=%i).'\n"
     ]
    }
   ],
   "source": [
    "kernel_types = ['linear', 'rbf', 'sigmoid']\n",
    "for kernel in kernel_types:\n",
    "    svc = SVC(kernel=kernel, class_weight='balanced', random_state=42, max_iter=100) #class_weight='balanced'\n",
    "    svc.fit(X_train, y_train)\n",
    "    y_pred = svc.predict(X_test)\n",
    "    accuracy = (accuracy_score(y_test, y_pred))\n",
    "    print(\"accuracy for kernel={} = {}%\".format(kernel, accuracy))\n",
    "    print(\"roc_auc_score = {}\".format(roc_auc_score(y_test, y_pred)))\n",
    "    print(\"F1-score = {}\".format(f1_score(y_test, y_pred)))"
   ]
  },
  {
   "cell_type": "code",
   "execution_count": null,
   "metadata": {},
   "outputs": [],
   "source": []
  }
 ],
 "metadata": {
  "kernelspec": {
   "display_name": "Python 3",
   "language": "python",
   "name": "python3"
  },
  "language_info": {
   "codemirror_mode": {
    "name": "ipython",
    "version": 3
   },
   "file_extension": ".py",
   "mimetype": "text/x-python",
   "name": "python",
   "nbconvert_exporter": "python",
   "pygments_lexer": "ipython3",
   "version": "3.8.5"
  }
 },
 "nbformat": 4,
 "nbformat_minor": 4
}
