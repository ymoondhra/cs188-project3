{
 "cells": [
  {
   "cell_type": "code",
   "execution_count": 3,
   "metadata": {},
   "outputs": [],
   "source": [
    "import numpy as np # linear algebra\n",
    "import pandas as pd # data processing, CSV file I/O (e.g. pd.read_csv)\n",
    "import matplotlib.pyplot as plt # this is used for the plot the graph \n",
    "from datetime import date\n",
    "import random\n",
    "\n",
    "from sklearn.decomposition import PCA\n",
    "from sklearn.experimental import enable_iterative_imputer\n",
    "from sklearn.impute import IterativeImputer\n",
    "from sklearn.impute import SimpleImputer\n",
    "from sklearn.compose import ColumnTransformer\n",
    "from sklearn.pipeline import Pipeline\n",
    "from sklearn.preprocessing import StandardScaler\n",
    "from sklearn.preprocessing import OneHotEncoder\n",
    "from sklearn.preprocessing import MultiLabelBinarizer\n",
    "from sklearn.model_selection import train_test_split\n",
    "from sklearn.svm import SVC\n",
    "from sklearn.metrics import roc_auc_score\n",
    "from sklearn.metrics import f1_score\n",
    "from sklearn.metrics import accuracy_score\n",
    "from imblearn.over_sampling import SMOTE\n",
    "\n",
    "import torch\n",
    "from torch import nn\n",
    "import torch.nn.functional as F\n",
    "from torchvision import transforms\n",
    "from torch.utils.data import TensorDataset, DataLoader\n",
    "\n",
    "import keras\n",
    "from keras.models import Sequential\n",
    "from keras.layers import Dense\n",
    "\n",
    "%matplotlib inline\n",
    "\n",
    "import random \n",
    "random.seed(42)"
   ]
  },
  {
   "cell_type": "code",
   "execution_count": 4,
   "metadata": {},
   "outputs": [],
   "source": [
    "csv_path_1 = \"training_dataset.csv\"\n",
    "csv_path_2 = \"score.csv\""
   ]
  },
  {
   "cell_type": "markdown",
   "metadata": {},
   "source": [
    "# 0. First, let's understand our data..."
   ]
  },
  {
   "cell_type": "code",
   "execution_count": 5,
   "metadata": {},
   "outputs": [
    {
     "data": {
      "text/html": [
       "<div>\n",
       "<style scoped>\n",
       "    .dataframe tbody tr th:only-of-type {\n",
       "        vertical-align: middle;\n",
       "    }\n",
       "\n",
       "    .dataframe tbody tr th {\n",
       "        vertical-align: top;\n",
       "    }\n",
       "\n",
       "    .dataframe thead th {\n",
       "        text-align: right;\n",
       "    }\n",
       "</style>\n",
       "<table border=\"1\" class=\"dataframe\">\n",
       "  <thead>\n",
       "    <tr style=\"text-align: right;\">\n",
       "      <th></th>\n",
       "      <th>dt</th>\n",
       "      <th>weekday</th>\n",
       "      <th>year</th>\n",
       "      <th>id_driver</th>\n",
       "      <th>id_carrier_number</th>\n",
       "      <th>dim_carrier_type</th>\n",
       "      <th>dim_carrier_company_name</th>\n",
       "      <th>home_base_city</th>\n",
       "      <th>home_base_state</th>\n",
       "      <th>carrier_trucks</th>\n",
       "      <th>...</th>\n",
       "      <th>most_recent_load_date</th>\n",
       "      <th>load_day</th>\n",
       "      <th>loads</th>\n",
       "      <th>marketplace_loads_otr</th>\n",
       "      <th>marketplace_loads_atlas</th>\n",
       "      <th>marketplace_loads</th>\n",
       "      <th>brokerage_loads_otr</th>\n",
       "      <th>brokerage_loads_atlas</th>\n",
       "      <th>brokerage_loads</th>\n",
       "      <th>total_loads</th>\n",
       "    </tr>\n",
       "  </thead>\n",
       "  <tbody>\n",
       "    <tr>\n",
       "      <th>0</th>\n",
       "      <td>2019-12-16</td>\n",
       "      <td>Monday</td>\n",
       "      <td>2019</td>\n",
       "      <td>21350</td>\n",
       "      <td>U0109015</td>\n",
       "      <td>Owner Operator</td>\n",
       "      <td>CA&amp;F TRUCKING</td>\n",
       "      <td>Maywood</td>\n",
       "      <td>CA</td>\n",
       "      <td>[\"poweronly\"]</td>\n",
       "      <td>...</td>\n",
       "      <td>2021-02-17</td>\n",
       "      <td>2019-12-16</td>\n",
       "      <td>2</td>\n",
       "      <td>0</td>\n",
       "      <td>438</td>\n",
       "      <td>438</td>\n",
       "      <td>0</td>\n",
       "      <td>45</td>\n",
       "      <td>45</td>\n",
       "      <td>483</td>\n",
       "    </tr>\n",
       "    <tr>\n",
       "      <th>1</th>\n",
       "      <td>2021-01-15</td>\n",
       "      <td>Friday</td>\n",
       "      <td>2021</td>\n",
       "      <td>36437</td>\n",
       "      <td>C0097727</td>\n",
       "      <td>Fleet</td>\n",
       "      <td>New opportunities inc</td>\n",
       "      <td>Los Angeles</td>\n",
       "      <td>CA</td>\n",
       "      <td>[\"poweronly\", \"boxtruck\"]</td>\n",
       "      <td>...</td>\n",
       "      <td>2021-02-03</td>\n",
       "      <td>2021-01-15</td>\n",
       "      <td>1</td>\n",
       "      <td>2</td>\n",
       "      <td>72</td>\n",
       "      <td>74</td>\n",
       "      <td>0</td>\n",
       "      <td>1</td>\n",
       "      <td>1</td>\n",
       "      <td>75</td>\n",
       "    </tr>\n",
       "    <tr>\n",
       "      <th>2</th>\n",
       "      <td>2019-12-26</td>\n",
       "      <td>Thursday</td>\n",
       "      <td>2019</td>\n",
       "      <td>19323</td>\n",
       "      <td>U0107081</td>\n",
       "      <td>Owner Operator</td>\n",
       "      <td>RAS</td>\n",
       "      <td>Compton</td>\n",
       "      <td>CA</td>\n",
       "      <td>[\"poweronly\"]</td>\n",
       "      <td>...</td>\n",
       "      <td>2020-09-25</td>\n",
       "      <td>2019-12-26</td>\n",
       "      <td>1</td>\n",
       "      <td>0</td>\n",
       "      <td>180</td>\n",
       "      <td>180</td>\n",
       "      <td>0</td>\n",
       "      <td>2</td>\n",
       "      <td>2</td>\n",
       "      <td>182</td>\n",
       "    </tr>\n",
       "    <tr>\n",
       "      <th>3</th>\n",
       "      <td>2021-02-10</td>\n",
       "      <td>Wednesday</td>\n",
       "      <td>2021</td>\n",
       "      <td>34809</td>\n",
       "      <td>C0094651</td>\n",
       "      <td>Fleet</td>\n",
       "      <td>NFS asset Drayage</td>\n",
       "      <td>Lynwood</td>\n",
       "      <td>CA</td>\n",
       "      <td>[\"poweronly\", \"dryvan\"]</td>\n",
       "      <td>...</td>\n",
       "      <td>2021-02-17</td>\n",
       "      <td>2021-02-10</td>\n",
       "      <td>3</td>\n",
       "      <td>0</td>\n",
       "      <td>0</td>\n",
       "      <td>0</td>\n",
       "      <td>0</td>\n",
       "      <td>0</td>\n",
       "      <td>0</td>\n",
       "      <td>62</td>\n",
       "    </tr>\n",
       "    <tr>\n",
       "      <th>4</th>\n",
       "      <td>2017-07-24</td>\n",
       "      <td>Monday</td>\n",
       "      <td>2017</td>\n",
       "      <td>4728</td>\n",
       "      <td>U0094376</td>\n",
       "      <td>Owner Operator</td>\n",
       "      <td>joes transportation</td>\n",
       "      <td>Norco</td>\n",
       "      <td>CA</td>\n",
       "      <td>[\"dryvan\"]</td>\n",
       "      <td>...</td>\n",
       "      <td>2017-10-11</td>\n",
       "      <td>2017-07-24</td>\n",
       "      <td>2</td>\n",
       "      <td>57</td>\n",
       "      <td>0</td>\n",
       "      <td>57</td>\n",
       "      <td>314</td>\n",
       "      <td>0</td>\n",
       "      <td>314</td>\n",
       "      <td>371</td>\n",
       "    </tr>\n",
       "  </tbody>\n",
       "</table>\n",
       "<p>5 rows × 30 columns</p>\n",
       "</div>"
      ],
      "text/plain": [
       "           dt    weekday  year  id_driver id_carrier_number dim_carrier_type  \\\n",
       "0  2019-12-16     Monday  2019      21350          U0109015   Owner Operator   \n",
       "1  2021-01-15     Friday  2021      36437          C0097727            Fleet   \n",
       "2  2019-12-26   Thursday  2019      19323          U0107081   Owner Operator   \n",
       "3  2021-02-10  Wednesday  2021      34809          C0094651            Fleet   \n",
       "4  2017-07-24     Monday  2017       4728          U0094376   Owner Operator   \n",
       "\n",
       "  dim_carrier_company_name home_base_city home_base_state  \\\n",
       "0            CA&F TRUCKING        Maywood              CA   \n",
       "1   New opportunities inc     Los Angeles              CA   \n",
       "2                      RAS        Compton              CA   \n",
       "3        NFS asset Drayage        Lynwood              CA   \n",
       "4      joes transportation          Norco              CA   \n",
       "\n",
       "              carrier_trucks  ...  most_recent_load_date    load_day loads  \\\n",
       "0              [\"poweronly\"]  ...             2021-02-17  2019-12-16     2   \n",
       "1  [\"poweronly\", \"boxtruck\"]  ...             2021-02-03  2021-01-15     1   \n",
       "2              [\"poweronly\"]  ...             2020-09-25  2019-12-26     1   \n",
       "3    [\"poweronly\", \"dryvan\"]  ...             2021-02-17  2021-02-10     3   \n",
       "4                 [\"dryvan\"]  ...             2017-10-11  2017-07-24     2   \n",
       "\n",
       "  marketplace_loads_otr marketplace_loads_atlas marketplace_loads  \\\n",
       "0                     0                     438               438   \n",
       "1                     2                      72                74   \n",
       "2                     0                     180               180   \n",
       "3                     0                       0                 0   \n",
       "4                    57                       0                57   \n",
       "\n",
       "   brokerage_loads_otr brokerage_loads_atlas brokerage_loads total_loads  \n",
       "0                    0                    45              45         483  \n",
       "1                    0                     1               1          75  \n",
       "2                    0                     2               2         182  \n",
       "3                    0                     0               0          62  \n",
       "4                  314                     0             314         371  \n",
       "\n",
       "[5 rows x 30 columns]"
      ]
     },
     "metadata": {},
     "output_type": "display_data"
    }
   ],
   "source": [
    "df = pd.read_csv(csv_path_1) # load the pandas dataframe\n",
    "df_score = pd.read_csv(csv_path_2)\n",
    "initial_cols_to_drop = [\"Unnamed: 0\",\"Unnamed: 0.1\", \"period\", \"test\", \"recent_date\", \"date\"] \n",
    "for col_name in initial_cols_to_drop: # drops columns that aren't supposed to be in dataset\n",
    "    try:\n",
    "        df = df.drop(columns=[col_name])\n",
    "        df_score = df_score.drop(columns=[col_name])\n",
    "    except:\n",
    "        continue\n",
    "#df = df.rename(columns={\"Unnamed: 0.1\": \"TODO_FIND_COLUMN_NAME_2\"})\n",
    "display(df.head())"
   ]
  },
  {
   "cell_type": "code",
   "execution_count": 6,
   "metadata": {},
   "outputs": [
    {
     "data": {
      "text/html": [
       "<div>\n",
       "<style scoped>\n",
       "    .dataframe tbody tr th:only-of-type {\n",
       "        vertical-align: middle;\n",
       "    }\n",
       "\n",
       "    .dataframe tbody tr th {\n",
       "        vertical-align: top;\n",
       "    }\n",
       "\n",
       "    .dataframe thead th {\n",
       "        text-align: right;\n",
       "    }\n",
       "</style>\n",
       "<table border=\"1\" class=\"dataframe\">\n",
       "  <thead>\n",
       "    <tr style=\"text-align: right;\">\n",
       "      <th></th>\n",
       "      <th>year</th>\n",
       "      <th>id_driver</th>\n",
       "      <th>num_trucks</th>\n",
       "      <th>days_signup_to_approval</th>\n",
       "      <th>loads</th>\n",
       "      <th>marketplace_loads_otr</th>\n",
       "      <th>marketplace_loads_atlas</th>\n",
       "      <th>marketplace_loads</th>\n",
       "      <th>brokerage_loads_otr</th>\n",
       "      <th>brokerage_loads_atlas</th>\n",
       "      <th>brokerage_loads</th>\n",
       "      <th>total_loads</th>\n",
       "    </tr>\n",
       "  </thead>\n",
       "  <tbody>\n",
       "    <tr>\n",
       "      <th>count</th>\n",
       "      <td>83414.000000</td>\n",
       "      <td>83414.000000</td>\n",
       "      <td>83344.000000</td>\n",
       "      <td>71124.000000</td>\n",
       "      <td>83414.000000</td>\n",
       "      <td>83414.000000</td>\n",
       "      <td>83414.000000</td>\n",
       "      <td>83414.000000</td>\n",
       "      <td>83414.000000</td>\n",
       "      <td>83414.000000</td>\n",
       "      <td>83414.000000</td>\n",
       "      <td>83414.000000</td>\n",
       "    </tr>\n",
       "    <tr>\n",
       "      <th>mean</th>\n",
       "      <td>2018.960930</td>\n",
       "      <td>18222.414954</td>\n",
       "      <td>22.582921</td>\n",
       "      <td>298.752489</td>\n",
       "      <td>2.076270</td>\n",
       "      <td>29.477762</td>\n",
       "      <td>71.579675</td>\n",
       "      <td>101.057436</td>\n",
       "      <td>148.258422</td>\n",
       "      <td>13.073021</td>\n",
       "      <td>161.331443</td>\n",
       "      <td>266.502661</td>\n",
       "    </tr>\n",
       "    <tr>\n",
       "      <th>std</th>\n",
       "      <td>1.359343</td>\n",
       "      <td>11667.704926</td>\n",
       "      <td>48.829719</td>\n",
       "      <td>390.345107</td>\n",
       "      <td>2.672163</td>\n",
       "      <td>88.171940</td>\n",
       "      <td>194.532776</td>\n",
       "      <td>214.502147</td>\n",
       "      <td>415.978060</td>\n",
       "      <td>42.241592</td>\n",
       "      <td>413.792137</td>\n",
       "      <td>448.806175</td>\n",
       "    </tr>\n",
       "    <tr>\n",
       "      <th>min</th>\n",
       "      <td>2015.000000</td>\n",
       "      <td>20.000000</td>\n",
       "      <td>1.000000</td>\n",
       "      <td>0.000000</td>\n",
       "      <td>1.000000</td>\n",
       "      <td>0.000000</td>\n",
       "      <td>0.000000</td>\n",
       "      <td>0.000000</td>\n",
       "      <td>0.000000</td>\n",
       "      <td>0.000000</td>\n",
       "      <td>0.000000</td>\n",
       "      <td>1.000000</td>\n",
       "    </tr>\n",
       "    <tr>\n",
       "      <th>25%</th>\n",
       "      <td>2018.000000</td>\n",
       "      <td>7890.000000</td>\n",
       "      <td>1.000000</td>\n",
       "      <td>0.000000</td>\n",
       "      <td>1.000000</td>\n",
       "      <td>0.000000</td>\n",
       "      <td>0.000000</td>\n",
       "      <td>0.000000</td>\n",
       "      <td>0.000000</td>\n",
       "      <td>0.000000</td>\n",
       "      <td>5.000000</td>\n",
       "      <td>37.000000</td>\n",
       "    </tr>\n",
       "    <tr>\n",
       "      <th>50%</th>\n",
       "      <td>2019.000000</td>\n",
       "      <td>16299.000000</td>\n",
       "      <td>4.000000</td>\n",
       "      <td>61.000000</td>\n",
       "      <td>1.000000</td>\n",
       "      <td>2.000000</td>\n",
       "      <td>0.000000</td>\n",
       "      <td>13.000000</td>\n",
       "      <td>15.000000</td>\n",
       "      <td>0.000000</td>\n",
       "      <td>37.000000</td>\n",
       "      <td>110.000000</td>\n",
       "    </tr>\n",
       "    <tr>\n",
       "      <th>75%</th>\n",
       "      <td>2020.000000</td>\n",
       "      <td>28974.000000</td>\n",
       "      <td>14.000000</td>\n",
       "      <td>497.000000</td>\n",
       "      <td>2.000000</td>\n",
       "      <td>23.000000</td>\n",
       "      <td>18.000000</td>\n",
       "      <td>94.000000</td>\n",
       "      <td>112.000000</td>\n",
       "      <td>1.000000</td>\n",
       "      <td>135.000000</td>\n",
       "      <td>325.000000</td>\n",
       "    </tr>\n",
       "    <tr>\n",
       "      <th>max</th>\n",
       "      <td>2021.000000</td>\n",
       "      <td>38125.000000</td>\n",
       "      <td>195.000000</td>\n",
       "      <td>1653.000000</td>\n",
       "      <td>129.000000</td>\n",
       "      <td>902.000000</td>\n",
       "      <td>1324.000000</td>\n",
       "      <td>1348.000000</td>\n",
       "      <td>4266.000000</td>\n",
       "      <td>371.000000</td>\n",
       "      <td>4266.000000</td>\n",
       "      <td>4266.000000</td>\n",
       "    </tr>\n",
       "  </tbody>\n",
       "</table>\n",
       "</div>"
      ],
      "text/plain": [
       "               year     id_driver    num_trucks  days_signup_to_approval  \\\n",
       "count  83414.000000  83414.000000  83344.000000             71124.000000   \n",
       "mean    2018.960930  18222.414954     22.582921               298.752489   \n",
       "std        1.359343  11667.704926     48.829719               390.345107   \n",
       "min     2015.000000     20.000000      1.000000                 0.000000   \n",
       "25%     2018.000000   7890.000000      1.000000                 0.000000   \n",
       "50%     2019.000000  16299.000000      4.000000                61.000000   \n",
       "75%     2020.000000  28974.000000     14.000000               497.000000   \n",
       "max     2021.000000  38125.000000    195.000000              1653.000000   \n",
       "\n",
       "              loads  marketplace_loads_otr  marketplace_loads_atlas  \\\n",
       "count  83414.000000           83414.000000             83414.000000   \n",
       "mean       2.076270              29.477762                71.579675   \n",
       "std        2.672163              88.171940               194.532776   \n",
       "min        1.000000               0.000000                 0.000000   \n",
       "25%        1.000000               0.000000                 0.000000   \n",
       "50%        1.000000               2.000000                 0.000000   \n",
       "75%        2.000000              23.000000                18.000000   \n",
       "max      129.000000             902.000000              1324.000000   \n",
       "\n",
       "       marketplace_loads  brokerage_loads_otr  brokerage_loads_atlas  \\\n",
       "count       83414.000000         83414.000000           83414.000000   \n",
       "mean          101.057436           148.258422              13.073021   \n",
       "std           214.502147           415.978060              42.241592   \n",
       "min             0.000000             0.000000               0.000000   \n",
       "25%             0.000000             0.000000               0.000000   \n",
       "50%            13.000000            15.000000               0.000000   \n",
       "75%            94.000000           112.000000               1.000000   \n",
       "max          1348.000000          4266.000000             371.000000   \n",
       "\n",
       "       brokerage_loads   total_loads  \n",
       "count     83414.000000  83414.000000  \n",
       "mean        161.331443    266.502661  \n",
       "std         413.792137    448.806175  \n",
       "min           0.000000      1.000000  \n",
       "25%           5.000000     37.000000  \n",
       "50%          37.000000    110.000000  \n",
       "75%         135.000000    325.000000  \n",
       "max        4266.000000   4266.000000  "
      ]
     },
     "execution_count": 6,
     "metadata": {},
     "output_type": "execute_result"
    }
   ],
   "source": [
    "df.describe()"
   ]
  },
  {
   "cell_type": "code",
   "execution_count": 7,
   "metadata": {},
   "outputs": [
    {
     "name": "stdout",
     "output_type": "stream",
     "text": [
      "<class 'pandas.core.frame.DataFrame'>\n",
      "RangeIndex: 83414 entries, 0 to 83413\n",
      "Data columns (total 30 columns):\n",
      " #   Column                    Non-Null Count  Dtype  \n",
      "---  ------                    --------------  -----  \n",
      " 0   dt                        83414 non-null  object \n",
      " 1   weekday                   83414 non-null  object \n",
      " 2   year                      83414 non-null  int64  \n",
      " 3   id_driver                 83414 non-null  int64  \n",
      " 4   id_carrier_number         83414 non-null  object \n",
      " 5   dim_carrier_type          83414 non-null  object \n",
      " 6   dim_carrier_company_name  83365 non-null  object \n",
      " 7   home_base_city            83369 non-null  object \n",
      " 8   home_base_state           83369 non-null  object \n",
      " 9   carrier_trucks            83414 non-null  object \n",
      " 10  num_trucks                83344 non-null  float64\n",
      " 11  interested_in_drayage     83414 non-null  object \n",
      " 12  port_qualified            83414 non-null  object \n",
      " 13  signup_source             83414 non-null  object \n",
      " 14  ts_signup                 83414 non-null  object \n",
      " 15  ts_first_approved         71124 non-null  object \n",
      " 16  days_signup_to_approval   71124 non-null  float64\n",
      " 17  driver_with_twic          83414 non-null  object \n",
      " 18  dim_preferred_lanes       3412 non-null   object \n",
      " 19  first_load_date           83414 non-null  object \n",
      " 20  most_recent_load_date     83414 non-null  object \n",
      " 21  load_day                  83414 non-null  object \n",
      " 22  loads                     83414 non-null  int64  \n",
      " 23  marketplace_loads_otr     83414 non-null  int64  \n",
      " 24  marketplace_loads_atlas   83414 non-null  int64  \n",
      " 25  marketplace_loads         83414 non-null  int64  \n",
      " 26  brokerage_loads_otr       83414 non-null  int64  \n",
      " 27  brokerage_loads_atlas     83414 non-null  int64  \n",
      " 28  brokerage_loads           83414 non-null  int64  \n",
      " 29  total_loads               83414 non-null  int64  \n",
      "dtypes: float64(2), int64(10), object(18)\n",
      "memory usage: 19.1+ MB\n"
     ]
    }
   ],
   "source": [
    "df.info()"
   ]
  },
  {
   "cell_type": "markdown",
   "metadata": {},
   "source": [
    "# 1. Generate Labels"
   ]
  },
  {
   "cell_type": "code",
   "execution_count": 8,
   "metadata": {},
   "outputs": [],
   "source": [
    "# converts date from csv to a python datetime object making it easier to work with\n",
    "def convert_dates(df):\n",
    "    dates_columns = ['most_recent_load_date', 'first_load_date', 'load_day', 'dt']\n",
    "    for col_name in dates_columns:\n",
    "        try:\n",
    "            df[col_name] = pd.to_datetime(df[col_name], format='%Y-%m-%d')\n",
    "        except:\n",
    "            continue\n",
    "\n",
    "convert_dates(df)\n",
    "convert_dates(df_score)"
   ]
  },
  {
   "cell_type": "code",
   "execution_count": 9,
   "metadata": {},
   "outputs": [
    {
     "data": {
      "text/plain": [
       "0   2021-02-17\n",
       "1   2021-02-03\n",
       "2   2020-09-25\n",
       "3   2021-02-17\n",
       "4   2017-10-11\n",
       "Name: most_recent_load_date, dtype: datetime64[ns]"
      ]
     },
     "execution_count": 9,
     "metadata": {},
     "output_type": "execute_result"
    }
   ],
   "source": [
    "df['most_recent_load_date'].head()"
   ]
  },
  {
   "cell_type": "code",
   "execution_count": 10,
   "metadata": {},
   "outputs": [
    {
     "name": "stdout",
     "output_type": "stream",
     "text": [
      "325.0\n",
      "2021-02-14 00:00:00\n"
     ]
    }
   ],
   "source": [
    "total_loads75 = df.total_loads.quantile(0.75) # finds 75th percentile of loads\n",
    "most_recent_load_date75 = df.most_recent_load_date.quantile(0.75) # finds 75th percentile of most recent load date\n",
    "\n",
    "print(total_loads75)\n",
    "print(most_recent_load_date75)\n",
    "\n",
    "\n",
    "# Manual Check\n",
    "# sorted_dts = sorted(list(df.most_recent_load_date))\n",
    "# quartile_estimate_index = int(len(sorted_dts)*0.75)\n",
    "# print(\"SORTED INDEX\", sorted_dts[quartile_estimate_index])"
   ]
  },
  {
   "cell_type": "code",
   "execution_count": 11,
   "metadata": {},
   "outputs": [],
   "source": [
    "# new_labels = {\"label\": {}}\n",
    "num_days_worked_dict = {}\n",
    "\n",
    "for index, row in df.iterrows(): # changes the labels in the label columns\n",
    "    # checks if the load and most recent load date are in the 75th percentile\n",
    "    if row[\"total_loads\"] >= total_loads75 and row[\"most_recent_load_date\"] >= most_recent_load_date75:\n",
    "        df.at[index, \"label\"] = 1\n",
    "    else:\n",
    "        df.at[index, \"label\"] = 0"
   ]
  },
  {
   "cell_type": "code",
   "execution_count": 12,
   "metadata": {},
   "outputs": [
    {
     "name": "stdout",
     "output_type": "stream",
     "text": [
      "Unique Values :  [0. 1.]\n",
      "Occurrence Count :  [73021 10393]\n"
     ]
    }
   ],
   "source": [
    "uniqueValues, occurCount = np.unique(np.array(df[\"label\"]), return_counts=True)\n",
    "print(\"Unique Values : \" , uniqueValues)\n",
    "print(\"Occurrence Count : \", occurCount)"
   ]
  },
  {
   "cell_type": "code",
   "execution_count": 13,
   "metadata": {},
   "outputs": [],
   "source": [
    "loc_arr = []\n",
    "for index, row in df.iterrows():\n",
    "    if pd.isnull(row[\"home_base_city\"]) != True and pd.isnull(row[\"home_base_state\"]) != True:\n",
    "        if (row[\"home_base_city\"], row[\"home_base_state\"]) not in loc_arr:\n",
    "            loc_arr.append((row[\"home_base_city\"], row[\"home_base_state\"]))\n",
    "            \n",
    "# for index, row in df.iterrows():\n",
    "#     try:\n",
    "#         x = len(row[\"home_base_city\"])\n",
    "#         x = len(row[\"home_base_state\"])\n",
    "#     except:\n",
    "#         index_num = random.randint(0, len(loc_arr)-1)\n",
    "#         df.at[index, \"home_base_city\"] = loc_arr[index_num][0]\n",
    "#         df.at[index, \"home_base_state\"] = loc_arr[index_num][1]"
   ]
  },
  {
   "cell_type": "code",
   "execution_count": 14,
   "metadata": {},
   "outputs": [
    {
     "name": "stdout",
     "output_type": "stream",
     "text": [
      "<class 'pandas.core.frame.DataFrame'>\n",
      "RangeIndex: 83414 entries, 0 to 83413\n",
      "Data columns (total 31 columns):\n",
      " #   Column                    Non-Null Count  Dtype         \n",
      "---  ------                    --------------  -----         \n",
      " 0   dt                        83414 non-null  datetime64[ns]\n",
      " 1   weekday                   83414 non-null  object        \n",
      " 2   year                      83414 non-null  int64         \n",
      " 3   id_driver                 83414 non-null  int64         \n",
      " 4   id_carrier_number         83414 non-null  object        \n",
      " 5   dim_carrier_type          83414 non-null  object        \n",
      " 6   dim_carrier_company_name  83365 non-null  object        \n",
      " 7   home_base_city            83369 non-null  object        \n",
      " 8   home_base_state           83369 non-null  object        \n",
      " 9   carrier_trucks            83414 non-null  object        \n",
      " 10  num_trucks                83344 non-null  float64       \n",
      " 11  interested_in_drayage     83414 non-null  object        \n",
      " 12  port_qualified            83414 non-null  object        \n",
      " 13  signup_source             83414 non-null  object        \n",
      " 14  ts_signup                 83414 non-null  object        \n",
      " 15  ts_first_approved         71124 non-null  object        \n",
      " 16  days_signup_to_approval   71124 non-null  float64       \n",
      " 17  driver_with_twic          83414 non-null  object        \n",
      " 18  dim_preferred_lanes       3412 non-null   object        \n",
      " 19  first_load_date           83414 non-null  datetime64[ns]\n",
      " 20  most_recent_load_date     83414 non-null  datetime64[ns]\n",
      " 21  load_day                  83414 non-null  datetime64[ns]\n",
      " 22  loads                     83414 non-null  int64         \n",
      " 23  marketplace_loads_otr     83414 non-null  int64         \n",
      " 24  marketplace_loads_atlas   83414 non-null  int64         \n",
      " 25  marketplace_loads         83414 non-null  int64         \n",
      " 26  brokerage_loads_otr       83414 non-null  int64         \n",
      " 27  brokerage_loads_atlas     83414 non-null  int64         \n",
      " 28  brokerage_loads           83414 non-null  int64         \n",
      " 29  total_loads               83414 non-null  int64         \n",
      " 30  label                     83414 non-null  float64       \n",
      "dtypes: datetime64[ns](4), float64(3), int64(10), object(14)\n",
      "memory usage: 19.7+ MB\n"
     ]
    }
   ],
   "source": [
    "df.info()"
   ]
  },
  {
   "cell_type": "code",
   "execution_count": 15,
   "metadata": {},
   "outputs": [],
   "source": [
    "groups = df.groupby(\"id_driver\")"
   ]
  },
  {
   "cell_type": "code",
   "execution_count": 16,
   "metadata": {},
   "outputs": [],
   "source": [
    "# NO: dt, weekday, year, id_carrier_number, dim_preferred_lanes, load_day, loads\n",
    "new_arr = []\n",
    "for key, group in groups:\n",
    "    group.sort_values(by=\"load_day\", ascending=False, inplace=True)\n",
    "    temp_arr = []\n",
    "    temp_arr.append(key)\n",
    "    \n",
    "    if group[\"dim_carrier_type\"].nunique() == 2:\n",
    "        temp_arr.append(\"Both\")\n",
    "    elif group[\"dim_carrier_type\"].nunique() == 0:\n",
    "        temp_arr.append(None)\n",
    "    else:\n",
    "        temp_arr.append((group[\"dim_carrier_type\"].iloc[0]))\n",
    "    \n",
    "    \n",
    "    idxmax_cols = [\"dim_carrier_company_name\", \n",
    "                   \"carrier_trucks\", \"signup_source\", \"ts_signup\", \"ts_first_approved\",\n",
    "                  \"days_signup_to_approval\"] #\"home_base_city\", \"home_base_state\",\n",
    "    \n",
    "    for col in idxmax_cols:\n",
    "        try:\n",
    "            temp_arr.append(group[col].value_counts().dropna(how=\"any\").idxmax())\n",
    "        except:\n",
    "            \n",
    "            temp_arr.append(None)\n",
    "    \n",
    "    try:\n",
    "        x = len(group[\"home_base_city\"].dropna(how=\"any\").iloc[0])\n",
    "        x = len(group[\"home_base_state\"].dropna(how=\"any\").iloc[0])\n",
    "        temp_arr.append(group[\"home_base_city\"].dropna(how=\"any\").iloc[0])\n",
    "        temp_arr.append(group[\"home_base_state\"].dropna(how=\"any\").iloc[0])\n",
    "    except:\n",
    "        index_num = random.randint(0, len(loc_arr)-1)\n",
    "        temp_arr.append(loc_arr[index_num][0])\n",
    "        temp_arr.append(loc_arr[index_num][1])\n",
    "        \n",
    "    \n",
    "    \n",
    "    try:\n",
    "        temp_arr.append(group[\"num_trucks\"].dropna(how=\"any\").mean())\n",
    "    except:\n",
    "        temp_arr.append(None)\n",
    "        \n",
    "    iloc_cols = [\"interested_in_drayage\", \"port_qualified\", \"driver_with_twic\", \n",
    "                 \"first_load_date\", \"most_recent_load_date\", \"marketplace_loads_otr\", \n",
    "                 \"marketplace_loads_atlas\", \"marketplace_loads\", \"brokerage_loads_otr\",\n",
    "                 \"brokerage_loads_atlas\", \"brokerage_loads\", \"total_loads\"]\n",
    "    for col in iloc_cols:\n",
    "        try:\n",
    "            temp_arr.append(group[col].dropna(how=\"any\").iloc[0])\n",
    "        except:\n",
    "            temp_arr.append(None)\n",
    "    \n",
    "    temp_arr.append(group.shape[0])\n",
    "    \n",
    "    temp_arr.append(((pd.to_datetime(date.today()) - group[\"most_recent_load_date\"].dropna(how=\"any\").iloc[0]).days) * (-1))\n",
    "    \n",
    "    temp_arr.append(group[\"label\"].value_counts().dropna(how=\"any\").idxmax())\n",
    "    \n",
    "    new_arr.append(np.array(temp_arr))"
   ]
  },
  {
   "cell_type": "code",
   "execution_count": 17,
   "metadata": {},
   "outputs": [],
   "source": [
    "column_names = [\"id_driver\", \"dim_carrier_type\", \"dim_carrier_company_name\", \n",
    "                \"carrier_trucks\", \"signup_source\", \"ts_signup\", \"ts_first_approved\",\n",
    "                \"days_signup_to_approval\", \"home_base_city\", \"home_base_state\", \"num_trucks\", \n",
    "                \"interested_in_drayage\", \"port_qualified\", \"driver_with_twic\", \n",
    "                \"first_load_date\", \"most_recent_load_date\", \"marketplace_loads_otr\", \n",
    "                \"marketplace_loads_atlas\", \"marketplace_loads\", \"brokerage_loads_otr\",\n",
    "                \"brokerage_loads_atlas\", \"brokerage_loads\", \"total_loads\", \"num_trips_made\", \n",
    "                \"days_since_last_load\", \"label\"]\n",
    "\n",
    "df = pd.DataFrame(np.array(new_arr), columns=column_names)"
   ]
  },
  {
   "cell_type": "code",
   "execution_count": 18,
   "metadata": {},
   "outputs": [],
   "source": [
    "# convert = [\"id_driver\", \"days_signup_to_approval\", \"marketplace_loads_otr\", \n",
    "#                \"marketplace_loads_atlas\", \"marketplace_loads\", \"brokerage_loads_otr\",\n",
    "#                \"brokerage_loads_atlas\", \"brokerage_loads\", \"total_loads\", \"num_trips_made\", \"label\",\n",
    "#                \"num_trucks\", \"dim_carrier_type\", \"dim_carrier_company_name\", \"home_base_city\", \"home_base_state\",\n",
    "#                \"interested_in_drayage\", \"port_qualified\", \"signup_source\", \"driver_with_twic\"]\n",
    "for col in column_names:\n",
    "    try:\n",
    "        df[col] = df[col].convert_dtypes()\n",
    "    except:\n",
    "        continue"
   ]
  },
  {
   "cell_type": "code",
   "execution_count": 19,
   "metadata": {},
   "outputs": [],
   "source": [
    "# # NO: dt, weekday, year, id_carrier_number, dim_preferred_lanes, load_day, loads\n",
    "new_dict = {}\n",
    "label_dict = {}\n",
    "most_recent_date_arr = []\n",
    "num_trips_arr = []\n",
    "for key, group in groups:\n",
    "    group.sort_values(by=\"load_day\", ascending=False, inplace=True)\n",
    "    if key not in new_dict:\n",
    "        try:\n",
    "            new_dict[key] = (group[\"load_day\"].dropna(how=\"any\").iloc[0], group.shape[0])\n",
    "        except:\n",
    "            new_dict[key] = None\n",
    "        \n",
    "        try:\n",
    "            label_dict[key] = group[\"label\"].dropna(how=\"any\").iloc[0]\n",
    "        except:\n",
    "            label_dict[key] = 1\n",
    "\n",
    "# for index, row in df.iterrows():\n",
    "#     most_recent_date_arr.append(new_dict[row[\"id_driver\"]][0])\n",
    "#     num_trips_arr.append(new_dict[row[\"id_driver\"]][1])\n",
    "# df[\"num_trips_made\"] = np.array(num_trips_arr)"
   ]
  },
  {
   "cell_type": "code",
   "execution_count": 20,
   "metadata": {},
   "outputs": [
    {
     "name": "stdout",
     "output_type": "stream",
     "text": [
      "<class 'pandas.core.frame.DataFrame'>\n",
      "RangeIndex: 5291 entries, 0 to 5290\n",
      "Data columns (total 26 columns):\n",
      " #   Column                    Non-Null Count  Dtype         \n",
      "---  ------                    --------------  -----         \n",
      " 0   id_driver                 5291 non-null   Int64         \n",
      " 1   dim_carrier_type          5291 non-null   string        \n",
      " 2   dim_carrier_company_name  5284 non-null   string        \n",
      " 3   carrier_trucks            5291 non-null   string        \n",
      " 4   signup_source             5291 non-null   string        \n",
      " 5   ts_signup                 5291 non-null   string        \n",
      " 6   ts_first_approved         3962 non-null   string        \n",
      " 7   days_signup_to_approval   3962 non-null   Int64         \n",
      " 8   home_base_city            5291 non-null   string        \n",
      " 9   home_base_state           5291 non-null   string        \n",
      " 10  num_trucks                5249 non-null   float64       \n",
      " 11  interested_in_drayage     5291 non-null   string        \n",
      " 12  port_qualified            5291 non-null   string        \n",
      " 13  driver_with_twic          5291 non-null   string        \n",
      " 14  first_load_date           5291 non-null   datetime64[ns]\n",
      " 15  most_recent_load_date     5291 non-null   datetime64[ns]\n",
      " 16  marketplace_loads_otr     5291 non-null   Int64         \n",
      " 17  marketplace_loads_atlas   5291 non-null   Int64         \n",
      " 18  marketplace_loads         5291 non-null   Int64         \n",
      " 19  brokerage_loads_otr       5291 non-null   Int64         \n",
      " 20  brokerage_loads_atlas     5291 non-null   Int64         \n",
      " 21  brokerage_loads           5291 non-null   Int64         \n",
      " 22  total_loads               5291 non-null   Int64         \n",
      " 23  num_trips_made            5291 non-null   Int64         \n",
      " 24  days_since_last_load      5291 non-null   Int64         \n",
      " 25  label                     5291 non-null   Int64         \n",
      "dtypes: Int64(12), datetime64[ns](2), float64(1), string(11)\n",
      "memory usage: 1.1 MB\n"
     ]
    }
   ],
   "source": [
    "df.info()"
   ]
  },
  {
   "cell_type": "code",
   "execution_count": 21,
   "metadata": {},
   "outputs": [
    {
     "data": {
      "text/plain": [
       "count    5291.000000\n",
       "mean        0.010395\n",
       "std         0.101434\n",
       "min         0.000000\n",
       "25%         0.000000\n",
       "50%         0.000000\n",
       "75%         0.000000\n",
       "max         1.000000\n",
       "Name: label, dtype: float64"
      ]
     },
     "execution_count": 21,
     "metadata": {},
     "output_type": "execute_result"
    }
   ],
   "source": [
    "df[\"label\"].describe()"
   ]
  },
  {
   "cell_type": "code",
   "execution_count": 22,
   "metadata": {},
   "outputs": [],
   "source": [
    "groups = df_score.groupby(\"id_driver\")"
   ]
  },
  {
   "cell_type": "code",
   "execution_count": 23,
   "metadata": {},
   "outputs": [],
   "source": [
    "# NO: dt, weekday, year, id_carrier_number, dim_preferred_lanes, load_day, loads\n",
    "new_arr = []\n",
    "for key, group in groups:\n",
    "    group.sort_values(by=\"load_day\", ascending=False, inplace=True)\n",
    "    temp_arr = []\n",
    "    temp_arr.append(key)\n",
    "    \n",
    "    if group[\"dim_carrier_type\"].nunique() == 2:\n",
    "        temp_arr.append(\"Both\")\n",
    "    elif group[\"dim_carrier_type\"].nunique() == 0:\n",
    "        temp_arr.append(None)\n",
    "    else:\n",
    "        temp_arr.append((group[\"dim_carrier_type\"].iloc[0]))\n",
    "    \n",
    "    \n",
    "    idxmax_cols = [\"dim_carrier_company_name\", \n",
    "                   \"carrier_trucks\", \"signup_source\", \"ts_signup\", \"ts_first_approved\",\n",
    "                  \"days_signup_to_approval\"]\n",
    "    \n",
    "    for col in idxmax_cols:\n",
    "        try:\n",
    "            temp_arr.append(group[col].value_counts().dropna(how=\"any\").idxmax())\n",
    "        except:\n",
    "            temp_arr.append(None)\n",
    "            \n",
    "    \n",
    "    try:\n",
    "        x = len(group[\"home_base_city\"].dropna(how=\"any\").iloc[0])\n",
    "        x = len(group[\"home_base_state\"].dropna(how=\"any\").iloc[0])\n",
    "        temp_arr.append(group[\"home_base_city\"].dropna(how=\"any\").iloc[0])\n",
    "        temp_arr.append(group[\"home_base_state\"].dropna(how=\"any\").iloc[0])\n",
    "    except:\n",
    "        index_num = random.randint(0, len(loc_arr)-1)\n",
    "        temp_arr.append(loc_arr[index_num][0])\n",
    "        temp_arr.append(loc_arr[index_num][1])\n",
    "    \n",
    "    \n",
    "    try:\n",
    "        temp_arr.append(group[\"num_trucks\"].dropna(how=\"any\").mean())\n",
    "    except:\n",
    "        temp_arr.append(None)\n",
    "        \n",
    "    iloc_cols = [\"interested_in_drayage\", \"port_qualified\", \"driver_with_twic\", \n",
    "                 \"first_load_date\", \"load_day\", \"marketplace_loads_otr\", \n",
    "                 \"marketplace_loads_atlas\", \"marketplace_loads\", \"brokerage_loads_otr\",\n",
    "                 \"brokerage_loads_atlas\", \"brokerage_loads\"]\n",
    "    for col in iloc_cols:\n",
    "        try:\n",
    "            temp_arr.append(group[col].dropna(how=\"any\").iloc[0])\n",
    "        except:\n",
    "            temp_arr.append(None)\n",
    "            \n",
    "    temp_arr.append(group.shape[0])\n",
    "    \n",
    "    temp_arr.append(((pd.to_datetime(date.today()) - group[\"load_day\"].dropna(how=\"any\").iloc[0]).days) * (-1))\n",
    "    \n",
    "    new_arr.append(np.array(temp_arr))"
   ]
  },
  {
   "cell_type": "code",
   "execution_count": 24,
   "metadata": {},
   "outputs": [],
   "source": [
    "column_names = [\"id_driver\", \"dim_carrier_type\", \"dim_carrier_company_name\", \n",
    "                \"carrier_trucks\", \"signup_source\", \"ts_signup\", \"ts_first_approved\",\n",
    "                \"days_signup_to_approval\", \"home_base_city\", \"home_base_state\", \"num_trucks\", \n",
    "                \"interested_in_drayage\", \"port_qualified\", \"driver_with_twic\", \n",
    "                \"first_load_date\", \"most_recent_load_date\", \"marketplace_loads_otr\", \n",
    "                \"marketplace_loads_atlas\", \"marketplace_loads\", \"brokerage_loads_otr\",\n",
    "                \"brokerage_loads_atlas\", \"brokerage_loads\", \"num_trips_made\", \n",
    "                \"days_since_last_load\"]\n",
    "\n",
    "df_score = pd.DataFrame(np.array(new_arr), columns=column_names)"
   ]
  },
  {
   "cell_type": "code",
   "execution_count": 25,
   "metadata": {},
   "outputs": [],
   "source": [
    "# convert = [\"id_driver\", \"days_signup_to_approval\", \"marketplace_loads_otr\", \n",
    "#                \"marketplace_loads_atlas\", \"marketplace_loads\", \"brokerage_loads_otr\",\n",
    "#                \"brokerage_loads_atlas\", \"brokerage_loads\", \"num_trips_made\",\n",
    "#                \"num_trucks\", \"dim_carrier_type\", \"dim_carrier_company_name\", \"home_base_city\", \"home_base_state\",\n",
    "#                \"interested_in_drayage\", \"port_qualified\", \"signup_source\", \"driver_with_twic\"]\n",
    "for col in column_names:\n",
    "    try:\n",
    "        df_score[col] = df_score[col].convert_dtypes()\n",
    "    except:\n",
    "        continue"
   ]
  },
  {
   "cell_type": "code",
   "execution_count": 26,
   "metadata": {},
   "outputs": [
    {
     "name": "stdout",
     "output_type": "stream",
     "text": [
      "Not here:  1288\n",
      "Not here:  7594\n",
      "Not here:  7623\n",
      "Not here:  8205\n",
      "Not here:  10359\n",
      "Not here:  11514\n",
      "Not here:  12429\n",
      "Not here:  13711\n",
      "Not here:  13761\n",
      "Not here:  15073\n",
      "Not here:  16642\n",
      "Not here:  20357\n",
      "Not here:  26545\n",
      "Not here:  29070\n",
      "Not here:  29653\n",
      "Not here:  31557\n",
      "Not here:  31873\n",
      "Not here:  35563\n",
      "Not here:  35572\n"
     ]
    }
   ],
   "source": [
    "# # NO: dt, weekday, year, id_carrier_number, dim_preferred_lanes, load_day, loads\n",
    "new_dict = {}\n",
    "most_recent_date_arr = []\n",
    "num_trips_arr = []\n",
    "score_labels = []\n",
    "for key, group in groups:\n",
    "    group.sort_values(by=\"load_day\", ascending=False, inplace=True)\n",
    "    if key not in new_dict:\n",
    "        try:\n",
    "            new_dict[key] = (group[\"load_day\"].dropna(how=\"any\").iloc[0], group.shape[0])\n",
    "        except:\n",
    "            new_dict[key] = None\n",
    "\n",
    "for index, row in df_score.iterrows():\n",
    "    most_recent_date_arr.append(new_dict[row[\"id_driver\"]][0])\n",
    "    num_trips_arr.append(new_dict[row[\"id_driver\"]][1])\n",
    "    if row[\"id_driver\"] in label_dict:\n",
    "        score_labels.append(label_dict[row[\"id_driver\"]])\n",
    "    else:\n",
    "        print(\"Not here: \", row[\"id_driver\"])\n",
    "        rand_num = random.randint(0, 1000)\n",
    "        if rand_num <= 125:\n",
    "            score_labels.append(1)\n",
    "            label_dict[row[\"id_driver\"]] = 1\n",
    "        else:\n",
    "            score_labels.append(0)\n",
    "            label_dict[row[\"id_driver\"]] = 0\n",
    "\n",
    "score_labels = np.array(score_labels)\n",
    "# df_score[\"most_recent_load_date\"] = np.array(most_recent_date_arr)\n",
    "# df_score[\"num_trips_made\"] = np.array(num_trips_arr)"
   ]
  },
  {
   "cell_type": "code",
   "execution_count": 27,
   "metadata": {},
   "outputs": [
    {
     "data": {
      "text/plain": [
       "0      3\n",
       "1      3\n",
       "2      1\n",
       "3      1\n",
       "4      1\n",
       "      ..\n",
       "663    1\n",
       "664    1\n",
       "665    1\n",
       "666    1\n",
       "667    1\n",
       "Name: num_trips_made, Length: 668, dtype: Int64"
      ]
     },
     "metadata": {},
     "output_type": "display_data"
    }
   ],
   "source": [
    "display(df_score[\"num_trips_made\"])"
   ]
  },
  {
   "cell_type": "code",
   "execution_count": 28,
   "metadata": {},
   "outputs": [
    {
     "name": "stdout",
     "output_type": "stream",
     "text": [
      "<class 'pandas.core.frame.DataFrame'>\n",
      "RangeIndex: 668 entries, 0 to 667\n",
      "Data columns (total 24 columns):\n",
      " #   Column                    Non-Null Count  Dtype         \n",
      "---  ------                    --------------  -----         \n",
      " 0   id_driver                 668 non-null    Int64         \n",
      " 1   dim_carrier_type          668 non-null    string        \n",
      " 2   dim_carrier_company_name  668 non-null    string        \n",
      " 3   carrier_trucks            668 non-null    string        \n",
      " 4   signup_source             668 non-null    string        \n",
      " 5   ts_signup                 668 non-null    string        \n",
      " 6   ts_first_approved         572 non-null    string        \n",
      " 7   days_signup_to_approval   572 non-null    Int64         \n",
      " 8   home_base_city            668 non-null    string        \n",
      " 9   home_base_state           668 non-null    string        \n",
      " 10  num_trucks                668 non-null    float64       \n",
      " 11  interested_in_drayage     668 non-null    string        \n",
      " 12  port_qualified            668 non-null    string        \n",
      " 13  driver_with_twic          668 non-null    string        \n",
      " 14  first_load_date           668 non-null    datetime64[ns]\n",
      " 15  most_recent_load_date     668 non-null    datetime64[ns]\n",
      " 16  marketplace_loads_otr     668 non-null    Int64         \n",
      " 17  marketplace_loads_atlas   668 non-null    Int64         \n",
      " 18  marketplace_loads         668 non-null    Int64         \n",
      " 19  brokerage_loads_otr       668 non-null    Int64         \n",
      " 20  brokerage_loads_atlas     668 non-null    Int64         \n",
      " 21  brokerage_loads           668 non-null    Int64         \n",
      " 22  num_trips_made            668 non-null    Int64         \n",
      " 23  days_since_last_load      668 non-null    Int64         \n",
      "dtypes: Int64(10), datetime64[ns](2), float64(1), string(11)\n",
      "memory usage: 131.9 KB\n"
     ]
    }
   ],
   "source": [
    "df_score.info()"
   ]
  },
  {
   "cell_type": "code",
   "execution_count": 29,
   "metadata": {},
   "outputs": [],
   "source": [
    "# # NO: dt, weekday, year, id_carrier_number, dim_preferred_lanes, load_day, loads\n",
    "\n",
    "\n",
    "\n",
    "# [\"id_driver\", \"dim_carrier_type\", \"dim_carrier_company_name\", \"home_base_city\", \"home_base_state\", \n",
    "#                 \"carrier_trucks\", \"signup_source\", \"ts_signup\", \"ts_first_approved\",\n",
    "#                 \"days_signup_to_approval\", \"num_trucks\", \"interested_in_drayage\", \n",
    "#                 \"port_qualified\", \"driver_with_twic\", \n",
    "#                 \"first_load_date\", \"most_recent_load_date\", \"marketplace_loads_otr\", \n",
    "#                 \"marketplace_loads_atlas\", \"marketplace_loads\", \"brokerage_loads_otr\",\n",
    "#                 \"brokerage_loads_atlas\", \"brokerage_loads\", \"total_loads\", \"num_trips_made\", \"label\"]\n",
    "\n",
    "drop_cols = [\"dt\", \"weekday\", \"year\", \"id_carrier_number\", \"dim_preferred_lanes\", \"load_day\", \"loads\"]\n",
    "for col in drop_cols:\n",
    "    try:\n",
    "        df_score = df_score.drop(columns=[col])\n",
    "    except:\n",
    "        continue\n",
    "\n",
    "for col in drop_cols:\n",
    "    try:\n",
    "        df = df.drop(columns=[col])\n",
    "    except:\n",
    "        continue"
   ]
  },
  {
   "cell_type": "code",
   "execution_count": 30,
   "metadata": {},
   "outputs": [
    {
     "name": "stdout",
     "output_type": "stream",
     "text": [
      "<class 'pandas.core.frame.DataFrame'>\n",
      "RangeIndex: 668 entries, 0 to 667\n",
      "Data columns (total 24 columns):\n",
      " #   Column                    Non-Null Count  Dtype         \n",
      "---  ------                    --------------  -----         \n",
      " 0   id_driver                 668 non-null    Int64         \n",
      " 1   dim_carrier_type          668 non-null    string        \n",
      " 2   dim_carrier_company_name  668 non-null    string        \n",
      " 3   carrier_trucks            668 non-null    string        \n",
      " 4   signup_source             668 non-null    string        \n",
      " 5   ts_signup                 668 non-null    string        \n",
      " 6   ts_first_approved         572 non-null    string        \n",
      " 7   days_signup_to_approval   572 non-null    Int64         \n",
      " 8   home_base_city            668 non-null    string        \n",
      " 9   home_base_state           668 non-null    string        \n",
      " 10  num_trucks                668 non-null    float64       \n",
      " 11  interested_in_drayage     668 non-null    string        \n",
      " 12  port_qualified            668 non-null    string        \n",
      " 13  driver_with_twic          668 non-null    string        \n",
      " 14  first_load_date           668 non-null    datetime64[ns]\n",
      " 15  most_recent_load_date     668 non-null    datetime64[ns]\n",
      " 16  marketplace_loads_otr     668 non-null    Int64         \n",
      " 17  marketplace_loads_atlas   668 non-null    Int64         \n",
      " 18  marketplace_loads         668 non-null    Int64         \n",
      " 19  brokerage_loads_otr       668 non-null    Int64         \n",
      " 20  brokerage_loads_atlas     668 non-null    Int64         \n",
      " 21  brokerage_loads           668 non-null    Int64         \n",
      " 22  num_trips_made            668 non-null    Int64         \n",
      " 23  days_since_last_load      668 non-null    Int64         \n",
      "dtypes: Int64(10), datetime64[ns](2), float64(1), string(11)\n",
      "memory usage: 131.9 KB\n"
     ]
    }
   ],
   "source": [
    "df_score.info()"
   ]
  },
  {
   "cell_type": "markdown",
   "metadata": {},
   "source": [
    "# 3. Basic Statistics"
   ]
  },
  {
   "cell_type": "code",
   "execution_count": 31,
   "metadata": {},
   "outputs": [
    {
     "name": "stdout",
     "output_type": "stream",
     "text": [
      "id_driver\n"
     ]
    },
    {
     "data": {
      "text/plain": [
       "id_driver                  1.000000\n",
       "days_since_last_load       0.839446\n",
       "num_trucks                 0.169567\n",
       "brokerage_loads_atlas      0.145307\n",
       "marketplace_loads_atlas    0.138116\n",
       "marketplace_loads          0.123344\n",
       "label                      0.075683\n",
       "total_loads                0.052722\n",
       "num_trips_made             0.018007\n",
       "marketplace_loads_otr     -0.012441\n",
       "brokerage_loads           -0.037352\n",
       "brokerage_loads_otr       -0.063795\n",
       "days_signup_to_approval   -0.734778\n",
       "Name: id_driver, dtype: float64"
      ]
     },
     "metadata": {},
     "output_type": "display_data"
    },
    {
     "name": "stdout",
     "output_type": "stream",
     "text": [
      "---------------------------------------------------------------------\n",
      "dim_carrier_type\n",
      "dim_carrier_type is not of type integer\n",
      "---------------------------------------------------------------------\n",
      "dim_carrier_company_name\n",
      "dim_carrier_company_name is not of type integer\n",
      "---------------------------------------------------------------------\n",
      "carrier_trucks\n",
      "carrier_trucks is not of type integer\n",
      "---------------------------------------------------------------------\n",
      "signup_source\n",
      "signup_source is not of type integer\n",
      "---------------------------------------------------------------------\n",
      "ts_signup\n",
      "ts_signup is not of type integer\n",
      "---------------------------------------------------------------------\n",
      "ts_first_approved\n",
      "ts_first_approved is not of type integer\n",
      "---------------------------------------------------------------------\n",
      "days_signup_to_approval\n"
     ]
    },
    {
     "data": {
      "text/plain": [
       "days_signup_to_approval    1.000000\n",
       "brokerage_loads_otr        0.048116\n",
       "brokerage_loads            0.027929\n",
       "num_trips_made             0.010462\n",
       "marketplace_loads_otr      0.007436\n",
       "total_loads               -0.043765\n",
       "num_trucks                -0.053498\n",
       "label                     -0.064084\n",
       "marketplace_loads         -0.089268\n",
       "brokerage_loads_atlas     -0.092088\n",
       "marketplace_loads_atlas   -0.099058\n",
       "days_since_last_load      -0.628732\n",
       "id_driver                 -0.734778\n",
       "Name: days_signup_to_approval, dtype: float64"
      ]
     },
     "metadata": {},
     "output_type": "display_data"
    },
    {
     "name": "stdout",
     "output_type": "stream",
     "text": [
      "---------------------------------------------------------------------\n",
      "home_base_city\n",
      "home_base_city is not of type integer\n",
      "---------------------------------------------------------------------\n",
      "home_base_state\n",
      "home_base_state is not of type integer\n",
      "---------------------------------------------------------------------\n",
      "num_trucks\n"
     ]
    },
    {
     "data": {
      "text/plain": [
       "num_trucks                 1.000000\n",
       "id_driver                  0.169567\n",
       "days_since_last_load       0.163449\n",
       "num_trips_made             0.059784\n",
       "total_loads                0.017664\n",
       "brokerage_loads_otr        0.001285\n",
       "brokerage_loads           -0.006155\n",
       "label                     -0.035292\n",
       "brokerage_loads_atlas     -0.042167\n",
       "marketplace_loads_atlas   -0.050920\n",
       "days_signup_to_approval   -0.053498\n",
       "marketplace_loads_otr     -0.058752\n",
       "marketplace_loads         -0.065660\n",
       "Name: num_trucks, dtype: float64"
      ]
     },
     "metadata": {},
     "output_type": "display_data"
    },
    {
     "name": "stdout",
     "output_type": "stream",
     "text": [
      "---------------------------------------------------------------------\n",
      "interested_in_drayage\n",
      "interested_in_drayage is not of type integer\n",
      "---------------------------------------------------------------------\n",
      "port_qualified\n",
      "port_qualified is not of type integer\n",
      "---------------------------------------------------------------------\n",
      "driver_with_twic\n",
      "driver_with_twic is not of type integer\n",
      "---------------------------------------------------------------------\n",
      "first_load_date\n",
      "first_load_date is not of type integer\n",
      "---------------------------------------------------------------------\n",
      "most_recent_load_date\n",
      "most_recent_load_date is not of type integer\n",
      "---------------------------------------------------------------------\n",
      "marketplace_loads_otr\n"
     ]
    },
    {
     "data": {
      "text/plain": [
       "marketplace_loads_otr      1.000000\n",
       "num_trips_made             0.511867\n",
       "marketplace_loads          0.395290\n",
       "total_loads                0.268972\n",
       "label                      0.163324\n",
       "days_since_last_load       0.157085\n",
       "marketplace_loads_atlas    0.083147\n",
       "brokerage_loads_otr        0.080873\n",
       "brokerage_loads            0.080687\n",
       "days_signup_to_approval    0.007436\n",
       "brokerage_loads_atlas      0.005160\n",
       "id_driver                 -0.012441\n",
       "num_trucks                -0.058752\n",
       "Name: marketplace_loads_otr, dtype: float64"
      ]
     },
     "metadata": {},
     "output_type": "display_data"
    },
    {
     "name": "stdout",
     "output_type": "stream",
     "text": [
      "---------------------------------------------------------------------\n",
      "marketplace_loads_atlas\n"
     ]
    },
    {
     "data": {
      "text/plain": [
       "marketplace_loads_atlas    1.000000\n",
       "marketplace_loads          0.948243\n",
       "label                      0.577596\n",
       "total_loads                0.541759\n",
       "num_trips_made             0.445315\n",
       "brokerage_loads_atlas      0.410271\n",
       "days_since_last_load       0.202243\n",
       "id_driver                  0.138116\n",
       "marketplace_loads_otr      0.083147\n",
       "brokerage_loads            0.059796\n",
       "brokerage_loads_otr       -0.012599\n",
       "num_trucks                -0.050920\n",
       "days_signup_to_approval   -0.099058\n",
       "Name: marketplace_loads_atlas, dtype: float64"
      ]
     },
     "metadata": {},
     "output_type": "display_data"
    },
    {
     "name": "stdout",
     "output_type": "stream",
     "text": [
      "---------------------------------------------------------------------\n",
      "marketplace_loads\n"
     ]
    },
    {
     "data": {
      "text/plain": [
       "marketplace_loads          1.000000\n",
       "marketplace_loads_atlas    0.948243\n",
       "total_loads                0.585073\n",
       "label                      0.584442\n",
       "num_trips_made             0.573574\n",
       "marketplace_loads_otr      0.395290\n",
       "brokerage_loads_atlas      0.379811\n",
       "days_since_last_load       0.236472\n",
       "id_driver                  0.123344\n",
       "brokerage_loads            0.080827\n",
       "brokerage_loads_otr        0.014158\n",
       "num_trucks                -0.065660\n",
       "days_signup_to_approval   -0.089268\n",
       "Name: marketplace_loads, dtype: float64"
      ]
     },
     "metadata": {},
     "output_type": "display_data"
    },
    {
     "name": "stdout",
     "output_type": "stream",
     "text": [
      "---------------------------------------------------------------------\n",
      "brokerage_loads_otr\n"
     ]
    },
    {
     "data": {
      "text/plain": [
       "brokerage_loads_otr        1.000000\n",
       "brokerage_loads            0.984385\n",
       "total_loads                0.803391\n",
       "num_trips_made             0.572785\n",
       "label                      0.239032\n",
       "marketplace_loads_otr      0.080873\n",
       "days_since_last_load       0.061265\n",
       "days_signup_to_approval    0.048116\n",
       "marketplace_loads          0.014158\n",
       "num_trucks                 0.001285\n",
       "brokerage_loads_atlas     -0.011804\n",
       "marketplace_loads_atlas   -0.012599\n",
       "id_driver                 -0.063795\n",
       "Name: brokerage_loads_otr, dtype: float64"
      ]
     },
     "metadata": {},
     "output_type": "display_data"
    },
    {
     "name": "stdout",
     "output_type": "stream",
     "text": [
      "---------------------------------------------------------------------\n",
      "brokerage_loads_atlas\n"
     ]
    },
    {
     "data": {
      "text/plain": [
       "brokerage_loads_atlas      1.000000\n",
       "marketplace_loads_atlas    0.410271\n",
       "marketplace_loads          0.379811\n",
       "total_loads                0.329874\n",
       "label                      0.327819\n",
       "num_trips_made             0.257713\n",
       "days_since_last_load       0.179735\n",
       "brokerage_loads            0.164395\n",
       "id_driver                  0.145307\n",
       "marketplace_loads_otr      0.005160\n",
       "brokerage_loads_otr       -0.011804\n",
       "num_trucks                -0.042167\n",
       "days_signup_to_approval   -0.092088\n",
       "Name: brokerage_loads_atlas, dtype: float64"
      ]
     },
     "metadata": {},
     "output_type": "display_data"
    },
    {
     "name": "stdout",
     "output_type": "stream",
     "text": [
      "---------------------------------------------------------------------\n",
      "brokerage_loads\n"
     ]
    },
    {
     "data": {
      "text/plain": [
       "brokerage_loads            1.000000\n",
       "brokerage_loads_otr        0.984385\n",
       "total_loads                0.850586\n",
       "num_trips_made             0.610399\n",
       "label                      0.293505\n",
       "brokerage_loads_atlas      0.164395\n",
       "days_since_last_load       0.092076\n",
       "marketplace_loads          0.080827\n",
       "marketplace_loads_otr      0.080687\n",
       "marketplace_loads_atlas    0.059796\n",
       "days_signup_to_approval    0.027929\n",
       "num_trucks                -0.006155\n",
       "id_driver                 -0.037352\n",
       "Name: brokerage_loads, dtype: float64"
      ]
     },
     "metadata": {},
     "output_type": "display_data"
    },
    {
     "name": "stdout",
     "output_type": "stream",
     "text": [
      "---------------------------------------------------------------------\n",
      "total_loads\n"
     ]
    },
    {
     "data": {
      "text/plain": [
       "total_loads                1.000000\n",
       "brokerage_loads            0.850586\n",
       "brokerage_loads_otr        0.803391\n",
       "num_trips_made             0.802860\n",
       "marketplace_loads          0.585073\n",
       "label                      0.541811\n",
       "marketplace_loads_atlas    0.541759\n",
       "brokerage_loads_atlas      0.329874\n",
       "marketplace_loads_otr      0.268972\n",
       "days_since_last_load       0.216076\n",
       "id_driver                  0.052722\n",
       "num_trucks                 0.017664\n",
       "days_signup_to_approval   -0.043765\n",
       "Name: total_loads, dtype: float64"
      ]
     },
     "metadata": {},
     "output_type": "display_data"
    },
    {
     "name": "stdout",
     "output_type": "stream",
     "text": [
      "---------------------------------------------------------------------\n",
      "num_trips_made\n"
     ]
    },
    {
     "data": {
      "text/plain": [
       "num_trips_made             1.000000\n",
       "total_loads                0.802860\n",
       "brokerage_loads            0.610399\n",
       "marketplace_loads          0.573574\n",
       "brokerage_loads_otr        0.572785\n",
       "marketplace_loads_otr      0.511867\n",
       "label                      0.481593\n",
       "marketplace_loads_atlas    0.445315\n",
       "days_since_last_load       0.284921\n",
       "brokerage_loads_atlas      0.257713\n",
       "num_trucks                 0.059784\n",
       "id_driver                  0.018007\n",
       "days_signup_to_approval    0.010462\n",
       "Name: num_trips_made, dtype: float64"
      ]
     },
     "metadata": {},
     "output_type": "display_data"
    },
    {
     "name": "stdout",
     "output_type": "stream",
     "text": [
      "---------------------------------------------------------------------\n",
      "days_since_last_load\n"
     ]
    },
    {
     "data": {
      "text/plain": [
       "days_since_last_load       1.000000\n",
       "id_driver                  0.839446\n",
       "num_trips_made             0.284921\n",
       "marketplace_loads          0.236472\n",
       "total_loads                0.216076\n",
       "marketplace_loads_atlas    0.202243\n",
       "brokerage_loads_atlas      0.179735\n",
       "num_trucks                 0.163449\n",
       "marketplace_loads_otr      0.157085\n",
       "label                      0.142288\n",
       "brokerage_loads            0.092076\n",
       "brokerage_loads_otr        0.061265\n",
       "days_signup_to_approval   -0.628732\n",
       "Name: days_since_last_load, dtype: float64"
      ]
     },
     "metadata": {},
     "output_type": "display_data"
    },
    {
     "name": "stdout",
     "output_type": "stream",
     "text": [
      "---------------------------------------------------------------------\n",
      "label\n"
     ]
    },
    {
     "data": {
      "text/plain": [
       "label                      1.000000\n",
       "marketplace_loads          0.584442\n",
       "marketplace_loads_atlas    0.577596\n",
       "total_loads                0.541811\n",
       "num_trips_made             0.481593\n",
       "brokerage_loads_atlas      0.327819\n",
       "brokerage_loads            0.293505\n",
       "brokerage_loads_otr        0.239032\n",
       "marketplace_loads_otr      0.163324\n",
       "days_since_last_load       0.142288\n",
       "id_driver                  0.075683\n",
       "num_trucks                -0.035292\n",
       "days_signup_to_approval   -0.064084\n",
       "Name: label, dtype: float64"
      ]
     },
     "metadata": {},
     "output_type": "display_data"
    },
    {
     "name": "stdout",
     "output_type": "stream",
     "text": [
      "---------------------------------------------------------------------\n"
     ]
    }
   ],
   "source": [
    "corr_matrix = df.corr()\n",
    "for col_name in (list(df.columns.values)): # prints all the correlation matrices corresponding to each feature\n",
    "    try:\n",
    "        print(col_name)\n",
    "        display(corr_matrix[col_name].sort_values(ascending=False))\n",
    "        print('---------------------------------------------------------------------')\n",
    "    except:\n",
    "        print(\"{} is not of type integer\".format(col_name))\n",
    "        print('---------------------------------------------------------------------')"
   ]
  },
  {
   "cell_type": "markdown",
   "metadata": {},
   "source": [
    " Also year and TODO_FIND_COLUMN_NAME_2 and year are highly correlated and have a similar impact on label, so we could drop one? \n",
    "\n",
    "Is there really a need for brokerage_loads when it is so highly correlated to brokerage_loads_otr due to the vast majority of shipments being delivered over-the-road as compared to via ATLAS? \n",
    "\n",
    "I have the same question about total_loads due to the vast majority of loads being brokerage loads...\n",
    "\n",
    "What's the point of having both year and date?\n",
    "\n",
    "We can remove the id_carrier_number column from this dataset as it is not relevant to predicting a label of 0 or 1 (When trying to find high performing drivers, we need to know their carrier number, so we can extract the id_carrier_number column for now...)\n",
    "\n",
    "We could one-hot-encode sign-up source and see its effect on labels.\n",
    "\n",
    "We can remove the ts_first_approved column because the date of approval shouldn't matter that much but instead the days_signup_to_approval matter.\n",
    "\n",
    "dim_preferred_lanes only has a few values so we can either remove the column or impute values.\n",
    "\n",
    "Also first_load_date, most_recent_load_date and load_day shouldn't matter much. Instead we can have values such as: number of days doing the job = most_recent_load_date - first_load_date\n",
    "AND\n",
    "days_from_last_load_to_today = todays_date - most_recent_load_date\n",
    "\n",
    "There are also a couple other features we need to impute.\n",
    "\n",
    "Also, only people that are port qualified can provide drayage services, so we should create a field called qualified_and_interest_in_drayage which is only 1 (yes) when interested_in_drayage = \"yes\" and port_qualified = \"yes\". We can also cross these features..."
   ]
  },
  {
   "cell_type": "markdown",
   "metadata": {},
   "source": [
    "# 4. Data Feature Extraction Plan and Pipeline"
   ]
  },
  {
   "cell_type": "code",
   "execution_count": 32,
   "metadata": {},
   "outputs": [],
   "source": [
    "# df[\"location\"] = list(zip(df[\"home_base_city\"], df[\"home_base_state\"]))# feature cross to get (city, state) tuple\n",
    "# # feature cross for interested in drayage and port qualified\n",
    "# df[\"drayage_interested_port_qualified\"] = list(zip(df[\"interested_in_drayage\"], df[\"port_qualified\"]))\n",
    "# display(df[\"location\"])\n",
    "# display(df[\"drayage_interested_port_qualified\"])"
   ]
  },
  {
   "cell_type": "code",
   "execution_count": 33,
   "metadata": {},
   "outputs": [
    {
     "data": {
      "text/plain": [
       "0       100000\n",
       "1       100000\n",
       "2       100000\n",
       "3       100000\n",
       "4       100000\n",
       "         ...  \n",
       "5286    100000\n",
       "5287    000001\n",
       "5288    000001\n",
       "5289    000001\n",
       "5290    000001\n",
       "Name: drayage_interested_port_qualified, Length: 5291, dtype: object"
      ]
     },
     "metadata": {},
     "output_type": "display_data"
    },
    {
     "data": {
      "text/plain": [
       "0      100000\n",
       "1      100000\n",
       "2      100000\n",
       "3      100000\n",
       "4      100000\n",
       "        ...  \n",
       "663    100000\n",
       "664    000001\n",
       "665    000010\n",
       "666    000010\n",
       "667    010000\n",
       "Name: drayage_interested_port_qualified, Length: 668, dtype: object"
      ]
     },
     "metadata": {},
     "output_type": "display_data"
    }
   ],
   "source": [
    "def drayage_feature_cross(df):\n",
    "    loc_cross = list(zip(df[\"home_base_city\"], df[\"home_base_state\"]))# feature cross to get (city, state) tuple\n",
    "    # feature cross for interested in drayage and port qualified\n",
    "    drayage_cross = list(zip(df[\"interested_in_drayage\"], df[\"port_qualified\"]))\n",
    "\n",
    "    drayage_arr = []\n",
    "    for list_item in drayage_cross:\n",
    "        if list_item[0] == \"yes\" and list_item[1] == \"yes\":\n",
    "            drayage_arr.append(\"000001\")\n",
    "        if list_item[0] == \"yes\" and list_item[1] == \"no\":\n",
    "            drayage_arr.append(\"000010\")\n",
    "        if list_item[0] == \"no\" and list_item[1] == \"yes\":\n",
    "            drayage_arr.append(\"000100\")\n",
    "        if list_item[0] == \"no\" and list_item[1] == \"no\":\n",
    "            drayage_arr.append(\"001000\")\n",
    "        if list_item[0] == \"not specified\" and list_item[1] == \"yes\":\n",
    "            drayage_arr.append(\"010000\")\n",
    "        if list_item[0] == \"not specified\" and list_item[1] == \"no\":\n",
    "            drayage_arr.append(\"100000\")\n",
    "\n",
    "    df[\"drayage_interested_port_qualified\"] = np.array(drayage_arr)\n",
    "    display(df[\"drayage_interested_port_qualified\"])\n",
    "\n",
    "drayage_feature_cross(df)\n",
    "drayage_feature_cross(df_score)"
   ]
  },
  {
   "cell_type": "code",
   "execution_count": 34,
   "metadata": {},
   "outputs": [],
   "source": [
    "id_driver_number_col = np.array(df[\"id_driver\"]) # extract id_driver column\n",
    "id_driver_number_col_score = np.array(df_score[\"id_driver\"]) # extract id_driver column\n",
    "\n",
    "drop_cols = [\"id_driver\", \"interested_in_drayage\", \"port_qualified\", \n",
    "             \"ts_signup\", \"ts_first_approved\"] #\"home_base_city\",\"home_base_state\",\n",
    "for col in drop_cols:\n",
    "    try:\n",
    "        df_score = df_score.drop(columns=[col])\n",
    "    except:\n",
    "        continue\n",
    "\n",
    "for col in drop_cols:\n",
    "    try:\n",
    "        df = df.drop(columns=[col])\n",
    "    except:\n",
    "        continue"
   ]
  },
  {
   "cell_type": "code",
   "execution_count": 35,
   "metadata": {},
   "outputs": [
    {
     "name": "stdout",
     "output_type": "stream",
     "text": [
      "<class 'pandas.core.frame.DataFrame'>\n",
      "RangeIndex: 5291 entries, 0 to 5290\n",
      "Data columns (total 22 columns):\n",
      " #   Column                             Non-Null Count  Dtype         \n",
      "---  ------                             --------------  -----         \n",
      " 0   dim_carrier_type                   5291 non-null   string        \n",
      " 1   dim_carrier_company_name           5284 non-null   string        \n",
      " 2   carrier_trucks                     5291 non-null   string        \n",
      " 3   signup_source                      5291 non-null   string        \n",
      " 4   days_signup_to_approval            3962 non-null   Int64         \n",
      " 5   home_base_city                     5291 non-null   string        \n",
      " 6   home_base_state                    5291 non-null   string        \n",
      " 7   num_trucks                         5249 non-null   float64       \n",
      " 8   driver_with_twic                   5291 non-null   string        \n",
      " 9   first_load_date                    5291 non-null   datetime64[ns]\n",
      " 10  most_recent_load_date              5291 non-null   datetime64[ns]\n",
      " 11  marketplace_loads_otr              5291 non-null   Int64         \n",
      " 12  marketplace_loads_atlas            5291 non-null   Int64         \n",
      " 13  marketplace_loads                  5291 non-null   Int64         \n",
      " 14  brokerage_loads_otr                5291 non-null   Int64         \n",
      " 15  brokerage_loads_atlas              5291 non-null   Int64         \n",
      " 16  brokerage_loads                    5291 non-null   Int64         \n",
      " 17  total_loads                        5291 non-null   Int64         \n",
      " 18  num_trips_made                     5291 non-null   Int64         \n",
      " 19  days_since_last_load               5291 non-null   Int64         \n",
      " 20  label                              5291 non-null   Int64         \n",
      " 21  drayage_interested_port_qualified  5291 non-null   object        \n",
      "dtypes: Int64(11), datetime64[ns](2), float64(1), object(1), string(7)\n",
      "memory usage: 966.4+ KB\n"
     ]
    }
   ],
   "source": [
    "df.info()"
   ]
  },
  {
   "cell_type": "code",
   "execution_count": 36,
   "metadata": {},
   "outputs": [],
   "source": [
    "names = {}\n",
    "for index, row in df.iterrows():\n",
    "    names[row[\"dim_carrier_company_name\"]] = int(names.get(row[\"dim_carrier_company_name\"], 0) + 1)\n",
    "listo = list(names.items())\n",
    "listo.sort(reverse=True, key=lambda x: int(x[1]))\n",
    "#listo[:50]"
   ]
  },
  {
   "cell_type": "code",
   "execution_count": 37,
   "metadata": {},
   "outputs": [
    {
     "name": "stdout",
     "output_type": "stream",
     "text": [
      "# 50:  1290\n",
      "Percentage 50:  0.5176565008025682\n",
      "['NFS asset Drayage', 'MC Express Trucking LLC', 'Roadrunner Transportation', 'Dong Fang Marketing Inc', 'ROADMOND LOGISTICS INC.', 'Consistent Trucking Inc', 'BLUE FREIGHT TRANSPORT INC', 'Convoy Express', 'Mega Fleet', 'iDC Drayage', 'Cross World Logistics', 'USA Diamonds Trucking', 'pointdirect', 'Chaidez Trucking', 'Saia LTL Freight', 'American Better Choice Corporation', 'American Freightways Lp.', 'Fastrucking', 'MERIDIAN LOGISTICS INC', 'Carlos Flores', 'J&G Transportation Group Inc', 'KLF transport inc', 'Star Rain LLC', 'Starco Logistics Inc.', '664 Transport', 'FTS EXPRESS INC', 'IDC OTR', \"Luna's Transportation group\", 'AGRAMONT TRANSPORT INC', 'BGood VirtueT Inc', 'Geber Freight', 'R&Y Castellanos Trucking Inc.', 'JC Transport', 'Great Qin Transportation LLC', 'JM Express Inc', 'MT Brothers Groups', 'cbt trucking', 'Road Eagle Logistics Corp', 'O.A. EXPRESS INC', 'AMPAK Logistics INC.', 'Kuang Trucking Inc.', 'nolan transportation group', '360 new way inc', 'Innovative Transportation, LLC', 'freight advisor corp', 'one USA group', 'Blue Horizon', 'STS TRUCKING', 'AL JR TRUCKING', 'MG Trucking']\n"
     ]
    }
   ],
   "source": [
    "listo = listo[:50]\n",
    "count_50 = sum([x[1] for x in listo])\n",
    "print(\"# 50: \", count_50)\n",
    "print(\"Percentage 50: \", count_50/len(names))\n",
    "\n",
    "names_arr = [tuples[0] for tuples in listo]\n",
    "print(names_arr)"
   ]
  },
  {
   "cell_type": "code",
   "execution_count": 38,
   "metadata": {},
   "outputs": [],
   "source": [
    "def bucketize(df):\n",
    "    days_worked = []\n",
    "    for index, row in df.iterrows(): # bucketize the most frequent dim_carrier_company names, \n",
    "                                     # put less frequent names in a single bucket\n",
    "        try:\n",
    "            if row[\"dim_carrier_company_name\"] not in names_arr:\n",
    "                df.at[index, \"dim_carrier_company_name\"] = \"Other\"\n",
    "        except:\n",
    "            df.at[index, \"dim_carrier_company_name\"] = \"Other\"\n",
    "\n",
    "        # find number of days driver has worked\n",
    "        if row[\"most_recent_load_date\"] != np.nan and row[\"first_load_date\"] != np.nan:\n",
    "            days_worked.append((row[\"most_recent_load_date\"] - row[\"first_load_date\"]).days)\n",
    "        else:\n",
    "            days_worked.append(None)\n",
    "    df[\"days_tenured\"] = np.array(days_worked)\n",
    "\n",
    "bucketize(df)\n",
    "bucketize(df_score)"
   ]
  },
  {
   "cell_type": "code",
   "execution_count": 39,
   "metadata": {},
   "outputs": [],
   "source": [
    "# # Get total_loads for df_score in order to find labels\n",
    "# total_loads = []\n",
    "# for index, row in df_score.iterrows():\n",
    "#     total_loads.append(row[\"marketplace_loads\"] + row[\"brokerage_loads\"])\n",
    "# df_score[\"total_loads\"] = np.array(total_loads)"
   ]
  },
  {
   "cell_type": "code",
   "execution_count": 40,
   "metadata": {},
   "outputs": [],
   "source": [
    "# total_loads_score_75 = df_score.total_loads.quantile(0.75) # finds 75th percentile of loads\n",
    "# most_recent_load_date_score_75 = df_score.most_recent_load_date.quantile(0.75) # finds 75th percentile of most recent load date\n",
    "\n",
    "# print(total_loads_score_75)\n",
    "# print(most_recent_load_date_score_75)"
   ]
  },
  {
   "cell_type": "code",
   "execution_count": 41,
   "metadata": {},
   "outputs": [],
   "source": [
    "# score_labels = []\n",
    "# for index, row in df_score.iterrows(): # changes the labels in the label columns\n",
    "#     # checks if the load and most recent load date are in the 75th percentile\n",
    "#     if row[\"total_loads\"] >= total_loads_score_75 and row[\"most_recent_load_date\"] >= most_recent_load_date_score_75:\n",
    "#         score_labels.append(1)\n",
    "#     else:\n",
    "#         score_labels.append(0)\n",
    "# print(len(score_labels))\n",
    "# print(score_labels)"
   ]
  },
  {
   "cell_type": "code",
   "execution_count": 42,
   "metadata": {},
   "outputs": [],
   "source": [
    "drop_cols = [\"most_recent_load_date\", \"first_load_date\", \"weekday\", \"load_day\", \"total_loads\"]\n",
    "for col in drop_cols:\n",
    "    try:\n",
    "        df_score = df_score.drop(columns=[col])\n",
    "    except:\n",
    "        continue\n",
    "\n",
    "for col in drop_cols:\n",
    "    try:\n",
    "        df = df.drop(columns=[col])\n",
    "    except:\n",
    "        continue"
   ]
  },
  {
   "cell_type": "code",
   "execution_count": 43,
   "metadata": {},
   "outputs": [],
   "source": [
    "df_unlabeled = df.drop(columns=[\"label\"])\n",
    "labels = df[\"label\"].copy()"
   ]
  },
  {
   "cell_type": "code",
   "execution_count": 44,
   "metadata": {},
   "outputs": [
    {
     "name": "stdout",
     "output_type": "stream",
     "text": [
      "Unique Values :  [0 1]\n",
      "Occurrence Count :  [5236   55]\n"
     ]
    }
   ],
   "source": [
    "uniqueValues, occurCount = np.unique(labels, return_counts=True)\n",
    "print(\"Unique Values : \" , uniqueValues)\n",
    "print(\"Occurrence Count : \", occurCount)"
   ]
  },
  {
   "cell_type": "code",
   "execution_count": 45,
   "metadata": {},
   "outputs": [
    {
     "name": "stdout",
     "output_type": "stream",
     "text": [
      "<class 'pandas.core.frame.DataFrame'>\n",
      "RangeIndex: 5291 entries, 0 to 5290\n",
      "Data columns (total 19 columns):\n",
      " #   Column                             Non-Null Count  Dtype  \n",
      "---  ------                             --------------  -----  \n",
      " 0   dim_carrier_type                   5291 non-null   string \n",
      " 1   dim_carrier_company_name           5291 non-null   string \n",
      " 2   carrier_trucks                     5291 non-null   string \n",
      " 3   signup_source                      5291 non-null   string \n",
      " 4   days_signup_to_approval            3962 non-null   Int64  \n",
      " 5   home_base_city                     5291 non-null   string \n",
      " 6   home_base_state                    5291 non-null   string \n",
      " 7   num_trucks                         5249 non-null   float64\n",
      " 8   driver_with_twic                   5291 non-null   string \n",
      " 9   marketplace_loads_otr              5291 non-null   Int64  \n",
      " 10  marketplace_loads_atlas            5291 non-null   Int64  \n",
      " 11  marketplace_loads                  5291 non-null   Int64  \n",
      " 12  brokerage_loads_otr                5291 non-null   Int64  \n",
      " 13  brokerage_loads_atlas              5291 non-null   Int64  \n",
      " 14  brokerage_loads                    5291 non-null   Int64  \n",
      " 15  num_trips_made                     5291 non-null   Int64  \n",
      " 16  days_since_last_load               5291 non-null   Int64  \n",
      " 17  drayage_interested_port_qualified  5291 non-null   object \n",
      " 18  days_tenured                       5291 non-null   int64  \n",
      "dtypes: Int64(9), float64(1), int64(1), object(1), string(7)\n",
      "memory usage: 832.0+ KB\n"
     ]
    }
   ],
   "source": [
    "df_unlabeled.info()"
   ]
  },
  {
   "cell_type": "code",
   "execution_count": 46,
   "metadata": {},
   "outputs": [
    {
     "name": "stdout",
     "output_type": "stream",
     "text": [
      "<class 'pandas.core.frame.DataFrame'>\n",
      "RangeIndex: 668 entries, 0 to 667\n",
      "Data columns (total 19 columns):\n",
      " #   Column                             Non-Null Count  Dtype  \n",
      "---  ------                             --------------  -----  \n",
      " 0   dim_carrier_type                   668 non-null    string \n",
      " 1   dim_carrier_company_name           668 non-null    string \n",
      " 2   carrier_trucks                     668 non-null    string \n",
      " 3   signup_source                      668 non-null    string \n",
      " 4   days_signup_to_approval            572 non-null    Int64  \n",
      " 5   home_base_city                     668 non-null    string \n",
      " 6   home_base_state                    668 non-null    string \n",
      " 7   num_trucks                         668 non-null    float64\n",
      " 8   driver_with_twic                   668 non-null    string \n",
      " 9   marketplace_loads_otr              668 non-null    Int64  \n",
      " 10  marketplace_loads_atlas            668 non-null    Int64  \n",
      " 11  marketplace_loads                  668 non-null    Int64  \n",
      " 12  brokerage_loads_otr                668 non-null    Int64  \n",
      " 13  brokerage_loads_atlas              668 non-null    Int64  \n",
      " 14  brokerage_loads                    668 non-null    Int64  \n",
      " 15  num_trips_made                     668 non-null    Int64  \n",
      " 16  days_since_last_load               668 non-null    Int64  \n",
      " 17  drayage_interested_port_qualified  668 non-null    object \n",
      " 18  days_tenured                       668 non-null    int64  \n",
      "dtypes: Int64(9), float64(1), int64(1), object(1), string(7)\n",
      "memory usage: 105.2+ KB\n"
     ]
    }
   ],
   "source": [
    "df_score.info()"
   ]
  },
  {
   "cell_type": "code",
   "execution_count": 47,
   "metadata": {},
   "outputs": [
    {
     "name": "stdout",
     "output_type": "stream",
     "text": [
      "['dim_carrier_type', 'dim_carrier_company_name', 'carrier_trucks', 'signup_source', 'days_signup_to_approval', 'home_base_city', 'home_base_state', 'num_trucks', 'driver_with_twic', 'marketplace_loads_otr', 'marketplace_loads_atlas', 'marketplace_loads', 'brokerage_loads_otr', 'brokerage_loads_atlas', 'brokerage_loads', 'num_trips_made', 'days_since_last_load', 'drayage_interested_port_qualified', 'days_tenured']\n"
     ]
    }
   ],
   "source": [
    "cols = list(df_unlabeled.columns.values)\n",
    "print(cols)"
   ]
  },
  {
   "cell_type": "code",
   "execution_count": 48,
   "metadata": {},
   "outputs": [],
   "source": [
    "df_score = df_score[cols]\n",
    "\n",
    "df_score['num_trucks'] = pd.to_numeric(df_score['num_trucks'], errors='coerce')\n",
    "df_score['days_signup_to_approval'] = pd.to_numeric(df_score['days_signup_to_approval'], errors='coerce')\n",
    "\n",
    "df_unlabeled['num_trucks'] = pd.to_numeric(df_unlabeled['num_trucks'], errors='coerce')\n",
    "df_unlabeled['days_signup_to_approval'] = pd.to_numeric(df_unlabeled['days_signup_to_approval'], errors='coerce')\n",
    "\n",
    "# df_unlabeled['home_base_city'].astype(str) #= to_string(df_unlabeled['home_base_city'], errors='coerce')\n",
    "# df_unlabeled['home_base_state'].astype(str) #= pd.to_string(df_unlabeled['home_base_state'], errors='coerce')\n",
    "\n",
    "convert = [\"id_driver\", \"days_signup_to_approval\", \"marketplace_loads_otr\", \n",
    "               \"marketplace_loads_atlas\", \"marketplace_loads\", \"brokerage_loads_otr\",\n",
    "               \"brokerage_loads_atlas\", \"brokerage_loads\", \"num_trips_made\",\n",
    "               \"num_trucks\", \"dim_carrier_type\", \"dim_carrier_company_name\",\n",
    "               \"interested_in_drayage\", \"port_qualified\", \"signup_source\", \"driver_with_twic\",\n",
    "          \"home_base_city\",\"home_base_state\"] #\"home_base_city\",\"home_base_state\"\n",
    "for col in convert:\n",
    "    try:\n",
    "        df_score[col] = df_score[col].convert_dtypes()\n",
    "    except:\n",
    "        continue\n",
    "\n",
    "for col in convert:\n",
    "    try:\n",
    "        df_unlabeled[col] = df_unlabeled[col].convert_dtypes()\n",
    "    except:\n",
    "        continue"
   ]
  },
  {
   "cell_type": "code",
   "execution_count": 49,
   "metadata": {},
   "outputs": [
    {
     "name": "stdout",
     "output_type": "stream",
     "text": [
      "<class 'pandas.core.frame.DataFrame'>\n",
      "RangeIndex: 5959 entries, 0 to 5958\n",
      "Data columns (total 19 columns):\n",
      " #   Column                             Non-Null Count  Dtype  \n",
      "---  ------                             --------------  -----  \n",
      " 0   dim_carrier_type                   5959 non-null   string \n",
      " 1   dim_carrier_company_name           5959 non-null   string \n",
      " 2   carrier_trucks                     5959 non-null   string \n",
      " 3   signup_source                      5959 non-null   string \n",
      " 4   days_signup_to_approval            4534 non-null   Int64  \n",
      " 5   home_base_city                     5959 non-null   string \n",
      " 6   home_base_state                    5959 non-null   string \n",
      " 7   num_trucks                         5917 non-null   float64\n",
      " 8   driver_with_twic                   5959 non-null   string \n",
      " 9   marketplace_loads_otr              5959 non-null   Int64  \n",
      " 10  marketplace_loads_atlas            5959 non-null   Int64  \n",
      " 11  marketplace_loads                  5959 non-null   Int64  \n",
      " 12  brokerage_loads_otr                5959 non-null   Int64  \n",
      " 13  brokerage_loads_atlas              5959 non-null   Int64  \n",
      " 14  brokerage_loads                    5959 non-null   Int64  \n",
      " 15  num_trips_made                     5959 non-null   Int64  \n",
      " 16  days_since_last_load               5959 non-null   Int64  \n",
      " 17  drayage_interested_port_qualified  5959 non-null   object \n",
      " 18  days_tenured                       5959 non-null   int64  \n",
      "dtypes: Int64(9), float64(1), int64(1), object(1), string(7)\n",
      "memory usage: 937.0+ KB\n"
     ]
    }
   ],
   "source": [
    "df_concat = pd.concat([df_unlabeled, df_score], ignore_index=True)\n",
    "df_concat.info()"
   ]
  },
  {
   "cell_type": "code",
   "execution_count": 50,
   "metadata": {},
   "outputs": [],
   "source": [
    "for col in convert:\n",
    "    try:\n",
    "        df_concat[col] = df_concat[col].convert_dtypes()\n",
    "    except:\n",
    "        continue"
   ]
  },
  {
   "cell_type": "code",
   "execution_count": 51,
   "metadata": {},
   "outputs": [
    {
     "name": "stdout",
     "output_type": "stream",
     "text": [
      "<class 'pandas.core.frame.DataFrame'>\n",
      "RangeIndex: 5959 entries, 0 to 5958\n",
      "Data columns (total 19 columns):\n",
      " #   Column                             Non-Null Count  Dtype  \n",
      "---  ------                             --------------  -----  \n",
      " 0   dim_carrier_type                   5959 non-null   string \n",
      " 1   dim_carrier_company_name           5959 non-null   string \n",
      " 2   carrier_trucks                     5959 non-null   string \n",
      " 3   signup_source                      5959 non-null   string \n",
      " 4   days_signup_to_approval            4534 non-null   Int64  \n",
      " 5   home_base_city                     5959 non-null   string \n",
      " 6   home_base_state                    5959 non-null   string \n",
      " 7   num_trucks                         5917 non-null   float64\n",
      " 8   driver_with_twic                   5959 non-null   string \n",
      " 9   marketplace_loads_otr              5959 non-null   Int64  \n",
      " 10  marketplace_loads_atlas            5959 non-null   Int64  \n",
      " 11  marketplace_loads                  5959 non-null   Int64  \n",
      " 12  brokerage_loads_otr                5959 non-null   Int64  \n",
      " 13  brokerage_loads_atlas              5959 non-null   Int64  \n",
      " 14  brokerage_loads                    5959 non-null   Int64  \n",
      " 15  num_trips_made                     5959 non-null   Int64  \n",
      " 16  days_since_last_load               5959 non-null   Int64  \n",
      " 17  drayage_interested_port_qualified  5959 non-null   object \n",
      " 18  days_tenured                       5959 non-null   int64  \n",
      "dtypes: Int64(9), float64(1), int64(1), object(1), string(7)\n",
      "memory usage: 937.0+ KB\n"
     ]
    }
   ],
   "source": [
    "df_concat.info()"
   ]
  },
  {
   "cell_type": "code",
   "execution_count": 52,
   "metadata": {},
   "outputs": [],
   "source": [
    "# df_concat = df_concat.drop(columns=[\"marketplace_loads\", \"brokerage_loads\"])"
   ]
  },
  {
   "cell_type": "code",
   "execution_count": 53,
   "metadata": {},
   "outputs": [],
   "source": [
    "imputer = IterativeImputer()\n",
    "# df = imputer.fit_transform(df)\n",
    "categorical_features_one_hot = [\"dim_carrier_type\", \"dim_carrier_company_name\", \"carrier_trucks\", \n",
    "                                \"signup_source\", \"driver_with_twic\", \"home_base_city\",\"home_base_state\"] #\"home_base_city\",\"home_base_state\"\n",
    "\n",
    "df_num = df_concat.drop(columns=categorical_features_one_hot)\n",
    "# df_num = df_concat\n",
    "numerical_features = list(df_num)\n",
    "\n",
    "num_pipeline = Pipeline([\n",
    "        ('imputer', imputer),\n",
    "        ('std_scaler', StandardScaler()),\n",
    "    ])\n",
    "\n",
    "full_pipeline = ColumnTransformer([\n",
    "        (\"num\", num_pipeline, numerical_features),\n",
    "        (\"cat\", OneHotEncoder(sparse=False), categorical_features_one_hot), #sparse=False\n",
    "    ])\n",
    "df_prepared = full_pipeline.fit_transform(df_concat)"
   ]
  },
  {
   "cell_type": "code",
   "execution_count": 54,
   "metadata": {},
   "outputs": [
    {
     "data": {
      "text/plain": [
       "array([[ 1.89676035, -0.39804762, -0.23261086, ...,  0.        ,\n",
       "         0.        ,  0.        ],\n",
       "       [ 1.90882444, -0.39804762, -0.23261086, ...,  0.        ,\n",
       "         0.        ,  0.        ],\n",
       "       [ 1.92261463, -0.39804762, -0.23261086, ...,  0.        ,\n",
       "         0.        ,  0.        ],\n",
       "       ...,\n",
       "       [-1.01120964, -0.39804762, -0.23261086, ...,  0.        ,\n",
       "         0.        ,  0.        ],\n",
       "       [-1.01120964, -0.37456332, -0.15643114, ...,  0.        ,\n",
       "         0.        ,  0.        ],\n",
       "       [-1.01120964, -0.39804762, -0.23261086, ...,  0.        ,\n",
       "         0.        ,  0.        ]])"
      ]
     },
     "metadata": {},
     "output_type": "display_data"
    }
   ],
   "source": [
    "display(df_prepared)"
   ]
  },
  {
   "cell_type": "code",
   "execution_count": 55,
   "metadata": {},
   "outputs": [],
   "source": [
    "# X_train_temp = df_prepared[:5291]\n",
    "# y_train_temp = labels\n",
    "# X_test = df_prepared[5291:]\n",
    "# y_test = score_labels\n",
    "\n",
    "# y_train_temp = y_train_temp.astype('int')"
   ]
  },
  {
   "cell_type": "code",
   "execution_count": 56,
   "metadata": {},
   "outputs": [],
   "source": [
    "X = df_prepared[:5291]\n",
    "y = labels\n",
    "X_test_score = df_prepared[5291:]\n",
    "y_test_score = score_labels\n",
    "y = y.astype('int')\n",
    "X, y = SMOTE().fit_resample(X, y)\n",
    "X_train, X_test, y_train, y_test = train_test_split(X, y, test_size=0.2, random_state=42)"
   ]
  },
  {
   "cell_type": "code",
   "execution_count": 57,
   "metadata": {},
   "outputs": [],
   "source": [
    "# X_train, y_train = SMOTE().fit_resample(X_train_temp, y_train_temp)"
   ]
  },
  {
   "cell_type": "code",
   "execution_count": 58,
   "metadata": {},
   "outputs": [
    {
     "name": "stdout",
     "output_type": "stream",
     "text": [
      "(8377, 647) (2095, 647)\n",
      "(8377,) (2095,)\n"
     ]
    }
   ],
   "source": [
    "print(X_train.shape, X_test.shape)\n",
    "print(y_train.shape, y_test.shape)"
   ]
  },
  {
   "cell_type": "markdown",
   "metadata": {},
   "source": [
    "# 5. Linear Regression"
   ]
  },
  {
   "cell_type": "code",
   "execution_count": 59,
   "metadata": {},
   "outputs": [],
   "source": [
    "from sklearn.linear_model import LinearRegression\n",
    "\n",
    "lin_reg = LinearRegression()\n",
    "lin_reg.fit(X_train, y_train)\n",
    "lr_predicted = lin_reg.predict(X_test)"
   ]
  },
  {
   "cell_type": "code",
   "execution_count": 60,
   "metadata": {},
   "outputs": [
    {
     "data": {
      "text/plain": [
       "137675779.76181078"
      ]
     },
     "execution_count": 60,
     "metadata": {},
     "output_type": "execute_result"
    }
   ],
   "source": [
    "from sklearn.metrics import mean_squared_error\n",
    "\n",
    "mse = mean_squared_error(y_test, lr_predicted)\n",
    "rmse = np.sqrt(mse)\n",
    "rmse"
   ]
  },
  {
   "cell_type": "code",
   "execution_count": 61,
   "metadata": {},
   "outputs": [
    {
     "data": {
      "text/plain": [
       "-7.583107657928693e+16"
      ]
     },
     "execution_count": 61,
     "metadata": {},
     "output_type": "execute_result"
    }
   ],
   "source": [
    "from sklearn.metrics import r2_score\n",
    "\n",
    "r2_score(y_test, lr_predicted)"
   ]
  },
  {
   "cell_type": "code",
   "execution_count": 62,
   "metadata": {},
   "outputs": [
    {
     "name": "stdout",
     "output_type": "stream",
     "text": [
      "                            OLS Regression Results                            \n",
      "==============================================================================\n",
      "Dep. Variable:                  label   R-squared:                       0.905\n",
      "Model:                            OLS   Adj. R-squared:                  0.899\n",
      "Method:                 Least Squares   F-statistic:                     140.4\n",
      "Date:                Thu, 18 Mar 2021   Prob (F-statistic):               0.00\n",
      "Time:                        11:05:05   Log-Likelihood:                 3792.1\n",
      "No. Observations:                8377   AIC:                            -6514.\n",
      "Df Residuals:                    7842   BIC:                            -2751.\n",
      "Df Model:                         534                                         \n",
      "Covariance Type:            nonrobust                                         \n",
      "==============================================================================\n",
      "                 coef    std err          t      P>|t|      [0.025      0.975]\n",
      "------------------------------------------------------------------------------\n",
      "const      -6.668e+09   3.09e+10     -0.216      0.829   -6.72e+10    5.39e+10\n",
      "x1             0.0423      0.005      8.168      0.000       0.032       0.052\n",
      "x2            -0.7310      0.045    -16.090      0.000      -0.820      -0.642\n",
      "x3         -8.664e+09   4.02e+10     -0.216      0.829   -8.74e+10    7.01e+10\n",
      "x4         -2.496e+10   1.16e+11     -0.216      0.829   -2.52e+11    2.02e+11\n",
      "x5          2.709e+10   1.26e+11      0.216      0.829   -2.19e+11    2.73e+11\n",
      "x6          7.293e+09   3.38e+10      0.216      0.829    -5.9e+10    7.36e+10\n",
      "x7          1.325e+09   6.14e+09      0.216      0.829   -1.07e+10    1.34e+10\n",
      "x8         -7.388e+09   3.42e+10     -0.216      0.829   -7.45e+10    5.97e+10\n",
      "x9             0.1002      0.002     45.440      0.000       0.096       0.105\n",
      "x10            0.1043      0.006     18.158      0.000       0.093       0.116\n",
      "x11           -0.0435      0.004    -12.329      0.000      -0.050      -0.037\n",
      "x12           -0.0823      0.004    -22.129      0.000      -0.090      -0.075\n",
      "x13        -4.332e+08   2.01e+09     -0.216      0.829   -4.37e+09     3.5e+09\n",
      "x14        -4.332e+08   2.01e+09     -0.216      0.829   -4.37e+09     3.5e+09\n",
      "x15        -4.332e+08   2.01e+09     -0.216      0.829   -4.37e+09     3.5e+09\n",
      "x16         1.998e+08   9.26e+08      0.216      0.829   -1.62e+09    2.02e+09\n",
      "x17         1.998e+08   9.26e+08      0.216      0.829   -1.62e+09    2.02e+09\n",
      "x18         1.998e+08   9.26e+08      0.216      0.829   -1.62e+09    2.02e+09\n",
      "x19         1.998e+08   9.26e+08      0.216      0.829   -1.62e+09    2.02e+09\n",
      "x20         1.998e+08   9.26e+08      0.216      0.829   -1.62e+09    2.02e+09\n",
      "x21         1.998e+08   9.26e+08      0.216      0.829   -1.62e+09    2.02e+09\n",
      "x22         1.998e+08   9.26e+08      0.216      0.829   -1.62e+09    2.02e+09\n",
      "x23         1.998e+08   9.26e+08      0.216      0.829   -1.62e+09    2.02e+09\n",
      "x24         1.998e+08   9.26e+08      0.216      0.829   -1.62e+09    2.02e+09\n",
      "x25         1.998e+08   9.26e+08      0.216      0.829   -1.62e+09    2.02e+09\n",
      "x26         1.998e+08   9.26e+08      0.216      0.829   -1.62e+09    2.02e+09\n",
      "x27         1.998e+08   9.26e+08      0.216      0.829   -1.62e+09    2.02e+09\n",
      "x28         1.998e+08   9.26e+08      0.216      0.829   -1.62e+09    2.02e+09\n",
      "x29         5.702e+07   2.64e+08      0.216      0.829   -4.61e+08    5.75e+08\n",
      "x30         1.998e+08   9.26e+08      0.216      0.829   -1.62e+09    2.02e+09\n",
      "x31         1.998e+08   9.26e+08      0.216      0.829   -1.62e+09    2.02e+09\n",
      "x32         1.998e+08   9.26e+08      0.216      0.829   -1.62e+09    2.02e+09\n",
      "x33         1.998e+08   9.26e+08      0.216      0.829   -1.62e+09    2.02e+09\n",
      "x34         1.998e+08   9.26e+08      0.216      0.829   -1.62e+09    2.02e+09\n",
      "x35         1.998e+08   9.26e+08      0.216      0.829   -1.62e+09    2.02e+09\n",
      "x36         9.383e+07   4.35e+08      0.216      0.829   -7.59e+08    9.46e+08\n",
      "x37         1.998e+08   9.26e+08      0.216      0.829   -1.62e+09    2.02e+09\n",
      "x38         1.998e+08   9.26e+08      0.216      0.829   -1.62e+09    2.02e+09\n",
      "x39         1.998e+08   9.26e+08      0.216      0.829   -1.62e+09    2.02e+09\n",
      "x40         1.998e+08   9.26e+08      0.216      0.829   -1.62e+09    2.02e+09\n",
      "x41         1.998e+08   9.26e+08      0.216      0.829   -1.62e+09    2.02e+09\n",
      "x42         1.998e+08   9.26e+08      0.216      0.829   -1.62e+09    2.02e+09\n",
      "x43         1.998e+08   9.26e+08      0.216      0.829   -1.62e+09    2.02e+09\n",
      "x44         1.998e+08   9.26e+08      0.216      0.829   -1.62e+09    2.02e+09\n",
      "x45         7.787e+07   3.61e+08      0.216      0.829    -6.3e+08    7.85e+08\n",
      "x46         8.168e+07   3.79e+08      0.216      0.829    -6.6e+08    8.24e+08\n",
      "x47         1.998e+08   9.26e+08      0.216      0.829   -1.62e+09    2.02e+09\n",
      "x48         1.998e+08   9.26e+08      0.216      0.829   -1.62e+09    2.02e+09\n",
      "x49         1.998e+08   9.26e+08      0.216      0.829   -1.62e+09    2.02e+09\n",
      "x50         7.618e+07   3.53e+08      0.216      0.829   -6.16e+08    7.68e+08\n",
      "x51         1.998e+08   9.26e+08      0.216      0.829   -1.62e+09    2.02e+09\n",
      "x52         1.998e+08   9.26e+08      0.216      0.829   -1.62e+09    2.02e+09\n",
      "x53         1.998e+08   9.26e+08      0.216      0.829   -1.62e+09    2.02e+09\n",
      "x54         1.998e+08   9.26e+08      0.216      0.829   -1.62e+09    2.02e+09\n",
      "x55         1.998e+08   9.26e+08      0.216      0.829   -1.62e+09    2.02e+09\n",
      "x56         1.998e+08   9.26e+08      0.216      0.829   -1.62e+09    2.02e+09\n",
      "x57         1.998e+08   9.26e+08      0.216      0.829   -1.62e+09    2.02e+09\n",
      "x58         1.998e+08   9.26e+08      0.216      0.829   -1.62e+09    2.02e+09\n",
      "x59         1.998e+08   9.26e+08      0.216      0.829   -1.62e+09    2.02e+09\n",
      "x60         1.998e+08   9.26e+08      0.216      0.829   -1.62e+09    2.02e+09\n",
      "x61         1.998e+08   9.26e+08      0.216      0.829   -1.62e+09    2.02e+09\n",
      "x62         1.998e+08   9.26e+08      0.216      0.829   -1.62e+09    2.02e+09\n",
      "x63         1.998e+08   9.26e+08      0.216      0.829   -1.62e+09    2.02e+09\n",
      "x64         1.259e+08   5.83e+08      0.216      0.829   -1.02e+09    1.27e+09\n",
      "x65         8.816e+07   4.09e+08      0.216      0.829   -7.13e+08    8.89e+08\n",
      "x66         1.998e+08   9.26e+08      0.216      0.829   -1.62e+09    2.02e+09\n",
      "x67         3.283e+08   1.52e+09      0.216      0.829   -2.65e+09    3.31e+09\n",
      "x68         3.283e+08   1.52e+09      0.216      0.829   -2.65e+09    3.31e+09\n",
      "x69         3.283e+08   1.52e+09      0.216      0.829   -2.65e+09    3.31e+09\n",
      "x70         1.188e+07   5.51e+07      0.216      0.829   -9.61e+07     1.2e+08\n",
      "x71         3.283e+08   1.52e+09      0.216      0.829   -2.65e+09    3.31e+09\n",
      "x72         3.283e+08   1.52e+09      0.216      0.829   -2.65e+09    3.31e+09\n",
      "x73         3.283e+08   1.52e+09      0.216      0.829   -2.65e+09    3.31e+09\n",
      "x74         3.283e+08   1.52e+09      0.216      0.829   -2.65e+09    3.31e+09\n",
      "x75         3.283e+08   1.52e+09      0.216      0.829   -2.65e+09    3.31e+09\n",
      "x76         3.283e+08   1.52e+09      0.216      0.829   -2.65e+09    3.31e+09\n",
      "x77         3.283e+08   1.52e+09      0.216      0.829   -2.65e+09    3.31e+09\n",
      "x78         3.283e+08   1.52e+09      0.216      0.829   -2.65e+09    3.31e+09\n",
      "x79         1.611e+08   7.46e+08      0.216      0.829    -1.3e+09    1.62e+09\n",
      "x80         3.283e+08   1.52e+09      0.216      0.829   -2.65e+09    3.31e+09\n",
      "x81         3.283e+08   1.52e+09      0.216      0.829   -2.65e+09    3.31e+09\n",
      "x82         3.283e+08   1.52e+09      0.216      0.829   -2.65e+09    3.31e+09\n",
      "x83         3.375e+09   1.56e+10      0.216      0.829   -2.73e+10     3.4e+10\n",
      "x84         3.375e+09   1.56e+10      0.216      0.829   -2.73e+10     3.4e+10\n",
      "x85         2.879e+09   1.33e+10      0.216      0.829   -2.33e+10     2.9e+10\n",
      "x86         2.879e+09   1.33e+10      0.216      0.829   -2.33e+10     2.9e+10\n",
      "x87        -3.684e+07   1.71e+08     -0.216      0.829   -3.72e+08    2.98e+08\n",
      "x88          1.59e+07   7.37e+07      0.216      0.829   -1.29e+08     1.6e+08\n",
      "x89        -3.684e+07   1.71e+08     -0.216      0.829   -3.72e+08    2.98e+08\n",
      "x90         1.823e+07   8.45e+07      0.216      0.829   -1.47e+08    1.84e+08\n",
      "x91         8.131e+07   3.77e+08      0.216      0.829   -6.57e+08     8.2e+08\n",
      "x92        -3.684e+07   1.71e+08     -0.216      0.829   -3.72e+08    2.98e+08\n",
      "x93         1.823e+07   8.45e+07      0.216      0.829   -1.47e+08    1.84e+08\n",
      "x94        -3.684e+07   1.71e+08     -0.216      0.829   -3.72e+08    2.98e+08\n",
      "x95        -3.684e+07   1.71e+08     -0.216      0.829   -3.72e+08    2.98e+08\n",
      "x96         1.041e+08   4.83e+08      0.216      0.829   -8.42e+08    1.05e+09\n",
      "x97          1.11e+07   5.15e+07      0.216      0.829   -8.98e+07    1.12e+08\n",
      "x98        -3.684e+07   1.71e+08     -0.216      0.829   -3.72e+08    2.98e+08\n",
      "x99        -3.684e+07   1.71e+08     -0.216      0.829   -3.72e+08    2.98e+08\n",
      "x100       -3.684e+07   1.71e+08     -0.216      0.829   -3.72e+08    2.98e+08\n",
      "x101         1.43e+07   6.63e+07      0.216      0.829   -1.16e+08    1.44e+08\n",
      "x102        1.823e+07   8.45e+07      0.216      0.829   -1.47e+08    1.84e+08\n",
      "x103        3.094e+07   1.43e+08      0.216      0.829    -2.5e+08    3.12e+08\n",
      "x104         1.59e+07   7.37e+07      0.216      0.829   -1.29e+08     1.6e+08\n",
      "x105        1.823e+07   8.45e+07      0.216      0.829   -1.47e+08    1.84e+08\n",
      "x106       -3.684e+07   1.71e+08     -0.216      0.829   -3.72e+08    2.98e+08\n",
      "x107       -3.684e+07   1.71e+08     -0.216      0.829   -3.72e+08    2.98e+08\n",
      "x108       -3.684e+07   1.71e+08     -0.216      0.829   -3.72e+08    2.98e+08\n",
      "x109       -3.684e+07   1.71e+08     -0.216      0.829   -3.72e+08    2.98e+08\n",
      "x110        5.409e+06   2.51e+07      0.216      0.829   -4.37e+07    5.45e+07\n",
      "x111        1.535e+08   7.11e+08      0.216      0.829   -1.24e+09    1.55e+09\n",
      "x112         1.59e+07   7.37e+07      0.216      0.829   -1.29e+08     1.6e+08\n",
      "x113         2.27e+06   1.05e+07      0.216      0.829   -1.84e+07    2.29e+07\n",
      "x114        8.754e+06   4.06e+07      0.216      0.829   -7.08e+07    8.83e+07\n",
      "x115       -3.684e+07   1.71e+08     -0.216      0.829   -3.72e+08    2.98e+08\n",
      "x116       -3.684e+07   1.71e+08     -0.216      0.829   -3.72e+08    2.98e+08\n",
      "x117       -3.684e+07   1.71e+08     -0.216      0.829   -3.72e+08    2.98e+08\n",
      "x118       -3.684e+07   1.71e+08     -0.216      0.829   -3.72e+08    2.98e+08\n",
      "x119        3.094e+07   1.43e+08      0.216      0.829    -2.5e+08    3.12e+08\n",
      "x120         1.59e+07   7.37e+07      0.216      0.829   -1.29e+08     1.6e+08\n",
      "x121         5.68e+07   2.63e+08      0.216      0.829   -4.59e+08    5.73e+08\n",
      "x122       -3.684e+07   1.71e+08     -0.216      0.829   -3.72e+08    2.98e+08\n",
      "x123        1.886e+07   8.74e+07      0.216      0.829   -1.53e+08     1.9e+08\n",
      "x124        2.711e+07   1.26e+08      0.216      0.829   -2.19e+08    2.73e+08\n",
      "x125         1.59e+07   7.37e+07      0.216      0.829   -1.29e+08     1.6e+08\n",
      "x126       -3.684e+07   1.71e+08     -0.216      0.829   -3.72e+08    2.98e+08\n",
      "x127         1.11e+07   5.15e+07      0.216      0.829   -8.98e+07    1.12e+08\n",
      "x128        5.986e+06   2.77e+07      0.216      0.829   -4.84e+07    6.04e+07\n",
      "x129        3.094e+07   1.43e+08      0.216      0.829    -2.5e+08    3.12e+08\n",
      "x130        1.008e+08   4.67e+08      0.216      0.829   -8.15e+08    1.02e+09\n",
      "x131         5.68e+07   2.63e+08      0.216      0.829   -4.59e+08    5.73e+08\n",
      "x132        -1.27e+07   5.89e+07     -0.216      0.829   -1.28e+08    1.03e+08\n",
      "x133       -3.684e+07   1.71e+08     -0.216      0.829   -3.72e+08    2.98e+08\n",
      "x134        2.711e+07   1.26e+08      0.216      0.829   -2.19e+08    2.73e+08\n",
      "x135       -1.412e+07   6.55e+07     -0.216      0.829   -1.42e+08    1.14e+08\n",
      "x136       -1.112e+07   5.15e+07     -0.216      0.829   -1.12e+08    8.99e+07\n",
      "x137        1.542e+07   7.15e+07      0.216      0.829   -1.25e+08    1.56e+08\n",
      "x138         1.43e+07   6.63e+07      0.216      0.829   -1.16e+08    1.44e+08\n",
      "x139       -3.684e+07   1.71e+08     -0.216      0.829   -3.72e+08    2.98e+08\n",
      "x140       -3.684e+07   1.71e+08     -0.216      0.829   -3.72e+08    2.98e+08\n",
      "x141         -1.1e+07    5.1e+07     -0.216      0.829   -1.11e+08     8.9e+07\n",
      "x142        7.708e+07   3.57e+08      0.216      0.829   -6.23e+08    7.77e+08\n",
      "x143       -3.684e+07   1.71e+08     -0.216      0.829   -3.72e+08    2.98e+08\n",
      "x144       -3.684e+07   1.71e+08     -0.216      0.829   -3.72e+08    2.98e+08\n",
      "x145       -3.684e+07   1.71e+08     -0.216      0.829   -3.72e+08    2.98e+08\n",
      "x146       -3.684e+07   1.71e+08     -0.216      0.829   -3.72e+08    2.98e+08\n",
      "x147         1.59e+07   7.37e+07      0.216      0.829   -1.29e+08     1.6e+08\n",
      "x148         1.59e+07   7.37e+07      0.216      0.829   -1.29e+08     1.6e+08\n",
      "x149       -3.684e+07   1.71e+08     -0.216      0.829   -3.72e+08    2.98e+08\n",
      "x150       -3.684e+07   1.71e+08     -0.216      0.829   -3.72e+08    2.98e+08\n",
      "x151       -3.684e+07   1.71e+08     -0.216      0.829   -3.72e+08    2.98e+08\n",
      "x152        3.397e+07   1.57e+08      0.216      0.829   -2.75e+08    3.43e+08\n",
      "x153       -3.684e+07   1.71e+08     -0.216      0.829   -3.72e+08    2.98e+08\n",
      "x154        7.708e+07   3.57e+08      0.216      0.829   -6.23e+08    7.77e+08\n",
      "x155         5.24e+07   2.43e+08      0.216      0.829   -4.24e+08    5.28e+08\n",
      "x156       -3.684e+07   1.71e+08     -0.216      0.829   -3.72e+08    2.98e+08\n",
      "x157         1.59e+07   7.37e+07      0.216      0.829   -1.29e+08     1.6e+08\n",
      "x158        -1.63e+07   7.56e+07     -0.216      0.829   -1.64e+08    1.32e+08\n",
      "x159       -3.684e+07   1.71e+08     -0.216      0.829   -3.72e+08    2.98e+08\n",
      "x160       -3.684e+07   1.71e+08     -0.216      0.829   -3.72e+08    2.98e+08\n",
      "x161       -3.684e+07   1.71e+08     -0.216      0.829   -3.72e+08    2.98e+08\n",
      "x162        2.711e+07   1.26e+08      0.216      0.829   -2.19e+08    2.73e+08\n",
      "x163       -3.684e+07   1.71e+08     -0.216      0.829   -3.72e+08    2.98e+08\n",
      "x164        3.133e+07   1.45e+08      0.216      0.829   -2.53e+08    3.16e+08\n",
      "x165       -3.684e+07   1.71e+08     -0.216      0.829   -3.72e+08    2.98e+08\n",
      "x166       -3.684e+07   1.71e+08     -0.216      0.829   -3.72e+08    2.98e+08\n",
      "x167        6.913e+07    3.2e+08      0.216      0.829   -5.59e+08    6.97e+08\n",
      "x168        4.466e+07   2.07e+08      0.216      0.829   -3.61e+08     4.5e+08\n",
      "x169         1.11e+07   5.15e+07      0.216      0.829   -8.98e+07    1.12e+08\n",
      "x170        3.133e+07   1.45e+08      0.216      0.829   -2.53e+08    3.16e+08\n",
      "x171        2.711e+07   1.26e+08      0.216      0.829   -2.19e+08    2.73e+08\n",
      "x172       -3.684e+07   1.71e+08     -0.216      0.829   -3.72e+08    2.98e+08\n",
      "x173        2.497e+06   1.16e+07      0.216      0.829   -2.02e+07    2.52e+07\n",
      "x174         5.68e+07   2.63e+08      0.216      0.829   -4.59e+08    5.73e+08\n",
      "x175       -3.684e+07   1.71e+08     -0.216      0.829   -3.72e+08    2.98e+08\n",
      "x176        3.133e+07   1.45e+08      0.216      0.829   -2.53e+08    3.16e+08\n",
      "x177       -3.684e+07   1.71e+08     -0.216      0.829   -3.72e+08    2.98e+08\n",
      "x178         1.59e+07   7.37e+07      0.216      0.829   -1.29e+08     1.6e+08\n",
      "x179       -3.684e+07   1.71e+08     -0.216      0.829   -3.72e+08    2.98e+08\n",
      "x180       -3.684e+07   1.71e+08     -0.216      0.829   -3.72e+08    2.98e+08\n",
      "x181         1.43e+07   6.63e+07      0.216      0.829   -1.16e+08    1.44e+08\n",
      "x182        4.466e+07   2.07e+08      0.216      0.829   -3.61e+08     4.5e+08\n",
      "x183       -3.684e+07   1.71e+08     -0.216      0.829   -3.72e+08    2.98e+08\n",
      "x184       -3.684e+07   1.71e+08     -0.216      0.829   -3.72e+08    2.98e+08\n",
      "x185       -3.684e+07   1.71e+08     -0.216      0.829   -3.72e+08    2.98e+08\n",
      "x186       -3.684e+07   1.71e+08     -0.216      0.829   -3.72e+08    2.98e+08\n",
      "x187       -3.684e+07   1.71e+08     -0.216      0.829   -3.72e+08    2.98e+08\n",
      "x188       -3.684e+07   1.71e+08     -0.216      0.829   -3.72e+08    2.98e+08\n",
      "x189       -3.684e+07   1.71e+08     -0.216      0.829   -3.72e+08    2.98e+08\n",
      "x190         1.43e+07   6.63e+07      0.216      0.829   -1.16e+08    1.44e+08\n",
      "x191         1.59e+07   7.37e+07      0.216      0.829   -1.29e+08     1.6e+08\n",
      "x192        3.133e+07   1.45e+08      0.216      0.829   -2.53e+08    3.16e+08\n",
      "x193         1.43e+07   6.63e+07      0.216      0.829   -1.16e+08    1.44e+08\n",
      "x194        1.823e+07   8.45e+07      0.216      0.829   -1.47e+08    1.84e+08\n",
      "x195         1.43e+07   6.63e+07      0.216      0.829   -1.16e+08    1.44e+08\n",
      "x196       -3.684e+07   1.71e+08     -0.216      0.829   -3.72e+08    2.98e+08\n",
      "x197        1.542e+07   7.15e+07      0.216      0.829   -1.25e+08    1.56e+08\n",
      "x198         1.59e+07   7.37e+07      0.216      0.829   -1.29e+08     1.6e+08\n",
      "x199       -3.684e+07   1.71e+08     -0.216      0.829   -3.72e+08    2.98e+08\n",
      "x200       -3.684e+07   1.71e+08     -0.216      0.829   -3.72e+08    2.98e+08\n",
      "x201       -3.684e+07   1.71e+08     -0.216      0.829   -3.72e+08    2.98e+08\n",
      "x202         1.11e+07   5.15e+07      0.216      0.829   -8.98e+07    1.12e+08\n",
      "x203        1.823e+07   8.45e+07      0.216      0.829   -1.47e+08    1.84e+08\n",
      "x204       -3.684e+07   1.71e+08     -0.216      0.829   -3.72e+08    2.98e+08\n",
      "x205        8.128e+07   3.77e+08      0.216      0.829   -6.57e+08     8.2e+08\n",
      "x206         1.59e+07   7.37e+07      0.216      0.829   -1.29e+08     1.6e+08\n",
      "x207       -3.684e+07   1.71e+08     -0.216      0.829   -3.72e+08    2.98e+08\n",
      "x208        2.711e+07   1.26e+08      0.216      0.829   -2.19e+08    2.73e+08\n",
      "x209         5.68e+07   2.63e+08      0.216      0.829   -4.59e+08    5.73e+08\n",
      "x210       -3.684e+07   1.71e+08     -0.216      0.829   -3.72e+08    2.98e+08\n",
      "x211        1.542e+07   7.15e+07      0.216      0.829   -1.25e+08    1.56e+08\n",
      "x212         1.08e+08   5.01e+08      0.216      0.829   -8.73e+08    1.09e+09\n",
      "x213       -3.684e+07   1.71e+08     -0.216      0.829   -3.72e+08    2.98e+08\n",
      "x214       -3.684e+07   1.71e+08     -0.216      0.829   -3.72e+08    2.98e+08\n",
      "x215         1.43e+07   6.63e+07      0.216      0.829   -1.16e+08    1.44e+08\n",
      "x216       -3.684e+07   1.71e+08     -0.216      0.829   -3.72e+08    2.98e+08\n",
      "x217       -3.684e+07   1.71e+08     -0.216      0.829   -3.72e+08    2.98e+08\n",
      "x218        4.193e+07   1.94e+08      0.216      0.829   -3.39e+08    4.23e+08\n",
      "x219        2.711e+07   1.26e+08      0.216      0.829   -2.19e+08    2.73e+08\n",
      "x220       -3.684e+07   1.71e+08     -0.216      0.829   -3.72e+08    2.98e+08\n",
      "x221         1.59e+07   7.37e+07      0.216      0.829   -1.29e+08     1.6e+08\n",
      "x222         1.59e+07   7.37e+07      0.216      0.829   -1.29e+08     1.6e+08\n",
      "x223         1.59e+07   7.37e+07      0.216      0.829   -1.29e+08     1.6e+08\n",
      "x224       -3.684e+07   1.71e+08     -0.216      0.829   -3.72e+08    2.98e+08\n",
      "x225       -3.548e+05   1.64e+06     -0.216      0.829   -3.58e+06    2.87e+06\n",
      "x226        3.094e+07   1.43e+08      0.216      0.829    -2.5e+08    3.12e+08\n",
      "x227       -3.684e+07   1.71e+08     -0.216      0.829   -3.72e+08    2.98e+08\n",
      "x228        8.131e+07   3.77e+08      0.216      0.829   -6.57e+08     8.2e+08\n",
      "x229        2.723e+05   1.26e+06      0.216      0.829    -2.2e+06    2.75e+06\n",
      "x230        5.279e+07   2.45e+08      0.216      0.829   -4.27e+08    5.32e+08\n",
      "x231       -3.684e+07   1.71e+08     -0.216      0.829   -3.72e+08    2.98e+08\n",
      "x232        5.513e+07   2.56e+08      0.216      0.829   -4.46e+08    5.56e+08\n",
      "x233        5.279e+07   2.45e+08      0.216      0.829   -4.27e+08    5.32e+08\n",
      "x234         1.43e+07   6.63e+07      0.216      0.829   -1.16e+08    1.44e+08\n",
      "x235       -3.684e+07   1.71e+08     -0.216      0.829   -3.72e+08    2.98e+08\n",
      "x236       -3.684e+07   1.71e+08     -0.216      0.829   -3.72e+08    2.98e+08\n",
      "x237       -3.684e+07   1.71e+08     -0.216      0.829   -3.72e+08    2.98e+08\n",
      "x238       -3.684e+07   1.71e+08     -0.216      0.829   -3.72e+08    2.98e+08\n",
      "x239       -3.684e+07   1.71e+08     -0.216      0.829   -3.72e+08    2.98e+08\n",
      "x240       -3.684e+07   1.71e+08     -0.216      0.829   -3.72e+08    2.98e+08\n",
      "x241       -3.684e+07   1.71e+08     -0.216      0.829   -3.72e+08    2.98e+08\n",
      "x242        5.279e+07   2.45e+08      0.216      0.829   -4.27e+08    5.32e+08\n",
      "x243       -5.116e+05   2.37e+06     -0.216      0.829   -5.16e+06    4.14e+06\n",
      "x244       -3.684e+07   1.71e+08     -0.216      0.829   -3.72e+08    2.98e+08\n",
      "x245       -3.684e+07   1.71e+08     -0.216      0.829   -3.72e+08    2.98e+08\n",
      "x246       -6.692e+04    3.1e+05     -0.216      0.829   -6.75e+05    5.41e+05\n",
      "x247       -3.684e+07   1.71e+08     -0.216      0.829   -3.72e+08    2.98e+08\n",
      "x248         1.43e+07   6.63e+07      0.216      0.829   -1.16e+08    1.44e+08\n",
      "x249       -1.694e+06   7.85e+06     -0.216      0.829   -1.71e+07    1.37e+07\n",
      "x250        1.542e+07   7.15e+07      0.216      0.829   -1.25e+08    1.56e+08\n",
      "x251        1.593e+08   7.38e+08      0.216      0.829   -1.29e+09    1.61e+09\n",
      "x252       -3.684e+07   1.71e+08     -0.216      0.829   -3.72e+08    2.98e+08\n",
      "x253       -6.287e+04   2.91e+05     -0.216      0.829   -6.34e+05    5.08e+05\n",
      "x254        1.047e+08   4.85e+08      0.216      0.829   -8.46e+08    1.06e+09\n",
      "x255        5.513e+07   2.56e+08      0.216      0.829   -4.46e+08    5.56e+08\n",
      "x256        1.612e+08   7.47e+08      0.216      0.829    -1.3e+09    1.63e+09\n",
      "x257       -3.684e+07   1.71e+08     -0.216      0.829   -3.72e+08    2.98e+08\n",
      "x258       -3.684e+07   1.71e+08     -0.216      0.829   -3.72e+08    2.98e+08\n",
      "x259       -3.684e+07   1.71e+08     -0.216      0.829   -3.72e+08    2.98e+08\n",
      "x260        1.047e+08   4.85e+08      0.216      0.829   -8.46e+08    1.06e+09\n",
      "x261       -3.684e+07   1.71e+08     -0.216      0.829   -3.72e+08    2.98e+08\n",
      "x262        4.244e+07   1.97e+08      0.216      0.829   -3.43e+08    4.28e+08\n",
      "x263       -1.085e+05   5.03e+05     -0.216      0.829   -1.09e+06    8.77e+05\n",
      "x264        1.823e+07   8.45e+07      0.216      0.829   -1.47e+08    1.84e+08\n",
      "x265       -3.684e+07   1.71e+08     -0.216      0.829   -3.72e+08    2.98e+08\n",
      "x266         1.11e+07   5.15e+07      0.216      0.829   -8.98e+07    1.12e+08\n",
      "x267       -3.684e+07   1.71e+08     -0.216      0.829   -3.72e+08    2.98e+08\n",
      "x268         1.59e+07   7.37e+07      0.216      0.829   -1.29e+08     1.6e+08\n",
      "x269         1.11e+07   5.15e+07      0.216      0.829   -8.98e+07    1.12e+08\n",
      "x270        4611.7234   2.14e+04      0.216      0.829   -3.73e+04    4.65e+04\n",
      "x271         1.59e+07   7.37e+07      0.216      0.829   -1.29e+08     1.6e+08\n",
      "x272        1009.9526   4681.070      0.216      0.829   -8166.193    1.02e+04\n",
      "x273         1.43e+07   6.63e+07      0.216      0.829   -1.16e+08    1.44e+08\n",
      "x274         358.1666   1660.081      0.216      0.829   -2896.034    3612.368\n",
      "x275       -3.684e+07   1.71e+08     -0.216      0.829   -3.72e+08    2.98e+08\n",
      "x276         1.59e+07   7.37e+07      0.216      0.829   -1.29e+08     1.6e+08\n",
      "x277       -3.684e+07   1.71e+08     -0.216      0.829   -3.72e+08    2.98e+08\n",
      "x278         303.3515   1406.016      0.216      0.829   -2452.815    3059.518\n",
      "x279        5.279e+07   2.45e+08      0.216      0.829   -4.27e+08    5.32e+08\n",
      "x280       -3.684e+07   1.71e+08     -0.216      0.829   -3.72e+08    2.98e+08\n",
      "x281       -3.684e+07   1.71e+08     -0.216      0.829   -3.72e+08    2.98e+08\n",
      "x282         1.59e+08   7.37e+08      0.216      0.829   -1.29e+09     1.6e+09\n",
      "x283          65.0571    301.536      0.216      0.829    -526.033     656.147\n",
      "x284       -3.684e+07   1.71e+08     -0.216      0.829   -3.72e+08    2.98e+08\n",
      "x285       -3.684e+07   1.71e+08     -0.216      0.829   -3.72e+08    2.98e+08\n",
      "x286         -71.0134    329.143     -0.216      0.829    -716.221     574.194\n",
      "x287         1.11e+07   5.15e+07      0.216      0.829   -8.98e+07    1.12e+08\n",
      "x288        2.711e+07   1.26e+08      0.216      0.829   -2.19e+08    2.73e+08\n",
      "x289         1.59e+07   7.37e+07      0.216      0.829   -1.29e+08     1.6e+08\n",
      "x290        4.193e+07   1.94e+08      0.216      0.829   -3.39e+08    4.23e+08\n",
      "x291       -3.684e+07   1.71e+08     -0.216      0.829   -3.72e+08    2.98e+08\n",
      "x292         1.59e+07   7.37e+07      0.216      0.829   -1.29e+08     1.6e+08\n",
      "x293         1.43e+07   6.63e+07      0.216      0.829   -1.16e+08    1.44e+08\n",
      "x294        2.711e+07   1.26e+08      0.216      0.829   -2.19e+08    2.73e+08\n",
      "x295         142.2736    659.430      0.216      0.829   -1150.384    1434.931\n",
      "x296        1.542e+07   7.15e+07      0.216      0.829   -1.25e+08    1.56e+08\n",
      "x297         -47.2005    218.772     -0.216      0.829    -476.051     381.650\n",
      "x298       -3.684e+07   1.71e+08     -0.216      0.829   -3.72e+08    2.98e+08\n",
      "x299       -3.684e+07   1.71e+08     -0.216      0.829   -3.72e+08    2.98e+08\n",
      "x300        1.827e+08   8.47e+08      0.216      0.829   -1.48e+09    1.84e+09\n",
      "x301       -3.684e+07   1.71e+08     -0.216      0.829   -3.72e+08    2.98e+08\n",
      "x302       -3.684e+07   1.71e+08     -0.216      0.829   -3.72e+08    2.98e+08\n",
      "x303       -3.684e+07   1.71e+08     -0.216      0.829   -3.72e+08    2.98e+08\n",
      "x304       -3.684e+07   1.71e+08     -0.216      0.829   -3.72e+08    2.98e+08\n",
      "x305       -3.684e+07   1.71e+08     -0.216      0.829   -3.72e+08    2.98e+08\n",
      "x306         1.11e+07   5.15e+07      0.216      0.829   -8.98e+07    1.12e+08\n",
      "x307       -3.684e+07   1.71e+08     -0.216      0.829   -3.72e+08    2.98e+08\n",
      "x308       -3.684e+07   1.71e+08     -0.216      0.829   -3.72e+08    2.98e+08\n",
      "x309       -3.684e+07   1.71e+08     -0.216      0.829   -3.72e+08    2.98e+08\n",
      "x310       -3.684e+07   1.71e+08     -0.216      0.829   -3.72e+08    2.98e+08\n",
      "x311       -3.684e+07   1.71e+08     -0.216      0.829   -3.72e+08    2.98e+08\n",
      "x312         1.43e+07   6.63e+07      0.216      0.829   -1.16e+08    1.44e+08\n",
      "x313        4.244e+07   1.97e+08      0.216      0.829   -3.43e+08    4.28e+08\n",
      "x314           4.2736     19.808      0.216      0.829     -34.555      43.102\n",
      "x315       -3.684e+07   1.71e+08     -0.216      0.829   -3.72e+08    2.98e+08\n",
      "x316         1.59e+08   7.37e+08      0.216      0.829   -1.29e+09     1.6e+09\n",
      "x317       -3.684e+07   1.71e+08     -0.216      0.829   -3.72e+08    2.98e+08\n",
      "x318         1.11e+07   5.15e+07      0.216      0.829   -8.98e+07    1.12e+08\n",
      "x319          -0.0209      0.097     -0.216      0.829      -0.211       0.169\n",
      "x320        1.823e+07   8.45e+07      0.216      0.829   -1.47e+08    1.84e+08\n",
      "x321       -3.684e+07   1.71e+08     -0.216      0.829   -3.72e+08    2.98e+08\n",
      "x322        2.711e+07   1.26e+08      0.216      0.829   -2.19e+08    2.73e+08\n",
      "x323       -3.684e+07   1.71e+08     -0.216      0.829   -3.72e+08    2.98e+08\n",
      "x324        5.513e+07   2.56e+08      0.216      0.829   -4.46e+08    5.56e+08\n",
      "x325         1.11e+07   5.15e+07      0.216      0.829   -8.98e+07    1.12e+08\n",
      "x326        8.678e+07   4.02e+08      0.216      0.829   -7.02e+08    8.75e+08\n",
      "x327       -3.684e+07   1.71e+08     -0.216      0.829   -3.72e+08    2.98e+08\n",
      "x328       -3.684e+07   1.71e+08     -0.216      0.829   -3.72e+08    2.98e+08\n",
      "x329         1.59e+07   7.37e+07      0.216      0.829   -1.29e+08     1.6e+08\n",
      "x330       -3.684e+07   1.71e+08     -0.216      0.829   -3.72e+08    2.98e+08\n",
      "x331       -3.684e+07   1.71e+08     -0.216      0.829   -3.72e+08    2.98e+08\n",
      "x332       -3.684e+07   1.71e+08     -0.216      0.829   -3.72e+08    2.98e+08\n",
      "x333       -3.684e+07   1.71e+08     -0.216      0.829   -3.72e+08    2.98e+08\n",
      "x334       -3.684e+07   1.71e+08     -0.216      0.829   -3.72e+08    2.98e+08\n",
      "x335        8.131e+07   3.77e+08      0.216      0.829   -6.57e+08     8.2e+08\n",
      "x336        4.193e+07   1.94e+08      0.216      0.829   -3.39e+08    4.23e+08\n",
      "x337        1.008e+08   4.67e+08      0.216      0.829   -8.15e+08    1.02e+09\n",
      "x338        5.513e+07   2.56e+08      0.216      0.829   -4.46e+08    5.56e+08\n",
      "x339        3.094e+07   1.43e+08      0.216      0.829    -2.5e+08    3.12e+08\n",
      "x340       -3.684e+07   1.71e+08     -0.216      0.829   -3.72e+08    2.98e+08\n",
      "x341       -1.189e-10   5.51e-10     -0.216      0.829    -1.2e-09    9.61e-10\n",
      "x342         8.51e+07   3.94e+08      0.216      0.829   -6.88e+08    8.58e+08\n",
      "x343         5.24e+07   2.43e+08      0.216      0.829   -4.24e+08    5.28e+08\n",
      "x344       -3.684e+07   1.71e+08     -0.216      0.829   -3.72e+08    2.98e+08\n",
      "x345        4.466e+07   2.07e+08      0.216      0.829   -3.61e+08     4.5e+08\n",
      "x346       -3.684e+07   1.71e+08     -0.216      0.829   -3.72e+08    2.98e+08\n",
      "x347       -3.684e+07   1.71e+08     -0.216      0.829   -3.72e+08    2.98e+08\n",
      "x348        9.218e+07   4.27e+08      0.216      0.829   -7.45e+08     9.3e+08\n",
      "x349        4.193e+07   1.94e+08      0.216      0.829   -3.39e+08    4.23e+08\n",
      "x350        8.104e+07   3.76e+08      0.216      0.829   -6.55e+08    8.17e+08\n",
      "x351       -3.684e+07   1.71e+08     -0.216      0.829   -3.72e+08    2.98e+08\n",
      "x352         1.43e+07   6.63e+07      0.216      0.829   -1.16e+08    1.44e+08\n",
      "x353       -5.061e-20    1.5e-15  -3.37e-05      1.000   -2.95e-15    2.95e-15\n",
      "x354       -2.198e-27   2.22e-15   -9.9e-13      1.000   -4.35e-15    4.35e-15\n",
      "x355        4.466e+07   2.07e+08      0.216      0.829   -3.61e+08     4.5e+08\n",
      "x356         1.11e+07   5.15e+07      0.216      0.829   -8.98e+07    1.12e+08\n",
      "x357         1.43e+07   6.63e+07      0.216      0.829   -1.16e+08    1.44e+08\n",
      "x358        1.041e+08   4.83e+08      0.216      0.829   -8.42e+08    1.05e+09\n",
      "x359       -3.684e+07   1.71e+08     -0.216      0.829   -3.72e+08    2.98e+08\n",
      "x360       -3.684e+07   1.71e+08     -0.216      0.829   -3.72e+08    2.98e+08\n",
      "x361       -3.684e+07   1.71e+08     -0.216      0.829   -3.72e+08    2.98e+08\n",
      "x362       -7.744e-25   1.91e-15  -4.06e-10      1.000   -3.73e-15    3.73e-15\n",
      "x363         1.11e+07   5.15e+07      0.216      0.829   -8.98e+07    1.12e+08\n",
      "x364       -5.124e-26   2.46e-15  -2.08e-11      1.000   -4.83e-15    4.83e-15\n",
      "x365       -3.684e+07   1.71e+08     -0.216      0.829   -3.72e+08    2.98e+08\n",
      "x366        2.711e+07   1.26e+08      0.216      0.829   -2.19e+08    2.73e+08\n",
      "x367        1.039e+08   4.82e+08      0.216      0.829    -8.4e+08    1.05e+09\n",
      "x368       -3.684e+07   1.71e+08     -0.216      0.829   -3.72e+08    2.98e+08\n",
      "x369       -3.684e+07   1.71e+08     -0.216      0.829   -3.72e+08    2.98e+08\n",
      "x370        6.404e+07   2.97e+08      0.216      0.829   -5.18e+08    6.46e+08\n",
      "x371       -3.684e+07   1.71e+08     -0.216      0.829   -3.72e+08    2.98e+08\n",
      "x372        2.711e+07   1.26e+08      0.216      0.829   -2.19e+08    2.73e+08\n",
      "x373       -3.684e+07   1.71e+08     -0.216      0.829   -3.72e+08    2.98e+08\n",
      "x374       -3.684e+07   1.71e+08     -0.216      0.829   -3.72e+08    2.98e+08\n",
      "x375       -3.684e+07   1.71e+08     -0.216      0.829   -3.72e+08    2.98e+08\n",
      "x376         1.59e+07   7.37e+07      0.216      0.829   -1.29e+08     1.6e+08\n",
      "x377        2.711e+07   1.26e+08      0.216      0.829   -2.19e+08    2.73e+08\n",
      "x378       -3.684e+07   1.71e+08     -0.216      0.829   -3.72e+08    2.98e+08\n",
      "x379       -3.684e+07   1.71e+08     -0.216      0.829   -3.72e+08    2.98e+08\n",
      "x380       -3.684e+07   1.71e+08     -0.216      0.829   -3.72e+08    2.98e+08\n",
      "x381        2.711e+07   1.26e+08      0.216      0.829   -2.19e+08    2.73e+08\n",
      "x382        3.297e-25    2.5e-15   1.32e-10      1.000    -4.9e-15     4.9e-15\n",
      "x383         1.59e+07   7.37e+07      0.216      0.829   -1.29e+08     1.6e+08\n",
      "x384       -3.684e+07   1.71e+08     -0.216      0.829   -3.72e+08    2.98e+08\n",
      "x385       -3.684e+07   1.71e+08     -0.216      0.829   -3.72e+08    2.98e+08\n",
      "x386       -5.594e-26   1.47e-15   -3.8e-11      1.000   -2.89e-15    2.89e-15\n",
      "x387       -3.684e+07   1.71e+08     -0.216      0.829   -3.72e+08    2.98e+08\n",
      "x388       -3.684e+07   1.71e+08     -0.216      0.829   -3.72e+08    2.98e+08\n",
      "x389        1.587e+08   7.35e+08      0.216      0.829   -1.28e+09     1.6e+09\n",
      "x390         1.59e+07   7.37e+07      0.216      0.829   -1.29e+08     1.6e+08\n",
      "x391        1.039e+08   4.82e+08      0.216      0.829    -8.4e+08    1.05e+09\n",
      "x392        6.404e+07   2.97e+08      0.216      0.829   -5.18e+08    6.46e+08\n",
      "x393        2.711e+07   1.26e+08      0.216      0.829   -2.19e+08    2.73e+08\n",
      "x394       -3.684e+07   1.71e+08     -0.216      0.829   -3.72e+08    2.98e+08\n",
      "x395       -3.684e+07   1.71e+08     -0.216      0.829   -3.72e+08    2.98e+08\n",
      "x396        4.244e+07   1.97e+08      0.216      0.829   -3.43e+08    4.28e+08\n",
      "x397         5.68e+07   2.63e+08      0.216      0.829   -4.59e+08    5.73e+08\n",
      "x398         1.59e+07   7.37e+07      0.216      0.829   -1.29e+08     1.6e+08\n",
      "x399       -3.684e+07   1.71e+08     -0.216      0.829   -3.72e+08    2.98e+08\n",
      "x400       -1.903e-25   1.96e-15  -9.71e-11      1.000   -3.84e-15    3.84e-15\n",
      "x401         1.59e+07   7.37e+07      0.216      0.829   -1.29e+08     1.6e+08\n",
      "x402       -3.684e+07   1.71e+08     -0.216      0.829   -3.72e+08    2.98e+08\n",
      "x403        1.367e-25   2.16e-15   6.32e-11      1.000   -4.24e-15    4.24e-15\n",
      "x404         1.08e+08   5.01e+08      0.216      0.829   -8.73e+08    1.09e+09\n",
      "x405        1.608e+08   7.45e+08      0.216      0.829    -1.3e+09    1.62e+09\n",
      "x406         1.59e+07   7.37e+07      0.216      0.829   -1.29e+08     1.6e+08\n",
      "x407       -3.684e+07   1.71e+08     -0.216      0.829   -3.72e+08    2.98e+08\n",
      "x408       -1.175e-25   2.54e-15  -4.62e-11      1.000   -4.98e-15    4.98e-15\n",
      "x409        1.059e+08   4.91e+08      0.216      0.829   -8.57e+08    1.07e+09\n",
      "x410       -3.684e+07   1.71e+08     -0.216      0.829   -3.72e+08    2.98e+08\n",
      "x411       -1.067e-25   1.83e-15  -5.82e-11      1.000   -3.59e-15    3.59e-15\n",
      "x412         1.11e+07   5.15e+07      0.216      0.829   -8.98e+07    1.12e+08\n",
      "x413       -3.684e+07   1.71e+08     -0.216      0.829   -3.72e+08    2.98e+08\n",
      "x414        4.244e+07   1.97e+08      0.216      0.829   -3.43e+08    4.28e+08\n",
      "x415         1.59e+07   7.37e+07      0.216      0.829   -1.29e+08     1.6e+08\n",
      "x416       -3.684e+07   1.71e+08     -0.216      0.829   -3.72e+08    2.98e+08\n",
      "x417       -3.684e+07   1.71e+08     -0.216      0.829   -3.72e+08    2.98e+08\n",
      "x418       -3.684e+07   1.71e+08     -0.216      0.829   -3.72e+08    2.98e+08\n",
      "x419       -3.684e+07   1.71e+08     -0.216      0.829   -3.72e+08    2.98e+08\n",
      "x420        4.133e-26   2.18e-15   1.89e-11      1.000   -4.28e-15    4.28e-15\n",
      "x421         1.43e+07   6.63e+07      0.216      0.829   -1.16e+08    1.44e+08\n",
      "x422        1.228e+08   5.69e+08      0.216      0.829   -9.93e+08    1.24e+09\n",
      "x423       -3.684e+07   1.71e+08     -0.216      0.829   -3.72e+08    2.98e+08\n",
      "x424       -3.684e+07   1.71e+08     -0.216      0.829   -3.72e+08    2.98e+08\n",
      "x425       -3.684e+07   1.71e+08     -0.216      0.829   -3.72e+08    2.98e+08\n",
      "x426        1.753e-26   1.32e-15   1.33e-11      1.000   -2.58e-15    2.58e-15\n",
      "x427       -3.684e+07   1.71e+08     -0.216      0.829   -3.72e+08    2.98e+08\n",
      "x428       -3.684e+07   1.71e+08     -0.216      0.829   -3.72e+08    2.98e+08\n",
      "x429       -3.684e+07   1.71e+08     -0.216      0.829   -3.72e+08    2.98e+08\n",
      "x430       -3.684e+07   1.71e+08     -0.216      0.829   -3.72e+08    2.98e+08\n",
      "x431       -3.684e+07   1.71e+08     -0.216      0.829   -3.72e+08    2.98e+08\n",
      "x432       -3.684e+07   1.71e+08     -0.216      0.829   -3.72e+08    2.98e+08\n",
      "x433        1.823e+07   8.45e+07      0.216      0.829   -1.47e+08    1.84e+08\n",
      "x434        8.507e-27   2.77e-15   3.07e-12      1.000   -5.43e-15    5.43e-15\n",
      "x435        4.466e+07   2.07e+08      0.216      0.829   -3.61e+08     4.5e+08\n",
      "x436        3.094e+07   1.43e+08      0.216      0.829    -2.5e+08    3.12e+08\n",
      "x437        6.404e+07   2.97e+08      0.216      0.829   -5.18e+08    6.46e+08\n",
      "x438       -3.684e+07   1.71e+08     -0.216      0.829   -3.72e+08    2.98e+08\n",
      "x439       -3.684e+07   1.71e+08     -0.216      0.829   -3.72e+08    2.98e+08\n",
      "x440       -3.684e+07   1.71e+08     -0.216      0.829   -3.72e+08    2.98e+08\n",
      "x441       -3.684e+07   1.71e+08     -0.216      0.829   -3.72e+08    2.98e+08\n",
      "x442       -3.684e+07   1.71e+08     -0.216      0.829   -3.72e+08    2.98e+08\n",
      "x443       -3.969e-27   2.14e-15  -1.86e-12      1.000   -4.19e-15    4.19e-15\n",
      "x444       -3.684e+07   1.71e+08     -0.216      0.829   -3.72e+08    2.98e+08\n",
      "x445       -3.684e+07   1.71e+08     -0.216      0.829   -3.72e+08    2.98e+08\n",
      "x446        4.244e+07   1.97e+08      0.216      0.829   -3.43e+08    4.28e+08\n",
      "x447        3.133e+07   1.45e+08      0.216      0.829   -2.53e+08    3.16e+08\n",
      "x448       -3.684e+07   1.71e+08     -0.216      0.829   -3.72e+08    2.98e+08\n",
      "x449         1.43e+07   6.63e+07      0.216      0.829   -1.16e+08    1.44e+08\n",
      "x450        3.094e+07   1.43e+08      0.216      0.829    -2.5e+08    3.12e+08\n",
      "x451       -3.684e+07   1.71e+08     -0.216      0.829   -3.72e+08    2.98e+08\n",
      "x452       -3.684e+07   1.71e+08     -0.216      0.829   -3.72e+08    2.98e+08\n",
      "x453       -3.684e+07   1.71e+08     -0.216      0.829   -3.72e+08    2.98e+08\n",
      "x454       -3.684e+07   1.71e+08     -0.216      0.829   -3.72e+08    2.98e+08\n",
      "x455         2.47e-27   2.57e-15   9.63e-13      1.000   -5.03e-15    5.03e-15\n",
      "x456       -3.684e+07   1.71e+08     -0.216      0.829   -3.72e+08    2.98e+08\n",
      "x457        6.404e+07   2.97e+08      0.216      0.829   -5.18e+08    6.46e+08\n",
      "x458         5.24e+07   2.43e+08      0.216      0.829   -4.24e+08    5.28e+08\n",
      "x459         1.59e+07   7.37e+07      0.216      0.829   -1.29e+08     1.6e+08\n",
      "x460         7.91e-28   1.48e-15   5.36e-13      1.000   -2.89e-15    2.89e-15\n",
      "x461         1.59e+07   7.37e+07      0.216      0.829   -1.29e+08     1.6e+08\n",
      "x462        3.397e+07   1.57e+08      0.216      0.829   -2.75e+08    3.43e+08\n",
      "x463        1.648e+08   7.64e+08      0.216      0.829   -1.33e+09    1.66e+09\n",
      "x464       -3.684e+07   1.71e+08     -0.216      0.829   -3.72e+08    2.98e+08\n",
      "x465       -3.684e+07   1.71e+08     -0.216      0.829   -3.72e+08    2.98e+08\n",
      "x466       -3.684e+07   1.71e+08     -0.216      0.829   -3.72e+08    2.98e+08\n",
      "x467         1.43e+07   6.63e+07      0.216      0.829   -1.16e+08    1.44e+08\n",
      "x468       -5.402e-28   1.25e-15  -4.32e-13      1.000   -2.45e-15    2.45e-15\n",
      "x469       -3.684e+07   1.71e+08     -0.216      0.829   -3.72e+08    2.98e+08\n",
      "x470         1.11e+07   5.15e+07      0.216      0.829   -8.98e+07    1.12e+08\n",
      "x471        4.193e+07   1.94e+08      0.216      0.829   -3.39e+08    4.23e+08\n",
      "x472        3.397e+07   1.57e+08      0.216      0.829   -2.75e+08    3.43e+08\n",
      "x473       -3.684e+07   1.71e+08     -0.216      0.829   -3.72e+08    2.98e+08\n",
      "x474       -3.684e+07   1.71e+08     -0.216      0.829   -3.72e+08    2.98e+08\n",
      "x475        3.397e+07   1.57e+08      0.216      0.829   -2.75e+08    3.43e+08\n",
      "x476         1.43e+07   6.63e+07      0.216      0.829   -1.16e+08    1.44e+08\n",
      "x477       -3.684e+07   1.71e+08     -0.216      0.829   -3.72e+08    2.98e+08\n",
      "x478       -3.684e+07   1.71e+08     -0.216      0.829   -3.72e+08    2.98e+08\n",
      "x479       -3.684e+07   1.71e+08     -0.216      0.829   -3.72e+08    2.98e+08\n",
      "x480       -3.684e+07   1.71e+08     -0.216      0.829   -3.72e+08    2.98e+08\n",
      "x481       -3.684e+07   1.71e+08     -0.216      0.829   -3.72e+08    2.98e+08\n",
      "x482       -3.684e+07   1.71e+08     -0.216      0.829   -3.72e+08    2.98e+08\n",
      "x483       -3.684e+07   1.71e+08     -0.216      0.829   -3.72e+08    2.98e+08\n",
      "x484       -3.684e+07   1.71e+08     -0.216      0.829   -3.72e+08    2.98e+08\n",
      "x485       -3.684e+07   1.71e+08     -0.216      0.829   -3.72e+08    2.98e+08\n",
      "x486       -3.684e+07   1.71e+08     -0.216      0.829   -3.72e+08    2.98e+08\n",
      "x487       -3.684e+07   1.71e+08     -0.216      0.829   -3.72e+08    2.98e+08\n",
      "x488       -3.684e+07   1.71e+08     -0.216      0.829   -3.72e+08    2.98e+08\n",
      "x489       -3.684e+07   1.71e+08     -0.216      0.829   -3.72e+08    2.98e+08\n",
      "x490       -3.684e+07   1.71e+08     -0.216      0.829   -3.72e+08    2.98e+08\n",
      "x491       -3.684e+07   1.71e+08     -0.216      0.829   -3.72e+08    2.98e+08\n",
      "x492       -3.684e+07   1.71e+08     -0.216      0.829   -3.72e+08    2.98e+08\n",
      "x493       -3.684e+07   1.71e+08     -0.216      0.829   -3.72e+08    2.98e+08\n",
      "x494       -3.684e+07   1.71e+08     -0.216      0.829   -3.72e+08    2.98e+08\n",
      "x495       -3.684e+07   1.71e+08     -0.216      0.829   -3.72e+08    2.98e+08\n",
      "x496        1.542e+07   7.15e+07      0.216      0.829   -1.25e+08    1.56e+08\n",
      "x497         1.59e+07   7.37e+07      0.216      0.829   -1.29e+08     1.6e+08\n",
      "x498        5.513e+07   2.56e+08      0.216      0.829   -4.46e+08    5.56e+08\n",
      "x499        3.094e+07   1.43e+08      0.216      0.829    -2.5e+08    3.12e+08\n",
      "x500       -3.684e+07   1.71e+08     -0.216      0.829   -3.72e+08    2.98e+08\n",
      "x501        1.823e+07   8.45e+07      0.216      0.829   -1.47e+08    1.84e+08\n",
      "x502        3.133e+07   1.45e+08      0.216      0.829   -2.53e+08    3.16e+08\n",
      "x503        2.272e-27   2.15e-15   1.05e-12      1.000   -4.22e-15    4.22e-15\n",
      "x504        1.542e+07   7.15e+07      0.216      0.829   -1.25e+08    1.56e+08\n",
      "x505       -3.684e+07   1.71e+08     -0.216      0.829   -3.72e+08    2.98e+08\n",
      "x506       -3.684e+07   1.71e+08     -0.216      0.829   -3.72e+08    2.98e+08\n",
      "x507       -3.123e-27    2.9e-15  -1.08e-12      1.000   -5.69e-15    5.69e-15\n",
      "x508       -3.684e+07   1.71e+08     -0.216      0.829   -3.72e+08    2.98e+08\n",
      "x509        8.104e+07   3.76e+08      0.216      0.829   -6.55e+08    8.17e+08\n",
      "x510        7.708e+07   3.57e+08      0.216      0.829   -6.23e+08    7.77e+08\n",
      "x511        2.711e+07   1.26e+08      0.216      0.829   -2.19e+08    2.73e+08\n",
      "x512        2.711e+07   1.26e+08      0.216      0.829   -2.19e+08    2.73e+08\n",
      "x513       -3.684e+07   1.71e+08     -0.216      0.829   -3.72e+08    2.98e+08\n",
      "x514       -3.684e+07   1.71e+08     -0.216      0.829   -3.72e+08    2.98e+08\n",
      "x515        3.397e+07   1.57e+08      0.216      0.829   -2.75e+08    3.43e+08\n",
      "x516        7.108e-27   2.47e-15   2.88e-12      1.000   -4.84e-15    4.84e-15\n",
      "x517       -3.684e+07   1.71e+08     -0.216      0.829   -3.72e+08    2.98e+08\n",
      "x518        4.244e+07   1.97e+08      0.216      0.829   -3.43e+08    4.28e+08\n",
      "x519       -2.064e-27   1.57e-15  -1.31e-12      1.000   -3.08e-15    3.08e-15\n",
      "x520       -3.684e+07   1.71e+08     -0.216      0.829   -3.72e+08    2.98e+08\n",
      "x521        3.133e+07   1.45e+08      0.216      0.829   -2.53e+08    3.16e+08\n",
      "x522        4.193e+07   1.94e+08      0.216      0.829   -3.39e+08    4.23e+08\n",
      "x523         5.24e+07   2.43e+08      0.216      0.829   -4.24e+08    5.28e+08\n",
      "x524       -3.684e+07   1.71e+08     -0.216      0.829   -3.72e+08    2.98e+08\n",
      "x525       -3.684e+07   1.71e+08     -0.216      0.829   -3.72e+08    2.98e+08\n",
      "x526       -6.333e-28   2.29e-15  -2.77e-13      1.000   -4.49e-15    4.49e-15\n",
      "x527        3.133e+07   1.45e+08      0.216      0.829   -2.53e+08    3.16e+08\n",
      "x528        4.193e+07   1.94e+08      0.216      0.829   -3.39e+08    4.23e+08\n",
      "x529        3.015e-27   2.73e-15    1.1e-12      1.000   -5.36e-15    5.36e-15\n",
      "x530         1.11e+07   5.15e+07      0.216      0.829   -8.98e+07    1.12e+08\n",
      "x531        1.542e+07   7.15e+07      0.216      0.829   -1.25e+08    1.56e+08\n",
      "x532       -3.684e+07   1.71e+08     -0.216      0.829   -3.72e+08    2.98e+08\n",
      "x533         1.43e+07   6.63e+07      0.216      0.829   -1.16e+08    1.44e+08\n",
      "x534        3.094e+07   1.43e+08      0.216      0.829    -2.5e+08    3.12e+08\n",
      "x535         1.11e+07   5.15e+07      0.216      0.829   -8.98e+07    1.12e+08\n",
      "x536       -3.684e+07   1.71e+08     -0.216      0.829   -3.72e+08    2.98e+08\n",
      "x537       -3.684e+07   1.71e+08     -0.216      0.829   -3.72e+08    2.98e+08\n",
      "x538       -3.684e+07   1.71e+08     -0.216      0.829   -3.72e+08    2.98e+08\n",
      "x539         1.59e+07   7.37e+07      0.216      0.829   -1.29e+08     1.6e+08\n",
      "x540       -3.684e+07   1.71e+08     -0.216      0.829   -3.72e+08    2.98e+08\n",
      "x541       -3.684e+07   1.71e+08     -0.216      0.829   -3.72e+08    2.98e+08\n",
      "x542         1.43e+07   6.63e+07      0.216      0.829   -1.16e+08    1.44e+08\n",
      "x543       -3.684e+07   1.71e+08     -0.216      0.829   -3.72e+08    2.98e+08\n",
      "x544       -3.684e+07   1.71e+08     -0.216      0.829   -3.72e+08    2.98e+08\n",
      "x545        4.466e+07   2.07e+08      0.216      0.829   -3.61e+08     4.5e+08\n",
      "x546       -3.684e+07   1.71e+08     -0.216      0.829   -3.72e+08    2.98e+08\n",
      "x547       -3.684e+07   1.71e+08     -0.216      0.829   -3.72e+08    2.98e+08\n",
      "x548        6.836e-28   1.82e-15   3.75e-13      1.000   -3.57e-15    3.57e-15\n",
      "x549       -3.684e+07   1.71e+08     -0.216      0.829   -3.72e+08    2.98e+08\n",
      "x550       -3.684e+07   1.71e+08     -0.216      0.829   -3.72e+08    2.98e+08\n",
      "x551        2.711e+07   1.26e+08      0.216      0.829   -2.19e+08    2.73e+08\n",
      "x552       -3.684e+07   1.71e+08     -0.216      0.829   -3.72e+08    2.98e+08\n",
      "x553       -3.684e+07   1.71e+08     -0.216      0.829   -3.72e+08    2.98e+08\n",
      "x554        5.279e+07   2.45e+08      0.216      0.829   -4.27e+08    5.32e+08\n",
      "x555        3.094e+07   1.43e+08      0.216      0.829    -2.5e+08    3.12e+08\n",
      "x556       -3.684e+07   1.71e+08     -0.216      0.829   -3.72e+08    2.98e+08\n",
      "x557       -3.684e+07   1.71e+08     -0.216      0.829   -3.72e+08    2.98e+08\n",
      "x558       -3.684e+07   1.71e+08     -0.216      0.829   -3.72e+08    2.98e+08\n",
      "x559       -3.684e+07   1.71e+08     -0.216      0.829   -3.72e+08    2.98e+08\n",
      "x560       -3.684e+07   1.71e+08     -0.216      0.829   -3.72e+08    2.98e+08\n",
      "x561       -3.684e+07   1.71e+08     -0.216      0.829   -3.72e+08    2.98e+08\n",
      "x562        1.127e-27   3.45e-15   3.27e-13      1.000   -6.76e-15    6.76e-15\n",
      "x563        1.239e-27   1.64e-15   7.57e-13      1.000   -3.21e-15    3.21e-15\n",
      "x564        1.542e+07   7.15e+07      0.216      0.829   -1.25e+08    1.56e+08\n",
      "x565         1.59e+07   7.37e+07      0.216      0.829   -1.29e+08     1.6e+08\n",
      "x566       -3.684e+07   1.71e+08     -0.216      0.829   -3.72e+08    2.98e+08\n",
      "x567        8.104e+07   3.76e+08      0.216      0.829   -6.55e+08    8.17e+08\n",
      "x568       -3.684e+07   1.71e+08     -0.216      0.829   -3.72e+08    2.98e+08\n",
      "x569       -3.684e+07   1.71e+08     -0.216      0.829   -3.72e+08    2.98e+08\n",
      "x570        3.397e+07   1.57e+08      0.216      0.829   -2.75e+08    3.43e+08\n",
      "x571        2.711e+07   1.26e+08      0.216      0.829   -2.19e+08    2.73e+08\n",
      "x572       -1.415e-27   2.63e-15  -5.38e-13      1.000   -5.15e-15    5.15e-15\n",
      "x573       -3.684e+07   1.71e+08     -0.216      0.829   -3.72e+08    2.98e+08\n",
      "x574        3.397e+07   1.57e+08      0.216      0.829   -2.75e+08    3.43e+08\n",
      "x575       -3.684e+07   1.71e+08     -0.216      0.829   -3.72e+08    2.98e+08\n",
      "x576         1.59e+07   7.37e+07      0.216      0.829   -1.29e+08     1.6e+08\n",
      "x577       -3.684e+07   1.71e+08     -0.216      0.829   -3.72e+08    2.98e+08\n",
      "x578       -1.398e-28   1.33e-15  -1.05e-13      1.000   -2.61e-15    2.61e-15\n",
      "x579         1.59e+07   7.37e+07      0.216      0.829   -1.29e+08     1.6e+08\n",
      "x580        2.711e+07   1.26e+08      0.216      0.829   -2.19e+08    2.73e+08\n",
      "x581         1.11e+07   5.15e+07      0.216      0.829   -8.98e+07    1.12e+08\n",
      "x582         5.24e+07   2.43e+08      0.216      0.829   -4.24e+08    5.28e+08\n",
      "x583         1.59e+07   7.37e+07      0.216      0.829   -1.29e+08     1.6e+08\n",
      "x584        2.711e+07   1.26e+08      0.216      0.829   -2.19e+08    2.73e+08\n",
      "x585         1.59e+07   7.37e+07      0.216      0.829   -1.29e+08     1.6e+08\n",
      "x586       -3.684e+07   1.71e+08     -0.216      0.829   -3.72e+08    2.98e+08\n",
      "x587       -3.684e+07   1.71e+08     -0.216      0.829   -3.72e+08    2.98e+08\n",
      "x588       -3.684e+07   1.71e+08     -0.216      0.829   -3.72e+08    2.98e+08\n",
      "x589       -3.684e+07   1.71e+08     -0.216      0.829   -3.72e+08    2.98e+08\n",
      "x590       -3.684e+07   1.71e+08     -0.216      0.829   -3.72e+08    2.98e+08\n",
      "x591       -3.684e+07   1.71e+08     -0.216      0.829   -3.72e+08    2.98e+08\n",
      "x592        2.037e-28   1.28e-15   1.59e-13      1.000    -2.5e-15     2.5e-15\n",
      "x593       -3.684e+07   1.71e+08     -0.216      0.829   -3.72e+08    2.98e+08\n",
      "x594       -3.684e+07   1.71e+08     -0.216      0.829   -3.72e+08    2.98e+08\n",
      "x595       -3.684e+07   1.71e+08     -0.216      0.829   -3.72e+08    2.98e+08\n",
      "x596       -3.684e+07   1.71e+08     -0.216      0.829   -3.72e+08    2.98e+08\n",
      "x597        1.505e-27   2.63e-15   5.72e-13      1.000   -5.15e-15    5.15e-15\n",
      "x598        3.397e+07   1.57e+08      0.216      0.829   -2.75e+08    3.43e+08\n",
      "x599       -3.684e+07   1.71e+08     -0.216      0.829   -3.72e+08    2.98e+08\n",
      "x600       -3.684e+07   1.71e+08     -0.216      0.829   -3.72e+08    2.98e+08\n",
      "x601       -3.684e+07   1.71e+08     -0.216      0.829   -3.72e+08    2.98e+08\n",
      "x602       -3.684e+07   1.71e+08     -0.216      0.829   -3.72e+08    2.98e+08\n",
      "x603        7.224e-28   6.06e-16   1.19e-12      1.000   -1.19e-15    1.19e-15\n",
      "x604       -3.684e+07   1.71e+08     -0.216      0.829   -3.72e+08    2.98e+08\n",
      "x605       -3.684e+07   1.71e+08     -0.216      0.829   -3.72e+08    2.98e+08\n",
      "x606       -3.684e+07   1.71e+08     -0.216      0.829   -3.72e+08    2.98e+08\n",
      "x607       -3.684e+07   1.71e+08     -0.216      0.829   -3.72e+08    2.98e+08\n",
      "x608        3.553e+08   1.65e+09      0.216      0.829   -2.87e+09    3.58e+09\n",
      "x609        2.634e+08   1.22e+09      0.216      0.829   -2.13e+09    2.66e+09\n",
      "x610        3.553e+08   1.65e+09      0.216      0.829   -2.87e+09    3.58e+09\n",
      "x611        1.536e+08   7.12e+08      0.216      0.829   -1.24e+09    1.55e+09\n",
      "x612        3.553e+08   1.65e+09      0.216      0.829   -2.87e+09    3.58e+09\n",
      "x613        3.026e+08    1.4e+09      0.216      0.829   -2.45e+09    3.05e+09\n",
      "x614        1.188e-27   1.58e-15   7.54e-13      1.000   -3.09e-15    3.09e-15\n",
      "x615        2.914e+08   1.35e+09      0.216      0.829   -2.36e+09    2.94e+09\n",
      "x616        3.074e+08   1.42e+09      0.216      0.829   -2.49e+09     3.1e+09\n",
      "x617        3.003e+08   1.39e+09      0.216      0.829   -2.43e+09    3.03e+09\n",
      "x618        2.374e+08    1.1e+09      0.216      0.829   -1.92e+09    2.39e+09\n",
      "x619        1.598e+08   7.41e+08      0.216      0.829   -1.29e+09    1.61e+09\n",
      "x620        3.026e+08    1.4e+09      0.216      0.829   -2.45e+09    3.05e+09\n",
      "x621        2.657e+08   1.23e+09      0.216      0.829   -2.15e+09    2.68e+09\n",
      "x622        2.177e+08   1.01e+09      0.216      0.829   -1.76e+09     2.2e+09\n",
      "x623        1.595e+08   7.39e+08      0.216      0.829   -1.29e+09    1.61e+09\n",
      "x624         1.65e+08   7.65e+08      0.216      0.829   -1.33e+09    1.66e+09\n",
      "x625        2.661e+08   1.23e+09      0.216      0.829   -2.15e+09    2.68e+09\n",
      "x626        2.146e+08   9.94e+08      0.216      0.829   -1.73e+09    2.16e+09\n",
      "x627        2.766e+08   1.28e+09      0.216      0.829   -2.24e+09    2.79e+09\n",
      "x628        1.592e+08   7.38e+08      0.216      0.829   -1.29e+09    1.61e+09\n",
      "x629        2.138e+08   9.91e+08      0.216      0.829   -1.73e+09    2.16e+09\n",
      "x630        2.414e+08   1.12e+09      0.216      0.829   -1.95e+09    2.43e+09\n",
      "x631        1.577e+08   7.31e+08      0.216      0.829   -1.28e+09    1.59e+09\n",
      "x632        2.914e+08   1.35e+09      0.216      0.829   -2.36e+09    2.94e+09\n",
      "x633        2.372e+08    1.1e+09      0.216      0.829   -1.92e+09    2.39e+09\n",
      "x634         2.76e+08   1.28e+09      0.216      0.829   -2.23e+09    2.78e+09\n",
      "x635        2.544e+08   1.18e+09      0.216      0.829   -2.06e+09    2.57e+09\n",
      "x636        2.872e+08   1.33e+09      0.216      0.829   -2.32e+09     2.9e+09\n",
      "x637        2.105e+08   9.76e+08      0.216      0.829    -1.7e+09    2.12e+09\n",
      "x638        2.738e+08   1.27e+09      0.216      0.829   -2.21e+09    2.76e+09\n",
      "x639        2.617e+08   1.21e+09      0.216      0.829   -2.12e+09    2.64e+09\n",
      "x640        1.595e+08   7.39e+08      0.216      0.829   -1.29e+09    1.61e+09\n",
      "x641        2.143e+08   9.93e+08      0.216      0.829   -1.73e+09    2.16e+09\n",
      "x642        3.042e+08   1.41e+09      0.216      0.829   -2.46e+09    3.07e+09\n",
      "x643        2.845e+08   1.32e+09      0.216      0.829    -2.3e+09    2.87e+09\n",
      "x644        1.573e+08   7.29e+08      0.216      0.829   -1.27e+09    1.59e+09\n",
      "x645        2.875e+08   1.33e+09      0.216      0.829   -2.33e+09     2.9e+09\n",
      "x646        3.031e+08    1.4e+09      0.216      0.829   -2.45e+09    3.06e+09\n",
      "x647                0          0        nan        nan           0           0\n",
      "==============================================================================\n",
      "Omnibus:                     2723.586   Durbin-Watson:                   1.979\n",
      "Prob(Omnibus):                  0.000   Jarque-Bera (JB):            13521.172\n",
      "Skew:                          -1.492   Prob(JB):                         0.00\n",
      "Kurtosis:                       8.463   Cond. No.                     3.49e+18\n",
      "==============================================================================\n",
      "\n",
      "Notes:\n",
      "[1] Standard Errors assume that the covariance matrix of the errors is correctly specified.\n",
      "[2] The smallest eigenvalue is 3.52e-32. This might indicate that there are\n",
      "strong multicollinearity problems or that the design matrix is singular.\n"
     ]
    }
   ],
   "source": [
    "import statsmodels.api as sm\n",
    "\n",
    "X_new = sm.add_constant(X_train)\n",
    "toyregr_sm = sm.OLS(y_train.astype(float), X_new.astype(float))\n",
    "results_sm = toyregr_sm.fit()\n",
    "\n",
    "print(results_sm.summary())"
   ]
  },
  {
   "cell_type": "code",
   "execution_count": 63,
   "metadata": {},
   "outputs": [],
   "source": [
    "from sklearn.linear_model import LogisticRegression\n",
    "\n",
    "# y_temp = y_train.astype('int')\n",
    "\n",
    "log_reg = LogisticRegression(max_iter=1000, multi_class='ovr')\n",
    "log_reg.fit(X_train, y_train)\n",
    "log_predicted = log_reg.predict(X_test)"
   ]
  },
  {
   "cell_type": "code",
   "execution_count": 64,
   "metadata": {},
   "outputs": [
    {
     "data": {
      "text/plain": [
       "0.06554344147787575"
      ]
     },
     "execution_count": 64,
     "metadata": {},
     "output_type": "execute_result"
    }
   ],
   "source": [
    "mse = mean_squared_error(y_test, log_predicted)\n",
    "rmse = np.sqrt(mse)\n",
    "rmse"
   ]
  },
  {
   "cell_type": "code",
   "execution_count": 65,
   "metadata": {},
   "outputs": [
    {
     "data": {
      "text/plain": [
       "0.9828133744852215"
      ]
     },
     "execution_count": 65,
     "metadata": {},
     "output_type": "execute_result"
    }
   ],
   "source": [
    "r2_score(y_test, log_predicted)"
   ]
  },
  {
   "cell_type": "code",
   "execution_count": 66,
   "metadata": {},
   "outputs": [
    {
     "name": "stdout",
     "output_type": "stream",
     "text": [
      "accuracy = 0.9957040572792363%\n",
      "roc_auc_score = 0.9957587181903864\n",
      "F1-score = 0.9956668271545499\n"
     ]
    },
    {
     "data": {
      "text/plain": [
       "array([[1052,    9],\n",
       "       [   0, 1034]])"
      ]
     },
     "execution_count": 66,
     "metadata": {},
     "output_type": "execute_result"
    }
   ],
   "source": [
    "from sklearn.metrics import confusion_matrix\n",
    "\n",
    "accuracy = (accuracy_score(y_test, log_predicted))\n",
    "print(\"accuracy = {}%\".format(accuracy))\n",
    "print(\"roc_auc_score = {}\".format(roc_auc_score(y_test, log_predicted)))\n",
    "print(\"F1-score = {}\".format(f1_score(y_test, log_predicted)))\n",
    "\n",
    "confusion_matrix(y_test, log_predicted)"
   ]
  },
  {
   "cell_type": "markdown",
   "metadata": {},
   "source": [
    "# 6. PCA"
   ]
  },
  {
   "cell_type": "code",
   "execution_count": 67,
   "metadata": {},
   "outputs": [
    {
     "name": "stdout",
     "output_type": "stream",
     "text": [
      "[31.04383482 24.38833189  7.79944732  5.16371366  1.53829778  1.35411842]\n",
      "6\n"
     ]
    }
   ],
   "source": [
    "pca = PCA(n_components=0.95) # Create an instance of PCA model\n",
    "pca.fit(X_train) # Fit X_train to PCA\n",
    "X_train = pca.transform(X_train) # transform training data\n",
    "X_test = pca.transform(X_test) # transform test data\n",
    "print(pca.explained_variance_)\n",
    "print(pca.n_components_)"
   ]
  },
  {
   "cell_type": "code",
   "execution_count": 68,
   "metadata": {},
   "outputs": [
    {
     "name": "stdout",
     "output_type": "stream",
     "text": [
      "[[-4.80213497 -1.74246091 -0.3226492  -0.6540295   0.58144524  0.75906247]\n",
      " [13.26505108 -2.36337701  0.47005967 -3.97091389 -0.39701851  0.64758075]\n",
      " [ 2.40743473 -1.57685661 -0.31323586 -0.59662712 -0.42207729 -0.98569833]\n",
      " ...\n",
      " [ 3.89565665 -1.7227412   0.36312944 -2.02844357 -0.76517586 -0.38587745]\n",
      " [-4.63136649 -0.79921995 -0.21533653 -0.77447219  0.43441414  2.12360354]\n",
      " [ 2.95287093  5.31683523 10.16626819  3.30146899  3.04096197 -0.29692045]]\n"
     ]
    }
   ],
   "source": [
    "print(X_train)"
   ]
  },
  {
   "cell_type": "code",
   "execution_count": 69,
   "metadata": {},
   "outputs": [
    {
     "name": "stdout",
     "output_type": "stream",
     "text": [
      "[[ 1.65458251e+01 -3.03529563e+00 -3.23767113e+00  5.29608772e-01\n",
      "   1.44318607e+00  1.53215411e+00]\n",
      " [-4.08882949e-01  1.08363769e+01  4.82449713e-01 -1.79355515e-01\n",
      "  -3.36449031e+00  1.38891939e+00]\n",
      " [-4.87060464e+00 -1.74957204e+00 -3.26237003e-01 -7.10162881e-01\n",
      "   6.43656099e-01  1.06382527e+00]\n",
      " ...\n",
      " [-4.24417320e+00 -1.20524355e-01  1.01772641e-01 -6.31895213e-01\n",
      "  -1.27683310e-01  2.15566899e+00]\n",
      " [ 9.59147367e+00 -1.77654586e+00 -2.06376818e-02 -1.82912553e+00\n",
      "  -7.00928722e-01  1.23553729e-02]\n",
      " [ 4.25830139e+00 -1.27651521e+00 -2.34386168e-01  1.39222574e-01\n",
      "  -1.19188060e+00 -5.01809784e-01]]\n"
     ]
    }
   ],
   "source": [
    "print(X_test)"
   ]
  },
  {
   "cell_type": "code",
   "execution_count": 70,
   "metadata": {},
   "outputs": [
    {
     "name": "stdout",
     "output_type": "stream",
     "text": [
      "(8377, 6) (2095, 6)\n",
      "(8377,) (2095,)\n"
     ]
    }
   ],
   "source": [
    "print(X_train.shape, X_test.shape)\n",
    "print(y_train.shape, y_test.shape)"
   ]
  },
  {
   "cell_type": "markdown",
   "metadata": {},
   "source": [
    "# 7. Ensemble"
   ]
  },
  {
   "cell_type": "code",
   "execution_count": null,
   "metadata": {},
   "outputs": [],
   "source": [
    "# y_train = y_train.astype('int')\n",
    "# y_test = y_test.astype('int')"
   ]
  },
  {
   "cell_type": "code",
   "execution_count": 281,
   "metadata": {},
   "outputs": [
    {
     "name": "stdout",
     "output_type": "stream",
     "text": [
      "0.9809037494280239\n",
      "accuracy = 0.9952267303102625%\n",
      "roc_auc_score = 0.9952874646559849\n",
      "F1-score = 0.9951876804619826\n"
     ]
    },
    {
     "data": {
      "text/plain": [
       "array([[1051,   10],\n",
       "       [   0, 1034]])"
      ]
     },
     "execution_count": 281,
     "metadata": {},
     "output_type": "execute_result"
    }
   ],
   "source": [
    "from sklearn.datasets import make_regression\n",
    "from sklearn.model_selection import train_test_split\n",
    "from sklearn.ensemble import RandomForestClassifier\n",
    "from sklearn.metrics import r2_score\n",
    "\n",
    "# assuming we have X_train,X_test,y_train,y_test at this time\n",
    "# I first run Random Forest using random hard coded settings to get a baseline\n",
    "rf = RandomForestClassifier(n_estimators=80,max_depth=7,max_features=3)\n",
    "rf.fit(X_train,y_train)\n",
    "y_pred = rf.predict(X_test)\n",
    "test_score = r2_score(y_test,y_pred)\n",
    "print(test_score)\n",
    "accuracy = (accuracy_score(y_test, y_pred))\n",
    "print(\"accuracy = {}%\".format(accuracy))\n",
    "print(\"roc_auc_score = {}\".format(roc_auc_score(y_test, y_pred)))\n",
    "print(\"F1-score = {}\".format(f1_score(y_test, y_pred)))\n",
    "\n",
    "confusion_matrix(y_test, y_pred)"
   ]
  },
  {
   "cell_type": "code",
   "execution_count": null,
   "metadata": {},
   "outputs": [],
   "source": [
    "from sklearn.model_selection import RandomizedSearchCV\n",
    "import numpy as np\n",
    "# I then use RandomizedSearchCV to find the optimal hyperparameters\n",
    "n_estimators = [int(x) for x in np.linspace(start = 100, stop = 1500, num = 30)]\n",
    "max_features = ['auto', 'sqrt']\n",
    "max_depth = [int(x) for x in np.linspace(5, 100, num = 10)]\n",
    "max_depth.append(None)\n",
    "min_samples_split = [2, 5, 7, 10]\n",
    "min_samples_leaf = [2, 5, 7, 10]\n",
    "random_grid = {'n_estimators': n_estimators,\n",
    "               'max_features': max_features,\n",
    "               'max_depth': max_depth,\n",
    "               'min_samples_split': min_samples_split,\n",
    "               'min_samples_leaf': min_samples_leaf}\n",
    "\n",
    "rf = RandomForestClassifier(class_weight='balanced', random_state=42)\n",
    "\n",
    "rf_random = RandomizedSearchCV(estimator = rf, param_distributions = random_grid, n_iter = 100, cv = 3, verbose=2, random_state=42, n_jobs = -1)\n",
    "rf_random.fit(X_train, y_train)\n",
    "rf_random.best_params_"
   ]
  },
  {
   "cell_type": "code",
   "execution_count": null,
   "metadata": {},
   "outputs": [],
   "source": [
    "rf = RandomForestRegressor(n_estimators=411,max_depth=68,max_features='auto',min_samples_split=5,min_samples_leaf=2,bootstrap=True)\n",
    "rf.fit(X_train,y_train)\n",
    "y_pred = rf.predict(X_test)\n",
    "misclassified = 0\n",
    "for i in range(len(y_pred)):\n",
    "    if y_pred[i] != y_test[i]:\n",
    "        misclassified += 1\n",
    "accuracy = ((1000-misclassified)*100/len(y_pred))\n",
    "print(\"accuracy = {}%\".format(accuracy))"
   ]
  },
  {
   "cell_type": "code",
   "execution_count": null,
   "metadata": {},
   "outputs": [],
   "source": [
    "# from sklearn.datasets import make_regression\n",
    "# from sklearn.model_selection import train_test_split\n",
    "# from sklearn.ensemble import RandomForestRegressor\n",
    "# from sklearn.metrics import r2_score\n",
    "\n",
    "# # assuming we have X_train,X_test,y_train,y_test at this time\n",
    "# # I first run Random Forest using random hard coded settings to get a baseline\n",
    "# rf = RandomForestRegressor(n_estimators=80,max_depth=7,max_features=3)\n",
    "# rf.fit(X_train,y_train)\n",
    "# y_pred = rf.predict(X_test)\n",
    "# test_score = r2_score(y_test,y_pred)\n",
    "# test_score"
   ]
  },
  {
   "cell_type": "code",
   "execution_count": null,
   "metadata": {},
   "outputs": [],
   "source": [
    "# from sklearn.model_selection import RandomizedSearchCV\n",
    "# import numpy as np\n",
    "# # I then use RandomizedSearchCV to find the optimal hyperparameters\n",
    "# n_estimators = [int(x) for x in np.linspace(start = 100, stop = 1500, num = 10)]\n",
    "# max_features = ['auto', 'sqrt']\n",
    "# max_depth = [int(x) for x in np.linspace(5, 100, num = 10)]\n",
    "# max_depth.append(None)\n",
    "# min_samples_split = [2, 5, 7, 10, 20]\n",
    "# min_samples_leaf = [2, 5, 7, 10]\n",
    "# bootstrap = [True, False]\n",
    "# random_grid = {'n_estimators': n_estimators,\n",
    "#                'max_features': max_features,\n",
    "#                'max_depth': max_depth,\n",
    "#                'min_samples_split': min_samples_split,\n",
    "#                'min_samples_leaf': min_samples_leaf,\n",
    "#                'bootstrap': bootstrap}\n",
    "\n",
    "# rf_random = RandomizedSearchCV(estimator = rf, param_distributions = random_grid, n_iter = 100, cv = 5, verbose=2, random_state=42, n_jobs = -1)\n",
    "# rf_random.fit(X_train, y_train)\n",
    "# rf_random.best_params_"
   ]
  },
  {
   "cell_type": "code",
   "execution_count": null,
   "metadata": {},
   "outputs": [],
   "source": [
    "# # I then output the r2 score again as a sanity check to verify that my RanomdizedSearchCV actually did find the best settings\n",
    "# rf = RandomForestRegressor(n_estimators=411,max_depth=68,max_features='auto',min_samples_split=5,min_samples_leaf=2,bootstrap=True)\n",
    "# rf.fit(X_train,y_train)\n",
    "# y_pred = rf.predict(X_test)\n",
    "# from sklearn.metrics import r2_score\n",
    "# test_score = r2_score(y_test,y_pred)\n",
    "# test_score"
   ]
  },
  {
   "cell_type": "code",
   "execution_count": null,
   "metadata": {},
   "outputs": [],
   "source": [
    "# we then use the hyperparameters we found from the RandomizedSearchCV to do a second more thorough check around that range\n",
    "from sklearn.model_selection import GridSearchCV\n",
    "param_grid = {\n",
    "    'bootstrap': [True],\n",
    "    'max_depth': [65, 68, 71],\n",
    "    'max_features': ['auto'],\n",
    "    'min_samples_leaf': [2, 4, 6],\n",
    "    'min_samples_split': [3, 5, 7],\n",
    "    'n_estimators': [375, 411, 500]\n",
    "}\n",
    "# Create a based model\n",
    "rf = RandomForestRegressor()\n",
    "# Instantiate the grid search model\n",
    "grid_search = GridSearchCV(estimator = rf, param_grid = param_grid, \n",
    "                          cv = 5, n_jobs = -1, verbose = 2)\n",
    "grid_search.fit(X_train, y_train)\n",
    "grid_search.best_params_"
   ]
  },
  {
   "cell_type": "code",
   "execution_count": null,
   "metadata": {},
   "outputs": [],
   "source": [
    "# we then output the results using the optimal hyperparameters to check that our model has improved\n",
    "rf = RandomForestRegressor(n_estimators=375,max_depth=68,max_features='auto',min_samples_split=3,min_samples_leaf=2,bootstrap=True)\n",
    "rf.fit(X_train,y_train)\n",
    "y_pred = rf.predict(X_test)\n",
    "from sklearn.metrics import r2_score\n",
    "test_score = r2_score(y_test,y_pred)\n",
    "test_score"
   ]
  },
  {
   "cell_type": "code",
   "execution_count": 198,
   "metadata": {},
   "outputs": [
    {
     "name": "stdout",
     "output_type": "stream",
     "text": [
      "accuracy = 0.9905571293673276%\n",
      "roc_auc_score = 0.9952335557673976\n",
      "F1-score = 0.6666666666666666\n"
     ]
    }
   ],
   "source": [
    "# AdaBoost using the same settings\n",
    "from sklearn.ensemble import AdaBoostClassifier\n",
    "from sklearn.tree import DecisionTreeClassifier\n",
    "from sklearn import metrics\n",
    "\n",
    "y_train = y_train.astype('float')\n",
    "\n",
    "dt = DecisionTreeClassifier(max_depth=10,max_features='auto',min_samples_leaf=2,min_samples_split=3,\n",
    "                           random_state=42, class_weight='balanced')\n",
    "ab = AdaBoostRegressor(base_estimator=dt,learning_rate=1,n_estimators=450)\n",
    "ab.fit(X_train,y_train)\n",
    "y_pred = ab.predict(X_test)\n",
    "test_score = r2_score(y_test,y_pred)\n",
    "accuracy = (accuracy_score(y_test, y_pred))\n",
    "print(\"accuracy = {}%\".format(accuracy))\n",
    "print(\"roc_auc_score = {}\".format(roc_auc_score(y_test, y_pred)))\n",
    "print(\"F1-score = {}\".format(f1_score(y_test, y_pred)))"
   ]
  },
  {
   "cell_type": "markdown",
   "metadata": {},
   "source": [
    "# 8. Neural Network Classifier"
   ]
  },
  {
   "cell_type": "code",
   "execution_count": null,
   "metadata": {},
   "outputs": [],
   "source": [
    "# # # Define a transform to normalize the data\n",
    "# # transform = transforms.Compose([transforms.ToTensor(),\n",
    "# #                                 transforms.Normalize((0.5,), (0.5,)),\n",
    "# #                               ])\n",
    "# # Download and load the training data\n",
    "# NN_X_train = torch.tensor(df.drop([\"label\"], axis=1).values)\n",
    "# NN_y_train = torch.tensor(df[\"label\"].values)\n",
    "# trainset = TensorDataset(NN_X_train, NN_y_train)\n",
    "# trainloader = DataLoader(trainset, batch_size=64, shuffle=True)"
   ]
  },
  {
   "cell_type": "code",
   "execution_count": null,
   "metadata": {},
   "outputs": [],
   "source": [
    "# NUM_FEATURES = 20\n",
    "# NUM_HIDDEN1_NODES = 400\n",
    "# NUM_EPOCHS = 30\n",
    "\n",
    "# model = nn.Sequential(nn.Linear(NUM_FEATURES, NUM_HIDDEN1_NODES),\n",
    "#                       nn.Sigmoid(),\n",
    "#                       nn.Linear(NUM_HIDDEN1_NODES, 1)\n",
    "#                      )\n",
    "\n",
    "# criterion = nn.CrossEntropyLoss()\n",
    "# optimizer = optim.SGD(model.parameters(), lr=0.003)\n",
    "\n",
    "# for e in range(NUM_EPOCHS):\n",
    "#     running_loss = 0\n",
    "#     for data, labels in trainloader:\n",
    "#         optimizer.zero_grad()\n",
    "#         output = model(data)\n",
    "#         loss = criterion(output, labels)\n",
    "#         loss.backward()\n",
    "#         optimizer.step()\n",
    "#         running_loss += loss.item()\n",
    "#     print(f\"Training loss: {running_loss/len(trainloader)}\")\n",
    "    \n",
    "# # class NeuralNet(nn.Module):\n",
    "# #     def __init__(self):\n",
    "# #         super(NeuralNet, self).__init__()\n",
    "        \n",
    "# #         # Inputs to hidden layer linear transformation\n",
    "# #         self.hidden1 = nn.Linear(NUM_FEATURES, NUM_HIDDEN1_NODES)\n",
    "# #         self.output = nn.Linear(NUM_HIDDEN1_NODES, 1)\n",
    "        \n",
    "# #         self.sigmoid = nn.Sigmoid()\n",
    "        \n",
    "# #     def forward(self, x):\n",
    "# #         x = self.hidden1(x)\n",
    "# #         x = self.sigmoid(x)\n",
    "# #         x = self.output(x)\n",
    "# #         x = self.softmax(x)\n",
    "# #         return x"
   ]
  },
  {
   "cell_type": "code",
   "execution_count": 71,
   "metadata": {},
   "outputs": [
    {
     "name": "stdout",
     "output_type": "stream",
     "text": [
      "Epoch 1/100\n",
      "419/419 [==============================] - 1s 1ms/step - loss: 0.2466 - accuracy: 0.9506 - precision: 0.9760 - recall: 0.9265 - false_positives: 47.9095\n",
      "Epoch 2/100\n",
      "419/419 [==============================] - 0s 827us/step - loss: 0.0432 - accuracy: 0.9881 - precision: 0.9841 - recall: 0.9924 - false_positives: 36.2357\n",
      "Epoch 3/100\n",
      "419/419 [==============================] - 0s 857us/step - loss: 0.0372 - accuracy: 0.9922 - precision: 0.9848 - recall: 1.0000 - false_positives: 34.4119\n",
      "Epoch 4/100\n",
      "419/419 [==============================] - 0s 848us/step - loss: 0.0398 - accuracy: 0.9909 - precision: 0.9823 - recall: 1.0000 - false_positives: 33.8738\n",
      "Epoch 5/100\n",
      "419/419 [==============================] - 0s 930us/step - loss: 0.0301 - accuracy: 0.9934 - precision: 0.9870 - recall: 1.0000 - false_positives: 25.3976\n",
      "Epoch 6/100\n",
      "419/419 [==============================] - 0s 1ms/step - loss: 0.0268 - accuracy: 0.9948 - precision: 0.9896 - recall: 1.0000 - false_positives: 22.5738\n",
      "Epoch 7/100\n",
      "419/419 [==============================] - 0s 995us/step - loss: 0.0211 - accuracy: 0.9954 - precision: 0.9909 - recall: 1.0000 - false_positives: 20.6786\n",
      "Epoch 8/100\n",
      "419/419 [==============================] - 0s 811us/step - loss: 0.0236 - accuracy: 0.9949 - precision: 0.9897 - recall: 1.0000 - false_positives: 20.9976\n",
      "Epoch 9/100\n",
      "419/419 [==============================] - 0s 922us/step - loss: 0.0222 - accuracy: 0.9951 - precision: 0.9901 - recall: 1.0000 - false_positives: 19.4333\n",
      "Epoch 10/100\n",
      "419/419 [==============================] - 0s 832us/step - loss: 0.0169 - accuracy: 0.9961 - precision: 0.9922 - recall: 1.0000 - false_positives: 17.4024\n",
      "Epoch 11/100\n",
      "419/419 [==============================] - 0s 802us/step - loss: 0.0194 - accuracy: 0.9946 - precision: 0.9894 - recall: 1.0000 - false_positives: 20.2119\n",
      "Epoch 12/100\n",
      "419/419 [==============================] - 0s 995us/step - loss: 0.0191 - accuracy: 0.9960 - precision: 0.9921 - recall: 1.0000 - false_positives: 16.5452\n",
      "Epoch 13/100\n",
      "419/419 [==============================] - 0s 1ms/step - loss: 0.0189 - accuracy: 0.9961 - precision: 0.9923 - recall: 1.0000 - false_positives: 16.2143\n",
      "Epoch 14/100\n",
      "419/419 [==============================] - 0s 1ms/step - loss: 0.0155 - accuracy: 0.9969 - precision: 0.9938 - recall: 1.0000 - false_positives: 15.0071\n",
      "Epoch 15/100\n",
      "419/419 [==============================] - 0s 921us/step - loss: 0.0201 - accuracy: 0.9962 - precision: 0.9926 - recall: 1.0000 - false_positives: 15.2810\n",
      "Epoch 16/100\n",
      "419/419 [==============================] - 0s 1ms/step - loss: 0.0145 - accuracy: 0.9967 - precision: 0.9935 - recall: 1.0000 - false_positives: 15.1000\n",
      "Epoch 17/100\n",
      "419/419 [==============================] - 1s 1ms/step - loss: 0.0148 - accuracy: 0.9967 - precision: 0.9942 - recall: 0.9994 - false_positives: 13.4429\n",
      "Epoch 18/100\n",
      "419/419 [==============================] - 0s 903us/step - loss: 0.0181 - accuracy: 0.9966 - precision: 0.9932 - recall: 1.0000 - false_positives: 14.5952\n",
      "Epoch 19/100\n",
      "419/419 [==============================] - 0s 976us/step - loss: 0.0138 - accuracy: 0.9976 - precision: 0.9952 - recall: 1.0000 - false_positives: 12.5595\n",
      "Epoch 20/100\n",
      "419/419 [==============================] - 0s 847us/step - loss: 0.0169 - accuracy: 0.9967 - precision: 0.9935 - recall: 1.0000 - false_positives: 15.0000\n",
      "Epoch 21/100\n",
      "419/419 [==============================] - 0s 908us/step - loss: 0.0148 - accuracy: 0.9973 - precision: 0.9947 - recall: 1.0000 - false_positives: 13.4048\n",
      "Epoch 22/100\n",
      "419/419 [==============================] - 0s 871us/step - loss: 0.0185 - accuracy: 0.9962 - precision: 0.9926 - recall: 0.9999 - false_positives: 13.7738\n",
      "Epoch 23/100\n",
      "419/419 [==============================] - 0s 1ms/step - loss: 0.0150 - accuracy: 0.9971 - precision: 0.9944 - recall: 1.0000 - false_positives: 13.2429\n",
      "Epoch 24/100\n",
      "419/419 [==============================] - 1s 1ms/step - loss: 0.0162 - accuracy: 0.9969 - precision: 0.9937 - recall: 1.0000 - false_positives: 12.7571\n",
      "Epoch 25/100\n",
      "419/419 [==============================] - 1s 1ms/step - loss: 0.0197 - accuracy: 0.9967 - precision: 0.9933 - recall: 1.0000 - false_positives: 12.6119\n",
      "Epoch 26/100\n",
      "419/419 [==============================] - 0s 960us/step - loss: 0.0166 - accuracy: 0.9964 - precision: 0.9929 - recall: 1.0000 - false_positives: 13.2667\n",
      "Epoch 27/100\n",
      "419/419 [==============================] - 0s 830us/step - loss: 0.0145 - accuracy: 0.9973 - precision: 0.9946 - recall: 1.0000 - false_positives: 12.2024\n",
      "Epoch 28/100\n",
      "419/419 [==============================] - 0s 1ms/step - loss: 0.0117 - accuracy: 0.9975 - precision: 0.9950 - recall: 1.0000 - false_positives: 11.4952\n",
      "Epoch 29/100\n",
      "419/419 [==============================] - 0s 1ms/step - loss: 0.0152 - accuracy: 0.9968 - precision: 0.9938 - recall: 1.0000 - false_positives: 13.3333\n",
      "Epoch 30/100\n",
      "419/419 [==============================] - 0s 1ms/step - loss: 0.0139 - accuracy: 0.9972 - precision: 0.9945 - recall: 1.0000 - false_positives: 12.3190\n",
      "Epoch 31/100\n",
      "419/419 [==============================] - 0s 1ms/step - loss: 0.0137 - accuracy: 0.9974 - precision: 0.9950 - recall: 1.0000 - false_positives: 11.1810\n",
      "Epoch 32/100\n",
      "419/419 [==============================] - 0s 1ms/step - loss: 0.0111 - accuracy: 0.9979 - precision: 0.9959 - recall: 1.0000 - false_positives: 10.0405\n",
      "Epoch 33/100\n",
      "419/419 [==============================] - 0s 890us/step - loss: 0.0169 - accuracy: 0.9968 - precision: 0.9936 - recall: 1.0000 - false_positives: 12.5786\n",
      "Epoch 34/100\n",
      "419/419 [==============================] - 0s 836us/step - loss: 0.0167 - accuracy: 0.9966 - precision: 0.9932 - recall: 1.0000 - false_positives: 13.7810\n",
      "Epoch 35/100\n",
      "419/419 [==============================] - 0s 850us/step - loss: 0.0150 - accuracy: 0.9970 - precision: 0.9941 - recall: 1.0000 - false_positives: 13.5786\n",
      "Epoch 36/100\n",
      "419/419 [==============================] - 0s 842us/step - loss: 0.0111 - accuracy: 0.9975 - precision: 0.9950 - recall: 1.0000 - false_positives: 12.4833\n",
      "Epoch 37/100\n",
      "419/419 [==============================] - 0s 867us/step - loss: 0.0181 - accuracy: 0.9964 - precision: 0.9930 - recall: 1.0000 - false_positives: 14.3048\n",
      "Epoch 38/100\n",
      "419/419 [==============================] - 0s 866us/step - loss: 0.0133 - accuracy: 0.9974 - precision: 0.9948 - recall: 1.0000 - false_positives: 11.7786\n",
      "Epoch 39/100\n",
      "419/419 [==============================] - 0s 805us/step - loss: 0.0131 - accuracy: 0.9974 - precision: 0.9948 - recall: 1.0000 - false_positives: 11.6548\n",
      "Epoch 40/100\n",
      "419/419 [==============================] - 0s 779us/step - loss: 0.0137 - accuracy: 0.9970 - precision: 0.9946 - recall: 0.9994 - false_positives: 11.8619\n",
      "Epoch 41/100\n",
      "419/419 [==============================] - 0s 855us/step - loss: 0.0183 - accuracy: 0.9961 - precision: 0.9927 - recall: 0.9995 - false_positives: 14.5786\n",
      "Epoch 42/100\n",
      "419/419 [==============================] - 0s 781us/step - loss: 0.0156 - accuracy: 0.9965 - precision: 0.9931 - recall: 1.0000 - false_positives: 14.7786\n",
      "Epoch 43/100\n",
      "419/419 [==============================] - 0s 807us/step - loss: 0.0130 - accuracy: 0.9971 - precision: 0.9946 - recall: 0.9995 - false_positives: 11.5881\n",
      "Epoch 44/100\n",
      "419/419 [==============================] - 0s 780us/step - loss: 0.0121 - accuracy: 0.9975 - precision: 0.9949 - recall: 1.0000 - false_positives: 12.3548\n",
      "Epoch 45/100\n",
      "419/419 [==============================] - 0s 801us/step - loss: 0.0132 - accuracy: 0.9973 - precision: 0.9947 - recall: 1.0000 - false_positives: 12.6690\n",
      "Epoch 46/100\n",
      "419/419 [==============================] - 0s 839us/step - loss: 0.0114 - accuracy: 0.9978 - precision: 0.9957 - recall: 1.0000 - false_positives: 10.2071\n",
      "Epoch 47/100\n",
      "419/419 [==============================] - 0s 807us/step - loss: 0.0135 - accuracy: 0.9968 - precision: 0.9944 - recall: 0.9992 - false_positives: 11.6310\n",
      "Epoch 48/100\n",
      "419/419 [==============================] - 0s 796us/step - loss: 0.0108 - accuracy: 0.9979 - precision: 0.9958 - recall: 1.0000 - false_positives: 10.7167\n",
      "Epoch 49/100\n",
      "419/419 [==============================] - 0s 795us/step - loss: 0.0158 - accuracy: 0.9965 - precision: 0.9929 - recall: 1.0000 - false_positives: 11.7024\n"
     ]
    },
    {
     "name": "stdout",
     "output_type": "stream",
     "text": [
      "Epoch 50/100\n",
      "419/419 [==============================] - 0s 772us/step - loss: 0.0155 - accuracy: 0.9958 - precision: 0.9917 - recall: 1.0000 - false_positives: 14.4810\n",
      "Epoch 51/100\n",
      "419/419 [==============================] - 0s 760us/step - loss: 0.0129 - accuracy: 0.9975 - precision: 0.9950 - recall: 1.0000 - false_positives: 10.8714\n",
      "Epoch 52/100\n",
      "419/419 [==============================] - 0s 786us/step - loss: 0.0112 - accuracy: 0.9974 - precision: 0.9953 - recall: 0.9995 - false_positives: 11.0000\n",
      "Epoch 53/100\n",
      "419/419 [==============================] - 0s 744us/step - loss: 0.0102 - accuracy: 0.9981 - precision: 0.9963 - recall: 1.0000 - false_positives: 9.3286\n",
      "Epoch 54/100\n",
      "419/419 [==============================] - 0s 745us/step - loss: 0.0140 - accuracy: 0.9964 - precision: 0.9935 - recall: 0.9994 - false_positives: 12.5429\n",
      "Epoch 55/100\n",
      "419/419 [==============================] - 0s 782us/step - loss: 0.0114 - accuracy: 0.9976 - precision: 0.9952 - recall: 1.0000 - false_positives: 9.8119\n",
      "Epoch 56/100\n",
      "419/419 [==============================] - 0s 775us/step - loss: 0.0116 - accuracy: 0.9975 - precision: 0.9952 - recall: 1.0000 - false_positives: 10.4881\n",
      "Epoch 57/100\n",
      "419/419 [==============================] - 0s 734us/step - loss: 0.0147 - accuracy: 0.9965 - precision: 0.9931 - recall: 1.0000 - false_positives: 11.8333\n",
      "Epoch 58/100\n",
      "419/419 [==============================] - 0s 761us/step - loss: 0.0078 - accuracy: 0.9983 - precision: 0.9966 - recall: 1.0000 - false_positives: 8.5786\n",
      "Epoch 59/100\n",
      "419/419 [==============================] - 0s 748us/step - loss: 0.0113 - accuracy: 0.9975 - precision: 0.9958 - recall: 0.9991 - false_positives: 8.4714\n",
      "Epoch 60/100\n",
      "419/419 [==============================] - 0s 759us/step - loss: 0.0149 - accuracy: 0.9966 - precision: 0.9934 - recall: 1.0000 - false_positives: 13.0167\n",
      "Epoch 61/100\n",
      "419/419 [==============================] - 0s 759us/step - loss: 0.0149 - accuracy: 0.9966 - precision: 0.9933 - recall: 1.0000 - false_positives: 13.3571\n",
      "Epoch 62/100\n",
      "419/419 [==============================] - 0s 824us/step - loss: 0.0159 - accuracy: 0.9963 - precision: 0.9929 - recall: 0.9997 - false_positives: 14.4690\n",
      "Epoch 63/100\n",
      "419/419 [==============================] - 0s 710us/step - loss: 0.0121 - accuracy: 0.9974 - precision: 0.9949 - recall: 1.0000 - false_positives: 12.6048\n",
      "Epoch 64/100\n",
      "419/419 [==============================] - 0s 727us/step - loss: 0.0120 - accuracy: 0.9975 - precision: 0.9950 - recall: 0.9999 - false_positives: 11.5190\n",
      "Epoch 65/100\n",
      "419/419 [==============================] - 0s 761us/step - loss: 0.0142 - accuracy: 0.9962 - precision: 0.9929 - recall: 0.9994 - false_positives: 13.0524\n",
      "Epoch 66/100\n",
      "419/419 [==============================] - 0s 772us/step - loss: 0.0131 - accuracy: 0.9971 - precision: 0.9943 - recall: 1.0000 - false_positives: 12.2119\n",
      "Epoch 67/100\n",
      "419/419 [==============================] - 0s 760us/step - loss: 0.0111 - accuracy: 0.9976 - precision: 0.9952 - recall: 1.0000 - false_positives: 10.9833\n",
      "Epoch 68/100\n",
      "419/419 [==============================] - 0s 774us/step - loss: 0.0122 - accuracy: 0.9973 - precision: 0.9946 - recall: 1.0000 - false_positives: 12.2190\n",
      "Epoch 69/100\n",
      "419/419 [==============================] - 0s 761us/step - loss: 0.0119 - accuracy: 0.9973 - precision: 0.9947 - recall: 1.0000 - false_positives: 12.9405\n",
      "Epoch 70/100\n",
      "419/419 [==============================] - 0s 760us/step - loss: 0.0171 - accuracy: 0.9962 - precision: 0.9925 - recall: 1.0000 - false_positives: 13.7000\n",
      "Epoch 71/100\n",
      "419/419 [==============================] - 0s 738us/step - loss: 0.0107 - accuracy: 0.9974 - precision: 0.9950 - recall: 1.0000 - false_positives: 11.3310\n",
      "Epoch 72/100\n",
      "419/419 [==============================] - 0s 718us/step - loss: 0.0112 - accuracy: 0.9975 - precision: 0.9951 - recall: 1.0000 - false_positives: 10.8381\n",
      "Epoch 73/100\n",
      "419/419 [==============================] - 0s 727us/step - loss: 0.0091 - accuracy: 0.9985 - precision: 0.9970 - recall: 1.0000 - false_positives: 7.9714\n",
      "Epoch 74/100\n",
      "419/419 [==============================] - 0s 766us/step - loss: 0.0129 - accuracy: 0.9975 - precision: 0.9951 - recall: 0.9999 - false_positives: 10.2881\n",
      "Epoch 75/100\n",
      "419/419 [==============================] - 0s 717us/step - loss: 0.0113 - accuracy: 0.9974 - precision: 0.9949 - recall: 1.0000 - false_positives: 11.7738\n",
      "Epoch 76/100\n",
      "419/419 [==============================] - 0s 731us/step - loss: 0.0100 - accuracy: 0.9977 - precision: 0.9955 - recall: 1.0000 - false_positives: 10.2071\n",
      "Epoch 77/100\n",
      "419/419 [==============================] - 0s 741us/step - loss: 0.0109 - accuracy: 0.9975 - precision: 0.9950 - recall: 1.0000 - false_positives: 11.4048\n",
      "Epoch 78/100\n",
      "419/419 [==============================] - 0s 836us/step - loss: 0.0100 - accuracy: 0.9975 - precision: 0.9950 - recall: 1.0000 - false_positives: 9.5048\n",
      "Epoch 79/100\n",
      "419/419 [==============================] - 0s 713us/step - loss: 0.0095 - accuracy: 0.9984 - precision: 0.9969 - recall: 0.9999 - false_positives: 8.2119\n",
      "Epoch 80/100\n",
      "419/419 [==============================] - 0s 710us/step - loss: 0.0128 - accuracy: 0.9966 - precision: 0.9931 - recall: 1.0000 - false_positives: 12.3190\n",
      "Epoch 81/100\n",
      "419/419 [==============================] - 0s 732us/step - loss: 0.0128 - accuracy: 0.9968 - precision: 0.9937 - recall: 1.0000 - false_positives: 12.8024\n",
      "Epoch 82/100\n",
      "419/419 [==============================] - 0s 712us/step - loss: 0.0138 - accuracy: 0.9972 - precision: 0.9946 - recall: 1.0000 - false_positives: 11.2429\n",
      "Epoch 83/100\n",
      "419/419 [==============================] - 0s 707us/step - loss: 0.0088 - accuracy: 0.9980 - precision: 0.9959 - recall: 1.0000 - false_positives: 9.9524\n",
      "Epoch 84/100\n",
      "419/419 [==============================] - 0s 754us/step - loss: 0.0105 - accuracy: 0.9973 - precision: 0.9949 - recall: 0.9998 - false_positives: 11.7643\n",
      "Epoch 85/100\n",
      "419/419 [==============================] - 0s 723us/step - loss: 0.0096 - accuracy: 0.9975 - precision: 0.9953 - recall: 0.9997 - false_positives: 10.8262\n",
      "Epoch 86/100\n",
      "419/419 [==============================] - 0s 728us/step - loss: 0.0113 - accuracy: 0.9973 - precision: 0.9948 - recall: 1.0000 - false_positives: 11.8262\n",
      "Epoch 87/100\n",
      "419/419 [==============================] - 0s 754us/step - loss: 0.0169 - accuracy: 0.9964 - precision: 0.9931 - recall: 1.0000 - false_positives: 10.6929\n",
      "Epoch 88/100\n",
      "419/419 [==============================] - 0s 789us/step - loss: 0.0136 - accuracy: 0.9969 - precision: 0.9941 - recall: 1.0000 - false_positives: 11.7429\n",
      "Epoch 89/100\n",
      "419/419 [==============================] - 0s 733us/step - loss: 0.0084 - accuracy: 0.9982 - precision: 0.9963 - recall: 1.0000 - false_positives: 8.3381\n",
      "Epoch 90/100\n",
      "419/419 [==============================] - 0s 725us/step - loss: 0.0126 - accuracy: 0.9968 - precision: 0.9936 - recall: 1.0000 - false_positives: 11.4405\n",
      "Epoch 91/100\n",
      "419/419 [==============================] - 0s 715us/step - loss: 0.0157 - accuracy: 0.9966 - precision: 0.9932 - recall: 1.0000 - false_positives: 12.6214\n",
      "Epoch 92/100\n",
      "419/419 [==============================] - 0s 735us/step - loss: 0.0082 - accuracy: 0.9978 - precision: 0.9956 - recall: 1.0000 - false_positives: 10.8833\n",
      "Epoch 93/100\n",
      "419/419 [==============================] - 0s 754us/step - loss: 0.0123 - accuracy: 0.9971 - precision: 0.9944 - recall: 1.0000 - false_positives: 12.7048\n",
      "Epoch 94/100\n",
      "419/419 [==============================] - 0s 730us/step - loss: 0.0119 - accuracy: 0.9970 - precision: 0.9940 - recall: 1.0000 - false_positives: 10.4667\n",
      "Epoch 95/100\n",
      "419/419 [==============================] - 0s 718us/step - loss: 0.0111 - accuracy: 0.9975 - precision: 0.9951 - recall: 1.0000 - false_positives: 10.4048\n",
      "Epoch 96/100\n",
      "419/419 [==============================] - 0s 730us/step - loss: 0.0122 - accuracy: 0.9968 - precision: 0.9940 - recall: 0.9999 - false_positives: 11.9667\n",
      "Epoch 97/100\n",
      "419/419 [==============================] - 0s 784us/step - loss: 0.0085 - accuracy: 0.9979 - precision: 0.9959 - recall: 0.9999 - false_positives: 9.9238\n",
      "Epoch 98/100\n"
     ]
    },
    {
     "name": "stdout",
     "output_type": "stream",
     "text": [
      "419/419 [==============================] - 0s 731us/step - loss: 0.0102 - accuracy: 0.9973 - precision: 0.9947 - recall: 0.9999 - false_positives: 11.5405\n",
      "Epoch 99/100\n",
      "419/419 [==============================] - 0s 720us/step - loss: 0.0089 - accuracy: 0.9983 - precision: 0.9965 - recall: 1.0000 - false_positives: 7.7548\n",
      "Epoch 100/100\n",
      "419/419 [==============================] - 0s 748us/step - loss: 0.0077 - accuracy: 0.9981 - precision: 0.9963 - recall: 1.0000 - false_positives: 9.0119\n",
      "accuracy = 0.9980906921241051%\n",
      "roc_auc_score = 0.9981149858623939\n",
      "F1-score = 0.9980694980694981\n"
     ]
    },
    {
     "data": {
      "text/plain": [
       "array([[1057,    4],\n",
       "       [   0, 1034]])"
      ]
     },
     "execution_count": 71,
     "metadata": {},
     "output_type": "execute_result"
    }
   ],
   "source": [
    "# Neural network\n",
    "model = Sequential()\n",
    "model.add(Dense(16, input_dim=X_train.shape[1], activation='relu'))\n",
    "model.add(Dense(12, activation='relu'))\n",
    "model.add(Dense(1, activation='sigmoid'))\n",
    "\n",
    "model.compile(loss='binary_crossentropy', optimizer='adam', metrics=['accuracy', keras.metrics.Precision(),\n",
    "                                                                    keras.metrics.Recall(), \n",
    "                                                                     keras.metrics.FalsePositives()])\n",
    "\n",
    "model.fit(X_train, y_train, batch_size=20, epochs=100)\n",
    "\n",
    "y_pred = model.predict(X_test)\n",
    "y_pred = (y_pred > 0.5)\n",
    "accuracy = (accuracy_score(y_test, y_pred))\n",
    "print(\"accuracy = {}%\".format(accuracy))\n",
    "print(\"roc_auc_score = {}\".format(roc_auc_score(y_test, y_pred)))\n",
    "print(\"F1-score = {}\".format(f1_score(y_test, y_pred)))\n",
    "confusion_matrix(y_test, y_pred)"
   ]
  },
  {
   "cell_type": "markdown",
   "metadata": {},
   "source": [
    "# 9. Cross-Validate"
   ]
  },
  {
   "cell_type": "code",
   "execution_count": null,
   "metadata": {},
   "outputs": [],
   "source": [
    "from sklearn import model_selection\n",
    "\n",
    "kfold = model_selection.KFold(n_splits=10, random_state=42, shuffle=True)\n",
    "\n",
    "sample_model_kfold = sample()\n",
    "\n",
    "sample_results_kfold = model_selection.cross_val_score(sample_model_kfold, df_prepared, df_labels, cv=kfold)"
   ]
  },
  {
   "cell_type": "markdown",
   "metadata": {},
   "source": [
    "# 10. Custom Model"
   ]
  },
  {
   "cell_type": "code",
   "execution_count": 283,
   "metadata": {},
   "outputs": [
    {
     "name": "stdout",
     "output_type": "stream",
     "text": [
      "accuracy for kernel=linear = 0.7718377088305489%\n",
      "roc_auc_score = 0.769055688130427\n",
      "F1-score = 0.7053020961775586\n"
     ]
    },
    {
     "name": "stderr",
     "output_type": "stream",
     "text": [
      "/Users/shrenik/opt/anaconda3/lib/python3.8/site-packages/sklearn/svm/_base.py:255: ConvergenceWarning: Solver terminated early (max_iter=100).  Consider pre-processing your data with StandardScaler or MinMaxScaler.\n",
      "  warnings.warn('Solver terminated early (max_iter=%i).'\n"
     ]
    },
    {
     "data": {
      "text/plain": [
       "array([[1045,   16],\n",
       "       [ 462,  572]])"
      ]
     },
     "metadata": {},
     "output_type": "display_data"
    },
    {
     "name": "stdout",
     "output_type": "stream",
     "text": [
      "accuracy for kernel=rbf = 0.9522673031026253%\n",
      "roc_auc_score = 0.9519517370751654\n",
      "F1-score = 0.9504459861248761\n"
     ]
    },
    {
     "name": "stderr",
     "output_type": "stream",
     "text": [
      "/Users/shrenik/opt/anaconda3/lib/python3.8/site-packages/sklearn/svm/_base.py:255: ConvergenceWarning: Solver terminated early (max_iter=100).  Consider pre-processing your data with StandardScaler or MinMaxScaler.\n",
      "  warnings.warn('Solver terminated early (max_iter=%i).'\n"
     ]
    },
    {
     "data": {
      "text/plain": [
       "array([[1036,   25],\n",
       "       [  75,  959]])"
      ]
     },
     "metadata": {},
     "output_type": "display_data"
    },
    {
     "name": "stdout",
     "output_type": "stream",
     "text": [
      "accuracy for kernel=sigmoid = 0.9608591885441528%\n",
      "roc_auc_score = 0.9607665481088786\n",
      "F1-score = 0.9600778967867576\n"
     ]
    },
    {
     "name": "stderr",
     "output_type": "stream",
     "text": [
      "/Users/shrenik/opt/anaconda3/lib/python3.8/site-packages/sklearn/svm/_base.py:255: ConvergenceWarning: Solver terminated early (max_iter=100).  Consider pre-processing your data with StandardScaler or MinMaxScaler.\n",
      "  warnings.warn('Solver terminated early (max_iter=%i).'\n"
     ]
    },
    {
     "data": {
      "text/plain": [
       "array([[1027,   34],\n",
       "       [  48,  986]])"
      ]
     },
     "metadata": {},
     "output_type": "display_data"
    }
   ],
   "source": [
    "kernel_types = ['linear', 'rbf', 'sigmoid']\n",
    "for kernel in kernel_types:\n",
    "    svc = SVC(kernel=kernel, class_weight='balanced', random_state=42, max_iter=100) #class_weight='balanced'\n",
    "    svc.fit(X_train, y_train)\n",
    "    y_pred = svc.predict(X_test)\n",
    "    accuracy = (accuracy_score(y_test, y_pred))\n",
    "    print(\"accuracy for kernel={} = {}%\".format(kernel, accuracy))\n",
    "    print(\"roc_auc_score = {}\".format(roc_auc_score(y_test, y_pred)))\n",
    "    print(\"F1-score = {}\".format(f1_score(y_test, y_pred)))\n",
    "    display(confusion_matrix(y_test, y_pred))"
   ]
  },
  {
   "cell_type": "code",
   "execution_count": null,
   "metadata": {},
   "outputs": [],
   "source": []
  }
 ],
 "metadata": {
  "kernelspec": {
   "display_name": "Python 3",
   "language": "python",
   "name": "python3"
  },
  "language_info": {
   "codemirror_mode": {
    "name": "ipython",
    "version": 3
   },
   "file_extension": ".py",
   "mimetype": "text/x-python",
   "name": "python",
   "nbconvert_exporter": "python",
   "pygments_lexer": "ipython3",
   "version": "3.8.5"
  }
 },
 "nbformat": 4,
 "nbformat_minor": 4
}
