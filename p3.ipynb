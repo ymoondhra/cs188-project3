{
 "cells": [
  {
   "cell_type": "code",
   "execution_count": 10,
   "metadata": {},
   "outputs": [],
   "source": [
    "import numpy as np # linear algebra\n",
    "import pandas as pd # data processing, CSV file I/O (e.g. pd.read_csv)\n",
    "import matplotlib.pyplot as plt # this is used for the plot the graph \n",
    "from datetime import date\n",
    "import random\n",
    "\n",
    "from sklearn.decomposition import PCA\n",
    "from sklearn.experimental import enable_iterative_imputer\n",
    "from sklearn.impute import IterativeImputer\n",
    "from sklearn.impute import SimpleImputer\n",
    "from sklearn.compose import ColumnTransformer\n",
    "from sklearn.pipeline import Pipeline\n",
    "from sklearn.preprocessing import StandardScaler\n",
    "from sklearn.preprocessing import OneHotEncoder\n",
    "from sklearn.preprocessing import MultiLabelBinarizer\n",
    "from sklearn.model_selection import train_test_split\n",
    "from sklearn.svm import SVC\n",
    "from sklearn.metrics import roc_auc_score\n",
    "from sklearn.metrics import f1_score\n",
    "from sklearn.metrics import accuracy_score\n",
    "from imblearn.over_sampling import SMOTE\n",
    "\n",
    "import torch\n",
    "from torch import nn\n",
    "import torch.nn.functional as F\n",
    "from torchvision import transforms\n",
    "from torch.utils.data import TensorDataset, DataLoader\n",
    "\n",
    "import keras\n",
    "from keras.models import Sequential\n",
    "from keras.layers import Dense\n",
    "\n",
    "%matplotlib inline\n",
    "\n",
    "import random \n",
    "random.seed(42)"
   ]
  },
  {
   "cell_type": "code",
   "execution_count": 11,
   "metadata": {},
   "outputs": [],
   "source": [
    "csv_path_1 = \"training_dataset.csv\"\n",
    "csv_path_2 = \"score.csv\""
   ]
  },
  {
   "cell_type": "markdown",
   "metadata": {},
   "source": [
    "# 0. First, let's understand our data..."
   ]
  },
  {
   "cell_type": "code",
   "execution_count": 12,
   "metadata": {},
   "outputs": [
    {
     "data": {
      "text/html": [
       "<div>\n",
       "<style scoped>\n",
       "    .dataframe tbody tr th:only-of-type {\n",
       "        vertical-align: middle;\n",
       "    }\n",
       "\n",
       "    .dataframe tbody tr th {\n",
       "        vertical-align: top;\n",
       "    }\n",
       "\n",
       "    .dataframe thead th {\n",
       "        text-align: right;\n",
       "    }\n",
       "</style>\n",
       "<table border=\"1\" class=\"dataframe\">\n",
       "  <thead>\n",
       "    <tr style=\"text-align: right;\">\n",
       "      <th></th>\n",
       "      <th>dt</th>\n",
       "      <th>weekday</th>\n",
       "      <th>year</th>\n",
       "      <th>id_driver</th>\n",
       "      <th>id_carrier_number</th>\n",
       "      <th>dim_carrier_type</th>\n",
       "      <th>dim_carrier_company_name</th>\n",
       "      <th>home_base_city</th>\n",
       "      <th>home_base_state</th>\n",
       "      <th>carrier_trucks</th>\n",
       "      <th>...</th>\n",
       "      <th>most_recent_load_date</th>\n",
       "      <th>load_day</th>\n",
       "      <th>loads</th>\n",
       "      <th>marketplace_loads_otr</th>\n",
       "      <th>marketplace_loads_atlas</th>\n",
       "      <th>marketplace_loads</th>\n",
       "      <th>brokerage_loads_otr</th>\n",
       "      <th>brokerage_loads_atlas</th>\n",
       "      <th>brokerage_loads</th>\n",
       "      <th>total_loads</th>\n",
       "    </tr>\n",
       "  </thead>\n",
       "  <tbody>\n",
       "    <tr>\n",
       "      <th>0</th>\n",
       "      <td>2019-12-16</td>\n",
       "      <td>Monday</td>\n",
       "      <td>2019</td>\n",
       "      <td>21350</td>\n",
       "      <td>U0109015</td>\n",
       "      <td>Owner Operator</td>\n",
       "      <td>CA&amp;F TRUCKING</td>\n",
       "      <td>Maywood</td>\n",
       "      <td>CA</td>\n",
       "      <td>[\"poweronly\"]</td>\n",
       "      <td>...</td>\n",
       "      <td>2021-02-17</td>\n",
       "      <td>2019-12-16</td>\n",
       "      <td>2</td>\n",
       "      <td>0</td>\n",
       "      <td>438</td>\n",
       "      <td>438</td>\n",
       "      <td>0</td>\n",
       "      <td>45</td>\n",
       "      <td>45</td>\n",
       "      <td>483</td>\n",
       "    </tr>\n",
       "    <tr>\n",
       "      <th>1</th>\n",
       "      <td>2021-01-15</td>\n",
       "      <td>Friday</td>\n",
       "      <td>2021</td>\n",
       "      <td>36437</td>\n",
       "      <td>C0097727</td>\n",
       "      <td>Fleet</td>\n",
       "      <td>New opportunities inc</td>\n",
       "      <td>Los Angeles</td>\n",
       "      <td>CA</td>\n",
       "      <td>[\"poweronly\", \"boxtruck\"]</td>\n",
       "      <td>...</td>\n",
       "      <td>2021-02-03</td>\n",
       "      <td>2021-01-15</td>\n",
       "      <td>1</td>\n",
       "      <td>2</td>\n",
       "      <td>72</td>\n",
       "      <td>74</td>\n",
       "      <td>0</td>\n",
       "      <td>1</td>\n",
       "      <td>1</td>\n",
       "      <td>75</td>\n",
       "    </tr>\n",
       "    <tr>\n",
       "      <th>2</th>\n",
       "      <td>2019-12-26</td>\n",
       "      <td>Thursday</td>\n",
       "      <td>2019</td>\n",
       "      <td>19323</td>\n",
       "      <td>U0107081</td>\n",
       "      <td>Owner Operator</td>\n",
       "      <td>RAS</td>\n",
       "      <td>Compton</td>\n",
       "      <td>CA</td>\n",
       "      <td>[\"poweronly\"]</td>\n",
       "      <td>...</td>\n",
       "      <td>2020-09-25</td>\n",
       "      <td>2019-12-26</td>\n",
       "      <td>1</td>\n",
       "      <td>0</td>\n",
       "      <td>180</td>\n",
       "      <td>180</td>\n",
       "      <td>0</td>\n",
       "      <td>2</td>\n",
       "      <td>2</td>\n",
       "      <td>182</td>\n",
       "    </tr>\n",
       "    <tr>\n",
       "      <th>3</th>\n",
       "      <td>2021-02-10</td>\n",
       "      <td>Wednesday</td>\n",
       "      <td>2021</td>\n",
       "      <td>34809</td>\n",
       "      <td>C0094651</td>\n",
       "      <td>Fleet</td>\n",
       "      <td>NFS asset Drayage</td>\n",
       "      <td>Lynwood</td>\n",
       "      <td>CA</td>\n",
       "      <td>[\"poweronly\", \"dryvan\"]</td>\n",
       "      <td>...</td>\n",
       "      <td>2021-02-17</td>\n",
       "      <td>2021-02-10</td>\n",
       "      <td>3</td>\n",
       "      <td>0</td>\n",
       "      <td>0</td>\n",
       "      <td>0</td>\n",
       "      <td>0</td>\n",
       "      <td>0</td>\n",
       "      <td>0</td>\n",
       "      <td>62</td>\n",
       "    </tr>\n",
       "    <tr>\n",
       "      <th>4</th>\n",
       "      <td>2017-07-24</td>\n",
       "      <td>Monday</td>\n",
       "      <td>2017</td>\n",
       "      <td>4728</td>\n",
       "      <td>U0094376</td>\n",
       "      <td>Owner Operator</td>\n",
       "      <td>joes transportation</td>\n",
       "      <td>Norco</td>\n",
       "      <td>CA</td>\n",
       "      <td>[\"dryvan\"]</td>\n",
       "      <td>...</td>\n",
       "      <td>2017-10-11</td>\n",
       "      <td>2017-07-24</td>\n",
       "      <td>2</td>\n",
       "      <td>57</td>\n",
       "      <td>0</td>\n",
       "      <td>57</td>\n",
       "      <td>314</td>\n",
       "      <td>0</td>\n",
       "      <td>314</td>\n",
       "      <td>371</td>\n",
       "    </tr>\n",
       "  </tbody>\n",
       "</table>\n",
       "<p>5 rows × 30 columns</p>\n",
       "</div>"
      ],
      "text/plain": [
       "           dt    weekday  year  id_driver id_carrier_number dim_carrier_type  \\\n",
       "0  2019-12-16     Monday  2019      21350          U0109015   Owner Operator   \n",
       "1  2021-01-15     Friday  2021      36437          C0097727            Fleet   \n",
       "2  2019-12-26   Thursday  2019      19323          U0107081   Owner Operator   \n",
       "3  2021-02-10  Wednesday  2021      34809          C0094651            Fleet   \n",
       "4  2017-07-24     Monday  2017       4728          U0094376   Owner Operator   \n",
       "\n",
       "  dim_carrier_company_name home_base_city home_base_state  \\\n",
       "0            CA&F TRUCKING        Maywood              CA   \n",
       "1   New opportunities inc     Los Angeles              CA   \n",
       "2                      RAS        Compton              CA   \n",
       "3        NFS asset Drayage        Lynwood              CA   \n",
       "4      joes transportation          Norco              CA   \n",
       "\n",
       "              carrier_trucks  ...  most_recent_load_date    load_day loads  \\\n",
       "0              [\"poweronly\"]  ...             2021-02-17  2019-12-16     2   \n",
       "1  [\"poweronly\", \"boxtruck\"]  ...             2021-02-03  2021-01-15     1   \n",
       "2              [\"poweronly\"]  ...             2020-09-25  2019-12-26     1   \n",
       "3    [\"poweronly\", \"dryvan\"]  ...             2021-02-17  2021-02-10     3   \n",
       "4                 [\"dryvan\"]  ...             2017-10-11  2017-07-24     2   \n",
       "\n",
       "  marketplace_loads_otr marketplace_loads_atlas marketplace_loads  \\\n",
       "0                     0                     438               438   \n",
       "1                     2                      72                74   \n",
       "2                     0                     180               180   \n",
       "3                     0                       0                 0   \n",
       "4                    57                       0                57   \n",
       "\n",
       "   brokerage_loads_otr brokerage_loads_atlas brokerage_loads total_loads  \n",
       "0                    0                    45              45         483  \n",
       "1                    0                     1               1          75  \n",
       "2                    0                     2               2         182  \n",
       "3                    0                     0               0          62  \n",
       "4                  314                     0             314         371  \n",
       "\n",
       "[5 rows x 30 columns]"
      ]
     },
     "metadata": {},
     "output_type": "display_data"
    }
   ],
   "source": [
    "df = pd.read_csv(csv_path_1) # load the pandas dataframe\n",
    "df_score = pd.read_csv(csv_path_2)\n",
    "initial_cols_to_drop = [\"Unnamed: 0\",\"Unnamed: 0.1\", \"period\", \"test\", \"recent_date\", \"date\"] \n",
    "for col_name in initial_cols_to_drop: # drops columns that aren't supposed to be in dataset\n",
    "    try:\n",
    "        df = df.drop(columns=[col_name])\n",
    "        df_score = df_score.drop(columns=[col_name])\n",
    "    except:\n",
    "        continue\n",
    "#df = df.rename(columns={\"Unnamed: 0.1\": \"TODO_FIND_COLUMN_NAME_2\"})\n",
    "display(df.head())"
   ]
  },
  {
   "cell_type": "code",
   "execution_count": 13,
   "metadata": {},
   "outputs": [
    {
     "data": {
      "text/html": [
       "<div>\n",
       "<style scoped>\n",
       "    .dataframe tbody tr th:only-of-type {\n",
       "        vertical-align: middle;\n",
       "    }\n",
       "\n",
       "    .dataframe tbody tr th {\n",
       "        vertical-align: top;\n",
       "    }\n",
       "\n",
       "    .dataframe thead th {\n",
       "        text-align: right;\n",
       "    }\n",
       "</style>\n",
       "<table border=\"1\" class=\"dataframe\">\n",
       "  <thead>\n",
       "    <tr style=\"text-align: right;\">\n",
       "      <th></th>\n",
       "      <th>year</th>\n",
       "      <th>id_driver</th>\n",
       "      <th>num_trucks</th>\n",
       "      <th>days_signup_to_approval</th>\n",
       "      <th>loads</th>\n",
       "      <th>marketplace_loads_otr</th>\n",
       "      <th>marketplace_loads_atlas</th>\n",
       "      <th>marketplace_loads</th>\n",
       "      <th>brokerage_loads_otr</th>\n",
       "      <th>brokerage_loads_atlas</th>\n",
       "      <th>brokerage_loads</th>\n",
       "      <th>total_loads</th>\n",
       "    </tr>\n",
       "  </thead>\n",
       "  <tbody>\n",
       "    <tr>\n",
       "      <th>count</th>\n",
       "      <td>83414.000000</td>\n",
       "      <td>83414.000000</td>\n",
       "      <td>83344.000000</td>\n",
       "      <td>71124.000000</td>\n",
       "      <td>83414.000000</td>\n",
       "      <td>83414.000000</td>\n",
       "      <td>83414.000000</td>\n",
       "      <td>83414.000000</td>\n",
       "      <td>83414.000000</td>\n",
       "      <td>83414.000000</td>\n",
       "      <td>83414.000000</td>\n",
       "      <td>83414.000000</td>\n",
       "    </tr>\n",
       "    <tr>\n",
       "      <th>mean</th>\n",
       "      <td>2018.960930</td>\n",
       "      <td>18222.414954</td>\n",
       "      <td>22.582921</td>\n",
       "      <td>298.752489</td>\n",
       "      <td>2.076270</td>\n",
       "      <td>29.477762</td>\n",
       "      <td>71.579675</td>\n",
       "      <td>101.057436</td>\n",
       "      <td>148.258422</td>\n",
       "      <td>13.073021</td>\n",
       "      <td>161.331443</td>\n",
       "      <td>266.502661</td>\n",
       "    </tr>\n",
       "    <tr>\n",
       "      <th>std</th>\n",
       "      <td>1.359343</td>\n",
       "      <td>11667.704926</td>\n",
       "      <td>48.829719</td>\n",
       "      <td>390.345107</td>\n",
       "      <td>2.672163</td>\n",
       "      <td>88.171940</td>\n",
       "      <td>194.532776</td>\n",
       "      <td>214.502147</td>\n",
       "      <td>415.978060</td>\n",
       "      <td>42.241592</td>\n",
       "      <td>413.792137</td>\n",
       "      <td>448.806175</td>\n",
       "    </tr>\n",
       "    <tr>\n",
       "      <th>min</th>\n",
       "      <td>2015.000000</td>\n",
       "      <td>20.000000</td>\n",
       "      <td>1.000000</td>\n",
       "      <td>0.000000</td>\n",
       "      <td>1.000000</td>\n",
       "      <td>0.000000</td>\n",
       "      <td>0.000000</td>\n",
       "      <td>0.000000</td>\n",
       "      <td>0.000000</td>\n",
       "      <td>0.000000</td>\n",
       "      <td>0.000000</td>\n",
       "      <td>1.000000</td>\n",
       "    </tr>\n",
       "    <tr>\n",
       "      <th>25%</th>\n",
       "      <td>2018.000000</td>\n",
       "      <td>7890.000000</td>\n",
       "      <td>1.000000</td>\n",
       "      <td>0.000000</td>\n",
       "      <td>1.000000</td>\n",
       "      <td>0.000000</td>\n",
       "      <td>0.000000</td>\n",
       "      <td>0.000000</td>\n",
       "      <td>0.000000</td>\n",
       "      <td>0.000000</td>\n",
       "      <td>5.000000</td>\n",
       "      <td>37.000000</td>\n",
       "    </tr>\n",
       "    <tr>\n",
       "      <th>50%</th>\n",
       "      <td>2019.000000</td>\n",
       "      <td>16299.000000</td>\n",
       "      <td>4.000000</td>\n",
       "      <td>61.000000</td>\n",
       "      <td>1.000000</td>\n",
       "      <td>2.000000</td>\n",
       "      <td>0.000000</td>\n",
       "      <td>13.000000</td>\n",
       "      <td>15.000000</td>\n",
       "      <td>0.000000</td>\n",
       "      <td>37.000000</td>\n",
       "      <td>110.000000</td>\n",
       "    </tr>\n",
       "    <tr>\n",
       "      <th>75%</th>\n",
       "      <td>2020.000000</td>\n",
       "      <td>28974.000000</td>\n",
       "      <td>14.000000</td>\n",
       "      <td>497.000000</td>\n",
       "      <td>2.000000</td>\n",
       "      <td>23.000000</td>\n",
       "      <td>18.000000</td>\n",
       "      <td>94.000000</td>\n",
       "      <td>112.000000</td>\n",
       "      <td>1.000000</td>\n",
       "      <td>135.000000</td>\n",
       "      <td>325.000000</td>\n",
       "    </tr>\n",
       "    <tr>\n",
       "      <th>max</th>\n",
       "      <td>2021.000000</td>\n",
       "      <td>38125.000000</td>\n",
       "      <td>195.000000</td>\n",
       "      <td>1653.000000</td>\n",
       "      <td>129.000000</td>\n",
       "      <td>902.000000</td>\n",
       "      <td>1324.000000</td>\n",
       "      <td>1348.000000</td>\n",
       "      <td>4266.000000</td>\n",
       "      <td>371.000000</td>\n",
       "      <td>4266.000000</td>\n",
       "      <td>4266.000000</td>\n",
       "    </tr>\n",
       "  </tbody>\n",
       "</table>\n",
       "</div>"
      ],
      "text/plain": [
       "               year     id_driver    num_trucks  days_signup_to_approval  \\\n",
       "count  83414.000000  83414.000000  83344.000000             71124.000000   \n",
       "mean    2018.960930  18222.414954     22.582921               298.752489   \n",
       "std        1.359343  11667.704926     48.829719               390.345107   \n",
       "min     2015.000000     20.000000      1.000000                 0.000000   \n",
       "25%     2018.000000   7890.000000      1.000000                 0.000000   \n",
       "50%     2019.000000  16299.000000      4.000000                61.000000   \n",
       "75%     2020.000000  28974.000000     14.000000               497.000000   \n",
       "max     2021.000000  38125.000000    195.000000              1653.000000   \n",
       "\n",
       "              loads  marketplace_loads_otr  marketplace_loads_atlas  \\\n",
       "count  83414.000000           83414.000000             83414.000000   \n",
       "mean       2.076270              29.477762                71.579675   \n",
       "std        2.672163              88.171940               194.532776   \n",
       "min        1.000000               0.000000                 0.000000   \n",
       "25%        1.000000               0.000000                 0.000000   \n",
       "50%        1.000000               2.000000                 0.000000   \n",
       "75%        2.000000              23.000000                18.000000   \n",
       "max      129.000000             902.000000              1324.000000   \n",
       "\n",
       "       marketplace_loads  brokerage_loads_otr  brokerage_loads_atlas  \\\n",
       "count       83414.000000         83414.000000           83414.000000   \n",
       "mean          101.057436           148.258422              13.073021   \n",
       "std           214.502147           415.978060              42.241592   \n",
       "min             0.000000             0.000000               0.000000   \n",
       "25%             0.000000             0.000000               0.000000   \n",
       "50%            13.000000            15.000000               0.000000   \n",
       "75%            94.000000           112.000000               1.000000   \n",
       "max          1348.000000          4266.000000             371.000000   \n",
       "\n",
       "       brokerage_loads   total_loads  \n",
       "count     83414.000000  83414.000000  \n",
       "mean        161.331443    266.502661  \n",
       "std         413.792137    448.806175  \n",
       "min           0.000000      1.000000  \n",
       "25%           5.000000     37.000000  \n",
       "50%          37.000000    110.000000  \n",
       "75%         135.000000    325.000000  \n",
       "max        4266.000000   4266.000000  "
      ]
     },
     "execution_count": 13,
     "metadata": {},
     "output_type": "execute_result"
    }
   ],
   "source": [
    "df.describe()"
   ]
  },
  {
   "cell_type": "code",
   "execution_count": 14,
   "metadata": {},
   "outputs": [
    {
     "name": "stdout",
     "output_type": "stream",
     "text": [
      "<class 'pandas.core.frame.DataFrame'>\n",
      "RangeIndex: 83414 entries, 0 to 83413\n",
      "Data columns (total 30 columns):\n",
      " #   Column                    Non-Null Count  Dtype  \n",
      "---  ------                    --------------  -----  \n",
      " 0   dt                        83414 non-null  object \n",
      " 1   weekday                   83414 non-null  object \n",
      " 2   year                      83414 non-null  int64  \n",
      " 3   id_driver                 83414 non-null  int64  \n",
      " 4   id_carrier_number         83414 non-null  object \n",
      " 5   dim_carrier_type          83414 non-null  object \n",
      " 6   dim_carrier_company_name  83365 non-null  object \n",
      " 7   home_base_city            83369 non-null  object \n",
      " 8   home_base_state           83369 non-null  object \n",
      " 9   carrier_trucks            83414 non-null  object \n",
      " 10  num_trucks                83344 non-null  float64\n",
      " 11  interested_in_drayage     83414 non-null  object \n",
      " 12  port_qualified            83414 non-null  object \n",
      " 13  signup_source             83414 non-null  object \n",
      " 14  ts_signup                 83414 non-null  object \n",
      " 15  ts_first_approved         71124 non-null  object \n",
      " 16  days_signup_to_approval   71124 non-null  float64\n",
      " 17  driver_with_twic          83414 non-null  object \n",
      " 18  dim_preferred_lanes       3412 non-null   object \n",
      " 19  first_load_date           83414 non-null  object \n",
      " 20  most_recent_load_date     83414 non-null  object \n",
      " 21  load_day                  83414 non-null  object \n",
      " 22  loads                     83414 non-null  int64  \n",
      " 23  marketplace_loads_otr     83414 non-null  int64  \n",
      " 24  marketplace_loads_atlas   83414 non-null  int64  \n",
      " 25  marketplace_loads         83414 non-null  int64  \n",
      " 26  brokerage_loads_otr       83414 non-null  int64  \n",
      " 27  brokerage_loads_atlas     83414 non-null  int64  \n",
      " 28  brokerage_loads           83414 non-null  int64  \n",
      " 29  total_loads               83414 non-null  int64  \n",
      "dtypes: float64(2), int64(10), object(18)\n",
      "memory usage: 19.1+ MB\n"
     ]
    }
   ],
   "source": [
    "df.info()"
   ]
  },
  {
   "cell_type": "markdown",
   "metadata": {},
   "source": [
    "# 1. Generate Labels"
   ]
  },
  {
   "cell_type": "code",
   "execution_count": 15,
   "metadata": {},
   "outputs": [],
   "source": [
    "# converts date from csv to a python datetime object making it easier to work with\n",
    "def convert_dates(df):\n",
    "    dates_columns = ['most_recent_load_date', 'first_load_date', 'load_day', 'dt']\n",
    "    for col_name in dates_columns:\n",
    "        try:\n",
    "            df[col_name] = pd.to_datetime(df[col_name], format='%Y-%m-%d')\n",
    "        except:\n",
    "            continue\n",
    "\n",
    "convert_dates(df)\n",
    "convert_dates(df_score)"
   ]
  },
  {
   "cell_type": "code",
   "execution_count": 16,
   "metadata": {},
   "outputs": [
    {
     "data": {
      "text/plain": [
       "0   2021-02-17\n",
       "1   2021-02-03\n",
       "2   2020-09-25\n",
       "3   2021-02-17\n",
       "4   2017-10-11\n",
       "Name: most_recent_load_date, dtype: datetime64[ns]"
      ]
     },
     "execution_count": 16,
     "metadata": {},
     "output_type": "execute_result"
    }
   ],
   "source": [
    "df['most_recent_load_date'].head()"
   ]
  },
  {
   "cell_type": "code",
   "execution_count": 17,
   "metadata": {},
   "outputs": [
    {
     "name": "stdout",
     "output_type": "stream",
     "text": [
      "325.0\n",
      "2021-02-14 00:00:00\n"
     ]
    }
   ],
   "source": [
    "total_loads75 = df.total_loads.quantile(0.75) # finds 75th percentile of loads\n",
    "most_recent_load_date75 = df.most_recent_load_date.quantile(0.75) # finds 75th percentile of most recent load date\n",
    "\n",
    "print(total_loads75)\n",
    "print(most_recent_load_date75)\n",
    "\n",
    "\n",
    "# Manual Check\n",
    "# sorted_dts = sorted(list(df.most_recent_load_date))\n",
    "# quartile_estimate_index = int(len(sorted_dts)*0.75)\n",
    "# print(\"SORTED INDEX\", sorted_dts[quartile_estimate_index])"
   ]
  },
  {
   "cell_type": "code",
   "execution_count": 18,
   "metadata": {},
   "outputs": [],
   "source": [
    "# new_labels = {\"label\": {}}\n",
    "num_days_worked_dict = {}\n",
    "\n",
    "for index, row in df.iterrows(): # changes the labels in the label columns\n",
    "    # checks if the load and most recent load date are in the 75th percentile\n",
    "    if row[\"total_loads\"] >= total_loads75 and row[\"most_recent_load_date\"] >= most_recent_load_date75:\n",
    "        df.at[index, \"label\"] = 1\n",
    "    else:\n",
    "        df.at[index, \"label\"] = 0"
   ]
  },
  {
   "cell_type": "code",
   "execution_count": 19,
   "metadata": {},
   "outputs": [
    {
     "name": "stdout",
     "output_type": "stream",
     "text": [
      "Unique Values :  [0. 1.]\n",
      "Occurrence Count :  [73021 10393]\n"
     ]
    }
   ],
   "source": [
    "uniqueValues, occurCount = np.unique(np.array(df[\"label\"]), return_counts=True)\n",
    "print(\"Unique Values : \" , uniqueValues)\n",
    "print(\"Occurrence Count : \", occurCount)"
   ]
  },
  {
   "cell_type": "code",
   "execution_count": 20,
   "metadata": {},
   "outputs": [],
   "source": [
    "loc_arr = []\n",
    "for index, row in df.iterrows():\n",
    "    if pd.isnull(row[\"home_base_city\"]) != True and pd.isnull(row[\"home_base_state\"]) != True:\n",
    "        if (row[\"home_base_city\"], row[\"home_base_state\"]) not in loc_arr:\n",
    "            loc_arr.append((row[\"home_base_city\"], row[\"home_base_state\"]))\n",
    "            \n",
    "# for index, row in df.iterrows():\n",
    "#     try:\n",
    "#         x = len(row[\"home_base_city\"])\n",
    "#         x = len(row[\"home_base_state\"])\n",
    "#     except:\n",
    "#         index_num = random.randint(0, len(loc_arr)-1)\n",
    "#         df.at[index, \"home_base_city\"] = loc_arr[index_num][0]\n",
    "#         df.at[index, \"home_base_state\"] = loc_arr[index_num][1]"
   ]
  },
  {
   "cell_type": "code",
   "execution_count": 21,
   "metadata": {},
   "outputs": [
    {
     "name": "stdout",
     "output_type": "stream",
     "text": [
      "<class 'pandas.core.frame.DataFrame'>\n",
      "RangeIndex: 83414 entries, 0 to 83413\n",
      "Data columns (total 31 columns):\n",
      " #   Column                    Non-Null Count  Dtype         \n",
      "---  ------                    --------------  -----         \n",
      " 0   dt                        83414 non-null  datetime64[ns]\n",
      " 1   weekday                   83414 non-null  object        \n",
      " 2   year                      83414 non-null  int64         \n",
      " 3   id_driver                 83414 non-null  int64         \n",
      " 4   id_carrier_number         83414 non-null  object        \n",
      " 5   dim_carrier_type          83414 non-null  object        \n",
      " 6   dim_carrier_company_name  83365 non-null  object        \n",
      " 7   home_base_city            83369 non-null  object        \n",
      " 8   home_base_state           83369 non-null  object        \n",
      " 9   carrier_trucks            83414 non-null  object        \n",
      " 10  num_trucks                83344 non-null  float64       \n",
      " 11  interested_in_drayage     83414 non-null  object        \n",
      " 12  port_qualified            83414 non-null  object        \n",
      " 13  signup_source             83414 non-null  object        \n",
      " 14  ts_signup                 83414 non-null  object        \n",
      " 15  ts_first_approved         71124 non-null  object        \n",
      " 16  days_signup_to_approval   71124 non-null  float64       \n",
      " 17  driver_with_twic          83414 non-null  object        \n",
      " 18  dim_preferred_lanes       3412 non-null   object        \n",
      " 19  first_load_date           83414 non-null  datetime64[ns]\n",
      " 20  most_recent_load_date     83414 non-null  datetime64[ns]\n",
      " 21  load_day                  83414 non-null  datetime64[ns]\n",
      " 22  loads                     83414 non-null  int64         \n",
      " 23  marketplace_loads_otr     83414 non-null  int64         \n",
      " 24  marketplace_loads_atlas   83414 non-null  int64         \n",
      " 25  marketplace_loads         83414 non-null  int64         \n",
      " 26  brokerage_loads_otr       83414 non-null  int64         \n",
      " 27  brokerage_loads_atlas     83414 non-null  int64         \n",
      " 28  brokerage_loads           83414 non-null  int64         \n",
      " 29  total_loads               83414 non-null  int64         \n",
      " 30  label                     83414 non-null  float64       \n",
      "dtypes: datetime64[ns](4), float64(3), int64(10), object(14)\n",
      "memory usage: 19.7+ MB\n"
     ]
    }
   ],
   "source": [
    "df.info()"
   ]
  },
  {
   "cell_type": "code",
   "execution_count": 22,
   "metadata": {},
   "outputs": [],
   "source": [
    "groups = df.groupby(\"id_driver\")"
   ]
  },
  {
   "cell_type": "code",
   "execution_count": 23,
   "metadata": {},
   "outputs": [],
   "source": [
    "# NO: dt, weekday, year, id_carrier_number, dim_preferred_lanes, load_day, loads\n",
    "new_arr = []\n",
    "for key, group in groups:\n",
    "    group.sort_values(by=\"load_day\", ascending=False, inplace=True)\n",
    "    temp_arr = []\n",
    "    temp_arr.append(key)\n",
    "    \n",
    "    if group[\"dim_carrier_type\"].nunique() == 2:\n",
    "        temp_arr.append(\"Both\")\n",
    "    elif group[\"dim_carrier_type\"].nunique() == 0:\n",
    "        temp_arr.append(None)\n",
    "    else:\n",
    "        temp_arr.append((group[\"dim_carrier_type\"].iloc[0]))\n",
    "    \n",
    "    \n",
    "    idxmax_cols = [\"dim_carrier_company_name\", \n",
    "                   \"carrier_trucks\", \"signup_source\", \"ts_signup\", \"ts_first_approved\",\n",
    "                  \"days_signup_to_approval\"] #\"home_base_city\", \"home_base_state\",\n",
    "    \n",
    "    for col in idxmax_cols:\n",
    "        try:\n",
    "            temp_arr.append(group[col].value_counts().dropna(how=\"any\").idxmax())\n",
    "        except:\n",
    "            \n",
    "            temp_arr.append(None)\n",
    "    \n",
    "    try:\n",
    "        x = len(group[\"home_base_city\"].dropna(how=\"any\").iloc[0])\n",
    "        x = len(group[\"home_base_state\"].dropna(how=\"any\").iloc[0])\n",
    "        temp_arr.append(group[\"home_base_city\"].dropna(how=\"any\").iloc[0])\n",
    "        temp_arr.append(group[\"home_base_state\"].dropna(how=\"any\").iloc[0])\n",
    "    except:\n",
    "        index_num = random.randint(0, len(loc_arr)-1)\n",
    "        temp_arr.append(loc_arr[index_num][0])\n",
    "        temp_arr.append(loc_arr[index_num][1])\n",
    "        \n",
    "    \n",
    "    \n",
    "    try:\n",
    "        temp_arr.append(group[\"num_trucks\"].dropna(how=\"any\").mean())\n",
    "    except:\n",
    "        temp_arr.append(None)\n",
    "        \n",
    "    iloc_cols = [\"interested_in_drayage\", \"port_qualified\", \"driver_with_twic\", \n",
    "                 \"first_load_date\", \"most_recent_load_date\", \"marketplace_loads_otr\", \n",
    "                 \"marketplace_loads_atlas\", \"marketplace_loads\", \"brokerage_loads_otr\",\n",
    "                 \"brokerage_loads_atlas\", \"brokerage_loads\", \"total_loads\"]\n",
    "    for col in iloc_cols:\n",
    "        try:\n",
    "            temp_arr.append(group[col].dropna(how=\"any\").iloc[0])\n",
    "        except:\n",
    "            temp_arr.append(None)\n",
    "    \n",
    "    temp_arr.append(group.shape[0])\n",
    "    \n",
    "    temp_arr.append(((pd.to_datetime(date.today()) - group[\"most_recent_load_date\"].dropna(how=\"any\").iloc[0]).days) * (-1))\n",
    "    \n",
    "    temp_arr.append(group[\"label\"].value_counts().dropna(how=\"any\").idxmax())\n",
    "    \n",
    "    new_arr.append(np.array(temp_arr))"
   ]
  },
  {
   "cell_type": "code",
   "execution_count": 24,
   "metadata": {},
   "outputs": [],
   "source": [
    "column_names = [\"id_driver\", \"dim_carrier_type\", \"dim_carrier_company_name\", \n",
    "                \"carrier_trucks\", \"signup_source\", \"ts_signup\", \"ts_first_approved\",\n",
    "                \"days_signup_to_approval\", \"home_base_city\", \"home_base_state\", \"num_trucks\", \n",
    "                \"interested_in_drayage\", \"port_qualified\", \"driver_with_twic\", \n",
    "                \"first_load_date\", \"most_recent_load_date\", \"marketplace_loads_otr\", \n",
    "                \"marketplace_loads_atlas\", \"marketplace_loads\", \"brokerage_loads_otr\",\n",
    "                \"brokerage_loads_atlas\", \"brokerage_loads\", \"total_loads\", \"num_trips_made\", \n",
    "                \"days_since_last_load\", \"label\"]\n",
    "\n",
    "df = pd.DataFrame(np.array(new_arr), columns=column_names)"
   ]
  },
  {
   "cell_type": "code",
   "execution_count": 25,
   "metadata": {},
   "outputs": [],
   "source": [
    "# convert = [\"id_driver\", \"days_signup_to_approval\", \"marketplace_loads_otr\", \n",
    "#                \"marketplace_loads_atlas\", \"marketplace_loads\", \"brokerage_loads_otr\",\n",
    "#                \"brokerage_loads_atlas\", \"brokerage_loads\", \"total_loads\", \"num_trips_made\", \"label\",\n",
    "#                \"num_trucks\", \"dim_carrier_type\", \"dim_carrier_company_name\", \"home_base_city\", \"home_base_state\",\n",
    "#                \"interested_in_drayage\", \"port_qualified\", \"signup_source\", \"driver_with_twic\"]\n",
    "for col in column_names:\n",
    "    try:\n",
    "        df[col] = df[col].convert_dtypes()\n",
    "    except:\n",
    "        continue"
   ]
  },
  {
   "cell_type": "code",
   "execution_count": 26,
   "metadata": {},
   "outputs": [],
   "source": [
    "# # NO: dt, weekday, year, id_carrier_number, dim_preferred_lanes, load_day, loads\n",
    "new_dict = {}\n",
    "label_dict = {}\n",
    "most_recent_date_arr = []\n",
    "num_trips_arr = []\n",
    "for key, group in groups:\n",
    "    group.sort_values(by=\"load_day\", ascending=False, inplace=True)\n",
    "    if key not in new_dict:\n",
    "        try:\n",
    "            new_dict[key] = (group[\"load_day\"].dropna(how=\"any\").iloc[0], group.shape[0])\n",
    "        except:\n",
    "            new_dict[key] = None\n",
    "        \n",
    "        try:\n",
    "            label_dict[key] = group[\"label\"].dropna(how=\"any\").iloc[0]\n",
    "        except:\n",
    "            label_dict[key] = 1\n",
    "\n",
    "# for index, row in df.iterrows():\n",
    "#     most_recent_date_arr.append(new_dict[row[\"id_driver\"]][0])\n",
    "#     num_trips_arr.append(new_dict[row[\"id_driver\"]][1])\n",
    "# df[\"num_trips_made\"] = np.array(num_trips_arr)"
   ]
  },
  {
   "cell_type": "code",
   "execution_count": 27,
   "metadata": {},
   "outputs": [
    {
     "name": "stdout",
     "output_type": "stream",
     "text": [
      "<class 'pandas.core.frame.DataFrame'>\n",
      "RangeIndex: 5291 entries, 0 to 5290\n",
      "Data columns (total 26 columns):\n",
      " #   Column                    Non-Null Count  Dtype         \n",
      "---  ------                    --------------  -----         \n",
      " 0   id_driver                 5291 non-null   Int64         \n",
      " 1   dim_carrier_type          5291 non-null   string        \n",
      " 2   dim_carrier_company_name  5284 non-null   string        \n",
      " 3   carrier_trucks            5291 non-null   string        \n",
      " 4   signup_source             5291 non-null   string        \n",
      " 5   ts_signup                 5291 non-null   string        \n",
      " 6   ts_first_approved         3962 non-null   string        \n",
      " 7   days_signup_to_approval   3962 non-null   Int64         \n",
      " 8   home_base_city            5291 non-null   string        \n",
      " 9   home_base_state           5291 non-null   string        \n",
      " 10  num_trucks                5249 non-null   float64       \n",
      " 11  interested_in_drayage     5291 non-null   string        \n",
      " 12  port_qualified            5291 non-null   string        \n",
      " 13  driver_with_twic          5291 non-null   string        \n",
      " 14  first_load_date           5291 non-null   datetime64[ns]\n",
      " 15  most_recent_load_date     5291 non-null   datetime64[ns]\n",
      " 16  marketplace_loads_otr     5291 non-null   Int64         \n",
      " 17  marketplace_loads_atlas   5291 non-null   Int64         \n",
      " 18  marketplace_loads         5291 non-null   Int64         \n",
      " 19  brokerage_loads_otr       5291 non-null   Int64         \n",
      " 20  brokerage_loads_atlas     5291 non-null   Int64         \n",
      " 21  brokerage_loads           5291 non-null   Int64         \n",
      " 22  total_loads               5291 non-null   Int64         \n",
      " 23  num_trips_made            5291 non-null   Int64         \n",
      " 24  days_since_last_load      5291 non-null   Int64         \n",
      " 25  label                     5291 non-null   Int64         \n",
      "dtypes: Int64(12), datetime64[ns](2), float64(1), string(11)\n",
      "memory usage: 1.1 MB\n"
     ]
    }
   ],
   "source": [
    "df.info()"
   ]
  },
  {
   "cell_type": "code",
   "execution_count": 28,
   "metadata": {},
   "outputs": [
    {
     "data": {
      "text/plain": [
       "count    5291.000000\n",
       "mean        0.010395\n",
       "std         0.101434\n",
       "min         0.000000\n",
       "25%         0.000000\n",
       "50%         0.000000\n",
       "75%         0.000000\n",
       "max         1.000000\n",
       "Name: label, dtype: float64"
      ]
     },
     "execution_count": 28,
     "metadata": {},
     "output_type": "execute_result"
    }
   ],
   "source": [
    "df[\"label\"].describe()"
   ]
  },
  {
   "cell_type": "code",
   "execution_count": 29,
   "metadata": {},
   "outputs": [],
   "source": [
    "groups = df_score.groupby(\"id_driver\")"
   ]
  },
  {
   "cell_type": "code",
   "execution_count": 30,
   "metadata": {},
   "outputs": [],
   "source": [
    "# # NO: dt, weekday, year, id_carrier_number, dim_preferred_lanes, load_day, loads\n",
    "# new_arr = []\n",
    "# for key, group in groups:\n",
    "#     group.sort_values(by=\"load_day\", ascending=False, inplace=True)\n",
    "#     temp_arr = []\n",
    "#     temp_arr.append(key)\n",
    "    \n",
    "#     if group[\"dim_carrier_type\"].nunique() == 2:\n",
    "#         temp_arr.append(\"Both\")\n",
    "#     elif group[\"dim_carrier_type\"].nunique() == 0:\n",
    "#         temp_arr.append(None)\n",
    "#     else:\n",
    "#         temp_arr.append((group[\"dim_carrier_type\"].iloc[0]))\n",
    "    \n",
    "    \n",
    "#     idxmax_cols = [\"dim_carrier_company_name\", \n",
    "#                    \"carrier_trucks\", \"signup_source\", \"ts_signup\", \"ts_first_approved\",\n",
    "#                   \"days_signup_to_approval\"]\n",
    "    \n",
    "#     for col in idxmax_cols:\n",
    "#         try:\n",
    "#             temp_arr.append(group[col].value_counts().dropna(how=\"any\").idxmax())\n",
    "#         except:\n",
    "#             temp_arr.append(None)\n",
    "            \n",
    "    \n",
    "#     try:\n",
    "#         x = len(group[\"home_base_city\"].dropna(how=\"any\").iloc[0])\n",
    "#         x = len(group[\"home_base_state\"].dropna(how=\"any\").iloc[0])\n",
    "#         temp_arr.append(group[\"home_base_city\"].dropna(how=\"any\").iloc[0])\n",
    "#         temp_arr.append(group[\"home_base_state\"].dropna(how=\"any\").iloc[0])\n",
    "#     except:\n",
    "#         index_num = random.randint(0, len(loc_arr)-1)\n",
    "#         temp_arr.append(loc_arr[index_num][0])\n",
    "#         temp_arr.append(loc_arr[index_num][1])\n",
    "    \n",
    "    \n",
    "#     try:\n",
    "#         temp_arr.append(group[\"num_trucks\"].dropna(how=\"any\").mean())\n",
    "#     except:\n",
    "#         temp_arr.append(None)\n",
    "        \n",
    "#     iloc_cols = [\"interested_in_drayage\", \"port_qualified\", \"driver_with_twic\", \n",
    "#                  \"first_load_date\", \"load_day\", \"marketplace_loads_otr\", \n",
    "#                  \"marketplace_loads_atlas\", \"marketplace_loads\", \"brokerage_loads_otr\",\n",
    "#                  \"brokerage_loads_atlas\", \"brokerage_loads\"]\n",
    "#     for col in iloc_cols:\n",
    "#         try:\n",
    "#             temp_arr.append(group[col].dropna(how=\"any\").iloc[0])\n",
    "#         except:\n",
    "#             temp_arr.append(None)\n",
    "            \n",
    "#     temp_arr.append(group.shape[0])\n",
    "    \n",
    "#     temp_arr.append(((pd.to_datetime(date.today()) - group[\"load_day\"].dropna(how=\"any\").iloc[0]).days) * (-1))\n",
    "    \n",
    "#     new_arr.append(np.array(temp_arr))"
   ]
  },
  {
   "cell_type": "code",
   "execution_count": 31,
   "metadata": {},
   "outputs": [],
   "source": [
    "# column_names = [\"id_driver\", \"dim_carrier_type\", \"dim_carrier_company_name\", \n",
    "#                 \"carrier_trucks\", \"signup_source\", \"ts_signup\", \"ts_first_approved\",\n",
    "#                 \"days_signup_to_approval\", \"home_base_city\", \"home_base_state\", \"num_trucks\", \n",
    "#                 \"interested_in_drayage\", \"port_qualified\", \"driver_with_twic\", \n",
    "#                 \"first_load_date\", \"most_recent_load_date\", \"marketplace_loads_otr\", \n",
    "#                 \"marketplace_loads_atlas\", \"marketplace_loads\", \"brokerage_loads_otr\",\n",
    "#                 \"brokerage_loads_atlas\", \"brokerage_loads\", \"num_trips_made\", \n",
    "#                 \"days_since_last_load\"]\n",
    "\n",
    "# df_score = pd.DataFrame(np.array(new_arr), columns=column_names)"
   ]
  },
  {
   "cell_type": "code",
   "execution_count": 32,
   "metadata": {},
   "outputs": [],
   "source": [
    "# convert = [\"id_driver\", \"days_signup_to_approval\", \"marketplace_loads_otr\", \n",
    "#                \"marketplace_loads_atlas\", \"marketplace_loads\", \"brokerage_loads_otr\",\n",
    "#                \"brokerage_loads_atlas\", \"brokerage_loads\", \"num_trips_made\",\n",
    "#                \"num_trucks\", \"dim_carrier_type\", \"dim_carrier_company_name\", \"home_base_city\", \"home_base_state\",\n",
    "#                \"interested_in_drayage\", \"port_qualified\", \"signup_source\", \"driver_with_twic\"]\n",
    "# for col in column_names:\n",
    "#     try:\n",
    "#         df_score[col] = df_score[col].convert_dtypes()\n",
    "#     except:\n",
    "#         continue"
   ]
  },
  {
   "cell_type": "code",
   "execution_count": 33,
   "metadata": {},
   "outputs": [
    {
     "name": "stdout",
     "output_type": "stream",
     "text": [
      "Not here:  13711\n",
      "Not here:  31557\n",
      "Not here:  16642\n",
      "Not here:  13761\n",
      "Not here:  8205\n",
      "Not here:  35572\n",
      "Not here:  7623\n",
      "Not here:  31873\n",
      "Not here:  12429\n",
      "Not here:  1288\n",
      "Not here:  29653\n",
      "Not here:  20357\n",
      "Not here:  15073\n",
      "Not here:  29070\n",
      "Not here:  10359\n",
      "Not here:  11514\n",
      "Not here:  35563\n",
      "Not here:  7594\n",
      "Not here:  26545\n"
     ]
    }
   ],
   "source": [
    "# # NO: dt, weekday, year, id_carrier_number, dim_preferred_lanes, load_day, loads\n",
    "new_dict = {}\n",
    "most_recent_date_arr = []\n",
    "num_trips_arr = []\n",
    "score_labels = []\n",
    "days_since_last_work_arr = []\n",
    "trips_dict = {}\n",
    "for key, group in groups:\n",
    "    group.sort_values(by=\"load_day\", ascending=False, inplace=True)\n",
    "    if key not in new_dict:\n",
    "        try:\n",
    "            new_dict[key] = (group[\"load_day\"].dropna(how=\"any\").iloc[0], group.shape[0])\n",
    "        except:\n",
    "            new_dict[key] = None\n",
    "    if key not in trips_dict:\n",
    "        trips_dict[key] = group.shape[0]\n",
    "\n",
    "for index, row in df_score.iterrows():\n",
    "    most_recent_date_arr.append(new_dict[row[\"id_driver\"]][0])\n",
    "    num_trips_arr.append(new_dict[row[\"id_driver\"]][1])\n",
    "    if row[\"id_driver\"] in label_dict:\n",
    "        score_labels.append(label_dict[row[\"id_driver\"]])\n",
    "    else:\n",
    "        print(\"Not here: \", row[\"id_driver\"])\n",
    "        rand_num = random.randint(0, 1000)\n",
    "        if rand_num <= 125:\n",
    "            score_labels.append(1)\n",
    "            label_dict[row[\"id_driver\"]] = 1\n",
    "        else:\n",
    "            score_labels.append(0)\n",
    "            label_dict[row[\"id_driver\"]] = 0\n",
    "            \n",
    "    try:\n",
    "        x = len(row[\"home_base_city\"])\n",
    "        x = len(row[\"home_base_state\"])\n",
    "    except:\n",
    "        index_num = random.randint(0, len(loc_arr)-1)\n",
    "        df_score.at[index, \"home_base_city\"] = loc_arr[index_num][0]\n",
    "        df_score.at[index, \"home_base_state\"] = loc_arr[index_num][1]\n",
    "        \n",
    "    days_since_last_work_arr.append(((pd.to_datetime(date.today()) - row[\"load_day\"]).days) * (-1))\n",
    "\n",
    "score_labels = np.array(score_labels)\n",
    "df_score[\"most_recent_load_date\"] = np.array(most_recent_date_arr)\n",
    "df_score[\"num_trips_made\"] = np.array(num_trips_arr)\n",
    "df_score[\"days_since_last_load\"] = np.array(days_since_last_work_arr)"
   ]
  },
  {
   "cell_type": "code",
   "execution_count": 34,
   "metadata": {},
   "outputs": [
    {
     "name": "stdout",
     "output_type": "stream",
     "text": [
      "<class 'pandas.core.frame.DataFrame'>\n",
      "RangeIndex: 1000 entries, 0 to 999\n",
      "Data columns (total 24 columns):\n",
      " #   Column                    Non-Null Count  Dtype         \n",
      "---  ------                    --------------  -----         \n",
      " 0   id_driver                 1000 non-null   int64         \n",
      " 1   dim_carrier_type          1000 non-null   object        \n",
      " 2   dim_carrier_company_name  1000 non-null   object        \n",
      " 3   home_base_city            1000 non-null   object        \n",
      " 4   home_base_state           1000 non-null   object        \n",
      " 5   carrier_trucks            1000 non-null   object        \n",
      " 6   num_trucks                1000 non-null   float64       \n",
      " 7   interested_in_drayage     1000 non-null   object        \n",
      " 8   port_qualified            1000 non-null   object        \n",
      " 9   signup_source             1000 non-null   object        \n",
      " 10  ts_signup                 1000 non-null   object        \n",
      " 11  ts_first_approved         854 non-null    object        \n",
      " 12  days_signup_to_approval   854 non-null    float64       \n",
      " 13  driver_with_twic          1000 non-null   object        \n",
      " 14  first_load_date           1000 non-null   datetime64[ns]\n",
      " 15  marketplace_loads_otr     1000 non-null   int64         \n",
      " 16  marketplace_loads_atlas   1000 non-null   int64         \n",
      " 17  marketplace_loads         1000 non-null   int64         \n",
      " 18  brokerage_loads_otr       1000 non-null   int64         \n",
      " 19  brokerage_loads_atlas     1000 non-null   int64         \n",
      " 20  brokerage_loads           1000 non-null   int64         \n",
      " 21  most_recent_load_date     1000 non-null   datetime64[ns]\n",
      " 22  num_trips_made            1000 non-null   int32         \n",
      " 23  days_since_last_load      1000 non-null   int32         \n",
      "dtypes: datetime64[ns](2), float64(2), int32(2), int64(7), object(11)\n",
      "memory usage: 179.8+ KB\n"
     ]
    }
   ],
   "source": [
    "column_names = [\"id_driver\", \"dim_carrier_type\", \"dim_carrier_company_name\", \n",
    "                \"carrier_trucks\", \"signup_source\", \"ts_signup\", \"ts_first_approved\",\n",
    "                \"days_signup_to_approval\", \"home_base_city\", \"home_base_state\", \"num_trucks\", \n",
    "                \"interested_in_drayage\", \"port_qualified\", \"driver_with_twic\", \n",
    "                \"first_load_date\", \"most_recent_load_date\", \"marketplace_loads_otr\", \n",
    "                \"marketplace_loads_atlas\", \"marketplace_loads\", \"brokerage_loads_otr\",\n",
    "                \"brokerage_loads_atlas\", \"brokerage_loads\", \"num_trips_made\", \n",
    "                \"days_since_last_load\"]\n",
    "\n",
    "df_temp = df_score.drop(columns = column_names)\n",
    "to_drop = list(df_temp.columns.values)\n",
    "df_score = df_score.drop(columns=to_drop)\n",
    "df_score.info()"
   ]
  },
  {
   "cell_type": "code",
   "execution_count": 35,
   "metadata": {},
   "outputs": [],
   "source": [
    "for col in column_names:\n",
    "    try:\n",
    "        df_score[col] = df_score[col].convert_dtypes()\n",
    "    except:\n",
    "        continue"
   ]
  },
  {
   "cell_type": "code",
   "execution_count": 36,
   "metadata": {},
   "outputs": [
    {
     "data": {
      "text/plain": [
       "0      4\n",
       "1      1\n",
       "2      1\n",
       "3      3\n",
       "4      1\n",
       "      ..\n",
       "995    1\n",
       "996    3\n",
       "997    1\n",
       "998    1\n",
       "999    1\n",
       "Name: num_trips_made, Length: 1000, dtype: Int32"
      ]
     },
     "metadata": {},
     "output_type": "display_data"
    }
   ],
   "source": [
    "display(df_score[\"num_trips_made\"])"
   ]
  },
  {
   "cell_type": "code",
   "execution_count": 37,
   "metadata": {},
   "outputs": [
    {
     "name": "stdout",
     "output_type": "stream",
     "text": [
      "<class 'pandas.core.frame.DataFrame'>\n",
      "RangeIndex: 1000 entries, 0 to 999\n",
      "Data columns (total 24 columns):\n",
      " #   Column                    Non-Null Count  Dtype         \n",
      "---  ------                    --------------  -----         \n",
      " 0   id_driver                 1000 non-null   Int64         \n",
      " 1   dim_carrier_type          1000 non-null   string        \n",
      " 2   dim_carrier_company_name  1000 non-null   string        \n",
      " 3   home_base_city            1000 non-null   string        \n",
      " 4   home_base_state           1000 non-null   string        \n",
      " 5   carrier_trucks            1000 non-null   string        \n",
      " 6   num_trucks                1000 non-null   Int64         \n",
      " 7   interested_in_drayage     1000 non-null   string        \n",
      " 8   port_qualified            1000 non-null   string        \n",
      " 9   signup_source             1000 non-null   string        \n",
      " 10  ts_signup                 1000 non-null   string        \n",
      " 11  ts_first_approved         854 non-null    string        \n",
      " 12  days_signup_to_approval   854 non-null    Int64         \n",
      " 13  driver_with_twic          1000 non-null   string        \n",
      " 14  first_load_date           1000 non-null   datetime64[ns]\n",
      " 15  marketplace_loads_otr     1000 non-null   Int64         \n",
      " 16  marketplace_loads_atlas   1000 non-null   Int64         \n",
      " 17  marketplace_loads         1000 non-null   Int64         \n",
      " 18  brokerage_loads_otr       1000 non-null   Int64         \n",
      " 19  brokerage_loads_atlas     1000 non-null   Int64         \n",
      " 20  brokerage_loads           1000 non-null   Int64         \n",
      " 21  most_recent_load_date     1000 non-null   datetime64[ns]\n",
      " 22  num_trips_made            1000 non-null   Int32         \n",
      " 23  days_since_last_load      1000 non-null   Int32         \n",
      "dtypes: Int32(2), Int64(9), datetime64[ns](2), string(11)\n",
      "memory usage: 190.6 KB\n"
     ]
    }
   ],
   "source": [
    "df_score.info()"
   ]
  },
  {
   "cell_type": "code",
   "execution_count": 38,
   "metadata": {},
   "outputs": [],
   "source": [
    "# # NO: dt, weekday, year, id_carrier_number, dim_preferred_lanes, load_day, loads\n",
    "\n",
    "\n",
    "\n",
    "# [\"id_driver\", \"dim_carrier_type\", \"dim_carrier_company_name\", \"home_base_city\", \"home_base_state\", \n",
    "#                 \"carrier_trucks\", \"signup_source\", \"ts_signup\", \"ts_first_approved\",\n",
    "#                 \"days_signup_to_approval\", \"num_trucks\", \"interested_in_drayage\", \n",
    "#                 \"port_qualified\", \"driver_with_twic\", \n",
    "#                 \"first_load_date\", \"most_recent_load_date\", \"marketplace_loads_otr\", \n",
    "#                 \"marketplace_loads_atlas\", \"marketplace_loads\", \"brokerage_loads_otr\",\n",
    "#                 \"brokerage_loads_atlas\", \"brokerage_loads\", \"total_loads\", \"num_trips_made\", \"label\"]\n",
    "\n",
    "drop_cols = [\"dt\", \"weekday\", \"year\", \"id_carrier_number\", \"dim_preferred_lanes\", \"load_day\", \"loads\"]\n",
    "for col in drop_cols:\n",
    "    try:\n",
    "        df_score = df_score.drop(columns=[col])\n",
    "    except:\n",
    "        continue\n",
    "\n",
    "for col in drop_cols:\n",
    "    try:\n",
    "        df = df.drop(columns=[col])\n",
    "    except:\n",
    "        continue"
   ]
  },
  {
   "cell_type": "code",
   "execution_count": 39,
   "metadata": {},
   "outputs": [
    {
     "name": "stdout",
     "output_type": "stream",
     "text": [
      "<class 'pandas.core.frame.DataFrame'>\n",
      "RangeIndex: 1000 entries, 0 to 999\n",
      "Data columns (total 24 columns):\n",
      " #   Column                    Non-Null Count  Dtype         \n",
      "---  ------                    --------------  -----         \n",
      " 0   id_driver                 1000 non-null   Int64         \n",
      " 1   dim_carrier_type          1000 non-null   string        \n",
      " 2   dim_carrier_company_name  1000 non-null   string        \n",
      " 3   home_base_city            1000 non-null   string        \n",
      " 4   home_base_state           1000 non-null   string        \n",
      " 5   carrier_trucks            1000 non-null   string        \n",
      " 6   num_trucks                1000 non-null   Int64         \n",
      " 7   interested_in_drayage     1000 non-null   string        \n",
      " 8   port_qualified            1000 non-null   string        \n",
      " 9   signup_source             1000 non-null   string        \n",
      " 10  ts_signup                 1000 non-null   string        \n",
      " 11  ts_first_approved         854 non-null    string        \n",
      " 12  days_signup_to_approval   854 non-null    Int64         \n",
      " 13  driver_with_twic          1000 non-null   string        \n",
      " 14  first_load_date           1000 non-null   datetime64[ns]\n",
      " 15  marketplace_loads_otr     1000 non-null   Int64         \n",
      " 16  marketplace_loads_atlas   1000 non-null   Int64         \n",
      " 17  marketplace_loads         1000 non-null   Int64         \n",
      " 18  brokerage_loads_otr       1000 non-null   Int64         \n",
      " 19  brokerage_loads_atlas     1000 non-null   Int64         \n",
      " 20  brokerage_loads           1000 non-null   Int64         \n",
      " 21  most_recent_load_date     1000 non-null   datetime64[ns]\n",
      " 22  num_trips_made            1000 non-null   Int32         \n",
      " 23  days_since_last_load      1000 non-null   Int32         \n",
      "dtypes: Int32(2), Int64(9), datetime64[ns](2), string(11)\n",
      "memory usage: 190.6 KB\n"
     ]
    }
   ],
   "source": [
    "df_score.info()"
   ]
  },
  {
   "cell_type": "markdown",
   "metadata": {},
   "source": [
    "# 3. Basic Statistics"
   ]
  },
  {
   "cell_type": "code",
   "execution_count": 40,
   "metadata": {},
   "outputs": [
    {
     "name": "stdout",
     "output_type": "stream",
     "text": [
      "id_driver\n"
     ]
    },
    {
     "data": {
      "text/plain": [
       "id_driver                  1.000000\n",
       "days_since_last_load       0.839446\n",
       "num_trucks                 0.169567\n",
       "brokerage_loads_atlas      0.145307\n",
       "marketplace_loads_atlas    0.138116\n",
       "marketplace_loads          0.123344\n",
       "label                      0.075683\n",
       "total_loads                0.052722\n",
       "num_trips_made             0.018007\n",
       "marketplace_loads_otr     -0.012441\n",
       "brokerage_loads           -0.037352\n",
       "brokerage_loads_otr       -0.063795\n",
       "days_signup_to_approval   -0.734778\n",
       "Name: id_driver, dtype: float64"
      ]
     },
     "metadata": {},
     "output_type": "display_data"
    },
    {
     "name": "stdout",
     "output_type": "stream",
     "text": [
      "---------------------------------------------------------------------\n",
      "dim_carrier_type\n",
      "dim_carrier_type is not of type integer\n",
      "---------------------------------------------------------------------\n",
      "dim_carrier_company_name\n",
      "dim_carrier_company_name is not of type integer\n",
      "---------------------------------------------------------------------\n",
      "carrier_trucks\n",
      "carrier_trucks is not of type integer\n",
      "---------------------------------------------------------------------\n",
      "signup_source\n",
      "signup_source is not of type integer\n",
      "---------------------------------------------------------------------\n",
      "ts_signup\n",
      "ts_signup is not of type integer\n",
      "---------------------------------------------------------------------\n",
      "ts_first_approved\n",
      "ts_first_approved is not of type integer\n",
      "---------------------------------------------------------------------\n",
      "days_signup_to_approval\n"
     ]
    },
    {
     "data": {
      "text/plain": [
       "days_signup_to_approval    1.000000\n",
       "brokerage_loads_otr        0.048116\n",
       "brokerage_loads            0.027929\n",
       "num_trips_made             0.010462\n",
       "marketplace_loads_otr      0.007436\n",
       "total_loads               -0.043765\n",
       "num_trucks                -0.053498\n",
       "label                     -0.064084\n",
       "marketplace_loads         -0.089268\n",
       "brokerage_loads_atlas     -0.092088\n",
       "marketplace_loads_atlas   -0.099058\n",
       "days_since_last_load      -0.628732\n",
       "id_driver                 -0.734778\n",
       "Name: days_signup_to_approval, dtype: float64"
      ]
     },
     "metadata": {},
     "output_type": "display_data"
    },
    {
     "name": "stdout",
     "output_type": "stream",
     "text": [
      "---------------------------------------------------------------------\n",
      "home_base_city\n",
      "home_base_city is not of type integer\n",
      "---------------------------------------------------------------------\n",
      "home_base_state\n",
      "home_base_state is not of type integer\n",
      "---------------------------------------------------------------------\n",
      "num_trucks\n"
     ]
    },
    {
     "data": {
      "text/plain": [
       "num_trucks                 1.000000\n",
       "id_driver                  0.169567\n",
       "days_since_last_load       0.163449\n",
       "num_trips_made             0.059784\n",
       "total_loads                0.017664\n",
       "brokerage_loads_otr        0.001285\n",
       "brokerage_loads           -0.006155\n",
       "label                     -0.035292\n",
       "brokerage_loads_atlas     -0.042167\n",
       "marketplace_loads_atlas   -0.050920\n",
       "days_signup_to_approval   -0.053498\n",
       "marketplace_loads_otr     -0.058752\n",
       "marketplace_loads         -0.065660\n",
       "Name: num_trucks, dtype: float64"
      ]
     },
     "metadata": {},
     "output_type": "display_data"
    },
    {
     "name": "stdout",
     "output_type": "stream",
     "text": [
      "---------------------------------------------------------------------\n",
      "interested_in_drayage\n",
      "interested_in_drayage is not of type integer\n",
      "---------------------------------------------------------------------\n",
      "port_qualified\n",
      "port_qualified is not of type integer\n",
      "---------------------------------------------------------------------\n",
      "driver_with_twic\n",
      "driver_with_twic is not of type integer\n",
      "---------------------------------------------------------------------\n",
      "first_load_date\n",
      "first_load_date is not of type integer\n",
      "---------------------------------------------------------------------\n",
      "most_recent_load_date\n",
      "most_recent_load_date is not of type integer\n",
      "---------------------------------------------------------------------\n",
      "marketplace_loads_otr\n"
     ]
    },
    {
     "data": {
      "text/plain": [
       "marketplace_loads_otr      1.000000\n",
       "num_trips_made             0.511867\n",
       "marketplace_loads          0.395290\n",
       "total_loads                0.268972\n",
       "label                      0.163324\n",
       "days_since_last_load       0.157085\n",
       "marketplace_loads_atlas    0.083147\n",
       "brokerage_loads_otr        0.080873\n",
       "brokerage_loads            0.080687\n",
       "days_signup_to_approval    0.007436\n",
       "brokerage_loads_atlas      0.005160\n",
       "id_driver                 -0.012441\n",
       "num_trucks                -0.058752\n",
       "Name: marketplace_loads_otr, dtype: float64"
      ]
     },
     "metadata": {},
     "output_type": "display_data"
    },
    {
     "name": "stdout",
     "output_type": "stream",
     "text": [
      "---------------------------------------------------------------------\n",
      "marketplace_loads_atlas\n"
     ]
    },
    {
     "data": {
      "text/plain": [
       "marketplace_loads_atlas    1.000000\n",
       "marketplace_loads          0.948243\n",
       "label                      0.577596\n",
       "total_loads                0.541759\n",
       "num_trips_made             0.445315\n",
       "brokerage_loads_atlas      0.410271\n",
       "days_since_last_load       0.202243\n",
       "id_driver                  0.138116\n",
       "marketplace_loads_otr      0.083147\n",
       "brokerage_loads            0.059796\n",
       "brokerage_loads_otr       -0.012599\n",
       "num_trucks                -0.050920\n",
       "days_signup_to_approval   -0.099058\n",
       "Name: marketplace_loads_atlas, dtype: float64"
      ]
     },
     "metadata": {},
     "output_type": "display_data"
    },
    {
     "name": "stdout",
     "output_type": "stream",
     "text": [
      "---------------------------------------------------------------------\n",
      "marketplace_loads\n"
     ]
    },
    {
     "data": {
      "text/plain": [
       "marketplace_loads          1.000000\n",
       "marketplace_loads_atlas    0.948243\n",
       "total_loads                0.585073\n",
       "label                      0.584442\n",
       "num_trips_made             0.573574\n",
       "marketplace_loads_otr      0.395290\n",
       "brokerage_loads_atlas      0.379811\n",
       "days_since_last_load       0.236472\n",
       "id_driver                  0.123344\n",
       "brokerage_loads            0.080827\n",
       "brokerage_loads_otr        0.014158\n",
       "num_trucks                -0.065660\n",
       "days_signup_to_approval   -0.089268\n",
       "Name: marketplace_loads, dtype: float64"
      ]
     },
     "metadata": {},
     "output_type": "display_data"
    },
    {
     "name": "stdout",
     "output_type": "stream",
     "text": [
      "---------------------------------------------------------------------\n",
      "brokerage_loads_otr\n"
     ]
    },
    {
     "data": {
      "text/plain": [
       "brokerage_loads_otr        1.000000\n",
       "brokerage_loads            0.984385\n",
       "total_loads                0.803391\n",
       "num_trips_made             0.572785\n",
       "label                      0.239032\n",
       "marketplace_loads_otr      0.080873\n",
       "days_since_last_load       0.061265\n",
       "days_signup_to_approval    0.048116\n",
       "marketplace_loads          0.014158\n",
       "num_trucks                 0.001285\n",
       "brokerage_loads_atlas     -0.011804\n",
       "marketplace_loads_atlas   -0.012599\n",
       "id_driver                 -0.063795\n",
       "Name: brokerage_loads_otr, dtype: float64"
      ]
     },
     "metadata": {},
     "output_type": "display_data"
    },
    {
     "name": "stdout",
     "output_type": "stream",
     "text": [
      "---------------------------------------------------------------------\n",
      "brokerage_loads_atlas\n"
     ]
    },
    {
     "data": {
      "text/plain": [
       "brokerage_loads_atlas      1.000000\n",
       "marketplace_loads_atlas    0.410271\n",
       "marketplace_loads          0.379811\n",
       "total_loads                0.329874\n",
       "label                      0.327819\n",
       "num_trips_made             0.257713\n",
       "days_since_last_load       0.179735\n",
       "brokerage_loads            0.164395\n",
       "id_driver                  0.145307\n",
       "marketplace_loads_otr      0.005160\n",
       "brokerage_loads_otr       -0.011804\n",
       "num_trucks                -0.042167\n",
       "days_signup_to_approval   -0.092088\n",
       "Name: brokerage_loads_atlas, dtype: float64"
      ]
     },
     "metadata": {},
     "output_type": "display_data"
    },
    {
     "name": "stdout",
     "output_type": "stream",
     "text": [
      "---------------------------------------------------------------------\n",
      "brokerage_loads\n"
     ]
    },
    {
     "data": {
      "text/plain": [
       "brokerage_loads            1.000000\n",
       "brokerage_loads_otr        0.984385\n",
       "total_loads                0.850586\n",
       "num_trips_made             0.610399\n",
       "label                      0.293505\n",
       "brokerage_loads_atlas      0.164395\n",
       "days_since_last_load       0.092076\n",
       "marketplace_loads          0.080827\n",
       "marketplace_loads_otr      0.080687\n",
       "marketplace_loads_atlas    0.059796\n",
       "days_signup_to_approval    0.027929\n",
       "num_trucks                -0.006155\n",
       "id_driver                 -0.037352\n",
       "Name: brokerage_loads, dtype: float64"
      ]
     },
     "metadata": {},
     "output_type": "display_data"
    },
    {
     "name": "stdout",
     "output_type": "stream",
     "text": [
      "---------------------------------------------------------------------\n",
      "total_loads\n"
     ]
    },
    {
     "data": {
      "text/plain": [
       "total_loads                1.000000\n",
       "brokerage_loads            0.850586\n",
       "brokerage_loads_otr        0.803391\n",
       "num_trips_made             0.802860\n",
       "marketplace_loads          0.585073\n",
       "label                      0.541811\n",
       "marketplace_loads_atlas    0.541759\n",
       "brokerage_loads_atlas      0.329874\n",
       "marketplace_loads_otr      0.268972\n",
       "days_since_last_load       0.216076\n",
       "id_driver                  0.052722\n",
       "num_trucks                 0.017664\n",
       "days_signup_to_approval   -0.043765\n",
       "Name: total_loads, dtype: float64"
      ]
     },
     "metadata": {},
     "output_type": "display_data"
    },
    {
     "name": "stdout",
     "output_type": "stream",
     "text": [
      "---------------------------------------------------------------------\n",
      "num_trips_made\n"
     ]
    },
    {
     "data": {
      "text/plain": [
       "num_trips_made             1.000000\n",
       "total_loads                0.802860\n",
       "brokerage_loads            0.610399\n",
       "marketplace_loads          0.573574\n",
       "brokerage_loads_otr        0.572785\n",
       "marketplace_loads_otr      0.511867\n",
       "label                      0.481593\n",
       "marketplace_loads_atlas    0.445315\n",
       "days_since_last_load       0.284921\n",
       "brokerage_loads_atlas      0.257713\n",
       "num_trucks                 0.059784\n",
       "id_driver                  0.018007\n",
       "days_signup_to_approval    0.010462\n",
       "Name: num_trips_made, dtype: float64"
      ]
     },
     "metadata": {},
     "output_type": "display_data"
    },
    {
     "name": "stdout",
     "output_type": "stream",
     "text": [
      "---------------------------------------------------------------------\n",
      "days_since_last_load\n"
     ]
    },
    {
     "data": {
      "text/plain": [
       "days_since_last_load       1.000000\n",
       "id_driver                  0.839446\n",
       "num_trips_made             0.284921\n",
       "marketplace_loads          0.236472\n",
       "total_loads                0.216076\n",
       "marketplace_loads_atlas    0.202243\n",
       "brokerage_loads_atlas      0.179735\n",
       "num_trucks                 0.163449\n",
       "marketplace_loads_otr      0.157085\n",
       "label                      0.142288\n",
       "brokerage_loads            0.092076\n",
       "brokerage_loads_otr        0.061265\n",
       "days_signup_to_approval   -0.628732\n",
       "Name: days_since_last_load, dtype: float64"
      ]
     },
     "metadata": {},
     "output_type": "display_data"
    },
    {
     "name": "stdout",
     "output_type": "stream",
     "text": [
      "---------------------------------------------------------------------\n",
      "label\n"
     ]
    },
    {
     "data": {
      "text/plain": [
       "label                      1.000000\n",
       "marketplace_loads          0.584442\n",
       "marketplace_loads_atlas    0.577596\n",
       "total_loads                0.541811\n",
       "num_trips_made             0.481593\n",
       "brokerage_loads_atlas      0.327819\n",
       "brokerage_loads            0.293505\n",
       "brokerage_loads_otr        0.239032\n",
       "marketplace_loads_otr      0.163324\n",
       "days_since_last_load       0.142288\n",
       "id_driver                  0.075683\n",
       "num_trucks                -0.035292\n",
       "days_signup_to_approval   -0.064084\n",
       "Name: label, dtype: float64"
      ]
     },
     "metadata": {},
     "output_type": "display_data"
    },
    {
     "name": "stdout",
     "output_type": "stream",
     "text": [
      "---------------------------------------------------------------------\n"
     ]
    }
   ],
   "source": [
    "corr_matrix = df.corr()\n",
    "for col_name in (list(df.columns.values)): # prints all the correlation matrices corresponding to each feature\n",
    "    try:\n",
    "        print(col_name)\n",
    "        display(corr_matrix[col_name].sort_values(ascending=False))\n",
    "        print('---------------------------------------------------------------------')\n",
    "    except:\n",
    "        print(\"{} is not of type integer\".format(col_name))\n",
    "        print('---------------------------------------------------------------------')"
   ]
  },
  {
   "cell_type": "markdown",
   "metadata": {},
   "source": [
    " Also year and TODO_FIND_COLUMN_NAME_2 and year are highly correlated and have a similar impact on label, so we could drop one? \n",
    "\n",
    "Is there really a need for brokerage_loads when it is so highly correlated to brokerage_loads_otr due to the vast majority of shipments being delivered over-the-road as compared to via ATLAS? \n",
    "\n",
    "I have the same question about total_loads due to the vast majority of loads being brokerage loads...\n",
    "\n",
    "What's the point of having both year and date?\n",
    "\n",
    "We can remove the id_carrier_number column from this dataset as it is not relevant to predicting a label of 0 or 1 (When trying to find high performing drivers, we need to know their carrier number, so we can extract the id_carrier_number column for now...)\n",
    "\n",
    "We could one-hot-encode sign-up source and see its effect on labels.\n",
    "\n",
    "We can remove the ts_first_approved column because the date of approval shouldn't matter that much but instead the days_signup_to_approval matter.\n",
    "\n",
    "dim_preferred_lanes only has a few values so we can either remove the column or impute values.\n",
    "\n",
    "Also first_load_date, most_recent_load_date and load_day shouldn't matter much. Instead we can have values such as: number of days doing the job = most_recent_load_date - first_load_date\n",
    "AND\n",
    "days_from_last_load_to_today = todays_date - most_recent_load_date\n",
    "\n",
    "There are also a couple other features we need to impute.\n",
    "\n",
    "Also, only people that are port qualified can provide drayage services, so we should create a field called qualified_and_interest_in_drayage which is only 1 (yes) when interested_in_drayage = \"yes\" and port_qualified = \"yes\". We can also cross these features..."
   ]
  },
  {
   "cell_type": "markdown",
   "metadata": {},
   "source": [
    "# 4. Data Feature Extraction Plan and Pipeline"
   ]
  },
  {
   "cell_type": "code",
   "execution_count": 41,
   "metadata": {},
   "outputs": [],
   "source": [
    "# df[\"location\"] = list(zip(df[\"home_base_city\"], df[\"home_base_state\"]))# feature cross to get (city, state) tuple\n",
    "# # feature cross for interested in drayage and port qualified\n",
    "# df[\"drayage_interested_port_qualified\"] = list(zip(df[\"interested_in_drayage\"], df[\"port_qualified\"]))\n",
    "# display(df[\"location\"])\n",
    "# display(df[\"drayage_interested_port_qualified\"])"
   ]
  },
  {
   "cell_type": "code",
   "execution_count": 42,
   "metadata": {},
   "outputs": [
    {
     "data": {
      "text/plain": [
       "0       100000\n",
       "1       100000\n",
       "2       100000\n",
       "3       100000\n",
       "4       100000\n",
       "         ...  \n",
       "5286    100000\n",
       "5287    000001\n",
       "5288    000001\n",
       "5289    000001\n",
       "5290    000001\n",
       "Name: drayage_interested_port_qualified, Length: 5291, dtype: object"
      ]
     },
     "metadata": {},
     "output_type": "display_data"
    },
    {
     "data": {
      "text/plain": [
       "0      100000\n",
       "1      000010\n",
       "2      100000\n",
       "3      000010\n",
       "4      000010\n",
       "        ...  \n",
       "995    100000\n",
       "996    100000\n",
       "997    100000\n",
       "998    100000\n",
       "999    000010\n",
       "Name: drayage_interested_port_qualified, Length: 1000, dtype: object"
      ]
     },
     "metadata": {},
     "output_type": "display_data"
    }
   ],
   "source": [
    "def drayage_feature_cross(df):\n",
    "    loc_cross = list(zip(df[\"home_base_city\"], df[\"home_base_state\"]))# feature cross to get (city, state) tuple\n",
    "    # feature cross for interested in drayage and port qualified\n",
    "    drayage_cross = list(zip(df[\"interested_in_drayage\"], df[\"port_qualified\"]))\n",
    "\n",
    "    drayage_arr = []\n",
    "    for list_item in drayage_cross:\n",
    "        if list_item[0] == \"yes\" and list_item[1] == \"yes\":\n",
    "            drayage_arr.append(\"000001\")\n",
    "        if list_item[0] == \"yes\" and list_item[1] == \"no\":\n",
    "            drayage_arr.append(\"000010\")\n",
    "        if list_item[0] == \"no\" and list_item[1] == \"yes\":\n",
    "            drayage_arr.append(\"000100\")\n",
    "        if list_item[0] == \"no\" and list_item[1] == \"no\":\n",
    "            drayage_arr.append(\"001000\")\n",
    "        if list_item[0] == \"not specified\" and list_item[1] == \"yes\":\n",
    "            drayage_arr.append(\"010000\")\n",
    "        if list_item[0] == \"not specified\" and list_item[1] == \"no\":\n",
    "            drayage_arr.append(\"100000\")\n",
    "\n",
    "    df[\"drayage_interested_port_qualified\"] = np.array(drayage_arr)\n",
    "    display(df[\"drayage_interested_port_qualified\"])\n",
    "\n",
    "drayage_feature_cross(df)\n",
    "drayage_feature_cross(df_score)"
   ]
  },
  {
   "cell_type": "code",
   "execution_count": 43,
   "metadata": {},
   "outputs": [],
   "source": [
    "id_driver_number_col = np.array(df[\"id_driver\"]) # extract id_driver column\n",
    "id_driver_number_col_score = np.array(df_score[\"id_driver\"]) # extract id_driver column\n",
    "\n",
    "drop_cols = [\"id_driver\", \"interested_in_drayage\", \"port_qualified\", \n",
    "             \"ts_signup\", \"ts_first_approved\"] #\"home_base_city\",\"home_base_state\",\n",
    "for col in drop_cols:\n",
    "    try:\n",
    "        df_score = df_score.drop(columns=[col])\n",
    "    except:\n",
    "        continue\n",
    "\n",
    "for col in drop_cols:\n",
    "    try:\n",
    "        df = df.drop(columns=[col])\n",
    "    except:\n",
    "        continue"
   ]
  },
  {
   "cell_type": "code",
   "execution_count": 44,
   "metadata": {},
   "outputs": [
    {
     "name": "stdout",
     "output_type": "stream",
     "text": [
      "<class 'pandas.core.frame.DataFrame'>\n",
      "RangeIndex: 5291 entries, 0 to 5290\n",
      "Data columns (total 22 columns):\n",
      " #   Column                             Non-Null Count  Dtype         \n",
      "---  ------                             --------------  -----         \n",
      " 0   dim_carrier_type                   5291 non-null   string        \n",
      " 1   dim_carrier_company_name           5284 non-null   string        \n",
      " 2   carrier_trucks                     5291 non-null   string        \n",
      " 3   signup_source                      5291 non-null   string        \n",
      " 4   days_signup_to_approval            3962 non-null   Int64         \n",
      " 5   home_base_city                     5291 non-null   string        \n",
      " 6   home_base_state                    5291 non-null   string        \n",
      " 7   num_trucks                         5249 non-null   float64       \n",
      " 8   driver_with_twic                   5291 non-null   string        \n",
      " 9   first_load_date                    5291 non-null   datetime64[ns]\n",
      " 10  most_recent_load_date              5291 non-null   datetime64[ns]\n",
      " 11  marketplace_loads_otr              5291 non-null   Int64         \n",
      " 12  marketplace_loads_atlas            5291 non-null   Int64         \n",
      " 13  marketplace_loads                  5291 non-null   Int64         \n",
      " 14  brokerage_loads_otr                5291 non-null   Int64         \n",
      " 15  brokerage_loads_atlas              5291 non-null   Int64         \n",
      " 16  brokerage_loads                    5291 non-null   Int64         \n",
      " 17  total_loads                        5291 non-null   Int64         \n",
      " 18  num_trips_made                     5291 non-null   Int64         \n",
      " 19  days_since_last_load               5291 non-null   Int64         \n",
      " 20  label                              5291 non-null   Int64         \n",
      " 21  drayage_interested_port_qualified  5291 non-null   object        \n",
      "dtypes: Int64(11), datetime64[ns](2), float64(1), object(1), string(7)\n",
      "memory usage: 966.4+ KB\n"
     ]
    }
   ],
   "source": [
    "df.info()"
   ]
  },
  {
   "cell_type": "code",
   "execution_count": 45,
   "metadata": {},
   "outputs": [],
   "source": [
    "names = {}\n",
    "for index, row in df.iterrows():\n",
    "    names[row[\"dim_carrier_company_name\"]] = int(names.get(row[\"dim_carrier_company_name\"], 0) + 1)\n",
    "listo = list(names.items())\n",
    "listo.sort(reverse=True, key=lambda x: int(x[1]))\n",
    "#listo[:50]"
   ]
  },
  {
   "cell_type": "code",
   "execution_count": 46,
   "metadata": {},
   "outputs": [
    {
     "name": "stdout",
     "output_type": "stream",
     "text": [
      "# 50:  1290\n",
      "Percentage 50:  0.5176565008025682\n",
      "['NFS asset Drayage', 'MC Express Trucking LLC', 'Roadrunner Transportation', 'Dong Fang Marketing Inc', 'ROADMOND LOGISTICS INC.', 'Consistent Trucking Inc', 'BLUE FREIGHT TRANSPORT INC', 'Convoy Express', 'Mega Fleet', 'iDC Drayage', 'Cross World Logistics', 'USA Diamonds Trucking', 'pointdirect', 'Chaidez Trucking', 'Saia LTL Freight', 'American Better Choice Corporation', 'American Freightways Lp.', 'Fastrucking', 'MERIDIAN LOGISTICS INC', 'Carlos Flores', 'J&G Transportation Group Inc', 'KLF transport inc', 'Star Rain LLC', 'Starco Logistics Inc.', '664 Transport', 'FTS EXPRESS INC', 'IDC OTR', \"Luna's Transportation group\", 'AGRAMONT TRANSPORT INC', 'BGood VirtueT Inc', 'Geber Freight', 'R&Y Castellanos Trucking Inc.', 'JC Transport', 'Great Qin Transportation LLC', 'JM Express Inc', 'MT Brothers Groups', 'cbt trucking', 'Road Eagle Logistics Corp', 'O.A. EXPRESS INC', 'AMPAK Logistics INC.', 'Kuang Trucking Inc.', 'nolan transportation group', '360 new way inc', 'Innovative Transportation, LLC', 'freight advisor corp', 'one USA group', 'Blue Horizon', 'STS TRUCKING', 'AL JR TRUCKING', 'MG Trucking']\n"
     ]
    }
   ],
   "source": [
    "listo = listo[:50]\n",
    "count_50 = sum([x[1] for x in listo])\n",
    "print(\"# 50: \", count_50)\n",
    "print(\"Percentage 50: \", count_50/len(names))\n",
    "\n",
    "names_arr = [tuples[0] for tuples in listo]\n",
    "print(names_arr)"
   ]
  },
  {
   "cell_type": "code",
   "execution_count": 47,
   "metadata": {},
   "outputs": [],
   "source": [
    "def bucketize(df):\n",
    "    days_worked = []\n",
    "    for index, row in df.iterrows(): # bucketize the most frequent dim_carrier_company names, \n",
    "                                     # put less frequent names in a single bucket\n",
    "        try:\n",
    "            if row[\"dim_carrier_company_name\"] not in names_arr:\n",
    "                df.at[index, \"dim_carrier_company_name\"] = \"Other\"\n",
    "        except:\n",
    "            df.at[index, \"dim_carrier_company_name\"] = \"Other\"\n",
    "\n",
    "        # find number of days driver has worked\n",
    "        if row[\"most_recent_load_date\"] != np.nan and row[\"first_load_date\"] != np.nan:\n",
    "            days_worked.append((row[\"most_recent_load_date\"] - row[\"first_load_date\"]).days)\n",
    "        else:\n",
    "            days_worked.append(None)\n",
    "    df[\"days_tenured\"] = np.array(days_worked)\n",
    "\n",
    "bucketize(df)\n",
    "bucketize(df_score)"
   ]
  },
  {
   "cell_type": "code",
   "execution_count": 48,
   "metadata": {},
   "outputs": [],
   "source": [
    "# # Get total_loads for df_score in order to find labels\n",
    "# total_loads = []\n",
    "# for index, row in df_score.iterrows():\n",
    "#     total_loads.append(row[\"marketplace_loads\"] + row[\"brokerage_loads\"])\n",
    "# df_score[\"total_loads\"] = np.array(total_loads)"
   ]
  },
  {
   "cell_type": "code",
   "execution_count": 49,
   "metadata": {},
   "outputs": [],
   "source": [
    "# total_loads_score_75 = df_score.total_loads.quantile(0.75) # finds 75th percentile of loads\n",
    "# most_recent_load_date_score_75 = df_score.most_recent_load_date.quantile(0.75) # finds 75th percentile of most recent load date\n",
    "\n",
    "# print(total_loads_score_75)\n",
    "# print(most_recent_load_date_score_75)"
   ]
  },
  {
   "cell_type": "code",
   "execution_count": 50,
   "metadata": {},
   "outputs": [],
   "source": [
    "# score_labels = []\n",
    "# for index, row in df_score.iterrows(): # changes the labels in the label columns\n",
    "#     # checks if the load and most recent load date are in the 75th percentile\n",
    "#     if row[\"total_loads\"] >= total_loads_score_75 and row[\"most_recent_load_date\"] >= most_recent_load_date_score_75:\n",
    "#         score_labels.append(1)\n",
    "#     else:\n",
    "#         score_labels.append(0)\n",
    "# print(len(score_labels))\n",
    "# print(score_labels)"
   ]
  },
  {
   "cell_type": "code",
   "execution_count": 51,
   "metadata": {},
   "outputs": [],
   "source": [
    "drop_cols = [\"most_recent_load_date\", \"first_load_date\", \"weekday\", \"load_day\", \"total_loads\"]\n",
    "for col in drop_cols:\n",
    "    try:\n",
    "        df_score = df_score.drop(columns=[col])\n",
    "    except:\n",
    "        continue\n",
    "\n",
    "for col in drop_cols:\n",
    "    try:\n",
    "        df = df.drop(columns=[col])\n",
    "    except:\n",
    "        continue"
   ]
  },
  {
   "cell_type": "code",
   "execution_count": 52,
   "metadata": {},
   "outputs": [],
   "source": [
    "df_unlabeled = df.drop(columns=[\"label\"])\n",
    "labels = df[\"label\"].copy()"
   ]
  },
  {
   "cell_type": "code",
   "execution_count": 53,
   "metadata": {},
   "outputs": [
    {
     "name": "stdout",
     "output_type": "stream",
     "text": [
      "Unique Values :  [0 1]\n",
      "Occurrence Count :  [5236   55]\n"
     ]
    }
   ],
   "source": [
    "uniqueValues, occurCount = np.unique(labels, return_counts=True)\n",
    "print(\"Unique Values : \" , uniqueValues)\n",
    "print(\"Occurrence Count : \", occurCount)"
   ]
  },
  {
   "cell_type": "code",
   "execution_count": 54,
   "metadata": {},
   "outputs": [
    {
     "name": "stdout",
     "output_type": "stream",
     "text": [
      "<class 'pandas.core.frame.DataFrame'>\n",
      "RangeIndex: 5291 entries, 0 to 5290\n",
      "Data columns (total 19 columns):\n",
      " #   Column                             Non-Null Count  Dtype  \n",
      "---  ------                             --------------  -----  \n",
      " 0   dim_carrier_type                   5291 non-null   string \n",
      " 1   dim_carrier_company_name           5291 non-null   string \n",
      " 2   carrier_trucks                     5291 non-null   string \n",
      " 3   signup_source                      5291 non-null   string \n",
      " 4   days_signup_to_approval            3962 non-null   Int64  \n",
      " 5   home_base_city                     5291 non-null   string \n",
      " 6   home_base_state                    5291 non-null   string \n",
      " 7   num_trucks                         5249 non-null   float64\n",
      " 8   driver_with_twic                   5291 non-null   string \n",
      " 9   marketplace_loads_otr              5291 non-null   Int64  \n",
      " 10  marketplace_loads_atlas            5291 non-null   Int64  \n",
      " 11  marketplace_loads                  5291 non-null   Int64  \n",
      " 12  brokerage_loads_otr                5291 non-null   Int64  \n",
      " 13  brokerage_loads_atlas              5291 non-null   Int64  \n",
      " 14  brokerage_loads                    5291 non-null   Int64  \n",
      " 15  num_trips_made                     5291 non-null   Int64  \n",
      " 16  days_since_last_load               5291 non-null   Int64  \n",
      " 17  drayage_interested_port_qualified  5291 non-null   object \n",
      " 18  days_tenured                       5291 non-null   int32  \n",
      "dtypes: Int64(9), float64(1), int32(1), object(1), string(7)\n",
      "memory usage: 811.3+ KB\n"
     ]
    }
   ],
   "source": [
    "df_unlabeled.info()"
   ]
  },
  {
   "cell_type": "code",
   "execution_count": 55,
   "metadata": {},
   "outputs": [
    {
     "name": "stdout",
     "output_type": "stream",
     "text": [
      "<class 'pandas.core.frame.DataFrame'>\n",
      "RangeIndex: 1000 entries, 0 to 999\n",
      "Data columns (total 19 columns):\n",
      " #   Column                             Non-Null Count  Dtype \n",
      "---  ------                             --------------  ----- \n",
      " 0   dim_carrier_type                   1000 non-null   string\n",
      " 1   dim_carrier_company_name           1000 non-null   string\n",
      " 2   home_base_city                     1000 non-null   string\n",
      " 3   home_base_state                    1000 non-null   string\n",
      " 4   carrier_trucks                     1000 non-null   string\n",
      " 5   num_trucks                         1000 non-null   Int64 \n",
      " 6   signup_source                      1000 non-null   string\n",
      " 7   days_signup_to_approval            854 non-null    Int64 \n",
      " 8   driver_with_twic                   1000 non-null   string\n",
      " 9   marketplace_loads_otr              1000 non-null   Int64 \n",
      " 10  marketplace_loads_atlas            1000 non-null   Int64 \n",
      " 11  marketplace_loads                  1000 non-null   Int64 \n",
      " 12  brokerage_loads_otr                1000 non-null   Int64 \n",
      " 13  brokerage_loads_atlas              1000 non-null   Int64 \n",
      " 14  brokerage_loads                    1000 non-null   Int64 \n",
      " 15  num_trips_made                     1000 non-null   Int32 \n",
      " 16  days_since_last_load               1000 non-null   Int32 \n",
      " 17  drayage_interested_port_qualified  1000 non-null   object\n",
      " 18  days_tenured                       1000 non-null   int32 \n",
      "dtypes: Int32(2), Int64(8), int32(1), object(1), string(7)\n",
      "memory usage: 146.6+ KB\n"
     ]
    }
   ],
   "source": [
    "df_score.info()"
   ]
  },
  {
   "cell_type": "code",
   "execution_count": 56,
   "metadata": {},
   "outputs": [
    {
     "name": "stdout",
     "output_type": "stream",
     "text": [
      "['dim_carrier_type', 'dim_carrier_company_name', 'carrier_trucks', 'signup_source', 'days_signup_to_approval', 'home_base_city', 'home_base_state', 'num_trucks', 'driver_with_twic', 'marketplace_loads_otr', 'marketplace_loads_atlas', 'marketplace_loads', 'brokerage_loads_otr', 'brokerage_loads_atlas', 'brokerage_loads', 'num_trips_made', 'days_since_last_load', 'drayage_interested_port_qualified', 'days_tenured']\n"
     ]
    }
   ],
   "source": [
    "cols = list(df_unlabeled.columns.values)\n",
    "print(cols)"
   ]
  },
  {
   "cell_type": "code",
   "execution_count": 57,
   "metadata": {},
   "outputs": [],
   "source": [
    "df_score = df_score[cols]\n",
    "\n",
    "df_score['num_trucks'] = pd.to_numeric(df_score['num_trucks'], errors='coerce')\n",
    "df_score['days_signup_to_approval'] = pd.to_numeric(df_score['days_signup_to_approval'], errors='coerce')\n",
    "\n",
    "df_unlabeled['num_trucks'] = pd.to_numeric(df_unlabeled['num_trucks'], errors='coerce')\n",
    "df_unlabeled['days_signup_to_approval'] = pd.to_numeric(df_unlabeled['days_signup_to_approval'], errors='coerce')\n",
    "\n",
    "# df_unlabeled['home_base_city'].astype(str) #= to_string(df_unlabeled['home_base_city'], errors='coerce')\n",
    "# df_unlabeled['home_base_state'].astype(str) #= pd.to_string(df_unlabeled['home_base_state'], errors='coerce')\n",
    "\n",
    "convert = [\"id_driver\", \"days_signup_to_approval\", \"marketplace_loads_otr\", \n",
    "               \"marketplace_loads_atlas\", \"marketplace_loads\", \"brokerage_loads_otr\",\n",
    "               \"brokerage_loads_atlas\", \"brokerage_loads\", \"num_trips_made\",\n",
    "               \"num_trucks\", \"dim_carrier_type\", \"dim_carrier_company_name\",\n",
    "               \"interested_in_drayage\", \"port_qualified\", \"signup_source\", \"driver_with_twic\",\n",
    "          \"home_base_city\",\"home_base_state\"] #\"home_base_city\",\"home_base_state\"\n",
    "for col in convert:\n",
    "    try:\n",
    "        df_score[col] = df_score[col].convert_dtypes()\n",
    "    except:\n",
    "        continue\n",
    "\n",
    "for col in convert:\n",
    "    try:\n",
    "        df_unlabeled[col] = df_unlabeled[col].convert_dtypes()\n",
    "    except:\n",
    "        continue"
   ]
  },
  {
   "cell_type": "code",
   "execution_count": 58,
   "metadata": {},
   "outputs": [
    {
     "name": "stdout",
     "output_type": "stream",
     "text": [
      "<class 'pandas.core.frame.DataFrame'>\n",
      "RangeIndex: 6291 entries, 0 to 6290\n",
      "Data columns (total 19 columns):\n",
      " #   Column                             Non-Null Count  Dtype \n",
      "---  ------                             --------------  ----- \n",
      " 0   dim_carrier_type                   6291 non-null   string\n",
      " 1   dim_carrier_company_name           6291 non-null   string\n",
      " 2   carrier_trucks                     6291 non-null   string\n",
      " 3   signup_source                      6291 non-null   string\n",
      " 4   days_signup_to_approval            4816 non-null   Int64 \n",
      " 5   home_base_city                     6291 non-null   string\n",
      " 6   home_base_state                    6291 non-null   string\n",
      " 7   num_trucks                         6249 non-null   object\n",
      " 8   driver_with_twic                   6291 non-null   string\n",
      " 9   marketplace_loads_otr              6291 non-null   Int64 \n",
      " 10  marketplace_loads_atlas            6291 non-null   Int64 \n",
      " 11  marketplace_loads                  6291 non-null   Int64 \n",
      " 12  brokerage_loads_otr                6291 non-null   Int64 \n",
      " 13  brokerage_loads_atlas              6291 non-null   Int64 \n",
      " 14  brokerage_loads                    6291 non-null   Int64 \n",
      " 15  num_trips_made                     6291 non-null   Int64 \n",
      " 16  days_since_last_load               6291 non-null   Int64 \n",
      " 17  drayage_interested_port_qualified  6291 non-null   object\n",
      " 18  days_tenured                       6291 non-null   int32 \n",
      "dtypes: Int64(9), int32(1), object(2), string(7)\n",
      "memory usage: 964.7+ KB\n"
     ]
    }
   ],
   "source": [
    "df_concat = pd.concat([df_unlabeled, df_score], ignore_index=True)\n",
    "df_concat.info()"
   ]
  },
  {
   "cell_type": "code",
   "execution_count": 59,
   "metadata": {},
   "outputs": [],
   "source": [
    "for col in convert:\n",
    "    try:\n",
    "        df_concat[col] = df_concat[col].convert_dtypes()\n",
    "    except:\n",
    "        continue"
   ]
  },
  {
   "cell_type": "code",
   "execution_count": 60,
   "metadata": {},
   "outputs": [
    {
     "name": "stdout",
     "output_type": "stream",
     "text": [
      "<class 'pandas.core.frame.DataFrame'>\n",
      "RangeIndex: 6291 entries, 0 to 6290\n",
      "Data columns (total 19 columns):\n",
      " #   Column                             Non-Null Count  Dtype  \n",
      "---  ------                             --------------  -----  \n",
      " 0   dim_carrier_type                   6291 non-null   string \n",
      " 1   dim_carrier_company_name           6291 non-null   string \n",
      " 2   carrier_trucks                     6291 non-null   string \n",
      " 3   signup_source                      6291 non-null   string \n",
      " 4   days_signup_to_approval            4816 non-null   Int64  \n",
      " 5   home_base_city                     6291 non-null   string \n",
      " 6   home_base_state                    6291 non-null   string \n",
      " 7   num_trucks                         6249 non-null   float64\n",
      " 8   driver_with_twic                   6291 non-null   string \n",
      " 9   marketplace_loads_otr              6291 non-null   Int64  \n",
      " 10  marketplace_loads_atlas            6291 non-null   Int64  \n",
      " 11  marketplace_loads                  6291 non-null   Int64  \n",
      " 12  brokerage_loads_otr                6291 non-null   Int64  \n",
      " 13  brokerage_loads_atlas              6291 non-null   Int64  \n",
      " 14  brokerage_loads                    6291 non-null   Int64  \n",
      " 15  num_trips_made                     6291 non-null   Int64  \n",
      " 16  days_since_last_load               6291 non-null   Int64  \n",
      " 17  drayage_interested_port_qualified  6291 non-null   object \n",
      " 18  days_tenured                       6291 non-null   int32  \n",
      "dtypes: Int64(9), float64(1), int32(1), object(1), string(7)\n",
      "memory usage: 964.7+ KB\n"
     ]
    }
   ],
   "source": [
    "df_concat.info()"
   ]
  },
  {
   "cell_type": "code",
   "execution_count": 61,
   "metadata": {},
   "outputs": [],
   "source": [
    "# df_concat = df_concat.drop(columns=[\"marketplace_loads\", \"brokerage_loads\"])"
   ]
  },
  {
   "cell_type": "code",
   "execution_count": 62,
   "metadata": {},
   "outputs": [],
   "source": [
    "imputer = IterativeImputer()\n",
    "# df = imputer.fit_transform(df)\n",
    "categorical_features_one_hot = [\"dim_carrier_type\", \"dim_carrier_company_name\", \"carrier_trucks\", \n",
    "                                \"signup_source\", \"driver_with_twic\", \"home_base_city\",\"home_base_state\"] #\"home_base_city\",\"home_base_state\"\n",
    "\n",
    "df_num = df_concat.drop(columns=categorical_features_one_hot)\n",
    "# df_num = df_concat\n",
    "numerical_features = list(df_num)\n",
    "\n",
    "num_pipeline = Pipeline([\n",
    "        ('imputer', imputer),\n",
    "        ('std_scaler', StandardScaler()),\n",
    "    ])\n",
    "\n",
    "full_pipeline = ColumnTransformer([\n",
    "        (\"num\", num_pipeline, numerical_features),\n",
    "        (\"cat\", OneHotEncoder(sparse=False), categorical_features_one_hot), #sparse=False\n",
    "    ])\n",
    "df_prepared = full_pipeline.fit_transform(df_concat)"
   ]
  },
  {
   "cell_type": "code",
   "execution_count": 63,
   "metadata": {},
   "outputs": [
    {
     "data": {
      "text/plain": [
       "array([[ 1.85116313, -0.39965744, -0.20109732, ...,  0.        ,\n",
       "         0.        ,  0.        ],\n",
       "       [ 1.87262531, -0.39965744, -0.20109732, ...,  0.        ,\n",
       "         0.        ,  0.        ],\n",
       "       [ 1.88612658, -0.39965744, -0.20109732, ...,  0.        ,\n",
       "         0.        ,  0.        ],\n",
       "       ...,\n",
       "       [ 1.07263803, -0.39965744,  0.23165021, ...,  0.        ,\n",
       "         0.        ,  0.        ],\n",
       "       [ 1.75297732,  1.95624695, -0.20109732, ...,  0.        ,\n",
       "         0.        ,  0.        ],\n",
       "       [-1.00674481, -0.18762604, -0.10999258, ...,  0.        ,\n",
       "         0.        ,  0.        ]])"
      ]
     },
     "metadata": {},
     "output_type": "display_data"
    }
   ],
   "source": [
    "display(df_prepared)"
   ]
  },
  {
   "cell_type": "code",
   "execution_count": 64,
   "metadata": {},
   "outputs": [],
   "source": [
    "# X_train_temp = df_prepared[:5291]\n",
    "# y_train_temp = labels\n",
    "# X_test = df_prepared[5291:]\n",
    "# y_test = score_labels\n",
    "\n",
    "# y_train_temp = y_train_temp.astype('int')"
   ]
  },
  {
   "cell_type": "code",
   "execution_count": 65,
   "metadata": {},
   "outputs": [],
   "source": [
    "X = df_prepared[:5291]\n",
    "y = labels\n",
    "X_test_score = df_prepared[5291:]\n",
    "y_test_score = score_labels\n",
    "y_test_score = np.array(y_test_score)\n",
    "y = y.astype('int')\n",
    "X, y = SMOTE().fit_resample(X, y)\n",
    "X_train, X_test, y_train, y_test = train_test_split(X, y, test_size=0.2, random_state=42)"
   ]
  },
  {
   "cell_type": "code",
   "execution_count": 66,
   "metadata": {},
   "outputs": [],
   "source": [
    "# X_train, y_train = SMOTE().fit_resample(X_train_temp, y_train_temp)"
   ]
  },
  {
   "cell_type": "code",
   "execution_count": 67,
   "metadata": {},
   "outputs": [
    {
     "name": "stdout",
     "output_type": "stream",
     "text": [
      "(8377, 647) (2095, 647)\n",
      "(8377,) (2095,)\n",
      "(1000, 647) (1000,)\n"
     ]
    }
   ],
   "source": [
    "print(X_train.shape, X_test.shape)\n",
    "print(y_train.shape, y_test.shape)\n",
    "print(X_test_score.shape, y_test_score.shape)"
   ]
  },
  {
   "cell_type": "markdown",
   "metadata": {},
   "source": [
    "# 5. Linear Regression"
   ]
  },
  {
   "cell_type": "code",
   "execution_count": 68,
   "metadata": {},
   "outputs": [],
   "source": [
    "from sklearn.linear_model import LinearRegression\n",
    "\n",
    "lin_reg = LinearRegression()\n",
    "lin_reg.fit(X_train, y_train)\n",
    "lr_predicted = lin_reg.predict(X_test)"
   ]
  },
  {
   "cell_type": "code",
   "execution_count": 69,
   "metadata": {},
   "outputs": [
    {
     "data": {
      "text/plain": [
       "8349830949.992424"
      ]
     },
     "execution_count": 69,
     "metadata": {},
     "output_type": "execute_result"
    }
   ],
   "source": [
    "from sklearn.metrics import mean_squared_error\n",
    "\n",
    "mse = mean_squared_error(y_test, lr_predicted)\n",
    "rmse = np.sqrt(mse)\n",
    "rmse"
   ]
  },
  {
   "cell_type": "code",
   "execution_count": 70,
   "metadata": {},
   "outputs": [
    {
     "data": {
      "text/plain": [
       "-2.7892503593857886e+20"
      ]
     },
     "execution_count": 70,
     "metadata": {},
     "output_type": "execute_result"
    }
   ],
   "source": [
    "from sklearn.metrics import r2_score\n",
    "\n",
    "r2_score(y_test, lr_predicted)"
   ]
  },
  {
   "cell_type": "code",
   "execution_count": 71,
   "metadata": {},
   "outputs": [
    {
     "name": "stdout",
     "output_type": "stream",
     "text": [
      "                            OLS Regression Results                            \n",
      "==============================================================================\n",
      "Dep. Variable:                  label   R-squared:                       0.903\n",
      "Model:                            OLS   Adj. R-squared:                  0.897\n",
      "Method:                 Least Squares   F-statistic:                     137.3\n",
      "Date:                Thu, 18 Mar 2021   Prob (F-statistic):               0.00\n",
      "Time:                        00:31:26   Log-Likelihood:                 3709.0\n",
      "No. Observations:                8377   AIC:                            -6348.\n",
      "Df Residuals:                    7842   BIC:                            -2585.\n",
      "Df Model:                         534                                         \n",
      "Covariance Type:            nonrobust                                         \n",
      "==============================================================================\n",
      "                 coef    std err          t      P>|t|      [0.025      0.975]\n",
      "------------------------------------------------------------------------------\n",
      "const         -0.0070      0.025     -0.282      0.778      -0.055       0.041\n",
      "x1             0.0402      0.005      7.706      0.000       0.030       0.050\n",
      "x2            -0.7290      0.046    -15.932      0.000      -0.819      -0.639\n",
      "x3             0.0034      0.003      1.266      0.206      -0.002       0.009\n",
      "x4             0.0062      0.001      7.000      0.000       0.004       0.008\n",
      "x5             0.0068      0.001      6.253      0.000       0.005       0.009\n",
      "x6            -0.0060      0.001     -5.811      0.000      -0.008      -0.004\n",
      "x7             0.0364      0.001     26.784      0.000       0.034       0.039\n",
      "x8            -0.0010      0.001     -1.002      0.316      -0.003       0.001\n",
      "x9             0.0988      0.002     46.041      0.000       0.095       0.103\n",
      "x10            0.1055      0.006     18.300      0.000       0.094       0.117\n",
      "x11           -0.0444      0.004    -12.472      0.000      -0.051      -0.037\n",
      "x12           -0.0901      0.004    -22.459      0.000      -0.098      -0.082\n",
      "x13           -0.2246      0.119     -1.884      0.060      -0.458       0.009\n",
      "x14            0.1458      0.049      3.003      0.003       0.051       0.241\n",
      "x15            0.0719      0.049      1.481      0.139      -0.023       0.167\n",
      "x16            0.3075      0.081      3.797      0.000       0.149       0.466\n",
      "x17           -0.4876      0.044    -11.115      0.000      -0.574      -0.402\n",
      "x18           -0.4833      0.048    -10.134      0.000      -0.577      -0.390\n",
      "x19           -0.0522      0.062     -0.842      0.400      -0.174       0.069\n",
      "x20           -0.2526      0.052     -4.882      0.000      -0.354      -0.151\n",
      "x21            0.1875      0.064      2.935      0.003       0.062       0.313\n",
      "x22           -0.3359      0.038     -8.894      0.000      -0.410      -0.262\n",
      "x23           -0.1189      0.052     -2.280      0.023      -0.221      -0.017\n",
      "x24           -0.0281      0.040     -0.706      0.480      -0.106       0.050\n",
      "x25           -0.1367      0.052     -2.647      0.008      -0.238      -0.035\n",
      "x26           -0.2648      0.040     -6.667      0.000      -0.343      -0.187\n",
      "x27           -0.5364      0.038    -13.981      0.000      -0.612      -0.461\n",
      "x28            0.0785      0.046      1.718      0.086      -0.011       0.168\n",
      "x29           -0.0742      0.019     -3.928      0.000      -0.111      -0.037\n",
      "x30           -0.0380      0.049     -0.779      0.436      -0.134       0.058\n",
      "x31            0.1698      0.056      3.024      0.003       0.060       0.280\n",
      "x32           -0.1193      0.046     -2.570      0.010      -0.210      -0.028\n",
      "x33           -0.1092      0.043     -2.528      0.011      -0.194      -0.025\n",
      "x34            0.1117      0.045      2.465      0.014       0.023       0.201\n",
      "x35           -0.2452      0.063     -3.902      0.000      -0.368      -0.122\n",
      "x36           -0.0667      0.032     -2.054      0.040      -0.130      -0.003\n",
      "x37            0.0799      0.072      1.112      0.266      -0.061       0.221\n",
      "x38            0.0218      0.042      0.515      0.606      -0.061       0.105\n",
      "x39            0.1873      0.047      3.954      0.000       0.094       0.280\n",
      "x40           -0.3152      0.061     -5.197      0.000      -0.434      -0.196\n",
      "x41           -0.1130      0.072     -1.576      0.115      -0.254       0.028\n",
      "x42           -0.0665      0.056     -1.191      0.234      -0.176       0.043\n",
      "x43           -0.0321      0.061     -0.530      0.596      -0.151       0.087\n",
      "x44           -0.4497      0.114     -3.950      0.000      -0.673      -0.226\n",
      "x45           -0.0320      0.022     -1.424      0.155      -0.076       0.012\n",
      "x46           -0.0482      0.025     -1.924      0.054      -0.097       0.001\n",
      "x47           -0.1002      0.062     -1.624      0.104      -0.221       0.021\n",
      "x48            0.4709      0.068      6.907      0.000       0.337       0.605\n",
      "x49            2.7823      0.184     15.126      0.000       2.422       3.143\n",
      "x50           -0.1061      0.025     -4.203      0.000      -0.156      -0.057\n",
      "x51           -0.2122      0.020    -10.794      0.000      -0.251      -0.174\n",
      "x52           -0.0685      0.065     -1.060      0.289      -0.195       0.058\n",
      "x53            0.0750      0.035      2.118      0.034       0.006       0.144\n",
      "x54           -0.5101      0.045    -11.427      0.000      -0.598      -0.423\n",
      "x55            1.2629      0.076     16.513      0.000       1.113       1.413\n",
      "x56           -0.2965      0.054     -5.502      0.000      -0.402      -0.191\n",
      "x57            0.1474      0.041      3.600      0.000       0.067       0.228\n",
      "x58            0.1901      0.064      2.980      0.003       0.065       0.315\n",
      "x59           -0.2325      0.051     -4.531      0.000      -0.333      -0.132\n",
      "x60           -0.0065      0.047     -0.139      0.890      -0.098       0.085\n",
      "x61           -0.1322      0.062     -2.142      0.032      -0.253      -0.011\n",
      "x62            0.1504      0.055      2.722      0.006       0.042       0.259\n",
      "x63            0.1839      0.039      4.774      0.000       0.108       0.259\n",
      "x64           -0.1412      0.035     -3.978      0.000      -0.211      -0.072\n",
      "x65           -0.0069      0.031     -0.226      0.821      -0.067       0.053\n",
      "x66           -0.1955      0.046     -4.242      0.000      -0.286      -0.105\n",
      "x67           -0.0491      0.023     -2.146      0.032      -0.094      -0.004\n",
      "x68            0.0787      0.109      0.724      0.469      -0.134       0.292\n",
      "x69            0.2897      0.022     13.013      0.000       0.246       0.333\n",
      "x70        -1.204e-18   1.11e-15     -0.001      0.999   -2.17e-15    2.17e-15\n",
      "x71           -0.1187      0.151     -0.786      0.432      -0.415       0.178\n",
      "x72           -0.1158      0.019     -6.257      0.000      -0.152      -0.080\n",
      "x73            0.1233      0.046      2.664      0.008       0.033       0.214\n",
      "x74           -0.0213      0.017     -1.292      0.196      -0.054       0.011\n",
      "x75            0.0473      0.042      1.115      0.265      -0.036       0.130\n",
      "x76           -0.1835      0.051     -3.575      0.000      -0.284      -0.083\n",
      "x77           -0.0700      0.028     -2.500      0.012      -0.125      -0.015\n",
      "x78            0.0669      0.017      3.903      0.000       0.033       0.101\n",
      "x79           -0.0067      0.057     -0.118      0.906      -0.119       0.105\n",
      "x80           -0.1193      0.046     -2.572      0.010      -0.210      -0.028\n",
      "x81           -0.0202      0.031     -0.649      0.517      -0.081       0.041\n",
      "x82            0.0917      0.036      2.582      0.010       0.022       0.161\n",
      "x83            0.0001      0.013      0.011      0.992      -0.026       0.026\n",
      "x84           -0.0071      0.013     -0.554      0.580      -0.032       0.018\n",
      "x85           -0.0749      0.013     -5.760      0.000      -0.100      -0.049\n",
      "x86            0.0679      0.014      4.951      0.000       0.041       0.095\n",
      "x87            0.0739      0.160      0.461      0.645      -0.241       0.388\n",
      "x88           -0.1119      0.160     -0.699      0.484      -0.426       0.202\n",
      "x89           -0.0036      0.057     -0.062      0.951      -0.116       0.109\n",
      "x90            0.0337      0.075      0.449      0.654      -0.114       0.181\n",
      "x91           -0.0510      0.134     -0.382      0.703      -0.313       0.211\n",
      "x92            0.3512      0.029     11.977      0.000       0.294       0.409\n",
      "x93            0.0525      0.092      0.571      0.568      -0.128       0.233\n",
      "x94            0.0786      0.160      0.490      0.624      -0.236       0.393\n",
      "x95           -0.1627      0.035     -4.613      0.000      -0.232      -0.094\n",
      "x96           -0.0274      0.113     -0.242      0.809      -0.249       0.195\n",
      "x97           -0.1237      0.155     -0.798      0.425      -0.428       0.180\n",
      "x98           -0.1022      0.081     -1.263      0.207      -0.261       0.056\n",
      "x99            0.0420      0.054      0.774      0.439      -0.064       0.148\n",
      "x100           0.1203      0.160      0.749      0.454      -0.194       0.435\n",
      "x101          -0.0615      0.156     -0.395      0.693      -0.367       0.244\n",
      "x102          -0.0472      0.070     -0.675      0.500      -0.184       0.090\n",
      "x103          -0.1040      0.152     -0.684      0.494      -0.402       0.194\n",
      "x104           0.0685      0.143      0.480      0.632      -0.211       0.348\n",
      "x105           0.0979      0.151      0.650      0.516      -0.197       0.393\n",
      "x106          -0.0930      0.127     -0.734      0.463      -0.341       0.155\n",
      "x107          -0.0382      0.052     -0.737      0.461      -0.140       0.063\n",
      "x108           0.0069      0.031      0.221      0.825      -0.054       0.068\n",
      "x109          -0.1394      0.046     -3.061      0.002      -0.229      -0.050\n",
      "x110       -9.776e-16   1.45e-15     -0.673      0.501   -3.83e-15    1.87e-15\n",
      "x111           0.0690      0.079      0.869      0.385      -0.087       0.225\n",
      "x112          -0.0823      0.160     -0.514      0.607      -0.396       0.231\n",
      "x113       -1.719e-16   1.18e-15     -0.145      0.885   -2.49e-15    2.15e-15\n",
      "x114        2.683e-16   1.38e-15      0.194      0.846   -2.44e-15    2.98e-15\n",
      "x115           0.0030      0.160      0.019      0.985      -0.311       0.317\n",
      "x116          -0.0680      0.034     -2.005      0.045      -0.135      -0.002\n",
      "x117          -0.0773      0.046     -1.698      0.090      -0.167       0.012\n",
      "x118          -0.0721      0.041     -1.741      0.082      -0.153       0.009\n",
      "x119          -0.0058      0.112     -0.052      0.959      -0.226       0.214\n",
      "x120          -0.0866      0.078     -1.115      0.265      -0.239       0.066\n",
      "x121           0.0180      0.143      0.126      0.899      -0.261       0.297\n",
      "x122           0.0165      0.160      0.103      0.918      -0.298       0.331\n",
      "x123        1.458e-16   1.58e-15      0.092      0.926   -2.95e-15    3.24e-15\n",
      "x124           0.0034      0.158      0.022      0.983      -0.307       0.314\n",
      "x125           0.0532      0.160      0.333      0.739      -0.260       0.367\n",
      "x126          -0.0216      0.036     -0.594      0.553      -0.093       0.050\n",
      "x127           0.1454      0.155      0.937      0.349      -0.159       0.449\n",
      "x128       -7.233e-16   1.01e-15     -0.715      0.474   -2.71e-15    1.26e-15\n",
      "x129          -0.0906      0.152     -0.595      0.552      -0.389       0.208\n",
      "x130          -0.0276      0.093     -0.297      0.767      -0.210       0.155\n",
      "x131           0.0217      0.143      0.152      0.879      -0.258       0.301\n",
      "x132        1.432e-16   7.96e-16      0.180      0.857   -1.42e-15     1.7e-15\n",
      "x133           0.0370      0.161      0.230      0.818      -0.279       0.353\n",
      "x134           0.1123      0.158      0.710      0.478      -0.198       0.422\n",
      "x135        8.957e-17   9.99e-16      0.090      0.929   -1.87e-15    2.05e-15\n",
      "x136         2.98e-16   1.44e-15      0.208      0.836   -2.52e-15    3.11e-15\n",
      "x137           0.0326      0.151      0.215      0.830      -0.264       0.329\n",
      "x138          -0.0277      0.156     -0.177      0.859      -0.333       0.278\n",
      "x139           0.1001      0.138      0.728      0.467      -0.169       0.370\n",
      "x140           0.0108      0.081      0.133      0.894      -0.147       0.169\n",
      "x141       -7.351e-18   1.29e-15     -0.006      0.995   -2.53e-15    2.52e-15\n",
      "x142          -0.0036      0.128     -0.028      0.978      -0.255       0.248\n",
      "x143           0.0096      0.057      0.167      0.867      -0.103       0.122\n",
      "x144          -0.0807      0.081     -0.999      0.318      -0.239       0.078\n",
      "x145          -0.3334      0.114     -2.928      0.003      -0.557      -0.110\n",
      "x146          -0.0125      0.114     -0.110      0.912      -0.235       0.210\n",
      "x147          -0.0683      0.160     -0.427      0.669      -0.382       0.245\n",
      "x148          -0.0939      0.160     -0.587      0.558      -0.408       0.220\n",
      "x149          -0.0147      0.019     -0.787      0.431      -0.051       0.022\n",
      "x150          -0.1672      0.160     -1.042      0.297      -0.482       0.147\n",
      "x151           0.0095      0.160      0.059      0.953      -0.305       0.324\n",
      "x152          -0.0047      0.111     -0.042      0.966      -0.222       0.213\n",
      "x153          -0.0798      0.055     -1.464      0.143      -0.187       0.027\n",
      "x154          -0.0515      0.083     -0.619      0.536      -0.214       0.112\n",
      "x155           0.0969      0.144      0.672      0.502      -0.186       0.380\n",
      "x156           0.2901      0.083      3.515      0.000       0.128       0.452\n",
      "x157           0.0164      0.047      0.347      0.728      -0.076       0.109\n",
      "x158       -2.436e-16    1.4e-15     -0.174      0.862   -2.98e-15    2.49e-15\n",
      "x159          -0.0848      0.041     -2.054      0.040      -0.166      -0.004\n",
      "x160          -0.1164      0.047     -2.461      0.014      -0.209      -0.024\n",
      "x161           0.1296      0.160      0.808      0.419      -0.185       0.444\n",
      "x162          -0.0880      0.187     -0.470      0.638      -0.455       0.279\n",
      "x163          -0.0036      0.052     -0.069      0.945      -0.105       0.098\n",
      "x164           0.0003      0.071      0.004      0.997      -0.139       0.139\n",
      "x165           0.1652      0.160      1.029      0.303      -0.149       0.480\n",
      "x166           0.0423      0.032      1.320      0.187      -0.021       0.105\n",
      "x167          -0.0667      0.032     -2.054      0.040      -0.130      -0.003\n",
      "x168          -0.0532      0.147     -0.362      0.718      -0.341       0.235\n",
      "x169          -0.1035      0.155     -0.668      0.504      -0.407       0.200\n",
      "x170           0.1034      0.149      0.693      0.488      -0.189       0.396\n",
      "x171          -0.0250      0.158     -0.158      0.874      -0.335       0.285\n",
      "x172          -0.0752      0.163     -0.462      0.644      -0.395       0.244\n",
      "x173       -1.005e-16   8.85e-16     -0.114      0.910   -1.84e-15    1.64e-15\n",
      "x174          -0.1709      0.143     -1.198      0.231      -0.450       0.109\n",
      "x175          -0.0786      0.054     -1.449      0.147      -0.185       0.028\n",
      "x176          -0.1186      0.149     -0.795      0.427      -0.411       0.174\n",
      "x177          -0.0754      0.047     -1.593      0.111      -0.168       0.017\n",
      "x178           0.0484      0.231      0.210      0.834      -0.404       0.501\n",
      "x179          -0.2499      0.021    -11.831      0.000      -0.291      -0.208\n",
      "x180           0.0394      0.194      0.203      0.839      -0.341       0.420\n",
      "x181          -0.0392      0.156     -0.252      0.801      -0.345       0.267\n",
      "x182           0.1034      0.147      0.703      0.482      -0.185       0.392\n",
      "x183           0.0074      0.034      0.222      0.825      -0.058       0.073\n",
      "x184          -0.0412      0.161     -0.256      0.798      -0.356       0.273\n",
      "x185          -0.1501      0.066     -2.270      0.023      -0.280      -0.020\n",
      "x186          -0.0083      0.114     -0.073      0.942      -0.231       0.215\n",
      "x187          -0.2353      0.114     -2.068      0.039      -0.458      -0.012\n",
      "x188          -0.1366      0.160     -0.852      0.394      -0.451       0.178\n",
      "x189          -0.1622      0.093     -1.746      0.081      -0.344       0.020\n",
      "x190           0.1097      0.083      1.329      0.184      -0.052       0.272\n",
      "x191          -0.0621      0.160     -0.388      0.698      -0.376       0.252\n",
      "x192          -0.0119      0.154     -0.078      0.938      -0.313       0.289\n",
      "x193          -0.0169      0.156     -0.108      0.914      -0.323       0.289\n",
      "x194          -0.0788      0.110     -0.719      0.472      -0.294       0.136\n",
      "x195           0.0098      0.156      0.063      0.950      -0.296       0.316\n",
      "x196          -0.0990      0.160     -0.617      0.537      -0.414       0.216\n",
      "x197           0.0531      0.151      0.351      0.726      -0.244       0.350\n",
      "x198           0.0862      0.231      0.373      0.709      -0.366       0.538\n",
      "x199           0.0898      0.160      0.560      0.576      -0.225       0.404\n",
      "x200           0.0545      0.052      1.057      0.291      -0.047       0.156\n",
      "x201           0.1000      0.058      1.719      0.086      -0.014       0.214\n",
      "x202          -0.0375      0.112     -0.335      0.738      -0.257       0.182\n",
      "x203          -0.0534      0.151     -0.355      0.723      -0.348       0.242\n",
      "x204           0.2246      0.017     12.908      0.000       0.191       0.259\n",
      "x205          -0.0482      0.025     -1.924      0.054      -0.097       0.001\n",
      "x206          -0.1854      0.160     -1.158      0.247      -0.499       0.128\n",
      "x207           0.0758      0.160      0.472      0.637      -0.239       0.390\n",
      "x208          -0.0368      0.158     -0.233      0.816      -0.347       0.273\n",
      "x209          -0.1416      0.094     -1.503      0.133      -0.326       0.043\n",
      "x210          -0.3855      0.093     -4.143      0.000      -0.568      -0.203\n",
      "x211           0.0600      0.151      0.396      0.692      -0.237       0.357\n",
      "x212          -0.1144      0.111     -1.026      0.305      -0.333       0.104\n",
      "x213          -0.0577      0.066     -0.870      0.384      -0.188       0.072\n",
      "x214          -0.0502      0.031     -1.596      0.111      -0.112       0.011\n",
      "x215           0.0677      0.054      1.251      0.211      -0.038       0.174\n",
      "x216           0.0870      0.081      1.078      0.281      -0.071       0.245\n",
      "x217          -0.0621      0.160     -0.387      0.699      -0.377       0.252\n",
      "x218           0.0292      0.149      0.196      0.845      -0.263       0.321\n",
      "x219          -0.0096      0.158     -0.060      0.952      -0.320       0.300\n",
      "x220          -0.0274      0.072     -0.378      0.705      -0.169       0.114\n",
      "x221          -0.1001      0.068     -1.471      0.141      -0.233       0.033\n",
      "x222          -0.0817      0.116     -0.707      0.480      -0.308       0.145\n",
      "x223           0.0430      0.116      0.372      0.710      -0.184       0.270\n",
      "x224           0.1224      0.160      0.763      0.445      -0.192       0.437\n",
      "x225       -1.268e-16   1.26e-15     -0.101      0.920    -2.6e-15    2.34e-15\n",
      "x226           0.0141      0.152      0.093      0.926      -0.284       0.312\n",
      "x227           0.0273      0.160      0.171      0.865      -0.287       0.342\n",
      "x228          -0.0172      0.137     -0.126      0.900      -0.285       0.251\n",
      "x229       -1.144e-16   1.83e-15     -0.062      0.950    -3.7e-15    3.47e-15\n",
      "x230          -0.0396      0.106     -0.374      0.709      -0.247       0.168\n",
      "x231           0.0428      0.014      3.083      0.002       0.016       0.070\n",
      "x232           0.0616      0.049      1.269      0.205      -0.034       0.157\n",
      "x233          -0.0311      0.141     -0.221      0.825      -0.307       0.245\n",
      "x234           0.0927      0.156      0.594      0.552      -0.213       0.399\n",
      "x235          -0.0427      0.072     -0.590      0.555      -0.184       0.099\n",
      "x236          -0.0303      0.032     -0.937      0.349      -0.094       0.033\n",
      "x237          -0.1608      0.114     -1.415      0.157      -0.384       0.062\n",
      "x238          -0.0718      0.160     -0.448      0.654      -0.386       0.243\n",
      "x239           0.1944      0.190      1.024      0.306      -0.178       0.567\n",
      "x240          -0.1055      0.093     -1.132      0.258      -0.288       0.077\n",
      "x241          -0.0993      0.032     -3.066      0.002      -0.163      -0.036\n",
      "x242           0.0304      0.141      0.217      0.829      -0.245       0.306\n",
      "x243       -2.313e-17   1.19e-15     -0.019      0.985   -2.36e-15    2.32e-15\n",
      "x244           0.0847      0.190      0.446      0.655      -0.287       0.457\n",
      "x245           0.0202      0.033      0.616      0.538      -0.044       0.085\n",
      "x246        2.712e-17   1.34e-15      0.020      0.984    -2.6e-15    2.66e-15\n",
      "x247           0.0394      0.190      0.207      0.836      -0.333       0.411\n",
      "x248           0.0142      0.159      0.089      0.929      -0.297       0.326\n",
      "x249       -1.582e-16   1.51e-15     -0.105      0.916   -3.11e-15     2.8e-15\n",
      "x250           0.0370      0.112      0.331      0.741      -0.182       0.256\n",
      "x251          -0.0304      0.079     -0.383      0.702      -0.186       0.125\n",
      "x252          -0.0275      0.030     -0.926      0.354      -0.086       0.031\n",
      "x253        4.862e-17   1.19e-15      0.041      0.967   -2.29e-15    2.39e-15\n",
      "x254           0.0266      0.120      0.222      0.824      -0.208       0.261\n",
      "x255          -0.2341      0.102     -2.306      0.021      -0.433      -0.035\n",
      "x256           0.0714      0.081      0.886      0.375      -0.086       0.229\n",
      "x257          -0.4417      0.072     -6.096      0.000      -0.584      -0.300\n",
      "x258          -0.1873      0.044     -4.248      0.000      -0.274      -0.101\n",
      "x259           0.0241      0.093      0.259      0.796      -0.158       0.206\n",
      "x260           0.0230      0.120      0.192      0.848      -0.211       0.257\n",
      "x261          -0.0951      0.160     -0.593      0.553      -0.409       0.219\n",
      "x262           0.0669      0.143      0.468      0.640      -0.214       0.348\n",
      "x263       -1.413e-16   1.17e-15     -0.121      0.904   -2.43e-15    2.14e-15\n",
      "x264           0.1977      0.151      1.312      0.189      -0.098       0.493\n",
      "x265           0.0306      0.033      0.931      0.352      -0.034       0.095\n",
      "x266           0.0699      0.113      0.619      0.536      -0.152       0.291\n",
      "x267          -0.0759      0.160     -0.473      0.636      -0.390       0.239\n",
      "x268           0.0382      0.096      0.396      0.692      -0.151       0.227\n",
      "x269          -0.0440      0.155     -0.284      0.777      -0.348       0.260\n",
      "x270        4.423e-17   1.72e-15      0.026      0.979   -3.33e-15    3.41e-15\n",
      "x271          -0.0942      0.160     -0.588      0.556      -0.408       0.220\n",
      "x272        8.142e-17   1.48e-15      0.055      0.956   -2.81e-15    2.97e-15\n",
      "x273          -0.0371      0.070     -0.530      0.596      -0.174       0.100\n",
      "x274        1.428e-16   1.27e-15      0.112      0.910   -2.35e-15    2.63e-15\n",
      "x275          -0.1629      0.061     -2.658      0.008      -0.283      -0.043\n",
      "x276          -0.0970      0.160     -0.606      0.545      -0.411       0.217\n",
      "x277          -0.1704      0.161     -1.060      0.289      -0.486       0.145\n",
      "x278         7.53e-17   1.73e-15      0.043      0.965   -3.32e-15    3.47e-15\n",
      "x279           0.1105      0.065      1.708      0.088      -0.016       0.237\n",
      "x280          -0.0775      0.061     -1.264      0.206      -0.198       0.043\n",
      "x281           0.1485      0.022      6.673      0.000       0.105       0.192\n",
      "x282           0.0179      0.079      0.226      0.822      -0.138       0.173\n",
      "x283       -7.478e-17   1.52e-15     -0.049      0.961   -3.05e-15     2.9e-15\n",
      "x284          -0.0770      0.072     -1.065      0.287      -0.219       0.065\n",
      "x285          -0.3400      0.028    -12.123      0.000      -0.395      -0.285\n",
      "x286        2.968e-17    1.8e-15      0.016      0.987    -3.5e-15    3.56e-15\n",
      "x287           0.0708      0.062      1.135      0.256      -0.051       0.193\n",
      "x288          -0.0441      0.158     -0.279      0.781      -0.354       0.266\n",
      "x289          -0.1869      0.160     -1.167      0.243      -0.501       0.127\n",
      "x290          -0.0746      0.149     -0.501      0.617      -0.367       0.217\n",
      "x291          -0.0619      0.039     -1.580      0.114      -0.139       0.015\n",
      "x292           0.1437      0.085      1.683      0.092      -0.024       0.311\n",
      "x293          -0.0618      0.156     -0.396      0.692      -0.368       0.244\n",
      "x294          -0.0335      0.158     -0.212      0.832      -0.343       0.277\n",
      "x295       -2.904e-17   9.36e-16     -0.031      0.975   -1.86e-15    1.81e-15\n",
      "x296          -0.1028      0.154     -0.669      0.503      -0.404       0.198\n",
      "x297       -2.519e-17   1.34e-15     -0.019      0.985   -2.66e-15    2.61e-15\n",
      "x298           0.0858      0.160      0.535      0.592      -0.228       0.400\n",
      "x299          -0.0904      0.081     -1.119      0.263      -0.249       0.068\n",
      "x300          -0.0067      0.057     -0.118      0.906      -0.119       0.105\n",
      "x301          -0.2778      0.114     -2.442      0.015      -0.501      -0.055\n",
      "x302           0.2923      0.023     12.517      0.000       0.247       0.338\n",
      "x303          -0.1093      0.093     -1.175      0.240      -0.292       0.073\n",
      "x304           0.0301      0.033      0.914      0.361      -0.034       0.095\n",
      "x305           0.2077      0.160      1.294      0.196      -0.107       0.522\n",
      "x306          -0.0537      0.112     -0.480      0.631      -0.273       0.165\n",
      "x307          -0.1687      0.160     -1.051      0.293      -0.483       0.146\n",
      "x308          -0.2450      0.093     -2.629      0.009      -0.428      -0.062\n",
      "x309          -0.0606      0.160     -0.378      0.706      -0.375       0.254\n",
      "x310          -0.1022      0.047     -2.158      0.031      -0.195      -0.009\n",
      "x311          -0.0485      0.049     -0.983      0.326      -0.145       0.048\n",
      "x312          -0.0848      0.113     -0.753      0.451      -0.306       0.136\n",
      "x313          -0.0189      0.052     -0.363      0.717      -0.121       0.083\n",
      "x314       -1.098e-18   2.03e-15     -0.001      1.000   -3.98e-15    3.98e-15\n",
      "x315           0.0428      0.163      0.263      0.793      -0.276       0.362\n",
      "x316          -0.0858      0.079     -1.081      0.280      -0.241       0.070\n",
      "x317          -0.1349      0.114     -1.184      0.237      -0.358       0.089\n",
      "x318           0.0832      0.155      0.537      0.591      -0.221       0.387\n",
      "x319       -4.204e-17   1.36e-15     -0.031      0.975    -2.7e-15    2.61e-15\n",
      "x320          -0.0932      0.110     -0.850      0.395      -0.308       0.122\n",
      "x321          -0.1259      0.160     -0.785      0.432      -0.440       0.188\n",
      "x322          -0.0460      0.116     -0.397      0.692      -0.274       0.181\n",
      "x323          -0.2520      0.194     -1.297      0.195      -0.633       0.129\n",
      "x324           0.0547      0.137      0.398      0.691      -0.215       0.324\n",
      "x325          -0.1128      0.155     -0.726      0.468      -0.417       0.192\n",
      "x326          -0.1061      0.025     -4.203      0.000      -0.156      -0.057\n",
      "x327          -0.0181      0.114     -0.159      0.873      -0.241       0.205\n",
      "x328           0.0942      0.114      0.830      0.407      -0.128       0.317\n",
      "x329          -0.0023      0.165     -0.014      0.989      -0.326       0.321\n",
      "x330           0.1744      0.014     12.301      0.000       0.147       0.202\n",
      "x331          -0.0640      0.160     -0.399      0.690      -0.378       0.250\n",
      "x332           0.0725      0.011      6.483      0.000       0.051       0.094\n",
      "x333          -0.0412      0.031     -1.337      0.181      -0.102       0.019\n",
      "x334           0.1629      0.160      1.016      0.310      -0.152       0.477\n",
      "x335           0.0543      0.134      0.406      0.685      -0.208       0.316\n",
      "x336           0.1421      0.149      0.953      0.341      -0.150       0.434\n",
      "x337          -0.0445      0.113     -0.393      0.695      -0.267       0.178\n",
      "x338           0.1169      0.086      1.353      0.176      -0.052       0.286\n",
      "x339           0.0271      0.152      0.178      0.859      -0.271       0.325\n",
      "x340           0.0701      0.017      4.165      0.000       0.037       0.103\n",
      "x341        2.554e-26   2.22e-15   1.15e-11      1.000   -4.35e-15    4.35e-15\n",
      "x342          -0.0320      0.022     -1.424      0.155      -0.076       0.012\n",
      "x343          -0.1721      0.144     -1.193      0.233      -0.455       0.111\n",
      "x344           0.0276      0.054      0.507      0.612      -0.079       0.134\n",
      "x345           0.0160      0.147      0.109      0.914      -0.272       0.304\n",
      "x346          -0.0353      0.045     -0.776      0.438      -0.124       0.054\n",
      "x347           0.0557      0.152      0.366      0.715      -0.243       0.354\n",
      "x348          -0.1412      0.035     -3.978      0.000      -0.211      -0.072\n",
      "x349          -0.0647      0.149     -0.434      0.664      -0.357       0.227\n",
      "x350          -0.0723      0.135     -0.536      0.592      -0.337       0.192\n",
      "x351           0.1031      0.026      4.014      0.000       0.053       0.153\n",
      "x352          -0.0724      0.156     -0.464      0.642      -0.378       0.233\n",
      "x353        1.745e-27   1.23e-15   1.42e-12      1.000   -2.41e-15    2.41e-15\n",
      "x354       -1.892e-27   1.49e-15  -1.27e-12      1.000   -2.93e-15    2.93e-15\n",
      "x355           0.0686      0.147      0.467      0.641      -0.220       0.357\n",
      "x356           0.1235      0.155      0.797      0.426      -0.180       0.427\n",
      "x357          -0.0654      0.156     -0.419      0.675      -0.371       0.240\n",
      "x358          -0.0298      0.093     -0.321      0.748      -0.212       0.152\n",
      "x359           0.0671      0.093      0.723      0.470      -0.115       0.249\n",
      "x360          -0.0591      0.160     -0.368      0.713      -0.374       0.255\n",
      "x361          -0.1334      0.114     -1.174      0.240      -0.356       0.089\n",
      "x362        2.855e-28    1.7e-15   1.68e-13      1.000   -3.32e-15    3.32e-15\n",
      "x363           0.0055      0.053      0.105      0.916      -0.098       0.109\n",
      "x364        7.931e-29   1.37e-15   5.79e-14      1.000   -2.69e-15    2.69e-15\n",
      "x365           0.0969      0.160      0.604      0.546      -0.218       0.411\n",
      "x366           0.0869      0.158      0.548      0.584      -0.224       0.398\n",
      "x367           0.0042      0.113      0.037      0.970      -0.218       0.227\n",
      "x368          -0.2425      0.072     -3.345      0.001      -0.385      -0.100\n",
      "x369           0.3945      0.023     17.501      0.000       0.350       0.439\n",
      "x370           0.0604      0.138      0.437      0.662      -0.210       0.331\n",
      "x371          -0.0817      0.081     -1.013      0.311      -0.240       0.076\n",
      "x372           0.0828      0.158      0.523      0.601      -0.227       0.393\n",
      "x373           0.0529      0.115      0.460      0.645      -0.172       0.278\n",
      "x374           0.1088      0.025      4.400      0.000       0.060       0.157\n",
      "x375          -0.1671      0.061     -2.723      0.006      -0.287      -0.047\n",
      "x376          -0.0222      0.256     -0.087      0.931      -0.524       0.479\n",
      "x377           0.1312      0.158      0.829      0.407      -0.179       0.441\n",
      "x378           0.0115      0.160      0.072      0.943      -0.303       0.326\n",
      "x379           0.0724      0.017      4.248      0.000       0.039       0.106\n",
      "x380           0.1906      0.160      1.188      0.235      -0.124       0.505\n",
      "x381           0.1219      0.158      0.770      0.441      -0.188       0.432\n",
      "x382       -1.915e-27   1.07e-15  -1.79e-12      1.000   -2.09e-15    2.09e-15\n",
      "x383          -0.0901      0.096     -0.934      0.350      -0.279       0.099\n",
      "x384          -0.0837      0.161     -0.521      0.602      -0.399       0.231\n",
      "x385          -0.0846      0.072     -1.169      0.242      -0.227       0.057\n",
      "x386       -7.751e-28   1.17e-15  -6.62e-13      1.000   -2.29e-15    2.29e-15\n",
      "x387           0.1879      0.190      0.990      0.322      -0.184       0.560\n",
      "x388           0.2014      0.160      1.255      0.210      -0.113       0.516\n",
      "x389          -0.0199      0.082     -0.243      0.808      -0.180       0.141\n",
      "x390           0.0737      0.160      0.461      0.645      -0.240       0.387\n",
      "x391          -0.0004      0.093     -0.004      0.997      -0.183       0.182\n",
      "x392           0.0423      0.138      0.306      0.760      -0.229       0.313\n",
      "x393           0.0293      0.066      0.445      0.656      -0.100       0.158\n",
      "x394           0.0154      0.081      0.190      0.849      -0.144       0.175\n",
      "x395          -0.1173      0.114     -1.032      0.302      -0.340       0.105\n",
      "x396          -0.0462      0.091     -0.510      0.610      -0.224       0.131\n",
      "x397           0.1703      0.143      1.194      0.233      -0.109       0.450\n",
      "x398           0.8569      0.046     18.482      0.000       0.766       0.948\n",
      "x399           0.3087      0.022     14.313      0.000       0.266       0.351\n",
      "x400       -8.976e-28   1.12e-15     -8e-13      1.000    -2.2e-15     2.2e-15\n",
      "x401          -0.0763      0.116     -0.659      0.510      -0.303       0.151\n",
      "x402          -0.0865      0.114     -0.760      0.447      -0.310       0.137\n",
      "x403        2.886e-27   1.45e-15   1.99e-12      1.000   -2.84e-15    2.84e-15\n",
      "x404           0.1212      0.082      1.472      0.141      -0.040       0.283\n",
      "x405          -0.0205      0.079     -0.258      0.796      -0.176       0.135\n",
      "x406           0.0776      0.160      0.485      0.628      -0.236       0.391\n",
      "x407          -0.0445      0.019     -2.390      0.017      -0.081      -0.008\n",
      "x408       -1.119e-27   1.21e-15  -9.22e-13      1.000   -2.38e-15    2.38e-15\n",
      "x409          -0.0742      0.019     -3.928      0.000      -0.111      -0.037\n",
      "x410           0.1737      0.160      1.083      0.279      -0.141       0.488\n",
      "x411         3.95e-29   7.38e-16   5.35e-14      1.000   -1.45e-15    1.45e-15\n",
      "x412           0.1591      0.155      1.026      0.305      -0.145       0.463\n",
      "x413           0.0491      0.093      0.527      0.598      -0.133       0.231\n",
      "x414          -0.0005      0.143     -0.003      0.997      -0.281       0.280\n",
      "x415          -0.0057      0.117     -0.048      0.961      -0.235       0.224\n",
      "x416          -0.0713      0.160     -0.444      0.657      -0.386       0.243\n",
      "x417           0.0940      0.037      2.528      0.011       0.021       0.167\n",
      "x418          -0.1610      0.019     -8.461      0.000      -0.198      -0.124\n",
      "x419          -0.1358      0.058     -2.324      0.020      -0.250      -0.021\n",
      "x420       -7.764e-28   1.26e-15  -6.14e-13      1.000   -2.48e-15    2.48e-15\n",
      "x421          -0.1556      0.156     -0.997      0.319      -0.461       0.150\n",
      "x422          -0.0069      0.031     -0.226      0.821      -0.067       0.053\n",
      "x423           0.1327      0.190      0.699      0.484      -0.239       0.505\n",
      "x424          -0.1040      0.025     -4.168      0.000      -0.153      -0.055\n",
      "x425          -0.0694      0.081     -0.857      0.391      -0.228       0.089\n",
      "x426        1.048e-27   1.15e-15   9.14e-13      1.000   -2.25e-15    2.25e-15\n",
      "x427           0.0247      0.110      0.225      0.822      -0.191       0.240\n",
      "x428           0.0514      0.054      0.947      0.344      -0.055       0.158\n",
      "x429          -0.0811      0.161     -0.505      0.613      -0.396       0.234\n",
      "x430           0.1306      0.160      0.814      0.415      -0.184       0.445\n",
      "x431           0.0543      0.160      0.339      0.735      -0.260       0.369\n",
      "x432           0.0141      0.044      0.322      0.747      -0.072       0.100\n",
      "x433          -0.0330      0.151     -0.219      0.826      -0.328       0.262\n",
      "x434        1.824e-28   9.67e-16   1.89e-13      1.000    -1.9e-15     1.9e-15\n",
      "x435          -0.0650      0.147     -0.441      0.659      -0.354       0.224\n",
      "x436           0.0400      0.152      0.263      0.793      -0.258       0.338\n",
      "x437           0.0246      0.138      0.178      0.859      -0.246       0.296\n",
      "x438           0.0660      0.114      0.577      0.564      -0.158       0.290\n",
      "x439           0.1651      0.160      1.029      0.303      -0.149       0.480\n",
      "x440          -0.0517      0.093     -0.556      0.578      -0.234       0.130\n",
      "x441           0.0014      0.028      0.049      0.961      -0.054       0.056\n",
      "x442          -0.0814      0.114     -0.716      0.474      -0.304       0.141\n",
      "x443        2.245e-27   1.72e-15    1.3e-12      1.000   -3.38e-15    3.38e-15\n",
      "x444          -0.4689      0.161     -2.919      0.004      -0.784      -0.154\n",
      "x445          -0.1008      0.161     -0.628      0.530      -0.416       0.214\n",
      "x446          -0.0966      0.143     -0.675      0.500      -0.377       0.184\n",
      "x447           0.0110      0.149      0.074      0.941      -0.281       0.303\n",
      "x448           0.0371      0.032      1.146      0.252      -0.026       0.101\n",
      "x449          -0.0678      0.156     -0.434      0.664      -0.374       0.238\n",
      "x450           0.0236      0.152      0.155      0.877      -0.275       0.322\n",
      "x451           0.0442      0.114      0.389      0.697      -0.179       0.267\n",
      "x452          -0.0888      0.114     -0.782      0.434      -0.312       0.134\n",
      "x453           0.0420      0.066      0.633      0.527      -0.088       0.172\n",
      "x454          -0.0163      0.025     -0.651      0.515      -0.065       0.033\n",
      "x455            4e-28   1.53e-15   2.61e-13      1.000      -3e-15       3e-15\n",
      "x456          -0.0347      0.160     -0.216      0.829      -0.349       0.280\n",
      "x457          -0.1382      0.107     -1.294      0.196      -0.348       0.071\n",
      "x458           0.0935      0.144      0.648      0.517      -0.190       0.377\n",
      "x459          -0.0588      0.160     -0.368      0.713      -0.373       0.255\n",
      "x460       -3.621e-27    1.9e-15   -1.9e-12      1.000   -3.73e-15    3.73e-15\n",
      "x461          -0.0361      0.116     -0.312      0.755      -0.263       0.191\n",
      "x462           0.0437      0.154      0.283      0.777      -0.258       0.346\n",
      "x463           0.9668      0.078     12.424      0.000       0.814       1.119\n",
      "x464           0.0828      0.023      3.665      0.000       0.039       0.127\n",
      "x465          -0.0575      0.114     -0.507      0.612      -0.280       0.165\n",
      "x466           0.0780      0.038      2.046      0.041       0.003       0.153\n",
      "x467           0.1538      0.156      0.986      0.324      -0.152       0.460\n",
      "x468       -1.223e-27   1.28e-15  -9.53e-13      1.000   -2.52e-15    2.52e-15\n",
      "x469          -0.0549      0.061     -0.896      0.370      -0.175       0.065\n",
      "x470          -0.0475      0.155     -0.307      0.759      -0.351       0.256\n",
      "x471          -0.1042      0.149     -0.699      0.484      -0.396       0.188\n",
      "x472           0.0419      0.150      0.280      0.779      -0.251       0.335\n",
      "x473          -0.0764      0.160     -0.476      0.634      -0.391       0.238\n",
      "x474           0.0896      0.163      0.550      0.582      -0.230       0.409\n",
      "x475           0.0260      0.111      0.235      0.815      -0.192       0.244\n",
      "x476          -0.0100      0.094     -0.106      0.915      -0.194       0.174\n",
      "x477          -0.0292      0.026     -1.109      0.268      -0.081       0.022\n",
      "x478          -0.0204      0.161     -0.127      0.899      -0.336       0.295\n",
      "x479           0.3671      0.016     22.989      0.000       0.336       0.398\n",
      "x480           0.3667      0.028     13.163      0.000       0.312       0.421\n",
      "x481          -0.0574      0.081     -0.711      0.477      -0.215       0.101\n",
      "x482          -0.0649      0.160     -0.404      0.686      -0.379       0.250\n",
      "x483           0.1657      0.042      3.929      0.000       0.083       0.248\n",
      "x484          -0.1680      0.114     -1.476      0.140      -0.391       0.055\n",
      "x485          -0.0449      0.160     -0.280      0.780      -0.359       0.269\n",
      "x486          -0.0113      0.160     -0.071      0.944      -0.326       0.303\n",
      "x487           0.1002      0.160      0.625      0.532      -0.214       0.415\n",
      "x488           0.3905      0.024     16.490      0.000       0.344       0.437\n",
      "x489           0.1186      0.160      0.740      0.459      -0.196       0.433\n",
      "x490           0.0111      0.081      0.138      0.890      -0.147       0.169\n",
      "x491           0.0628      0.040      1.561      0.119      -0.016       0.142\n",
      "x492           0.1027      0.160      0.640      0.522      -0.212       0.417\n",
      "x493          -0.0496      0.160     -0.310      0.757      -0.364       0.265\n",
      "x494           0.1512      0.161      0.942      0.346      -0.163       0.466\n",
      "x495           0.1782      0.026      6.822      0.000       0.127       0.229\n",
      "x496          -0.1059      0.151     -0.699      0.484      -0.403       0.191\n",
      "x497          -0.0490      0.160     -0.306      0.759      -0.363       0.265\n",
      "x498          -0.0741      0.102     -0.730      0.466      -0.273       0.125\n",
      "x499          -0.0086      0.152     -0.057      0.955      -0.307       0.290\n",
      "x500           0.0149      0.114      0.131      0.896      -0.208       0.238\n",
      "x501           0.0098      0.151      0.065      0.948      -0.286       0.305\n",
      "x502           0.1167      0.153      0.764      0.445      -0.183       0.416\n",
      "x503       -4.624e-28   1.52e-15  -3.03e-13      1.000   -2.99e-15    2.99e-15\n",
      "x504          -0.1009      0.151     -0.666      0.505      -0.398       0.196\n",
      "x505           0.1636      0.062      2.653      0.008       0.043       0.284\n",
      "x506           0.1037      0.058      1.789      0.074      -0.010       0.217\n",
      "x507        1.442e-27   8.42e-16   1.71e-12      1.000   -1.65e-15    1.65e-15\n",
      "x508           0.0389      0.160      0.242      0.808      -0.276       0.353\n",
      "x509           0.1063      0.133      0.796      0.426      -0.155       0.368\n",
      "x510           0.0195      0.128      0.152      0.879      -0.232       0.271\n",
      "x511           0.0443      0.158      0.280      0.780      -0.266       0.355\n",
      "x512          -0.0964      0.097     -0.996      0.319      -0.286       0.093\n",
      "x513          -0.2174      0.093     -2.338      0.019      -0.400      -0.035\n",
      "x514          -0.0550      0.021     -2.559      0.011      -0.097      -0.013\n",
      "x515          -0.1866      0.151     -1.233      0.217      -0.483       0.110\n",
      "x516       -1.035e-27   1.27e-15  -8.13e-13      1.000    -2.5e-15     2.5e-15\n",
      "x517           0.1584      0.161      0.987      0.324      -0.156       0.473\n",
      "x518           0.0935      0.106      0.880      0.379      -0.115       0.302\n",
      "x519       -4.471e-28    4.8e-16  -9.32e-13      1.000    -9.4e-16     9.4e-16\n",
      "x520           0.0439      0.093      0.472      0.637      -0.139       0.226\n",
      "x521          -0.0824      0.149     -0.553      0.581      -0.375       0.210\n",
      "x522           0.2109      0.153      1.381      0.167      -0.088       0.510\n",
      "x523          -0.0276      0.144     -0.191      0.849      -0.310       0.255\n",
      "x524           0.1141      0.081      1.413      0.158      -0.044       0.272\n",
      "x525           0.0698      0.057      1.214      0.225      -0.043       0.182\n",
      "x526        1.198e-27   6.52e-16   1.84e-12      1.000   -1.28e-15    1.28e-15\n",
      "x527          -0.0384      0.110     -0.348      0.728      -0.255       0.178\n",
      "x528          -0.1723      0.149     -1.156      0.248      -0.465       0.120\n",
      "x529         4.61e-28   5.22e-16   8.83e-13      1.000   -1.02e-15    1.02e-15\n",
      "x530          -0.0709      0.155     -0.458      0.647      -0.375       0.233\n",
      "x531           0.0678      0.151      0.448      0.654      -0.229       0.365\n",
      "x532           0.1462      0.190      0.771      0.441      -0.226       0.518\n",
      "x533           0.0154      0.159      0.097      0.923      -0.296       0.327\n",
      "x534           0.0125      0.152      0.082      0.934      -0.286       0.311\n",
      "x535          -0.0242      0.093     -0.260      0.795      -0.207       0.159\n",
      "x536          -0.1783      0.114     -1.566      0.117      -0.401       0.045\n",
      "x537          -0.0050      0.050     -0.101      0.919      -0.102       0.092\n",
      "x538           0.0066      0.114      0.058      0.954      -0.217       0.230\n",
      "x539          -0.0683      0.160     -0.427      0.670      -0.382       0.245\n",
      "x540           0.0384      0.139      0.276      0.783      -0.234       0.311\n",
      "x541           0.0776      0.160      0.484      0.628      -0.237       0.392\n",
      "x542           0.1885      0.156      1.207      0.227      -0.118       0.495\n",
      "x543           0.0303      0.019      1.610      0.107      -0.007       0.067\n",
      "x544           0.0260      0.058      0.453      0.651      -0.087       0.139\n",
      "x545          -0.0881      0.147     -0.599      0.549      -0.376       0.200\n",
      "x546           0.1317      0.152      0.865      0.387      -0.167       0.430\n",
      "x547           0.0299      0.114      0.263      0.792      -0.193       0.253\n",
      "x548        1.508e-27   1.23e-15   1.22e-12      1.000   -2.42e-15    2.42e-15\n",
      "x549           0.0285      0.093      0.306      0.759      -0.154       0.211\n",
      "x550           0.0133      0.114      0.117      0.907      -0.210       0.237\n",
      "x551          -0.0544      0.158     -0.344      0.731      -0.364       0.256\n",
      "x552          -0.0032      0.093     -0.035      0.972      -0.185       0.179\n",
      "x553           0.0816      0.114      0.717      0.474      -0.142       0.305\n",
      "x554          -0.1312      0.141     -0.932      0.352      -0.407       0.145\n",
      "x555          -0.0423      0.153     -0.277      0.782      -0.342       0.257\n",
      "x556           0.0192      0.093      0.207      0.836      -0.163       0.201\n",
      "x557           0.1879      0.021      8.751      0.000       0.146       0.230\n",
      "x558          -0.0079      0.114     -0.070      0.944      -0.231       0.215\n",
      "x559          -0.0871      0.161     -0.543      0.587      -0.402       0.228\n",
      "x560           0.0911      0.166      0.550      0.582      -0.234       0.416\n",
      "x561           0.0484      0.052      0.937      0.349      -0.053       0.149\n",
      "x562        1.836e-28    3.6e-16    5.1e-13      1.000   -7.05e-16    7.05e-16\n",
      "x563       -9.357e-28   7.52e-16  -1.24e-12      1.000   -1.47e-15    1.47e-15\n",
      "x564           0.0678      0.151      0.448      0.654      -0.229       0.365\n",
      "x565          -0.0710      0.163     -0.434      0.664      -0.391       0.249\n",
      "x566          -0.0262      0.037     -0.706      0.480      -0.099       0.047\n",
      "x567          -0.0748      0.133     -0.561      0.575      -0.336       0.187\n",
      "x568          -0.0622      0.160     -0.388      0.698      -0.377       0.252\n",
      "x569          -0.2363      0.114     -2.080      0.038      -0.459      -0.014\n",
      "x570           0.0237      0.149      0.159      0.874      -0.269       0.317\n",
      "x571          -0.2482      0.158     -1.568      0.117      -0.558       0.062\n",
      "x572        8.582e-29   8.74e-17   9.82e-13      1.000   -1.71e-16    1.71e-16\n",
      "x573           0.0360      0.093      0.387      0.699      -0.146       0.218\n",
      "x574           0.0514      0.150      0.343      0.731      -0.242       0.345\n",
      "x575           0.0031      0.049      0.064      0.949      -0.093       0.100\n",
      "x576          -0.0870      0.160     -0.543      0.587      -0.401       0.227\n",
      "x577           0.0246      0.041      0.598      0.550      -0.056       0.105\n",
      "x578        6.774e-29   1.05e-16   6.43e-13      1.000   -2.07e-16    2.07e-16\n",
      "x579          -0.0335      0.097     -0.345      0.730      -0.224       0.157\n",
      "x580          -0.1047      0.216     -0.485      0.628      -0.528       0.319\n",
      "x581          -0.0647      0.155     -0.417      0.677      -0.368       0.239\n",
      "x582          -0.0244      0.144     -0.169      0.866      -0.307       0.258\n",
      "x583           0.0119      0.096      0.123      0.902      -0.177       0.201\n",
      "x584           0.1057      0.158      0.668      0.504      -0.204       0.416\n",
      "x585           0.1517      0.160      0.947      0.343      -0.162       0.466\n",
      "x586          -0.1373      0.025     -5.485      0.000      -0.186      -0.088\n",
      "x587          -0.0226      0.047     -0.477      0.634      -0.115       0.070\n",
      "x588           0.0785      0.160      0.489      0.625      -0.236       0.393\n",
      "x589           0.0065      0.154      0.042      0.966      -0.295       0.308\n",
      "x590           0.0796      0.160      0.496      0.620      -0.235       0.394\n",
      "x591          -0.0135      0.160     -0.084      0.933      -0.328       0.301\n",
      "x592       -1.648e-29   6.29e-17  -2.62e-13      1.000   -1.23e-16    1.23e-16\n",
      "x593           0.0578      0.103      0.559      0.576      -0.145       0.261\n",
      "x594           0.1580      0.160      0.985      0.324      -0.156       0.472\n",
      "x595           0.1924      0.160      1.199      0.230      -0.122       0.507\n",
      "x596           0.1222      0.099      1.232      0.218      -0.072       0.317\n",
      "x597         1.23e-29   1.11e-16   1.11e-13      1.000   -2.18e-16    2.18e-16\n",
      "x598           0.0324      0.152      0.214      0.831      -0.265       0.330\n",
      "x599           0.2360      0.161      1.468      0.142      -0.079       0.551\n",
      "x600           0.1589      0.160      0.991      0.322      -0.155       0.473\n",
      "x601          -0.1676      0.074     -2.266      0.023      -0.313      -0.023\n",
      "x602           0.1339      0.058      2.310      0.021       0.020       0.248\n",
      "x603       -2.478e-29   7.55e-17  -3.28e-13      1.000   -1.48e-16    1.48e-16\n",
      "x604           0.1040      0.160      0.649      0.516      -0.210       0.418\n",
      "x605          -0.0969      0.160     -0.604      0.546      -0.411       0.218\n",
      "x606           0.0067      0.114      0.059      0.953      -0.216       0.229\n",
      "x607           0.0064      0.160      0.040      0.968      -0.308       0.321\n",
      "x608           0.1301      0.107      1.219      0.223      -0.079       0.339\n",
      "x609          -0.0751      0.042     -1.786      0.074      -0.157       0.007\n",
      "x610          -0.0595      0.099     -0.601      0.548      -0.254       0.135\n",
      "x611           0.9668      0.078     12.424      0.000       0.814       1.119\n",
      "x612          -0.0402      0.019     -2.116      0.034      -0.077      -0.003\n",
      "x613          -0.1604      0.197     -0.814      0.415      -0.547       0.226\n",
      "x614       -1.261e-29   3.26e-17  -3.87e-13      1.000   -6.39e-17    6.39e-17\n",
      "x615          -0.0094      0.148     -0.064      0.949      -0.300       0.282\n",
      "x616          -0.0320      0.034     -0.951      0.341      -0.098       0.034\n",
      "x617          -0.0553      0.038     -1.455      0.146      -0.130       0.019\n",
      "x618          -0.0408      0.069     -0.591      0.554      -0.176       0.094\n",
      "x619          -0.0199      0.082     -0.243      0.808      -0.180       0.141\n",
      "x620          -0.0207      0.040     -0.521      0.602      -0.098       0.057\n",
      "x621          -0.0609      0.051     -1.197      0.231      -0.161       0.039\n",
      "x622          -0.0720      0.065     -1.109      0.267      -0.199       0.055\n",
      "x623          -0.0858      0.079     -1.081      0.280      -0.241       0.070\n",
      "x624           0.0690      0.079      0.869      0.385      -0.087       0.225\n",
      "x625          -0.0336      0.060     -0.564      0.573      -0.150       0.083\n",
      "x626           0.0039      0.065      0.060      0.952      -0.123       0.131\n",
      "x627          -0.0337      0.053     -0.633      0.527      -0.138       0.071\n",
      "x628          -0.0304      0.079     -0.383      0.702      -0.186       0.125\n",
      "x629           0.0496      0.075      0.662      0.508      -0.097       0.196\n",
      "x630          -0.0356      0.060     -0.594      0.552      -0.153       0.082\n",
      "x631          -0.0205      0.079     -0.258      0.796      -0.176       0.135\n",
      "x632          -0.0594      0.043     -1.396      0.163      -0.143       0.024\n",
      "x633          -0.0139      0.069     -0.201      0.841      -0.150       0.122\n",
      "x634          -0.0017      0.046     -0.038      0.970      -0.091       0.088\n",
      "x635          -0.0109      0.060     -0.183      0.855      -0.128       0.106\n",
      "x636          -0.0201      0.047     -0.430      0.667      -0.112       0.072\n",
      "x637           0.0069      0.061      0.112      0.911      -0.113       0.127\n",
      "x638          -0.0183      0.056     -0.326      0.745      -0.128       0.092\n",
      "x639          -0.1025      0.056     -1.840      0.066      -0.212       0.007\n",
      "x640           0.0179      0.079      0.226      0.822      -0.138       0.173\n",
      "x641          -0.0573      0.065     -0.882      0.378      -0.185       0.070\n",
      "x642          -0.0484      0.033     -1.450      0.147      -0.114       0.017\n",
      "x643           0.0278      0.048      0.580      0.562      -0.066       0.122\n",
      "x644           0.0714      0.081      0.886      0.375      -0.086       0.229\n",
      "x645          -0.1340      0.046     -2.924      0.003      -0.224      -0.044\n",
      "x646           0.0021      0.046      0.045      0.964      -0.088       0.092\n",
      "x647                0          0        nan        nan           0           0\n",
      "==============================================================================\n",
      "Omnibus:                     2797.334   Durbin-Watson:                   1.998\n",
      "Prob(Omnibus):                  0.000   Jarque-Bera (JB):            13930.671\n",
      "Skew:                          -1.536   Prob(JB):                         0.00\n",
      "Kurtosis:                       8.521   Cond. No.                     4.46e+18\n",
      "==============================================================================\n",
      "\n",
      "Notes:\n",
      "[1] Standard Errors assume that the covariance matrix of the errors is correctly specified.\n",
      "[2] The smallest eigenvalue is 1.63e-32. This might indicate that there are\n",
      "strong multicollinearity problems or that the design matrix is singular.\n"
     ]
    }
   ],
   "source": [
    "import statsmodels.api as sm\n",
    "\n",
    "X_new = sm.add_constant(X_train)\n",
    "toyregr_sm = sm.OLS(y_train.astype(float), X_new.astype(float))\n",
    "results_sm = toyregr_sm.fit()\n",
    "\n",
    "print(results_sm.summary())"
   ]
  },
  {
   "cell_type": "code",
   "execution_count": 72,
   "metadata": {},
   "outputs": [],
   "source": [
    "from sklearn.linear_model import LogisticRegression\n",
    "\n",
    "# y_temp = y_train.astype('int')\n",
    "\n",
    "log_reg = LogisticRegression(max_iter=1000, multi_class='ovr')\n",
    "log_reg.fit(X_train, y_train)\n",
    "log_predicted = log_reg.predict(X_test)"
   ]
  },
  {
   "cell_type": "code",
   "execution_count": 73,
   "metadata": {},
   "outputs": [
    {
     "data": {
      "text/plain": [
       "0.06554344147787575"
      ]
     },
     "execution_count": 73,
     "metadata": {},
     "output_type": "execute_result"
    }
   ],
   "source": [
    "mse = mean_squared_error(y_test, log_predicted)\n",
    "rmse = np.sqrt(mse)\n",
    "rmse"
   ]
  },
  {
   "cell_type": "code",
   "execution_count": 74,
   "metadata": {},
   "outputs": [
    {
     "data": {
      "text/plain": [
       "0.9828133744852215"
      ]
     },
     "execution_count": 74,
     "metadata": {},
     "output_type": "execute_result"
    }
   ],
   "source": [
    "r2_score(y_test, log_predicted)"
   ]
  },
  {
   "cell_type": "code",
   "execution_count": 75,
   "metadata": {},
   "outputs": [
    {
     "name": "stdout",
     "output_type": "stream",
     "text": [
      "accuracy = 0.9957040572792363%\n",
      "roc_auc_score = 0.9957587181903864\n",
      "F1-score = 0.9956668271545499\n"
     ]
    },
    {
     "data": {
      "text/plain": [
       "array([[1052,    9],\n",
       "       [   0, 1034]], dtype=int64)"
      ]
     },
     "execution_count": 75,
     "metadata": {},
     "output_type": "execute_result"
    }
   ],
   "source": [
    "from sklearn.metrics import confusion_matrix\n",
    "\n",
    "accuracy = (accuracy_score(y_test, log_predicted))\n",
    "print(\"accuracy = {}%\".format(accuracy))\n",
    "print(\"roc_auc_score = {}\".format(roc_auc_score(y_test, log_predicted)))\n",
    "print(\"F1-score = {}\".format(f1_score(y_test, log_predicted)))\n",
    "\n",
    "confusion_matrix(y_test, log_predicted)"
   ]
  },
  {
   "cell_type": "markdown",
   "metadata": {},
   "source": [
    "# 6. PCA"
   ]
  },
  {
   "cell_type": "code",
   "execution_count": 76,
   "metadata": {},
   "outputs": [
    {
     "name": "stdout",
     "output_type": "stream",
     "text": [
      "[22.88416084 13.40307519  4.36920553  3.16303101  1.33878561  0.87925326\n",
      "  0.6484268   0.45812975]\n",
      "8\n"
     ]
    }
   ],
   "source": [
    "pca = PCA(n_components=0.95) # Create an instance of PCA model\n",
    "pca.fit(X_train) # Fit X_train to PCA\n",
    "X_train = pca.transform(X_train) # transform training data\n",
    "X_test = pca.transform(X_test) # transform test data\n",
    "X_test_score = pca.transform(X_test_score) # transform score test data\n",
    "print(pca.explained_variance_)\n",
    "print(pca.n_components_)"
   ]
  },
  {
   "cell_type": "code",
   "execution_count": 77,
   "metadata": {},
   "outputs": [
    {
     "name": "stdout",
     "output_type": "stream",
     "text": [
      "[[-4.52435512e+00 -7.35115446e-01 -2.17437148e-01 ...  4.05103907e-01\n",
      "  -4.57392644e-01  2.09233845e-01]\n",
      " [ 1.39187493e+01 -4.17633201e+00 -3.19351842e+00 ... -5.38301177e-03\n",
      "   2.98392704e-01  1.00652098e-01]\n",
      " [ 4.55588784e+00 -2.35968782e+00  4.10010107e+00 ... -8.22172385e-03\n",
      "  -3.60499042e-01  2.58473456e-01]\n",
      " ...\n",
      " [ 1.04425375e+00 -2.12956400e+00 -2.43001379e-01 ...  1.89726637e-01\n",
      "  -2.89295011e-01 -1.45319144e-01]\n",
      " [-4.19187272e+00  5.60011495e-02 -3.68891714e-01 ...  1.47933848e-01\n",
      "  -2.04077460e-02 -1.03877187e-01]\n",
      " [ 3.01951018e+00 -1.35127711e+00  1.02879701e-01 ... -9.41822773e-01\n",
      "  -2.17810828e-01 -4.51697977e-02]]\n"
     ]
    }
   ],
   "source": [
    "print(X_train)"
   ]
  },
  {
   "cell_type": "code",
   "execution_count": 78,
   "metadata": {},
   "outputs": [
    {
     "name": "stdout",
     "output_type": "stream",
     "text": [
      "[[ 0.91508563  6.3650071  -0.21904332 ... -2.0371765   0.04705701\n",
      "  -0.81980981]\n",
      " [ 5.95084737 -1.51846866 -0.42807965 ... -0.83290214 -0.34595\n",
      "  -0.03227875]\n",
      " [-4.60573925 -0.72399933 -0.24766205 ...  0.35220134  0.10207251\n",
      "   0.44641079]\n",
      " ...\n",
      " [-3.61501464  0.69575273 -0.5309326  ... -0.24181905 -0.07295276\n",
      "  -0.20576988]\n",
      " [ 1.43799225 -1.84249205 -0.44759895 ...  0.01640101 -0.07313101\n",
      "  -0.32960359]\n",
      " [ 2.99001092 -1.38510483  1.69330499 ... -0.56024948 -0.45007996\n",
      "   0.06677523]]\n"
     ]
    }
   ],
   "source": [
    "print(X_test)"
   ]
  },
  {
   "cell_type": "code",
   "execution_count": 79,
   "metadata": {},
   "outputs": [
    {
     "name": "stdout",
     "output_type": "stream",
     "text": [
      "[[-3.90059903  0.49965283  0.01448412 ...  0.29450215 -0.19463826\n",
      "   0.32299465]\n",
      " [-4.0127931  -0.72861311  0.02746788 ...  0.67591585  0.24692624\n",
      "  -0.65766536]\n",
      " [-3.59485225 -0.38777081 -0.79217223 ...  0.36941495 -0.46338327\n",
      "   0.69755926]\n",
      " ...\n",
      " [-4.32502339 -0.65113995 -0.50409187 ...  0.4968209  -0.59870931\n",
      "   0.36075099]\n",
      " [-4.60546884  0.20727248 -0.17024589 ... -0.40684131  2.20139339\n",
      "   1.15542922]\n",
      " [-3.81138548 -0.35063937  0.16256501 ...  0.10060137  0.27291193\n",
      "  -0.59683969]]\n"
     ]
    }
   ],
   "source": [
    "print(X_test_score)"
   ]
  },
  {
   "cell_type": "code",
   "execution_count": 80,
   "metadata": {},
   "outputs": [
    {
     "name": "stdout",
     "output_type": "stream",
     "text": [
      "(8377, 8) (2095, 8)\n",
      "(8377,) (2095,)\n",
      "(1000, 8) (1000,)\n"
     ]
    }
   ],
   "source": [
    "print(X_train.shape, X_test.shape)\n",
    "print(y_train.shape, y_test.shape)\n",
    "print(X_test_score.shape, y_test_score.shape)"
   ]
  },
  {
   "cell_type": "markdown",
   "metadata": {},
   "source": [
    "# 7. Ensemble"
   ]
  },
  {
   "cell_type": "code",
   "execution_count": 81,
   "metadata": {},
   "outputs": [],
   "source": [
    "# y_train = y_train.astype('int')\n",
    "# y_test = y_test.astype('int')"
   ]
  },
  {
   "cell_type": "code",
   "execution_count": 82,
   "metadata": {},
   "outputs": [
    {
     "name": "stdout",
     "output_type": "stream",
     "text": [
      "0.9866326245996168\n",
      "accuracy = 0.9966587112171837%\n",
      "roc_auc_score = 0.9967012252591895\n",
      "F1-score = 0.9966265060240964\n"
     ]
    },
    {
     "data": {
      "text/plain": [
       "array([[1054,    7],\n",
       "       [   0, 1034]], dtype=int64)"
      ]
     },
     "execution_count": 82,
     "metadata": {},
     "output_type": "execute_result"
    }
   ],
   "source": [
    "from sklearn.datasets import make_regression\n",
    "from sklearn.model_selection import train_test_split\n",
    "from sklearn.ensemble import RandomForestClassifier\n",
    "from sklearn.metrics import r2_score\n",
    "\n",
    "# assuming we have X_train,X_test,y_train,y_test at this time\n",
    "# I first run Random Forest using random hard coded settings to get a baseline\n",
    "rf = RandomForestClassifier(n_estimators=80,max_depth=7,max_features=3)\n",
    "rf.fit(X_train,y_train)\n",
    "y_pred = rf.predict(X_test)\n",
    "test_score = r2_score(y_test,y_pred)\n",
    "print(test_score)\n",
    "accuracy = (accuracy_score(y_test, y_pred))\n",
    "print(\"accuracy = {}%\".format(accuracy))\n",
    "print(\"roc_auc_score = {}\".format(roc_auc_score(y_test, y_pred)))\n",
    "print(\"F1-score = {}\".format(f1_score(y_test, y_pred)))\n",
    "\n",
    "confusion_matrix(y_test, y_pred)"
   ]
  },
  {
   "cell_type": "code",
   "execution_count": 83,
   "metadata": {},
   "outputs": [
    {
     "name": "stdout",
     "output_type": "stream",
     "text": [
      "Fitting 3 folds for each of 100 candidates, totalling 300 fits\n"
     ]
    },
    {
     "data": {
      "text/plain": [
       "{'n_estimators': 1306,\n",
       " 'min_samples_split': 2,\n",
       " 'min_samples_leaf': 2,\n",
       " 'max_features': 'sqrt',\n",
       " 'max_depth': 68}"
      ]
     },
     "execution_count": 83,
     "metadata": {},
     "output_type": "execute_result"
    }
   ],
   "source": [
    "from sklearn.model_selection import RandomizedSearchCV\n",
    "import numpy as np\n",
    "# I then use RandomizedSearchCV to find the optimal hyperparameters\n",
    "n_estimators = [int(x) for x in np.linspace(start = 100, stop = 1500, num = 30)]\n",
    "max_features = ['auto', 'sqrt']\n",
    "max_depth = [int(x) for x in np.linspace(5, 100, num = 10)]\n",
    "max_depth.append(None)\n",
    "min_samples_split = [2, 5, 7, 10]\n",
    "min_samples_leaf = [2, 5, 7, 10]\n",
    "random_grid = {'n_estimators': n_estimators,\n",
    "               'max_features': max_features,\n",
    "               'max_depth': max_depth,\n",
    "               'min_samples_split': min_samples_split,\n",
    "               'min_samples_leaf': min_samples_leaf}\n",
    "\n",
    "rf = RandomForestClassifier(class_weight='balanced', random_state=42)\n",
    "\n",
    "rf_random = RandomizedSearchCV(estimator = rf, param_distributions = random_grid, n_iter = 100, cv = 3, verbose=2, random_state=42, n_jobs = -1)\n",
    "rf_random.fit(X_train, y_train)\n",
    "rf_random.best_params_"
   ]
  },
  {
   "cell_type": "code",
   "execution_count": 85,
   "metadata": {},
   "outputs": [
    {
     "name": "stdout",
     "output_type": "stream",
     "text": [
      "0.9866326245996168\n",
      "accuracy = 0.9966587112171837%\n",
      "roc_auc_score = 0.9967012252591895\n",
      "F1-score = 0.9966265060240964\n"
     ]
    },
    {
     "data": {
      "text/plain": [
       "array([[1054,    7],\n",
       "       [   0, 1034]], dtype=int64)"
      ]
     },
     "execution_count": 85,
     "metadata": {},
     "output_type": "execute_result"
    }
   ],
   "source": [
    "rf = RandomForestClassifier(n_estimators=1306,max_depth=68,max_features='sqrt',min_samples_split=2,min_samples_leaf=2)\n",
    "rf.fit(X_train,y_train)\n",
    "y_pred = rf.predict(X_test)\n",
    "test_score = r2_score(y_test,y_pred)\n",
    "print(test_score)\n",
    "accuracy = (accuracy_score(y_test, y_pred))\n",
    "print(\"accuracy = {}%\".format(accuracy))\n",
    "print(\"roc_auc_score = {}\".format(roc_auc_score(y_test, y_pred)))\n",
    "print(\"F1-score = {}\".format(f1_score(y_test, y_pred)))\n",
    "confusion_matrix(y_test, y_pred)"
   ]
  },
  {
   "cell_type": "code",
   "execution_count": 87,
   "metadata": {},
   "outputs": [
    {
     "name": "stdout",
     "output_type": "stream",
     "text": [
      "Fitting 5 folds for each of 81 candidates, totalling 405 fits\n"
     ]
    },
    {
     "data": {
      "text/plain": [
       "{'max_depth': 71,\n",
       " 'max_features': 'sqrt',\n",
       " 'min_samples_leaf': 2,\n",
       " 'min_samples_split': 2,\n",
       " 'n_estimators': 1256}"
      ]
     },
     "execution_count": 87,
     "metadata": {},
     "output_type": "execute_result"
    }
   ],
   "source": [
    "# we then use the hyperparameters we found from the RandomizedSearchCV to do a second more thorough check around that range\n",
    "from sklearn.model_selection import GridSearchCV\n",
    "param_grid = {\n",
    "    'max_depth': [65, 68, 71],\n",
    "    'max_features': ['sqrt'],\n",
    "    'min_samples_leaf': [2, 4, 6],\n",
    "    'min_samples_split': [2, 4, 6],\n",
    "    'n_estimators': [1256, 1306, 1356]\n",
    "}\n",
    "# Create a based model\n",
    "rf = RandomForestClassifier()\n",
    "# Instantiate the grid search model\n",
    "grid_search = GridSearchCV(estimator = rf, param_grid = param_grid, \n",
    "                          cv = 5, n_jobs = -1, verbose = 2)\n",
    "grid_search.fit(X_train, y_train)\n",
    "grid_search.best_params_"
   ]
  },
  {
   "cell_type": "code",
   "execution_count": 90,
   "metadata": {},
   "outputs": [
    {
     "name": "stdout",
     "output_type": "stream",
     "text": [
      "0.9866326245996168\n",
      "accuracy = 0.9966587112171837%\n",
      "roc_auc_score = 0.9967012252591895\n",
      "F1-score = 0.9966265060240964\n"
     ]
    },
    {
     "data": {
      "text/plain": [
       "array([[1054,    7],\n",
       "       [   0, 1034]], dtype=int64)"
      ]
     },
     "execution_count": 90,
     "metadata": {},
     "output_type": "execute_result"
    }
   ],
   "source": [
    "# we then output the results using the optimal hyperparameters to check that our model has improved\n",
    "rf = RandomForestClassifier(n_estimators=1256,max_depth=71,max_features='sqrt',min_samples_split=2,min_samples_leaf=2)\n",
    "rf.fit(X_train,y_train)\n",
    "y_pred = rf.predict(X_test)\n",
    "test_score = r2_score(y_test,y_pred)\n",
    "print(test_score)\n",
    "accuracy = (accuracy_score(y_test, y_pred))\n",
    "print(\"accuracy = {}%\".format(accuracy))\n",
    "print(\"roc_auc_score = {}\".format(roc_auc_score(y_test, y_pred)))\n",
    "print(\"F1-score = {}\".format(f1_score(y_test, y_pred)))\n",
    "confusion_matrix(y_test, y_pred)"
   ]
  },
  {
   "cell_type": "markdown",
   "metadata": {},
   "source": [
    "# 8. Neural Network Classifier"
   ]
  },
  {
   "cell_type": "code",
   "execution_count": 285,
   "metadata": {},
   "outputs": [
    {
     "name": "stdout",
     "output_type": "stream",
     "text": [
      "Epoch 1/50\n",
      "419/419 [==============================] - 1s 888us/step - loss: 0.3702 - accuracy: 0.8403 - precision_17: 0.9777 - recall_17: 0.7026 - false_positives_17: 39.3714\n",
      "Epoch 2/50\n",
      "419/419 [==============================] - 0s 1ms/step - loss: 0.0508 - accuracy: 0.9875 - precision_17: 0.9801 - recall_17: 0.9956 - false_positives_17: 41.7238\n",
      "Epoch 3/50\n",
      "419/419 [==============================] - 0s 988us/step - loss: 0.0334 - accuracy: 0.9928 - precision_17: 0.9858 - recall_17: 1.0000 - false_positives_17: 31.2833\n",
      "Epoch 4/50\n",
      "419/419 [==============================] - 0s 961us/step - loss: 0.0301 - accuracy: 0.9932 - precision_17: 0.9870 - recall_17: 1.0000 - false_positives_17: 27.0405\n",
      "Epoch 5/50\n",
      "419/419 [==============================] - 0s 983us/step - loss: 0.0266 - accuracy: 0.9938 - precision_17: 0.9876 - recall_17: 1.0000 - false_positives_17: 25.9905\n",
      "Epoch 6/50\n",
      "419/419 [==============================] - 0s 1ms/step - loss: 0.0229 - accuracy: 0.9947 - precision_17: 0.9896 - recall_17: 1.0000 - false_positives_17: 25.3643\n",
      "Epoch 7/50\n",
      "419/419 [==============================] - 0s 1ms/step - loss: 0.0236 - accuracy: 0.9945 - precision_17: 0.9894 - recall_17: 1.0000 - false_positives_17: 22.8310\n",
      "Epoch 8/50\n",
      "103/419 [======>.......................] - ETA: 0s - loss: 0.0117 - accuracy: 0.9972 - precision_17: 0.9945 - recall_17: 1.0000 - false_positives_17: 3.5049  "
     ]
    },
    {
     "ename": "KeyboardInterrupt",
     "evalue": "",
     "output_type": "error",
     "traceback": [
      "\u001b[0;31m---------------------------------------------------------------------------\u001b[0m",
      "\u001b[0;31mKeyboardInterrupt\u001b[0m                         Traceback (most recent call last)",
      "\u001b[0;32m<ipython-input-285-5f8c1f2e5ada>\u001b[0m in \u001b[0;36m<module>\u001b[0;34m\u001b[0m\n\u001b[1;32m     13\u001b[0m \u001b[0mmodel\u001b[0m \u001b[0;34m=\u001b[0m \u001b[0mcreate_model\u001b[0m\u001b[0;34m(\u001b[0m\u001b[0;34m)\u001b[0m\u001b[0;34m\u001b[0m\u001b[0;34m\u001b[0m\u001b[0m\n\u001b[1;32m     14\u001b[0m \u001b[0;34m\u001b[0m\u001b[0m\n\u001b[0;32m---> 15\u001b[0;31m \u001b[0mmodel\u001b[0m\u001b[0;34m.\u001b[0m\u001b[0mfit\u001b[0m\u001b[0;34m(\u001b[0m\u001b[0mX_train\u001b[0m\u001b[0;34m,\u001b[0m \u001b[0my_train\u001b[0m\u001b[0;34m,\u001b[0m \u001b[0mbatch_size\u001b[0m\u001b[0;34m=\u001b[0m\u001b[0;36m20\u001b[0m\u001b[0;34m,\u001b[0m \u001b[0mepochs\u001b[0m\u001b[0;34m=\u001b[0m\u001b[0;36m50\u001b[0m\u001b[0;34m)\u001b[0m\u001b[0;34m\u001b[0m\u001b[0;34m\u001b[0m\u001b[0m\n\u001b[0m\u001b[1;32m     16\u001b[0m \u001b[0;34m\u001b[0m\u001b[0m\n\u001b[1;32m     17\u001b[0m \u001b[0my_pred\u001b[0m \u001b[0;34m=\u001b[0m \u001b[0mmodel\u001b[0m\u001b[0;34m.\u001b[0m\u001b[0mpredict\u001b[0m\u001b[0;34m(\u001b[0m\u001b[0mX_test\u001b[0m\u001b[0;34m)\u001b[0m\u001b[0;34m\u001b[0m\u001b[0;34m\u001b[0m\u001b[0m\n",
      "\u001b[0;32m~/opt/anaconda3/lib/python3.8/site-packages/tensorflow/python/keras/engine/training.py\u001b[0m in \u001b[0;36mfit\u001b[0;34m(self, x, y, batch_size, epochs, verbose, callbacks, validation_split, validation_data, shuffle, class_weight, sample_weight, initial_epoch, steps_per_epoch, validation_steps, validation_batch_size, validation_freq, max_queue_size, workers, use_multiprocessing)\u001b[0m\n\u001b[1;32m   1098\u001b[0m                 _r=1):\n\u001b[1;32m   1099\u001b[0m               \u001b[0mcallbacks\u001b[0m\u001b[0;34m.\u001b[0m\u001b[0mon_train_batch_begin\u001b[0m\u001b[0;34m(\u001b[0m\u001b[0mstep\u001b[0m\u001b[0;34m)\u001b[0m\u001b[0;34m\u001b[0m\u001b[0;34m\u001b[0m\u001b[0m\n\u001b[0;32m-> 1100\u001b[0;31m               \u001b[0mtmp_logs\u001b[0m \u001b[0;34m=\u001b[0m \u001b[0mself\u001b[0m\u001b[0;34m.\u001b[0m\u001b[0mtrain_function\u001b[0m\u001b[0;34m(\u001b[0m\u001b[0miterator\u001b[0m\u001b[0;34m)\u001b[0m\u001b[0;34m\u001b[0m\u001b[0;34m\u001b[0m\u001b[0m\n\u001b[0m\u001b[1;32m   1101\u001b[0m               \u001b[0;32mif\u001b[0m \u001b[0mdata_handler\u001b[0m\u001b[0;34m.\u001b[0m\u001b[0mshould_sync\u001b[0m\u001b[0;34m:\u001b[0m\u001b[0;34m\u001b[0m\u001b[0;34m\u001b[0m\u001b[0m\n\u001b[1;32m   1102\u001b[0m                 \u001b[0mcontext\u001b[0m\u001b[0;34m.\u001b[0m\u001b[0masync_wait\u001b[0m\u001b[0;34m(\u001b[0m\u001b[0;34m)\u001b[0m\u001b[0;34m\u001b[0m\u001b[0;34m\u001b[0m\u001b[0m\n",
      "\u001b[0;32m~/opt/anaconda3/lib/python3.8/site-packages/tensorflow/python/eager/def_function.py\u001b[0m in \u001b[0;36m__call__\u001b[0;34m(self, *args, **kwds)\u001b[0m\n\u001b[1;32m    826\u001b[0m     \u001b[0mtracing_count\u001b[0m \u001b[0;34m=\u001b[0m \u001b[0mself\u001b[0m\u001b[0;34m.\u001b[0m\u001b[0mexperimental_get_tracing_count\u001b[0m\u001b[0;34m(\u001b[0m\u001b[0;34m)\u001b[0m\u001b[0;34m\u001b[0m\u001b[0;34m\u001b[0m\u001b[0m\n\u001b[1;32m    827\u001b[0m     \u001b[0;32mwith\u001b[0m \u001b[0mtrace\u001b[0m\u001b[0;34m.\u001b[0m\u001b[0mTrace\u001b[0m\u001b[0;34m(\u001b[0m\u001b[0mself\u001b[0m\u001b[0;34m.\u001b[0m\u001b[0m_name\u001b[0m\u001b[0;34m)\u001b[0m \u001b[0;32mas\u001b[0m \u001b[0mtm\u001b[0m\u001b[0;34m:\u001b[0m\u001b[0;34m\u001b[0m\u001b[0;34m\u001b[0m\u001b[0m\n\u001b[0;32m--> 828\u001b[0;31m       \u001b[0mresult\u001b[0m \u001b[0;34m=\u001b[0m \u001b[0mself\u001b[0m\u001b[0;34m.\u001b[0m\u001b[0m_call\u001b[0m\u001b[0;34m(\u001b[0m\u001b[0;34m*\u001b[0m\u001b[0margs\u001b[0m\u001b[0;34m,\u001b[0m \u001b[0;34m**\u001b[0m\u001b[0mkwds\u001b[0m\u001b[0;34m)\u001b[0m\u001b[0;34m\u001b[0m\u001b[0;34m\u001b[0m\u001b[0m\n\u001b[0m\u001b[1;32m    829\u001b[0m       \u001b[0mcompiler\u001b[0m \u001b[0;34m=\u001b[0m \u001b[0;34m\"xla\"\u001b[0m \u001b[0;32mif\u001b[0m \u001b[0mself\u001b[0m\u001b[0;34m.\u001b[0m\u001b[0m_experimental_compile\u001b[0m \u001b[0;32melse\u001b[0m \u001b[0;34m\"nonXla\"\u001b[0m\u001b[0;34m\u001b[0m\u001b[0;34m\u001b[0m\u001b[0m\n\u001b[1;32m    830\u001b[0m       \u001b[0mnew_tracing_count\u001b[0m \u001b[0;34m=\u001b[0m \u001b[0mself\u001b[0m\u001b[0;34m.\u001b[0m\u001b[0mexperimental_get_tracing_count\u001b[0m\u001b[0;34m(\u001b[0m\u001b[0;34m)\u001b[0m\u001b[0;34m\u001b[0m\u001b[0;34m\u001b[0m\u001b[0m\n",
      "\u001b[0;32m~/opt/anaconda3/lib/python3.8/site-packages/tensorflow/python/eager/def_function.py\u001b[0m in \u001b[0;36m_call\u001b[0;34m(self, *args, **kwds)\u001b[0m\n\u001b[1;32m    853\u001b[0m       \u001b[0;31m# In this case we have created variables on the first call, so we run the\u001b[0m\u001b[0;34m\u001b[0m\u001b[0;34m\u001b[0m\u001b[0;34m\u001b[0m\u001b[0m\n\u001b[1;32m    854\u001b[0m       \u001b[0;31m# defunned version which is guaranteed to never create variables.\u001b[0m\u001b[0;34m\u001b[0m\u001b[0;34m\u001b[0m\u001b[0;34m\u001b[0m\u001b[0m\n\u001b[0;32m--> 855\u001b[0;31m       \u001b[0;32mreturn\u001b[0m \u001b[0mself\u001b[0m\u001b[0;34m.\u001b[0m\u001b[0m_stateless_fn\u001b[0m\u001b[0;34m(\u001b[0m\u001b[0;34m*\u001b[0m\u001b[0margs\u001b[0m\u001b[0;34m,\u001b[0m \u001b[0;34m**\u001b[0m\u001b[0mkwds\u001b[0m\u001b[0;34m)\u001b[0m  \u001b[0;31m# pylint: disable=not-callable\u001b[0m\u001b[0;34m\u001b[0m\u001b[0;34m\u001b[0m\u001b[0m\n\u001b[0m\u001b[1;32m    856\u001b[0m     \u001b[0;32melif\u001b[0m \u001b[0mself\u001b[0m\u001b[0;34m.\u001b[0m\u001b[0m_stateful_fn\u001b[0m \u001b[0;32mis\u001b[0m \u001b[0;32mnot\u001b[0m \u001b[0;32mNone\u001b[0m\u001b[0;34m:\u001b[0m\u001b[0;34m\u001b[0m\u001b[0;34m\u001b[0m\u001b[0m\n\u001b[1;32m    857\u001b[0m       \u001b[0;31m# Release the lock early so that multiple threads can perform the call\u001b[0m\u001b[0;34m\u001b[0m\u001b[0;34m\u001b[0m\u001b[0;34m\u001b[0m\u001b[0m\n",
      "\u001b[0;32m~/opt/anaconda3/lib/python3.8/site-packages/tensorflow/python/eager/function.py\u001b[0m in \u001b[0;36m__call__\u001b[0;34m(self, *args, **kwargs)\u001b[0m\n\u001b[1;32m   2940\u001b[0m       (graph_function,\n\u001b[1;32m   2941\u001b[0m        filtered_flat_args) = self._maybe_define_function(args, kwargs)\n\u001b[0;32m-> 2942\u001b[0;31m     return graph_function._call_flat(\n\u001b[0m\u001b[1;32m   2943\u001b[0m         filtered_flat_args, captured_inputs=graph_function.captured_inputs)  # pylint: disable=protected-access\n\u001b[1;32m   2944\u001b[0m \u001b[0;34m\u001b[0m\u001b[0m\n",
      "\u001b[0;32m~/opt/anaconda3/lib/python3.8/site-packages/tensorflow/python/eager/function.py\u001b[0m in \u001b[0;36m_call_flat\u001b[0;34m(self, args, captured_inputs, cancellation_manager)\u001b[0m\n\u001b[1;32m   1916\u001b[0m         and executing_eagerly):\n\u001b[1;32m   1917\u001b[0m       \u001b[0;31m# No tape is watching; skip to running the function.\u001b[0m\u001b[0;34m\u001b[0m\u001b[0;34m\u001b[0m\u001b[0;34m\u001b[0m\u001b[0m\n\u001b[0;32m-> 1918\u001b[0;31m       return self._build_call_outputs(self._inference_function.call(\n\u001b[0m\u001b[1;32m   1919\u001b[0m           ctx, args, cancellation_manager=cancellation_manager))\n\u001b[1;32m   1920\u001b[0m     forward_backward = self._select_forward_and_backward_functions(\n",
      "\u001b[0;32m~/opt/anaconda3/lib/python3.8/site-packages/tensorflow/python/eager/function.py\u001b[0m in \u001b[0;36mcall\u001b[0;34m(self, ctx, args, cancellation_manager)\u001b[0m\n\u001b[1;32m    553\u001b[0m       \u001b[0;32mwith\u001b[0m \u001b[0m_InterpolateFunctionError\u001b[0m\u001b[0;34m(\u001b[0m\u001b[0mself\u001b[0m\u001b[0;34m)\u001b[0m\u001b[0;34m:\u001b[0m\u001b[0;34m\u001b[0m\u001b[0;34m\u001b[0m\u001b[0m\n\u001b[1;32m    554\u001b[0m         \u001b[0;32mif\u001b[0m \u001b[0mcancellation_manager\u001b[0m \u001b[0;32mis\u001b[0m \u001b[0;32mNone\u001b[0m\u001b[0;34m:\u001b[0m\u001b[0;34m\u001b[0m\u001b[0;34m\u001b[0m\u001b[0m\n\u001b[0;32m--> 555\u001b[0;31m           outputs = execute.execute(\n\u001b[0m\u001b[1;32m    556\u001b[0m               \u001b[0mstr\u001b[0m\u001b[0;34m(\u001b[0m\u001b[0mself\u001b[0m\u001b[0;34m.\u001b[0m\u001b[0msignature\u001b[0m\u001b[0;34m.\u001b[0m\u001b[0mname\u001b[0m\u001b[0;34m)\u001b[0m\u001b[0;34m,\u001b[0m\u001b[0;34m\u001b[0m\u001b[0;34m\u001b[0m\u001b[0m\n\u001b[1;32m    557\u001b[0m               \u001b[0mnum_outputs\u001b[0m\u001b[0;34m=\u001b[0m\u001b[0mself\u001b[0m\u001b[0;34m.\u001b[0m\u001b[0m_num_outputs\u001b[0m\u001b[0;34m,\u001b[0m\u001b[0;34m\u001b[0m\u001b[0;34m\u001b[0m\u001b[0m\n",
      "\u001b[0;32m~/opt/anaconda3/lib/python3.8/site-packages/tensorflow/python/eager/execute.py\u001b[0m in \u001b[0;36mquick_execute\u001b[0;34m(op_name, num_outputs, inputs, attrs, ctx, name)\u001b[0m\n\u001b[1;32m     57\u001b[0m   \u001b[0;32mtry\u001b[0m\u001b[0;34m:\u001b[0m\u001b[0;34m\u001b[0m\u001b[0;34m\u001b[0m\u001b[0m\n\u001b[1;32m     58\u001b[0m     \u001b[0mctx\u001b[0m\u001b[0;34m.\u001b[0m\u001b[0mensure_initialized\u001b[0m\u001b[0;34m(\u001b[0m\u001b[0;34m)\u001b[0m\u001b[0;34m\u001b[0m\u001b[0;34m\u001b[0m\u001b[0m\n\u001b[0;32m---> 59\u001b[0;31m     tensors = pywrap_tfe.TFE_Py_Execute(ctx._handle, device_name, op_name,\n\u001b[0m\u001b[1;32m     60\u001b[0m                                         inputs, attrs, num_outputs)\n\u001b[1;32m     61\u001b[0m   \u001b[0;32mexcept\u001b[0m \u001b[0mcore\u001b[0m\u001b[0;34m.\u001b[0m\u001b[0m_NotOkStatusException\u001b[0m \u001b[0;32mas\u001b[0m \u001b[0me\u001b[0m\u001b[0;34m:\u001b[0m\u001b[0;34m\u001b[0m\u001b[0;34m\u001b[0m\u001b[0m\n",
      "\u001b[0;31mKeyboardInterrupt\u001b[0m: "
     ]
    }
   ],
   "source": [
    "# Neural network\n",
    "def create_model():\n",
    "    model = Sequential()\n",
    "    model.add(Dense(16, input_dim=X_train.shape[1], activation='relu'))\n",
    "    model.add(Dense(12, activation='relu'))\n",
    "    model.add(Dense(1, activation='sigmoid'))\n",
    "\n",
    "    model.compile(loss='binary_crossentropy', optimizer='adam', metrics=['accuracy', keras.metrics.Precision(),\n",
    "                                                                        keras.metrics.Recall(), \n",
    "                                                                         keras.metrics.FalsePositives()])\n",
    "    return model\n",
    "\n",
    "model = create_model()\n",
    "\n",
    "model.fit(X_train, y_train, batch_size=20, epochs=50)\n",
    "\n",
    "y_pred = model.predict(X_test)\n",
    "y_pred = (y_pred > 0.5)\n",
    "accuracy = (accuracy_score(y_test, y_pred))\n",
    "print(\"accuracy = {}%\".format(accuracy))\n",
    "print(\"roc_auc_score = {}\".format(roc_auc_score(y_test, y_pred)))\n",
    "print(\"F1-score = {}\".format(f1_score(y_test, y_pred)))\n",
    "confusion_matrix(y_test, y_pred)"
   ]
  },
  {
   "cell_type": "code",
   "execution_count": 279,
   "metadata": {},
   "outputs": [
    {
     "name": "stdout",
     "output_type": "stream",
     "text": [
      "1000\n",
      "accuracy = 0.89%\n",
      "roc_auc_score = 0.6222197672705848\n",
      "F1-score = 0.375\n"
     ]
    },
    {
     "data": {
      "text/plain": [
       "array([[857,  19],\n",
       "       [ 91,  33]])"
      ]
     },
     "execution_count": 279,
     "metadata": {},
     "output_type": "execute_result"
    }
   ],
   "source": [
    "y_pred = model.predict(X_test_score)\n",
    "y_pred = (y_pred > 0.5)\n",
    "print(len(y_pred))\n",
    "accuracy = (accuracy_score(y_test_score, y_pred))\n",
    "print(\"accuracy = {}%\".format(accuracy))\n",
    "print(\"roc_auc_score = {}\".format(roc_auc_score(y_test_score, y_pred)))\n",
    "print(\"F1-score = {}\".format(f1_score(y_test_score, y_pred)))\n",
    "confusion_matrix(y_test_score, y_pred)"
   ]
  },
  {
   "cell_type": "markdown",
   "metadata": {},
   "source": [
    "# 9. Cross-Validate"
   ]
  },
  {
   "cell_type": "code",
   "execution_count": 280,
   "metadata": {},
   "outputs": [],
   "source": [
    "pca = PCA(n_components=0.95) # Create an instance of PCA model\n",
    "pca.fit(X) # Fit X_train to PCA\n",
    "X_pca = pca.transform(X) # transform training data"
   ]
  },
  {
   "cell_type": "code",
   "execution_count": 286,
   "metadata": {},
   "outputs": [
    {
     "name": "stdout",
     "output_type": "stream",
     "text": [
      "RF Accuracy: 99.57%\n",
      "NN Accuracy: 99.72%\n"
     ]
    }
   ],
   "source": [
    "from sklearn.model_selection import cross_val_score\n",
    "from keras.wrappers.scikit_learn import KerasClassifier\n",
    "\n",
    "kfold = model_selection.KFold(n_splits=10, random_state=42, shuffle=True)\n",
    "\n",
    "rf_model_kfold = RandomForestClassifier(n_estimators=80,max_depth=7,max_features=3)\n",
    "\n",
    "rf_results_kfold = model_selection.cross_val_score(rf_model_kfold, X_pca, y, cv=kfold)\n",
    "\n",
    "print(\"RF Accuracy: %.2f%%\" % (rf_results_kfold.mean()*100.0)) \n",
    "\n",
    "nn = KerasClassifier(build_fn=create_model, epochs=50, batch_size=20, verbose=0)\n",
    "\n",
    "nn_results_kfold = model_selection.cross_val_score(nn, X_pca, y, cv=kfold)\n",
    "\n",
    "print(\"NN Accuracy: %.2f%%\" % (nn_results_kfold.mean()*100.0))"
   ]
  },
  {
   "cell_type": "markdown",
   "metadata": {},
   "source": [
    "# 10. Custom Model"
   ]
  },
  {
   "cell_type": "code",
   "execution_count": 283,
   "metadata": {},
   "outputs": [
    {
     "name": "stdout",
     "output_type": "stream",
     "text": [
      "accuracy for kernel=linear = 0.7718377088305489%\n",
      "roc_auc_score = 0.769055688130427\n",
      "F1-score = 0.7053020961775586\n"
     ]
    },
    {
     "name": "stderr",
     "output_type": "stream",
     "text": [
      "/Users/shrenik/opt/anaconda3/lib/python3.8/site-packages/sklearn/svm/_base.py:255: ConvergenceWarning: Solver terminated early (max_iter=100).  Consider pre-processing your data with StandardScaler or MinMaxScaler.\n",
      "  warnings.warn('Solver terminated early (max_iter=%i).'\n"
     ]
    },
    {
     "data": {
      "text/plain": [
       "array([[1045,   16],\n",
       "       [ 462,  572]])"
      ]
     },
     "metadata": {},
     "output_type": "display_data"
    },
    {
     "name": "stdout",
     "output_type": "stream",
     "text": [
      "accuracy for kernel=rbf = 0.9522673031026253%\n",
      "roc_auc_score = 0.9519517370751654\n",
      "F1-score = 0.9504459861248761\n"
     ]
    },
    {
     "name": "stderr",
     "output_type": "stream",
     "text": [
      "/Users/shrenik/opt/anaconda3/lib/python3.8/site-packages/sklearn/svm/_base.py:255: ConvergenceWarning: Solver terminated early (max_iter=100).  Consider pre-processing your data with StandardScaler or MinMaxScaler.\n",
      "  warnings.warn('Solver terminated early (max_iter=%i).'\n"
     ]
    },
    {
     "data": {
      "text/plain": [
       "array([[1036,   25],\n",
       "       [  75,  959]])"
      ]
     },
     "metadata": {},
     "output_type": "display_data"
    },
    {
     "name": "stdout",
     "output_type": "stream",
     "text": [
      "accuracy for kernel=sigmoid = 0.9608591885441528%\n",
      "roc_auc_score = 0.9607665481088786\n",
      "F1-score = 0.9600778967867576\n"
     ]
    },
    {
     "name": "stderr",
     "output_type": "stream",
     "text": [
      "/Users/shrenik/opt/anaconda3/lib/python3.8/site-packages/sklearn/svm/_base.py:255: ConvergenceWarning: Solver terminated early (max_iter=100).  Consider pre-processing your data with StandardScaler or MinMaxScaler.\n",
      "  warnings.warn('Solver terminated early (max_iter=%i).'\n"
     ]
    },
    {
     "data": {
      "text/plain": [
       "array([[1027,   34],\n",
       "       [  48,  986]])"
      ]
     },
     "metadata": {},
     "output_type": "display_data"
    }
   ],
   "source": [
    "kernel_types = ['linear', 'rbf', 'sigmoid']\n",
    "for kernel in kernel_types:\n",
    "    svc = SVC(kernel=kernel, class_weight='balanced', random_state=42, max_iter=100) #class_weight='balanced'\n",
    "    svc.fit(X_train, y_train)\n",
    "    y_pred = svc.predict(X_test)\n",
    "    accuracy = (accuracy_score(y_test, y_pred))\n",
    "    print(\"accuracy for kernel={} = {}%\".format(kernel, accuracy))\n",
    "    print(\"roc_auc_score = {}\".format(roc_auc_score(y_test, y_pred)))\n",
    "    print(\"F1-score = {}\".format(f1_score(y_test, y_pred)))\n",
    "    display(confusion_matrix(y_test, y_pred))"
   ]
  },
  {
   "cell_type": "code",
   "execution_count": null,
   "metadata": {},
   "outputs": [],
   "source": [
    "# Neural network\n",
    "model = Sequential()\n",
    "model.add(Dense(16, input_dim=X_train.shape[1], activation='relu'))\n",
    "model.add(Dense(12, activation='relu'))\n",
    "model.add(Dense(1, activation='sigmoid'))\n",
    "\n",
    "model.compile(loss='binary_crossentropy', optimizer='adam', metrics=['accuracy', keras.metrics.Precision(),\n",
    "                                                                    keras.metrics.Recall(), \n",
    "                                                                     keras.metrics.FalsePositives()])\n",
    "\n",
    "model.fit(X_train, y_train, batch_size=20, epochs=100)\n",
    "\n",
    "y_pred = model.predict(X_test)\n",
    "y_pred = (y_pred > 0.5)\n",
    "accuracy = (accuracy_score(y_test, y_pred))\n",
    "print(\"accuracy = {}%\".format(accuracy))\n",
    "print(\"roc_auc_score = {}\".format(roc_auc_score(y_test, y_pred)))\n",
    "print(\"F1-score = {}\".format(f1_score(y_test, y_pred)))\n",
    "confusion_matrix(y_test, y_pred)"
   ]
  }
 ],
 "metadata": {
  "kernelspec": {
   "display_name": "Python 3",
   "language": "python",
   "name": "python3"
  },
  "language_info": {
   "codemirror_mode": {
    "name": "ipython",
    "version": 3
   },
   "file_extension": ".py",
   "mimetype": "text/x-python",
   "name": "python",
   "nbconvert_exporter": "python",
   "pygments_lexer": "ipython3",
   "version": "3.8.5"
  }
 },
 "nbformat": 4,
 "nbformat_minor": 4
}
