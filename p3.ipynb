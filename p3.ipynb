{
 "cells": [
  {
   "cell_type": "code",
   "execution_count": 47,
   "metadata": {},
   "outputs": [],
   "source": [
    "import numpy as np # linear algebra\n",
    "import pandas as pd # data processing, CSV file I/O (e.g. pd.read_csv)\n",
    "import matplotlib.pyplot as plt # this is used for the plot the graph \n",
    "\n",
    "from sklearn.decomposition import PCA\n",
    "from sklearn.experimental import enable_iterative_imputer\n",
    "from sklearn.impute import IterativeImputer\n",
    "from sklearn.compose import ColumnTransformer\n",
    "from sklearn.pipeline import Pipeline\n",
    "from sklearn.preprocessing import StandardScaler\n",
    "from sklearn.preprocessing import OneHotEncoder\n",
    "\n",
    "import torch\n",
    "from torch import nn\n",
    "import torch.nn.functional as F\n",
    "from torchvision import transforms\n",
    "from torch.utils.data import TensorDataset, DataLoader\n",
    "\n",
    "%matplotlib inline\n",
    "\n",
    "import random \n",
    "random.seed(42)"
   ]
  },
  {
   "cell_type": "code",
   "execution_count": 48,
   "metadata": {},
   "outputs": [],
   "source": [
    "csv_path = \"training_dataset.csv\""
   ]
  },
  {
   "cell_type": "markdown",
   "metadata": {},
   "source": [
    "# 0. First, let's understand our data..."
   ]
  },
  {
   "cell_type": "code",
   "execution_count": 49,
   "metadata": {},
   "outputs": [
    {
     "data": {
      "text/html": [
       "<div>\n",
       "<style scoped>\n",
       "    .dataframe tbody tr th:only-of-type {\n",
       "        vertical-align: middle;\n",
       "    }\n",
       "\n",
       "    .dataframe tbody tr th {\n",
       "        vertical-align: top;\n",
       "    }\n",
       "\n",
       "    .dataframe thead th {\n",
       "        text-align: right;\n",
       "    }\n",
       "</style>\n",
       "<table border=\"1\" class=\"dataframe\">\n",
       "  <thead>\n",
       "    <tr style=\"text-align: right;\">\n",
       "      <th></th>\n",
       "      <th>dt</th>\n",
       "      <th>weekday</th>\n",
       "      <th>year</th>\n",
       "      <th>id_driver</th>\n",
       "      <th>id_carrier_number</th>\n",
       "      <th>dim_carrier_type</th>\n",
       "      <th>dim_carrier_company_name</th>\n",
       "      <th>home_base_city</th>\n",
       "      <th>home_base_state</th>\n",
       "      <th>carrier_trucks</th>\n",
       "      <th>...</th>\n",
       "      <th>marketplace_loads_otr</th>\n",
       "      <th>marketplace_loads_atlas</th>\n",
       "      <th>marketplace_loads</th>\n",
       "      <th>brokerage_loads_otr</th>\n",
       "      <th>brokerage_loads_atlas</th>\n",
       "      <th>brokerage_loads</th>\n",
       "      <th>total_loads</th>\n",
       "      <th>date</th>\n",
       "      <th>recent_date</th>\n",
       "      <th>label</th>\n",
       "    </tr>\n",
       "  </thead>\n",
       "  <tbody>\n",
       "    <tr>\n",
       "      <th>0</th>\n",
       "      <td>2018-08-23</td>\n",
       "      <td>4</td>\n",
       "      <td>2018</td>\n",
       "      <td>13577</td>\n",
       "      <td>C0092604</td>\n",
       "      <td>Fleet</td>\n",
       "      <td>US HONG CORP</td>\n",
       "      <td>City of Industry</td>\n",
       "      <td>CA</td>\n",
       "      <td>[\"dryvan\"]</td>\n",
       "      <td>...</td>\n",
       "      <td>0</td>\n",
       "      <td>0</td>\n",
       "      <td>0</td>\n",
       "      <td>2</td>\n",
       "      <td>0</td>\n",
       "      <td>2</td>\n",
       "      <td>2</td>\n",
       "      <td>2018-08-23</td>\n",
       "      <td>2018-08-27</td>\n",
       "      <td>0</td>\n",
       "    </tr>\n",
       "    <tr>\n",
       "      <th>1</th>\n",
       "      <td>2018-05-11</td>\n",
       "      <td>5</td>\n",
       "      <td>2018</td>\n",
       "      <td>7066</td>\n",
       "      <td>C0090412</td>\n",
       "      <td>Fleet</td>\n",
       "      <td>Carlos Flores</td>\n",
       "      <td>Los Angeles</td>\n",
       "      <td>CA</td>\n",
       "      <td>[\"dryvan\"]</td>\n",
       "      <td>...</td>\n",
       "      <td>134</td>\n",
       "      <td>0</td>\n",
       "      <td>134</td>\n",
       "      <td>186</td>\n",
       "      <td>0</td>\n",
       "      <td>186</td>\n",
       "      <td>320</td>\n",
       "      <td>2018-05-11</td>\n",
       "      <td>2019-09-05</td>\n",
       "      <td>0</td>\n",
       "    </tr>\n",
       "    <tr>\n",
       "      <th>2</th>\n",
       "      <td>2019-03-23</td>\n",
       "      <td>6</td>\n",
       "      <td>2019</td>\n",
       "      <td>16776</td>\n",
       "      <td>C0093729</td>\n",
       "      <td>Fleet</td>\n",
       "      <td>AZIEL INC</td>\n",
       "      <td>Ontario</td>\n",
       "      <td>CA</td>\n",
       "      <td>[\"boxtruck\"]</td>\n",
       "      <td>...</td>\n",
       "      <td>11</td>\n",
       "      <td>0</td>\n",
       "      <td>11</td>\n",
       "      <td>97</td>\n",
       "      <td>0</td>\n",
       "      <td>97</td>\n",
       "      <td>108</td>\n",
       "      <td>2019-03-23</td>\n",
       "      <td>2019-10-17</td>\n",
       "      <td>0</td>\n",
       "    </tr>\n",
       "    <tr>\n",
       "      <th>3</th>\n",
       "      <td>2019-07-03</td>\n",
       "      <td>3</td>\n",
       "      <td>2019</td>\n",
       "      <td>11085</td>\n",
       "      <td>U0099848</td>\n",
       "      <td>Owner Operator</td>\n",
       "      <td>Expert Carriers</td>\n",
       "      <td>Long Beach</td>\n",
       "      <td>CA</td>\n",
       "      <td>[\"poweronly\"]</td>\n",
       "      <td>...</td>\n",
       "      <td>15</td>\n",
       "      <td>0</td>\n",
       "      <td>15</td>\n",
       "      <td>179</td>\n",
       "      <td>0</td>\n",
       "      <td>179</td>\n",
       "      <td>194</td>\n",
       "      <td>2019-07-03</td>\n",
       "      <td>2019-12-28</td>\n",
       "      <td>0</td>\n",
       "    </tr>\n",
       "    <tr>\n",
       "      <th>4</th>\n",
       "      <td>2020-11-07</td>\n",
       "      <td>6</td>\n",
       "      <td>2020</td>\n",
       "      <td>14644</td>\n",
       "      <td>U0102863</td>\n",
       "      <td>Owner Operator</td>\n",
       "      <td>Edgar &amp; daughters</td>\n",
       "      <td>South El Monte</td>\n",
       "      <td>CA</td>\n",
       "      <td>[\"poweronly\"]</td>\n",
       "      <td>...</td>\n",
       "      <td>17</td>\n",
       "      <td>279</td>\n",
       "      <td>296</td>\n",
       "      <td>0</td>\n",
       "      <td>8</td>\n",
       "      <td>8</td>\n",
       "      <td>304</td>\n",
       "      <td>2020-11-07</td>\n",
       "      <td>2021-02-17</td>\n",
       "      <td>0</td>\n",
       "    </tr>\n",
       "  </tbody>\n",
       "</table>\n",
       "<p>5 rows × 33 columns</p>\n",
       "</div>"
      ],
      "text/plain": [
       "           dt  weekday  year  id_driver id_carrier_number dim_carrier_type  \\\n",
       "0  2018-08-23        4  2018      13577          C0092604            Fleet   \n",
       "1  2018-05-11        5  2018       7066          C0090412            Fleet   \n",
       "2  2019-03-23        6  2019      16776          C0093729            Fleet   \n",
       "3  2019-07-03        3  2019      11085          U0099848   Owner Operator   \n",
       "4  2020-11-07        6  2020      14644          U0102863   Owner Operator   \n",
       "\n",
       "  dim_carrier_company_name    home_base_city home_base_state carrier_trucks  \\\n",
       "0             US HONG CORP  City of Industry              CA     [\"dryvan\"]   \n",
       "1            Carlos Flores       Los Angeles              CA     [\"dryvan\"]   \n",
       "2                AZIEL INC           Ontario              CA   [\"boxtruck\"]   \n",
       "3          Expert Carriers        Long Beach              CA  [\"poweronly\"]   \n",
       "4        Edgar & daughters    South El Monte              CA  [\"poweronly\"]   \n",
       "\n",
       "   ...  marketplace_loads_otr marketplace_loads_atlas marketplace_loads  \\\n",
       "0  ...                      0                       0                 0   \n",
       "1  ...                    134                       0               134   \n",
       "2  ...                     11                       0                11   \n",
       "3  ...                     15                       0                15   \n",
       "4  ...                     17                     279               296   \n",
       "\n",
       "  brokerage_loads_otr brokerage_loads_atlas brokerage_loads  total_loads  \\\n",
       "0                   2                     0               2            2   \n",
       "1                 186                     0             186          320   \n",
       "2                  97                     0              97          108   \n",
       "3                 179                     0             179          194   \n",
       "4                   0                     8               8          304   \n",
       "\n",
       "         date recent_date label  \n",
       "0  2018-08-23  2018-08-27     0  \n",
       "1  2018-05-11  2019-09-05     0  \n",
       "2  2019-03-23  2019-10-17     0  \n",
       "3  2019-07-03  2019-12-28     0  \n",
       "4  2020-11-07  2021-02-17     0  \n",
       "\n",
       "[5 rows x 33 columns]"
      ]
     },
     "metadata": {},
     "output_type": "display_data"
    }
   ],
   "source": [
    "df = pd.read_csv(csv_path) # load the pandas dataframe\n",
    "initial_cols_to_drop = [\"Unnamed: 0\",\"Unnamed: 0.1\", \"period\", \"test\"] \n",
    "for col_name in initial_cols_to_drop: # drops columns that aren't supposed to be in dataset\n",
    "    try:\n",
    "        df = df.drop(columns=[col_name])\n",
    "    except:\n",
    "        continue\n",
    "#df = df.rename(columns={\"Unnamed: 0.1\": \"TODO_FIND_COLUMN_NAME_2\"})\n",
    "display(df.head())"
   ]
  },
  {
   "cell_type": "code",
   "execution_count": 50,
   "metadata": {},
   "outputs": [
    {
     "data": {
      "text/html": [
       "<div>\n",
       "<style scoped>\n",
       "    .dataframe tbody tr th:only-of-type {\n",
       "        vertical-align: middle;\n",
       "    }\n",
       "\n",
       "    .dataframe tbody tr th {\n",
       "        vertical-align: top;\n",
       "    }\n",
       "\n",
       "    .dataframe thead th {\n",
       "        text-align: right;\n",
       "    }\n",
       "</style>\n",
       "<table border=\"1\" class=\"dataframe\">\n",
       "  <thead>\n",
       "    <tr style=\"text-align: right;\">\n",
       "      <th></th>\n",
       "      <th>weekday</th>\n",
       "      <th>year</th>\n",
       "      <th>id_driver</th>\n",
       "      <th>num_trucks</th>\n",
       "      <th>days_signup_to_approval</th>\n",
       "      <th>loads</th>\n",
       "      <th>marketplace_loads_otr</th>\n",
       "      <th>marketplace_loads_atlas</th>\n",
       "      <th>marketplace_loads</th>\n",
       "      <th>brokerage_loads_otr</th>\n",
       "      <th>brokerage_loads_atlas</th>\n",
       "      <th>brokerage_loads</th>\n",
       "      <th>total_loads</th>\n",
       "      <th>label</th>\n",
       "    </tr>\n",
       "  </thead>\n",
       "  <tbody>\n",
       "    <tr>\n",
       "      <th>count</th>\n",
       "      <td>83414.000000</td>\n",
       "      <td>83414.000000</td>\n",
       "      <td>83414.000000</td>\n",
       "      <td>83344.000000</td>\n",
       "      <td>71128.000000</td>\n",
       "      <td>83414.000000</td>\n",
       "      <td>83414.000000</td>\n",
       "      <td>83414.000000</td>\n",
       "      <td>83414.000000</td>\n",
       "      <td>83414.000000</td>\n",
       "      <td>83414.000000</td>\n",
       "      <td>83414.000000</td>\n",
       "      <td>83414.000000</td>\n",
       "      <td>83414.000000</td>\n",
       "    </tr>\n",
       "    <tr>\n",
       "      <th>mean</th>\n",
       "      <td>3.499149</td>\n",
       "      <td>2018.960906</td>\n",
       "      <td>18221.333098</td>\n",
       "      <td>22.588153</td>\n",
       "      <td>298.818229</td>\n",
       "      <td>2.073980</td>\n",
       "      <td>29.545844</td>\n",
       "      <td>71.541156</td>\n",
       "      <td>101.087000</td>\n",
       "      <td>148.117606</td>\n",
       "      <td>13.046407</td>\n",
       "      <td>161.164013</td>\n",
       "      <td>266.368499</td>\n",
       "      <td>0.112751</td>\n",
       "    </tr>\n",
       "    <tr>\n",
       "      <th>std</th>\n",
       "      <td>1.688132</td>\n",
       "      <td>1.359378</td>\n",
       "      <td>11666.420279</td>\n",
       "      <td>48.840757</td>\n",
       "      <td>390.379696</td>\n",
       "      <td>2.661652</td>\n",
       "      <td>88.415228</td>\n",
       "      <td>194.473946</td>\n",
       "      <td>214.547898</td>\n",
       "      <td>415.015279</td>\n",
       "      <td>42.172475</td>\n",
       "      <td>412.831763</td>\n",
       "      <td>447.964420</td>\n",
       "      <td>0.316290</td>\n",
       "    </tr>\n",
       "    <tr>\n",
       "      <th>min</th>\n",
       "      <td>1.000000</td>\n",
       "      <td>2015.000000</td>\n",
       "      <td>20.000000</td>\n",
       "      <td>1.000000</td>\n",
       "      <td>0.000000</td>\n",
       "      <td>1.000000</td>\n",
       "      <td>0.000000</td>\n",
       "      <td>0.000000</td>\n",
       "      <td>0.000000</td>\n",
       "      <td>0.000000</td>\n",
       "      <td>0.000000</td>\n",
       "      <td>0.000000</td>\n",
       "      <td>1.000000</td>\n",
       "      <td>0.000000</td>\n",
       "    </tr>\n",
       "    <tr>\n",
       "      <th>25%</th>\n",
       "      <td>2.000000</td>\n",
       "      <td>2018.000000</td>\n",
       "      <td>7898.500000</td>\n",
       "      <td>1.000000</td>\n",
       "      <td>0.000000</td>\n",
       "      <td>1.000000</td>\n",
       "      <td>0.000000</td>\n",
       "      <td>0.000000</td>\n",
       "      <td>0.000000</td>\n",
       "      <td>0.000000</td>\n",
       "      <td>0.000000</td>\n",
       "      <td>5.000000</td>\n",
       "      <td>37.000000</td>\n",
       "      <td>0.000000</td>\n",
       "    </tr>\n",
       "    <tr>\n",
       "      <th>50%</th>\n",
       "      <td>3.000000</td>\n",
       "      <td>2019.000000</td>\n",
       "      <td>16299.000000</td>\n",
       "      <td>4.000000</td>\n",
       "      <td>62.000000</td>\n",
       "      <td>1.000000</td>\n",
       "      <td>2.000000</td>\n",
       "      <td>0.000000</td>\n",
       "      <td>13.000000</td>\n",
       "      <td>15.000000</td>\n",
       "      <td>0.000000</td>\n",
       "      <td>37.000000</td>\n",
       "      <td>110.000000</td>\n",
       "      <td>0.000000</td>\n",
       "    </tr>\n",
       "    <tr>\n",
       "      <th>75%</th>\n",
       "      <td>5.000000</td>\n",
       "      <td>2020.000000</td>\n",
       "      <td>28974.000000</td>\n",
       "      <td>14.000000</td>\n",
       "      <td>497.000000</td>\n",
       "      <td>2.000000</td>\n",
       "      <td>23.000000</td>\n",
       "      <td>18.000000</td>\n",
       "      <td>94.000000</td>\n",
       "      <td>112.000000</td>\n",
       "      <td>1.000000</td>\n",
       "      <td>135.000000</td>\n",
       "      <td>325.000000</td>\n",
       "      <td>0.000000</td>\n",
       "    </tr>\n",
       "    <tr>\n",
       "      <th>max</th>\n",
       "      <td>7.000000</td>\n",
       "      <td>2021.000000</td>\n",
       "      <td>38125.000000</td>\n",
       "      <td>195.000000</td>\n",
       "      <td>1653.000000</td>\n",
       "      <td>129.000000</td>\n",
       "      <td>902.000000</td>\n",
       "      <td>1324.000000</td>\n",
       "      <td>1348.000000</td>\n",
       "      <td>4266.000000</td>\n",
       "      <td>371.000000</td>\n",
       "      <td>4266.000000</td>\n",
       "      <td>4266.000000</td>\n",
       "      <td>1.000000</td>\n",
       "    </tr>\n",
       "  </tbody>\n",
       "</table>\n",
       "</div>"
      ],
      "text/plain": [
       "            weekday          year     id_driver    num_trucks  \\\n",
       "count  83414.000000  83414.000000  83414.000000  83344.000000   \n",
       "mean       3.499149   2018.960906  18221.333098     22.588153   \n",
       "std        1.688132      1.359378  11666.420279     48.840757   \n",
       "min        1.000000   2015.000000     20.000000      1.000000   \n",
       "25%        2.000000   2018.000000   7898.500000      1.000000   \n",
       "50%        3.000000   2019.000000  16299.000000      4.000000   \n",
       "75%        5.000000   2020.000000  28974.000000     14.000000   \n",
       "max        7.000000   2021.000000  38125.000000    195.000000   \n",
       "\n",
       "       days_signup_to_approval         loads  marketplace_loads_otr  \\\n",
       "count             71128.000000  83414.000000           83414.000000   \n",
       "mean                298.818229      2.073980              29.545844   \n",
       "std                 390.379696      2.661652              88.415228   \n",
       "min                   0.000000      1.000000               0.000000   \n",
       "25%                   0.000000      1.000000               0.000000   \n",
       "50%                  62.000000      1.000000               2.000000   \n",
       "75%                 497.000000      2.000000              23.000000   \n",
       "max                1653.000000    129.000000             902.000000   \n",
       "\n",
       "       marketplace_loads_atlas  marketplace_loads  brokerage_loads_otr  \\\n",
       "count             83414.000000       83414.000000         83414.000000   \n",
       "mean                 71.541156         101.087000           148.117606   \n",
       "std                 194.473946         214.547898           415.015279   \n",
       "min                   0.000000           0.000000             0.000000   \n",
       "25%                   0.000000           0.000000             0.000000   \n",
       "50%                   0.000000          13.000000            15.000000   \n",
       "75%                  18.000000          94.000000           112.000000   \n",
       "max                1324.000000        1348.000000          4266.000000   \n",
       "\n",
       "       brokerage_loads_atlas  brokerage_loads   total_loads         label  \n",
       "count           83414.000000     83414.000000  83414.000000  83414.000000  \n",
       "mean               13.046407       161.164013    266.368499      0.112751  \n",
       "std                42.172475       412.831763    447.964420      0.316290  \n",
       "min                 0.000000         0.000000      1.000000      0.000000  \n",
       "25%                 0.000000         5.000000     37.000000      0.000000  \n",
       "50%                 0.000000        37.000000    110.000000      0.000000  \n",
       "75%                 1.000000       135.000000    325.000000      0.000000  \n",
       "max               371.000000      4266.000000   4266.000000      1.000000  "
      ]
     },
     "execution_count": 50,
     "metadata": {},
     "output_type": "execute_result"
    }
   ],
   "source": [
    "df.describe()"
   ]
  },
  {
   "cell_type": "code",
   "execution_count": 51,
   "metadata": {},
   "outputs": [
    {
     "name": "stdout",
     "output_type": "stream",
     "text": [
      "<class 'pandas.core.frame.DataFrame'>\n",
      "RangeIndex: 83414 entries, 0 to 83413\n",
      "Data columns (total 33 columns):\n",
      " #   Column                    Non-Null Count  Dtype  \n",
      "---  ------                    --------------  -----  \n",
      " 0   dt                        83414 non-null  object \n",
      " 1   weekday                   83414 non-null  int64  \n",
      " 2   year                      83414 non-null  int64  \n",
      " 3   id_driver                 83414 non-null  int64  \n",
      " 4   id_carrier_number         83414 non-null  object \n",
      " 5   dim_carrier_type          83414 non-null  object \n",
      " 6   dim_carrier_company_name  83367 non-null  object \n",
      " 7   home_base_city            83370 non-null  object \n",
      " 8   home_base_state           83370 non-null  object \n",
      " 9   carrier_trucks            83414 non-null  object \n",
      " 10  num_trucks                83344 non-null  float64\n",
      " 11  interested_in_drayage     83414 non-null  object \n",
      " 12  port_qualified            83414 non-null  object \n",
      " 13  signup_source             83414 non-null  object \n",
      " 14  ts_signup                 83414 non-null  object \n",
      " 15  ts_first_approved         71128 non-null  object \n",
      " 16  days_signup_to_approval   71128 non-null  float64\n",
      " 17  driver_with_twic          83414 non-null  object \n",
      " 18  dim_preferred_lanes       3413 non-null   object \n",
      " 19  first_load_date           83414 non-null  object \n",
      " 20  most_recent_load_date     83414 non-null  object \n",
      " 21  load_day                  83414 non-null  object \n",
      " 22  loads                     83414 non-null  int64  \n",
      " 23  marketplace_loads_otr     83414 non-null  int64  \n",
      " 24  marketplace_loads_atlas   83414 non-null  int64  \n",
      " 25  marketplace_loads         83414 non-null  int64  \n",
      " 26  brokerage_loads_otr       83414 non-null  int64  \n",
      " 27  brokerage_loads_atlas     83414 non-null  int64  \n",
      " 28  brokerage_loads           83414 non-null  int64  \n",
      " 29  total_loads               83414 non-null  int64  \n",
      " 30  date                      83414 non-null  object \n",
      " 31  recent_date               83414 non-null  object \n",
      " 32  label                     83414 non-null  int64  \n",
      "dtypes: float64(2), int64(12), object(19)\n",
      "memory usage: 21.0+ MB\n"
     ]
    }
   ],
   "source": [
    "df.info()"
   ]
  },
  {
   "cell_type": "markdown",
   "metadata": {},
   "source": [
    "# 1. Generate Labels"
   ]
  },
  {
   "cell_type": "code",
   "execution_count": 52,
   "metadata": {},
   "outputs": [],
   "source": [
    "# converts date from csv to a python datetime object making it easier to work with\n",
    "df['most_recent_load_date'] = pd.to_datetime(df['most_recent_load_date'], format='%Y-%m-%d')"
   ]
  },
  {
   "cell_type": "code",
   "execution_count": 53,
   "metadata": {},
   "outputs": [
    {
     "data": {
      "text/plain": [
       "0   2018-08-27\n",
       "1   2019-09-05\n",
       "2   2019-10-17\n",
       "3   2019-12-28\n",
       "4   2021-02-17\n",
       "Name: most_recent_load_date, dtype: datetime64[ns]"
      ]
     },
     "execution_count": 53,
     "metadata": {},
     "output_type": "execute_result"
    }
   ],
   "source": [
    "df['most_recent_load_date'].head()"
   ]
  },
  {
   "cell_type": "code",
   "execution_count": 54,
   "metadata": {},
   "outputs": [
    {
     "name": "stdout",
     "output_type": "stream",
     "text": [
      "2.0\n",
      "2021-02-14 00:00:00\n"
     ]
    }
   ],
   "source": [
    "loads75 = df.loads.quantile(0.75) # finds 75th percentile of loads\n",
    "most_recent_load_date75 = df.most_recent_load_date.quantile(0.75) # finds 75th percentile of most recent load date\n",
    "\n",
    "print(loads75)\n",
    "print(most_recent_load_date75)\n",
    "# Manual Check\n",
    "# sorted_dts = sorted(list(df.most_recent_load_date))\n",
    "# quartile_estimate_index = int(len(sorted_dts)*0.75)\n",
    "# print(\"SORTED INDEX\", sorted_dts[quartile_estimate_index])"
   ]
  },
  {
   "cell_type": "code",
   "execution_count": 55,
   "metadata": {},
   "outputs": [],
   "source": [
    "new_labels = {\"label\": {}}\n",
    "for index, row in df.iterrows(): # changes the labels in the label columns\n",
    "    # checks if the load and most recent load date are in the 75th percentile\n",
    "    if row[\"loads\"] >= loads75 and row[\"most_recent_load_date\"] >= most_recent_load_date75:\n",
    "        df.at[index, \"label\"] = 1\n",
    "    else:\n",
    "        df.at[index, \"label\"] = 0"
   ]
  },
  {
   "cell_type": "code",
   "execution_count": 56,
   "metadata": {},
   "outputs": [
    {
     "data": {
      "text/plain": [
       "count    83414.000000\n",
       "mean         0.151389\n",
       "std          0.358430\n",
       "min          0.000000\n",
       "25%          0.000000\n",
       "50%          0.000000\n",
       "75%          0.000000\n",
       "max          1.000000\n",
       "Name: label, dtype: float64"
      ]
     },
     "execution_count": 56,
     "metadata": {},
     "output_type": "execute_result"
    }
   ],
   "source": [
    "df[\"label\"].describe()"
   ]
  },
  {
   "cell_type": "markdown",
   "metadata": {},
   "source": [
    "# 2. Drop some columns"
   ]
  },
  {
   "cell_type": "code",
   "execution_count": 57,
   "metadata": {},
   "outputs": [],
   "source": [
    "df = df.drop(columns=[\"loads\", \"most_recent_load_date\"])"
   ]
  },
  {
   "cell_type": "code",
   "execution_count": 58,
   "metadata": {},
   "outputs": [
    {
     "name": "stdout",
     "output_type": "stream",
     "text": [
      "<class 'pandas.core.frame.DataFrame'>\n",
      "RangeIndex: 83414 entries, 0 to 83413\n",
      "Data columns (total 31 columns):\n",
      " #   Column                    Non-Null Count  Dtype  \n",
      "---  ------                    --------------  -----  \n",
      " 0   dt                        83414 non-null  object \n",
      " 1   weekday                   83414 non-null  int64  \n",
      " 2   year                      83414 non-null  int64  \n",
      " 3   id_driver                 83414 non-null  int64  \n",
      " 4   id_carrier_number         83414 non-null  object \n",
      " 5   dim_carrier_type          83414 non-null  object \n",
      " 6   dim_carrier_company_name  83367 non-null  object \n",
      " 7   home_base_city            83370 non-null  object \n",
      " 8   home_base_state           83370 non-null  object \n",
      " 9   carrier_trucks            83414 non-null  object \n",
      " 10  num_trucks                83344 non-null  float64\n",
      " 11  interested_in_drayage     83414 non-null  object \n",
      " 12  port_qualified            83414 non-null  object \n",
      " 13  signup_source             83414 non-null  object \n",
      " 14  ts_signup                 83414 non-null  object \n",
      " 15  ts_first_approved         71128 non-null  object \n",
      " 16  days_signup_to_approval   71128 non-null  float64\n",
      " 17  driver_with_twic          83414 non-null  object \n",
      " 18  dim_preferred_lanes       3413 non-null   object \n",
      " 19  first_load_date           83414 non-null  object \n",
      " 20  load_day                  83414 non-null  object \n",
      " 21  marketplace_loads_otr     83414 non-null  int64  \n",
      " 22  marketplace_loads_atlas   83414 non-null  int64  \n",
      " 23  marketplace_loads         83414 non-null  int64  \n",
      " 24  brokerage_loads_otr       83414 non-null  int64  \n",
      " 25  brokerage_loads_atlas     83414 non-null  int64  \n",
      " 26  brokerage_loads           83414 non-null  int64  \n",
      " 27  total_loads               83414 non-null  int64  \n",
      " 28  date                      83414 non-null  object \n",
      " 29  recent_date               83414 non-null  object \n",
      " 30  label                     83414 non-null  int64  \n",
      "dtypes: float64(2), int64(11), object(18)\n",
      "memory usage: 19.7+ MB\n"
     ]
    }
   ],
   "source": [
    "df.info()"
   ]
  },
  {
   "cell_type": "markdown",
   "metadata": {},
   "source": [
    "# 3. Basic Statistics"
   ]
  },
  {
   "cell_type": "code",
   "execution_count": 59,
   "metadata": {},
   "outputs": [
    {
     "name": "stdout",
     "output_type": "stream",
     "text": [
      "dt\n",
      "dt is not of type integer\n",
      "---------------------------------------------------------------------\n",
      "weekday\n"
     ]
    },
    {
     "data": {
      "text/plain": [
       "weekday                    1.000000\n",
       "year                       0.055610\n",
       "id_driver                  0.053393\n",
       "brokerage_loads_atlas      0.008955\n",
       "label                      0.007623\n",
       "marketplace_loads_otr      0.004377\n",
       "num_trucks                 0.001470\n",
       "marketplace_loads          0.001357\n",
       "marketplace_loads_atlas   -0.000493\n",
       "total_loads               -0.017164\n",
       "brokerage_loads           -0.020757\n",
       "brokerage_loads_otr       -0.021558\n",
       "days_signup_to_approval   -0.053005\n",
       "Name: weekday, dtype: float64"
      ]
     },
     "metadata": {},
     "output_type": "display_data"
    },
    {
     "name": "stdout",
     "output_type": "stream",
     "text": [
      "---------------------------------------------------------------------\n",
      "year\n"
     ]
    },
    {
     "data": {
      "text/plain": [
       "year                       1.000000\n",
       "id_driver                  0.784479\n",
       "label                      0.394704\n",
       "marketplace_loads_atlas    0.290073\n",
       "brokerage_loads_atlas      0.274956\n",
       "marketplace_loads          0.273890\n",
       "total_loads                0.117035\n",
       "num_trucks                 0.108146\n",
       "weekday                    0.055610\n",
       "marketplace_loads_otr      0.026589\n",
       "brokerage_loads           -0.027475\n",
       "brokerage_loads_otr       -0.055271\n",
       "days_signup_to_approval   -0.644627\n",
       "Name: year, dtype: float64"
      ]
     },
     "metadata": {},
     "output_type": "display_data"
    },
    {
     "name": "stdout",
     "output_type": "stream",
     "text": [
      "---------------------------------------------------------------------\n",
      "id_driver\n"
     ]
    },
    {
     "data": {
      "text/plain": [
       "id_driver                  1.000000\n",
       "year                       0.784479\n",
       "label                      0.325040\n",
       "brokerage_loads_atlas      0.280231\n",
       "marketplace_loads_atlas    0.253327\n",
       "marketplace_loads          0.191855\n",
       "num_trucks                 0.143885\n",
       "weekday                    0.053393\n",
       "total_loads               -0.073022\n",
       "marketplace_loads_otr     -0.091652\n",
       "brokerage_loads           -0.192208\n",
       "brokerage_loads_otr       -0.219673\n",
       "days_signup_to_approval   -0.796913\n",
       "Name: id_driver, dtype: float64"
      ]
     },
     "metadata": {},
     "output_type": "display_data"
    },
    {
     "name": "stdout",
     "output_type": "stream",
     "text": [
      "---------------------------------------------------------------------\n",
      "id_carrier_number\n",
      "id_carrier_number is not of type integer\n",
      "---------------------------------------------------------------------\n",
      "dim_carrier_type\n",
      "dim_carrier_type is not of type integer\n",
      "---------------------------------------------------------------------\n",
      "dim_carrier_company_name\n",
      "dim_carrier_company_name is not of type integer\n",
      "---------------------------------------------------------------------\n",
      "home_base_city\n",
      "home_base_city is not of type integer\n",
      "---------------------------------------------------------------------\n",
      "home_base_state\n",
      "home_base_state is not of type integer\n",
      "---------------------------------------------------------------------\n",
      "carrier_trucks\n",
      "carrier_trucks is not of type integer\n",
      "---------------------------------------------------------------------\n",
      "num_trucks\n"
     ]
    },
    {
     "data": {
      "text/plain": [
       "num_trucks                 1.000000\n",
       "id_driver                  0.143885\n",
       "label                      0.115391\n",
       "year                       0.108146\n",
       "days_signup_to_approval    0.051251\n",
       "weekday                    0.001470\n",
       "brokerage_loads_otr       -0.050238\n",
       "brokerage_loads           -0.062842\n",
       "total_loads               -0.114414\n",
       "marketplace_loads_otr     -0.120234\n",
       "brokerage_loads_atlas     -0.120770\n",
       "marketplace_loads_atlas   -0.150238\n",
       "marketplace_loads         -0.185737\n",
       "Name: num_trucks, dtype: float64"
      ]
     },
     "metadata": {},
     "output_type": "display_data"
    },
    {
     "name": "stdout",
     "output_type": "stream",
     "text": [
      "---------------------------------------------------------------------\n",
      "interested_in_drayage\n",
      "interested_in_drayage is not of type integer\n",
      "---------------------------------------------------------------------\n",
      "port_qualified\n",
      "port_qualified is not of type integer\n",
      "---------------------------------------------------------------------\n",
      "signup_source\n",
      "signup_source is not of type integer\n",
      "---------------------------------------------------------------------\n",
      "ts_signup\n",
      "ts_signup is not of type integer\n",
      "---------------------------------------------------------------------\n",
      "ts_first_approved\n",
      "ts_first_approved is not of type integer\n",
      "---------------------------------------------------------------------\n",
      "days_signup_to_approval\n"
     ]
    },
    {
     "data": {
      "text/plain": [
       "days_signup_to_approval    1.000000\n",
       "brokerage_loads_otr        0.133629\n",
       "brokerage_loads            0.109760\n",
       "marketplace_loads_otr      0.085119\n",
       "num_trucks                 0.051251\n",
       "total_loads               -0.004422\n",
       "weekday                   -0.053005\n",
       "marketplace_loads         -0.159411\n",
       "brokerage_loads_atlas     -0.188662\n",
       "marketplace_loads_atlas   -0.213705\n",
       "label                     -0.253444\n",
       "year                      -0.644627\n",
       "id_driver                 -0.796913\n",
       "Name: days_signup_to_approval, dtype: float64"
      ]
     },
     "metadata": {},
     "output_type": "display_data"
    },
    {
     "name": "stdout",
     "output_type": "stream",
     "text": [
      "---------------------------------------------------------------------\n",
      "driver_with_twic\n",
      "driver_with_twic is not of type integer\n",
      "---------------------------------------------------------------------\n",
      "dim_preferred_lanes\n",
      "dim_preferred_lanes is not of type integer\n",
      "---------------------------------------------------------------------\n",
      "first_load_date\n",
      "first_load_date is not of type integer\n",
      "---------------------------------------------------------------------\n",
      "load_day\n",
      "load_day is not of type integer\n",
      "---------------------------------------------------------------------\n",
      "marketplace_loads_otr\n"
     ]
    },
    {
     "data": {
      "text/plain": [
       "marketplace_loads_otr      1.000000\n",
       "marketplace_loads          0.422470\n",
       "total_loads                0.180977\n",
       "days_signup_to_approval    0.085119\n",
       "year                       0.026589\n",
       "marketplace_loads_atlas    0.011441\n",
       "weekday                    0.004377\n",
       "brokerage_loads_otr       -0.013174\n",
       "brokerage_loads           -0.019866\n",
       "label                     -0.030935\n",
       "brokerage_loads_atlas     -0.064830\n",
       "id_driver                 -0.091652\n",
       "num_trucks                -0.120234\n",
       "Name: marketplace_loads_otr, dtype: float64"
      ]
     },
     "metadata": {},
     "output_type": "display_data"
    },
    {
     "name": "stdout",
     "output_type": "stream",
     "text": [
      "---------------------------------------------------------------------\n",
      "marketplace_loads_atlas\n"
     ]
    },
    {
     "data": {
      "text/plain": [
       "marketplace_loads_atlas    1.000000\n",
       "marketplace_loads          0.911151\n",
       "brokerage_loads_atlas      0.409536\n",
       "label                      0.404792\n",
       "total_loads                0.360903\n",
       "year                       0.290073\n",
       "id_driver                  0.253327\n",
       "marketplace_loads_otr      0.011441\n",
       "weekday                   -0.000493\n",
       "brokerage_loads           -0.078238\n",
       "brokerage_loads_otr       -0.119442\n",
       "num_trucks                -0.150238\n",
       "days_signup_to_approval   -0.213705\n",
       "Name: marketplace_loads_atlas, dtype: float64"
      ]
     },
     "metadata": {},
     "output_type": "display_data"
    },
    {
     "name": "stdout",
     "output_type": "stream",
     "text": [
      "---------------------------------------------------------------------\n",
      "marketplace_loads\n"
     ]
    },
    {
     "data": {
      "text/plain": [
       "marketplace_loads          1.000000\n",
       "marketplace_loads_atlas    0.911151\n",
       "marketplace_loads_otr      0.422470\n",
       "total_loads                0.401716\n",
       "label                      0.354169\n",
       "brokerage_loads_atlas      0.344502\n",
       "year                       0.273890\n",
       "id_driver                  0.191855\n",
       "weekday                    0.001357\n",
       "brokerage_loads           -0.079104\n",
       "brokerage_loads_otr       -0.113695\n",
       "days_signup_to_approval   -0.159411\n",
       "num_trucks                -0.185737\n",
       "Name: marketplace_loads, dtype: float64"
      ]
     },
     "metadata": {},
     "output_type": "display_data"
    },
    {
     "name": "stdout",
     "output_type": "stream",
     "text": [
      "---------------------------------------------------------------------\n",
      "brokerage_loads_otr\n"
     ]
    },
    {
     "data": {
      "text/plain": [
       "brokerage_loads_otr        1.000000\n",
       "brokerage_loads            0.994824\n",
       "total_loads                0.859125\n",
       "days_signup_to_approval    0.133629\n",
       "label                      0.105394\n",
       "marketplace_loads_otr     -0.013174\n",
       "weekday                   -0.021558\n",
       "num_trucks                -0.050238\n",
       "year                      -0.055271\n",
       "brokerage_loads_atlas     -0.102448\n",
       "marketplace_loads         -0.113695\n",
       "marketplace_loads_atlas   -0.119442\n",
       "id_driver                 -0.219673\n",
       "Name: brokerage_loads_otr, dtype: float64"
      ]
     },
     "metadata": {},
     "output_type": "display_data"
    },
    {
     "name": "stdout",
     "output_type": "stream",
     "text": [
      "---------------------------------------------------------------------\n",
      "brokerage_loads_atlas\n"
     ]
    },
    {
     "data": {
      "text/plain": [
       "brokerage_loads_atlas      1.000000\n",
       "marketplace_loads_atlas    0.409536\n",
       "marketplace_loads          0.344502\n",
       "label                      0.320236\n",
       "id_driver                  0.280231\n",
       "year                       0.274956\n",
       "total_loads                0.161382\n",
       "weekday                    0.008955\n",
       "brokerage_loads           -0.000836\n",
       "marketplace_loads_otr     -0.064830\n",
       "brokerage_loads_otr       -0.102448\n",
       "num_trucks                -0.120770\n",
       "days_signup_to_approval   -0.188662\n",
       "Name: brokerage_loads_atlas, dtype: float64"
      ]
     },
     "metadata": {},
     "output_type": "display_data"
    },
    {
     "name": "stdout",
     "output_type": "stream",
     "text": [
      "---------------------------------------------------------------------\n",
      "brokerage_loads\n"
     ]
    },
    {
     "data": {
      "text/plain": [
       "brokerage_loads            1.000000\n",
       "brokerage_loads_otr        0.994824\n",
       "total_loads                0.880155\n",
       "label                      0.138665\n",
       "days_signup_to_approval    0.109760\n",
       "brokerage_loads_atlas     -0.000836\n",
       "marketplace_loads_otr     -0.019866\n",
       "weekday                   -0.020757\n",
       "year                      -0.027475\n",
       "num_trucks                -0.062842\n",
       "marketplace_loads_atlas   -0.078238\n",
       "marketplace_loads         -0.079104\n",
       "id_driver                 -0.192208\n",
       "Name: brokerage_loads, dtype: float64"
      ]
     },
     "metadata": {},
     "output_type": "display_data"
    },
    {
     "name": "stdout",
     "output_type": "stream",
     "text": [
      "---------------------------------------------------------------------\n",
      "total_loads\n"
     ]
    },
    {
     "data": {
      "text/plain": [
       "total_loads                1.000000\n",
       "brokerage_loads            0.880155\n",
       "brokerage_loads_otr        0.859125\n",
       "marketplace_loads          0.401716\n",
       "marketplace_loads_atlas    0.360903\n",
       "label                      0.306941\n",
       "marketplace_loads_otr      0.180977\n",
       "brokerage_loads_atlas      0.161382\n",
       "year                       0.117035\n",
       "days_signup_to_approval   -0.004422\n",
       "weekday                   -0.017164\n",
       "id_driver                 -0.073022\n",
       "num_trucks                -0.114414\n",
       "Name: total_loads, dtype: float64"
      ]
     },
     "metadata": {},
     "output_type": "display_data"
    },
    {
     "name": "stdout",
     "output_type": "stream",
     "text": [
      "---------------------------------------------------------------------\n",
      "date\n",
      "date is not of type integer\n",
      "---------------------------------------------------------------------\n",
      "recent_date\n",
      "recent_date is not of type integer\n",
      "---------------------------------------------------------------------\n",
      "label\n"
     ]
    },
    {
     "data": {
      "text/plain": [
       "label                      1.000000\n",
       "marketplace_loads_atlas    0.404792\n",
       "year                       0.394704\n",
       "marketplace_loads          0.354169\n",
       "id_driver                  0.325040\n",
       "brokerage_loads_atlas      0.320236\n",
       "total_loads                0.306941\n",
       "brokerage_loads            0.138665\n",
       "num_trucks                 0.115391\n",
       "brokerage_loads_otr        0.105394\n",
       "weekday                    0.007623\n",
       "marketplace_loads_otr     -0.030935\n",
       "days_signup_to_approval   -0.253444\n",
       "Name: label, dtype: float64"
      ]
     },
     "metadata": {},
     "output_type": "display_data"
    },
    {
     "name": "stdout",
     "output_type": "stream",
     "text": [
      "---------------------------------------------------------------------\n"
     ]
    }
   ],
   "source": [
    "corr_matrix = df.corr()\n",
    "for col_name in (list(df.columns.values)): # prints all the correlation matrices corresponding to each feature\n",
    "    try:\n",
    "        print(col_name)\n",
    "        display(corr_matrix[col_name].sort_values(ascending=False))\n",
    "        print('---------------------------------------------------------------------')\n",
    "    except:\n",
    "        print(\"{} is not of type integer\".format(col_name))\n",
    "        print('---------------------------------------------------------------------')"
   ]
  },
  {
   "cell_type": "markdown",
   "metadata": {},
   "source": [
    " Also year and TODO_FIND_COLUMN_NAME_2 and year are highly correlated and have a similar impact on label, so we could drop one? \n",
    "\n",
    "Is there really a need for brokerage_loads when it is so highly correlated to brokerage_loads_otr due to the vast majority of shipments being delivered over-the-road as compared to via ATLAS? \n",
    "\n",
    "I have the same question about total_loads due to the vast majority of loads being brokerage loads...\n",
    "\n",
    "What's the point of having both year and date?\n",
    "\n",
    "We can remove the id_carrier_number column from this dataset as it is not relevant to predicting a label of 0 or 1 (When trying to find high performing drivers, we need to know their carrier number, so we can extract the id_carrier_number column for now...)\n",
    "\n",
    "We could one-hot-encode sign-up source and see its effect on labels.\n",
    "\n",
    "We can remove the ts_first_approved column because the date of approval shouldn't matter that much but instead the days_signup_to_approval matter.\n",
    "\n",
    "dim_preferred_lanes only has a few values so we can either remove the column or impute values.\n",
    "\n",
    "Also first_load_date, most_recent_load_date and load_day shouldn't matter much. Instead we can have values such as: number of days doing the job = most_recent_load_date - first_load_date\n",
    "AND\n",
    "days_from_last_load_to_today = todays_date - most_recent_load_date\n",
    "\n",
    "There are also a couple other features we need to impute.\n",
    "\n",
    "Also, only people that are port qualified can provide drayage services, so we should create a field called qualified_and_interest_in_drayage which is only 1 (yes) when interested_in_drayage = \"yes\" and port_qualified = \"yes\". We can also cross these features..."
   ]
  },
  {
   "cell_type": "markdown",
   "metadata": {},
   "source": [
    "# 4. Data Feature Extraction Plan and Pipeline"
   ]
  },
  {
   "cell_type": "code",
   "execution_count": 60,
   "metadata": {},
   "outputs": [
    {
     "data": {
      "text/plain": [
       "0        (City of Industry, CA)\n",
       "1             (Los Angeles, CA)\n",
       "2                 (Ontario, CA)\n",
       "3              (Long Beach, CA)\n",
       "4          (South El Monte, CA)\n",
       "                  ...          \n",
       "83409             (Seattle, WA)\n",
       "83410         (Los Angeles, CA)\n",
       "83411           (La Puente, CA)\n",
       "83412             (Phoenix, AZ)\n",
       "83413             (Compton, CA)\n",
       "Name: location, Length: 83414, dtype: object"
      ]
     },
     "metadata": {},
     "output_type": "display_data"
    },
    {
     "data": {
      "text/plain": [
       "0                  (yes, no)\n",
       "1        (not specified, no)\n",
       "2                  (yes, no)\n",
       "3                 (yes, yes)\n",
       "4        (not specified, no)\n",
       "                ...         \n",
       "83409    (not specified, no)\n",
       "83410    (not specified, no)\n",
       "83411    (not specified, no)\n",
       "83412    (not specified, no)\n",
       "83413             (yes, yes)\n",
       "Name: drayage_interested_port_qualified, Length: 83414, dtype: object"
      ]
     },
     "metadata": {},
     "output_type": "display_data"
    }
   ],
   "source": [
    "df[\"location\"] = list(zip(df[\"home_base_city\"], df[\"home_base_state\"]))# feature cross to get (city, state) tuple\n",
    "# feature cross for interested in drayage and port qualified\n",
    "df[\"drayage_interested_port_qualified\"] = list(zip(df[\"interested_in_drayage\"], df[\"port_qualified\"]))\n",
    "display(df[\"location\"])\n",
    "display(df[\"drayage_interested_port_qualified\"])"
   ]
  },
  {
   "cell_type": "code",
   "execution_count": 61,
   "metadata": {},
   "outputs": [
    {
     "name": "stdout",
     "output_type": "stream",
     "text": [
      "2493\n"
     ]
    }
   ],
   "source": [
    "id_carrier_number_col = np.array(df[\"id_carrier_number\"]) # extract id_carrier_number column\n",
    "id_driver_number_col = np.array(df[\"id_driver\"]) # extract id_driver column\n",
    "\n",
    "drop_cols = [\"id_carrier_number\", \"id_driver\", \"weekday\", \"home_base_city\",\n",
    "             \"home_base_state\", \"interested_in_drayage\", \"port_qualified\"]\n",
    "\n",
    "df = df.drop(columns = drop_cols) # drop columns that don't affect the label value by much\n",
    "print(df.dim_carrier_company_name.nunique())"
   ]
  },
  {
   "cell_type": "code",
   "execution_count": 62,
   "metadata": {},
   "outputs": [
    {
     "name": "stdout",
     "output_type": "stream",
     "text": [
      "<class 'pandas.core.frame.DataFrame'>\n",
      "RangeIndex: 83414 entries, 0 to 83413\n",
      "Data columns (total 26 columns):\n",
      " #   Column                             Non-Null Count  Dtype  \n",
      "---  ------                             --------------  -----  \n",
      " 0   dt                                 83414 non-null  object \n",
      " 1   year                               83414 non-null  int64  \n",
      " 2   dim_carrier_type                   83414 non-null  object \n",
      " 3   dim_carrier_company_name           83367 non-null  object \n",
      " 4   carrier_trucks                     83414 non-null  object \n",
      " 5   num_trucks                         83344 non-null  float64\n",
      " 6   signup_source                      83414 non-null  object \n",
      " 7   ts_signup                          83414 non-null  object \n",
      " 8   ts_first_approved                  71128 non-null  object \n",
      " 9   days_signup_to_approval            71128 non-null  float64\n",
      " 10  driver_with_twic                   83414 non-null  object \n",
      " 11  dim_preferred_lanes                3413 non-null   object \n",
      " 12  first_load_date                    83414 non-null  object \n",
      " 13  load_day                           83414 non-null  object \n",
      " 14  marketplace_loads_otr              83414 non-null  int64  \n",
      " 15  marketplace_loads_atlas            83414 non-null  int64  \n",
      " 16  marketplace_loads                  83414 non-null  int64  \n",
      " 17  brokerage_loads_otr                83414 non-null  int64  \n",
      " 18  brokerage_loads_atlas              83414 non-null  int64  \n",
      " 19  brokerage_loads                    83414 non-null  int64  \n",
      " 20  total_loads                        83414 non-null  int64  \n",
      " 21  date                               83414 non-null  object \n",
      " 22  recent_date                        83414 non-null  object \n",
      " 23  label                              83414 non-null  int64  \n",
      " 24  location                           83414 non-null  object \n",
      " 25  drayage_interested_port_qualified  83414 non-null  object \n",
      "dtypes: float64(2), int64(9), object(15)\n",
      "memory usage: 16.5+ MB\n"
     ]
    }
   ],
   "source": [
    "df.info()"
   ]
  },
  {
   "cell_type": "code",
   "execution_count": null,
   "metadata": {},
   "outputs": [],
   "source": [
    "imputer = IterativeImputer()\n",
    "categorical_features_one_hot = [\"dim_carrier_type\", \"carrier_trucks\", \"location\", \n",
    "                                \"signup_source\", \"driver_with_twic\", \"drayage_interested_port_qualified\"]\n",
    "\n",
    "num_pipeline = Pipeline([\n",
    "        ('imputer', imputer),\n",
    "        ('std_scaler', StandardScaler()),\n",
    "    ])\n",
    "\n",
    "full_pipeline = ColumnTransformer([\n",
    "        (\"num\", num_pipeline, numerical_features),\n",
    "        (\"cat\", OneHotEncoder(), categorical_features_one_hot),\n",
    "    ])"
   ]
  },
  {
   "cell_type": "markdown",
   "metadata": {},
   "source": [
    "# 6. PCA"
   ]
  },
  {
   "cell_type": "code",
   "execution_count": null,
   "metadata": {},
   "outputs": [],
   "source": [
    "max_len = len(df.columns)\n",
    "arr = []\n",
    "for i in range(1, max_len+1):\n",
    "    pca = PCA(n_components=len(df.columns))\n",
    "    pca.fit(df)\n",
    "    arr.append(pca)\n",
    "    #pca.fit_transform(df)\n",
    "# need to transform test data after finishing data pipelining"
   ]
  },
  {
   "cell_type": "markdown",
   "metadata": {},
   "source": [
    "# 7. Ensemble AKA Robert's BS pls mercy"
   ]
  },
  {
   "cell_type": "code",
   "execution_count": null,
   "metadata": {},
   "outputs": [],
   "source": [
    "from sklearn.datasets import make_regression\n",
    "from sklearn.model_selection import train_test_split\n",
    "from sklearn.ensemble import RandomForestRegressor\n",
    "from sklearn.metrics import r2_score\n",
    "\n",
    "# assuming we have X_train,X_test,y_train,y_test at this time\n",
    "# I first run Random Forest using random hard coded settings to get a baseline\n",
    "rf = RandomForestRegressor(n_estimators=80,max_depth=7,max_features=3)\n",
    "rf.fit(X_train,y_train)\n",
    "y_pred = rf.predict(X_test)\n",
    "test_score = r2_score(y_test,y_pred)\n",
    "test_score"
   ]
  },
  {
   "cell_type": "code",
   "execution_count": null,
   "metadata": {},
   "outputs": [],
   "source": [
    "from sklearn.model_selection import RandomizedSearchCV\n",
    "import numpy as np\n",
    "# I then use RandomizedSearchCV to find the optimal hyperparameters\n",
    "n_estimators = [int(x) for x in np.linspace(start = 100, stop = 1000, num = 10)]\n",
    "max_features = ['auto', 'sqrt']\n",
    "max_depth = [int(x) for x in np.linspace(5, 100, num = 10)]\n",
    "max_depth.append(None)\n",
    "min_samples_split = [2, 5, 7, 10, 20]\n",
    "min_samples_leaf = [1, 2, 5, 10]\n",
    "bootstrap = [True, False]\n",
    "random_grid = {'n_estimators': n_estimators,\n",
    "               'max_features': max_features,\n",
    "               'max_depth': max_depth,\n",
    "               'min_samples_split': min_samples_split,\n",
    "               'min_samples_leaf': min_samples_leaf,\n",
    "               'bootstrap': bootstrap}\n",
    "\n",
    "rf_random = RandomizedSearchCV(estimator = rf, param_distributions = random_grid, n_iter = 100, cv = 3, verbose=2, random_state=42, n_jobs = -1)\n",
    "rf_random.fit(X_train, y_train)\n",
    "rf_random.best_params_"
   ]
  },
  {
   "cell_type": "code",
   "execution_count": null,
   "metadata": {},
   "outputs": [],
   "source": [
    "# I then output the r2 score again as a sanity check to verify that my RanomdizedSearchCV actually did find the best settings\n",
    "rf = RandomForestRegressor(n_estimators=700,max_depth=47,max_features='auto',min_samples_split=2,min_samples_leaf=2,bootstrap=True)\n",
    "rf.fit(X_train,y_train)\n",
    "y_pred = rf.predict(X_test)\n",
    "from sklearn.metrics import r2_score\n",
    "test_score = r2_score(y_test,y_pred)\n",
    "test_score"
   ]
  },
  {
   "cell_type": "code",
   "execution_count": null,
   "metadata": {},
   "outputs": [],
   "source": [
    "# we then use the hyperparameters we found from the RandomizedSearchCV to do a second more thorough check around that range\n",
    "from sklearn.model_selection import GridSearchCV\n",
    "param_grid = {\n",
    "    'bootstrap': [True],\n",
    "    'max_depth': [40, 45, 50, 55, 60],\n",
    "    'max_features': [2, 5, 7, 10, 12],\n",
    "    'min_samples_leaf': [2, 3, 4, 5, 6],\n",
    "    'min_samples_split': [2, 3, 4, 5, 6],\n",
    "    'n_estimators': [100, 200, 500, 700, 1000]\n",
    "}\n",
    "# Create a based model\n",
    "rf = RandomForestRegressor()\n",
    "# Instantiate the grid search model\n",
    "grid_search = GridSearchCV(estimator = rf, param_grid = param_grid, \n",
    "                          cv = 3, n_jobs = -1, verbose = 2)\n",
    "grid_search.fit(X_train, y_train)\n",
    "grid_search.best_params_"
   ]
  },
  {
   "cell_type": "code",
   "execution_count": null,
   "metadata": {},
   "outputs": [],
   "source": [
    "# we then output the results using the optimal hyperparameters to check that our model has improved\n",
    "rf = RandomForestRegressor(n_estimators=500,max_depth=40,max_features=7,min_samples_split=4,min_samples_leaf=2,bootstrap=True)\n",
    "rf.fit(X_train,y_train)\n",
    "y_pred = rf.predict(X_test)\n",
    "from sklearn.metrics import r2_score\n",
    "test_score = r2_score(y_test,y_pred)\n",
    "test_score"
   ]
  },
  {
   "cell_type": "code",
   "execution_count": null,
   "metadata": {},
   "outputs": [],
   "source": [
    "# AdaBoost using the same settings\n",
    "from sklearn.ensemble import AdaBoostClassifier\n",
    "from sklearn.tree import DecisionTreeClassifier\n",
    "from sklearn import metrics\n",
    "\n",
    "dt = DecisionTreeClassifier(max_depth=3)\n",
    "ab = AdaBoostClassifier(base_estimator=dt,learning_rate=1,n_estimators=50)\n",
    "ab.fit(X_train,y_train)\n",
    "y_pred = ab.predict(X_test)\n",
    "test_score = r2_score(y_test,y_pred)\n",
    "accuracyResult = metrics.accuracy_score(y_test,y_pred)\n",
    "print(\"R2 Score: \",test_score)\n",
    "print(\"Accuracy Score: \",accuracyResult)"
   ]
  },
  {
   "cell_type": "markdown",
   "metadata": {},
   "source": [
    "# 8. Neural Network Classifier"
   ]
  },
  {
   "cell_type": "code",
   "execution_count": null,
   "metadata": {},
   "outputs": [],
   "source": [
    "# # Define a transform to normalize the data\n",
    "# transform = transforms.Compose([transforms.ToTensor(),\n",
    "#                                 transforms.Normalize((0.5,), (0.5,)),\n",
    "#                               ])\n",
    "# Download and load the training data\n",
    "NN_X_train = torch.tensor(df.drop([\"label\"], axis=1).values)\n",
    "NN_y_train = torch.tensor(df[\"label\"].values)\n",
    "trainset = TensorDataset(NN_X_train, NN_y_train)\n",
    "trainloader = DataLoader(trainset, batch_size=64, shuffle=True)"
   ]
  },
  {
   "cell_type": "code",
   "execution_count": null,
   "metadata": {},
   "outputs": [],
   "source": [
    "NUM_FEATURES = 20\n",
    "NUM_HIDDEN1_NODES = 400\n",
    "NUM_EPOCHS = 30\n",
    "\n",
    "model = nn.Sequential(nn.Linear(NUM_FEATURES, NUM_HIDDEN1_NODES),\n",
    "                      nn.Sigmoid(),\n",
    "                      nn.Linear(NUM_HIDDEN1_NODES, 1)\n",
    "                     )\n",
    "\n",
    "criterion = nn.CrossEntropyLoss()\n",
    "optimizer = optim.SGD(model.parameters(), lr=0.003)\n",
    "\n",
    "for e in range(NUM_EPOCHS):\n",
    "    running_loss = 0\n",
    "    for data, labels in trainloader:\n",
    "        optimizer.zero_grad()\n",
    "        output = model(data)\n",
    "        loss = criterion(output, labels)\n",
    "        loss.backward()\n",
    "        optimizer.step()\n",
    "        running_loss += loss.item()\n",
    "    print(f\"Training loss: {running_loss/len(trainloader)}\")\n",
    "    \n",
    "# class NeuralNet(nn.Module):\n",
    "#     def __init__(self):\n",
    "#         super(NeuralNet, self).__init__()\n",
    "        \n",
    "#         # Inputs to hidden layer linear transformation\n",
    "#         self.hidden1 = nn.Linear(NUM_FEATURES, NUM_HIDDEN1_NODES)\n",
    "#         self.output = nn.Linear(NUM_HIDDEN1_NODES, 1)\n",
    "        \n",
    "#         self.sigmoid = nn.Sigmoid()\n",
    "        \n",
    "#     def forward(self, x):\n",
    "#         x = self.hidden1(x)\n",
    "#         x = self.sigmoid(x)\n",
    "#         x = self.output(x)\n",
    "#         x = self.softmax(x)\n",
    "#         return x"
   ]
  },
  {
   "cell_type": "code",
   "execution_count": null,
   "metadata": {},
   "outputs": [],
   "source": [
    "# model = Network()\n",
    "# model"
   ]
  }
 ],
 "metadata": {
  "kernelspec": {
   "display_name": "Python 3",
   "language": "python",
   "name": "python3"
  },
  "language_info": {
   "codemirror_mode": {
    "name": "ipython",
    "version": 3
   },
   "file_extension": ".py",
   "mimetype": "text/x-python",
   "name": "python",
   "nbconvert_exporter": "python",
   "pygments_lexer": "ipython3",
   "version": "3.8.5"
  }
 },
 "nbformat": 4,
 "nbformat_minor": 4
}
