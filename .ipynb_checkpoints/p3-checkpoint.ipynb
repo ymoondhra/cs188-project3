{
 "cells": [
  {
   "cell_type": "code",
   "execution_count": 1,
   "metadata": {},
   "outputs": [],
   "source": [
    "import numpy as np # linear algebra\n",
    "import pandas as pd # data processing, CSV file I/O (e.g. pd.read_csv)\n",
    "import matplotlib.pyplot as plt # this is used for the plot the graph \n",
    "\n",
    "%matplotlib inline\n",
    "\n",
    "import random \n",
    "random.seed(42)"
   ]
  },
  {
   "cell_type": "code",
   "execution_count": 2,
   "metadata": {},
   "outputs": [],
   "source": [
    "csv_path = \"training_dataset.csv\""
   ]
  },
  {
   "cell_type": "markdown",
   "metadata": {},
   "source": [
    "# 0. First, let's understand our data..."
   ]
  },
  {
   "cell_type": "code",
   "execution_count": 3,
   "metadata": {},
   "outputs": [
    {
     "data": {
      "text/html": [
       "<div>\n",
       "<style scoped>\n",
       "    .dataframe tbody tr th:only-of-type {\n",
       "        vertical-align: middle;\n",
       "    }\n",
       "\n",
       "    .dataframe tbody tr th {\n",
       "        vertical-align: top;\n",
       "    }\n",
       "\n",
       "    .dataframe thead th {\n",
       "        text-align: right;\n",
       "    }\n",
       "</style>\n",
       "<table border=\"1\" class=\"dataframe\">\n",
       "  <thead>\n",
       "    <tr style=\"text-align: right;\">\n",
       "      <th></th>\n",
       "      <th>TODO_FIND_COLUMN_NAME_1</th>\n",
       "      <th>TODO_FIND_COLUMN_NAME_2</th>\n",
       "      <th>dt</th>\n",
       "      <th>weekday</th>\n",
       "      <th>year</th>\n",
       "      <th>id_driver</th>\n",
       "      <th>id_carrier_number</th>\n",
       "      <th>dim_carrier_type</th>\n",
       "      <th>dim_carrier_company_name</th>\n",
       "      <th>home_base_city</th>\n",
       "      <th>...</th>\n",
       "      <th>marketplace_loads</th>\n",
       "      <th>brokerage_loads_otr</th>\n",
       "      <th>brokerage_loads_atlas</th>\n",
       "      <th>brokerage_loads</th>\n",
       "      <th>total_loads</th>\n",
       "      <th>date</th>\n",
       "      <th>period</th>\n",
       "      <th>recent_date</th>\n",
       "      <th>test</th>\n",
       "      <th>label</th>\n",
       "    </tr>\n",
       "  </thead>\n",
       "  <tbody>\n",
       "    <tr>\n",
       "      <th>0</th>\n",
       "      <td>0</td>\n",
       "      <td>19722</td>\n",
       "      <td>2018-08-23</td>\n",
       "      <td>4</td>\n",
       "      <td>2018</td>\n",
       "      <td>13577</td>\n",
       "      <td>C0092604</td>\n",
       "      <td>Fleet</td>\n",
       "      <td>US HONG CORP</td>\n",
       "      <td>City of Industry</td>\n",
       "      <td>...</td>\n",
       "      <td>0</td>\n",
       "      <td>2</td>\n",
       "      <td>0</td>\n",
       "      <td>2</td>\n",
       "      <td>2</td>\n",
       "      <td>2018-08-23</td>\n",
       "      <td>1</td>\n",
       "      <td>2018-08-27</td>\n",
       "      <td>20180827</td>\n",
       "      <td>0</td>\n",
       "    </tr>\n",
       "    <tr>\n",
       "      <th>1</th>\n",
       "      <td>1</td>\n",
       "      <td>16677</td>\n",
       "      <td>2018-05-11</td>\n",
       "      <td>5</td>\n",
       "      <td>2018</td>\n",
       "      <td>7066</td>\n",
       "      <td>C0090412</td>\n",
       "      <td>Fleet</td>\n",
       "      <td>Carlos Flores</td>\n",
       "      <td>Los Angeles</td>\n",
       "      <td>...</td>\n",
       "      <td>134</td>\n",
       "      <td>186</td>\n",
       "      <td>0</td>\n",
       "      <td>186</td>\n",
       "      <td>320</td>\n",
       "      <td>2018-05-11</td>\n",
       "      <td>2</td>\n",
       "      <td>2019-09-05</td>\n",
       "      <td>20190905</td>\n",
       "      <td>0</td>\n",
       "    </tr>\n",
       "    <tr>\n",
       "      <th>2</th>\n",
       "      <td>2</td>\n",
       "      <td>31013</td>\n",
       "      <td>2019-03-23</td>\n",
       "      <td>6</td>\n",
       "      <td>2019</td>\n",
       "      <td>16776</td>\n",
       "      <td>C0093729</td>\n",
       "      <td>Fleet</td>\n",
       "      <td>AZIEL INC</td>\n",
       "      <td>Ontario</td>\n",
       "      <td>...</td>\n",
       "      <td>11</td>\n",
       "      <td>97</td>\n",
       "      <td>0</td>\n",
       "      <td>97</td>\n",
       "      <td>108</td>\n",
       "      <td>2019-03-23</td>\n",
       "      <td>2</td>\n",
       "      <td>2019-10-17</td>\n",
       "      <td>20191017</td>\n",
       "      <td>0</td>\n",
       "    </tr>\n",
       "    <tr>\n",
       "      <th>3</th>\n",
       "      <td>3</td>\n",
       "      <td>35303</td>\n",
       "      <td>2019-07-03</td>\n",
       "      <td>3</td>\n",
       "      <td>2019</td>\n",
       "      <td>11085</td>\n",
       "      <td>U0099848</td>\n",
       "      <td>Owner Operator</td>\n",
       "      <td>Expert Carriers</td>\n",
       "      <td>Long Beach</td>\n",
       "      <td>...</td>\n",
       "      <td>15</td>\n",
       "      <td>179</td>\n",
       "      <td>0</td>\n",
       "      <td>179</td>\n",
       "      <td>194</td>\n",
       "      <td>2019-07-03</td>\n",
       "      <td>1</td>\n",
       "      <td>2019-12-28</td>\n",
       "      <td>20191228</td>\n",
       "      <td>0</td>\n",
       "    </tr>\n",
       "    <tr>\n",
       "      <th>4</th>\n",
       "      <td>4</td>\n",
       "      <td>70021</td>\n",
       "      <td>2020-11-07</td>\n",
       "      <td>6</td>\n",
       "      <td>2020</td>\n",
       "      <td>14644</td>\n",
       "      <td>U0102863</td>\n",
       "      <td>Owner Operator</td>\n",
       "      <td>Edgar &amp; daughters</td>\n",
       "      <td>South El Monte</td>\n",
       "      <td>...</td>\n",
       "      <td>296</td>\n",
       "      <td>0</td>\n",
       "      <td>8</td>\n",
       "      <td>8</td>\n",
       "      <td>304</td>\n",
       "      <td>2020-11-07</td>\n",
       "      <td>2</td>\n",
       "      <td>2021-02-17</td>\n",
       "      <td>20210217</td>\n",
       "      <td>0</td>\n",
       "    </tr>\n",
       "  </tbody>\n",
       "</table>\n",
       "<p>5 rows × 37 columns</p>\n",
       "</div>"
      ],
      "text/plain": [
       "   TODO_FIND_COLUMN_NAME_1  TODO_FIND_COLUMN_NAME_2          dt  weekday  \\\n",
       "0                        0                    19722  2018-08-23        4   \n",
       "1                        1                    16677  2018-05-11        5   \n",
       "2                        2                    31013  2019-03-23        6   \n",
       "3                        3                    35303  2019-07-03        3   \n",
       "4                        4                    70021  2020-11-07        6   \n",
       "\n",
       "   year  id_driver id_carrier_number dim_carrier_type  \\\n",
       "0  2018      13577          C0092604            Fleet   \n",
       "1  2018       7066          C0090412            Fleet   \n",
       "2  2019      16776          C0093729            Fleet   \n",
       "3  2019      11085          U0099848   Owner Operator   \n",
       "4  2020      14644          U0102863   Owner Operator   \n",
       "\n",
       "  dim_carrier_company_name    home_base_city  ... marketplace_loads  \\\n",
       "0             US HONG CORP  City of Industry  ...                 0   \n",
       "1            Carlos Flores       Los Angeles  ...               134   \n",
       "2                AZIEL INC           Ontario  ...                11   \n",
       "3          Expert Carriers        Long Beach  ...                15   \n",
       "4        Edgar & daughters    South El Monte  ...               296   \n",
       "\n",
       "  brokerage_loads_otr  brokerage_loads_atlas brokerage_loads total_loads  \\\n",
       "0                   2                      0               2           2   \n",
       "1                 186                      0             186         320   \n",
       "2                  97                      0              97         108   \n",
       "3                 179                      0             179         194   \n",
       "4                   0                      8               8         304   \n",
       "\n",
       "         date period recent_date      test label  \n",
       "0  2018-08-23      1  2018-08-27  20180827     0  \n",
       "1  2018-05-11      2  2019-09-05  20190905     0  \n",
       "2  2019-03-23      2  2019-10-17  20191017     0  \n",
       "3  2019-07-03      1  2019-12-28  20191228     0  \n",
       "4  2020-11-07      2  2021-02-17  20210217     0  \n",
       "\n",
       "[5 rows x 37 columns]"
      ]
     },
     "execution_count": 3,
     "metadata": {},
     "output_type": "execute_result"
    }
   ],
   "source": [
    "df = pd.read_csv(csv_path) # load the pandas dataframe\n",
    "df = df.rename(columns={\"Unnamed: 0\": \"TODO_FIND_COLUMN_NAME_1\", \"Unnamed: 0.1\": \"TODO_FIND_COLUMN_NAME_2\"})\n",
    "df.head()"
   ]
  },
  {
   "cell_type": "code",
   "execution_count": 4,
   "metadata": {},
   "outputs": [
    {
     "data": {
      "text/html": [
       "<div>\n",
       "<style scoped>\n",
       "    .dataframe tbody tr th:only-of-type {\n",
       "        vertical-align: middle;\n",
       "    }\n",
       "\n",
       "    .dataframe tbody tr th {\n",
       "        vertical-align: top;\n",
       "    }\n",
       "\n",
       "    .dataframe thead th {\n",
       "        text-align: right;\n",
       "    }\n",
       "</style>\n",
       "<table border=\"1\" class=\"dataframe\">\n",
       "  <thead>\n",
       "    <tr style=\"text-align: right;\">\n",
       "      <th></th>\n",
       "      <th>TODO_FIND_COLUMN_NAME_1</th>\n",
       "      <th>TODO_FIND_COLUMN_NAME_2</th>\n",
       "      <th>weekday</th>\n",
       "      <th>year</th>\n",
       "      <th>id_driver</th>\n",
       "      <th>num_trucks</th>\n",
       "      <th>days_signup_to_approval</th>\n",
       "      <th>loads</th>\n",
       "      <th>marketplace_loads_otr</th>\n",
       "      <th>marketplace_loads_atlas</th>\n",
       "      <th>marketplace_loads</th>\n",
       "      <th>brokerage_loads_otr</th>\n",
       "      <th>brokerage_loads_atlas</th>\n",
       "      <th>brokerage_loads</th>\n",
       "      <th>total_loads</th>\n",
       "      <th>period</th>\n",
       "      <th>test</th>\n",
       "      <th>label</th>\n",
       "    </tr>\n",
       "  </thead>\n",
       "  <tbody>\n",
       "    <tr>\n",
       "      <th>count</th>\n",
       "      <td>83414.000000</td>\n",
       "      <td>83414.000000</td>\n",
       "      <td>83414.000000</td>\n",
       "      <td>83414.000000</td>\n",
       "      <td>83414.000000</td>\n",
       "      <td>83344.000000</td>\n",
       "      <td>71128.000000</td>\n",
       "      <td>83414.000000</td>\n",
       "      <td>83414.000000</td>\n",
       "      <td>83414.000000</td>\n",
       "      <td>83414.000000</td>\n",
       "      <td>83414.000000</td>\n",
       "      <td>83414.000000</td>\n",
       "      <td>83414.000000</td>\n",
       "      <td>83414.000000</td>\n",
       "      <td>83414.000000</td>\n",
       "      <td>8.341400e+04</td>\n",
       "      <td>83414.000000</td>\n",
       "    </tr>\n",
       "    <tr>\n",
       "      <th>mean</th>\n",
       "      <td>41706.500000</td>\n",
       "      <td>42205.887129</td>\n",
       "      <td>3.499149</td>\n",
       "      <td>2018.960906</td>\n",
       "      <td>18221.333098</td>\n",
       "      <td>22.588153</td>\n",
       "      <td>298.818229</td>\n",
       "      <td>2.073980</td>\n",
       "      <td>29.545844</td>\n",
       "      <td>71.541156</td>\n",
       "      <td>101.087000</td>\n",
       "      <td>148.117606</td>\n",
       "      <td>13.046407</td>\n",
       "      <td>161.164013</td>\n",
       "      <td>266.368499</td>\n",
       "      <td>1.308330</td>\n",
       "      <td>2.019781e+07</td>\n",
       "      <td>0.112751</td>\n",
       "    </tr>\n",
       "    <tr>\n",
       "      <th>std</th>\n",
       "      <td>24079.692014</td>\n",
       "      <td>24358.451235</td>\n",
       "      <td>1.688132</td>\n",
       "      <td>1.359378</td>\n",
       "      <td>11666.420279</td>\n",
       "      <td>48.840757</td>\n",
       "      <td>390.379696</td>\n",
       "      <td>2.661652</td>\n",
       "      <td>88.415228</td>\n",
       "      <td>194.473946</td>\n",
       "      <td>214.547898</td>\n",
       "      <td>415.015279</td>\n",
       "      <td>42.172475</td>\n",
       "      <td>412.831763</td>\n",
       "      <td>447.964420</td>\n",
       "      <td>0.461806</td>\n",
       "      <td>1.353858e+04</td>\n",
       "      <td>0.316290</td>\n",
       "    </tr>\n",
       "    <tr>\n",
       "      <th>min</th>\n",
       "      <td>0.000000</td>\n",
       "      <td>0.000000</td>\n",
       "      <td>1.000000</td>\n",
       "      <td>2015.000000</td>\n",
       "      <td>20.000000</td>\n",
       "      <td>1.000000</td>\n",
       "      <td>0.000000</td>\n",
       "      <td>1.000000</td>\n",
       "      <td>0.000000</td>\n",
       "      <td>0.000000</td>\n",
       "      <td>0.000000</td>\n",
       "      <td>0.000000</td>\n",
       "      <td>0.000000</td>\n",
       "      <td>0.000000</td>\n",
       "      <td>1.000000</td>\n",
       "      <td>1.000000</td>\n",
       "      <td>2.015103e+07</td>\n",
       "      <td>0.000000</td>\n",
       "    </tr>\n",
       "    <tr>\n",
       "      <th>25%</th>\n",
       "      <td>20853.250000</td>\n",
       "      <td>21121.250000</td>\n",
       "      <td>2.000000</td>\n",
       "      <td>2018.000000</td>\n",
       "      <td>7898.500000</td>\n",
       "      <td>1.000000</td>\n",
       "      <td>0.000000</td>\n",
       "      <td>1.000000</td>\n",
       "      <td>0.000000</td>\n",
       "      <td>0.000000</td>\n",
       "      <td>0.000000</td>\n",
       "      <td>0.000000</td>\n",
       "      <td>0.000000</td>\n",
       "      <td>5.000000</td>\n",
       "      <td>37.000000</td>\n",
       "      <td>1.000000</td>\n",
       "      <td>2.019072e+07</td>\n",
       "      <td>0.000000</td>\n",
       "    </tr>\n",
       "    <tr>\n",
       "      <th>50%</th>\n",
       "      <td>41706.500000</td>\n",
       "      <td>42211.500000</td>\n",
       "      <td>3.000000</td>\n",
       "      <td>2019.000000</td>\n",
       "      <td>16299.000000</td>\n",
       "      <td>4.000000</td>\n",
       "      <td>62.000000</td>\n",
       "      <td>1.000000</td>\n",
       "      <td>2.000000</td>\n",
       "      <td>0.000000</td>\n",
       "      <td>13.000000</td>\n",
       "      <td>15.000000</td>\n",
       "      <td>0.000000</td>\n",
       "      <td>37.000000</td>\n",
       "      <td>110.000000</td>\n",
       "      <td>1.000000</td>\n",
       "      <td>2.020083e+07</td>\n",
       "      <td>0.000000</td>\n",
       "    </tr>\n",
       "    <tr>\n",
       "      <th>75%</th>\n",
       "      <td>62559.750000</td>\n",
       "      <td>63289.750000</td>\n",
       "      <td>5.000000</td>\n",
       "      <td>2020.000000</td>\n",
       "      <td>28974.000000</td>\n",
       "      <td>14.000000</td>\n",
       "      <td>497.000000</td>\n",
       "      <td>2.000000</td>\n",
       "      <td>23.000000</td>\n",
       "      <td>18.000000</td>\n",
       "      <td>94.000000</td>\n",
       "      <td>112.000000</td>\n",
       "      <td>1.000000</td>\n",
       "      <td>135.000000</td>\n",
       "      <td>325.000000</td>\n",
       "      <td>2.000000</td>\n",
       "      <td>2.021021e+07</td>\n",
       "      <td>0.000000</td>\n",
       "    </tr>\n",
       "    <tr>\n",
       "      <th>max</th>\n",
       "      <td>83413.000000</td>\n",
       "      <td>84413.000000</td>\n",
       "      <td>7.000000</td>\n",
       "      <td>2021.000000</td>\n",
       "      <td>38125.000000</td>\n",
       "      <td>195.000000</td>\n",
       "      <td>1653.000000</td>\n",
       "      <td>129.000000</td>\n",
       "      <td>902.000000</td>\n",
       "      <td>1324.000000</td>\n",
       "      <td>1348.000000</td>\n",
       "      <td>4266.000000</td>\n",
       "      <td>371.000000</td>\n",
       "      <td>4266.000000</td>\n",
       "      <td>4266.000000</td>\n",
       "      <td>2.000000</td>\n",
       "      <td>2.021022e+07</td>\n",
       "      <td>1.000000</td>\n",
       "    </tr>\n",
       "  </tbody>\n",
       "</table>\n",
       "</div>"
      ],
      "text/plain": [
       "       TODO_FIND_COLUMN_NAME_1  TODO_FIND_COLUMN_NAME_2       weekday  \\\n",
       "count             83414.000000             83414.000000  83414.000000   \n",
       "mean              41706.500000             42205.887129      3.499149   \n",
       "std               24079.692014             24358.451235      1.688132   \n",
       "min                   0.000000                 0.000000      1.000000   \n",
       "25%               20853.250000             21121.250000      2.000000   \n",
       "50%               41706.500000             42211.500000      3.000000   \n",
       "75%               62559.750000             63289.750000      5.000000   \n",
       "max               83413.000000             84413.000000      7.000000   \n",
       "\n",
       "               year     id_driver    num_trucks  days_signup_to_approval  \\\n",
       "count  83414.000000  83414.000000  83344.000000             71128.000000   \n",
       "mean    2018.960906  18221.333098     22.588153               298.818229   \n",
       "std        1.359378  11666.420279     48.840757               390.379696   \n",
       "min     2015.000000     20.000000      1.000000                 0.000000   \n",
       "25%     2018.000000   7898.500000      1.000000                 0.000000   \n",
       "50%     2019.000000  16299.000000      4.000000                62.000000   \n",
       "75%     2020.000000  28974.000000     14.000000               497.000000   \n",
       "max     2021.000000  38125.000000    195.000000              1653.000000   \n",
       "\n",
       "              loads  marketplace_loads_otr  marketplace_loads_atlas  \\\n",
       "count  83414.000000           83414.000000             83414.000000   \n",
       "mean       2.073980              29.545844                71.541156   \n",
       "std        2.661652              88.415228               194.473946   \n",
       "min        1.000000               0.000000                 0.000000   \n",
       "25%        1.000000               0.000000                 0.000000   \n",
       "50%        1.000000               2.000000                 0.000000   \n",
       "75%        2.000000              23.000000                18.000000   \n",
       "max      129.000000             902.000000              1324.000000   \n",
       "\n",
       "       marketplace_loads  brokerage_loads_otr  brokerage_loads_atlas  \\\n",
       "count       83414.000000         83414.000000           83414.000000   \n",
       "mean          101.087000           148.117606              13.046407   \n",
       "std           214.547898           415.015279              42.172475   \n",
       "min             0.000000             0.000000               0.000000   \n",
       "25%             0.000000             0.000000               0.000000   \n",
       "50%            13.000000            15.000000               0.000000   \n",
       "75%            94.000000           112.000000               1.000000   \n",
       "max          1348.000000          4266.000000             371.000000   \n",
       "\n",
       "       brokerage_loads   total_loads        period          test         label  \n",
       "count     83414.000000  83414.000000  83414.000000  8.341400e+04  83414.000000  \n",
       "mean        161.164013    266.368499      1.308330  2.019781e+07      0.112751  \n",
       "std         412.831763    447.964420      0.461806  1.353858e+04      0.316290  \n",
       "min           0.000000      1.000000      1.000000  2.015103e+07      0.000000  \n",
       "25%           5.000000     37.000000      1.000000  2.019072e+07      0.000000  \n",
       "50%          37.000000    110.000000      1.000000  2.020083e+07      0.000000  \n",
       "75%         135.000000    325.000000      2.000000  2.021021e+07      0.000000  \n",
       "max        4266.000000   4266.000000      2.000000  2.021022e+07      1.000000  "
      ]
     },
     "execution_count": 4,
     "metadata": {},
     "output_type": "execute_result"
    }
   ],
   "source": [
    "df.describe()"
   ]
  },
  {
   "cell_type": "code",
   "execution_count": 5,
   "metadata": {},
   "outputs": [
    {
     "name": "stdout",
     "output_type": "stream",
     "text": [
      "<class 'pandas.core.frame.DataFrame'>\n",
      "RangeIndex: 83414 entries, 0 to 83413\n",
      "Data columns (total 37 columns):\n",
      " #   Column                    Non-Null Count  Dtype  \n",
      "---  ------                    --------------  -----  \n",
      " 0   TODO_FIND_COLUMN_NAME_1   83414 non-null  int64  \n",
      " 1   TODO_FIND_COLUMN_NAME_2   83414 non-null  int64  \n",
      " 2   dt                        83414 non-null  object \n",
      " 3   weekday                   83414 non-null  int64  \n",
      " 4   year                      83414 non-null  int64  \n",
      " 5   id_driver                 83414 non-null  int64  \n",
      " 6   id_carrier_number         83414 non-null  object \n",
      " 7   dim_carrier_type          83414 non-null  object \n",
      " 8   dim_carrier_company_name  83367 non-null  object \n",
      " 9   home_base_city            83370 non-null  object \n",
      " 10  home_base_state           83370 non-null  object \n",
      " 11  carrier_trucks            83414 non-null  object \n",
      " 12  num_trucks                83344 non-null  float64\n",
      " 13  interested_in_drayage     83414 non-null  object \n",
      " 14  port_qualified            83414 non-null  object \n",
      " 15  signup_source             83414 non-null  object \n",
      " 16  ts_signup                 83414 non-null  object \n",
      " 17  ts_first_approved         71128 non-null  object \n",
      " 18  days_signup_to_approval   71128 non-null  float64\n",
      " 19  driver_with_twic          83414 non-null  object \n",
      " 20  dim_preferred_lanes       3413 non-null   object \n",
      " 21  first_load_date           83414 non-null  object \n",
      " 22  most_recent_load_date     83414 non-null  object \n",
      " 23  load_day                  83414 non-null  object \n",
      " 24  loads                     83414 non-null  int64  \n",
      " 25  marketplace_loads_otr     83414 non-null  int64  \n",
      " 26  marketplace_loads_atlas   83414 non-null  int64  \n",
      " 27  marketplace_loads         83414 non-null  int64  \n",
      " 28  brokerage_loads_otr       83414 non-null  int64  \n",
      " 29  brokerage_loads_atlas     83414 non-null  int64  \n",
      " 30  brokerage_loads           83414 non-null  int64  \n",
      " 31  total_loads               83414 non-null  int64  \n",
      " 32  date                      83414 non-null  object \n",
      " 33  period                    83414 non-null  int64  \n",
      " 34  recent_date               83414 non-null  object \n",
      " 35  test                      83414 non-null  int64  \n",
      " 36  label                     83414 non-null  int64  \n",
      "dtypes: float64(2), int64(16), object(19)\n",
      "memory usage: 23.5+ MB\n"
     ]
    }
   ],
   "source": [
    "df.info()"
   ]
  },
  {
   "cell_type": "markdown",
   "metadata": {},
   "source": [
    "# 1. Generate Labels"
   ]
  },
  {
   "cell_type": "code",
   "execution_count": 6,
   "metadata": {},
   "outputs": [],
   "source": [
    "df['most_recent_load_date'] = pd.to_datetime(df['most_recent_load_date'], format='%Y-%m-%d')"
   ]
  },
  {
   "cell_type": "code",
   "execution_count": 7,
   "metadata": {},
   "outputs": [
    {
     "data": {
      "text/plain": [
       "0   2018-08-27\n",
       "1   2019-09-05\n",
       "2   2019-10-17\n",
       "3   2019-12-28\n",
       "4   2021-02-17\n",
       "Name: most_recent_load_date, dtype: datetime64[ns]"
      ]
     },
     "execution_count": 7,
     "metadata": {},
     "output_type": "execute_result"
    }
   ],
   "source": [
    "df['most_recent_load_date'].head()"
   ]
  },
  {
   "cell_type": "code",
   "execution_count": 8,
   "metadata": {},
   "outputs": [
    {
     "name": "stdout",
     "output_type": "stream",
     "text": [
      "2.0\n",
      "2021-02-14 00:00:00\n"
     ]
    }
   ],
   "source": [
    "loads75 = df.loads.quantile(0.75)\n",
    "most_recent_load_date75 = df.most_recent_load_date.quantile(0.75)\n",
    "\n",
    "print(loads75)\n",
    "print(most_recent_load_date75)\n",
    "# Manual Check\n",
    "# sorted_dts = sorted(list(df.most_recent_load_date))\n",
    "# quartile_estimate_index = int(len(sorted_dts)*0.75)\n",
    "# print(\"SORTED INDEX\", sorted_dts[quartile_estimate_index])"
   ]
  },
  {
   "cell_type": "code",
   "execution_count": 9,
   "metadata": {},
   "outputs": [],
   "source": [
    "new_labels = {\"label\": {}}\n",
    "for index, row in df.iterrows():\n",
    "    if row[\"loads\"] >= loads75 and row[\"most_recent_load_date\"] >= most_recent_load_date75:\n",
    "        df.at[index, \"label\"] = 1\n",
    "    else:\n",
    "        df.at[index, \"label\"] = 0"
   ]
  },
  {
   "cell_type": "code",
   "execution_count": 10,
   "metadata": {},
   "outputs": [
    {
     "data": {
      "text/plain": [
       "count    83414.000000\n",
       "mean         0.151389\n",
       "std          0.358430\n",
       "min          0.000000\n",
       "25%          0.000000\n",
       "50%          0.000000\n",
       "75%          0.000000\n",
       "max          1.000000\n",
       "Name: label, dtype: float64"
      ]
     },
     "execution_count": 10,
     "metadata": {},
     "output_type": "execute_result"
    }
   ],
   "source": [
    "df[\"label\"].describe()"
   ]
  },
  {
   "cell_type": "markdown",
   "metadata": {},
   "source": [
    "# 2. Drop some columns"
   ]
  },
  {
   "cell_type": "code",
   "execution_count": 11,
   "metadata": {},
   "outputs": [],
   "source": [
    "df = df.drop(columns=[\"loads\", \"most_recent_load_date\"])"
   ]
  },
  {
   "cell_type": "code",
   "execution_count": 12,
   "metadata": {},
   "outputs": [
    {
     "name": "stdout",
     "output_type": "stream",
     "text": [
      "<class 'pandas.core.frame.DataFrame'>\n",
      "RangeIndex: 83414 entries, 0 to 83413\n",
      "Data columns (total 35 columns):\n",
      " #   Column                    Non-Null Count  Dtype  \n",
      "---  ------                    --------------  -----  \n",
      " 0   TODO_FIND_COLUMN_NAME_1   83414 non-null  int64  \n",
      " 1   TODO_FIND_COLUMN_NAME_2   83414 non-null  int64  \n",
      " 2   dt                        83414 non-null  object \n",
      " 3   weekday                   83414 non-null  int64  \n",
      " 4   year                      83414 non-null  int64  \n",
      " 5   id_driver                 83414 non-null  int64  \n",
      " 6   id_carrier_number         83414 non-null  object \n",
      " 7   dim_carrier_type          83414 non-null  object \n",
      " 8   dim_carrier_company_name  83367 non-null  object \n",
      " 9   home_base_city            83370 non-null  object \n",
      " 10  home_base_state           83370 non-null  object \n",
      " 11  carrier_trucks            83414 non-null  object \n",
      " 12  num_trucks                83344 non-null  float64\n",
      " 13  interested_in_drayage     83414 non-null  object \n",
      " 14  port_qualified            83414 non-null  object \n",
      " 15  signup_source             83414 non-null  object \n",
      " 16  ts_signup                 83414 non-null  object \n",
      " 17  ts_first_approved         71128 non-null  object \n",
      " 18  days_signup_to_approval   71128 non-null  float64\n",
      " 19  driver_with_twic          83414 non-null  object \n",
      " 20  dim_preferred_lanes       3413 non-null   object \n",
      " 21  first_load_date           83414 non-null  object \n",
      " 22  load_day                  83414 non-null  object \n",
      " 23  marketplace_loads_otr     83414 non-null  int64  \n",
      " 24  marketplace_loads_atlas   83414 non-null  int64  \n",
      " 25  marketplace_loads         83414 non-null  int64  \n",
      " 26  brokerage_loads_otr       83414 non-null  int64  \n",
      " 27  brokerage_loads_atlas     83414 non-null  int64  \n",
      " 28  brokerage_loads           83414 non-null  int64  \n",
      " 29  total_loads               83414 non-null  int64  \n",
      " 30  date                      83414 non-null  object \n",
      " 31  period                    83414 non-null  int64  \n",
      " 32  recent_date               83414 non-null  object \n",
      " 33  test                      83414 non-null  int64  \n",
      " 34  label                     83414 non-null  int64  \n",
      "dtypes: float64(2), int64(15), object(18)\n",
      "memory usage: 22.3+ MB\n"
     ]
    }
   ],
   "source": [
    "df.info()"
   ]
  },
  {
   "cell_type": "markdown",
   "metadata": {},
   "source": [
    "# 3. Basic Statistics"
   ]
  },
  {
   "cell_type": "code",
   "execution_count": 24,
   "metadata": {},
   "outputs": [
    {
     "name": "stdout",
     "output_type": "stream",
     "text": [
      "TODO_FIND_COLUMN_NAME_1\n"
     ]
    },
    {
     "data": {
      "text/plain": [
       "TODO_FIND_COLUMN_NAME_1    1.000000\n",
       "test                       0.008487\n",
       "total_loads                0.006333\n",
       "brokerage_loads_atlas      0.006226\n",
       "year                       0.005173\n",
       "brokerage_loads            0.004806\n",
       "TODO_FIND_COLUMN_NAME_2    0.004687\n",
       "brokerage_loads_otr        0.004148\n",
       "marketplace_loads          0.004086\n",
       "label                      0.004053\n",
       "id_driver                  0.003574\n",
       "marketplace_loads_atlas    0.003147\n",
       "marketplace_loads_otr      0.002993\n",
       "weekday                   -0.000234\n",
       "num_trucks                -0.001336\n",
       "period                    -0.002320\n",
       "days_signup_to_approval   -0.006198\n",
       "Name: TODO_FIND_COLUMN_NAME_1, dtype: float64"
      ]
     },
     "metadata": {},
     "output_type": "display_data"
    },
    {
     "name": "stdout",
     "output_type": "stream",
     "text": [
      "---------------------------------------------------------------------\n",
      "TODO_FIND_COLUMN_NAME_2\n"
     ]
    },
    {
     "data": {
      "text/plain": [
       "TODO_FIND_COLUMN_NAME_2    1.000000\n",
       "year                       0.952673\n",
       "id_driver                  0.806792\n",
       "test                       0.797429\n",
       "label                      0.437907\n",
       "brokerage_loads_atlas      0.326287\n",
       "marketplace_loads_atlas    0.323367\n",
       "marketplace_loads          0.287983\n",
       "num_trucks                 0.127330\n",
       "total_loads                0.114012\n",
       "weekday                    0.057463\n",
       "period                     0.033965\n",
       "TODO_FIND_COLUMN_NAME_1    0.004687\n",
       "marketplace_loads_otr     -0.012446\n",
       "brokerage_loads           -0.038819\n",
       "brokerage_loads_otr       -0.071771\n",
       "days_signup_to_approval   -0.619662\n",
       "Name: TODO_FIND_COLUMN_NAME_2, dtype: float64"
      ]
     },
     "metadata": {},
     "output_type": "display_data"
    },
    {
     "name": "stdout",
     "output_type": "stream",
     "text": [
      "---------------------------------------------------------------------\n",
      "dt\n",
      "dt is not of type integer\n",
      "---------------------------------------------------------------------\n",
      "weekday\n"
     ]
    },
    {
     "data": {
      "text/plain": [
       "weekday                    1.000000\n",
       "period                     0.809551\n",
       "TODO_FIND_COLUMN_NAME_2    0.057463\n",
       "year                       0.055610\n",
       "id_driver                  0.053393\n",
       "test                       0.050116\n",
       "brokerage_loads_atlas      0.008955\n",
       "label                      0.007623\n",
       "marketplace_loads_otr      0.004377\n",
       "num_trucks                 0.001470\n",
       "marketplace_loads          0.001357\n",
       "TODO_FIND_COLUMN_NAME_1   -0.000234\n",
       "marketplace_loads_atlas   -0.000493\n",
       "total_loads               -0.017164\n",
       "brokerage_loads           -0.020757\n",
       "brokerage_loads_otr       -0.021558\n",
       "days_signup_to_approval   -0.053005\n",
       "Name: weekday, dtype: float64"
      ]
     },
     "metadata": {},
     "output_type": "display_data"
    },
    {
     "name": "stdout",
     "output_type": "stream",
     "text": [
      "---------------------------------------------------------------------\n",
      "year\n"
     ]
    },
    {
     "data": {
      "text/plain": [
       "year                       1.000000\n",
       "TODO_FIND_COLUMN_NAME_2    0.952673\n",
       "test                       0.821140\n",
       "id_driver                  0.784479\n",
       "label                      0.394704\n",
       "marketplace_loads_atlas    0.290073\n",
       "brokerage_loads_atlas      0.274956\n",
       "marketplace_loads          0.273890\n",
       "total_loads                0.117035\n",
       "num_trucks                 0.108146\n",
       "weekday                    0.055610\n",
       "period                     0.035109\n",
       "marketplace_loads_otr      0.026589\n",
       "TODO_FIND_COLUMN_NAME_1    0.005173\n",
       "brokerage_loads           -0.027475\n",
       "brokerage_loads_otr       -0.055271\n",
       "days_signup_to_approval   -0.644627\n",
       "Name: year, dtype: float64"
      ]
     },
     "metadata": {},
     "output_type": "display_data"
    },
    {
     "name": "stdout",
     "output_type": "stream",
     "text": [
      "---------------------------------------------------------------------\n",
      "id_driver\n"
     ]
    },
    {
     "data": {
      "text/plain": [
       "id_driver                  1.000000\n",
       "TODO_FIND_COLUMN_NAME_2    0.806792\n",
       "year                       0.784479\n",
       "test                       0.636926\n",
       "label                      0.325040\n",
       "brokerage_loads_atlas      0.280231\n",
       "marketplace_loads_atlas    0.253327\n",
       "marketplace_loads          0.191855\n",
       "num_trucks                 0.143885\n",
       "weekday                    0.053393\n",
       "period                     0.032009\n",
       "TODO_FIND_COLUMN_NAME_1    0.003574\n",
       "total_loads               -0.073022\n",
       "marketplace_loads_otr     -0.091652\n",
       "brokerage_loads           -0.192208\n",
       "brokerage_loads_otr       -0.219673\n",
       "days_signup_to_approval   -0.796913\n",
       "Name: id_driver, dtype: float64"
      ]
     },
     "metadata": {},
     "output_type": "display_data"
    },
    {
     "name": "stdout",
     "output_type": "stream",
     "text": [
      "---------------------------------------------------------------------\n",
      "id_carrier_number\n",
      "id_carrier_number is not of type integer\n",
      "---------------------------------------------------------------------\n",
      "dim_carrier_type\n",
      "dim_carrier_type is not of type integer\n",
      "---------------------------------------------------------------------\n",
      "dim_carrier_company_name\n",
      "dim_carrier_company_name is not of type integer\n",
      "---------------------------------------------------------------------\n",
      "home_base_city\n",
      "home_base_city is not of type integer\n",
      "---------------------------------------------------------------------\n",
      "home_base_state\n",
      "home_base_state is not of type integer\n",
      "---------------------------------------------------------------------\n",
      "carrier_trucks\n",
      "carrier_trucks is not of type integer\n",
      "---------------------------------------------------------------------\n",
      "num_trucks\n"
     ]
    },
    {
     "data": {
      "text/plain": [
       "num_trucks                 1.000000\n",
       "id_driver                  0.143885\n",
       "TODO_FIND_COLUMN_NAME_2    0.127330\n",
       "label                      0.115391\n",
       "year                       0.108146\n",
       "test                       0.092366\n",
       "days_signup_to_approval    0.051251\n",
       "weekday                    0.001470\n",
       "TODO_FIND_COLUMN_NAME_1   -0.001336\n",
       "period                    -0.015317\n",
       "brokerage_loads_otr       -0.050238\n",
       "brokerage_loads           -0.062842\n",
       "total_loads               -0.114414\n",
       "marketplace_loads_otr     -0.120234\n",
       "brokerage_loads_atlas     -0.120770\n",
       "marketplace_loads_atlas   -0.150238\n",
       "marketplace_loads         -0.185737\n",
       "Name: num_trucks, dtype: float64"
      ]
     },
     "metadata": {},
     "output_type": "display_data"
    },
    {
     "name": "stdout",
     "output_type": "stream",
     "text": [
      "---------------------------------------------------------------------\n",
      "interested_in_drayage\n",
      "interested_in_drayage is not of type integer\n",
      "---------------------------------------------------------------------\n",
      "port_qualified\n",
      "port_qualified is not of type integer\n",
      "---------------------------------------------------------------------\n",
      "signup_source\n",
      "signup_source is not of type integer\n",
      "---------------------------------------------------------------------\n",
      "ts_signup\n",
      "ts_signup is not of type integer\n",
      "---------------------------------------------------------------------\n",
      "ts_first_approved\n",
      "ts_first_approved is not of type integer\n",
      "---------------------------------------------------------------------\n",
      "days_signup_to_approval\n"
     ]
    },
    {
     "data": {
      "text/plain": [
       "days_signup_to_approval    1.000000\n",
       "brokerage_loads_otr        0.133629\n",
       "brokerage_loads            0.109760\n",
       "marketplace_loads_otr      0.085119\n",
       "num_trucks                 0.051251\n",
       "total_loads               -0.004422\n",
       "TODO_FIND_COLUMN_NAME_1   -0.006198\n",
       "period                    -0.037622\n",
       "weekday                   -0.053005\n",
       "marketplace_loads         -0.159411\n",
       "brokerage_loads_atlas     -0.188662\n",
       "marketplace_loads_atlas   -0.213705\n",
       "label                     -0.253444\n",
       "test                      -0.506173\n",
       "TODO_FIND_COLUMN_NAME_2   -0.619662\n",
       "year                      -0.644627\n",
       "id_driver                 -0.796913\n",
       "Name: days_signup_to_approval, dtype: float64"
      ]
     },
     "metadata": {},
     "output_type": "display_data"
    },
    {
     "name": "stdout",
     "output_type": "stream",
     "text": [
      "---------------------------------------------------------------------\n",
      "driver_with_twic\n",
      "driver_with_twic is not of type integer\n",
      "---------------------------------------------------------------------\n",
      "dim_preferred_lanes\n",
      "dim_preferred_lanes is not of type integer\n",
      "---------------------------------------------------------------------\n",
      "first_load_date\n",
      "first_load_date is not of type integer\n",
      "---------------------------------------------------------------------\n",
      "load_day\n",
      "load_day is not of type integer\n",
      "---------------------------------------------------------------------\n",
      "marketplace_loads_otr\n"
     ]
    },
    {
     "data": {
      "text/plain": [
       "marketplace_loads_otr      1.000000\n",
       "marketplace_loads          0.422470\n",
       "total_loads                0.180977\n",
       "test                       0.169268\n",
       "days_signup_to_approval    0.085119\n",
       "year                       0.026589\n",
       "marketplace_loads_atlas    0.011441\n",
       "period                     0.005105\n",
       "weekday                    0.004377\n",
       "TODO_FIND_COLUMN_NAME_1    0.002993\n",
       "TODO_FIND_COLUMN_NAME_2   -0.012446\n",
       "brokerage_loads_otr       -0.013174\n",
       "brokerage_loads           -0.019866\n",
       "label                     -0.030935\n",
       "brokerage_loads_atlas     -0.064830\n",
       "id_driver                 -0.091652\n",
       "num_trucks                -0.120234\n",
       "Name: marketplace_loads_otr, dtype: float64"
      ]
     },
     "metadata": {},
     "output_type": "display_data"
    },
    {
     "name": "stdout",
     "output_type": "stream",
     "text": [
      "---------------------------------------------------------------------\n",
      "marketplace_loads_atlas\n"
     ]
    },
    {
     "data": {
      "text/plain": [
       "marketplace_loads_atlas    1.000000\n",
       "marketplace_loads          0.911151\n",
       "brokerage_loads_atlas      0.409536\n",
       "label                      0.404792\n",
       "total_loads                0.360903\n",
       "TODO_FIND_COLUMN_NAME_2    0.323367\n",
       "test                       0.305477\n",
       "year                       0.290073\n",
       "id_driver                  0.253327\n",
       "marketplace_loads_otr      0.011441\n",
       "TODO_FIND_COLUMN_NAME_1    0.003147\n",
       "weekday                   -0.000493\n",
       "period                    -0.004086\n",
       "brokerage_loads           -0.078238\n",
       "brokerage_loads_otr       -0.119442\n",
       "num_trucks                -0.150238\n",
       "days_signup_to_approval   -0.213705\n",
       "Name: marketplace_loads_atlas, dtype: float64"
      ]
     },
     "metadata": {},
     "output_type": "display_data"
    },
    {
     "name": "stdout",
     "output_type": "stream",
     "text": [
      "---------------------------------------------------------------------\n",
      "marketplace_loads\n"
     ]
    },
    {
     "data": {
      "text/plain": [
       "marketplace_loads          1.000000\n",
       "marketplace_loads_atlas    0.911151\n",
       "marketplace_loads_otr      0.422470\n",
       "total_loads                0.401716\n",
       "label                      0.354169\n",
       "test                       0.346651\n",
       "brokerage_loads_atlas      0.344502\n",
       "TODO_FIND_COLUMN_NAME_2    0.287983\n",
       "year                       0.273890\n",
       "id_driver                  0.191855\n",
       "TODO_FIND_COLUMN_NAME_1    0.004086\n",
       "weekday                    0.001357\n",
       "period                    -0.001600\n",
       "brokerage_loads           -0.079104\n",
       "brokerage_loads_otr       -0.113695\n",
       "days_signup_to_approval   -0.159411\n",
       "num_trucks                -0.185737\n",
       "Name: marketplace_loads, dtype: float64"
      ]
     },
     "metadata": {},
     "output_type": "display_data"
    },
    {
     "name": "stdout",
     "output_type": "stream",
     "text": [
      "---------------------------------------------------------------------\n",
      "brokerage_loads_otr\n"
     ]
    },
    {
     "data": {
      "text/plain": [
       "brokerage_loads_otr        1.000000\n",
       "brokerage_loads            0.994824\n",
       "total_loads                0.859125\n",
       "days_signup_to_approval    0.133629\n",
       "label                      0.105394\n",
       "test                       0.064358\n",
       "TODO_FIND_COLUMN_NAME_1    0.004148\n",
       "marketplace_loads_otr     -0.013174\n",
       "period                    -0.014092\n",
       "weekday                   -0.021558\n",
       "num_trucks                -0.050238\n",
       "year                      -0.055271\n",
       "TODO_FIND_COLUMN_NAME_2   -0.071771\n",
       "brokerage_loads_atlas     -0.102448\n",
       "marketplace_loads         -0.113695\n",
       "marketplace_loads_atlas   -0.119442\n",
       "id_driver                 -0.219673\n",
       "Name: brokerage_loads_otr, dtype: float64"
      ]
     },
     "metadata": {},
     "output_type": "display_data"
    },
    {
     "name": "stdout",
     "output_type": "stream",
     "text": [
      "---------------------------------------------------------------------\n",
      "brokerage_loads_atlas\n"
     ]
    },
    {
     "data": {
      "text/plain": [
       "brokerage_loads_atlas      1.000000\n",
       "marketplace_loads_atlas    0.409536\n",
       "marketplace_loads          0.344502\n",
       "TODO_FIND_COLUMN_NAME_2    0.326287\n",
       "label                      0.320236\n",
       "id_driver                  0.280231\n",
       "year                       0.274956\n",
       "test                       0.263353\n",
       "total_loads                0.161382\n",
       "weekday                    0.008955\n",
       "TODO_FIND_COLUMN_NAME_1    0.006226\n",
       "period                     0.002716\n",
       "brokerage_loads           -0.000836\n",
       "marketplace_loads_otr     -0.064830\n",
       "brokerage_loads_otr       -0.102448\n",
       "num_trucks                -0.120770\n",
       "days_signup_to_approval   -0.188662\n",
       "Name: brokerage_loads_atlas, dtype: float64"
      ]
     },
     "metadata": {},
     "output_type": "display_data"
    },
    {
     "name": "stdout",
     "output_type": "stream",
     "text": [
      "---------------------------------------------------------------------\n",
      "brokerage_loads\n"
     ]
    },
    {
     "data": {
      "text/plain": [
       "brokerage_loads            1.000000\n",
       "brokerage_loads_otr        0.994824\n",
       "total_loads                0.880155\n",
       "label                      0.138665\n",
       "days_signup_to_approval    0.109760\n",
       "test                       0.091601\n",
       "TODO_FIND_COLUMN_NAME_1    0.004806\n",
       "brokerage_loads_atlas     -0.000836\n",
       "period                    -0.013889\n",
       "marketplace_loads_otr     -0.019866\n",
       "weekday                   -0.020757\n",
       "year                      -0.027475\n",
       "TODO_FIND_COLUMN_NAME_2   -0.038819\n",
       "num_trucks                -0.062842\n",
       "marketplace_loads_atlas   -0.078238\n",
       "marketplace_loads         -0.079104\n",
       "id_driver                 -0.192208\n",
       "Name: brokerage_loads, dtype: float64"
      ]
     },
     "metadata": {},
     "output_type": "display_data"
    },
    {
     "name": "stdout",
     "output_type": "stream",
     "text": [
      "---------------------------------------------------------------------\n",
      "total_loads\n"
     ]
    },
    {
     "data": {
      "text/plain": [
       "total_loads                1.000000\n",
       "brokerage_loads            0.880155\n",
       "brokerage_loads_otr        0.859125\n",
       "marketplace_loads          0.401716\n",
       "marketplace_loads_atlas    0.360903\n",
       "label                      0.306941\n",
       "test                       0.258779\n",
       "marketplace_loads_otr      0.180977\n",
       "brokerage_loads_atlas      0.161382\n",
       "year                       0.117035\n",
       "TODO_FIND_COLUMN_NAME_2    0.114012\n",
       "TODO_FIND_COLUMN_NAME_1    0.006333\n",
       "days_signup_to_approval   -0.004422\n",
       "period                    -0.013193\n",
       "weekday                   -0.017164\n",
       "id_driver                 -0.073022\n",
       "num_trucks                -0.114414\n",
       "Name: total_loads, dtype: float64"
      ]
     },
     "metadata": {},
     "output_type": "display_data"
    },
    {
     "name": "stdout",
     "output_type": "stream",
     "text": [
      "---------------------------------------------------------------------\n",
      "date\n",
      "date is not of type integer\n",
      "---------------------------------------------------------------------\n",
      "period\n"
     ]
    },
    {
     "data": {
      "text/plain": [
       "period                     1.000000\n",
       "weekday                    0.809551\n",
       "year                       0.035109\n",
       "TODO_FIND_COLUMN_NAME_2    0.033965\n",
       "id_driver                  0.032009\n",
       "test                       0.029367\n",
       "marketplace_loads_otr      0.005105\n",
       "brokerage_loads_atlas      0.002716\n",
       "marketplace_loads         -0.001600\n",
       "TODO_FIND_COLUMN_NAME_1   -0.002320\n",
       "marketplace_loads_atlas   -0.004086\n",
       "label                     -0.008951\n",
       "total_loads               -0.013193\n",
       "brokerage_loads           -0.013889\n",
       "brokerage_loads_otr       -0.014092\n",
       "num_trucks                -0.015317\n",
       "days_signup_to_approval   -0.037622\n",
       "Name: period, dtype: float64"
      ]
     },
     "metadata": {},
     "output_type": "display_data"
    },
    {
     "name": "stdout",
     "output_type": "stream",
     "text": [
      "---------------------------------------------------------------------\n",
      "recent_date\n",
      "recent_date is not of type integer\n",
      "---------------------------------------------------------------------\n",
      "test\n"
     ]
    },
    {
     "data": {
      "text/plain": [
       "test                       1.000000\n",
       "year                       0.821140\n",
       "TODO_FIND_COLUMN_NAME_2    0.797429\n",
       "id_driver                  0.636926\n",
       "label                      0.387200\n",
       "marketplace_loads          0.346651\n",
       "marketplace_loads_atlas    0.305477\n",
       "brokerage_loads_atlas      0.263353\n",
       "total_loads                0.258779\n",
       "marketplace_loads_otr      0.169268\n",
       "num_trucks                 0.092366\n",
       "brokerage_loads            0.091601\n",
       "brokerage_loads_otr        0.064358\n",
       "weekday                    0.050116\n",
       "period                     0.029367\n",
       "TODO_FIND_COLUMN_NAME_1    0.008487\n",
       "days_signup_to_approval   -0.506173\n",
       "Name: test, dtype: float64"
      ]
     },
     "metadata": {},
     "output_type": "display_data"
    },
    {
     "name": "stdout",
     "output_type": "stream",
     "text": [
      "---------------------------------------------------------------------\n",
      "label\n"
     ]
    },
    {
     "data": {
      "text/plain": [
       "label                      1.000000\n",
       "TODO_FIND_COLUMN_NAME_2    0.437907\n",
       "marketplace_loads_atlas    0.404792\n",
       "year                       0.394704\n",
       "test                       0.387200\n",
       "marketplace_loads          0.354169\n",
       "id_driver                  0.325040\n",
       "brokerage_loads_atlas      0.320236\n",
       "total_loads                0.306941\n",
       "brokerage_loads            0.138665\n",
       "num_trucks                 0.115391\n",
       "brokerage_loads_otr        0.105394\n",
       "weekday                    0.007623\n",
       "TODO_FIND_COLUMN_NAME_1    0.004053\n",
       "period                    -0.008951\n",
       "marketplace_loads_otr     -0.030935\n",
       "days_signup_to_approval   -0.253444\n",
       "Name: label, dtype: float64"
      ]
     },
     "metadata": {},
     "output_type": "display_data"
    },
    {
     "name": "stdout",
     "output_type": "stream",
     "text": [
      "---------------------------------------------------------------------\n"
     ]
    }
   ],
   "source": [
    "corr_matrix = df.corr()\n",
    "for col_name in (list(df.columns.values)):\n",
    "    try:\n",
    "        print(col_name)\n",
    "        display(corr_matrix[col_name].sort_values(ascending=False))\n",
    "        print('---------------------------------------------------------------------')\n",
    "    except:\n",
    "        print(\"{} is not of type integer\".format(col_name))\n",
    "        print('---------------------------------------------------------------------')"
   ]
  },
  {
   "cell_type": "markdown",
   "metadata": {},
   "source": [
    "It seems like weekday and period are highly correlated to each other and both don't have a significant impact on label, so we can drop them. \n",
    "\n",
    "Also year and TODO_FIND_COLUMN_NAME_2 and year are highly correlated and have a similar impact on label, so we could drop one? \n",
    "\n",
    "Is there really a need for brokerage_loads when it is so highly correlated to brokerage_loads_otr due to the vast majority of shipments being delivered over-the-road as compared to via ATLAS? \n",
    "\n",
    "I have the same question about total_loads due to the vast majority of loads being brokerage loads...\n",
    "\n",
    "I'm not sure what period (is it the time taken for the shipment?) is but it is highly correlated with weekday.\n",
    "\n",
    "I also don't know what test is but it is highly correlated with year.\n",
    "\n",
    "What's the point of having both year and date?\n",
    "\n",
    "We can remove the id_carrier_number column from this dataset as it is not relevant to predicting a label of 0 or 1 (When trying to find high performing drivers, we need to know their carrier number, so we can extract the id_carrier_number column for now...)\n",
    "\n",
    "We could one-hot-encode sign-up source and see its effect on labels.\n",
    "\n",
    "We can remove the ts_first_approved column because the date of approval shouldn't matter that much but instead the days_signup_to_approval matter.\n",
    "\n",
    "dim_preferred_lanes only has a few values so we can either remove the column or impute values.\n",
    "\n",
    "Also first_load_date, most_recent_load_date and load_day shouldn't matter much. Instead we can have values such as: number of days doing the job = most_recent_load_date - first_load_date\n",
    "AND\n",
    "days_from_last_load_to_today = todays_date - most_recent_load_date\n",
    "\n",
    "There are also a couple other features we need to impute."
   ]
  },
  {
   "cell_type": "markdown",
   "metadata": {},
   "source": [
    "# 4. Trying Some Feature Crosses"
   ]
  },
  {
   "cell_type": "code",
   "execution_count": 27,
   "metadata": {},
   "outputs": [
    {
     "data": {
      "text/plain": [
       "0        (City of Industry, CA)\n",
       "1             (Los Angeles, CA)\n",
       "2                 (Ontario, CA)\n",
       "3              (Long Beach, CA)\n",
       "4          (South El Monte, CA)\n",
       "                  ...          \n",
       "83409             (Seattle, WA)\n",
       "83410         (Los Angeles, CA)\n",
       "83411           (La Puente, CA)\n",
       "83412             (Phoenix, AZ)\n",
       "83413             (Compton, CA)\n",
       "Name: location, Length: 83414, dtype: object"
      ]
     },
     "metadata": {},
     "output_type": "display_data"
    }
   ],
   "source": [
    "df[\"location\"] = list(zip(df[\"home_base_city\"], df[\"home_base_state\"]))\n",
    "display(df[\"location\"])"
   ]
  },
  {
   "cell_type": "code",
   "execution_count": null,
   "metadata": {},
   "outputs": [],
   "source": []
  }
 ],
 "metadata": {
  "kernelspec": {
   "display_name": "Python 3",
   "language": "python",
   "name": "python3"
  },
  "language_info": {
   "codemirror_mode": {
    "name": "ipython",
    "version": 3
   },
   "file_extension": ".py",
   "mimetype": "text/x-python",
   "name": "python",
   "nbconvert_exporter": "python",
   "pygments_lexer": "ipython3",
   "version": "3.8.5"
  }
 },
 "nbformat": 4,
 "nbformat_minor": 4
}
